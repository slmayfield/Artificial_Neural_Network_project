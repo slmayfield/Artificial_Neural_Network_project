{
  "cells": [
    {
      "cell_type": "markdown",
      "metadata": {
        "id": "view-in-github",
        "colab_type": "text"
      },
      "source": [
        "<a href=\"https://colab.research.google.com/github/slmayfield/sqltestproject/blob/main/Module_5_Assignment_.ipynb\" target=\"_parent\"><img src=\"https://colab.research.google.com/assets/colab-badge.svg\" alt=\"Open In Colab\"/></a>"
      ]
    },
    {
      "cell_type": "code",
      "source": [
        "install.packages(\"googledrive\")\n",
        "install.packages(\"caret\")\n",
        "install.packages(\"ROCR\")\n",
        "install.packages(\"TTR\")\n",
        "install.packages(\"tidyverse\")\n",
        "install.packages(\"ggplot2\")\n",
        "install.packages(\"pROC\")\n",
        "install.packages(\"ROSE\")\n",
        "\n",
        "# create ROC curve plot\n",
        "library(pROC)\n",
        "library(caret)\n",
        "library(ROCR)\n",
        "library(\"googledrive\")\n",
        "library(TTR)\n",
        "library(tidyverse)\n",
        "library(ggplot2)\n",
        "library(ROSE)"
      ],
      "metadata": {
        "id": "-HUavOfVQZHL",
        "colab": {
          "base_uri": "https://localhost:8080/"
        },
        "outputId": "9df53a1a-1e6f-4c8a-c8ef-6a78cbc57a1f"
      },
      "execution_count": null,
      "outputs": [
        {
          "output_type": "stream",
          "name": "stderr",
          "text": [
            "Installing package into ‘/usr/local/lib/R/site-library’\n",
            "(as ‘lib’ is unspecified)\n",
            "\n",
            "Installing package into ‘/usr/local/lib/R/site-library’\n",
            "(as ‘lib’ is unspecified)\n",
            "\n",
            "also installing the dependencies ‘listenv’, ‘parallelly’, ‘future’, ‘globals’, ‘shape’, ‘future.apply’, ‘numDeriv’, ‘progressr’, ‘SQUAREM’, ‘diagram’, ‘lava’, ‘prodlim’, ‘proxy’, ‘iterators’, ‘Rcpp’, ‘clock’, ‘gower’, ‘hardhat’, ‘ipred’, ‘timeDate’, ‘e1071’, ‘foreach’, ‘ModelMetrics’, ‘plyr’, ‘pROC’, ‘recipes’, ‘reshape2’\n",
            "\n",
            "\n",
            "Installing package into ‘/usr/local/lib/R/site-library’\n",
            "(as ‘lib’ is unspecified)\n",
            "\n",
            "also installing the dependencies ‘bitops’, ‘gtools’, ‘caTools’, ‘gplots’\n",
            "\n",
            "\n",
            "Installing package into ‘/usr/local/lib/R/site-library’\n",
            "(as ‘lib’ is unspecified)\n",
            "\n",
            "also installing the dependencies ‘xts’, ‘zoo’\n",
            "\n",
            "\n",
            "Installing package into ‘/usr/local/lib/R/site-library’\n",
            "(as ‘lib’ is unspecified)\n",
            "\n",
            "also installing the dependencies ‘textshaping’, ‘conflicted’, ‘jsonlite’, ‘ragg’, ‘stringr’\n",
            "\n",
            "\n",
            "Warning message in install.packages(\"tidyverse\"):\n",
            "“installation of package ‘textshaping’ had non-zero exit status”\n",
            "Warning message in install.packages(\"tidyverse\"):\n",
            "“installation of package ‘ragg’ had non-zero exit status”\n",
            "Warning message in install.packages(\"tidyverse\"):\n",
            "“installation of package ‘tidyverse’ had non-zero exit status”\n",
            "Installing package into ‘/usr/local/lib/R/site-library’\n",
            "(as ‘lib’ is unspecified)\n",
            "\n",
            "Installing package into ‘/usr/local/lib/R/site-library’\n",
            "(as ‘lib’ is unspecified)\n",
            "\n",
            "Installing package into ‘/usr/local/lib/R/site-library’\n",
            "(as ‘lib’ is unspecified)\n",
            "\n",
            "Type 'citation(\"pROC\")' for a citation.\n",
            "\n",
            "\n",
            "Attaching package: ‘pROC’\n",
            "\n",
            "\n",
            "The following objects are masked from ‘package:stats’:\n",
            "\n",
            "    cov, smooth, var\n",
            "\n",
            "\n",
            "Loading required package: ggplot2\n",
            "\n",
            "Loading required package: lattice\n",
            "\n",
            "Warning message in system(\"timedatectl\", intern = TRUE):\n",
            "“running command 'timedatectl' had status 1”\n",
            "── \u001b[1mAttaching packages\u001b[22m ─────────────────────────────────────── tidyverse 1.3.1 ──\n",
            "\n",
            "\u001b[32m✔\u001b[39m \u001b[34mtibble \u001b[39m 3.2.1     \u001b[32m✔\u001b[39m \u001b[34mdplyr  \u001b[39m 1.1.1\n",
            "\u001b[32m✔\u001b[39m \u001b[34mtidyr  \u001b[39m 1.3.0     \u001b[32m✔\u001b[39m \u001b[34mstringr\u001b[39m 1.5.0\n",
            "\u001b[32m✔\u001b[39m \u001b[34mreadr  \u001b[39m 2.1.4     \u001b[32m✔\u001b[39m \u001b[34mforcats\u001b[39m 1.0.0\n",
            "\u001b[32m✔\u001b[39m \u001b[34mpurrr  \u001b[39m 1.0.1     \n",
            "\n",
            "── \u001b[1mConflicts\u001b[22m ────────────────────────────────────────── tidyverse_conflicts() ──\n",
            "\u001b[31m✖\u001b[39m \u001b[34mdplyr\u001b[39m::\u001b[32mfilter()\u001b[39m masks \u001b[34mstats\u001b[39m::filter()\n",
            "\u001b[31m✖\u001b[39m \u001b[34mdplyr\u001b[39m::\u001b[32mlag()\u001b[39m    masks \u001b[34mstats\u001b[39m::lag()\n",
            "\u001b[31m✖\u001b[39m \u001b[34mpurrr\u001b[39m::\u001b[32mlift()\u001b[39m   masks \u001b[34mcaret\u001b[39m::lift()\n",
            "\n",
            "Loaded ROSE 0.0-4\n",
            "\n",
            "\n"
          ]
        }
      ]
    },
    {
      "cell_type": "code",
      "execution_count": null,
      "metadata": {
        "id": "1l_bI6uzeHd7",
        "colab": {
          "base_uri": "https://localhost:8080/",
          "height": 1000
        },
        "outputId": "04dec46a-59f2-40fb-db4d-9aaf9e423725"
      },
      "outputs": [
        {
          "output_type": "display_data",
          "data": {
            "text/html": [
              "<table class=\"dataframe\">\n",
              "<caption>A data.frame: 6 × 19</caption>\n",
              "<thead>\n",
              "\t<tr><th></th><th scope=col>CLAIM</th><th scope=col>KIDSDRIV</th><th scope=col>AGE</th><th scope=col>HOMEKIDS</th><th scope=col>INCOME</th><th scope=col>HOMEOWN</th><th scope=col>MSTATUS</th><th scope=col>GENDER</th><th scope=col>EDUCATION</th><th scope=col>TRAVTIME</th><th scope=col>CAR_USE</th><th scope=col>BLUEBOOK</th><th scope=col>TWC</th><th scope=col>RED_CAR</th><th scope=col>CLM_BEF</th><th scope=col>REVOKED</th><th scope=col>MVR_PTS</th><th scope=col>CAR_AGE</th><th scope=col>URBANICITY</th></tr>\n",
              "\t<tr><th></th><th scope=col>&lt;int&gt;</th><th scope=col>&lt;int&gt;</th><th scope=col>&lt;int&gt;</th><th scope=col>&lt;int&gt;</th><th scope=col>&lt;int&gt;</th><th scope=col>&lt;int&gt;</th><th scope=col>&lt;int&gt;</th><th scope=col>&lt;int&gt;</th><th scope=col>&lt;int&gt;</th><th scope=col>&lt;int&gt;</th><th scope=col>&lt;int&gt;</th><th scope=col>&lt;int&gt;</th><th scope=col>&lt;int&gt;</th><th scope=col>&lt;int&gt;</th><th scope=col>&lt;int&gt;</th><th scope=col>&lt;int&gt;</th><th scope=col>&lt;int&gt;</th><th scope=col>&lt;int&gt;</th><th scope=col>&lt;int&gt;</th></tr>\n",
              "</thead>\n",
              "<tbody>\n",
              "\t<tr><th scope=row>1</th><td>0</td><td>0</td><td>60</td><td>0</td><td> 67349</td><td>0</td><td>0</td><td>0</td><td>1</td><td>14</td><td>0</td><td>14230</td><td>11</td><td>1</td><td>1</td><td>0</td><td>1</td><td>18</td><td>1</td></tr>\n",
              "\t<tr><th scope=row>2</th><td>0</td><td>0</td><td>43</td><td>0</td><td> 91449</td><td>1</td><td>0</td><td>0</td><td>0</td><td>22</td><td>1</td><td>14940</td><td> 1</td><td>1</td><td>0</td><td>0</td><td>0</td><td> 1</td><td>1</td></tr>\n",
              "\t<tr><th scope=row>3</th><td>0</td><td>0</td><td>35</td><td>1</td><td> 16039</td><td>1</td><td>1</td><td>1</td><td>0</td><td> 5</td><td>0</td><td> 4010</td><td> 4</td><td>0</td><td>1</td><td>0</td><td>1</td><td>10</td><td>1</td></tr>\n",
              "\t<tr><th scope=row>4</th><td>0</td><td>0</td><td>50</td><td>0</td><td>114986</td><td>1</td><td>1</td><td>1</td><td>1</td><td>36</td><td>0</td><td>18000</td><td> 1</td><td>0</td><td>1</td><td>1</td><td>1</td><td>17</td><td>1</td></tr>\n",
              "\t<tr><th scope=row>5</th><td>1</td><td>0</td><td>34</td><td>1</td><td>125301</td><td>0</td><td>0</td><td>1</td><td>1</td><td>46</td><td>1</td><td>17430</td><td> 1</td><td>0</td><td>0</td><td>0</td><td>0</td><td> 7</td><td>1</td></tr>\n",
              "\t<tr><th scope=row>6</th><td>0</td><td>0</td><td>54</td><td>0</td><td> 18755</td><td>0</td><td>1</td><td>1</td><td>0</td><td>33</td><td>0</td><td> 8780</td><td> 1</td><td>0</td><td>0</td><td>0</td><td>0</td><td> 1</td><td>1</td></tr>\n",
              "</tbody>\n",
              "</table>\n"
            ],
            "text/markdown": "\nA data.frame: 6 × 19\n\n| <!--/--> | CLAIM &lt;int&gt; | KIDSDRIV &lt;int&gt; | AGE &lt;int&gt; | HOMEKIDS &lt;int&gt; | INCOME &lt;int&gt; | HOMEOWN &lt;int&gt; | MSTATUS &lt;int&gt; | GENDER &lt;int&gt; | EDUCATION &lt;int&gt; | TRAVTIME &lt;int&gt; | CAR_USE &lt;int&gt; | BLUEBOOK &lt;int&gt; | TWC &lt;int&gt; | RED_CAR &lt;int&gt; | CLM_BEF &lt;int&gt; | REVOKED &lt;int&gt; | MVR_PTS &lt;int&gt; | CAR_AGE &lt;int&gt; | URBANICITY &lt;int&gt; |\n|---|---|---|---|---|---|---|---|---|---|---|---|---|---|---|---|---|---|---|---|\n| 1 | 0 | 0 | 60 | 0 |  67349 | 0 | 0 | 0 | 1 | 14 | 0 | 14230 | 11 | 1 | 1 | 0 | 1 | 18 | 1 |\n| 2 | 0 | 0 | 43 | 0 |  91449 | 1 | 0 | 0 | 0 | 22 | 1 | 14940 |  1 | 1 | 0 | 0 | 0 |  1 | 1 |\n| 3 | 0 | 0 | 35 | 1 |  16039 | 1 | 1 | 1 | 0 |  5 | 0 |  4010 |  4 | 0 | 1 | 0 | 1 | 10 | 1 |\n| 4 | 0 | 0 | 50 | 0 | 114986 | 1 | 1 | 1 | 1 | 36 | 0 | 18000 |  1 | 0 | 1 | 1 | 1 | 17 | 1 |\n| 5 | 1 | 0 | 34 | 1 | 125301 | 0 | 0 | 1 | 1 | 46 | 1 | 17430 |  1 | 0 | 0 | 0 | 0 |  7 | 1 |\n| 6 | 0 | 0 | 54 | 0 |  18755 | 0 | 1 | 1 | 0 | 33 | 0 |  8780 |  1 | 0 | 0 | 0 | 0 |  1 | 1 |\n\n",
            "text/latex": "A data.frame: 6 × 19\n\\begin{tabular}{r|lllllllllllllllllll}\n  & CLAIM & KIDSDRIV & AGE & HOMEKIDS & INCOME & HOMEOWN & MSTATUS & GENDER & EDUCATION & TRAVTIME & CAR\\_USE & BLUEBOOK & TWC & RED\\_CAR & CLM\\_BEF & REVOKED & MVR\\_PTS & CAR\\_AGE & URBANICITY\\\\\n  & <int> & <int> & <int> & <int> & <int> & <int> & <int> & <int> & <int> & <int> & <int> & <int> & <int> & <int> & <int> & <int> & <int> & <int> & <int>\\\\\n\\hline\n\t1 & 0 & 0 & 60 & 0 &  67349 & 0 & 0 & 0 & 1 & 14 & 0 & 14230 & 11 & 1 & 1 & 0 & 1 & 18 & 1\\\\\n\t2 & 0 & 0 & 43 & 0 &  91449 & 1 & 0 & 0 & 0 & 22 & 1 & 14940 &  1 & 1 & 0 & 0 & 0 &  1 & 1\\\\\n\t3 & 0 & 0 & 35 & 1 &  16039 & 1 & 1 & 1 & 0 &  5 & 0 &  4010 &  4 & 0 & 1 & 0 & 1 & 10 & 1\\\\\n\t4 & 0 & 0 & 50 & 0 & 114986 & 1 & 1 & 1 & 1 & 36 & 0 & 18000 &  1 & 0 & 1 & 1 & 1 & 17 & 1\\\\\n\t5 & 1 & 0 & 34 & 1 & 125301 & 0 & 0 & 1 & 1 & 46 & 1 & 17430 &  1 & 0 & 0 & 0 & 0 &  7 & 1\\\\\n\t6 & 0 & 0 & 54 & 0 &  18755 & 0 & 1 & 1 & 0 & 33 & 0 &  8780 &  1 & 0 & 0 & 0 & 0 &  1 & 1\\\\\n\\end{tabular}\n",
            "text/plain": [
              "  CLAIM KIDSDRIV AGE HOMEKIDS INCOME HOMEOWN MSTATUS GENDER EDUCATION TRAVTIME\n",
              "1 0     0        60  0         67349 0       0       0      1         14      \n",
              "2 0     0        43  0         91449 1       0       0      0         22      \n",
              "3 0     0        35  1         16039 1       1       1      0          5      \n",
              "4 0     0        50  0        114986 1       1       1      1         36      \n",
              "5 1     0        34  1        125301 0       0       1      1         46      \n",
              "6 0     0        54  0         18755 0       1       1      0         33      \n",
              "  CAR_USE BLUEBOOK TWC RED_CAR CLM_BEF REVOKED MVR_PTS CAR_AGE URBANICITY\n",
              "1 0       14230    11  1       1       0       1       18      1         \n",
              "2 1       14940     1  1       0       0       0        1      1         \n",
              "3 0        4010     4  0       1       0       1       10      1         \n",
              "4 0       18000     1  0       1       1       1       17      1         \n",
              "5 1       17430     1  0       0       0       0        7      1         \n",
              "6 0        8780     1  0       0       0       0        1      1         "
            ]
          },
          "metadata": {}
        },
        {
          "output_type": "stream",
          "name": "stdout",
          "text": [
            "'data.frame':\t7232 obs. of  19 variables:\n",
            " $ CLAIM     : int  0 0 0 0 1 0 1 1 0 1 ...\n",
            " $ KIDSDRIV  : int  0 0 0 0 0 0 1 0 0 0 ...\n",
            " $ AGE       : int  60 43 35 50 34 54 37 34 50 53 ...\n",
            " $ HOMEKIDS  : int  0 0 1 0 1 0 1 0 0 0 ...\n",
            " $ INCOME    : int  67349 91449 16039 114986 125301 18755 107961 62978 106952 77100 ...\n",
            " $ HOMEOWN   : int  0 1 1 1 0 0 1 0 0 0 ...\n",
            " $ MSTATUS   : int  0 0 1 1 0 1 1 0 0 0 ...\n",
            " $ GENDER    : int  0 0 1 1 1 1 0 1 0 1 ...\n",
            " $ EDUCATION : int  1 0 0 1 1 0 1 1 1 1 ...\n",
            " $ TRAVTIME  : int  14 22 5 36 46 33 44 34 48 15 ...\n",
            " $ CAR_USE   : int  0 1 0 0 1 0 1 0 1 0 ...\n",
            " $ BLUEBOOK  : int  14230 14940 4010 18000 17430 8780 16970 11200 18510 18300 ...\n",
            " $ TWC       : int  11 1 4 1 1 1 1 1 7 1 ...\n",
            " $ RED_CAR   : int  1 1 0 0 0 0 1 0 0 0 ...\n",
            " $ CLM_BEF   : int  1 0 1 1 0 0 1 0 0 0 ...\n",
            " $ REVOKED   : int  0 0 0 1 0 0 1 0 0 0 ...\n",
            " $ MVR_PTS   : int  1 0 1 1 0 0 1 0 1 0 ...\n",
            " $ CAR_AGE   : int  18 1 10 17 7 1 7 1 17 11 ...\n",
            " $ URBANICITY: int  1 1 1 1 1 1 1 1 0 1 ...\n"
          ]
        },
        {
          "output_type": "display_data",
          "data": {
            "text/plain": [
              "     CLAIM           KIDSDRIV           AGE           HOMEKIDS     \n",
              " Min.   :0.0000   Min.   :0.0000   Min.   :16.00   Min.   :0.0000  \n",
              " 1st Qu.:0.0000   1st Qu.:0.0000   1st Qu.:39.00   1st Qu.:0.0000  \n",
              " Median :0.0000   Median :0.0000   Median :45.00   Median :0.0000  \n",
              " Mean   :0.2638   Mean   :0.1189   Mean   :44.78   Mean   :0.3523  \n",
              " 3rd Qu.:1.0000   3rd Qu.:0.0000   3rd Qu.:51.00   3rd Qu.:1.0000  \n",
              " Max.   :1.0000   Max.   :1.0000   Max.   :81.00   Max.   :1.0000  \n",
              "     INCOME          HOMEOWN          MSTATUS           GENDER      \n",
              " Min.   :     0   Min.   :0.0000   Min.   :0.0000   Min.   :0.0000  \n",
              " 1st Qu.: 28117   1st Qu.:0.0000   1st Qu.:0.0000   1st Qu.:0.0000  \n",
              " Median : 54009   Median :1.0000   Median :1.0000   Median :1.0000  \n",
              " Mean   : 61912   Mean   :0.6632   Mean   :0.5979   Mean   :0.5365  \n",
              " 3rd Qu.: 86166   3rd Qu.:1.0000   3rd Qu.:1.0000   3rd Qu.:1.0000  \n",
              " Max.   :367030   Max.   :1.0000   Max.   :1.0000   Max.   :1.0000  \n",
              "   EDUCATION         TRAVTIME         CAR_USE          BLUEBOOK    \n",
              " Min.   :0.0000   Min.   :  5.00   Min.   :0.0000   Min.   : 1500  \n",
              " 1st Qu.:0.0000   1st Qu.: 23.00   1st Qu.:0.0000   1st Qu.: 9360  \n",
              " Median :1.0000   Median : 33.00   Median :0.0000   Median :14460  \n",
              " Mean   :0.5658   Mean   : 33.57   Mean   :0.3729   Mean   :15766  \n",
              " 3rd Qu.:1.0000   3rd Qu.: 44.00   3rd Qu.:1.0000   3rd Qu.:20870  \n",
              " Max.   :1.0000   Max.   :142.00   Max.   :1.0000   Max.   :69740  \n",
              "      TWC            RED_CAR          CLM_BEF         REVOKED      \n",
              " Min.   : 1.000   Min.   :0.0000   Min.   :0.000   Min.   :0.0000  \n",
              " 1st Qu.: 1.000   1st Qu.:0.0000   1st Qu.:0.000   1st Qu.:0.0000  \n",
              " Median : 4.000   Median :0.0000   Median :0.000   Median :0.0000  \n",
              " Mean   : 5.359   Mean   :0.2904   Mean   :0.385   Mean   :0.1231  \n",
              " 3rd Qu.: 7.000   3rd Qu.:1.0000   3rd Qu.:1.000   3rd Qu.:0.0000  \n",
              " Max.   :25.000   Max.   :1.0000   Max.   :1.000   Max.   :1.0000  \n",
              "    MVR_PTS          CAR_AGE        URBANICITY    \n",
              " Min.   :0.0000   Min.   :-3.00   Min.   :0.0000  \n",
              " 1st Qu.:0.0000   1st Qu.: 1.00   1st Qu.:1.0000  \n",
              " Median :1.0000   Median : 8.00   Median :1.0000  \n",
              " Mean   :0.5509   Mean   : 8.34   Mean   :0.7977  \n",
              " 3rd Qu.:1.0000   3rd Qu.:12.00   3rd Qu.:1.0000  \n",
              " Max.   :1.0000   Max.   :28.00   Max.   :1.0000  "
            ]
          },
          "metadata": {}
        }
      ],
      "source": [
        "insurancedf <- read.csv(\"insurance.csv\")\n",
        "\n",
        "# View the dataset\n",
        "head(insurancedf)\n",
        "\n",
        "# Check the structure of the dataset\n",
        "str(insurancedf)\n",
        "\n",
        "# Generate summary statistics for the variables in the dataset\n",
        "summary(insurancedf)"
      ]
    },
    {
      "cell_type": "code",
      "source": [
        "set.seed(42)\n",
        "#60-20 20% partition#\n",
        "Samples<-sample(seq(1,3),size=nrow (insurancedf),replace=TRUE, prob=c(0.6,0.2,0.2))\n",
        "train<-insurancedf[Samples==1,]\n",
        "validate<-insurancedf[Samples==2,]\n",
        "test<-insurancedf[Samples==3,]\n"
      ],
      "metadata": {
        "id": "7iHCr2cyNwJU"
      },
      "execution_count": null,
      "outputs": []
    },
    {
      "cell_type": "code",
      "source": [
        "summary(train)\n"
      ],
      "metadata": {
        "colab": {
          "base_uri": "https://localhost:8080/",
          "height": 656
        },
        "id": "o_5uq8NB0FNx",
        "outputId": "11182489-350f-488a-d222-bee8519d39e2"
      },
      "execution_count": null,
      "outputs": [
        {
          "output_type": "display_data",
          "data": {
            "text/plain": [
              "     CLAIM           KIDSDRIV           AGE           HOMEKIDS     \n",
              " Min.   :0.0000   Min.   :0.0000   Min.   :16.00   Min.   :0.0000  \n",
              " 1st Qu.:0.0000   1st Qu.:0.0000   1st Qu.:39.00   1st Qu.:0.0000  \n",
              " Median :0.0000   Median :0.0000   Median :45.00   Median :0.0000  \n",
              " Mean   :0.2675   Mean   :0.1181   Mean   :44.69   Mean   :0.3569  \n",
              " 3rd Qu.:1.0000   3rd Qu.:0.0000   3rd Qu.:51.00   3rd Qu.:1.0000  \n",
              " Max.   :1.0000   Max.   :1.0000   Max.   :76.00   Max.   :1.0000  \n",
              "     INCOME          HOMEOWN          MSTATUS           GENDER      \n",
              " Min.   :     0   Min.   :0.0000   Min.   :0.0000   Min.   :0.0000  \n",
              " 1st Qu.: 28299   1st Qu.:0.0000   1st Qu.:0.0000   1st Qu.:0.0000  \n",
              " Median : 53545   Median :1.0000   Median :1.0000   Median :1.0000  \n",
              " Mean   : 61638   Mean   :0.6667   Mean   :0.6028   Mean   :0.5394  \n",
              " 3rd Qu.: 86420   3rd Qu.:1.0000   3rd Qu.:1.0000   3rd Qu.:1.0000  \n",
              " Max.   :367030   Max.   :1.0000   Max.   :1.0000   Max.   :1.0000  \n",
              "   EDUCATION         TRAVTIME         CAR_USE          BLUEBOOK    \n",
              " Min.   :0.0000   Min.   :  5.00   Min.   :0.0000   Min.   : 1500  \n",
              " 1st Qu.:0.0000   1st Qu.: 22.00   1st Qu.:0.0000   1st Qu.: 9492  \n",
              " Median :1.0000   Median : 33.00   Median :0.0000   Median :14725  \n",
              " Mean   :0.5653   Mean   : 33.37   Mean   :0.3747   Mean   :15932  \n",
              " 3rd Qu.:1.0000   3rd Qu.: 44.00   3rd Qu.:1.0000   3rd Qu.:21160  \n",
              " Max.   :1.0000   Max.   :142.00   Max.   :1.0000   Max.   :65970  \n",
              "      TWC            RED_CAR          CLM_BEF          REVOKED      \n",
              " Min.   : 1.000   Min.   :0.0000   Min.   :0.0000   Min.   :0.0000  \n",
              " 1st Qu.: 1.000   1st Qu.:0.0000   1st Qu.:0.0000   1st Qu.:0.0000  \n",
              " Median : 4.000   Median :0.0000   Median :0.0000   Median :0.0000  \n",
              " Mean   : 5.364   Mean   :0.2869   Mean   :0.3907   Mean   :0.1274  \n",
              " 3rd Qu.: 7.000   3rd Qu.:1.0000   3rd Qu.:1.0000   3rd Qu.:0.0000  \n",
              " Max.   :25.000   Max.   :1.0000   Max.   :1.0000   Max.   :1.0000  \n",
              "    MVR_PTS          CAR_AGE         URBANICITY    \n",
              " Min.   :0.0000   Min.   :-3.000   Min.   :0.0000  \n",
              " 1st Qu.:0.0000   1st Qu.: 1.000   1st Qu.:1.0000  \n",
              " Median :1.0000   Median : 8.000   Median :1.0000  \n",
              " Mean   :0.5544   Mean   : 8.357   Mean   :0.8004  \n",
              " 3rd Qu.:1.0000   3rd Qu.:12.000   3rd Qu.:1.0000  \n",
              " Max.   :1.0000   Max.   :28.000   Max.   :1.0000  "
            ]
          },
          "metadata": {}
        }
      ]
    },
    {
      "cell_type": "code",
      "source": [
        "summary(validate)\n"
      ],
      "metadata": {
        "colab": {
          "base_uri": "https://localhost:8080/",
          "height": 624
        },
        "id": "X2sDIVTf0HOc",
        "outputId": "a6b0d36a-0b99-495c-f232-a2309a20a8d1"
      },
      "execution_count": null,
      "outputs": [
        {
          "output_type": "display_data",
          "data": {
            "text/plain": [
              "     CLAIM           KIDSDRIV           AGE           HOMEKIDS     \n",
              " Min.   :0.0000   Min.   :0.0000   Min.   :16.00   Min.   :0.0000  \n",
              " 1st Qu.:0.0000   1st Qu.:0.0000   1st Qu.:39.00   1st Qu.:0.0000  \n",
              " Median :0.0000   Median :0.0000   Median :45.00   Median :0.0000  \n",
              " Mean   :0.2476   Mean   :0.1323   Mean   :44.99   Mean   :0.3507  \n",
              " 3rd Qu.:0.0000   3rd Qu.:0.0000   3rd Qu.:51.00   3rd Qu.:1.0000  \n",
              " Max.   :1.0000   Max.   :1.0000   Max.   :80.00   Max.   :1.0000  \n",
              "     INCOME          HOMEOWN          MSTATUS           GENDER      \n",
              " Min.   :     0   Min.   :0.0000   Min.   :0.0000   Min.   :0.0000  \n",
              " 1st Qu.: 29156   1st Qu.:0.0000   1st Qu.:0.0000   1st Qu.:0.0000  \n",
              " Median : 54038   Median :1.0000   Median :1.0000   Median :1.0000  \n",
              " Mean   : 62904   Mean   :0.6689   Mean   :0.6031   Mean   :0.5278  \n",
              " 3rd Qu.: 85568   3rd Qu.:1.0000   3rd Qu.:1.0000   3rd Qu.:1.0000  \n",
              " Max.   :332339   Max.   :1.0000   Max.   :1.0000   Max.   :1.0000  \n",
              "   EDUCATION         TRAVTIME        CAR_USE          BLUEBOOK    \n",
              " Min.   :0.0000   Min.   : 5.00   Min.   :0.0000   Min.   : 1500  \n",
              " 1st Qu.:0.0000   1st Qu.:22.25   1st Qu.:0.0000   1st Qu.: 8938  \n",
              " Median :1.0000   Median :33.00   Median :0.0000   Median :14185  \n",
              " Mean   :0.5604   Mean   :33.28   Mean   :0.3765   Mean   :15611  \n",
              " 3rd Qu.:1.0000   3rd Qu.:43.00   3rd Qu.:1.0000   3rd Qu.:20638  \n",
              " Max.   :1.0000   Max.   :95.00   Max.   :1.0000   Max.   :69740  \n",
              "      TWC            RED_CAR          CLM_BEF          REVOKED      \n",
              " Min.   : 1.000   Min.   :0.0000   Min.   :0.0000   Min.   :0.0000  \n",
              " 1st Qu.: 1.000   1st Qu.:0.0000   1st Qu.:0.0000   1st Qu.:0.0000  \n",
              " Median : 5.000   Median :0.0000   Median :0.0000   Median :0.0000  \n",
              " Mean   : 5.402   Mean   :0.3033   Mean   :0.3731   Mean   :0.1187  \n",
              " 3rd Qu.: 7.000   3rd Qu.:1.0000   3rd Qu.:1.0000   3rd Qu.:0.0000  \n",
              " Max.   :21.000   Max.   :1.0000   Max.   :1.0000   Max.   :1.0000  \n",
              "    MVR_PTS          CAR_AGE         URBANICITY    \n",
              " Min.   :0.0000   Min.   : 1.000   Min.   :0.0000  \n",
              " 1st Qu.:0.0000   1st Qu.: 1.000   1st Qu.:1.0000  \n",
              " Median :1.0000   Median : 8.000   Median :1.0000  \n",
              " Mean   :0.5434   Mean   : 8.211   Mean   :0.7999  \n",
              " 3rd Qu.:1.0000   3rd Qu.:12.000   3rd Qu.:1.0000  \n",
              " Max.   :1.0000   Max.   :26.000   Max.   :1.0000  "
            ]
          },
          "metadata": {}
        }
      ]
    },
    {
      "cell_type": "code",
      "source": [
        "summary(test)"
      ],
      "metadata": {
        "colab": {
          "base_uri": "https://localhost:8080/",
          "height": 624
        },
        "id": "x6VcTDCA0HJT",
        "outputId": "b72abf18-c361-4056-84bd-c59f9d695e76"
      },
      "execution_count": null,
      "outputs": [
        {
          "output_type": "display_data",
          "data": {
            "text/plain": [
              "     CLAIM           KIDSDRIV           AGE           HOMEKIDS     \n",
              " Min.   :0.0000   Min.   :0.0000   Min.   :19.00   Min.   :0.0000  \n",
              " 1st Qu.:0.0000   1st Qu.:0.0000   1st Qu.:39.00   1st Qu.:0.0000  \n",
              " Median :0.0000   Median :0.0000   Median :45.00   Median :0.0000  \n",
              " Mean   :0.2694   Mean   :0.1076   Mean   :44.85   Mean   :0.3403  \n",
              " 3rd Qu.:1.0000   3rd Qu.:0.0000   3rd Qu.:51.00   3rd Qu.:1.0000  \n",
              " Max.   :1.0000   Max.   :1.0000   Max.   :81.00   Max.   :1.0000  \n",
              "     INCOME          HOMEOWN          MSTATUS           GENDER      \n",
              " Min.   :     0   Min.   :0.0000   Min.   :0.0000   Min.   :0.0000  \n",
              " 1st Qu.: 27002   1st Qu.:0.0000   1st Qu.:0.0000   1st Qu.:0.0000  \n",
              " Median : 55129   Median :1.0000   Median :1.0000   Median :1.0000  \n",
              " Mean   : 61717   Mean   :0.6465   Mean   :0.5778   Mean   :0.5368  \n",
              " 3rd Qu.: 85548   3rd Qu.:1.0000   3rd Qu.:1.0000   3rd Qu.:1.0000  \n",
              " Max.   :297435   Max.   :1.0000   Max.   :1.0000   Max.   :1.0000  \n",
              "   EDUCATION         TRAVTIME         CAR_USE          BLUEBOOK    \n",
              " Min.   :0.0000   Min.   :  5.00   Min.   :0.0000   Min.   : 1500  \n",
              " 1st Qu.:0.0000   1st Qu.: 24.00   1st Qu.:0.0000   1st Qu.: 9345  \n",
              " Median :1.0000   Median : 34.00   Median :0.0000   Median :14275  \n",
              " Mean   :0.5729   Mean   : 34.47   Mean   :0.3639   Mean   :15429  \n",
              " 3rd Qu.:1.0000   3rd Qu.: 44.00   3rd Qu.:1.0000   3rd Qu.:20395  \n",
              " Max.   :1.0000   Max.   :113.00   Max.   :1.0000   Max.   :46610  \n",
              "      TWC            RED_CAR          CLM_BEF          REVOKED      \n",
              " Min.   : 1.000   Min.   :0.0000   Min.   :0.0000   Min.   :0.0000  \n",
              " 1st Qu.: 1.000   1st Qu.:0.0000   1st Qu.:0.0000   1st Qu.:0.0000  \n",
              " Median : 4.000   Median :0.0000   Median :0.0000   Median :0.0000  \n",
              " Mean   : 5.299   Mean   :0.2875   Mean   :0.3799   Mean   :0.1146  \n",
              " 3rd Qu.: 7.000   3rd Qu.:1.0000   3rd Qu.:1.0000   3rd Qu.:0.0000  \n",
              " Max.   :21.000   Max.   :1.0000   Max.   :1.0000   Max.   :1.0000  \n",
              "    MVR_PTS          CAR_AGE         URBANICITY    \n",
              " Min.   :0.0000   Min.   : 1.000   Min.   :0.0000  \n",
              " 1st Qu.:0.0000   1st Qu.: 3.000   1st Qu.:1.0000  \n",
              " Median :1.0000   Median : 8.000   Median :1.0000  \n",
              " Mean   :0.5479   Mean   : 8.422   Mean   :0.7875  \n",
              " 3rd Qu.:1.0000   3rd Qu.:13.000   3rd Qu.:1.0000  \n",
              " Max.   :1.0000   Max.   :27.000   Max.   :1.0000  "
            ]
          },
          "metadata": {}
        }
      ]
    },
    {
      "cell_type": "code",
      "source": [
        "xsdf<-train[c(-1)]\n",
        "xsdf"
      ],
      "metadata": {
        "colab": {
          "base_uri": "https://localhost:8080/",
          "height": 1000
        },
        "id": "haWV9ncf0O_y",
        "outputId": "b10ff8a7-b61b-4ccb-d978-99ba327f23f5"
      },
      "execution_count": null,
      "outputs": [
        {
          "output_type": "display_data",
          "data": {
            "text/html": [
              "<table class=\"dataframe\">\n",
              "<caption>A data.frame: 4318 × 18</caption>\n",
              "<thead>\n",
              "\t<tr><th></th><th scope=col>KIDSDRIV</th><th scope=col>AGE</th><th scope=col>HOMEKIDS</th><th scope=col>INCOME</th><th scope=col>HOMEOWN</th><th scope=col>MSTATUS</th><th scope=col>GENDER</th><th scope=col>EDUCATION</th><th scope=col>TRAVTIME</th><th scope=col>CAR_USE</th><th scope=col>BLUEBOOK</th><th scope=col>TWC</th><th scope=col>RED_CAR</th><th scope=col>CLM_BEF</th><th scope=col>REVOKED</th><th scope=col>MVR_PTS</th><th scope=col>CAR_AGE</th><th scope=col>URBANICITY</th></tr>\n",
              "\t<tr><th></th><th scope=col>&lt;int&gt;</th><th scope=col>&lt;int&gt;</th><th scope=col>&lt;int&gt;</th><th scope=col>&lt;int&gt;</th><th scope=col>&lt;int&gt;</th><th scope=col>&lt;int&gt;</th><th scope=col>&lt;int&gt;</th><th scope=col>&lt;int&gt;</th><th scope=col>&lt;int&gt;</th><th scope=col>&lt;int&gt;</th><th scope=col>&lt;int&gt;</th><th scope=col>&lt;int&gt;</th><th scope=col>&lt;int&gt;</th><th scope=col>&lt;int&gt;</th><th scope=col>&lt;int&gt;</th><th scope=col>&lt;int&gt;</th><th scope=col>&lt;int&gt;</th><th scope=col>&lt;int&gt;</th></tr>\n",
              "</thead>\n",
              "<tbody>\n",
              "\t<tr><th scope=row>3</th><td>0</td><td>35</td><td>1</td><td> 16039</td><td>1</td><td>1</td><td>1</td><td>0</td><td> 5</td><td>0</td><td> 4010</td><td> 4</td><td>0</td><td>1</td><td>0</td><td>1</td><td>10</td><td>1</td></tr>\n",
              "\t<tr><th scope=row>6</th><td>0</td><td>54</td><td>0</td><td> 18755</td><td>0</td><td>1</td><td>1</td><td>0</td><td>33</td><td>0</td><td> 8780</td><td> 1</td><td>0</td><td>0</td><td>0</td><td>0</td><td> 1</td><td>1</td></tr>\n",
              "\t<tr><th scope=row>8</th><td>0</td><td>34</td><td>0</td><td> 62978</td><td>0</td><td>0</td><td>1</td><td>1</td><td>34</td><td>0</td><td>11200</td><td> 1</td><td>0</td><td>0</td><td>0</td><td>0</td><td> 1</td><td>1</td></tr>\n",
              "\t<tr><th scope=row>11</th><td>0</td><td>43</td><td>0</td><td> 52642</td><td>1</td><td>1</td><td>1</td><td>1</td><td>36</td><td>0</td><td>22420</td><td> 7</td><td>0</td><td>0</td><td>0</td><td>0</td><td> 1</td><td>0</td></tr>\n",
              "\t<tr><th scope=row>14</th><td>0</td><td>45</td><td>0</td><td>     0</td><td>1</td><td>1</td><td>1</td><td>0</td><td>48</td><td>0</td><td> 6000</td><td> 1</td><td>0</td><td>0</td><td>0</td><td>1</td><td> 5</td><td>1</td></tr>\n",
              "\t<tr><th scope=row>15</th><td>0</td><td>39</td><td>1</td><td> 51884</td><td>1</td><td>0</td><td>1</td><td>1</td><td>43</td><td>0</td><td>10590</td><td> 6</td><td>0</td><td>0</td><td>0</td><td>0</td><td>13</td><td>0</td></tr>\n",
              "\t<tr><th scope=row>18</th><td>0</td><td>31</td><td>1</td><td> 18903</td><td>1</td><td>1</td><td>1</td><td>0</td><td>48</td><td>0</td><td>17330</td><td> 4</td><td>0</td><td>0</td><td>0</td><td>0</td><td> 7</td><td>1</td></tr>\n",
              "\t<tr><th scope=row>19</th><td>0</td><td>28</td><td>1</td><td> 44077</td><td>1</td><td>1</td><td>1</td><td>0</td><td>29</td><td>1</td><td> 8710</td><td> 6</td><td>0</td><td>1</td><td>0</td><td>0</td><td> 1</td><td>1</td></tr>\n",
              "\t<tr><th scope=row>20</th><td>0</td><td>43</td><td>0</td><td> 37214</td><td>0</td><td>1</td><td>0</td><td>0</td><td>52</td><td>1</td><td>26560</td><td> 1</td><td>1</td><td>0</td><td>0</td><td>1</td><td> 1</td><td>1</td></tr>\n",
              "\t<tr><th scope=row>22</th><td>0</td><td>47</td><td>0</td><td> 46281</td><td>0</td><td>0</td><td>1</td><td>0</td><td>29</td><td>0</td><td>19700</td><td>10</td><td>0</td><td>0</td><td>0</td><td>1</td><td> 5</td><td>1</td></tr>\n",
              "\t<tr><th scope=row>25</th><td>0</td><td>32</td><td>1</td><td> 31275</td><td>1</td><td>1</td><td>1</td><td>0</td><td>26</td><td>0</td><td>10030</td><td> 1</td><td>0</td><td>0</td><td>0</td><td>0</td><td> 1</td><td>1</td></tr>\n",
              "\t<tr><th scope=row>26</th><td>1</td><td>44</td><td>1</td><td> 45488</td><td>1</td><td>1</td><td>0</td><td>1</td><td>16</td><td>0</td><td>22090</td><td>17</td><td>0</td><td>0</td><td>0</td><td>0</td><td>12</td><td>1</td></tr>\n",
              "\t<tr><th scope=row>27</th><td>0</td><td>35</td><td>0</td><td> 72193</td><td>0</td><td>0</td><td>1</td><td>1</td><td>26</td><td>0</td><td>12220</td><td> 6</td><td>0</td><td>0</td><td>0</td><td>1</td><td>12</td><td>1</td></tr>\n",
              "\t<tr><th scope=row>29</th><td>0</td><td>52</td><td>0</td><td> 51278</td><td>1</td><td>1</td><td>1</td><td>1</td><td>37</td><td>0</td><td> 1500</td><td> 4</td><td>0</td><td>0</td><td>0</td><td>1</td><td>10</td><td>1</td></tr>\n",
              "\t<tr><th scope=row>33</th><td>0</td><td>49</td><td>0</td><td>115044</td><td>1</td><td>0</td><td>1</td><td>1</td><td>18</td><td>0</td><td>17900</td><td> 1</td><td>0</td><td>0</td><td>0</td><td>0</td><td>14</td><td>1</td></tr>\n",
              "\t<tr><th scope=row>35</th><td>0</td><td>43</td><td>1</td><td>145353</td><td>1</td><td>1</td><td>1</td><td>1</td><td>38</td><td>1</td><td>29450</td><td> 6</td><td>0</td><td>0</td><td>0</td><td>0</td><td>15</td><td>1</td></tr>\n",
              "\t<tr><th scope=row>37</th><td>0</td><td>52</td><td>0</td><td>     0</td><td>1</td><td>0</td><td>1</td><td>0</td><td>48</td><td>1</td><td> 9280</td><td> 1</td><td>0</td><td>0</td><td>0</td><td>1</td><td> 6</td><td>0</td></tr>\n",
              "\t<tr><th scope=row>38</th><td>0</td><td>35</td><td>0</td><td> 14508</td><td>0</td><td>1</td><td>0</td><td>1</td><td>22</td><td>1</td><td> 6450</td><td> 1</td><td>0</td><td>0</td><td>0</td><td>0</td><td> 7</td><td>1</td></tr>\n",
              "\t<tr><th scope=row>41</th><td>0</td><td>40</td><td>0</td><td> 57474</td><td>1</td><td>1</td><td>0</td><td>1</td><td> 5</td><td>1</td><td>29270</td><td> 4</td><td>1</td><td>0</td><td>0</td><td>1</td><td> 5</td><td>1</td></tr>\n",
              "\t<tr><th scope=row>42</th><td>0</td><td>31</td><td>1</td><td> 26520</td><td>1</td><td>1</td><td>0</td><td>1</td><td>62</td><td>1</td><td> 4600</td><td> 6</td><td>1</td><td>0</td><td>0</td><td>1</td><td> 5</td><td>1</td></tr>\n",
              "\t<tr><th scope=row>43</th><td>0</td><td>53</td><td>0</td><td>107259</td><td>1</td><td>1</td><td>0</td><td>1</td><td>36</td><td>0</td><td>29230</td><td>10</td><td>1</td><td>0</td><td>0</td><td>0</td><td>15</td><td>1</td></tr>\n",
              "\t<tr><th scope=row>45</th><td>0</td><td>33</td><td>1</td><td> 32364</td><td>1</td><td>1</td><td>0</td><td>0</td><td>40</td><td>0</td><td>12270</td><td>18</td><td>1</td><td>0</td><td>0</td><td>1</td><td> 1</td><td>1</td></tr>\n",
              "\t<tr><th scope=row>51</th><td>0</td><td>33</td><td>1</td><td> 20822</td><td>1</td><td>1</td><td>1</td><td>0</td><td>46</td><td>0</td><td> 6880</td><td>13</td><td>0</td><td>1</td><td>0</td><td>0</td><td> 1</td><td>1</td></tr>\n",
              "\t<tr><th scope=row>52</th><td>0</td><td>32</td><td>1</td><td> 54968</td><td>1</td><td>1</td><td>1</td><td>0</td><td>20</td><td>0</td><td>10040</td><td> 4</td><td>0</td><td>0</td><td>1</td><td>0</td><td> 8</td><td>1</td></tr>\n",
              "\t<tr><th scope=row>53</th><td>0</td><td>34</td><td>0</td><td> 14194</td><td>1</td><td>0</td><td>1</td><td>0</td><td>13</td><td>0</td><td> 2920</td><td> 4</td><td>0</td><td>1</td><td>1</td><td>1</td><td>10</td><td>1</td></tr>\n",
              "\t<tr><th scope=row>55</th><td>1</td><td>43</td><td>1</td><td>137103</td><td>0</td><td>0</td><td>1</td><td>1</td><td>29</td><td>0</td><td>19510</td><td> 1</td><td>0</td><td>1</td><td>0</td><td>0</td><td>15</td><td>1</td></tr>\n",
              "\t<tr><th scope=row>58</th><td>0</td><td>63</td><td>0</td><td> 74426</td><td>0</td><td>0</td><td>1</td><td>1</td><td>11</td><td>0</td><td>27600</td><td> 1</td><td>0</td><td>0</td><td>0</td><td>0</td><td>18</td><td>1</td></tr>\n",
              "\t<tr><th scope=row>59</th><td>0</td><td>44</td><td>0</td><td> 74722</td><td>1</td><td>1</td><td>1</td><td>1</td><td> 9</td><td>0</td><td>23640</td><td> 6</td><td>0</td><td>0</td><td>0</td><td>0</td><td> 1</td><td>1</td></tr>\n",
              "\t<tr><th scope=row>60</th><td>1</td><td>45</td><td>1</td><td>102393</td><td>0</td><td>0</td><td>0</td><td>1</td><td>25</td><td>0</td><td> 1500</td><td> 1</td><td>1</td><td>0</td><td>0</td><td>1</td><td>11</td><td>1</td></tr>\n",
              "\t<tr><th scope=row>64</th><td>0</td><td>44</td><td>1</td><td>139330</td><td>1</td><td>0</td><td>1</td><td>0</td><td>35</td><td>1</td><td>22050</td><td>10</td><td>0</td><td>0</td><td>0</td><td>0</td><td> 1</td><td>0</td></tr>\n",
              "\t<tr><th scope=row>⋮</th><td>⋮</td><td>⋮</td><td>⋮</td><td>⋮</td><td>⋮</td><td>⋮</td><td>⋮</td><td>⋮</td><td>⋮</td><td>⋮</td><td>⋮</td><td>⋮</td><td>⋮</td><td>⋮</td><td>⋮</td><td>⋮</td><td>⋮</td><td>⋮</td></tr>\n",
              "\t<tr><th scope=row>7185</th><td>0</td><td>35</td><td>1</td><td> 50971</td><td>1</td><td>1</td><td>1</td><td>1</td><td>10</td><td>0</td><td> 7180</td><td> 7</td><td>0</td><td>1</td><td>0</td><td>1</td><td>13</td><td>1</td></tr>\n",
              "\t<tr><th scope=row>7187</th><td>0</td><td>50</td><td>0</td><td> 37546</td><td>1</td><td>1</td><td>1</td><td>0</td><td>41</td><td>0</td><td> 6120</td><td> 7</td><td>0</td><td>0</td><td>0</td><td>0</td><td> 1</td><td>1</td></tr>\n",
              "\t<tr><th scope=row>7190</th><td>0</td><td>39</td><td>0</td><td> 47458</td><td>0</td><td>0</td><td>1</td><td>1</td><td>42</td><td>0</td><td>20270</td><td> 1</td><td>0</td><td>1</td><td>0</td><td>1</td><td>11</td><td>1</td></tr>\n",
              "\t<tr><th scope=row>7191</th><td>0</td><td>50</td><td>0</td><td> 16074</td><td>0</td><td>0</td><td>1</td><td>0</td><td>53</td><td>0</td><td>13420</td><td>10</td><td>0</td><td>1</td><td>0</td><td>1</td><td> 1</td><td>1</td></tr>\n",
              "\t<tr><th scope=row>7193</th><td>0</td><td>56</td><td>0</td><td>   571</td><td>1</td><td>1</td><td>0</td><td>0</td><td>41</td><td>0</td><td> 5670</td><td>14</td><td>0</td><td>0</td><td>0</td><td>1</td><td> 6</td><td>0</td></tr>\n",
              "\t<tr><th scope=row>7195</th><td>0</td><td>49</td><td>0</td><td>106231</td><td>1</td><td>1</td><td>1</td><td>1</td><td>12</td><td>0</td><td>28110</td><td> 6</td><td>0</td><td>0</td><td>0</td><td>0</td><td>15</td><td>1</td></tr>\n",
              "\t<tr><th scope=row>7196</th><td>0</td><td>34</td><td>1</td><td>121861</td><td>1</td><td>1</td><td>1</td><td>1</td><td>32</td><td>0</td><td>15090</td><td> 4</td><td>0</td><td>0</td><td>0</td><td>0</td><td> 1</td><td>1</td></tr>\n",
              "\t<tr><th scope=row>7197</th><td>1</td><td>37</td><td>1</td><td> 23048</td><td>1</td><td>1</td><td>1</td><td>0</td><td>13</td><td>1</td><td>20850</td><td> 4</td><td>0</td><td>0</td><td>0</td><td>1</td><td> 9</td><td>1</td></tr>\n",
              "\t<tr><th scope=row>7198</th><td>1</td><td>56</td><td>1</td><td>176849</td><td>1</td><td>1</td><td>1</td><td>1</td><td>37</td><td>1</td><td>26470</td><td> 4</td><td>0</td><td>0</td><td>0</td><td>0</td><td> 6</td><td>1</td></tr>\n",
              "\t<tr><th scope=row>7199</th><td>0</td><td>38</td><td>0</td><td>118057</td><td>1</td><td>1</td><td>1</td><td>1</td><td>31</td><td>0</td><td>19390</td><td> 1</td><td>0</td><td>0</td><td>0</td><td>0</td><td> 9</td><td>1</td></tr>\n",
              "\t<tr><th scope=row>7201</th><td>0</td><td>45</td><td>0</td><td> 63357</td><td>0</td><td>0</td><td>0</td><td>0</td><td>67</td><td>1</td><td>17460</td><td> 1</td><td>1</td><td>0</td><td>0</td><td>1</td><td> 1</td><td>1</td></tr>\n",
              "\t<tr><th scope=row>7203</th><td>1</td><td>46</td><td>0</td><td> 35362</td><td>0</td><td>0</td><td>0</td><td>0</td><td>42</td><td>1</td><td>17970</td><td>11</td><td>0</td><td>1</td><td>1</td><td>1</td><td> 7</td><td>1</td></tr>\n",
              "\t<tr><th scope=row>7205</th><td>0</td><td>47</td><td>0</td><td>112264</td><td>0</td><td>0</td><td>0</td><td>1</td><td>44</td><td>1</td><td>24020</td><td> 1</td><td>1</td><td>1</td><td>1</td><td>1</td><td>20</td><td>1</td></tr>\n",
              "\t<tr><th scope=row>7206</th><td>0</td><td>47</td><td>0</td><td>282198</td><td>1</td><td>0</td><td>0</td><td>1</td><td>32</td><td>1</td><td>34420</td><td>11</td><td>1</td><td>0</td><td>1</td><td>1</td><td>16</td><td>1</td></tr>\n",
              "\t<tr><th scope=row>7207</th><td>0</td><td>43</td><td>0</td><td>     0</td><td>1</td><td>1</td><td>1</td><td>1</td><td>29</td><td>0</td><td>24030</td><td> 9</td><td>0</td><td>1</td><td>0</td><td>0</td><td>14</td><td>1</td></tr>\n",
              "\t<tr><th scope=row>7209</th><td>0</td><td>46</td><td>0</td><td> 68360</td><td>1</td><td>0</td><td>0</td><td>1</td><td>49</td><td>1</td><td>12940</td><td> 1</td><td>0</td><td>1</td><td>0</td><td>1</td><td>11</td><td>1</td></tr>\n",
              "\t<tr><th scope=row>7210</th><td>1</td><td>46</td><td>0</td><td> 84667</td><td>1</td><td>1</td><td>1</td><td>1</td><td>56</td><td>1</td><td>35050</td><td> 1</td><td>0</td><td>0</td><td>0</td><td>0</td><td> 7</td><td>1</td></tr>\n",
              "\t<tr><th scope=row>7214</th><td>0</td><td>49</td><td>0</td><td> 60049</td><td>1</td><td>0</td><td>1</td><td>0</td><td>21</td><td>0</td><td> 6200</td><td> 1</td><td>0</td><td>0</td><td>0</td><td>0</td><td> 1</td><td>0</td></tr>\n",
              "\t<tr><th scope=row>7216</th><td>0</td><td>36</td><td>1</td><td>131335</td><td>1</td><td>0</td><td>1</td><td>1</td><td>10</td><td>0</td><td>28490</td><td> 1</td><td>0</td><td>0</td><td>0</td><td>0</td><td> 4</td><td>0</td></tr>\n",
              "\t<tr><th scope=row>7217</th><td>0</td><td>38</td><td>1</td><td> 83458</td><td>1</td><td>0</td><td>1</td><td>1</td><td>23</td><td>0</td><td>28260</td><td> 6</td><td>0</td><td>1</td><td>0</td><td>1</td><td> 9</td><td>1</td></tr>\n",
              "\t<tr><th scope=row>7218</th><td>0</td><td>41</td><td>0</td><td> 92185</td><td>1</td><td>1</td><td>0</td><td>0</td><td>24</td><td>0</td><td> 1500</td><td>11</td><td>1</td><td>0</td><td>0</td><td>0</td><td>10</td><td>1</td></tr>\n",
              "\t<tr><th scope=row>7219</th><td>0</td><td>60</td><td>0</td><td> 19796</td><td>1</td><td>0</td><td>1</td><td>1</td><td>33</td><td>0</td><td>21690</td><td> 1</td><td>0</td><td>1</td><td>0</td><td>1</td><td> 1</td><td>1</td></tr>\n",
              "\t<tr><th scope=row>7220</th><td>0</td><td>45</td><td>0</td><td> 52966</td><td>0</td><td>0</td><td>0</td><td>0</td><td>16</td><td>1</td><td>11300</td><td> 6</td><td>1</td><td>1</td><td>1</td><td>1</td><td> 1</td><td>1</td></tr>\n",
              "\t<tr><th scope=row>7222</th><td>0</td><td>54</td><td>0</td><td> 62060</td><td>1</td><td>1</td><td>0</td><td>0</td><td>51</td><td>0</td><td> 1500</td><td> 6</td><td>0</td><td>0</td><td>0</td><td>1</td><td> 1</td><td>1</td></tr>\n",
              "\t<tr><th scope=row>7224</th><td>1</td><td>46</td><td>0</td><td> 45018</td><td>0</td><td>0</td><td>0</td><td>0</td><td>26</td><td>0</td><td>15060</td><td> 4</td><td>0</td><td>1</td><td>0</td><td>0</td><td> 1</td><td>0</td></tr>\n",
              "\t<tr><th scope=row>7225</th><td>0</td><td>48</td><td>0</td><td>111305</td><td>0</td><td>0</td><td>1</td><td>1</td><td>59</td><td>0</td><td>17430</td><td>13</td><td>0</td><td>0</td><td>0</td><td>1</td><td>18</td><td>1</td></tr>\n",
              "\t<tr><th scope=row>7226</th><td>1</td><td>38</td><td>1</td><td> 12717</td><td>0</td><td>1</td><td>1</td><td>1</td><td>15</td><td>1</td><td>24740</td><td> 1</td><td>0</td><td>1</td><td>0</td><td>1</td><td>15</td><td>1</td></tr>\n",
              "\t<tr><th scope=row>7227</th><td>0</td><td>41</td><td>0</td><td>  6256</td><td>0</td><td>0</td><td>0</td><td>0</td><td>41</td><td>0</td><td> 5600</td><td> 1</td><td>0</td><td>0</td><td>0</td><td>0</td><td> 7</td><td>0</td></tr>\n",
              "\t<tr><th scope=row>7228</th><td>0</td><td>35</td><td>0</td><td> 43112</td><td>0</td><td>0</td><td>0</td><td>0</td><td>51</td><td>1</td><td>27330</td><td>10</td><td>1</td><td>0</td><td>0</td><td>0</td><td> 8</td><td>0</td></tr>\n",
              "\t<tr><th scope=row>7231</th><td>0</td><td>50</td><td>0</td><td> 43445</td><td>1</td><td>1</td><td>1</td><td>1</td><td>36</td><td>0</td><td>22550</td><td> 6</td><td>0</td><td>0</td><td>0</td><td>0</td><td>11</td><td>1</td></tr>\n",
              "</tbody>\n",
              "</table>\n"
            ],
            "text/markdown": "\nA data.frame: 4318 × 18\n\n| <!--/--> | KIDSDRIV &lt;int&gt; | AGE &lt;int&gt; | HOMEKIDS &lt;int&gt; | INCOME &lt;int&gt; | HOMEOWN &lt;int&gt; | MSTATUS &lt;int&gt; | GENDER &lt;int&gt; | EDUCATION &lt;int&gt; | TRAVTIME &lt;int&gt; | CAR_USE &lt;int&gt; | BLUEBOOK &lt;int&gt; | TWC &lt;int&gt; | RED_CAR &lt;int&gt; | CLM_BEF &lt;int&gt; | REVOKED &lt;int&gt; | MVR_PTS &lt;int&gt; | CAR_AGE &lt;int&gt; | URBANICITY &lt;int&gt; |\n|---|---|---|---|---|---|---|---|---|---|---|---|---|---|---|---|---|---|---|\n| 3 | 0 | 35 | 1 |  16039 | 1 | 1 | 1 | 0 |  5 | 0 |  4010 |  4 | 0 | 1 | 0 | 1 | 10 | 1 |\n| 6 | 0 | 54 | 0 |  18755 | 0 | 1 | 1 | 0 | 33 | 0 |  8780 |  1 | 0 | 0 | 0 | 0 |  1 | 1 |\n| 8 | 0 | 34 | 0 |  62978 | 0 | 0 | 1 | 1 | 34 | 0 | 11200 |  1 | 0 | 0 | 0 | 0 |  1 | 1 |\n| 11 | 0 | 43 | 0 |  52642 | 1 | 1 | 1 | 1 | 36 | 0 | 22420 |  7 | 0 | 0 | 0 | 0 |  1 | 0 |\n| 14 | 0 | 45 | 0 |      0 | 1 | 1 | 1 | 0 | 48 | 0 |  6000 |  1 | 0 | 0 | 0 | 1 |  5 | 1 |\n| 15 | 0 | 39 | 1 |  51884 | 1 | 0 | 1 | 1 | 43 | 0 | 10590 |  6 | 0 | 0 | 0 | 0 | 13 | 0 |\n| 18 | 0 | 31 | 1 |  18903 | 1 | 1 | 1 | 0 | 48 | 0 | 17330 |  4 | 0 | 0 | 0 | 0 |  7 | 1 |\n| 19 | 0 | 28 | 1 |  44077 | 1 | 1 | 1 | 0 | 29 | 1 |  8710 |  6 | 0 | 1 | 0 | 0 |  1 | 1 |\n| 20 | 0 | 43 | 0 |  37214 | 0 | 1 | 0 | 0 | 52 | 1 | 26560 |  1 | 1 | 0 | 0 | 1 |  1 | 1 |\n| 22 | 0 | 47 | 0 |  46281 | 0 | 0 | 1 | 0 | 29 | 0 | 19700 | 10 | 0 | 0 | 0 | 1 |  5 | 1 |\n| 25 | 0 | 32 | 1 |  31275 | 1 | 1 | 1 | 0 | 26 | 0 | 10030 |  1 | 0 | 0 | 0 | 0 |  1 | 1 |\n| 26 | 1 | 44 | 1 |  45488 | 1 | 1 | 0 | 1 | 16 | 0 | 22090 | 17 | 0 | 0 | 0 | 0 | 12 | 1 |\n| 27 | 0 | 35 | 0 |  72193 | 0 | 0 | 1 | 1 | 26 | 0 | 12220 |  6 | 0 | 0 | 0 | 1 | 12 | 1 |\n| 29 | 0 | 52 | 0 |  51278 | 1 | 1 | 1 | 1 | 37 | 0 |  1500 |  4 | 0 | 0 | 0 | 1 | 10 | 1 |\n| 33 | 0 | 49 | 0 | 115044 | 1 | 0 | 1 | 1 | 18 | 0 | 17900 |  1 | 0 | 0 | 0 | 0 | 14 | 1 |\n| 35 | 0 | 43 | 1 | 145353 | 1 | 1 | 1 | 1 | 38 | 1 | 29450 |  6 | 0 | 0 | 0 | 0 | 15 | 1 |\n| 37 | 0 | 52 | 0 |      0 | 1 | 0 | 1 | 0 | 48 | 1 |  9280 |  1 | 0 | 0 | 0 | 1 |  6 | 0 |\n| 38 | 0 | 35 | 0 |  14508 | 0 | 1 | 0 | 1 | 22 | 1 |  6450 |  1 | 0 | 0 | 0 | 0 |  7 | 1 |\n| 41 | 0 | 40 | 0 |  57474 | 1 | 1 | 0 | 1 |  5 | 1 | 29270 |  4 | 1 | 0 | 0 | 1 |  5 | 1 |\n| 42 | 0 | 31 | 1 |  26520 | 1 | 1 | 0 | 1 | 62 | 1 |  4600 |  6 | 1 | 0 | 0 | 1 |  5 | 1 |\n| 43 | 0 | 53 | 0 | 107259 | 1 | 1 | 0 | 1 | 36 | 0 | 29230 | 10 | 1 | 0 | 0 | 0 | 15 | 1 |\n| 45 | 0 | 33 | 1 |  32364 | 1 | 1 | 0 | 0 | 40 | 0 | 12270 | 18 | 1 | 0 | 0 | 1 |  1 | 1 |\n| 51 | 0 | 33 | 1 |  20822 | 1 | 1 | 1 | 0 | 46 | 0 |  6880 | 13 | 0 | 1 | 0 | 0 |  1 | 1 |\n| 52 | 0 | 32 | 1 |  54968 | 1 | 1 | 1 | 0 | 20 | 0 | 10040 |  4 | 0 | 0 | 1 | 0 |  8 | 1 |\n| 53 | 0 | 34 | 0 |  14194 | 1 | 0 | 1 | 0 | 13 | 0 |  2920 |  4 | 0 | 1 | 1 | 1 | 10 | 1 |\n| 55 | 1 | 43 | 1 | 137103 | 0 | 0 | 1 | 1 | 29 | 0 | 19510 |  1 | 0 | 1 | 0 | 0 | 15 | 1 |\n| 58 | 0 | 63 | 0 |  74426 | 0 | 0 | 1 | 1 | 11 | 0 | 27600 |  1 | 0 | 0 | 0 | 0 | 18 | 1 |\n| 59 | 0 | 44 | 0 |  74722 | 1 | 1 | 1 | 1 |  9 | 0 | 23640 |  6 | 0 | 0 | 0 | 0 |  1 | 1 |\n| 60 | 1 | 45 | 1 | 102393 | 0 | 0 | 0 | 1 | 25 | 0 |  1500 |  1 | 1 | 0 | 0 | 1 | 11 | 1 |\n| 64 | 0 | 44 | 1 | 139330 | 1 | 0 | 1 | 0 | 35 | 1 | 22050 | 10 | 0 | 0 | 0 | 0 |  1 | 0 |\n| ⋮ | ⋮ | ⋮ | ⋮ | ⋮ | ⋮ | ⋮ | ⋮ | ⋮ | ⋮ | ⋮ | ⋮ | ⋮ | ⋮ | ⋮ | ⋮ | ⋮ | ⋮ | ⋮ |\n| 7185 | 0 | 35 | 1 |  50971 | 1 | 1 | 1 | 1 | 10 | 0 |  7180 |  7 | 0 | 1 | 0 | 1 | 13 | 1 |\n| 7187 | 0 | 50 | 0 |  37546 | 1 | 1 | 1 | 0 | 41 | 0 |  6120 |  7 | 0 | 0 | 0 | 0 |  1 | 1 |\n| 7190 | 0 | 39 | 0 |  47458 | 0 | 0 | 1 | 1 | 42 | 0 | 20270 |  1 | 0 | 1 | 0 | 1 | 11 | 1 |\n| 7191 | 0 | 50 | 0 |  16074 | 0 | 0 | 1 | 0 | 53 | 0 | 13420 | 10 | 0 | 1 | 0 | 1 |  1 | 1 |\n| 7193 | 0 | 56 | 0 |    571 | 1 | 1 | 0 | 0 | 41 | 0 |  5670 | 14 | 0 | 0 | 0 | 1 |  6 | 0 |\n| 7195 | 0 | 49 | 0 | 106231 | 1 | 1 | 1 | 1 | 12 | 0 | 28110 |  6 | 0 | 0 | 0 | 0 | 15 | 1 |\n| 7196 | 0 | 34 | 1 | 121861 | 1 | 1 | 1 | 1 | 32 | 0 | 15090 |  4 | 0 | 0 | 0 | 0 |  1 | 1 |\n| 7197 | 1 | 37 | 1 |  23048 | 1 | 1 | 1 | 0 | 13 | 1 | 20850 |  4 | 0 | 0 | 0 | 1 |  9 | 1 |\n| 7198 | 1 | 56 | 1 | 176849 | 1 | 1 | 1 | 1 | 37 | 1 | 26470 |  4 | 0 | 0 | 0 | 0 |  6 | 1 |\n| 7199 | 0 | 38 | 0 | 118057 | 1 | 1 | 1 | 1 | 31 | 0 | 19390 |  1 | 0 | 0 | 0 | 0 |  9 | 1 |\n| 7201 | 0 | 45 | 0 |  63357 | 0 | 0 | 0 | 0 | 67 | 1 | 17460 |  1 | 1 | 0 | 0 | 1 |  1 | 1 |\n| 7203 | 1 | 46 | 0 |  35362 | 0 | 0 | 0 | 0 | 42 | 1 | 17970 | 11 | 0 | 1 | 1 | 1 |  7 | 1 |\n| 7205 | 0 | 47 | 0 | 112264 | 0 | 0 | 0 | 1 | 44 | 1 | 24020 |  1 | 1 | 1 | 1 | 1 | 20 | 1 |\n| 7206 | 0 | 47 | 0 | 282198 | 1 | 0 | 0 | 1 | 32 | 1 | 34420 | 11 | 1 | 0 | 1 | 1 | 16 | 1 |\n| 7207 | 0 | 43 | 0 |      0 | 1 | 1 | 1 | 1 | 29 | 0 | 24030 |  9 | 0 | 1 | 0 | 0 | 14 | 1 |\n| 7209 | 0 | 46 | 0 |  68360 | 1 | 0 | 0 | 1 | 49 | 1 | 12940 |  1 | 0 | 1 | 0 | 1 | 11 | 1 |\n| 7210 | 1 | 46 | 0 |  84667 | 1 | 1 | 1 | 1 | 56 | 1 | 35050 |  1 | 0 | 0 | 0 | 0 |  7 | 1 |\n| 7214 | 0 | 49 | 0 |  60049 | 1 | 0 | 1 | 0 | 21 | 0 |  6200 |  1 | 0 | 0 | 0 | 0 |  1 | 0 |\n| 7216 | 0 | 36 | 1 | 131335 | 1 | 0 | 1 | 1 | 10 | 0 | 28490 |  1 | 0 | 0 | 0 | 0 |  4 | 0 |\n| 7217 | 0 | 38 | 1 |  83458 | 1 | 0 | 1 | 1 | 23 | 0 | 28260 |  6 | 0 | 1 | 0 | 1 |  9 | 1 |\n| 7218 | 0 | 41 | 0 |  92185 | 1 | 1 | 0 | 0 | 24 | 0 |  1500 | 11 | 1 | 0 | 0 | 0 | 10 | 1 |\n| 7219 | 0 | 60 | 0 |  19796 | 1 | 0 | 1 | 1 | 33 | 0 | 21690 |  1 | 0 | 1 | 0 | 1 |  1 | 1 |\n| 7220 | 0 | 45 | 0 |  52966 | 0 | 0 | 0 | 0 | 16 | 1 | 11300 |  6 | 1 | 1 | 1 | 1 |  1 | 1 |\n| 7222 | 0 | 54 | 0 |  62060 | 1 | 1 | 0 | 0 | 51 | 0 |  1500 |  6 | 0 | 0 | 0 | 1 |  1 | 1 |\n| 7224 | 1 | 46 | 0 |  45018 | 0 | 0 | 0 | 0 | 26 | 0 | 15060 |  4 | 0 | 1 | 0 | 0 |  1 | 0 |\n| 7225 | 0 | 48 | 0 | 111305 | 0 | 0 | 1 | 1 | 59 | 0 | 17430 | 13 | 0 | 0 | 0 | 1 | 18 | 1 |\n| 7226 | 1 | 38 | 1 |  12717 | 0 | 1 | 1 | 1 | 15 | 1 | 24740 |  1 | 0 | 1 | 0 | 1 | 15 | 1 |\n| 7227 | 0 | 41 | 0 |   6256 | 0 | 0 | 0 | 0 | 41 | 0 |  5600 |  1 | 0 | 0 | 0 | 0 |  7 | 0 |\n| 7228 | 0 | 35 | 0 |  43112 | 0 | 0 | 0 | 0 | 51 | 1 | 27330 | 10 | 1 | 0 | 0 | 0 |  8 | 0 |\n| 7231 | 0 | 50 | 0 |  43445 | 1 | 1 | 1 | 1 | 36 | 0 | 22550 |  6 | 0 | 0 | 0 | 0 | 11 | 1 |\n\n",
            "text/latex": "A data.frame: 4318 × 18\n\\begin{tabular}{r|llllllllllllllllll}\n  & KIDSDRIV & AGE & HOMEKIDS & INCOME & HOMEOWN & MSTATUS & GENDER & EDUCATION & TRAVTIME & CAR\\_USE & BLUEBOOK & TWC & RED\\_CAR & CLM\\_BEF & REVOKED & MVR\\_PTS & CAR\\_AGE & URBANICITY\\\\\n  & <int> & <int> & <int> & <int> & <int> & <int> & <int> & <int> & <int> & <int> & <int> & <int> & <int> & <int> & <int> & <int> & <int> & <int>\\\\\n\\hline\n\t3 & 0 & 35 & 1 &  16039 & 1 & 1 & 1 & 0 &  5 & 0 &  4010 &  4 & 0 & 1 & 0 & 1 & 10 & 1\\\\\n\t6 & 0 & 54 & 0 &  18755 & 0 & 1 & 1 & 0 & 33 & 0 &  8780 &  1 & 0 & 0 & 0 & 0 &  1 & 1\\\\\n\t8 & 0 & 34 & 0 &  62978 & 0 & 0 & 1 & 1 & 34 & 0 & 11200 &  1 & 0 & 0 & 0 & 0 &  1 & 1\\\\\n\t11 & 0 & 43 & 0 &  52642 & 1 & 1 & 1 & 1 & 36 & 0 & 22420 &  7 & 0 & 0 & 0 & 0 &  1 & 0\\\\\n\t14 & 0 & 45 & 0 &      0 & 1 & 1 & 1 & 0 & 48 & 0 &  6000 &  1 & 0 & 0 & 0 & 1 &  5 & 1\\\\\n\t15 & 0 & 39 & 1 &  51884 & 1 & 0 & 1 & 1 & 43 & 0 & 10590 &  6 & 0 & 0 & 0 & 0 & 13 & 0\\\\\n\t18 & 0 & 31 & 1 &  18903 & 1 & 1 & 1 & 0 & 48 & 0 & 17330 &  4 & 0 & 0 & 0 & 0 &  7 & 1\\\\\n\t19 & 0 & 28 & 1 &  44077 & 1 & 1 & 1 & 0 & 29 & 1 &  8710 &  6 & 0 & 1 & 0 & 0 &  1 & 1\\\\\n\t20 & 0 & 43 & 0 &  37214 & 0 & 1 & 0 & 0 & 52 & 1 & 26560 &  1 & 1 & 0 & 0 & 1 &  1 & 1\\\\\n\t22 & 0 & 47 & 0 &  46281 & 0 & 0 & 1 & 0 & 29 & 0 & 19700 & 10 & 0 & 0 & 0 & 1 &  5 & 1\\\\\n\t25 & 0 & 32 & 1 &  31275 & 1 & 1 & 1 & 0 & 26 & 0 & 10030 &  1 & 0 & 0 & 0 & 0 &  1 & 1\\\\\n\t26 & 1 & 44 & 1 &  45488 & 1 & 1 & 0 & 1 & 16 & 0 & 22090 & 17 & 0 & 0 & 0 & 0 & 12 & 1\\\\\n\t27 & 0 & 35 & 0 &  72193 & 0 & 0 & 1 & 1 & 26 & 0 & 12220 &  6 & 0 & 0 & 0 & 1 & 12 & 1\\\\\n\t29 & 0 & 52 & 0 &  51278 & 1 & 1 & 1 & 1 & 37 & 0 &  1500 &  4 & 0 & 0 & 0 & 1 & 10 & 1\\\\\n\t33 & 0 & 49 & 0 & 115044 & 1 & 0 & 1 & 1 & 18 & 0 & 17900 &  1 & 0 & 0 & 0 & 0 & 14 & 1\\\\\n\t35 & 0 & 43 & 1 & 145353 & 1 & 1 & 1 & 1 & 38 & 1 & 29450 &  6 & 0 & 0 & 0 & 0 & 15 & 1\\\\\n\t37 & 0 & 52 & 0 &      0 & 1 & 0 & 1 & 0 & 48 & 1 &  9280 &  1 & 0 & 0 & 0 & 1 &  6 & 0\\\\\n\t38 & 0 & 35 & 0 &  14508 & 0 & 1 & 0 & 1 & 22 & 1 &  6450 &  1 & 0 & 0 & 0 & 0 &  7 & 1\\\\\n\t41 & 0 & 40 & 0 &  57474 & 1 & 1 & 0 & 1 &  5 & 1 & 29270 &  4 & 1 & 0 & 0 & 1 &  5 & 1\\\\\n\t42 & 0 & 31 & 1 &  26520 & 1 & 1 & 0 & 1 & 62 & 1 &  4600 &  6 & 1 & 0 & 0 & 1 &  5 & 1\\\\\n\t43 & 0 & 53 & 0 & 107259 & 1 & 1 & 0 & 1 & 36 & 0 & 29230 & 10 & 1 & 0 & 0 & 0 & 15 & 1\\\\\n\t45 & 0 & 33 & 1 &  32364 & 1 & 1 & 0 & 0 & 40 & 0 & 12270 & 18 & 1 & 0 & 0 & 1 &  1 & 1\\\\\n\t51 & 0 & 33 & 1 &  20822 & 1 & 1 & 1 & 0 & 46 & 0 &  6880 & 13 & 0 & 1 & 0 & 0 &  1 & 1\\\\\n\t52 & 0 & 32 & 1 &  54968 & 1 & 1 & 1 & 0 & 20 & 0 & 10040 &  4 & 0 & 0 & 1 & 0 &  8 & 1\\\\\n\t53 & 0 & 34 & 0 &  14194 & 1 & 0 & 1 & 0 & 13 & 0 &  2920 &  4 & 0 & 1 & 1 & 1 & 10 & 1\\\\\n\t55 & 1 & 43 & 1 & 137103 & 0 & 0 & 1 & 1 & 29 & 0 & 19510 &  1 & 0 & 1 & 0 & 0 & 15 & 1\\\\\n\t58 & 0 & 63 & 0 &  74426 & 0 & 0 & 1 & 1 & 11 & 0 & 27600 &  1 & 0 & 0 & 0 & 0 & 18 & 1\\\\\n\t59 & 0 & 44 & 0 &  74722 & 1 & 1 & 1 & 1 &  9 & 0 & 23640 &  6 & 0 & 0 & 0 & 0 &  1 & 1\\\\\n\t60 & 1 & 45 & 1 & 102393 & 0 & 0 & 0 & 1 & 25 & 0 &  1500 &  1 & 1 & 0 & 0 & 1 & 11 & 1\\\\\n\t64 & 0 & 44 & 1 & 139330 & 1 & 0 & 1 & 0 & 35 & 1 & 22050 & 10 & 0 & 0 & 0 & 0 &  1 & 0\\\\\n\t⋮ & ⋮ & ⋮ & ⋮ & ⋮ & ⋮ & ⋮ & ⋮ & ⋮ & ⋮ & ⋮ & ⋮ & ⋮ & ⋮ & ⋮ & ⋮ & ⋮ & ⋮ & ⋮\\\\\n\t7185 & 0 & 35 & 1 &  50971 & 1 & 1 & 1 & 1 & 10 & 0 &  7180 &  7 & 0 & 1 & 0 & 1 & 13 & 1\\\\\n\t7187 & 0 & 50 & 0 &  37546 & 1 & 1 & 1 & 0 & 41 & 0 &  6120 &  7 & 0 & 0 & 0 & 0 &  1 & 1\\\\\n\t7190 & 0 & 39 & 0 &  47458 & 0 & 0 & 1 & 1 & 42 & 0 & 20270 &  1 & 0 & 1 & 0 & 1 & 11 & 1\\\\\n\t7191 & 0 & 50 & 0 &  16074 & 0 & 0 & 1 & 0 & 53 & 0 & 13420 & 10 & 0 & 1 & 0 & 1 &  1 & 1\\\\\n\t7193 & 0 & 56 & 0 &    571 & 1 & 1 & 0 & 0 & 41 & 0 &  5670 & 14 & 0 & 0 & 0 & 1 &  6 & 0\\\\\n\t7195 & 0 & 49 & 0 & 106231 & 1 & 1 & 1 & 1 & 12 & 0 & 28110 &  6 & 0 & 0 & 0 & 0 & 15 & 1\\\\\n\t7196 & 0 & 34 & 1 & 121861 & 1 & 1 & 1 & 1 & 32 & 0 & 15090 &  4 & 0 & 0 & 0 & 0 &  1 & 1\\\\\n\t7197 & 1 & 37 & 1 &  23048 & 1 & 1 & 1 & 0 & 13 & 1 & 20850 &  4 & 0 & 0 & 0 & 1 &  9 & 1\\\\\n\t7198 & 1 & 56 & 1 & 176849 & 1 & 1 & 1 & 1 & 37 & 1 & 26470 &  4 & 0 & 0 & 0 & 0 &  6 & 1\\\\\n\t7199 & 0 & 38 & 0 & 118057 & 1 & 1 & 1 & 1 & 31 & 0 & 19390 &  1 & 0 & 0 & 0 & 0 &  9 & 1\\\\\n\t7201 & 0 & 45 & 0 &  63357 & 0 & 0 & 0 & 0 & 67 & 1 & 17460 &  1 & 1 & 0 & 0 & 1 &  1 & 1\\\\\n\t7203 & 1 & 46 & 0 &  35362 & 0 & 0 & 0 & 0 & 42 & 1 & 17970 & 11 & 0 & 1 & 1 & 1 &  7 & 1\\\\\n\t7205 & 0 & 47 & 0 & 112264 & 0 & 0 & 0 & 1 & 44 & 1 & 24020 &  1 & 1 & 1 & 1 & 1 & 20 & 1\\\\\n\t7206 & 0 & 47 & 0 & 282198 & 1 & 0 & 0 & 1 & 32 & 1 & 34420 & 11 & 1 & 0 & 1 & 1 & 16 & 1\\\\\n\t7207 & 0 & 43 & 0 &      0 & 1 & 1 & 1 & 1 & 29 & 0 & 24030 &  9 & 0 & 1 & 0 & 0 & 14 & 1\\\\\n\t7209 & 0 & 46 & 0 &  68360 & 1 & 0 & 0 & 1 & 49 & 1 & 12940 &  1 & 0 & 1 & 0 & 1 & 11 & 1\\\\\n\t7210 & 1 & 46 & 0 &  84667 & 1 & 1 & 1 & 1 & 56 & 1 & 35050 &  1 & 0 & 0 & 0 & 0 &  7 & 1\\\\\n\t7214 & 0 & 49 & 0 &  60049 & 1 & 0 & 1 & 0 & 21 & 0 &  6200 &  1 & 0 & 0 & 0 & 0 &  1 & 0\\\\\n\t7216 & 0 & 36 & 1 & 131335 & 1 & 0 & 1 & 1 & 10 & 0 & 28490 &  1 & 0 & 0 & 0 & 0 &  4 & 0\\\\\n\t7217 & 0 & 38 & 1 &  83458 & 1 & 0 & 1 & 1 & 23 & 0 & 28260 &  6 & 0 & 1 & 0 & 1 &  9 & 1\\\\\n\t7218 & 0 & 41 & 0 &  92185 & 1 & 1 & 0 & 0 & 24 & 0 &  1500 & 11 & 1 & 0 & 0 & 0 & 10 & 1\\\\\n\t7219 & 0 & 60 & 0 &  19796 & 1 & 0 & 1 & 1 & 33 & 0 & 21690 &  1 & 0 & 1 & 0 & 1 &  1 & 1\\\\\n\t7220 & 0 & 45 & 0 &  52966 & 0 & 0 & 0 & 0 & 16 & 1 & 11300 &  6 & 1 & 1 & 1 & 1 &  1 & 1\\\\\n\t7222 & 0 & 54 & 0 &  62060 & 1 & 1 & 0 & 0 & 51 & 0 &  1500 &  6 & 0 & 0 & 0 & 1 &  1 & 1\\\\\n\t7224 & 1 & 46 & 0 &  45018 & 0 & 0 & 0 & 0 & 26 & 0 & 15060 &  4 & 0 & 1 & 0 & 0 &  1 & 0\\\\\n\t7225 & 0 & 48 & 0 & 111305 & 0 & 0 & 1 & 1 & 59 & 0 & 17430 & 13 & 0 & 0 & 0 & 1 & 18 & 1\\\\\n\t7226 & 1 & 38 & 1 &  12717 & 0 & 1 & 1 & 1 & 15 & 1 & 24740 &  1 & 0 & 1 & 0 & 1 & 15 & 1\\\\\n\t7227 & 0 & 41 & 0 &   6256 & 0 & 0 & 0 & 0 & 41 & 0 &  5600 &  1 & 0 & 0 & 0 & 0 &  7 & 0\\\\\n\t7228 & 0 & 35 & 0 &  43112 & 0 & 0 & 0 & 0 & 51 & 1 & 27330 & 10 & 1 & 0 & 0 & 0 &  8 & 0\\\\\n\t7231 & 0 & 50 & 0 &  43445 & 1 & 1 & 1 & 1 & 36 & 0 & 22550 &  6 & 0 & 0 & 0 & 0 & 11 & 1\\\\\n\\end{tabular}\n",
            "text/plain": [
              "     KIDSDRIV AGE HOMEKIDS INCOME HOMEOWN MSTATUS GENDER EDUCATION TRAVTIME\n",
              "3    0        35  1         16039 1       1       1      0          5      \n",
              "6    0        54  0         18755 0       1       1      0         33      \n",
              "8    0        34  0         62978 0       0       1      1         34      \n",
              "11   0        43  0         52642 1       1       1      1         36      \n",
              "14   0        45  0             0 1       1       1      0         48      \n",
              "15   0        39  1         51884 1       0       1      1         43      \n",
              "18   0        31  1         18903 1       1       1      0         48      \n",
              "19   0        28  1         44077 1       1       1      0         29      \n",
              "20   0        43  0         37214 0       1       0      0         52      \n",
              "22   0        47  0         46281 0       0       1      0         29      \n",
              "25   0        32  1         31275 1       1       1      0         26      \n",
              "26   1        44  1         45488 1       1       0      1         16      \n",
              "27   0        35  0         72193 0       0       1      1         26      \n",
              "29   0        52  0         51278 1       1       1      1         37      \n",
              "33   0        49  0        115044 1       0       1      1         18      \n",
              "35   0        43  1        145353 1       1       1      1         38      \n",
              "37   0        52  0             0 1       0       1      0         48      \n",
              "38   0        35  0         14508 0       1       0      1         22      \n",
              "41   0        40  0         57474 1       1       0      1          5      \n",
              "42   0        31  1         26520 1       1       0      1         62      \n",
              "43   0        53  0        107259 1       1       0      1         36      \n",
              "45   0        33  1         32364 1       1       0      0         40      \n",
              "51   0        33  1         20822 1       1       1      0         46      \n",
              "52   0        32  1         54968 1       1       1      0         20      \n",
              "53   0        34  0         14194 1       0       1      0         13      \n",
              "55   1        43  1        137103 0       0       1      1         29      \n",
              "58   0        63  0         74426 0       0       1      1         11      \n",
              "59   0        44  0         74722 1       1       1      1          9      \n",
              "60   1        45  1        102393 0       0       0      1         25      \n",
              "64   0        44  1        139330 1       0       1      0         35      \n",
              "⋮    ⋮        ⋮   ⋮        ⋮      ⋮       ⋮       ⋮      ⋮         ⋮       \n",
              "7185 0        35  1         50971 1       1       1      1         10      \n",
              "7187 0        50  0         37546 1       1       1      0         41      \n",
              "7190 0        39  0         47458 0       0       1      1         42      \n",
              "7191 0        50  0         16074 0       0       1      0         53      \n",
              "7193 0        56  0           571 1       1       0      0         41      \n",
              "7195 0        49  0        106231 1       1       1      1         12      \n",
              "7196 0        34  1        121861 1       1       1      1         32      \n",
              "7197 1        37  1         23048 1       1       1      0         13      \n",
              "7198 1        56  1        176849 1       1       1      1         37      \n",
              "7199 0        38  0        118057 1       1       1      1         31      \n",
              "7201 0        45  0         63357 0       0       0      0         67      \n",
              "7203 1        46  0         35362 0       0       0      0         42      \n",
              "7205 0        47  0        112264 0       0       0      1         44      \n",
              "7206 0        47  0        282198 1       0       0      1         32      \n",
              "7207 0        43  0             0 1       1       1      1         29      \n",
              "7209 0        46  0         68360 1       0       0      1         49      \n",
              "7210 1        46  0         84667 1       1       1      1         56      \n",
              "7214 0        49  0         60049 1       0       1      0         21      \n",
              "7216 0        36  1        131335 1       0       1      1         10      \n",
              "7217 0        38  1         83458 1       0       1      1         23      \n",
              "7218 0        41  0         92185 1       1       0      0         24      \n",
              "7219 0        60  0         19796 1       0       1      1         33      \n",
              "7220 0        45  0         52966 0       0       0      0         16      \n",
              "7222 0        54  0         62060 1       1       0      0         51      \n",
              "7224 1        46  0         45018 0       0       0      0         26      \n",
              "7225 0        48  0        111305 0       0       1      1         59      \n",
              "7226 1        38  1         12717 0       1       1      1         15      \n",
              "7227 0        41  0          6256 0       0       0      0         41      \n",
              "7228 0        35  0         43112 0       0       0      0         51      \n",
              "7231 0        50  0         43445 1       1       1      1         36      \n",
              "     CAR_USE BLUEBOOK TWC RED_CAR CLM_BEF REVOKED MVR_PTS CAR_AGE URBANICITY\n",
              "3    0        4010     4  0       1       0       1       10      1         \n",
              "6    0        8780     1  0       0       0       0        1      1         \n",
              "8    0       11200     1  0       0       0       0        1      1         \n",
              "11   0       22420     7  0       0       0       0        1      0         \n",
              "14   0        6000     1  0       0       0       1        5      1         \n",
              "15   0       10590     6  0       0       0       0       13      0         \n",
              "18   0       17330     4  0       0       0       0        7      1         \n",
              "19   1        8710     6  0       1       0       0        1      1         \n",
              "20   1       26560     1  1       0       0       1        1      1         \n",
              "22   0       19700    10  0       0       0       1        5      1         \n",
              "25   0       10030     1  0       0       0       0        1      1         \n",
              "26   0       22090    17  0       0       0       0       12      1         \n",
              "27   0       12220     6  0       0       0       1       12      1         \n",
              "29   0        1500     4  0       0       0       1       10      1         \n",
              "33   0       17900     1  0       0       0       0       14      1         \n",
              "35   1       29450     6  0       0       0       0       15      1         \n",
              "37   1        9280     1  0       0       0       1        6      0         \n",
              "38   1        6450     1  0       0       0       0        7      1         \n",
              "41   1       29270     4  1       0       0       1        5      1         \n",
              "42   1        4600     6  1       0       0       1        5      1         \n",
              "43   0       29230    10  1       0       0       0       15      1         \n",
              "45   0       12270    18  1       0       0       1        1      1         \n",
              "51   0        6880    13  0       1       0       0        1      1         \n",
              "52   0       10040     4  0       0       1       0        8      1         \n",
              "53   0        2920     4  0       1       1       1       10      1         \n",
              "55   0       19510     1  0       1       0       0       15      1         \n",
              "58   0       27600     1  0       0       0       0       18      1         \n",
              "59   0       23640     6  0       0       0       0        1      1         \n",
              "60   0        1500     1  1       0       0       1       11      1         \n",
              "64   1       22050    10  0       0       0       0        1      0         \n",
              "⋮    ⋮       ⋮        ⋮   ⋮       ⋮       ⋮       ⋮       ⋮       ⋮         \n",
              "7185 0        7180     7  0       1       0       1       13      1         \n",
              "7187 0        6120     7  0       0       0       0        1      1         \n",
              "7190 0       20270     1  0       1       0       1       11      1         \n",
              "7191 0       13420    10  0       1       0       1        1      1         \n",
              "7193 0        5670    14  0       0       0       1        6      0         \n",
              "7195 0       28110     6  0       0       0       0       15      1         \n",
              "7196 0       15090     4  0       0       0       0        1      1         \n",
              "7197 1       20850     4  0       0       0       1        9      1         \n",
              "7198 1       26470     4  0       0       0       0        6      1         \n",
              "7199 0       19390     1  0       0       0       0        9      1         \n",
              "7201 1       17460     1  1       0       0       1        1      1         \n",
              "7203 1       17970    11  0       1       1       1        7      1         \n",
              "7205 1       24020     1  1       1       1       1       20      1         \n",
              "7206 1       34420    11  1       0       1       1       16      1         \n",
              "7207 0       24030     9  0       1       0       0       14      1         \n",
              "7209 1       12940     1  0       1       0       1       11      1         \n",
              "7210 1       35050     1  0       0       0       0        7      1         \n",
              "7214 0        6200     1  0       0       0       0        1      0         \n",
              "7216 0       28490     1  0       0       0       0        4      0         \n",
              "7217 0       28260     6  0       1       0       1        9      1         \n",
              "7218 0        1500    11  1       0       0       0       10      1         \n",
              "7219 0       21690     1  0       1       0       1        1      1         \n",
              "7220 1       11300     6  1       1       1       1        1      1         \n",
              "7222 0        1500     6  0       0       0       1        1      1         \n",
              "7224 0       15060     4  0       1       0       0        1      0         \n",
              "7225 0       17430    13  0       0       0       1       18      1         \n",
              "7226 1       24740     1  0       1       0       1       15      1         \n",
              "7227 0        5600     1  0       0       0       0        7      0         \n",
              "7228 1       27330    10  1       0       0       0        8      0         \n",
              "7231 0       22550     6  0       0       0       0       11      1         "
            ]
          },
          "metadata": {}
        }
      ]
    },
    {
      "cell_type": "code",
      "source": [
        "insurancedf <- read.csv(\"insurance.csv\")\n",
        "\n",
        "# View the dataset\n",
        "head(insurancedf)\n",
        "\n",
        "# Check the structure of the dataset\n",
        "str(insurancedf)\n",
        "\n",
        "# Generate summary statistics for the variables in the dataset\n",
        "summary(insurancedf)\n",
        "set.seed(42)\n",
        "#60-20 20% partition#\n",
        "Samples<-sample(seq(1,3),size=nrow (insurancedf),replace=TRUE, prob=c(0.6,0.2,0.2))\n",
        "train<-insurancedf[Samples==1,]\n",
        "validate<-insurancedf[Samples==2,]\n",
        "test<-insurancedf[Samples==3,]\n",
        "xsdf<-train[c(-1)]\n",
        "xsdf\n",
        "# Fit a logistic regression model to the training data\n",
        "logit <- glm(CLAIM ~ ., data = train, family = \"binomial\")\n",
        "\n",
        "# View the model summary\n",
        "summary(logit)\n",
        "\n",
        "# Predict on validation data\n",
        "pred_val <- predict(logit, newdata = validate, type = \"response\")\n",
        "\n",
        "# Create confusion matrix\n",
        "conf_mat <- table(validate$CLAIM, pred_val > 0.5)\n",
        "conf_mat\n",
        "\n",
        "# Number of insurance claims (positives) predicted correctly\n",
        "tp <- conf_mat[2, 2]\n",
        "tp\n"
      ],
      "metadata": {
        "id": "Agm_VqXQ3VVM",
        "colab": {
          "base_uri": "https://localhost:8080/",
          "height": 1000
        },
        "outputId": "692c41f8-d43f-4f4b-f7de-3b935ca2f38a"
      },
      "execution_count": null,
      "outputs": [
        {
          "output_type": "display_data",
          "data": {
            "text/html": [
              "<table class=\"dataframe\">\n",
              "<caption>A data.frame: 6 × 19</caption>\n",
              "<thead>\n",
              "\t<tr><th></th><th scope=col>CLAIM</th><th scope=col>KIDSDRIV</th><th scope=col>AGE</th><th scope=col>HOMEKIDS</th><th scope=col>INCOME</th><th scope=col>HOMEOWN</th><th scope=col>MSTATUS</th><th scope=col>GENDER</th><th scope=col>EDUCATION</th><th scope=col>TRAVTIME</th><th scope=col>CAR_USE</th><th scope=col>BLUEBOOK</th><th scope=col>TWC</th><th scope=col>RED_CAR</th><th scope=col>CLM_BEF</th><th scope=col>REVOKED</th><th scope=col>MVR_PTS</th><th scope=col>CAR_AGE</th><th scope=col>URBANICITY</th></tr>\n",
              "\t<tr><th></th><th scope=col>&lt;int&gt;</th><th scope=col>&lt;int&gt;</th><th scope=col>&lt;int&gt;</th><th scope=col>&lt;int&gt;</th><th scope=col>&lt;int&gt;</th><th scope=col>&lt;int&gt;</th><th scope=col>&lt;int&gt;</th><th scope=col>&lt;int&gt;</th><th scope=col>&lt;int&gt;</th><th scope=col>&lt;int&gt;</th><th scope=col>&lt;int&gt;</th><th scope=col>&lt;int&gt;</th><th scope=col>&lt;int&gt;</th><th scope=col>&lt;int&gt;</th><th scope=col>&lt;int&gt;</th><th scope=col>&lt;int&gt;</th><th scope=col>&lt;int&gt;</th><th scope=col>&lt;int&gt;</th><th scope=col>&lt;int&gt;</th></tr>\n",
              "</thead>\n",
              "<tbody>\n",
              "\t<tr><th scope=row>1</th><td>0</td><td>0</td><td>60</td><td>0</td><td> 67349</td><td>0</td><td>0</td><td>0</td><td>1</td><td>14</td><td>0</td><td>14230</td><td>11</td><td>1</td><td>1</td><td>0</td><td>1</td><td>18</td><td>1</td></tr>\n",
              "\t<tr><th scope=row>2</th><td>0</td><td>0</td><td>43</td><td>0</td><td> 91449</td><td>1</td><td>0</td><td>0</td><td>0</td><td>22</td><td>1</td><td>14940</td><td> 1</td><td>1</td><td>0</td><td>0</td><td>0</td><td> 1</td><td>1</td></tr>\n",
              "\t<tr><th scope=row>3</th><td>0</td><td>0</td><td>35</td><td>1</td><td> 16039</td><td>1</td><td>1</td><td>1</td><td>0</td><td> 5</td><td>0</td><td> 4010</td><td> 4</td><td>0</td><td>1</td><td>0</td><td>1</td><td>10</td><td>1</td></tr>\n",
              "\t<tr><th scope=row>4</th><td>0</td><td>0</td><td>50</td><td>0</td><td>114986</td><td>1</td><td>1</td><td>1</td><td>1</td><td>36</td><td>0</td><td>18000</td><td> 1</td><td>0</td><td>1</td><td>1</td><td>1</td><td>17</td><td>1</td></tr>\n",
              "\t<tr><th scope=row>5</th><td>1</td><td>0</td><td>34</td><td>1</td><td>125301</td><td>0</td><td>0</td><td>1</td><td>1</td><td>46</td><td>1</td><td>17430</td><td> 1</td><td>0</td><td>0</td><td>0</td><td>0</td><td> 7</td><td>1</td></tr>\n",
              "\t<tr><th scope=row>6</th><td>0</td><td>0</td><td>54</td><td>0</td><td> 18755</td><td>0</td><td>1</td><td>1</td><td>0</td><td>33</td><td>0</td><td> 8780</td><td> 1</td><td>0</td><td>0</td><td>0</td><td>0</td><td> 1</td><td>1</td></tr>\n",
              "</tbody>\n",
              "</table>\n"
            ],
            "text/markdown": "\nA data.frame: 6 × 19\n\n| <!--/--> | CLAIM &lt;int&gt; | KIDSDRIV &lt;int&gt; | AGE &lt;int&gt; | HOMEKIDS &lt;int&gt; | INCOME &lt;int&gt; | HOMEOWN &lt;int&gt; | MSTATUS &lt;int&gt; | GENDER &lt;int&gt; | EDUCATION &lt;int&gt; | TRAVTIME &lt;int&gt; | CAR_USE &lt;int&gt; | BLUEBOOK &lt;int&gt; | TWC &lt;int&gt; | RED_CAR &lt;int&gt; | CLM_BEF &lt;int&gt; | REVOKED &lt;int&gt; | MVR_PTS &lt;int&gt; | CAR_AGE &lt;int&gt; | URBANICITY &lt;int&gt; |\n|---|---|---|---|---|---|---|---|---|---|---|---|---|---|---|---|---|---|---|---|\n| 1 | 0 | 0 | 60 | 0 |  67349 | 0 | 0 | 0 | 1 | 14 | 0 | 14230 | 11 | 1 | 1 | 0 | 1 | 18 | 1 |\n| 2 | 0 | 0 | 43 | 0 |  91449 | 1 | 0 | 0 | 0 | 22 | 1 | 14940 |  1 | 1 | 0 | 0 | 0 |  1 | 1 |\n| 3 | 0 | 0 | 35 | 1 |  16039 | 1 | 1 | 1 | 0 |  5 | 0 |  4010 |  4 | 0 | 1 | 0 | 1 | 10 | 1 |\n| 4 | 0 | 0 | 50 | 0 | 114986 | 1 | 1 | 1 | 1 | 36 | 0 | 18000 |  1 | 0 | 1 | 1 | 1 | 17 | 1 |\n| 5 | 1 | 0 | 34 | 1 | 125301 | 0 | 0 | 1 | 1 | 46 | 1 | 17430 |  1 | 0 | 0 | 0 | 0 |  7 | 1 |\n| 6 | 0 | 0 | 54 | 0 |  18755 | 0 | 1 | 1 | 0 | 33 | 0 |  8780 |  1 | 0 | 0 | 0 | 0 |  1 | 1 |\n\n",
            "text/latex": "A data.frame: 6 × 19\n\\begin{tabular}{r|lllllllllllllllllll}\n  & CLAIM & KIDSDRIV & AGE & HOMEKIDS & INCOME & HOMEOWN & MSTATUS & GENDER & EDUCATION & TRAVTIME & CAR\\_USE & BLUEBOOK & TWC & RED\\_CAR & CLM\\_BEF & REVOKED & MVR\\_PTS & CAR\\_AGE & URBANICITY\\\\\n  & <int> & <int> & <int> & <int> & <int> & <int> & <int> & <int> & <int> & <int> & <int> & <int> & <int> & <int> & <int> & <int> & <int> & <int> & <int>\\\\\n\\hline\n\t1 & 0 & 0 & 60 & 0 &  67349 & 0 & 0 & 0 & 1 & 14 & 0 & 14230 & 11 & 1 & 1 & 0 & 1 & 18 & 1\\\\\n\t2 & 0 & 0 & 43 & 0 &  91449 & 1 & 0 & 0 & 0 & 22 & 1 & 14940 &  1 & 1 & 0 & 0 & 0 &  1 & 1\\\\\n\t3 & 0 & 0 & 35 & 1 &  16039 & 1 & 1 & 1 & 0 &  5 & 0 &  4010 &  4 & 0 & 1 & 0 & 1 & 10 & 1\\\\\n\t4 & 0 & 0 & 50 & 0 & 114986 & 1 & 1 & 1 & 1 & 36 & 0 & 18000 &  1 & 0 & 1 & 1 & 1 & 17 & 1\\\\\n\t5 & 1 & 0 & 34 & 1 & 125301 & 0 & 0 & 1 & 1 & 46 & 1 & 17430 &  1 & 0 & 0 & 0 & 0 &  7 & 1\\\\\n\t6 & 0 & 0 & 54 & 0 &  18755 & 0 & 1 & 1 & 0 & 33 & 0 &  8780 &  1 & 0 & 0 & 0 & 0 &  1 & 1\\\\\n\\end{tabular}\n",
            "text/plain": [
              "  CLAIM KIDSDRIV AGE HOMEKIDS INCOME HOMEOWN MSTATUS GENDER EDUCATION TRAVTIME\n",
              "1 0     0        60  0         67349 0       0       0      1         14      \n",
              "2 0     0        43  0         91449 1       0       0      0         22      \n",
              "3 0     0        35  1         16039 1       1       1      0          5      \n",
              "4 0     0        50  0        114986 1       1       1      1         36      \n",
              "5 1     0        34  1        125301 0       0       1      1         46      \n",
              "6 0     0        54  0         18755 0       1       1      0         33      \n",
              "  CAR_USE BLUEBOOK TWC RED_CAR CLM_BEF REVOKED MVR_PTS CAR_AGE URBANICITY\n",
              "1 0       14230    11  1       1       0       1       18      1         \n",
              "2 1       14940     1  1       0       0       0        1      1         \n",
              "3 0        4010     4  0       1       0       1       10      1         \n",
              "4 0       18000     1  0       1       1       1       17      1         \n",
              "5 1       17430     1  0       0       0       0        7      1         \n",
              "6 0        8780     1  0       0       0       0        1      1         "
            ]
          },
          "metadata": {}
        },
        {
          "output_type": "stream",
          "name": "stdout",
          "text": [
            "'data.frame':\t7232 obs. of  19 variables:\n",
            " $ CLAIM     : int  0 0 0 0 1 0 1 1 0 1 ...\n",
            " $ KIDSDRIV  : int  0 0 0 0 0 0 1 0 0 0 ...\n",
            " $ AGE       : int  60 43 35 50 34 54 37 34 50 53 ...\n",
            " $ HOMEKIDS  : int  0 0 1 0 1 0 1 0 0 0 ...\n",
            " $ INCOME    : int  67349 91449 16039 114986 125301 18755 107961 62978 106952 77100 ...\n",
            " $ HOMEOWN   : int  0 1 1 1 0 0 1 0 0 0 ...\n",
            " $ MSTATUS   : int  0 0 1 1 0 1 1 0 0 0 ...\n",
            " $ GENDER    : int  0 0 1 1 1 1 0 1 0 1 ...\n",
            " $ EDUCATION : int  1 0 0 1 1 0 1 1 1 1 ...\n",
            " $ TRAVTIME  : int  14 22 5 36 46 33 44 34 48 15 ...\n",
            " $ CAR_USE   : int  0 1 0 0 1 0 1 0 1 0 ...\n",
            " $ BLUEBOOK  : int  14230 14940 4010 18000 17430 8780 16970 11200 18510 18300 ...\n",
            " $ TWC       : int  11 1 4 1 1 1 1 1 7 1 ...\n",
            " $ RED_CAR   : int  1 1 0 0 0 0 1 0 0 0 ...\n",
            " $ CLM_BEF   : int  1 0 1 1 0 0 1 0 0 0 ...\n",
            " $ REVOKED   : int  0 0 0 1 0 0 1 0 0 0 ...\n",
            " $ MVR_PTS   : int  1 0 1 1 0 0 1 0 1 0 ...\n",
            " $ CAR_AGE   : int  18 1 10 17 7 1 7 1 17 11 ...\n",
            " $ URBANICITY: int  1 1 1 1 1 1 1 1 0 1 ...\n"
          ]
        },
        {
          "output_type": "display_data",
          "data": {
            "text/plain": [
              "     CLAIM           KIDSDRIV           AGE           HOMEKIDS     \n",
              " Min.   :0.0000   Min.   :0.0000   Min.   :16.00   Min.   :0.0000  \n",
              " 1st Qu.:0.0000   1st Qu.:0.0000   1st Qu.:39.00   1st Qu.:0.0000  \n",
              " Median :0.0000   Median :0.0000   Median :45.00   Median :0.0000  \n",
              " Mean   :0.2638   Mean   :0.1189   Mean   :44.78   Mean   :0.3523  \n",
              " 3rd Qu.:1.0000   3rd Qu.:0.0000   3rd Qu.:51.00   3rd Qu.:1.0000  \n",
              " Max.   :1.0000   Max.   :1.0000   Max.   :81.00   Max.   :1.0000  \n",
              "     INCOME          HOMEOWN          MSTATUS           GENDER      \n",
              " Min.   :     0   Min.   :0.0000   Min.   :0.0000   Min.   :0.0000  \n",
              " 1st Qu.: 28117   1st Qu.:0.0000   1st Qu.:0.0000   1st Qu.:0.0000  \n",
              " Median : 54009   Median :1.0000   Median :1.0000   Median :1.0000  \n",
              " Mean   : 61912   Mean   :0.6632   Mean   :0.5979   Mean   :0.5365  \n",
              " 3rd Qu.: 86166   3rd Qu.:1.0000   3rd Qu.:1.0000   3rd Qu.:1.0000  \n",
              " Max.   :367030   Max.   :1.0000   Max.   :1.0000   Max.   :1.0000  \n",
              "   EDUCATION         TRAVTIME         CAR_USE          BLUEBOOK    \n",
              " Min.   :0.0000   Min.   :  5.00   Min.   :0.0000   Min.   : 1500  \n",
              " 1st Qu.:0.0000   1st Qu.: 23.00   1st Qu.:0.0000   1st Qu.: 9360  \n",
              " Median :1.0000   Median : 33.00   Median :0.0000   Median :14460  \n",
              " Mean   :0.5658   Mean   : 33.57   Mean   :0.3729   Mean   :15766  \n",
              " 3rd Qu.:1.0000   3rd Qu.: 44.00   3rd Qu.:1.0000   3rd Qu.:20870  \n",
              " Max.   :1.0000   Max.   :142.00   Max.   :1.0000   Max.   :69740  \n",
              "      TWC            RED_CAR          CLM_BEF         REVOKED      \n",
              " Min.   : 1.000   Min.   :0.0000   Min.   :0.000   Min.   :0.0000  \n",
              " 1st Qu.: 1.000   1st Qu.:0.0000   1st Qu.:0.000   1st Qu.:0.0000  \n",
              " Median : 4.000   Median :0.0000   Median :0.000   Median :0.0000  \n",
              " Mean   : 5.359   Mean   :0.2904   Mean   :0.385   Mean   :0.1231  \n",
              " 3rd Qu.: 7.000   3rd Qu.:1.0000   3rd Qu.:1.000   3rd Qu.:0.0000  \n",
              " Max.   :25.000   Max.   :1.0000   Max.   :1.000   Max.   :1.0000  \n",
              "    MVR_PTS          CAR_AGE        URBANICITY    \n",
              " Min.   :0.0000   Min.   :-3.00   Min.   :0.0000  \n",
              " 1st Qu.:0.0000   1st Qu.: 1.00   1st Qu.:1.0000  \n",
              " Median :1.0000   Median : 8.00   Median :1.0000  \n",
              " Mean   :0.5509   Mean   : 8.34   Mean   :0.7977  \n",
              " 3rd Qu.:1.0000   3rd Qu.:12.00   3rd Qu.:1.0000  \n",
              " Max.   :1.0000   Max.   :28.00   Max.   :1.0000  "
            ]
          },
          "metadata": {}
        },
        {
          "output_type": "display_data",
          "data": {
            "text/html": [
              "<table class=\"dataframe\">\n",
              "<caption>A data.frame: 4318 × 18</caption>\n",
              "<thead>\n",
              "\t<tr><th></th><th scope=col>KIDSDRIV</th><th scope=col>AGE</th><th scope=col>HOMEKIDS</th><th scope=col>INCOME</th><th scope=col>HOMEOWN</th><th scope=col>MSTATUS</th><th scope=col>GENDER</th><th scope=col>EDUCATION</th><th scope=col>TRAVTIME</th><th scope=col>CAR_USE</th><th scope=col>BLUEBOOK</th><th scope=col>TWC</th><th scope=col>RED_CAR</th><th scope=col>CLM_BEF</th><th scope=col>REVOKED</th><th scope=col>MVR_PTS</th><th scope=col>CAR_AGE</th><th scope=col>URBANICITY</th></tr>\n",
              "\t<tr><th></th><th scope=col>&lt;int&gt;</th><th scope=col>&lt;int&gt;</th><th scope=col>&lt;int&gt;</th><th scope=col>&lt;int&gt;</th><th scope=col>&lt;int&gt;</th><th scope=col>&lt;int&gt;</th><th scope=col>&lt;int&gt;</th><th scope=col>&lt;int&gt;</th><th scope=col>&lt;int&gt;</th><th scope=col>&lt;int&gt;</th><th scope=col>&lt;int&gt;</th><th scope=col>&lt;int&gt;</th><th scope=col>&lt;int&gt;</th><th scope=col>&lt;int&gt;</th><th scope=col>&lt;int&gt;</th><th scope=col>&lt;int&gt;</th><th scope=col>&lt;int&gt;</th><th scope=col>&lt;int&gt;</th></tr>\n",
              "</thead>\n",
              "<tbody>\n",
              "\t<tr><th scope=row>3</th><td>0</td><td>35</td><td>1</td><td> 16039</td><td>1</td><td>1</td><td>1</td><td>0</td><td> 5</td><td>0</td><td> 4010</td><td> 4</td><td>0</td><td>1</td><td>0</td><td>1</td><td>10</td><td>1</td></tr>\n",
              "\t<tr><th scope=row>6</th><td>0</td><td>54</td><td>0</td><td> 18755</td><td>0</td><td>1</td><td>1</td><td>0</td><td>33</td><td>0</td><td> 8780</td><td> 1</td><td>0</td><td>0</td><td>0</td><td>0</td><td> 1</td><td>1</td></tr>\n",
              "\t<tr><th scope=row>8</th><td>0</td><td>34</td><td>0</td><td> 62978</td><td>0</td><td>0</td><td>1</td><td>1</td><td>34</td><td>0</td><td>11200</td><td> 1</td><td>0</td><td>0</td><td>0</td><td>0</td><td> 1</td><td>1</td></tr>\n",
              "\t<tr><th scope=row>11</th><td>0</td><td>43</td><td>0</td><td> 52642</td><td>1</td><td>1</td><td>1</td><td>1</td><td>36</td><td>0</td><td>22420</td><td> 7</td><td>0</td><td>0</td><td>0</td><td>0</td><td> 1</td><td>0</td></tr>\n",
              "\t<tr><th scope=row>14</th><td>0</td><td>45</td><td>0</td><td>     0</td><td>1</td><td>1</td><td>1</td><td>0</td><td>48</td><td>0</td><td> 6000</td><td> 1</td><td>0</td><td>0</td><td>0</td><td>1</td><td> 5</td><td>1</td></tr>\n",
              "\t<tr><th scope=row>15</th><td>0</td><td>39</td><td>1</td><td> 51884</td><td>1</td><td>0</td><td>1</td><td>1</td><td>43</td><td>0</td><td>10590</td><td> 6</td><td>0</td><td>0</td><td>0</td><td>0</td><td>13</td><td>0</td></tr>\n",
              "\t<tr><th scope=row>18</th><td>0</td><td>31</td><td>1</td><td> 18903</td><td>1</td><td>1</td><td>1</td><td>0</td><td>48</td><td>0</td><td>17330</td><td> 4</td><td>0</td><td>0</td><td>0</td><td>0</td><td> 7</td><td>1</td></tr>\n",
              "\t<tr><th scope=row>19</th><td>0</td><td>28</td><td>1</td><td> 44077</td><td>1</td><td>1</td><td>1</td><td>0</td><td>29</td><td>1</td><td> 8710</td><td> 6</td><td>0</td><td>1</td><td>0</td><td>0</td><td> 1</td><td>1</td></tr>\n",
              "\t<tr><th scope=row>20</th><td>0</td><td>43</td><td>0</td><td> 37214</td><td>0</td><td>1</td><td>0</td><td>0</td><td>52</td><td>1</td><td>26560</td><td> 1</td><td>1</td><td>0</td><td>0</td><td>1</td><td> 1</td><td>1</td></tr>\n",
              "\t<tr><th scope=row>22</th><td>0</td><td>47</td><td>0</td><td> 46281</td><td>0</td><td>0</td><td>1</td><td>0</td><td>29</td><td>0</td><td>19700</td><td>10</td><td>0</td><td>0</td><td>0</td><td>1</td><td> 5</td><td>1</td></tr>\n",
              "\t<tr><th scope=row>25</th><td>0</td><td>32</td><td>1</td><td> 31275</td><td>1</td><td>1</td><td>1</td><td>0</td><td>26</td><td>0</td><td>10030</td><td> 1</td><td>0</td><td>0</td><td>0</td><td>0</td><td> 1</td><td>1</td></tr>\n",
              "\t<tr><th scope=row>26</th><td>1</td><td>44</td><td>1</td><td> 45488</td><td>1</td><td>1</td><td>0</td><td>1</td><td>16</td><td>0</td><td>22090</td><td>17</td><td>0</td><td>0</td><td>0</td><td>0</td><td>12</td><td>1</td></tr>\n",
              "\t<tr><th scope=row>27</th><td>0</td><td>35</td><td>0</td><td> 72193</td><td>0</td><td>0</td><td>1</td><td>1</td><td>26</td><td>0</td><td>12220</td><td> 6</td><td>0</td><td>0</td><td>0</td><td>1</td><td>12</td><td>1</td></tr>\n",
              "\t<tr><th scope=row>29</th><td>0</td><td>52</td><td>0</td><td> 51278</td><td>1</td><td>1</td><td>1</td><td>1</td><td>37</td><td>0</td><td> 1500</td><td> 4</td><td>0</td><td>0</td><td>0</td><td>1</td><td>10</td><td>1</td></tr>\n",
              "\t<tr><th scope=row>33</th><td>0</td><td>49</td><td>0</td><td>115044</td><td>1</td><td>0</td><td>1</td><td>1</td><td>18</td><td>0</td><td>17900</td><td> 1</td><td>0</td><td>0</td><td>0</td><td>0</td><td>14</td><td>1</td></tr>\n",
              "\t<tr><th scope=row>35</th><td>0</td><td>43</td><td>1</td><td>145353</td><td>1</td><td>1</td><td>1</td><td>1</td><td>38</td><td>1</td><td>29450</td><td> 6</td><td>0</td><td>0</td><td>0</td><td>0</td><td>15</td><td>1</td></tr>\n",
              "\t<tr><th scope=row>37</th><td>0</td><td>52</td><td>0</td><td>     0</td><td>1</td><td>0</td><td>1</td><td>0</td><td>48</td><td>1</td><td> 9280</td><td> 1</td><td>0</td><td>0</td><td>0</td><td>1</td><td> 6</td><td>0</td></tr>\n",
              "\t<tr><th scope=row>38</th><td>0</td><td>35</td><td>0</td><td> 14508</td><td>0</td><td>1</td><td>0</td><td>1</td><td>22</td><td>1</td><td> 6450</td><td> 1</td><td>0</td><td>0</td><td>0</td><td>0</td><td> 7</td><td>1</td></tr>\n",
              "\t<tr><th scope=row>41</th><td>0</td><td>40</td><td>0</td><td> 57474</td><td>1</td><td>1</td><td>0</td><td>1</td><td> 5</td><td>1</td><td>29270</td><td> 4</td><td>1</td><td>0</td><td>0</td><td>1</td><td> 5</td><td>1</td></tr>\n",
              "\t<tr><th scope=row>42</th><td>0</td><td>31</td><td>1</td><td> 26520</td><td>1</td><td>1</td><td>0</td><td>1</td><td>62</td><td>1</td><td> 4600</td><td> 6</td><td>1</td><td>0</td><td>0</td><td>1</td><td> 5</td><td>1</td></tr>\n",
              "\t<tr><th scope=row>43</th><td>0</td><td>53</td><td>0</td><td>107259</td><td>1</td><td>1</td><td>0</td><td>1</td><td>36</td><td>0</td><td>29230</td><td>10</td><td>1</td><td>0</td><td>0</td><td>0</td><td>15</td><td>1</td></tr>\n",
              "\t<tr><th scope=row>45</th><td>0</td><td>33</td><td>1</td><td> 32364</td><td>1</td><td>1</td><td>0</td><td>0</td><td>40</td><td>0</td><td>12270</td><td>18</td><td>1</td><td>0</td><td>0</td><td>1</td><td> 1</td><td>1</td></tr>\n",
              "\t<tr><th scope=row>51</th><td>0</td><td>33</td><td>1</td><td> 20822</td><td>1</td><td>1</td><td>1</td><td>0</td><td>46</td><td>0</td><td> 6880</td><td>13</td><td>0</td><td>1</td><td>0</td><td>0</td><td> 1</td><td>1</td></tr>\n",
              "\t<tr><th scope=row>52</th><td>0</td><td>32</td><td>1</td><td> 54968</td><td>1</td><td>1</td><td>1</td><td>0</td><td>20</td><td>0</td><td>10040</td><td> 4</td><td>0</td><td>0</td><td>1</td><td>0</td><td> 8</td><td>1</td></tr>\n",
              "\t<tr><th scope=row>53</th><td>0</td><td>34</td><td>0</td><td> 14194</td><td>1</td><td>0</td><td>1</td><td>0</td><td>13</td><td>0</td><td> 2920</td><td> 4</td><td>0</td><td>1</td><td>1</td><td>1</td><td>10</td><td>1</td></tr>\n",
              "\t<tr><th scope=row>55</th><td>1</td><td>43</td><td>1</td><td>137103</td><td>0</td><td>0</td><td>1</td><td>1</td><td>29</td><td>0</td><td>19510</td><td> 1</td><td>0</td><td>1</td><td>0</td><td>0</td><td>15</td><td>1</td></tr>\n",
              "\t<tr><th scope=row>58</th><td>0</td><td>63</td><td>0</td><td> 74426</td><td>0</td><td>0</td><td>1</td><td>1</td><td>11</td><td>0</td><td>27600</td><td> 1</td><td>0</td><td>0</td><td>0</td><td>0</td><td>18</td><td>1</td></tr>\n",
              "\t<tr><th scope=row>59</th><td>0</td><td>44</td><td>0</td><td> 74722</td><td>1</td><td>1</td><td>1</td><td>1</td><td> 9</td><td>0</td><td>23640</td><td> 6</td><td>0</td><td>0</td><td>0</td><td>0</td><td> 1</td><td>1</td></tr>\n",
              "\t<tr><th scope=row>60</th><td>1</td><td>45</td><td>1</td><td>102393</td><td>0</td><td>0</td><td>0</td><td>1</td><td>25</td><td>0</td><td> 1500</td><td> 1</td><td>1</td><td>0</td><td>0</td><td>1</td><td>11</td><td>1</td></tr>\n",
              "\t<tr><th scope=row>64</th><td>0</td><td>44</td><td>1</td><td>139330</td><td>1</td><td>0</td><td>1</td><td>0</td><td>35</td><td>1</td><td>22050</td><td>10</td><td>0</td><td>0</td><td>0</td><td>0</td><td> 1</td><td>0</td></tr>\n",
              "\t<tr><th scope=row>⋮</th><td>⋮</td><td>⋮</td><td>⋮</td><td>⋮</td><td>⋮</td><td>⋮</td><td>⋮</td><td>⋮</td><td>⋮</td><td>⋮</td><td>⋮</td><td>⋮</td><td>⋮</td><td>⋮</td><td>⋮</td><td>⋮</td><td>⋮</td><td>⋮</td></tr>\n",
              "\t<tr><th scope=row>7185</th><td>0</td><td>35</td><td>1</td><td> 50971</td><td>1</td><td>1</td><td>1</td><td>1</td><td>10</td><td>0</td><td> 7180</td><td> 7</td><td>0</td><td>1</td><td>0</td><td>1</td><td>13</td><td>1</td></tr>\n",
              "\t<tr><th scope=row>7187</th><td>0</td><td>50</td><td>0</td><td> 37546</td><td>1</td><td>1</td><td>1</td><td>0</td><td>41</td><td>0</td><td> 6120</td><td> 7</td><td>0</td><td>0</td><td>0</td><td>0</td><td> 1</td><td>1</td></tr>\n",
              "\t<tr><th scope=row>7190</th><td>0</td><td>39</td><td>0</td><td> 47458</td><td>0</td><td>0</td><td>1</td><td>1</td><td>42</td><td>0</td><td>20270</td><td> 1</td><td>0</td><td>1</td><td>0</td><td>1</td><td>11</td><td>1</td></tr>\n",
              "\t<tr><th scope=row>7191</th><td>0</td><td>50</td><td>0</td><td> 16074</td><td>0</td><td>0</td><td>1</td><td>0</td><td>53</td><td>0</td><td>13420</td><td>10</td><td>0</td><td>1</td><td>0</td><td>1</td><td> 1</td><td>1</td></tr>\n",
              "\t<tr><th scope=row>7193</th><td>0</td><td>56</td><td>0</td><td>   571</td><td>1</td><td>1</td><td>0</td><td>0</td><td>41</td><td>0</td><td> 5670</td><td>14</td><td>0</td><td>0</td><td>0</td><td>1</td><td> 6</td><td>0</td></tr>\n",
              "\t<tr><th scope=row>7195</th><td>0</td><td>49</td><td>0</td><td>106231</td><td>1</td><td>1</td><td>1</td><td>1</td><td>12</td><td>0</td><td>28110</td><td> 6</td><td>0</td><td>0</td><td>0</td><td>0</td><td>15</td><td>1</td></tr>\n",
              "\t<tr><th scope=row>7196</th><td>0</td><td>34</td><td>1</td><td>121861</td><td>1</td><td>1</td><td>1</td><td>1</td><td>32</td><td>0</td><td>15090</td><td> 4</td><td>0</td><td>0</td><td>0</td><td>0</td><td> 1</td><td>1</td></tr>\n",
              "\t<tr><th scope=row>7197</th><td>1</td><td>37</td><td>1</td><td> 23048</td><td>1</td><td>1</td><td>1</td><td>0</td><td>13</td><td>1</td><td>20850</td><td> 4</td><td>0</td><td>0</td><td>0</td><td>1</td><td> 9</td><td>1</td></tr>\n",
              "\t<tr><th scope=row>7198</th><td>1</td><td>56</td><td>1</td><td>176849</td><td>1</td><td>1</td><td>1</td><td>1</td><td>37</td><td>1</td><td>26470</td><td> 4</td><td>0</td><td>0</td><td>0</td><td>0</td><td> 6</td><td>1</td></tr>\n",
              "\t<tr><th scope=row>7199</th><td>0</td><td>38</td><td>0</td><td>118057</td><td>1</td><td>1</td><td>1</td><td>1</td><td>31</td><td>0</td><td>19390</td><td> 1</td><td>0</td><td>0</td><td>0</td><td>0</td><td> 9</td><td>1</td></tr>\n",
              "\t<tr><th scope=row>7201</th><td>0</td><td>45</td><td>0</td><td> 63357</td><td>0</td><td>0</td><td>0</td><td>0</td><td>67</td><td>1</td><td>17460</td><td> 1</td><td>1</td><td>0</td><td>0</td><td>1</td><td> 1</td><td>1</td></tr>\n",
              "\t<tr><th scope=row>7203</th><td>1</td><td>46</td><td>0</td><td> 35362</td><td>0</td><td>0</td><td>0</td><td>0</td><td>42</td><td>1</td><td>17970</td><td>11</td><td>0</td><td>1</td><td>1</td><td>1</td><td> 7</td><td>1</td></tr>\n",
              "\t<tr><th scope=row>7205</th><td>0</td><td>47</td><td>0</td><td>112264</td><td>0</td><td>0</td><td>0</td><td>1</td><td>44</td><td>1</td><td>24020</td><td> 1</td><td>1</td><td>1</td><td>1</td><td>1</td><td>20</td><td>1</td></tr>\n",
              "\t<tr><th scope=row>7206</th><td>0</td><td>47</td><td>0</td><td>282198</td><td>1</td><td>0</td><td>0</td><td>1</td><td>32</td><td>1</td><td>34420</td><td>11</td><td>1</td><td>0</td><td>1</td><td>1</td><td>16</td><td>1</td></tr>\n",
              "\t<tr><th scope=row>7207</th><td>0</td><td>43</td><td>0</td><td>     0</td><td>1</td><td>1</td><td>1</td><td>1</td><td>29</td><td>0</td><td>24030</td><td> 9</td><td>0</td><td>1</td><td>0</td><td>0</td><td>14</td><td>1</td></tr>\n",
              "\t<tr><th scope=row>7209</th><td>0</td><td>46</td><td>0</td><td> 68360</td><td>1</td><td>0</td><td>0</td><td>1</td><td>49</td><td>1</td><td>12940</td><td> 1</td><td>0</td><td>1</td><td>0</td><td>1</td><td>11</td><td>1</td></tr>\n",
              "\t<tr><th scope=row>7210</th><td>1</td><td>46</td><td>0</td><td> 84667</td><td>1</td><td>1</td><td>1</td><td>1</td><td>56</td><td>1</td><td>35050</td><td> 1</td><td>0</td><td>0</td><td>0</td><td>0</td><td> 7</td><td>1</td></tr>\n",
              "\t<tr><th scope=row>7214</th><td>0</td><td>49</td><td>0</td><td> 60049</td><td>1</td><td>0</td><td>1</td><td>0</td><td>21</td><td>0</td><td> 6200</td><td> 1</td><td>0</td><td>0</td><td>0</td><td>0</td><td> 1</td><td>0</td></tr>\n",
              "\t<tr><th scope=row>7216</th><td>0</td><td>36</td><td>1</td><td>131335</td><td>1</td><td>0</td><td>1</td><td>1</td><td>10</td><td>0</td><td>28490</td><td> 1</td><td>0</td><td>0</td><td>0</td><td>0</td><td> 4</td><td>0</td></tr>\n",
              "\t<tr><th scope=row>7217</th><td>0</td><td>38</td><td>1</td><td> 83458</td><td>1</td><td>0</td><td>1</td><td>1</td><td>23</td><td>0</td><td>28260</td><td> 6</td><td>0</td><td>1</td><td>0</td><td>1</td><td> 9</td><td>1</td></tr>\n",
              "\t<tr><th scope=row>7218</th><td>0</td><td>41</td><td>0</td><td> 92185</td><td>1</td><td>1</td><td>0</td><td>0</td><td>24</td><td>0</td><td> 1500</td><td>11</td><td>1</td><td>0</td><td>0</td><td>0</td><td>10</td><td>1</td></tr>\n",
              "\t<tr><th scope=row>7219</th><td>0</td><td>60</td><td>0</td><td> 19796</td><td>1</td><td>0</td><td>1</td><td>1</td><td>33</td><td>0</td><td>21690</td><td> 1</td><td>0</td><td>1</td><td>0</td><td>1</td><td> 1</td><td>1</td></tr>\n",
              "\t<tr><th scope=row>7220</th><td>0</td><td>45</td><td>0</td><td> 52966</td><td>0</td><td>0</td><td>0</td><td>0</td><td>16</td><td>1</td><td>11300</td><td> 6</td><td>1</td><td>1</td><td>1</td><td>1</td><td> 1</td><td>1</td></tr>\n",
              "\t<tr><th scope=row>7222</th><td>0</td><td>54</td><td>0</td><td> 62060</td><td>1</td><td>1</td><td>0</td><td>0</td><td>51</td><td>0</td><td> 1500</td><td> 6</td><td>0</td><td>0</td><td>0</td><td>1</td><td> 1</td><td>1</td></tr>\n",
              "\t<tr><th scope=row>7224</th><td>1</td><td>46</td><td>0</td><td> 45018</td><td>0</td><td>0</td><td>0</td><td>0</td><td>26</td><td>0</td><td>15060</td><td> 4</td><td>0</td><td>1</td><td>0</td><td>0</td><td> 1</td><td>0</td></tr>\n",
              "\t<tr><th scope=row>7225</th><td>0</td><td>48</td><td>0</td><td>111305</td><td>0</td><td>0</td><td>1</td><td>1</td><td>59</td><td>0</td><td>17430</td><td>13</td><td>0</td><td>0</td><td>0</td><td>1</td><td>18</td><td>1</td></tr>\n",
              "\t<tr><th scope=row>7226</th><td>1</td><td>38</td><td>1</td><td> 12717</td><td>0</td><td>1</td><td>1</td><td>1</td><td>15</td><td>1</td><td>24740</td><td> 1</td><td>0</td><td>1</td><td>0</td><td>1</td><td>15</td><td>1</td></tr>\n",
              "\t<tr><th scope=row>7227</th><td>0</td><td>41</td><td>0</td><td>  6256</td><td>0</td><td>0</td><td>0</td><td>0</td><td>41</td><td>0</td><td> 5600</td><td> 1</td><td>0</td><td>0</td><td>0</td><td>0</td><td> 7</td><td>0</td></tr>\n",
              "\t<tr><th scope=row>7228</th><td>0</td><td>35</td><td>0</td><td> 43112</td><td>0</td><td>0</td><td>0</td><td>0</td><td>51</td><td>1</td><td>27330</td><td>10</td><td>1</td><td>0</td><td>0</td><td>0</td><td> 8</td><td>0</td></tr>\n",
              "\t<tr><th scope=row>7231</th><td>0</td><td>50</td><td>0</td><td> 43445</td><td>1</td><td>1</td><td>1</td><td>1</td><td>36</td><td>0</td><td>22550</td><td> 6</td><td>0</td><td>0</td><td>0</td><td>0</td><td>11</td><td>1</td></tr>\n",
              "</tbody>\n",
              "</table>\n"
            ],
            "text/markdown": "\nA data.frame: 4318 × 18\n\n| <!--/--> | KIDSDRIV &lt;int&gt; | AGE &lt;int&gt; | HOMEKIDS &lt;int&gt; | INCOME &lt;int&gt; | HOMEOWN &lt;int&gt; | MSTATUS &lt;int&gt; | GENDER &lt;int&gt; | EDUCATION &lt;int&gt; | TRAVTIME &lt;int&gt; | CAR_USE &lt;int&gt; | BLUEBOOK &lt;int&gt; | TWC &lt;int&gt; | RED_CAR &lt;int&gt; | CLM_BEF &lt;int&gt; | REVOKED &lt;int&gt; | MVR_PTS &lt;int&gt; | CAR_AGE &lt;int&gt; | URBANICITY &lt;int&gt; |\n|---|---|---|---|---|---|---|---|---|---|---|---|---|---|---|---|---|---|---|\n| 3 | 0 | 35 | 1 |  16039 | 1 | 1 | 1 | 0 |  5 | 0 |  4010 |  4 | 0 | 1 | 0 | 1 | 10 | 1 |\n| 6 | 0 | 54 | 0 |  18755 | 0 | 1 | 1 | 0 | 33 | 0 |  8780 |  1 | 0 | 0 | 0 | 0 |  1 | 1 |\n| 8 | 0 | 34 | 0 |  62978 | 0 | 0 | 1 | 1 | 34 | 0 | 11200 |  1 | 0 | 0 | 0 | 0 |  1 | 1 |\n| 11 | 0 | 43 | 0 |  52642 | 1 | 1 | 1 | 1 | 36 | 0 | 22420 |  7 | 0 | 0 | 0 | 0 |  1 | 0 |\n| 14 | 0 | 45 | 0 |      0 | 1 | 1 | 1 | 0 | 48 | 0 |  6000 |  1 | 0 | 0 | 0 | 1 |  5 | 1 |\n| 15 | 0 | 39 | 1 |  51884 | 1 | 0 | 1 | 1 | 43 | 0 | 10590 |  6 | 0 | 0 | 0 | 0 | 13 | 0 |\n| 18 | 0 | 31 | 1 |  18903 | 1 | 1 | 1 | 0 | 48 | 0 | 17330 |  4 | 0 | 0 | 0 | 0 |  7 | 1 |\n| 19 | 0 | 28 | 1 |  44077 | 1 | 1 | 1 | 0 | 29 | 1 |  8710 |  6 | 0 | 1 | 0 | 0 |  1 | 1 |\n| 20 | 0 | 43 | 0 |  37214 | 0 | 1 | 0 | 0 | 52 | 1 | 26560 |  1 | 1 | 0 | 0 | 1 |  1 | 1 |\n| 22 | 0 | 47 | 0 |  46281 | 0 | 0 | 1 | 0 | 29 | 0 | 19700 | 10 | 0 | 0 | 0 | 1 |  5 | 1 |\n| 25 | 0 | 32 | 1 |  31275 | 1 | 1 | 1 | 0 | 26 | 0 | 10030 |  1 | 0 | 0 | 0 | 0 |  1 | 1 |\n| 26 | 1 | 44 | 1 |  45488 | 1 | 1 | 0 | 1 | 16 | 0 | 22090 | 17 | 0 | 0 | 0 | 0 | 12 | 1 |\n| 27 | 0 | 35 | 0 |  72193 | 0 | 0 | 1 | 1 | 26 | 0 | 12220 |  6 | 0 | 0 | 0 | 1 | 12 | 1 |\n| 29 | 0 | 52 | 0 |  51278 | 1 | 1 | 1 | 1 | 37 | 0 |  1500 |  4 | 0 | 0 | 0 | 1 | 10 | 1 |\n| 33 | 0 | 49 | 0 | 115044 | 1 | 0 | 1 | 1 | 18 | 0 | 17900 |  1 | 0 | 0 | 0 | 0 | 14 | 1 |\n| 35 | 0 | 43 | 1 | 145353 | 1 | 1 | 1 | 1 | 38 | 1 | 29450 |  6 | 0 | 0 | 0 | 0 | 15 | 1 |\n| 37 | 0 | 52 | 0 |      0 | 1 | 0 | 1 | 0 | 48 | 1 |  9280 |  1 | 0 | 0 | 0 | 1 |  6 | 0 |\n| 38 | 0 | 35 | 0 |  14508 | 0 | 1 | 0 | 1 | 22 | 1 |  6450 |  1 | 0 | 0 | 0 | 0 |  7 | 1 |\n| 41 | 0 | 40 | 0 |  57474 | 1 | 1 | 0 | 1 |  5 | 1 | 29270 |  4 | 1 | 0 | 0 | 1 |  5 | 1 |\n| 42 | 0 | 31 | 1 |  26520 | 1 | 1 | 0 | 1 | 62 | 1 |  4600 |  6 | 1 | 0 | 0 | 1 |  5 | 1 |\n| 43 | 0 | 53 | 0 | 107259 | 1 | 1 | 0 | 1 | 36 | 0 | 29230 | 10 | 1 | 0 | 0 | 0 | 15 | 1 |\n| 45 | 0 | 33 | 1 |  32364 | 1 | 1 | 0 | 0 | 40 | 0 | 12270 | 18 | 1 | 0 | 0 | 1 |  1 | 1 |\n| 51 | 0 | 33 | 1 |  20822 | 1 | 1 | 1 | 0 | 46 | 0 |  6880 | 13 | 0 | 1 | 0 | 0 |  1 | 1 |\n| 52 | 0 | 32 | 1 |  54968 | 1 | 1 | 1 | 0 | 20 | 0 | 10040 |  4 | 0 | 0 | 1 | 0 |  8 | 1 |\n| 53 | 0 | 34 | 0 |  14194 | 1 | 0 | 1 | 0 | 13 | 0 |  2920 |  4 | 0 | 1 | 1 | 1 | 10 | 1 |\n| 55 | 1 | 43 | 1 | 137103 | 0 | 0 | 1 | 1 | 29 | 0 | 19510 |  1 | 0 | 1 | 0 | 0 | 15 | 1 |\n| 58 | 0 | 63 | 0 |  74426 | 0 | 0 | 1 | 1 | 11 | 0 | 27600 |  1 | 0 | 0 | 0 | 0 | 18 | 1 |\n| 59 | 0 | 44 | 0 |  74722 | 1 | 1 | 1 | 1 |  9 | 0 | 23640 |  6 | 0 | 0 | 0 | 0 |  1 | 1 |\n| 60 | 1 | 45 | 1 | 102393 | 0 | 0 | 0 | 1 | 25 | 0 |  1500 |  1 | 1 | 0 | 0 | 1 | 11 | 1 |\n| 64 | 0 | 44 | 1 | 139330 | 1 | 0 | 1 | 0 | 35 | 1 | 22050 | 10 | 0 | 0 | 0 | 0 |  1 | 0 |\n| ⋮ | ⋮ | ⋮ | ⋮ | ⋮ | ⋮ | ⋮ | ⋮ | ⋮ | ⋮ | ⋮ | ⋮ | ⋮ | ⋮ | ⋮ | ⋮ | ⋮ | ⋮ | ⋮ |\n| 7185 | 0 | 35 | 1 |  50971 | 1 | 1 | 1 | 1 | 10 | 0 |  7180 |  7 | 0 | 1 | 0 | 1 | 13 | 1 |\n| 7187 | 0 | 50 | 0 |  37546 | 1 | 1 | 1 | 0 | 41 | 0 |  6120 |  7 | 0 | 0 | 0 | 0 |  1 | 1 |\n| 7190 | 0 | 39 | 0 |  47458 | 0 | 0 | 1 | 1 | 42 | 0 | 20270 |  1 | 0 | 1 | 0 | 1 | 11 | 1 |\n| 7191 | 0 | 50 | 0 |  16074 | 0 | 0 | 1 | 0 | 53 | 0 | 13420 | 10 | 0 | 1 | 0 | 1 |  1 | 1 |\n| 7193 | 0 | 56 | 0 |    571 | 1 | 1 | 0 | 0 | 41 | 0 |  5670 | 14 | 0 | 0 | 0 | 1 |  6 | 0 |\n| 7195 | 0 | 49 | 0 | 106231 | 1 | 1 | 1 | 1 | 12 | 0 | 28110 |  6 | 0 | 0 | 0 | 0 | 15 | 1 |\n| 7196 | 0 | 34 | 1 | 121861 | 1 | 1 | 1 | 1 | 32 | 0 | 15090 |  4 | 0 | 0 | 0 | 0 |  1 | 1 |\n| 7197 | 1 | 37 | 1 |  23048 | 1 | 1 | 1 | 0 | 13 | 1 | 20850 |  4 | 0 | 0 | 0 | 1 |  9 | 1 |\n| 7198 | 1 | 56 | 1 | 176849 | 1 | 1 | 1 | 1 | 37 | 1 | 26470 |  4 | 0 | 0 | 0 | 0 |  6 | 1 |\n| 7199 | 0 | 38 | 0 | 118057 | 1 | 1 | 1 | 1 | 31 | 0 | 19390 |  1 | 0 | 0 | 0 | 0 |  9 | 1 |\n| 7201 | 0 | 45 | 0 |  63357 | 0 | 0 | 0 | 0 | 67 | 1 | 17460 |  1 | 1 | 0 | 0 | 1 |  1 | 1 |\n| 7203 | 1 | 46 | 0 |  35362 | 0 | 0 | 0 | 0 | 42 | 1 | 17970 | 11 | 0 | 1 | 1 | 1 |  7 | 1 |\n| 7205 | 0 | 47 | 0 | 112264 | 0 | 0 | 0 | 1 | 44 | 1 | 24020 |  1 | 1 | 1 | 1 | 1 | 20 | 1 |\n| 7206 | 0 | 47 | 0 | 282198 | 1 | 0 | 0 | 1 | 32 | 1 | 34420 | 11 | 1 | 0 | 1 | 1 | 16 | 1 |\n| 7207 | 0 | 43 | 0 |      0 | 1 | 1 | 1 | 1 | 29 | 0 | 24030 |  9 | 0 | 1 | 0 | 0 | 14 | 1 |\n| 7209 | 0 | 46 | 0 |  68360 | 1 | 0 | 0 | 1 | 49 | 1 | 12940 |  1 | 0 | 1 | 0 | 1 | 11 | 1 |\n| 7210 | 1 | 46 | 0 |  84667 | 1 | 1 | 1 | 1 | 56 | 1 | 35050 |  1 | 0 | 0 | 0 | 0 |  7 | 1 |\n| 7214 | 0 | 49 | 0 |  60049 | 1 | 0 | 1 | 0 | 21 | 0 |  6200 |  1 | 0 | 0 | 0 | 0 |  1 | 0 |\n| 7216 | 0 | 36 | 1 | 131335 | 1 | 0 | 1 | 1 | 10 | 0 | 28490 |  1 | 0 | 0 | 0 | 0 |  4 | 0 |\n| 7217 | 0 | 38 | 1 |  83458 | 1 | 0 | 1 | 1 | 23 | 0 | 28260 |  6 | 0 | 1 | 0 | 1 |  9 | 1 |\n| 7218 | 0 | 41 | 0 |  92185 | 1 | 1 | 0 | 0 | 24 | 0 |  1500 | 11 | 1 | 0 | 0 | 0 | 10 | 1 |\n| 7219 | 0 | 60 | 0 |  19796 | 1 | 0 | 1 | 1 | 33 | 0 | 21690 |  1 | 0 | 1 | 0 | 1 |  1 | 1 |\n| 7220 | 0 | 45 | 0 |  52966 | 0 | 0 | 0 | 0 | 16 | 1 | 11300 |  6 | 1 | 1 | 1 | 1 |  1 | 1 |\n| 7222 | 0 | 54 | 0 |  62060 | 1 | 1 | 0 | 0 | 51 | 0 |  1500 |  6 | 0 | 0 | 0 | 1 |  1 | 1 |\n| 7224 | 1 | 46 | 0 |  45018 | 0 | 0 | 0 | 0 | 26 | 0 | 15060 |  4 | 0 | 1 | 0 | 0 |  1 | 0 |\n| 7225 | 0 | 48 | 0 | 111305 | 0 | 0 | 1 | 1 | 59 | 0 | 17430 | 13 | 0 | 0 | 0 | 1 | 18 | 1 |\n| 7226 | 1 | 38 | 1 |  12717 | 0 | 1 | 1 | 1 | 15 | 1 | 24740 |  1 | 0 | 1 | 0 | 1 | 15 | 1 |\n| 7227 | 0 | 41 | 0 |   6256 | 0 | 0 | 0 | 0 | 41 | 0 |  5600 |  1 | 0 | 0 | 0 | 0 |  7 | 0 |\n| 7228 | 0 | 35 | 0 |  43112 | 0 | 0 | 0 | 0 | 51 | 1 | 27330 | 10 | 1 | 0 | 0 | 0 |  8 | 0 |\n| 7231 | 0 | 50 | 0 |  43445 | 1 | 1 | 1 | 1 | 36 | 0 | 22550 |  6 | 0 | 0 | 0 | 0 | 11 | 1 |\n\n",
            "text/latex": "A data.frame: 4318 × 18\n\\begin{tabular}{r|llllllllllllllllll}\n  & KIDSDRIV & AGE & HOMEKIDS & INCOME & HOMEOWN & MSTATUS & GENDER & EDUCATION & TRAVTIME & CAR\\_USE & BLUEBOOK & TWC & RED\\_CAR & CLM\\_BEF & REVOKED & MVR\\_PTS & CAR\\_AGE & URBANICITY\\\\\n  & <int> & <int> & <int> & <int> & <int> & <int> & <int> & <int> & <int> & <int> & <int> & <int> & <int> & <int> & <int> & <int> & <int> & <int>\\\\\n\\hline\n\t3 & 0 & 35 & 1 &  16039 & 1 & 1 & 1 & 0 &  5 & 0 &  4010 &  4 & 0 & 1 & 0 & 1 & 10 & 1\\\\\n\t6 & 0 & 54 & 0 &  18755 & 0 & 1 & 1 & 0 & 33 & 0 &  8780 &  1 & 0 & 0 & 0 & 0 &  1 & 1\\\\\n\t8 & 0 & 34 & 0 &  62978 & 0 & 0 & 1 & 1 & 34 & 0 & 11200 &  1 & 0 & 0 & 0 & 0 &  1 & 1\\\\\n\t11 & 0 & 43 & 0 &  52642 & 1 & 1 & 1 & 1 & 36 & 0 & 22420 &  7 & 0 & 0 & 0 & 0 &  1 & 0\\\\\n\t14 & 0 & 45 & 0 &      0 & 1 & 1 & 1 & 0 & 48 & 0 &  6000 &  1 & 0 & 0 & 0 & 1 &  5 & 1\\\\\n\t15 & 0 & 39 & 1 &  51884 & 1 & 0 & 1 & 1 & 43 & 0 & 10590 &  6 & 0 & 0 & 0 & 0 & 13 & 0\\\\\n\t18 & 0 & 31 & 1 &  18903 & 1 & 1 & 1 & 0 & 48 & 0 & 17330 &  4 & 0 & 0 & 0 & 0 &  7 & 1\\\\\n\t19 & 0 & 28 & 1 &  44077 & 1 & 1 & 1 & 0 & 29 & 1 &  8710 &  6 & 0 & 1 & 0 & 0 &  1 & 1\\\\\n\t20 & 0 & 43 & 0 &  37214 & 0 & 1 & 0 & 0 & 52 & 1 & 26560 &  1 & 1 & 0 & 0 & 1 &  1 & 1\\\\\n\t22 & 0 & 47 & 0 &  46281 & 0 & 0 & 1 & 0 & 29 & 0 & 19700 & 10 & 0 & 0 & 0 & 1 &  5 & 1\\\\\n\t25 & 0 & 32 & 1 &  31275 & 1 & 1 & 1 & 0 & 26 & 0 & 10030 &  1 & 0 & 0 & 0 & 0 &  1 & 1\\\\\n\t26 & 1 & 44 & 1 &  45488 & 1 & 1 & 0 & 1 & 16 & 0 & 22090 & 17 & 0 & 0 & 0 & 0 & 12 & 1\\\\\n\t27 & 0 & 35 & 0 &  72193 & 0 & 0 & 1 & 1 & 26 & 0 & 12220 &  6 & 0 & 0 & 0 & 1 & 12 & 1\\\\\n\t29 & 0 & 52 & 0 &  51278 & 1 & 1 & 1 & 1 & 37 & 0 &  1500 &  4 & 0 & 0 & 0 & 1 & 10 & 1\\\\\n\t33 & 0 & 49 & 0 & 115044 & 1 & 0 & 1 & 1 & 18 & 0 & 17900 &  1 & 0 & 0 & 0 & 0 & 14 & 1\\\\\n\t35 & 0 & 43 & 1 & 145353 & 1 & 1 & 1 & 1 & 38 & 1 & 29450 &  6 & 0 & 0 & 0 & 0 & 15 & 1\\\\\n\t37 & 0 & 52 & 0 &      0 & 1 & 0 & 1 & 0 & 48 & 1 &  9280 &  1 & 0 & 0 & 0 & 1 &  6 & 0\\\\\n\t38 & 0 & 35 & 0 &  14508 & 0 & 1 & 0 & 1 & 22 & 1 &  6450 &  1 & 0 & 0 & 0 & 0 &  7 & 1\\\\\n\t41 & 0 & 40 & 0 &  57474 & 1 & 1 & 0 & 1 &  5 & 1 & 29270 &  4 & 1 & 0 & 0 & 1 &  5 & 1\\\\\n\t42 & 0 & 31 & 1 &  26520 & 1 & 1 & 0 & 1 & 62 & 1 &  4600 &  6 & 1 & 0 & 0 & 1 &  5 & 1\\\\\n\t43 & 0 & 53 & 0 & 107259 & 1 & 1 & 0 & 1 & 36 & 0 & 29230 & 10 & 1 & 0 & 0 & 0 & 15 & 1\\\\\n\t45 & 0 & 33 & 1 &  32364 & 1 & 1 & 0 & 0 & 40 & 0 & 12270 & 18 & 1 & 0 & 0 & 1 &  1 & 1\\\\\n\t51 & 0 & 33 & 1 &  20822 & 1 & 1 & 1 & 0 & 46 & 0 &  6880 & 13 & 0 & 1 & 0 & 0 &  1 & 1\\\\\n\t52 & 0 & 32 & 1 &  54968 & 1 & 1 & 1 & 0 & 20 & 0 & 10040 &  4 & 0 & 0 & 1 & 0 &  8 & 1\\\\\n\t53 & 0 & 34 & 0 &  14194 & 1 & 0 & 1 & 0 & 13 & 0 &  2920 &  4 & 0 & 1 & 1 & 1 & 10 & 1\\\\\n\t55 & 1 & 43 & 1 & 137103 & 0 & 0 & 1 & 1 & 29 & 0 & 19510 &  1 & 0 & 1 & 0 & 0 & 15 & 1\\\\\n\t58 & 0 & 63 & 0 &  74426 & 0 & 0 & 1 & 1 & 11 & 0 & 27600 &  1 & 0 & 0 & 0 & 0 & 18 & 1\\\\\n\t59 & 0 & 44 & 0 &  74722 & 1 & 1 & 1 & 1 &  9 & 0 & 23640 &  6 & 0 & 0 & 0 & 0 &  1 & 1\\\\\n\t60 & 1 & 45 & 1 & 102393 & 0 & 0 & 0 & 1 & 25 & 0 &  1500 &  1 & 1 & 0 & 0 & 1 & 11 & 1\\\\\n\t64 & 0 & 44 & 1 & 139330 & 1 & 0 & 1 & 0 & 35 & 1 & 22050 & 10 & 0 & 0 & 0 & 0 &  1 & 0\\\\\n\t⋮ & ⋮ & ⋮ & ⋮ & ⋮ & ⋮ & ⋮ & ⋮ & ⋮ & ⋮ & ⋮ & ⋮ & ⋮ & ⋮ & ⋮ & ⋮ & ⋮ & ⋮ & ⋮\\\\\n\t7185 & 0 & 35 & 1 &  50971 & 1 & 1 & 1 & 1 & 10 & 0 &  7180 &  7 & 0 & 1 & 0 & 1 & 13 & 1\\\\\n\t7187 & 0 & 50 & 0 &  37546 & 1 & 1 & 1 & 0 & 41 & 0 &  6120 &  7 & 0 & 0 & 0 & 0 &  1 & 1\\\\\n\t7190 & 0 & 39 & 0 &  47458 & 0 & 0 & 1 & 1 & 42 & 0 & 20270 &  1 & 0 & 1 & 0 & 1 & 11 & 1\\\\\n\t7191 & 0 & 50 & 0 &  16074 & 0 & 0 & 1 & 0 & 53 & 0 & 13420 & 10 & 0 & 1 & 0 & 1 &  1 & 1\\\\\n\t7193 & 0 & 56 & 0 &    571 & 1 & 1 & 0 & 0 & 41 & 0 &  5670 & 14 & 0 & 0 & 0 & 1 &  6 & 0\\\\\n\t7195 & 0 & 49 & 0 & 106231 & 1 & 1 & 1 & 1 & 12 & 0 & 28110 &  6 & 0 & 0 & 0 & 0 & 15 & 1\\\\\n\t7196 & 0 & 34 & 1 & 121861 & 1 & 1 & 1 & 1 & 32 & 0 & 15090 &  4 & 0 & 0 & 0 & 0 &  1 & 1\\\\\n\t7197 & 1 & 37 & 1 &  23048 & 1 & 1 & 1 & 0 & 13 & 1 & 20850 &  4 & 0 & 0 & 0 & 1 &  9 & 1\\\\\n\t7198 & 1 & 56 & 1 & 176849 & 1 & 1 & 1 & 1 & 37 & 1 & 26470 &  4 & 0 & 0 & 0 & 0 &  6 & 1\\\\\n\t7199 & 0 & 38 & 0 & 118057 & 1 & 1 & 1 & 1 & 31 & 0 & 19390 &  1 & 0 & 0 & 0 & 0 &  9 & 1\\\\\n\t7201 & 0 & 45 & 0 &  63357 & 0 & 0 & 0 & 0 & 67 & 1 & 17460 &  1 & 1 & 0 & 0 & 1 &  1 & 1\\\\\n\t7203 & 1 & 46 & 0 &  35362 & 0 & 0 & 0 & 0 & 42 & 1 & 17970 & 11 & 0 & 1 & 1 & 1 &  7 & 1\\\\\n\t7205 & 0 & 47 & 0 & 112264 & 0 & 0 & 0 & 1 & 44 & 1 & 24020 &  1 & 1 & 1 & 1 & 1 & 20 & 1\\\\\n\t7206 & 0 & 47 & 0 & 282198 & 1 & 0 & 0 & 1 & 32 & 1 & 34420 & 11 & 1 & 0 & 1 & 1 & 16 & 1\\\\\n\t7207 & 0 & 43 & 0 &      0 & 1 & 1 & 1 & 1 & 29 & 0 & 24030 &  9 & 0 & 1 & 0 & 0 & 14 & 1\\\\\n\t7209 & 0 & 46 & 0 &  68360 & 1 & 0 & 0 & 1 & 49 & 1 & 12940 &  1 & 0 & 1 & 0 & 1 & 11 & 1\\\\\n\t7210 & 1 & 46 & 0 &  84667 & 1 & 1 & 1 & 1 & 56 & 1 & 35050 &  1 & 0 & 0 & 0 & 0 &  7 & 1\\\\\n\t7214 & 0 & 49 & 0 &  60049 & 1 & 0 & 1 & 0 & 21 & 0 &  6200 &  1 & 0 & 0 & 0 & 0 &  1 & 0\\\\\n\t7216 & 0 & 36 & 1 & 131335 & 1 & 0 & 1 & 1 & 10 & 0 & 28490 &  1 & 0 & 0 & 0 & 0 &  4 & 0\\\\\n\t7217 & 0 & 38 & 1 &  83458 & 1 & 0 & 1 & 1 & 23 & 0 & 28260 &  6 & 0 & 1 & 0 & 1 &  9 & 1\\\\\n\t7218 & 0 & 41 & 0 &  92185 & 1 & 1 & 0 & 0 & 24 & 0 &  1500 & 11 & 1 & 0 & 0 & 0 & 10 & 1\\\\\n\t7219 & 0 & 60 & 0 &  19796 & 1 & 0 & 1 & 1 & 33 & 0 & 21690 &  1 & 0 & 1 & 0 & 1 &  1 & 1\\\\\n\t7220 & 0 & 45 & 0 &  52966 & 0 & 0 & 0 & 0 & 16 & 1 & 11300 &  6 & 1 & 1 & 1 & 1 &  1 & 1\\\\\n\t7222 & 0 & 54 & 0 &  62060 & 1 & 1 & 0 & 0 & 51 & 0 &  1500 &  6 & 0 & 0 & 0 & 1 &  1 & 1\\\\\n\t7224 & 1 & 46 & 0 &  45018 & 0 & 0 & 0 & 0 & 26 & 0 & 15060 &  4 & 0 & 1 & 0 & 0 &  1 & 0\\\\\n\t7225 & 0 & 48 & 0 & 111305 & 0 & 0 & 1 & 1 & 59 & 0 & 17430 & 13 & 0 & 0 & 0 & 1 & 18 & 1\\\\\n\t7226 & 1 & 38 & 1 &  12717 & 0 & 1 & 1 & 1 & 15 & 1 & 24740 &  1 & 0 & 1 & 0 & 1 & 15 & 1\\\\\n\t7227 & 0 & 41 & 0 &   6256 & 0 & 0 & 0 & 0 & 41 & 0 &  5600 &  1 & 0 & 0 & 0 & 0 &  7 & 0\\\\\n\t7228 & 0 & 35 & 0 &  43112 & 0 & 0 & 0 & 0 & 51 & 1 & 27330 & 10 & 1 & 0 & 0 & 0 &  8 & 0\\\\\n\t7231 & 0 & 50 & 0 &  43445 & 1 & 1 & 1 & 1 & 36 & 0 & 22550 &  6 & 0 & 0 & 0 & 0 & 11 & 1\\\\\n\\end{tabular}\n",
            "text/plain": [
              "     KIDSDRIV AGE HOMEKIDS INCOME HOMEOWN MSTATUS GENDER EDUCATION TRAVTIME\n",
              "3    0        35  1         16039 1       1       1      0          5      \n",
              "6    0        54  0         18755 0       1       1      0         33      \n",
              "8    0        34  0         62978 0       0       1      1         34      \n",
              "11   0        43  0         52642 1       1       1      1         36      \n",
              "14   0        45  0             0 1       1       1      0         48      \n",
              "15   0        39  1         51884 1       0       1      1         43      \n",
              "18   0        31  1         18903 1       1       1      0         48      \n",
              "19   0        28  1         44077 1       1       1      0         29      \n",
              "20   0        43  0         37214 0       1       0      0         52      \n",
              "22   0        47  0         46281 0       0       1      0         29      \n",
              "25   0        32  1         31275 1       1       1      0         26      \n",
              "26   1        44  1         45488 1       1       0      1         16      \n",
              "27   0        35  0         72193 0       0       1      1         26      \n",
              "29   0        52  0         51278 1       1       1      1         37      \n",
              "33   0        49  0        115044 1       0       1      1         18      \n",
              "35   0        43  1        145353 1       1       1      1         38      \n",
              "37   0        52  0             0 1       0       1      0         48      \n",
              "38   0        35  0         14508 0       1       0      1         22      \n",
              "41   0        40  0         57474 1       1       0      1          5      \n",
              "42   0        31  1         26520 1       1       0      1         62      \n",
              "43   0        53  0        107259 1       1       0      1         36      \n",
              "45   0        33  1         32364 1       1       0      0         40      \n",
              "51   0        33  1         20822 1       1       1      0         46      \n",
              "52   0        32  1         54968 1       1       1      0         20      \n",
              "53   0        34  0         14194 1       0       1      0         13      \n",
              "55   1        43  1        137103 0       0       1      1         29      \n",
              "58   0        63  0         74426 0       0       1      1         11      \n",
              "59   0        44  0         74722 1       1       1      1          9      \n",
              "60   1        45  1        102393 0       0       0      1         25      \n",
              "64   0        44  1        139330 1       0       1      0         35      \n",
              "⋮    ⋮        ⋮   ⋮        ⋮      ⋮       ⋮       ⋮      ⋮         ⋮       \n",
              "7185 0        35  1         50971 1       1       1      1         10      \n",
              "7187 0        50  0         37546 1       1       1      0         41      \n",
              "7190 0        39  0         47458 0       0       1      1         42      \n",
              "7191 0        50  0         16074 0       0       1      0         53      \n",
              "7193 0        56  0           571 1       1       0      0         41      \n",
              "7195 0        49  0        106231 1       1       1      1         12      \n",
              "7196 0        34  1        121861 1       1       1      1         32      \n",
              "7197 1        37  1         23048 1       1       1      0         13      \n",
              "7198 1        56  1        176849 1       1       1      1         37      \n",
              "7199 0        38  0        118057 1       1       1      1         31      \n",
              "7201 0        45  0         63357 0       0       0      0         67      \n",
              "7203 1        46  0         35362 0       0       0      0         42      \n",
              "7205 0        47  0        112264 0       0       0      1         44      \n",
              "7206 0        47  0        282198 1       0       0      1         32      \n",
              "7207 0        43  0             0 1       1       1      1         29      \n",
              "7209 0        46  0         68360 1       0       0      1         49      \n",
              "7210 1        46  0         84667 1       1       1      1         56      \n",
              "7214 0        49  0         60049 1       0       1      0         21      \n",
              "7216 0        36  1        131335 1       0       1      1         10      \n",
              "7217 0        38  1         83458 1       0       1      1         23      \n",
              "7218 0        41  0         92185 1       1       0      0         24      \n",
              "7219 0        60  0         19796 1       0       1      1         33      \n",
              "7220 0        45  0         52966 0       0       0      0         16      \n",
              "7222 0        54  0         62060 1       1       0      0         51      \n",
              "7224 1        46  0         45018 0       0       0      0         26      \n",
              "7225 0        48  0        111305 0       0       1      1         59      \n",
              "7226 1        38  1         12717 0       1       1      1         15      \n",
              "7227 0        41  0          6256 0       0       0      0         41      \n",
              "7228 0        35  0         43112 0       0       0      0         51      \n",
              "7231 0        50  0         43445 1       1       1      1         36      \n",
              "     CAR_USE BLUEBOOK TWC RED_CAR CLM_BEF REVOKED MVR_PTS CAR_AGE URBANICITY\n",
              "3    0        4010     4  0       1       0       1       10      1         \n",
              "6    0        8780     1  0       0       0       0        1      1         \n",
              "8    0       11200     1  0       0       0       0        1      1         \n",
              "11   0       22420     7  0       0       0       0        1      0         \n",
              "14   0        6000     1  0       0       0       1        5      1         \n",
              "15   0       10590     6  0       0       0       0       13      0         \n",
              "18   0       17330     4  0       0       0       0        7      1         \n",
              "19   1        8710     6  0       1       0       0        1      1         \n",
              "20   1       26560     1  1       0       0       1        1      1         \n",
              "22   0       19700    10  0       0       0       1        5      1         \n",
              "25   0       10030     1  0       0       0       0        1      1         \n",
              "26   0       22090    17  0       0       0       0       12      1         \n",
              "27   0       12220     6  0       0       0       1       12      1         \n",
              "29   0        1500     4  0       0       0       1       10      1         \n",
              "33   0       17900     1  0       0       0       0       14      1         \n",
              "35   1       29450     6  0       0       0       0       15      1         \n",
              "37   1        9280     1  0       0       0       1        6      0         \n",
              "38   1        6450     1  0       0       0       0        7      1         \n",
              "41   1       29270     4  1       0       0       1        5      1         \n",
              "42   1        4600     6  1       0       0       1        5      1         \n",
              "43   0       29230    10  1       0       0       0       15      1         \n",
              "45   0       12270    18  1       0       0       1        1      1         \n",
              "51   0        6880    13  0       1       0       0        1      1         \n",
              "52   0       10040     4  0       0       1       0        8      1         \n",
              "53   0        2920     4  0       1       1       1       10      1         \n",
              "55   0       19510     1  0       1       0       0       15      1         \n",
              "58   0       27600     1  0       0       0       0       18      1         \n",
              "59   0       23640     6  0       0       0       0        1      1         \n",
              "60   0        1500     1  1       0       0       1       11      1         \n",
              "64   1       22050    10  0       0       0       0        1      0         \n",
              "⋮    ⋮       ⋮        ⋮   ⋮       ⋮       ⋮       ⋮       ⋮       ⋮         \n",
              "7185 0        7180     7  0       1       0       1       13      1         \n",
              "7187 0        6120     7  0       0       0       0        1      1         \n",
              "7190 0       20270     1  0       1       0       1       11      1         \n",
              "7191 0       13420    10  0       1       0       1        1      1         \n",
              "7193 0        5670    14  0       0       0       1        6      0         \n",
              "7195 0       28110     6  0       0       0       0       15      1         \n",
              "7196 0       15090     4  0       0       0       0        1      1         \n",
              "7197 1       20850     4  0       0       0       1        9      1         \n",
              "7198 1       26470     4  0       0       0       0        6      1         \n",
              "7199 0       19390     1  0       0       0       0        9      1         \n",
              "7201 1       17460     1  1       0       0       1        1      1         \n",
              "7203 1       17970    11  0       1       1       1        7      1         \n",
              "7205 1       24020     1  1       1       1       1       20      1         \n",
              "7206 1       34420    11  1       0       1       1       16      1         \n",
              "7207 0       24030     9  0       1       0       0       14      1         \n",
              "7209 1       12940     1  0       1       0       1       11      1         \n",
              "7210 1       35050     1  0       0       0       0        7      1         \n",
              "7214 0        6200     1  0       0       0       0        1      0         \n",
              "7216 0       28490     1  0       0       0       0        4      0         \n",
              "7217 0       28260     6  0       1       0       1        9      1         \n",
              "7218 0        1500    11  1       0       0       0       10      1         \n",
              "7219 0       21690     1  0       1       0       1        1      1         \n",
              "7220 1       11300     6  1       1       1       1        1      1         \n",
              "7222 0        1500     6  0       0       0       1        1      1         \n",
              "7224 0       15060     4  0       1       0       0        1      0         \n",
              "7225 0       17430    13  0       0       0       1       18      1         \n",
              "7226 1       24740     1  0       1       0       1       15      1         \n",
              "7227 0        5600     1  0       0       0       0        7      0         \n",
              "7228 1       27330    10  1       0       0       0        8      0         \n",
              "7231 0       22550     6  0       0       0       0       11      1         "
            ]
          },
          "metadata": {}
        },
        {
          "output_type": "display_data",
          "data": {
            "text/plain": [
              "\n",
              "Call:\n",
              "glm(formula = CLAIM ~ ., family = \"binomial\", data = train)\n",
              "\n",
              "Deviance Residuals: \n",
              "    Min       1Q   Median       3Q      Max  \n",
              "-2.1789  -0.7334  -0.4059   0.6785   2.9091  \n",
              "\n",
              "Coefficients:\n",
              "              Estimate Std. Error z value Pr(>|z|)    \n",
              "(Intercept) -3.210e+00  3.414e-01  -9.402  < 2e-16 ***\n",
              "KIDSDRIV     4.607e-01  1.339e-01   3.441 0.000580 ***\n",
              "AGE          2.219e-03  5.520e-03   0.402 0.687776    \n",
              "HOMEKIDS     3.904e-01  1.111e-01   3.514 0.000441 ***\n",
              "INCOME      -5.137e-06  1.162e-06  -4.421 9.80e-06 ***\n",
              "HOMEOWN     -1.751e-01  9.579e-02  -1.828 0.067519 .  \n",
              "MSTATUS     -7.006e-01  9.487e-02  -7.385 1.53e-13 ***\n",
              "GENDER       2.592e-01  1.100e-01   2.357 0.018428 *  \n",
              "EDUCATION   -4.754e-01  1.109e-01  -4.288 1.81e-05 ***\n",
              "TRAVTIME     1.788e-02  2.535e-03   7.052 1.77e-12 ***\n",
              "CAR_USE      1.053e+00  8.834e-02  11.916  < 2e-16 ***\n",
              "BLUEBOOK    -3.071e-05  5.454e-06  -5.630 1.80e-08 ***\n",
              "TWC         -6.471e-02  1.007e-02  -6.426 1.31e-10 ***\n",
              "RED_CAR     -1.034e-01  1.163e-01  -0.889 0.373903    \n",
              "CLM_BEF      6.206e-01  8.387e-02   7.400 1.36e-13 ***\n",
              "REVOKED      7.385e-01  1.072e-01   6.887 5.72e-12 ***\n",
              "MVR_PTS      3.325e-01  8.615e-02   3.859 0.000114 ***\n",
              "CAR_AGE     -5.596e-03  9.289e-03  -0.602 0.546921    \n",
              "URBANICITY   2.373e+00  1.581e-01  15.015  < 2e-16 ***\n",
              "---\n",
              "Signif. codes:  0 ‘***’ 0.001 ‘**’ 0.01 ‘*’ 0.05 ‘.’ 0.1 ‘ ’ 1\n",
              "\n",
              "(Dispersion parameter for binomial family taken to be 1)\n",
              "\n",
              "    Null deviance: 5015.3  on 4317  degrees of freedom\n",
              "Residual deviance: 3924.6  on 4299  degrees of freedom\n",
              "AIC: 3962.6\n",
              "\n",
              "Number of Fisher Scoring iterations: 5\n"
            ]
          },
          "metadata": {}
        },
        {
          "output_type": "display_data",
          "data": {
            "text/plain": [
              "   \n",
              "    FALSE TRUE\n",
              "  0  1004  105\n",
              "  1   217  148"
            ]
          },
          "metadata": {}
        },
        {
          "output_type": "display_data",
          "data": {
            "text/html": [
              "148"
            ],
            "text/markdown": "148",
            "text/latex": "148",
            "text/plain": [
              "[1] 148"
            ]
          },
          "metadata": {}
        }
      ]
    },
    {
      "cell_type": "code",
      "source": [
        "\n",
        "validation$predicted <- ifelse(predict(logit_model, newdata = validation, type = \"response\") >= 0.5, 1, 0)\n",
        "confusionMatrix(validation$CLAIM, validation$predicted)"
      ],
      "metadata": {
        "colab": {
          "base_uri": "https://localhost:8080/",
          "height": 190
        },
        "id": "s3WnKmCckLFd",
        "outputId": "f2a56941-c3bf-4f5a-aef7-4e78ba373d76"
      },
      "execution_count": null,
      "outputs": [
        {
          "output_type": "error",
          "ename": "ERROR",
          "evalue": "ignored",
          "traceback": [
            "Error in predict(logit_model, newdata = validation, type = \"response\"): object 'logit_model' not found\nTraceback:\n",
            "1. ifelse(predict(logit_model, newdata = validation, type = \"response\") >= \n .     0.5, 1, 0)",
            "2. predict(logit_model, newdata = validation, type = \"response\")"
          ]
        }
      ]
    },
    {
      "cell_type": "code",
      "source": [
        "# Set seed for reproducibility\n",
        "set.seed(42)\n",
        "\n",
        "# Partition the data into training, validation, and test sets\n",
        "library(caTools)\n",
        "split <- sample.split(insurancedf$CLAIM, SplitRatio = 0.6)\n",
        "train <- subset(insurancedf, split == TRUE)\n",
        "other <- subset(insurancedf, split == FALSE)\n",
        "split2 <- sample.split(other$CLAIM, SplitRatio = 0.5)\n",
        "validate <- subset(other, split2 == TRUE)\n",
        "test <- subset(other, split2 == FALSE)\n"
      ],
      "metadata": {
        "id": "DC42d9o3QFBf"
      },
      "execution_count": null,
      "outputs": []
    },
    {
      "cell_type": "code",
      "source": [
        "# Fit a logistic regression model to the training data\n",
        "logit <- glm(CLAIM ~ ., data = train, family = \"binomial\")\n",
        "\n",
        "# View the model summary\n",
        "summary(logit)\n"
      ],
      "metadata": {
        "colab": {
          "base_uri": "https://localhost:8080/",
          "height": 729
        },
        "id": "CgsYBbRHQHB9",
        "outputId": "f2632d8c-d33a-4362-88ae-345dde69f211"
      },
      "execution_count": null,
      "outputs": [
        {
          "output_type": "display_data",
          "data": {
            "text/plain": [
              "\n",
              "Call:\n",
              "glm(formula = CLAIM ~ ., family = \"binomial\", data = train)\n",
              "\n",
              "Deviance Residuals: \n",
              "    Min       1Q   Median       3Q      Max  \n",
              "-2.0904  -0.7361  -0.4338   0.7057   3.0169  \n",
              "\n",
              "Coefficients:\n",
              "              Estimate Std. Error z value Pr(>|z|)    \n",
              "(Intercept) -2.607e+00  3.272e-01  -7.968 1.61e-15 ***\n",
              "KIDSDRIV     4.980e-01  1.324e-01   3.761 0.000169 ***\n",
              "AGE         -3.056e-03  5.370e-03  -0.569 0.569328    \n",
              "HOMEKIDS     3.856e-01  1.073e-01   3.594 0.000325 ***\n",
              "INCOME      -5.565e-06  1.151e-06  -4.835 1.33e-06 ***\n",
              "HOMEOWN     -1.658e-01  9.583e-02  -1.730 0.083677 .  \n",
              "MSTATUS     -7.433e-01  9.500e-02  -7.824 5.11e-15 ***\n",
              "GENDER       1.259e-01  1.086e-01   1.159 0.246319    \n",
              "EDUCATION   -5.053e-01  1.094e-01  -4.617 3.89e-06 ***\n",
              "TRAVTIME     1.637e-02  2.533e-03   6.460 1.05e-10 ***\n",
              "CAR_USE      8.307e-01  8.648e-02   9.606  < 2e-16 ***\n",
              "BLUEBOOK    -2.112e-05  5.360e-06  -3.940 8.14e-05 ***\n",
              "TWC         -5.920e-02  9.822e-03  -6.027 1.67e-09 ***\n",
              "RED_CAR     -1.234e-01  1.153e-01  -1.071 0.284303    \n",
              "CLM_BEF      6.502e-01  8.230e-02   7.900 2.78e-15 ***\n",
              "REVOKED      7.431e-01  1.064e-01   6.987 2.81e-12 ***\n",
              "MVR_PTS      2.902e-01  8.406e-02   3.452 0.000556 ***\n",
              "CAR_AGE      2.596e-04  9.213e-03   0.028 0.977522    \n",
              "URBANICITY   2.022e+00  1.453e-01  13.921  < 2e-16 ***\n",
              "---\n",
              "Signif. codes:  0 ‘***’ 0.001 ‘**’ 0.01 ‘*’ 0.05 ‘.’ 0.1 ‘ ’ 1\n",
              "\n",
              "(Dispersion parameter for binomial family taken to be 1)\n",
              "\n",
              "    Null deviance: 5007.9  on 4338  degrees of freedom\n",
              "Residual deviance: 4024.3  on 4320  degrees of freedom\n",
              "AIC: 4062.3\n",
              "\n",
              "Number of Fisher Scoring iterations: 5\n"
            ]
          },
          "metadata": {}
        }
      ]
    },
    {
      "cell_type": "code",
      "source": [
        "# Predict on validation data\n",
        "pred_val <- predict(logit, newdata = validate, type = \"response\")\n",
        "\n",
        "pred_val"
      ],
      "metadata": {
        "colab": {
          "base_uri": "https://localhost:8080/",
          "height": 1000
        },
        "id": "72rJqZYKxKQk",
        "outputId": "5abc3ba3-5328-4c9a-f317-687293efb0fb"
      },
      "execution_count": null,
      "outputs": [
        {
          "output_type": "display_data",
          "data": {
            "text/html": [
              "<style>\n",
              ".dl-inline {width: auto; margin:0; padding: 0}\n",
              ".dl-inline>dt, .dl-inline>dd {float: none; width: auto; display: inline-block}\n",
              ".dl-inline>dt::after {content: \":\\0020\"; padding-right: .5ex}\n",
              ".dl-inline>dt:not(:first-of-type) {padding-left: .5ex}\n",
              "</style><dl class=dl-inline><dt>2</dt><dd>0.332294077139771</dd><dt>4</dt><dd>0.304054765284101</dd><dt>8</dt><dd>0.239141031747582</dd><dt>11</dt><dd>0.00977365890762107</dd><dt>15</dt><dd>0.045381672597883</dd><dt>24</dt><dd>0.0146874496995161</dd><dt>26</dt><dd>0.0623338386476706</dd><dt>30</dt><dd>0.3043792668182</dd><dt>32</dt><dd>0.0342871482558427</dd><dt>39</dt><dd>0.0899990504643189</dd><dt>45</dt><dd>0.131002483123924</dd><dt>46</dt><dd>0.805826818314725</dd><dt>55</dt><dd>0.421325222153173</dd><dt>61</dt><dd>0.349435401069422</dd><dt>64</dt><dd>0.0559917771851323</dd><dt>67</dt><dd>0.098957526145255</dd><dt>69</dt><dd>0.173818559619584</dd><dt>76</dt><dd>0.135465053609802</dd><dt>85</dt><dd>0.444362449564864</dd><dt>86</dt><dd>0.209074651989035</dd><dt>87</dt><dd>0.355846726627224</dd><dt>88</dt><dd>0.235437739273598</dd><dt>90</dt><dd>0.0465109870490361</dd><dt>95</dt><dd>0.0977601858101427</dd><dt>104</dt><dd>0.11722686636327</dd><dt>109</dt><dd>0.548501188487445</dd><dt>110</dt><dd>0.869707471859264</dd><dt>122</dt><dd>0.113589901758974</dd><dt>126</dt><dd>0.123176085477418</dd><dt>127</dt><dd>0.0427385946988482</dd><dt>131</dt><dd>0.190412545685764</dd><dt>133</dt><dd>0.0737657194291931</dd><dt>138</dt><dd>0.16413183966286</dd><dt>139</dt><dd>0.246835462793438</dd><dt>142</dt><dd>0.037571861031296</dd><dt>145</dt><dd>0.090007410437284</dd><dt>146</dt><dd>0.0631512161195517</dd><dt>148</dt><dd>0.197161108350256</dd><dt>151</dt><dd>0.352729514861669</dd><dt>157</dt><dd>0.055755350775713</dd><dt>172</dt><dd>0.0933836448970169</dd><dt>174</dt><dd>0.269452296261994</dd><dt>175</dt><dd>0.280137413810482</dd><dt>176</dt><dd>0.152591032738357</dd><dt>177</dt><dd>0.216279105683478</dd><dt>179</dt><dd>0.0412641920735577</dd><dt>182</dt><dd>0.105572025476003</dd><dt>186</dt><dd>0.0264000652306129</dd><dt>188</dt><dd>0.167414393134971</dd><dt>189</dt><dd>0.395890275230752</dd><dt>196</dt><dd>0.782839183606859</dd><dt>202</dt><dd>0.1057216568085</dd><dt>204</dt><dd>0.158660176770745</dd><dt>221</dt><dd>0.411922849997797</dd><dt>225</dt><dd>0.826377755437653</dd><dt>227</dt><dd>0.745888899520531</dd><dt>228</dt><dd>0.900186470645647</dd><dt>237</dt><dd>0.0189061210325238</dd><dt>239</dt><dd>0.350244255889965</dd><dt>240</dt><dd>0.418435771857179</dd><dt>241</dt><dd>0.107501253703717</dd><dt>245</dt><dd>0.216171257484776</dd><dt>246</dt><dd>0.161039458321385</dd><dt>248</dt><dd>0.595354756119689</dd><dt>256</dt><dd>0.310308830202229</dd><dt>265</dt><dd>0.232341406554617</dd><dt>268</dt><dd>0.423216875155657</dd><dt>269</dt><dd>0.517880619488853</dd><dt>270</dt><dd>0.130743296253307</dd><dt>275</dt><dd>0.0905089941992127</dd><dt>276</dt><dd>0.41534732470981</dd><dt>285</dt><dd>0.0224071046199289</dd><dt>293</dt><dd>0.724010944109533</dd><dt>295</dt><dd>0.0183203329574714</dd><dt>302</dt><dd>0.236740883392246</dd><dt>323</dt><dd>0.128895987809284</dd><dt>324</dt><dd>0.0306458963068093</dd><dt>325</dt><dd>0.245492450086832</dd><dt>327</dt><dd>0.124692124727825</dd><dt>341</dt><dd>0.0671972248263513</dd><dt>343</dt><dd>0.574274141197038</dd><dt>349</dt><dd>0.795856457967811</dd><dt>357</dt><dd>0.0643388532023913</dd><dt>358</dt><dd>0.270557358263802</dd><dt>363</dt><dd>0.792365361859712</dd><dt>365</dt><dd>0.782805478008359</dd><dt>367</dt><dd>0.560424864401114</dd><dt>368</dt><dd>0.101331810032702</dd><dt>375</dt><dd>0.139355196253949</dd><dt>385</dt><dd>0.172510223183984</dd><dt>388</dt><dd>0.569607322808114</dd><dt>392</dt><dd>0.0731058702815246</dd><dt>399</dt><dd>0.0120153919688228</dd><dt>401</dt><dd>0.426341527065802</dd><dt>406</dt><dd>0.140010546164912</dd><dt>419</dt><dd>0.142334435453316</dd><dt>420</dt><dd>0.0379280829852567</dd><dt>430</dt><dd>0.409688919042491</dd><dt>438</dt><dd>0.378821424703886</dd><dt>446</dt><dd>0.0427089804826539</dd><dt>457</dt><dd>0.1103723397424</dd><dt>461</dt><dd>0.288385235690286</dd><dt>462</dt><dd>0.335318809679489</dd><dt>466</dt><dd>0.0967051806377005</dd><dt>471</dt><dd>0.00538885506828927</dd><dt>474</dt><dd>0.0902100260479253</dd><dt>478</dt><dd>0.527214163619525</dd><dt>480</dt><dd>0.0552118221373817</dd><dt>484</dt><dd>0.529055740895813</dd><dt>492</dt><dd>0.611835357308271</dd><dt>495</dt><dd>0.119297939280952</dd><dt>509</dt><dd>0.0142605024824398</dd><dt>522</dt><dd>0.0381016996107358</dd><dt>530</dt><dd>0.151742954689382</dd><dt>535</dt><dd>0.765763901426067</dd><dt>538</dt><dd>0.22908131047103</dd><dt>540</dt><dd>0.63931745418706</dd><dt>549</dt><dd>0.477349407876141</dd><dt>550</dt><dd>0.347775551875775</dd><dt>559</dt><dd>0.171970463642587</dd><dt>576</dt><dd>0.128999068875821</dd><dt>586</dt><dd>0.0451355607290495</dd><dt>592</dt><dd>0.162899391880635</dd><dt>594</dt><dd>0.490081266846469</dd><dt>597</dt><dd>0.0324649609718957</dd><dt>602</dt><dd>0.533264396382516</dd><dt>603</dt><dd>0.213153204198642</dd><dt>613</dt><dd>0.162342612413063</dd><dt>615</dt><dd>0.465943936747546</dd><dt>621</dt><dd>0.0410754086343392</dd><dt>630</dt><dd>0.186674449091892</dd><dt>634</dt><dd>0.125938093061412</dd><dt>643</dt><dd>0.179767581574188</dd><dt>652</dt><dd>0.283848121376194</dd><dt>660</dt><dd>0.652267451037228</dd><dt>662</dt><dd>0.513573516977181</dd><dt>671</dt><dd>0.369881769961853</dd><dt>673</dt><dd>0.14731784504957</dd><dt>676</dt><dd>0.637454780627617</dd><dt>677</dt><dd>0.412762024159922</dd><dt>697</dt><dd>0.0527837400918655</dd><dt>698</dt><dd>0.221376338829719</dd><dt>699</dt><dd>0.493429184731266</dd><dt>705</dt><dd>0.109040727681364</dd><dt>708</dt><dd>0.13177920475055</dd><dt>709</dt><dd>0.244213326193058</dd><dt>723</dt><dd>0.235120415477603</dd><dt>736</dt><dd>0.209220995343333</dd><dt>742</dt><dd>0.427210283755736</dd><dt>744</dt><dd>0.077631814853992</dd><dt>745</dt><dd>0.113877970984638</dd><dt>746</dt><dd>0.0193627461554883</dd><dt>747</dt><dd>0.718630065381618</dd><dt>756</dt><dd>0.604635725999992</dd><dt>759</dt><dd>0.0411322807140949</dd><dt>764</dt><dd>0.240134068178837</dd><dt>765</dt><dd>0.452771407951144</dd><dt>770</dt><dd>0.431649940770756</dd><dt>772</dt><dd>0.564638171403783</dd><dt>773</dt><dd>0.0225939739014317</dd><dt>774</dt><dd>0.107577680344148</dd><dt>777</dt><dd>0.0517280873374437</dd><dt>786</dt><dd>0.373384459796068</dd><dt>804</dt><dd>0.0143956033324541</dd><dt>818</dt><dd>0.420758660352495</dd><dt>819</dt><dd>0.629250096432315</dd><dt>839</dt><dd>0.112904394257921</dd><dt>843</dt><dd>0.0953827004443715</dd><dt>847</dt><dd>0.0447076297442537</dd><dt>854</dt><dd>0.787550506310908</dd><dt>855</dt><dd>0.455059826181634</dd><dt>858</dt><dd>0.0992283463069643</dd><dt>860</dt><dd>0.751915182745293</dd><dt>864</dt><dd>0.0469950572621911</dd><dt>865</dt><dd>0.415987110819664</dd><dt>867</dt><dd>0.143332776015497</dd><dt>868</dt><dd>0.172469993608295</dd><dt>880</dt><dd>0.0728535214325752</dd><dt>883</dt><dd>0.477804473680112</dd><dt>886</dt><dd>0.26077684674997</dd><dt>892</dt><dd>0.193466015303155</dd><dt>904</dt><dd>0.196710403299101</dd><dt>906</dt><dd>0.375971864711369</dd><dt>912</dt><dd>0.541284148980846</dd><dt>914</dt><dd>0.365608714259988</dd><dt>917</dt><dd>0.642727311626271</dd><dt>924</dt><dd>0.114377437646403</dd><dt>926</dt><dd>0.31747284430811</dd><dt>927</dt><dd>0.137657417509099</dd><dt>935</dt><dd>0.140385107978457</dd><dt>938</dt><dd>0.248482738988742</dd><dt>945</dt><dd>0.066802263440014</dd><dt>948</dt><dd>0.198332641514655</dd><dt>949</dt><dd>0.687805548034105</dd><dt>950</dt><dd>0.341030135494818</dd><dt>953</dt><dd>0.0532665642674306</dd><dt>954</dt><dd>0.544397951652471</dd><dt>957</dt><dd>0.73836509449111</dd><dt>979</dt><dd>0.0900586951970838</dd><dt>980</dt><dd>0.0479758565871846</dd><dt>981</dt><dd>⋯</dd><dt>989</dt><dd>0.159258342098004</dd><dt>990</dt><dd>0.217893661332939</dd><dt>991</dt><dd>0.138438923360699</dd><dt>1002</dt><dd>0.165658298564811</dd><dt>1014</dt><dd>0.162359860432403</dd><dt>1016</dt><dd>0.177369558546774</dd><dt>1017</dt><dd>0.037944806482164</dd><dt>1019</dt><dd>0.333030747049066</dd><dt>1035</dt><dd>0.448226300030716</dd><dt>1039</dt><dd>0.0521341425458838</dd><dt>1040</dt><dd>0.101078314530045</dd><dt>1043</dt><dd>0.0307377710678229</dd><dt>1050</dt><dd>0.349949064183932</dd><dt>1055</dt><dd>0.560139089056679</dd><dt>1058</dt><dd>0.0258308796428943</dd><dt>1060</dt><dd>0.0409518259523334</dd><dt>1091</dt><dd>0.442912557590369</dd><dt>1096</dt><dd>0.336564143598813</dd><dt>1098</dt><dd>0.0779786946672408</dd><dt>1099</dt><dd>0.723289451708528</dd><dt>1100</dt><dd>0.471602080450278</dd><dt>1112</dt><dd>0.0532464550396377</dd><dt>1113</dt><dd>0.247905525971968</dd><dt>1125</dt><dd>0.714108141196857</dd><dt>1128</dt><dd>0.376093157592443</dd><dt>1129</dt><dd>0.599989044079976</dd><dt>1133</dt><dd>0.471190205407397</dd><dt>1141</dt><dd>0.27387737870194</dd><dt>1144</dt><dd>0.172769545304327</dd><dt>1158</dt><dd>0.48773759091136</dd><dt>1172</dt><dd>0.603771337789769</dd><dt>1176</dt><dd>0.770329906870723</dd><dt>1177</dt><dd>0.272584157839113</dd><dt>1182</dt><dd>0.472026760923209</dd><dt>1185</dt><dd>0.0424889196798568</dd><dt>1187</dt><dd>0.880658312618099</dd><dt>1189</dt><dd>0.236566866646651</dd><dt>1195</dt><dd>0.035284005933019</dd><dt>1196</dt><dd>0.08649232540541</dd><dt>1204</dt><dd>0.0506333587090987</dd><dt>1207</dt><dd>0.395893044275505</dd><dt>1209</dt><dd>0.235631498234598</dd><dt>1214</dt><dd>0.370236920303847</dd><dt>1215</dt><dd>0.544643349961961</dd><dt>1231</dt><dd>0.219316194132721</dd><dt>1233</dt><dd>0.192847727653729</dd><dt>1234</dt><dd>0.624583415421362</dd><dt>1244</dt><dd>0.0866783299970116</dd><dt>1248</dt><dd>0.223653732022174</dd><dt>1252</dt><dd>0.0526915493991342</dd><dt>1260</dt><dd>0.497402222084557</dd><dt>1264</dt><dd>0.631507953975655</dd><dt>1265</dt><dd>0.435346296912429</dd><dt>1272</dt><dd>0.357149223657822</dd><dt>1277</dt><dd>0.124798804369409</dd><dt>1280</dt><dd>0.112495029270994</dd><dt>1289</dt><dd>0.10643579279062</dd><dt>1293</dt><dd>0.64853310589038</dd><dt>1294</dt><dd>0.27134017169503</dd><dt>1296</dt><dd>0.387091456309454</dd><dt>1297</dt><dd>0.486333238673668</dd><dt>1301</dt><dd>0.207846575321433</dd><dt>1320</dt><dd>0.101098392291144</dd><dt>1326</dt><dd>0.748280606696807</dd><dt>1336</dt><dd>0.192908102867903</dd><dt>1340</dt><dd>0.862787547305129</dd><dt>1347</dt><dd>0.251692698355057</dd><dt>1349</dt><dd>0.176099135323545</dd><dt>1350</dt><dd>0.239023651108764</dd><dt>1358</dt><dd>0.402316654705429</dd><dt>1362</dt><dd>0.0660033888942925</dd><dt>1371</dt><dd>0.482378801920823</dd><dt>1390</dt><dd>0.074649613629792</dd><dt>1391</dt><dd>0.260235259042356</dd><dt>1400</dt><dd>0.383884494652364</dd><dt>1406</dt><dd>0.0367752278255539</dd><dt>1407</dt><dd>0.516517568833681</dd><dt>1418</dt><dd>0.248806160954258</dd><dt>1419</dt><dd>0.0803169954457345</dd><dt>1426</dt><dd>0.0545127548990403</dd><dt>1433</dt><dd>0.130811822656831</dd><dt>1439</dt><dd>0.185914494670634</dd><dt>1441</dt><dd>0.32643286484742</dd><dt>1448</dt><dd>0.046732857826618</dd><dt>1450</dt><dd>0.110488420060221</dd><dt>1457</dt><dd>0.522795081119774</dd><dt>1462</dt><dd>0.126179014388237</dd><dt>1463</dt><dd>0.202011941870676</dd><dt>1466</dt><dd>0.622226360755049</dd><dt>1475</dt><dd>0.284573378527099</dd><dt>1479</dt><dd>0.279581125699005</dd><dt>1482</dt><dd>0.713040129706873</dd><dt>1484</dt><dd>0.0719237384125101</dd><dt>1493</dt><dd>0.0237342486992412</dd><dt>1494</dt><dd>0.240197192570293</dd><dt>1495</dt><dd>0.0444337654501609</dd><dt>1502</dt><dd>0.248357585561282</dd><dt>1504</dt><dd>0.146176213222094</dd><dt>1508</dt><dd>0.0428290973524931</dd><dt>1511</dt><dd>0.688221814032666</dd><dt>1520</dt><dd>0.287494184220222</dd><dt>1524</dt><dd>0.253000729494179</dd><dt>1525</dt><dd>0.0869070368493037</dd><dt>1527</dt><dd>0.155393611089067</dd><dt>1529</dt><dd>0.347016712656648</dd><dt>1535</dt><dd>0.398279295501924</dd><dt>1541</dt><dd>0.0979380627760826</dd><dt>1570</dt><dd>0.126655205336323</dd><dt>1571</dt><dd>0.702603500657756</dd><dt>1577</dt><dd>0.205110955831073</dd><dt>1578</dt><dd>0.142855130724619</dd><dt>1585</dt><dd>0.396903707097136</dd><dt>1592</dt><dd>0.561589802019239</dd><dt>1597</dt><dd>0.168796550074665</dd><dt>1603</dt><dd>0.371440029086462</dd><dt>1605</dt><dd>0.423304377612389</dd><dt>1610</dt><dd>0.48346912655225</dd><dt>1619</dt><dd>0.632376264896429</dd><dt>1621</dt><dd>0.587465325389816</dd><dt>1623</dt><dd>0.0640963932628841</dd><dt>1628</dt><dd>0.162745373167257</dd><dt>1631</dt><dd>0.0896458389112824</dd><dt>1633</dt><dd>0.337748243698392</dd><dt>1638</dt><dd>0.347360140399516</dd><dt>1639</dt><dd>0.25743117403729</dd><dt>1640</dt><dd>0.791149684000418</dd><dt>1643</dt><dd>0.302891006089898</dd><dt>1645</dt><dd>0.315754862884291</dd><dt>1649</dt><dd>0.208610261899058</dd><dt>1650</dt><dd>0.233498236314518</dd><dt>1660</dt><dd>0.118983891591236</dd><dt>1665</dt><dd>0.632305007964872</dd><dt>1666</dt><dd>0.298472805069788</dd><dt>1667</dt><dd>0.0409042070286732</dd><dt>1671</dt><dd>0.154876317362869</dd><dt>1689</dt><dd>0.170779337772855</dd><dt>1691</dt><dd>0.107541755347601</dd><dt>1692</dt><dd>0.595826956801188</dd><dt>1695</dt><dd>0.457262392950331</dd><dt>1698</dt><dd>0.0435771790244976</dd><dt>1700</dt><dd>0.136041562514548</dd><dt>1701</dt><dd>0.0295900080237707</dd><dt>1702</dt><dd>0.762788522580476</dd><dt>1709</dt><dd>0.153520920794444</dd><dt>1710</dt><dd>0.0216986980144914</dd><dt>1713</dt><dd>0.461416003980705</dd><dt>1727</dt><dd>0.407831994373558</dd><dt>1730</dt><dd>0.249373163493651</dd><dt>1733</dt><dd>0.213806457173716</dd><dt>1735</dt><dd>0.15498322596955</dd><dt>1738</dt><dd>0.0973825909643083</dd><dt>1741</dt><dd>0.017146875094532</dd><dt>1742</dt><dd>0.434808739813765</dd><dt>1756</dt><dd>0.229611601973095</dd><dt>1772</dt><dd>0.460586477360888</dd><dt>1777</dt><dd>0.0158088733110799</dd><dt>1780</dt><dd>0.233830698812859</dd><dt>1790</dt><dd>0.118518301870734</dd><dt>1795</dt><dd>0.22199316263865</dd><dt>1800</dt><dd>0.0460394102253243</dd><dt>1801</dt><dd>0.144510492917263</dd><dt>1805</dt><dd>0.0670158569275613</dd><dt>1811</dt><dd>0.0733816956367254</dd><dt>1812</dt><dd>0.239234673216704</dd><dt>1817</dt><dd>0.299168755675991</dd><dt>1826</dt><dd>0.0607192289183083</dd><dt>1829</dt><dd>0.379280061955639</dd><dt>1834</dt><dd>0.0231198718546934</dd><dt>1836</dt><dd>0.468849306371</dd><dt>1843</dt><dd>0.615378421419472</dd><dt>1848</dt><dd>0.030363055929137</dd><dt>1852</dt><dd>0.557000931144028</dd><dt>1853</dt><dd>0.287906917928954</dd><dt>1855</dt><dd>0.0436780459511773</dd><dt>1856</dt><dd>0.721055350503734</dd><dt>1859</dt><dd>0.0552136590937844</dd><dt>1871</dt><dd>0.0260001796729991</dd><dt>1873</dt><dd>0.576767052515182</dd><dt>1884</dt><dd>0.558826557868934</dd><dt>1906</dt><dd>0.267391047415858</dd><dt>1916</dt><dd>0.0921333587766426</dd><dt>1920</dt><dd>0.815603853426162</dd><dt>1928</dt><dd>0.430743595179261</dd><dt>1929</dt><dd>0.0583059688299878</dd><dt>1931</dt><dd>0.539541504076923</dd><dt>1935</dt><dd>0.0566150965336483</dd><dt>1937</dt><dd>0.747100724490283</dd><dt>1938</dt><dd>0.661113279892152</dd><dt>1939</dt><dd>0.182178684756299</dd><dt>1957</dt><dd>0.262806552806965</dd><dt>1958</dt><dd>0.0614343849482225</dd><dt>1962</dt><dd>0.461832987523577</dd><dt>1963</dt><dd>0.209755256474496</dd><dt>1967</dt><dd>0.215972777962035</dd><dt>1969</dt><dd>0.55765920023515</dd><dt>1976</dt><dd>0.254976731197131</dd><dt>1979</dt><dd>0.229349864842106</dd><dt>1982</dt><dd>0.0484787679447085</dd><dt>1992</dt><dd>0.0162444169303509</dd><dt>1993</dt><dd>0.027639801306952</dd></dl>\n"
            ],
            "text/markdown": "2\n:   0.3322940771397714\n:   0.3040547652841018\n:   0.23914103174758211\n:   0.0097736589076210715\n:   0.04538167259788324\n:   0.014687449699516126\n:   0.062333838647670630\n:   0.304379266818232\n:   0.034287148255842739\n:   0.089999050464318945\n:   0.13100248312392446\n:   0.80582681831472555\n:   0.42132522215317361\n:   0.34943540106942264\n:   0.055991777185132367\n:   0.09895752614525569\n:   0.17381855961958476\n:   0.13546505360980285\n:   0.44436244956486486\n:   0.20907465198903587\n:   0.35584672662722488\n:   0.23543773927359890\n:   0.046510987049036195\n:   0.0977601858101427104\n:   0.11722686636327109\n:   0.548501188487445110\n:   0.869707471859264122\n:   0.113589901758974126\n:   0.123176085477418127\n:   0.0427385946988482131\n:   0.190412545685764133\n:   0.0737657194291931138\n:   0.16413183966286139\n:   0.246835462793438142\n:   0.037571861031296145\n:   0.090007410437284146\n:   0.0631512161195517148\n:   0.197161108350256151\n:   0.352729514861669157\n:   0.055755350775713172\n:   0.0933836448970169174\n:   0.269452296261994175\n:   0.280137413810482176\n:   0.152591032738357177\n:   0.216279105683478179\n:   0.0412641920735577182\n:   0.105572025476003186\n:   0.0264000652306129188\n:   0.167414393134971189\n:   0.395890275230752196\n:   0.782839183606859202\n:   0.1057216568085204\n:   0.158660176770745221\n:   0.411922849997797225\n:   0.826377755437653227\n:   0.745888899520531228\n:   0.900186470645647237\n:   0.0189061210325238239\n:   0.350244255889965240\n:   0.418435771857179241\n:   0.107501253703717245\n:   0.216171257484776246\n:   0.161039458321385248\n:   0.595354756119689256\n:   0.310308830202229265\n:   0.232341406554617268\n:   0.423216875155657269\n:   0.517880619488853270\n:   0.130743296253307275\n:   0.0905089941992127276\n:   0.41534732470981285\n:   0.0224071046199289293\n:   0.724010944109533295\n:   0.0183203329574714302\n:   0.236740883392246323\n:   0.128895987809284324\n:   0.0306458963068093325\n:   0.245492450086832327\n:   0.124692124727825341\n:   0.0671972248263513343\n:   0.574274141197038349\n:   0.795856457967811357\n:   0.0643388532023913358\n:   0.270557358263802363\n:   0.792365361859712365\n:   0.782805478008359367\n:   0.560424864401114368\n:   0.101331810032702375\n:   0.139355196253949385\n:   0.172510223183984388\n:   0.569607322808114392\n:   0.0731058702815246399\n:   0.0120153919688228401\n:   0.426341527065802406\n:   0.140010546164912419\n:   0.142334435453316420\n:   0.0379280829852567430\n:   0.409688919042491438\n:   0.378821424703886446\n:   0.0427089804826539457\n:   0.1103723397424461\n:   0.288385235690286462\n:   0.335318809679489466\n:   0.0967051806377005471\n:   0.00538885506828927474\n:   0.0902100260479253478\n:   0.527214163619525480\n:   0.0552118221373817484\n:   0.529055740895813492\n:   0.611835357308271495\n:   0.119297939280952509\n:   0.0142605024824398522\n:   0.0381016996107358530\n:   0.151742954689382535\n:   0.765763901426067538\n:   0.22908131047103540\n:   0.63931745418706549\n:   0.477349407876141550\n:   0.347775551875775559\n:   0.171970463642587576\n:   0.128999068875821586\n:   0.0451355607290495592\n:   0.162899391880635594\n:   0.490081266846469597\n:   0.0324649609718957602\n:   0.533264396382516603\n:   0.213153204198642613\n:   0.162342612413063615\n:   0.465943936747546621\n:   0.0410754086343392630\n:   0.186674449091892634\n:   0.125938093061412643\n:   0.179767581574188652\n:   0.283848121376194660\n:   0.652267451037228662\n:   0.513573516977181671\n:   0.369881769961853673\n:   0.14731784504957676\n:   0.637454780627617677\n:   0.412762024159922697\n:   0.0527837400918655698\n:   0.221376338829719699\n:   0.493429184731266705\n:   0.109040727681364708\n:   0.13177920475055709\n:   0.244213326193058723\n:   0.235120415477603736\n:   0.209220995343333742\n:   0.427210283755736744\n:   0.077631814853992745\n:   0.113877970984638746\n:   0.0193627461554883747\n:   0.718630065381618756\n:   0.604635725999992759\n:   0.0411322807140949764\n:   0.240134068178837765\n:   0.452771407951144770\n:   0.431649940770756772\n:   0.564638171403783773\n:   0.0225939739014317774\n:   0.107577680344148777\n:   0.0517280873374437786\n:   0.373384459796068804\n:   0.0143956033324541818\n:   0.420758660352495819\n:   0.629250096432315839\n:   0.112904394257921843\n:   0.0953827004443715847\n:   0.0447076297442537854\n:   0.787550506310908855\n:   0.455059826181634858\n:   0.0992283463069643860\n:   0.751915182745293864\n:   0.0469950572621911865\n:   0.415987110819664867\n:   0.143332776015497868\n:   0.172469993608295880\n:   0.0728535214325752883\n:   0.477804473680112886\n:   0.26077684674997892\n:   0.193466015303155904\n:   0.196710403299101906\n:   0.375971864711369912\n:   0.541284148980846914\n:   0.365608714259988917\n:   0.642727311626271924\n:   0.114377437646403926\n:   0.31747284430811927\n:   0.137657417509099935\n:   0.140385107978457938\n:   0.248482738988742945\n:   0.066802263440014948\n:   0.198332641514655949\n:   0.687805548034105950\n:   0.341030135494818953\n:   0.0532665642674306954\n:   0.544397951652471957\n:   0.73836509449111979\n:   0.0900586951970838980\n:   0.0479758565871846981\n:   ⋯989\n:   0.159258342098004990\n:   0.217893661332939991\n:   0.1384389233606991002\n:   0.1656582985648111014\n:   0.1623598604324031016\n:   0.1773695585467741017\n:   0.0379448064821641019\n:   0.3330307470490661035\n:   0.4482263000307161039\n:   0.05213414254588381040\n:   0.1010783145300451043\n:   0.03073777106782291050\n:   0.3499490641839321055\n:   0.5601390890566791058\n:   0.02583087964289431060\n:   0.04095182595233341091\n:   0.4429125575903691096\n:   0.3365641435988131098\n:   0.07797869466724081099\n:   0.7232894517085281100\n:   0.4716020804502781112\n:   0.05324645503963771113\n:   0.2479055259719681125\n:   0.7141081411968571128\n:   0.3760931575924431129\n:   0.5999890440799761133\n:   0.4711902054073971141\n:   0.273877378701941144\n:   0.1727695453043271158\n:   0.487737590911361172\n:   0.6037713377897691176\n:   0.7703299068707231177\n:   0.2725841578391131182\n:   0.4720267609232091185\n:   0.04248891967985681187\n:   0.8806583126180991189\n:   0.2365668666466511195\n:   0.0352840059330191196\n:   0.086492325405411204\n:   0.05063335870909871207\n:   0.3958930442755051209\n:   0.2356314982345981214\n:   0.3702369203038471215\n:   0.5446433499619611231\n:   0.2193161941327211233\n:   0.1928477276537291234\n:   0.6245834154213621244\n:   0.08667832999701161248\n:   0.2236537320221741252\n:   0.05269154939913421260\n:   0.4974022220845571264\n:   0.6315079539756551265\n:   0.4353462969124291272\n:   0.3571492236578221277\n:   0.1247988043694091280\n:   0.1124950292709941289\n:   0.106435792790621293\n:   0.648533105890381294\n:   0.271340171695031296\n:   0.3870914563094541297\n:   0.4863332386736681301\n:   0.2078465753214331320\n:   0.1010983922911441326\n:   0.7482806066968071336\n:   0.1929081028679031340\n:   0.8627875473051291347\n:   0.2516926983550571349\n:   0.1760991353235451350\n:   0.2390236511087641358\n:   0.4023166547054291362\n:   0.06600338889429251371\n:   0.4823788019208231390\n:   0.0746496136297921391\n:   0.2602352590423561400\n:   0.3838844946523641406\n:   0.03677522782555391407\n:   0.5165175688336811418\n:   0.2488061609542581419\n:   0.08031699544573451426\n:   0.05451275489904031433\n:   0.1308118226568311439\n:   0.1859144946706341441\n:   0.326432864847421448\n:   0.0467328578266181450\n:   0.1104884200602211457\n:   0.5227950811197741462\n:   0.1261790143882371463\n:   0.2020119418706761466\n:   0.6222263607550491475\n:   0.2845733785270991479\n:   0.2795811256990051482\n:   0.7130401297068731484\n:   0.07192373841251011493\n:   0.02373424869924121494\n:   0.2401971925702931495\n:   0.04443376545016091502\n:   0.2483575855612821504\n:   0.1461762132220941508\n:   0.04282909735249311511\n:   0.6882218140326661520\n:   0.2874941842202221524\n:   0.2530007294941791525\n:   0.08690703684930371527\n:   0.1553936110890671529\n:   0.3470167126566481535\n:   0.3982792955019241541\n:   0.09793806277608261570\n:   0.1266552053363231571\n:   0.7026035006577561577\n:   0.2051109558310731578\n:   0.1428551307246191585\n:   0.3969037070971361592\n:   0.5615898020192391597\n:   0.1687965500746651603\n:   0.3714400290864621605\n:   0.4233043776123891610\n:   0.483469126552251619\n:   0.6323762648964291621\n:   0.5874653253898161623\n:   0.06409639326288411628\n:   0.1627453731672571631\n:   0.08964583891128241633\n:   0.3377482436983921638\n:   0.3473601403995161639\n:   0.257431174037291640\n:   0.7911496840004181643\n:   0.3028910060898981645\n:   0.3157548628842911649\n:   0.2086102618990581650\n:   0.2334982363145181660\n:   0.1189838915912361665\n:   0.6323050079648721666\n:   0.2984728050697881667\n:   0.04090420702867321671\n:   0.1548763173628691689\n:   0.1707793377728551691\n:   0.1075417553476011692\n:   0.5958269568011881695\n:   0.4572623929503311698\n:   0.04357717902449761700\n:   0.1360415625145481701\n:   0.02959000802377071702\n:   0.7627885225804761709\n:   0.1535209207944441710\n:   0.02169869801449141713\n:   0.4614160039807051727\n:   0.4078319943735581730\n:   0.2493731634936511733\n:   0.2138064571737161735\n:   0.154983225969551738\n:   0.09738259096430831741\n:   0.0171468750945321742\n:   0.4348087398137651756\n:   0.2296116019730951772\n:   0.4605864773608881777\n:   0.01580887331107991780\n:   0.2338306988128591790\n:   0.1185183018707341795\n:   0.221993162638651800\n:   0.04603941022532431801\n:   0.1445104929172631805\n:   0.06701585692756131811\n:   0.07338169563672541812\n:   0.2392346732167041817\n:   0.2991687556759911826\n:   0.06071922891830831829\n:   0.3792800619556391834\n:   0.02311987185469341836\n:   0.4688493063711843\n:   0.6153784214194721848\n:   0.0303630559291371852\n:   0.5570009311440281853\n:   0.2879069179289541855\n:   0.04367804595117731856\n:   0.7210553505037341859\n:   0.05521365909378441871\n:   0.02600017967299911873\n:   0.5767670525151821884\n:   0.5588265578689341906\n:   0.2673910474158581916\n:   0.09213335877664261920\n:   0.8156038534261621928\n:   0.4307435951792611929\n:   0.05830596882998781931\n:   0.5395415040769231935\n:   0.05661509653364831937\n:   0.7471007244902831938\n:   0.6611132798921521939\n:   0.1821786847562991957\n:   0.2628065528069651958\n:   0.06143438494822251962\n:   0.4618329875235771963\n:   0.2097552564744961967\n:   0.2159727779620351969\n:   0.557659200235151976\n:   0.2549767311971311979\n:   0.2293498648421061982\n:   0.04847876794470851992\n:   0.01624441693035091993\n:   0.027639801306952\n\n",
            "text/latex": "\\begin{description*}\n\\item[2] 0.332294077139771\n\\item[4] 0.304054765284101\n\\item[8] 0.239141031747582\n\\item[11] 0.00977365890762107\n\\item[15] 0.045381672597883\n\\item[24] 0.0146874496995161\n\\item[26] 0.0623338386476706\n\\item[30] 0.3043792668182\n\\item[32] 0.0342871482558427\n\\item[39] 0.0899990504643189\n\\item[45] 0.131002483123924\n\\item[46] 0.805826818314725\n\\item[55] 0.421325222153173\n\\item[61] 0.349435401069422\n\\item[64] 0.0559917771851323\n\\item[67] 0.098957526145255\n\\item[69] 0.173818559619584\n\\item[76] 0.135465053609802\n\\item[85] 0.444362449564864\n\\item[86] 0.209074651989035\n\\item[87] 0.355846726627224\n\\item[88] 0.235437739273598\n\\item[90] 0.0465109870490361\n\\item[95] 0.0977601858101427\n\\item[104] 0.11722686636327\n\\item[109] 0.548501188487445\n\\item[110] 0.869707471859264\n\\item[122] 0.113589901758974\n\\item[126] 0.123176085477418\n\\item[127] 0.0427385946988482\n\\item[131] 0.190412545685764\n\\item[133] 0.0737657194291931\n\\item[138] 0.16413183966286\n\\item[139] 0.246835462793438\n\\item[142] 0.037571861031296\n\\item[145] 0.090007410437284\n\\item[146] 0.0631512161195517\n\\item[148] 0.197161108350256\n\\item[151] 0.352729514861669\n\\item[157] 0.055755350775713\n\\item[172] 0.0933836448970169\n\\item[174] 0.269452296261994\n\\item[175] 0.280137413810482\n\\item[176] 0.152591032738357\n\\item[177] 0.216279105683478\n\\item[179] 0.0412641920735577\n\\item[182] 0.105572025476003\n\\item[186] 0.0264000652306129\n\\item[188] 0.167414393134971\n\\item[189] 0.395890275230752\n\\item[196] 0.782839183606859\n\\item[202] 0.1057216568085\n\\item[204] 0.158660176770745\n\\item[221] 0.411922849997797\n\\item[225] 0.826377755437653\n\\item[227] 0.745888899520531\n\\item[228] 0.900186470645647\n\\item[237] 0.0189061210325238\n\\item[239] 0.350244255889965\n\\item[240] 0.418435771857179\n\\item[241] 0.107501253703717\n\\item[245] 0.216171257484776\n\\item[246] 0.161039458321385\n\\item[248] 0.595354756119689\n\\item[256] 0.310308830202229\n\\item[265] 0.232341406554617\n\\item[268] 0.423216875155657\n\\item[269] 0.517880619488853\n\\item[270] 0.130743296253307\n\\item[275] 0.0905089941992127\n\\item[276] 0.41534732470981\n\\item[285] 0.0224071046199289\n\\item[293] 0.724010944109533\n\\item[295] 0.0183203329574714\n\\item[302] 0.236740883392246\n\\item[323] 0.128895987809284\n\\item[324] 0.0306458963068093\n\\item[325] 0.245492450086832\n\\item[327] 0.124692124727825\n\\item[341] 0.0671972248263513\n\\item[343] 0.574274141197038\n\\item[349] 0.795856457967811\n\\item[357] 0.0643388532023913\n\\item[358] 0.270557358263802\n\\item[363] 0.792365361859712\n\\item[365] 0.782805478008359\n\\item[367] 0.560424864401114\n\\item[368] 0.101331810032702\n\\item[375] 0.139355196253949\n\\item[385] 0.172510223183984\n\\item[388] 0.569607322808114\n\\item[392] 0.0731058702815246\n\\item[399] 0.0120153919688228\n\\item[401] 0.426341527065802\n\\item[406] 0.140010546164912\n\\item[419] 0.142334435453316\n\\item[420] 0.0379280829852567\n\\item[430] 0.409688919042491\n\\item[438] 0.378821424703886\n\\item[446] 0.0427089804826539\n\\item[457] 0.1103723397424\n\\item[461] 0.288385235690286\n\\item[462] 0.335318809679489\n\\item[466] 0.0967051806377005\n\\item[471] 0.00538885506828927\n\\item[474] 0.0902100260479253\n\\item[478] 0.527214163619525\n\\item[480] 0.0552118221373817\n\\item[484] 0.529055740895813\n\\item[492] 0.611835357308271\n\\item[495] 0.119297939280952\n\\item[509] 0.0142605024824398\n\\item[522] 0.0381016996107358\n\\item[530] 0.151742954689382\n\\item[535] 0.765763901426067\n\\item[538] 0.22908131047103\n\\item[540] 0.63931745418706\n\\item[549] 0.477349407876141\n\\item[550] 0.347775551875775\n\\item[559] 0.171970463642587\n\\item[576] 0.128999068875821\n\\item[586] 0.0451355607290495\n\\item[592] 0.162899391880635\n\\item[594] 0.490081266846469\n\\item[597] 0.0324649609718957\n\\item[602] 0.533264396382516\n\\item[603] 0.213153204198642\n\\item[613] 0.162342612413063\n\\item[615] 0.465943936747546\n\\item[621] 0.0410754086343392\n\\item[630] 0.186674449091892\n\\item[634] 0.125938093061412\n\\item[643] 0.179767581574188\n\\item[652] 0.283848121376194\n\\item[660] 0.652267451037228\n\\item[662] 0.513573516977181\n\\item[671] 0.369881769961853\n\\item[673] 0.14731784504957\n\\item[676] 0.637454780627617\n\\item[677] 0.412762024159922\n\\item[697] 0.0527837400918655\n\\item[698] 0.221376338829719\n\\item[699] 0.493429184731266\n\\item[705] 0.109040727681364\n\\item[708] 0.13177920475055\n\\item[709] 0.244213326193058\n\\item[723] 0.235120415477603\n\\item[736] 0.209220995343333\n\\item[742] 0.427210283755736\n\\item[744] 0.077631814853992\n\\item[745] 0.113877970984638\n\\item[746] 0.0193627461554883\n\\item[747] 0.718630065381618\n\\item[756] 0.604635725999992\n\\item[759] 0.0411322807140949\n\\item[764] 0.240134068178837\n\\item[765] 0.452771407951144\n\\item[770] 0.431649940770756\n\\item[772] 0.564638171403783\n\\item[773] 0.0225939739014317\n\\item[774] 0.107577680344148\n\\item[777] 0.0517280873374437\n\\item[786] 0.373384459796068\n\\item[804] 0.0143956033324541\n\\item[818] 0.420758660352495\n\\item[819] 0.629250096432315\n\\item[839] 0.112904394257921\n\\item[843] 0.0953827004443715\n\\item[847] 0.0447076297442537\n\\item[854] 0.787550506310908\n\\item[855] 0.455059826181634\n\\item[858] 0.0992283463069643\n\\item[860] 0.751915182745293\n\\item[864] 0.0469950572621911\n\\item[865] 0.415987110819664\n\\item[867] 0.143332776015497\n\\item[868] 0.172469993608295\n\\item[880] 0.0728535214325752\n\\item[883] 0.477804473680112\n\\item[886] 0.26077684674997\n\\item[892] 0.193466015303155\n\\item[904] 0.196710403299101\n\\item[906] 0.375971864711369\n\\item[912] 0.541284148980846\n\\item[914] 0.365608714259988\n\\item[917] 0.642727311626271\n\\item[924] 0.114377437646403\n\\item[926] 0.31747284430811\n\\item[927] 0.137657417509099\n\\item[935] 0.140385107978457\n\\item[938] 0.248482738988742\n\\item[945] 0.066802263440014\n\\item[948] 0.198332641514655\n\\item[949] 0.687805548034105\n\\item[950] 0.341030135494818\n\\item[953] 0.0532665642674306\n\\item[954] 0.544397951652471\n\\item[957] 0.73836509449111\n\\item[979] 0.0900586951970838\n\\item[980] 0.0479758565871846\n\\item[981] ⋯\n\\item[989] 0.159258342098004\n\\item[990] 0.217893661332939\n\\item[991] 0.138438923360699\n\\item[1002] 0.165658298564811\n\\item[1014] 0.162359860432403\n\\item[1016] 0.177369558546774\n\\item[1017] 0.037944806482164\n\\item[1019] 0.333030747049066\n\\item[1035] 0.448226300030716\n\\item[1039] 0.0521341425458838\n\\item[1040] 0.101078314530045\n\\item[1043] 0.0307377710678229\n\\item[1050] 0.349949064183932\n\\item[1055] 0.560139089056679\n\\item[1058] 0.0258308796428943\n\\item[1060] 0.0409518259523334\n\\item[1091] 0.442912557590369\n\\item[1096] 0.336564143598813\n\\item[1098] 0.0779786946672408\n\\item[1099] 0.723289451708528\n\\item[1100] 0.471602080450278\n\\item[1112] 0.0532464550396377\n\\item[1113] 0.247905525971968\n\\item[1125] 0.714108141196857\n\\item[1128] 0.376093157592443\n\\item[1129] 0.599989044079976\n\\item[1133] 0.471190205407397\n\\item[1141] 0.27387737870194\n\\item[1144] 0.172769545304327\n\\item[1158] 0.48773759091136\n\\item[1172] 0.603771337789769\n\\item[1176] 0.770329906870723\n\\item[1177] 0.272584157839113\n\\item[1182] 0.472026760923209\n\\item[1185] 0.0424889196798568\n\\item[1187] 0.880658312618099\n\\item[1189] 0.236566866646651\n\\item[1195] 0.035284005933019\n\\item[1196] 0.08649232540541\n\\item[1204] 0.0506333587090987\n\\item[1207] 0.395893044275505\n\\item[1209] 0.235631498234598\n\\item[1214] 0.370236920303847\n\\item[1215] 0.544643349961961\n\\item[1231] 0.219316194132721\n\\item[1233] 0.192847727653729\n\\item[1234] 0.624583415421362\n\\item[1244] 0.0866783299970116\n\\item[1248] 0.223653732022174\n\\item[1252] 0.0526915493991342\n\\item[1260] 0.497402222084557\n\\item[1264] 0.631507953975655\n\\item[1265] 0.435346296912429\n\\item[1272] 0.357149223657822\n\\item[1277] 0.124798804369409\n\\item[1280] 0.112495029270994\n\\item[1289] 0.10643579279062\n\\item[1293] 0.64853310589038\n\\item[1294] 0.27134017169503\n\\item[1296] 0.387091456309454\n\\item[1297] 0.486333238673668\n\\item[1301] 0.207846575321433\n\\item[1320] 0.101098392291144\n\\item[1326] 0.748280606696807\n\\item[1336] 0.192908102867903\n\\item[1340] 0.862787547305129\n\\item[1347] 0.251692698355057\n\\item[1349] 0.176099135323545\n\\item[1350] 0.239023651108764\n\\item[1358] 0.402316654705429\n\\item[1362] 0.0660033888942925\n\\item[1371] 0.482378801920823\n\\item[1390] 0.074649613629792\n\\item[1391] 0.260235259042356\n\\item[1400] 0.383884494652364\n\\item[1406] 0.0367752278255539\n\\item[1407] 0.516517568833681\n\\item[1418] 0.248806160954258\n\\item[1419] 0.0803169954457345\n\\item[1426] 0.0545127548990403\n\\item[1433] 0.130811822656831\n\\item[1439] 0.185914494670634\n\\item[1441] 0.32643286484742\n\\item[1448] 0.046732857826618\n\\item[1450] 0.110488420060221\n\\item[1457] 0.522795081119774\n\\item[1462] 0.126179014388237\n\\item[1463] 0.202011941870676\n\\item[1466] 0.622226360755049\n\\item[1475] 0.284573378527099\n\\item[1479] 0.279581125699005\n\\item[1482] 0.713040129706873\n\\item[1484] 0.0719237384125101\n\\item[1493] 0.0237342486992412\n\\item[1494] 0.240197192570293\n\\item[1495] 0.0444337654501609\n\\item[1502] 0.248357585561282\n\\item[1504] 0.146176213222094\n\\item[1508] 0.0428290973524931\n\\item[1511] 0.688221814032666\n\\item[1520] 0.287494184220222\n\\item[1524] 0.253000729494179\n\\item[1525] 0.0869070368493037\n\\item[1527] 0.155393611089067\n\\item[1529] 0.347016712656648\n\\item[1535] 0.398279295501924\n\\item[1541] 0.0979380627760826\n\\item[1570] 0.126655205336323\n\\item[1571] 0.702603500657756\n\\item[1577] 0.205110955831073\n\\item[1578] 0.142855130724619\n\\item[1585] 0.396903707097136\n\\item[1592] 0.561589802019239\n\\item[1597] 0.168796550074665\n\\item[1603] 0.371440029086462\n\\item[1605] 0.423304377612389\n\\item[1610] 0.48346912655225\n\\item[1619] 0.632376264896429\n\\item[1621] 0.587465325389816\n\\item[1623] 0.0640963932628841\n\\item[1628] 0.162745373167257\n\\item[1631] 0.0896458389112824\n\\item[1633] 0.337748243698392\n\\item[1638] 0.347360140399516\n\\item[1639] 0.25743117403729\n\\item[1640] 0.791149684000418\n\\item[1643] 0.302891006089898\n\\item[1645] 0.315754862884291\n\\item[1649] 0.208610261899058\n\\item[1650] 0.233498236314518\n\\item[1660] 0.118983891591236\n\\item[1665] 0.632305007964872\n\\item[1666] 0.298472805069788\n\\item[1667] 0.0409042070286732\n\\item[1671] 0.154876317362869\n\\item[1689] 0.170779337772855\n\\item[1691] 0.107541755347601\n\\item[1692] 0.595826956801188\n\\item[1695] 0.457262392950331\n\\item[1698] 0.0435771790244976\n\\item[1700] 0.136041562514548\n\\item[1701] 0.0295900080237707\n\\item[1702] 0.762788522580476\n\\item[1709] 0.153520920794444\n\\item[1710] 0.0216986980144914\n\\item[1713] 0.461416003980705\n\\item[1727] 0.407831994373558\n\\item[1730] 0.249373163493651\n\\item[1733] 0.213806457173716\n\\item[1735] 0.15498322596955\n\\item[1738] 0.0973825909643083\n\\item[1741] 0.017146875094532\n\\item[1742] 0.434808739813765\n\\item[1756] 0.229611601973095\n\\item[1772] 0.460586477360888\n\\item[1777] 0.0158088733110799\n\\item[1780] 0.233830698812859\n\\item[1790] 0.118518301870734\n\\item[1795] 0.22199316263865\n\\item[1800] 0.0460394102253243\n\\item[1801] 0.144510492917263\n\\item[1805] 0.0670158569275613\n\\item[1811] 0.0733816956367254\n\\item[1812] 0.239234673216704\n\\item[1817] 0.299168755675991\n\\item[1826] 0.0607192289183083\n\\item[1829] 0.379280061955639\n\\item[1834] 0.0231198718546934\n\\item[1836] 0.468849306371\n\\item[1843] 0.615378421419472\n\\item[1848] 0.030363055929137\n\\item[1852] 0.557000931144028\n\\item[1853] 0.287906917928954\n\\item[1855] 0.0436780459511773\n\\item[1856] 0.721055350503734\n\\item[1859] 0.0552136590937844\n\\item[1871] 0.0260001796729991\n\\item[1873] 0.576767052515182\n\\item[1884] 0.558826557868934\n\\item[1906] 0.267391047415858\n\\item[1916] 0.0921333587766426\n\\item[1920] 0.815603853426162\n\\item[1928] 0.430743595179261\n\\item[1929] 0.0583059688299878\n\\item[1931] 0.539541504076923\n\\item[1935] 0.0566150965336483\n\\item[1937] 0.747100724490283\n\\item[1938] 0.661113279892152\n\\item[1939] 0.182178684756299\n\\item[1957] 0.262806552806965\n\\item[1958] 0.0614343849482225\n\\item[1962] 0.461832987523577\n\\item[1963] 0.209755256474496\n\\item[1967] 0.215972777962035\n\\item[1969] 0.55765920023515\n\\item[1976] 0.254976731197131\n\\item[1979] 0.229349864842106\n\\item[1982] 0.0484787679447085\n\\item[1992] 0.0162444169303509\n\\item[1993] 0.027639801306952\n\\end{description*}\n",
            "text/plain": [
              "          2           4           8          11          15          24 \n",
              "0.332294077 0.304054765 0.239141032 0.009773659 0.045381673 0.014687450 \n",
              "         26          30          32          39          45          46 \n",
              "0.062333839 0.304379267 0.034287148 0.089999050 0.131002483 0.805826818 \n",
              "         55          61          64          67          69          76 \n",
              "0.421325222 0.349435401 0.055991777 0.098957526 0.173818560 0.135465054 \n",
              "         85          86          87          88          90          95 \n",
              "0.444362450 0.209074652 0.355846727 0.235437739 0.046510987 0.097760186 \n",
              "        104         109         110         122         126         127 \n",
              "0.117226866 0.548501188 0.869707472 0.113589902 0.123176085 0.042738595 \n",
              "        131         133         138         139         142         145 \n",
              "0.190412546 0.073765719 0.164131840 0.246835463 0.037571861 0.090007410 \n",
              "        146         148         151         157         172         174 \n",
              "0.063151216 0.197161108 0.352729515 0.055755351 0.093383645 0.269452296 \n",
              "        175         176         177         179         182         186 \n",
              "0.280137414 0.152591033 0.216279106 0.041264192 0.105572025 0.026400065 \n",
              "        188         189         196         202         204         221 \n",
              "0.167414393 0.395890275 0.782839184 0.105721657 0.158660177 0.411922850 \n",
              "        225         227         228         237         239         240 \n",
              "0.826377755 0.745888900 0.900186471 0.018906121 0.350244256 0.418435772 \n",
              "        241         245         246         248         256         265 \n",
              "0.107501254 0.216171257 0.161039458 0.595354756 0.310308830 0.232341407 \n",
              "        268         269         270         275         276         285 \n",
              "0.423216875 0.517880619 0.130743296 0.090508994 0.415347325 0.022407105 \n",
              "        293         295         302         323         324         325 \n",
              "0.724010944 0.018320333 0.236740883 0.128895988 0.030645896 0.245492450 \n",
              "        327         341         343         349         357         358 \n",
              "0.124692125 0.067197225 0.574274141 0.795856458 0.064338853 0.270557358 \n",
              "        363         365         367         368         375         385 \n",
              "0.792365362 0.782805478 0.560424864 0.101331810 0.139355196 0.172510223 \n",
              "        388         392         399         401         406         419 \n",
              "0.569607323 0.073105870 0.012015392 0.426341527 0.140010546 0.142334435 \n",
              "        420         430         438         446         457         461 \n",
              "0.037928083 0.409688919 0.378821425 0.042708980 0.110372340 0.288385236 \n",
              "        462         466         471         474         478         480 \n",
              "0.335318810 0.096705181 0.005388855 0.090210026 0.527214164 0.055211822 \n",
              "        484         492         495         509         522         530 \n",
              "0.529055741 0.611835357 0.119297939 0.014260502 0.038101700 0.151742955 \n",
              "        535         538         540         549         550         559 \n",
              "0.765763901 0.229081310 0.639317454 0.477349408 0.347775552 0.171970464 \n",
              "        576         586         592         594         597         602 \n",
              "0.128999069 0.045135561 0.162899392 0.490081267 0.032464961 0.533264396 \n",
              "        603         613         615         621         630         634 \n",
              "0.213153204 0.162342612 0.465943937 0.041075409 0.186674449 0.125938093 \n",
              "        643         652         660         662         671         673 \n",
              "0.179767582 0.283848121 0.652267451 0.513573517 0.369881770 0.147317845 \n",
              "        676         677         697         698         699         705 \n",
              "0.637454781 0.412762024 0.052783740 0.221376339 0.493429185 0.109040728 \n",
              "        708         709         723         736         742         744 \n",
              "0.131779205 0.244213326 0.235120415 0.209220995 0.427210284 0.077631815 \n",
              "        745         746         747         756         759         764 \n",
              "0.113877971 0.019362746 0.718630065 0.604635726 0.041132281 0.240134068 \n",
              "        765         770         772         773         774         777 \n",
              "0.452771408 0.431649941 0.564638171 0.022593974 0.107577680 0.051728087 \n",
              "        786         804         818         819         839         843 \n",
              "0.373384460 0.014395603 0.420758660 0.629250096 0.112904394 0.095382700 \n",
              "        847         854         855         858         860         864 \n",
              "0.044707630 0.787550506 0.455059826 0.099228346 0.751915183 0.046995057 \n",
              "        865         867         868         880         883         886 \n",
              "0.415987111 0.143332776 0.172469994 0.072853521 0.477804474 0.260776847 \n",
              "        892         904         906         912         914         917 \n",
              "0.193466015 0.196710403 0.375971865 0.541284149 0.365608714 0.642727312 \n",
              "        924         926         927         935         938         945 \n",
              "0.114377438 0.317472844 0.137657418 0.140385108 0.248482739 0.066802263 \n",
              "        948         949         950         953         954         957 \n",
              "0.198332642 0.687805548 0.341030135 0.053266564 0.544397952 0.738365094 \n",
              "        979         980         981         989         990         991 \n",
              "0.090058695 0.047975857 0.018284145 0.027601115 0.381169605 0.077502310 \n",
              "       1002        1014        1016        1017        1019        1035 \n",
              "0.178354545 0.705559452 0.716429792 0.297924883 0.072301925 0.327267036 \n",
              "       1039        1040        1043        1050        1055        1058 \n",
              "0.232460303 0.157425402 0.356822470 0.155540047 0.204033334 0.456396693 \n",
              "       1060        1091        1096        1098        1099        1100 \n",
              "0.394732091 0.019616224 0.244007065 0.055455918 0.292381931 0.510589730 \n",
              "       1112        1113        1125        1128        1129        1133 \n",
              "0.066888638 0.047192337 0.035443885 0.455203237 0.104966962 0.177146010 \n",
              "       1141        1144        1158        1172        1176        1177 \n",
              "0.215558604 0.604862086 0.204886402 0.523078308 0.041955551 0.143217062 \n",
              "       1182        1185        1187        1189        1195        1196 \n",
              "0.021581000 0.244100491 0.301316272 0.263934561 0.409799817 0.385025744 \n",
              "       1204        1207        1209        1214        1215        1231 \n",
              "0.523665574 0.207943544 0.399735043 0.246647210 0.274784800 0.204258729 \n",
              "       1233        1234        1244        1248        1252        1260 \n",
              "0.441605704 0.043562609 0.177247538 0.126298573 0.384508352 0.128141413 \n",
              "       1264        1265        1272        1277        1280        1289 \n",
              "0.240931141 0.129622456 0.084361895 0.594833359 0.049667991 0.418833849 \n",
              "       1293        1294        1296        1297        1301        1320 \n",
              "0.023107391 0.349738153 0.048126726 0.260871621 0.101456893 0.353313943 \n",
              "       1326        1336        1340        1347        1349        1350 \n",
              "0.066559838 0.064009811 0.140857568 0.104078644 0.723771088 0.196370876 \n",
              "       1358        1362        1371        1390        1391        1400 \n",
              "0.363317019 0.017762558 0.008836733 0.033644502 0.331127435 0.640542472 \n",
              "       1406        1407        1418        1419        1426        1433 \n",
              "0.291975381 0.556082525 0.062429665 0.459059164 0.070279706 0.037288457 \n",
              "       1439        1441        1448        1450        1457        1462 \n",
              "0.225085377 0.394135690 0.172855118 0.657585972 0.142179603 0.574594913 \n",
              "       1463        1466        1475        1479        1482        1484 \n",
              "0.313582153 0.295304996 0.099174232 0.102685859 0.150470120 0.430237689 \n",
              "       1493        1494        1495        1502        1504        1508 \n",
              "0.698055073 0.277827570 0.071170259 0.433446683 0.400338330 0.456598098 \n",
              "       1511        1520        1524        1525        1527        1529 \n",
              "0.098012008 0.469289684 0.095089608 0.453142231 0.409013598 0.197116200 \n",
              "       1535        1541        1570        1571        1577        1578 \n",
              "0.225055500 0.447745780 0.118590862 0.351185237 0.050997760 0.672710470 \n",
              "       1585        1592        1597        1603        1605        1610 \n",
              "0.261521368 0.060408450 0.142177399 0.052307448 0.027653908 0.090981313 \n",
              "       1619        1621        1623        1628        1631        1633 \n",
              "0.059403348 0.390753418 0.419624206 0.588810319 0.057924865 0.037219489 \n",
              "       1638        1639        1640        1643        1645        1649 \n",
              "0.077714204 0.710873775 0.301801028 0.479270966 0.301732046 0.112132194 \n",
              "       1650        1660        1665        1666        1667        1671 \n",
              "0.611526069 0.631827688 0.021328631 0.040049965 0.172970041 0.323780677 \n",
              "       1689        1691        1692        1695        1698        1700 \n",
              "0.206867506 0.060676224 0.018792982 0.194418916 0.366452890 0.630097867 \n",
              "       1701        1702        1709        1710        1713        1727 \n",
              "0.403052415 0.249137929 0.132305408 0.896362956 0.484382980 0.059244902 \n",
              "       1730        1733        1735        1738        1741        1742 \n",
              "0.054052549 0.015752687 0.211025737 0.183394714 0.698030590 0.062628784 \n",
              "       1756        1772        1777        1780        1790        1795 \n",
              "0.052030112 0.274810141 0.527258796 0.074141328 0.334038811 0.134315643 \n",
              "       1800        1801        1805        1811        1812        1817 \n",
              "0.111967895 0.701825798 0.109328530 0.374086655 0.663354480 0.081285607 \n",
              "       1826        1829        1834        1836        1843        1848 \n",
              "0.082339682 0.071843636 0.273669696 0.206372356 0.336969559 0.016740190 \n",
              "       1852        1853        1855        1856        1859        1871 \n",
              "0.202951431 0.372718387 0.333012930 0.205792317 0.248949612 0.142173827 \n",
              "       1873        1884        1906        1916        1920        1928 \n",
              "0.118904166 0.751938064 0.613649903 0.595892002 0.102816204 0.232787063 \n",
              "       1929        1931        1935        1937        1938        1939 \n",
              "0.087605455 0.313354396 0.129627182 0.654269418 0.014722645 0.200565033 \n",
              "       1957        1958        1962        1963        1967        1969 \n",
              "0.015685320 0.028839269 0.178501203 0.849825572 0.365023902 0.151072869 \n",
              "       1976        1979        1982        1992        1993        1999 \n",
              "0.770413259 0.317330086 0.062961407 0.234375630 0.496380177 0.066355911 \n",
              "       2004        2009        2016        2021        2022        2032 \n",
              "0.031429504 0.136697999 0.509319191 0.009923074 0.026084687 0.043014762 \n",
              "       2035        2040        2045        2052        2056        2058 \n",
              "0.020258451 0.024651151 0.038938557 0.142280241 0.160121637 0.520119450 \n",
              "       2062        2064        2068        2072        2073        2076 \n",
              "0.206248438 0.192997229 0.172976903 0.389583016 0.082288545 0.157017655 \n",
              "       2078        2079        2080        2082        2090        2092 \n",
              "0.144105936 0.469318076 0.066901963 0.183751121 0.163699944 0.212248335 \n",
              "       2093        2095        2097        2102        2103        2111 \n",
              "0.476238652 0.649842370 0.385314402 0.011164137 0.235686763 0.225992015 \n",
              "       2121        2133        2152        2164        2181        2182 \n",
              "0.064953592 0.608646922 0.029190131 0.603255316 0.508636413 0.827104188 \n",
              "       2185        2187        2188        2196        2197        2228 \n",
              "0.410406781 0.121588240 0.504846480 0.185707926 0.103261498 0.173532703 \n",
              "       2238        2241        2243        2245        2246        2247 \n",
              "0.507955995 0.344621914 0.073823492 0.165430854 0.759089520 0.049586492 \n",
              "       2249        2250        2258        2265        2266        2275 \n",
              "0.451727463 0.150355719 0.087361014 0.282071119 0.255157677 0.440949417 \n",
              "       2276        2293        2297        2300        2313        2315 \n",
              "0.052637763 0.164258265 0.268398723 0.277027474 0.656071110 0.124245400 \n",
              "       2318        2319        2322        2326        2330        2332 \n",
              "0.072283703 0.292201165 0.181116302 0.797062662 0.129673645 0.308364261 \n",
              "       2349        2351        2374        2376        2377        2379 \n",
              "0.037205426 0.041944124 0.808389909 0.653747165 0.361529233 0.246002420 \n",
              "       2386        2389        2398        2400        2403        2407 \n",
              "0.469369498 0.492677288 0.381466412 0.184144159 0.058974505 0.222465084 \n",
              "       2422        2428        2433        2435        2439        2442 \n",
              "0.010647397 0.280216962 0.734020861 0.097596436 0.621992205 0.525012745 \n",
              "       2446        2448        2459        2466        2477        2480 \n",
              "0.057099157 0.063837580 0.077694176 0.210508252 0.305755608 0.621006656 \n",
              "       2482        2485        2487        2492        2494        2496 \n",
              "0.017360085 0.333765631 0.174223037 0.042250014 0.571977109 0.177511414 \n",
              "       2501        2507        2508        2509        2514        2515 \n",
              "0.081439181 0.071185582 0.145575629 0.275448619 0.213928794 0.068997532 \n",
              "       2517        2518        2521        2523        2527        2529 \n",
              "0.221948558 0.203713391 0.408353846 0.106717653 0.080814724 0.285631670 \n",
              "       2533        2537        2547        2550        2565        2569 \n",
              "0.488501207 0.410179870 0.102557819 0.175672989 0.090438925 0.246471663 \n",
              "       2578        2582        2593        2594        2595        2598 \n",
              "0.016530173 0.468474068 0.329494372 0.125384416 0.371865221 0.048361680 \n",
              "       2605        2606        2611        2615        2616        2624 \n",
              "0.030271818 0.507684592 0.039061302 0.138882342 0.204643286 0.272271893 \n",
              "       2627        2632        2639        2645        2649        2651 \n",
              "0.436123638 0.182318461 0.245316836 0.208010727 0.149352929 0.234476422 \n",
              "       2653        2658        2660        2665        2668        2669 \n",
              "0.393026237 0.086201270 0.108225053 0.020091472 0.057233642 0.621965005 \n",
              "       2673        2678        2681        2690        2692        2693 \n",
              "0.407915268 0.118590246 0.420817822 0.274829896 0.649265843 0.014064684 \n",
              "       2694        2709        2710        2711        2713        2717 \n",
              "0.297727862 0.643784964 0.372277488 0.776657731 0.209989014 0.144638765 \n",
              "       2723        2724        2728        2729        2732        2743 \n",
              "0.030057330 0.013903875 0.123573793 0.154394260 0.166756173 0.110624467 \n",
              "       2746        2748        2758        2776        2780        2782 \n",
              "0.428112236 0.069878207 0.264259551 0.184614421 0.342157923 0.078813166 \n",
              "       2785        2791        2794        2795        2796        2811 \n",
              "0.270987440 0.073633988 0.128031850 0.122037833 0.387304144 0.096834217 \n",
              "       2819        2828        2844        2849        2850        2853 \n",
              "0.454822393 0.412291529 0.278413899 0.576350920 0.187756403 0.063089809 \n",
              "       2857        2862        2864        2865        2868        2872 \n",
              "0.025604272 0.191406839 0.644807980 0.436144427 0.148533372 0.288699882 \n",
              "       2899        2902        2906        2907        2917        2918 \n",
              "0.082876007 0.638403769 0.243250218 0.478176837 0.154391248 0.048276859 \n",
              "       2919        2923        2927        2928        2936        2938 \n",
              "0.306152758 0.116890952 0.197132330 0.506499996 0.042711580 0.383682294 \n",
              "       2939        2944        2946        2952        2963        2972 \n",
              "0.539414986 0.148819560 0.096712018 0.746429567 0.137817993 0.060965905 \n",
              "       2973        2975        2976        2985        2989        2992 \n",
              "0.033513308 0.111444935 0.514158537 0.010036015 0.030378873 0.109979059 \n",
              "       2995        3008        3009        3012        3015        3019 \n",
              "0.194016349 0.325914790 0.022411110 0.611339607 0.180112668 0.244455974 \n",
              "       3024        3025        3026        3028        3031        3032 \n",
              "0.284121083 0.131263141 0.171456425 0.466707175 0.502740428 0.178446622 \n",
              "       3034        3040        3048        3052        3069        3071 \n",
              "0.715303823 0.804493475 0.377432700 0.078732898 0.227609074 0.042578087 \n",
              "       3072        3074        3076        3082        3084        3085 \n",
              "0.043038240 0.592160911 0.487655334 0.510293186 0.631199849 0.046301984 \n",
              "       3091        3094        3096        3099        3106        3110 \n",
              "0.291641684 0.018366631 0.182341380 0.102068483 0.153835606 0.051850789 \n",
              "       3111        3116        3117        3122        3123        3125 \n",
              "0.307151126 0.415049074 0.060737143 0.535924708 0.087239500 0.039522438 \n",
              "       3128        3130        3132        3133        3141        3143 \n",
              "0.422962464 0.367875925 0.123987067 0.319049055 0.384567134 0.356968642 \n",
              "       3149        3151        3157        3164        3170        3173 \n",
              "0.065831091 0.012397772 0.524230477 0.364420934 0.019164513 0.347049276 \n",
              "       3178        3179        3184        3188        3200        3204 \n",
              "0.075796376 0.035371314 0.866186431 0.255220520 0.500210042 0.036174609 \n",
              "       3209        3210        3218        3219        3220        3221 \n",
              "0.425343943 0.375450903 0.288873382 0.225740613 0.112201240 0.037702555 \n",
              "       3225        3233        3235        3237        3240        3246 \n",
              "0.300907573 0.256859058 0.119547693 0.061734747 0.089729057 0.312723021 \n",
              "       3251        3256        3258        3263        3264        3266 \n",
              "0.099097883 0.233087860 0.324458281 0.019360128 0.278759948 0.065189497 \n",
              "       3273        3276        3278        3282        3283        3289 \n",
              "0.189753623 0.079774722 0.385946683 0.102546123 0.319997459 0.866995964 \n",
              "       3295        3297        3302        3315        3316        3327 \n",
              "0.125018059 0.044903303 0.082543179 0.127806380 0.053251103 0.137788876 \n",
              "       3333        3353        3358        3363        3364        3368 \n",
              "0.060095028 0.297060496 0.176800775 0.017021506 0.098866018 0.507189232 \n",
              "       3374        3384        3385        3390        3400        3407 \n",
              "0.028251659 0.086577965 0.382962942 0.104740230 0.432775069 0.796690853 \n",
              "       3425        3427        3437        3438        3443        3445 \n",
              "0.128805921 0.131620283 0.255756624 0.143202605 0.316870456 0.405239521 \n",
              "       3447        3450        3453        3454        3457        3466 \n",
              "0.102110210 0.394511789 0.539258683 0.087465770 0.201808393 0.014325534 \n",
              "       3467        3470        3471        3472        3474        3486 \n",
              "0.223370094 0.028856190 0.763864420 0.067239502 0.627130793 0.531131239 \n",
              "       3489        3491        3495        3497        3499        3501 \n",
              "0.235752261 0.768103715 0.024181449 0.096824420 0.588999616 0.613395686 \n",
              "       3502        3507        3509        3510        3520        3521 \n",
              "0.022179434 0.315466178 0.601902995 0.221765992 0.720162130 0.543330752 \n",
              "       3530        3535        3539        3552        3558        3567 \n",
              "0.306082753 0.785323932 0.418261343 0.312878395 0.098253765 0.106329836 \n",
              "       3568        3573        3581        3582        3589        3590 \n",
              "0.056796959 0.178974879 0.026895676 0.522263002 0.013327651 0.701520701 \n",
              "       3591        3595        3596        3597        3607        3623 \n",
              "0.287852202 0.086361590 0.024727449 0.275863938 0.065575046 0.024463587 \n",
              "       3624        3625        3634        3651        3653        3657 \n",
              "0.107648368 0.044130187 0.563581051 0.020602094 0.328736463 0.053661489 \n",
              "       3661        3663        3670        3676        3682        3683 \n",
              "0.397225254 0.231160306 0.288017729 0.138240942 0.030243603 0.237303455 \n",
              "       3684        3693        3696        3698        3713        3722 \n",
              "0.075001968 0.053170530 0.041482380 0.064169897 0.138374335 0.059118999 \n",
              "       3723        3739        3743        3755        3757        3760 \n",
              "0.029050266 0.398940345 0.634553294 0.651511406 0.064689797 0.213977255 \n",
              "       3765        3766        3770        3772        3774        3775 \n",
              "0.047869386 0.376878859 0.683456778 0.262770826 0.611649004 0.573686001 \n",
              "       3778        3787        3808        3809        3810        3812 \n",
              "0.154819556 0.401123519 0.448208046 0.408820189 0.191907258 0.363898494 \n",
              "       3815        3834        3835        3836        3839        3843 \n",
              "0.036545347 0.101447313 0.502422487 0.237553390 0.041829788 0.435667618 \n",
              "       3846        3848        3856        3869        3870        3877 \n",
              "0.145982458 0.277222647 0.707695724 0.082276183 0.057590347 0.048563666 \n",
              "       3881        3882        3885        3891        3892        3897 \n",
              "0.096746379 0.102505711 0.396976927 0.086905568 0.054094065 0.379095437 \n",
              "       3899        3900        3902        3906        3907        3914 \n",
              "0.653993960 0.310139225 0.059717039 0.145303416 0.253730566 0.341952261 \n",
              "       3922        3927        3929        3939        3951        3956 \n",
              "0.013499741 0.687827107 0.262364252 0.172035354 0.558800353 0.357160463 \n",
              "       3962        3966        3967        3987        3989        3991 \n",
              "0.167434606 0.093713032 0.163006588 0.373558294 0.097824140 0.568210700 \n",
              "       3994        4003        4006        4010        4017        4024 \n",
              "0.703290737 0.302163585 0.099768666 0.749868643 0.102444383 0.062513129 \n",
              "       4026        4028        4029        4034        4036        4041 \n",
              "0.374166711 0.185216099 0.022082391 0.130013205 0.012443204 0.056953205 \n",
              "       4049        4053        4055        4061        4062        4067 \n",
              "0.100411857 0.251652138 0.531508953 0.475678985 0.673454822 0.240898410 \n",
              "       4068        4073        4083        4085        4087        4090 \n",
              "0.271596740 0.467858899 0.145968806 0.100464731 0.112527207 0.257487484 \n",
              "       4095        4098        4099        4120        4123        4129 \n",
              "0.214611591 0.499739198 0.571955226 0.177935957 0.323394383 0.353958742 \n",
              "       4134        4138        4152        4158        4159        4160 \n",
              "0.479261598 0.350610858 0.037026228 0.182012044 0.251915433 0.136349190 \n",
              "       4165        4169        4170        4181        4187        4190 \n",
              "0.266016675 0.656641503 0.642030357 0.339046902 0.220619508 0.011542497 \n",
              "       4196        4197        4212        4213        4215        4223 \n",
              "0.471255995 0.062142466 0.625816539 0.015234405 0.711786386 0.421826192 \n",
              "       4226        4233        4243        4244        4245        4247 \n",
              "0.069972946 0.289755566 0.257879524 0.221562626 0.068211313 0.111494454 \n",
              "       4249        4259        4260        4265        4272        4275 \n",
              "0.718958652 0.336070415 0.053105472 0.802538805 0.101232940 0.171097062 \n",
              "       4277        4288        4292        4293        4305        4323 \n",
              "0.306707238 0.055692656 0.260364607 0.128676826 0.580387597 0.276571118 \n",
              "       4326        4328        4330        4333        4340        4346 \n",
              "0.282272959 0.805210093 0.072314023 0.390571444 0.072120163 0.362307428 \n",
              "       4360        4364        4365        4371        4374        4376 \n",
              "0.513993198 0.600114423 0.657307577 0.236463696 0.250413145 0.206356576 \n",
              "       4390        4397        4418        4421        4422        4427 \n",
              "0.364938867 0.223687265 0.202641757 0.072019007 0.325803583 0.524076015 \n",
              "       4430        4433        4435        4436        4443        4444 \n",
              "0.057300679 0.056694963 0.195789464 0.237512737 0.698748188 0.019098341 \n",
              "       4453        4458        4461        4463        4473        4474 \n",
              "0.417316127 0.058914655 0.056229312 0.015538963 0.245124743 0.474876413 \n",
              "       4493        4498        4503        4508        4509        4513 \n",
              "0.047593048 0.404702495 0.019661730 0.096375743 0.352581603 0.239931057 \n",
              "       4514        4518        4520        4521        4525        4533 \n",
              "0.048338388 0.100171123 0.183580351 0.140122368 0.382163479 0.078869805 \n",
              "       4536        4539        4551        4552        4559        4560 \n",
              "0.359097202 0.146589641 0.042663399 0.682069705 0.373502589 0.677161812 \n",
              "       4568        4575        4585        4586        4589        4598 \n",
              "0.059329376 0.264374481 0.057034999 0.022027989 0.199399993 0.047654124 \n",
              "       4599        4605        4610        4611        4615        4617 \n",
              "0.048035772 0.174333699 0.110179121 0.098550534 0.312765970 0.019603907 \n",
              "       4618        4619        4625        4632        4634        4636 \n",
              "0.335401499 0.737521577 0.106666139 0.587161753 0.135761309 0.134068498 \n",
              "       4647        4649        4656        4662        4664        4674 \n",
              "0.488022671 0.139572445 0.493104577 0.544039677 0.043006914 0.109293334 \n",
              "       4675        4682        4687        4689        4694        4696 \n",
              "0.064970667 0.367958630 0.142915691 0.062801416 0.097620783 0.321776125 \n",
              "       4698        4705        4707        4713        4714        4724 \n",
              "0.294241602 0.437831727 0.549886456 0.119257888 0.022532221 0.303075873 \n",
              "       4725        4742        4750        4752        4768        4772 \n",
              "0.165552796 0.820963776 0.138924487 0.122578602 0.257686767 0.050472007 \n",
              "       4783        4790        4797        4798        4809        4810 \n",
              "0.169140845 0.062297304 0.450719368 0.072967936 0.382659596 0.378170615 \n",
              "       4813        4814        4817        4828        4833        4835 \n",
              "0.041934601 0.226098363 0.072058510 0.245928431 0.370543215 0.254699000 \n",
              "       4836        4837        4843        4849        4850        4860 \n",
              "0.073839790 0.275520806 0.210156033 0.395331500 0.564573256 0.065534128 \n",
              "       4863        4868        4874        4881        4895        4897 \n",
              "0.688487439 0.098819976 0.468038495 0.096690829 0.676175575 0.350472410 \n",
              "       4899        4911        4917        4920        4930        4937 \n",
              "0.724282538 0.233090803 0.478096736 0.487786848 0.098959936 0.133506362 \n",
              "       4938        4939        4944        4948        4956        4957 \n",
              "0.072157180 0.376198734 0.033809894 0.032822648 0.866563064 0.434089072 \n",
              "       4958        4960        4963        4967        4971        4973 \n",
              "0.063084808 0.024810751 0.756547359 0.135171664 0.171141701 0.334617724 \n",
              "       4977        4982        4983        4990        4991        5001 \n",
              "0.541707925 0.258245396 0.195450009 0.092281137 0.241252597 0.628102737 \n",
              "       5002        5005        5011        5016        5018        5019 \n",
              "0.201368559 0.051141105 0.038056619 0.053492982 0.122942702 0.910028665 \n",
              "       5029        5032        5044        5046        5047        5051 \n",
              "0.193979010 0.053084935 0.145615267 0.034035066 0.297219012 0.319091845 \n",
              "       5054        5068        5071        5072        5073        5080 \n",
              "0.354647820 0.045802800 0.091259359 0.171377446 0.192786101 0.116541277 \n",
              "       5081        5094        5095        5098        5121        5122 \n",
              "0.593478591 0.127970604 0.575925214 0.550146987 0.027601666 0.054560201 \n",
              "       5123        5125        5128        5130        5159        5162 \n",
              "0.304964572 0.153943471 0.225031867 0.146954836 0.080510190 0.050309357 \n",
              "       5163        5169        5178        5208        5213        5217 \n",
              "0.707473397 0.065421965 0.761914277 0.087348792 0.066932456 0.525625811 \n",
              "       5219        5225        5230        5240        5244        5251 \n",
              "0.585775365 0.109960309 0.160246530 0.080222030 0.262486980 0.250723080 \n",
              "       5256        5263        5265        5268        5275        5279 \n",
              "0.151483710 0.287977402 0.522710217 0.089814075 0.656336279 0.030102230 \n",
              "       5282        5297        5301        5304        5305        5307 \n",
              "0.155806055 0.048785507 0.352708677 0.018052009 0.341990430 0.224354835 \n",
              "       5310        5313        5316        5326        5346        5349 \n",
              "0.288246458 0.160463970 0.014283689 0.476668241 0.298376483 0.218349467 \n",
              "       5357        5366        5368        5372        5384        5387 \n",
              "0.182854606 0.699829143 0.017702126 0.011824157 0.084563408 0.084610409 \n",
              "       5390        5404        5409        5416        5419        5423 \n",
              "0.047745598 0.140448937 0.144028511 0.103071178 0.173496225 0.063099037 \n",
              "       5425        5427        5431        5434        5440        5445 \n",
              "0.034457204 0.215493544 0.110438114 0.414483796 0.179539200 0.156680318 \n",
              "       5450        5457        5466        5474        5476        5477 \n",
              "0.850127134 0.571879638 0.073565793 0.104196964 0.020947497 0.289504459 \n",
              "       5480        5482        5487        5490        5494        5495 \n",
              "0.085446833 0.627172609 0.214967828 0.092460208 0.022407343 0.366275479 \n",
              "       5496        5497        5498        5505        5511        5516 \n",
              "0.068352774 0.380061965 0.080246113 0.202840941 0.274195133 0.340490549 \n",
              "       5517        5522        5523        5526        5528        5532 \n",
              "0.242039392 0.583677776 0.492241262 0.153621874 0.666876144 0.366792036 \n",
              "       5535        5539        5547        5548        5549        5550 \n",
              "0.051380074 0.770879309 0.124519822 0.318725133 0.350739935 0.185094265 \n",
              "       5558        5559        5569        5582        5583        5596 \n",
              "0.707725441 0.007121516 0.780767154 0.403437007 0.129386515 0.088113724 \n",
              "       5600        5601        5602        5604        5618        5619 \n",
              "0.314632894 0.097778830 0.278153289 0.609448645 0.031634335 0.438697524 \n",
              "       5628        5629        5631        5653        5655        5657 \n",
              "0.281820431 0.103565277 0.256912394 0.013908346 0.025177135 0.018367847 \n",
              "       5667        5677        5681        5683        5692        5693 \n",
              "0.040161065 0.293278549 0.113436763 0.114285207 0.065301543 0.185704140 \n",
              "       5696        5698        5701        5702        5714        5726 \n",
              "0.086871216 0.530528594 0.240445542 0.195487092 0.119930895 0.055535592 \n",
              "       5736        5744        5753        5757        5769        5777 \n",
              "0.045580389 0.678893854 0.491167134 0.619010725 0.641026310 0.063965874 \n",
              "       5779        5785        5787        5790        5797        5798 \n",
              "0.325394712 0.243722502 0.110764842 0.122475882 0.412487306 0.271186661 \n",
              "       5821        5827        5833        5837        5838        5840 \n",
              "0.527181058 0.265186761 0.101588747 0.829302931 0.031543957 0.153373893 \n",
              "       5843        5849        5858        5861        5863        5867 \n",
              "0.056943893 0.241289865 0.147780146 0.713631716 0.714927359 0.562189656 \n",
              "       5868        5876        5882        5884        5892        5903 \n",
              "0.094015583 0.049995900 0.315333610 0.038149280 0.049800373 0.096622882 \n",
              "       5909        5919        5923        5926        5937        5941 \n",
              "0.394952465 0.507951168 0.167212677 0.380321115 0.306542418 0.170630291 \n",
              "       5945        5953        5963        5975        5983        5994 \n",
              "0.691753292 0.234177289 0.221845834 0.053313737 0.114631538 0.695796885 \n",
              "       5997        5999        6001        6002        6010        6012 \n",
              "0.289652944 0.685425307 0.011851424 0.250059935 0.509172208 0.046067274 \n",
              "       6020        6027        6029        6035        6038        6041 \n",
              "0.046711523 0.519878625 0.476618672 0.273133149 0.320106539 0.060740165 \n",
              "       6047        6048        6056        6059        6065        6067 \n",
              "0.404233295 0.333456026 0.096285884 0.271546449 0.756207524 0.466579125 \n",
              "       6072        6076        6077        6084        6089        6090 \n",
              "0.450689143 0.077771849 0.097476202 0.121911122 0.101611333 0.048989932 \n",
              "       6101        6111        6121        6123        6144        6150 \n",
              "0.084132588 0.250522484 0.308431785 0.463502175 0.050231490 0.317885344 \n",
              "       6153        6155        6167        6183        6189        6191 \n",
              "0.023387187 0.276714971 0.400635858 0.107613429 0.027320066 0.048417783 \n",
              "       6200        6211        6213        6215        6218        6220 \n",
              "0.258272726 0.009610372 0.246834404 0.126050180 0.277922627 0.159258342 \n",
              "       6224        6225        6239        6246        6257        6262 \n",
              "0.217893661 0.138438923 0.165658299 0.162359860 0.177369559 0.037944806 \n",
              "       6265        6273        6276        6278        6282        6283 \n",
              "0.333030747 0.448226300 0.052134143 0.101078315 0.030737771 0.349949064 \n",
              "       6284        6285        6289        6298        6303        6306 \n",
              "0.560139089 0.025830880 0.040951826 0.442912558 0.336564144 0.077978695 \n",
              "       6308        6316        6322        6333        6346        6349 \n",
              "0.723289452 0.471602080 0.053246455 0.247905526 0.714108141 0.376093158 \n",
              "       6351        6352        6358        6370        6371        6375 \n",
              "0.599989044 0.471190205 0.273877379 0.172769545 0.487737591 0.603771338 \n",
              "       6382        6384        6386        6387        6392        6396 \n",
              "0.770329907 0.272584158 0.472026761 0.042488920 0.880658313 0.236566867 \n",
              "       6400        6403        6411        6423        6425        6430 \n",
              "0.035284006 0.086492325 0.050633359 0.395893044 0.235631498 0.370236920 \n",
              "       6442        6443        6445        6455        6464        6468 \n",
              "0.544643350 0.219316194 0.192847728 0.624583415 0.086678330 0.223653732 \n",
              "       6471        6475        6479        6480        6484        6486 \n",
              "0.052691549 0.497402222 0.631507954 0.435346297 0.357149224 0.124798804 \n",
              "       6490        6491        6493        6499        6506        6509 \n",
              "0.112495029 0.106435793 0.648533106 0.271340172 0.387091456 0.486333239 \n",
              "       6512        6516        6526        6531        6532        6535 \n",
              "0.207846575 0.101098392 0.748280607 0.192908103 0.862787547 0.251692698 \n",
              "       6537        6547        6548        6555        6569        6570 \n",
              "0.176099135 0.239023651 0.402316655 0.066003389 0.482378802 0.074649614 \n",
              "       6571        6577        6579        6581        6582        6583 \n",
              "0.260235259 0.383884495 0.036775228 0.516517569 0.248806161 0.080316995 \n",
              "       6585        6586        6600        6603        6606        6607 \n",
              "0.054512755 0.130811823 0.185914495 0.326432865 0.046732858 0.110488420 \n",
              "       6608        6610        6611        6619        6627        6631 \n",
              "0.522795081 0.126179014 0.202011942 0.622226361 0.284573379 0.279581126 \n",
              "       6636        6639        6640        6657        6678        6684 \n",
              "0.713040130 0.071923738 0.023734249 0.240197193 0.044433765 0.248357586 \n",
              "       6691        6692        6700        6702        6706        6709 \n",
              "0.146176213 0.042829097 0.688221814 0.287494184 0.253000729 0.086907037 \n",
              "       6711        6714        6727        6728        6735        6743 \n",
              "0.155393611 0.347016713 0.398279296 0.097938063 0.126655205 0.702603501 \n",
              "       6746        6753        6754        6761        6764        6776 \n",
              "0.205110956 0.142855131 0.396903707 0.561589802 0.168796550 0.371440029 \n",
              "       6779        6783        6784        6786        6799        6800 \n",
              "0.423304378 0.483469127 0.632376265 0.587465325 0.064096393 0.162745373 \n",
              "       6802        6811        6812        6822        6835        6840 \n",
              "0.089645839 0.337748244 0.347360140 0.257431174 0.791149684 0.302891006 \n",
              "       6845        6851        6853        6857        6863        6864 \n",
              "0.315754863 0.208610262 0.233498236 0.118983892 0.632305008 0.298472805 \n",
              "       6870        6886        6902        6909        6922        6923 \n",
              "0.040904207 0.154876317 0.170779338 0.107541755 0.595826957 0.457262393 \n",
              "       6926        6938        6955        6957        6960        6961 \n",
              "0.043577179 0.136041563 0.029590008 0.762788523 0.153520921 0.021698698 \n",
              "       6965        6971        6979        6980        6982        6989 \n",
              "0.461416004 0.407831994 0.249373163 0.213806457 0.154983226 0.097382591 \n",
              "       6991        6993        6997        6998        6999        7002 \n",
              "0.017146875 0.434808740 0.229611602 0.460586477 0.015808873 0.233830699 \n",
              "       7003        7011        7016        7017        7023        7024 \n",
              "0.118518302 0.221993163 0.046039410 0.144510493 0.067015857 0.073381696 \n",
              "       7027        7032        7038        7042        7044        7048 \n",
              "0.239234673 0.299168756 0.060719229 0.379280062 0.023119872 0.468849306 \n",
              "       7050        7055        7069        7076        7077        7080 \n",
              "0.615378421 0.030363056 0.557000931 0.287906918 0.043678046 0.721055351 \n",
              "       7085        7090        7091        7100        7102        7110 \n",
              "0.055213659 0.026000180 0.576767053 0.558826558 0.267391047 0.092133359 \n",
              "       7124        7128        7140        7149        7152        7156 \n",
              "0.815603853 0.430743595 0.058305969 0.539541504 0.056615097 0.747100724 \n",
              "       7161        7166        7169        7173        7174        7177 \n",
              "0.661113280 0.182178685 0.262806553 0.061434385 0.461832988 0.209755256 \n",
              "       7188        7191        7194        7208        7214        7216 \n",
              "0.215972778 0.557659200 0.254976731 0.229349865 0.048478768 0.016244417 \n",
              "       7232 \n",
              "0.027639801 "
            ]
          },
          "metadata": {}
        }
      ]
    },
    {
      "cell_type": "code",
      "source": [
        "# Predict on validation data\n",
        "pred_val <- predict(logit, newdata = validate, type = \"response\")\n",
        "\n"
      ],
      "metadata": {
        "id": "18jk5laXQHAO"
      },
      "execution_count": null,
      "outputs": []
    },
    {
      "cell_type": "code",
      "source": [
        "# Create confusion matrix\n",
        "table(validate$CLAIM, pred_val > 0.5)"
      ],
      "metadata": {
        "colab": {
          "base_uri": "https://localhost:8080/",
          "height": 90
        },
        "id": "2cZ9P8wyxctN",
        "outputId": "744b36e5-54fe-4bfc-89c8-a47220ecdce5"
      },
      "execution_count": null,
      "outputs": [
        {
          "output_type": "display_data",
          "data": {
            "text/plain": [
              "   \n",
              "    FALSE TRUE\n",
              "  0   966   99\n",
              "  1   240  142"
            ]
          },
          "metadata": {}
        }
      ]
    },
    {
      "cell_type": "code",
      "source": [
        "# Predict on validation data\n",
        "pred_val <- predict(logit, newdata = validate, type = \"response\")\n",
        "\n",
        "# Create confusion matrix\n",
        "conf_mat <- table(validate$CLAIM, pred_val > 0.5)\n",
        "conf_mat\n",
        "\n",
        "# Number of insurance claims (positives) predicted correctly\n",
        "tp <- conf_mat[2, 2]\n",
        "tp\n"
      ],
      "metadata": {
        "colab": {
          "base_uri": "https://localhost:8080/",
          "height": 107
        },
        "id": "TOWFmR4hzQFI",
        "outputId": "480eee85-7525-4f0a-f9e2-fce1e6ea3705"
      },
      "execution_count": null,
      "outputs": [
        {
          "output_type": "display_data",
          "data": {
            "text/plain": [
              "   \n",
              "    FALSE TRUE\n",
              "  0   966   99\n",
              "  1   240  142"
            ]
          },
          "metadata": {}
        },
        {
          "output_type": "display_data",
          "data": {
            "text/html": [
              "142"
            ],
            "text/markdown": "142",
            "text/latex": "142",
            "text/plain": [
              "[1] 142"
            ]
          },
          "metadata": {}
        }
      ]
    },
    {
      "cell_type": "code",
      "source": [
        "\n",
        "\n",
        "# Create ROC curve and calculate AUC\n",
        "roc_val <- roc(validate$CLAIM, pred_val)\n",
        "plot(roc_val, main = \"ROC Curve - Validation Set\")\n"
      ],
      "metadata": {
        "colab": {
          "base_uri": "https://localhost:8080/",
          "height": 510
        },
        "id": "A8LlPKyXQG-N",
        "outputId": "a60ee75b-5e9b-499c-faea-6a7243b4bc4e"
      },
      "execution_count": null,
      "outputs": [
        {
          "output_type": "stream",
          "name": "stderr",
          "text": [
            "Setting levels: control = 0, case = 1\n",
            "\n",
            "Setting direction: controls < cases\n",
            "\n"
          ]
        },
        {
          "output_type": "display_data",
          "data": {
            "text/plain": [
              "Plot with title “ROC Curve - Validation Set”"
            ],
            "image/png": "[encoded data removed]"
          },
          "metadata": {
            "image/png": {
              "width": 420,
              "height": 420
            }
          }
        }
      ]
    },
    {
      "cell_type": "code",
      "source": [
        "auc(roc_val)\n"
      ],
      "metadata": {
        "colab": {
          "base_uri": "https://localhost:8080/",
          "height": 34
        },
        "id": "1D1F-NmKv5_Q",
        "outputId": "0bbedb97-4c3d-448c-de95-a84d0697886a"
      },
      "execution_count": null,
      "outputs": [
        {
          "output_type": "display_data",
          "data": {
            "text/html": [
              "0.797539512818622"
            ],
            "text/markdown": "0.797539512818622",
            "text/latex": "0.797539512818622",
            "text/plain": [
              "Area under the curve: 0.7975"
            ]
          },
          "metadata": {}
        }
      ]
    },
    {
      "cell_type": "code",
      "source": [
        "sensitivity(factor(validate$CLAIM, levels = c(0, 1)),\n",
        "            factor(pred_test, levels = c(0, 1)))\n"
      ],
      "metadata": {
        "colab": {
          "base_uri": "https://localhost:8080/",
          "height": 226
        },
        "id": "sWr1_k_Uww9x",
        "outputId": "02ba1850-349f-4471-f8ea-0f999b2c0bf0"
      },
      "execution_count": null,
      "outputs": [
        {
          "output_type": "error",
          "ename": "ERROR",
          "evalue": "ignored",
          "traceback": [
            "Error in factor(pred_test, levels = c(0, 1)): object 'pred_test' not found\nTraceback:\n",
            "1. sensitivity(factor(validate$CLAIM, levels = c(0, 1)), factor(pred_test, \n .     levels = c(0, 1)))",
            "2. sensitivity.default(factor(validate$CLAIM, levels = c(0, 1)), \n .     factor(pred_test, levels = c(0, 1)))",
            "3. is.factor(reference)",
            "4. factor(pred_test, levels = c(0, 1))"
          ]
        }
      ]
    },
    {
      "cell_type": "code",
      "source": [
        "library(DMwR)"
      ],
      "metadata": {
        "colab": {
          "base_uri": "https://localhost:8080/",
          "height": 135
        },
        "id": "FDshTlsdWLXb",
        "outputId": "1c02483a-901d-4a3f-8f90-8a7793010bd7"
      },
      "execution_count": null,
      "outputs": [
        {
          "output_type": "error",
          "ename": "ERROR",
          "evalue": "ignored",
          "traceback": [
            "Error in library(DMwR): there is no package called ‘DMwR’\nTraceback:\n",
            "1. library(DMwR)"
          ]
        }
      ]
    },
    {
      "cell_type": "code",
      "source": [
        "\n",
        "# assuming your minority class is labeled \"classA\" and your majority class is labeled \"classB\"\n",
        "minority_count <- sum(train$CLAIM == \"classA\")\n",
        "oversampled_data <- ovun.sample(CLAIM ~ ., data = train, method = \"over\", seed = 42)\n"
      ],
      "metadata": {
        "id": "vCaP2M7z4H5d"
      },
      "execution_count": null,
      "outputs": []
    },
    {
      "cell_type": "code",
      "source": [
        "# Extract the data frame from the oversampled_data object\n",
        "oversampled_df <- oversampled_data$data\n",
        "\n",
        "# Fit a logistic regression model to the oversampled training data\n",
        "logit_over <- glm(CLAIM ~ ., data = oversampled_df, family = \"binomial\")\n",
        "\n",
        "# View the model summary\n",
        "summary(logit_over)\n"
      ],
      "metadata": {
        "colab": {
          "base_uri": "https://localhost:8080/",
          "height": 729
        },
        "id": "gm5tfLH44Wl9",
        "outputId": "1d0ac11d-aac2-46a0-878b-801a038a1e80"
      },
      "execution_count": null,
      "outputs": [
        {
          "output_type": "display_data",
          "data": {
            "text/plain": [
              "\n",
              "Call:\n",
              "glm(formula = CLAIM ~ ., family = \"binomial\", data = oversampled_df)\n",
              "\n",
              "Deviance Residuals: \n",
              "    Min       1Q   Median       3Q      Max  \n",
              "-2.5744  -0.8907   0.2053   0.8885   2.6291  \n",
              "\n",
              "Coefficients:\n",
              "              Estimate Std. Error z value Pr(>|z|)    \n",
              "(Intercept) -1.655e+00  2.372e-01  -6.978 3.00e-12 ***\n",
              "KIDSDRIV     4.641e-01  1.038e-01   4.469 7.84e-06 ***\n",
              "AGE          3.031e-03  3.927e-03   0.772  0.44029    \n",
              "HOMEKIDS     4.111e-01  8.116e-02   5.065 4.08e-07 ***\n",
              "INCOME      -5.905e-06  8.380e-07  -7.047 1.83e-12 ***\n",
              "HOMEOWN     -2.062e-01  7.312e-02  -2.819  0.00481 ** \n",
              "MSTATUS     -7.542e-01  7.236e-02 -10.423  < 2e-16 ***\n",
              "GENDER       9.689e-02  8.178e-02   1.185  0.23608    \n",
              "EDUCATION   -6.102e-01  8.300e-02  -7.352 1.96e-13 ***\n",
              "TRAVTIME     1.733e-02  1.926e-03   9.001  < 2e-16 ***\n",
              "CAR_USE      7.992e-01  6.654e-02  12.012  < 2e-16 ***\n",
              "BLUEBOOK    -2.567e-05  3.951e-06  -6.497 8.21e-11 ***\n",
              "TWC         -6.102e-02  7.247e-03  -8.420  < 2e-16 ***\n",
              "RED_CAR     -5.312e-02  8.620e-02  -0.616  0.53771    \n",
              "CLM_BEF      7.111e-01  6.134e-02  11.593  < 2e-16 ***\n",
              "REVOKED      8.524e-01  8.410e-02  10.136  < 2e-16 ***\n",
              "MVR_PTS      3.221e-01  6.232e-02   5.169 2.36e-07 ***\n",
              "CAR_AGE     -3.951e-03  6.850e-03  -0.577  0.56405    \n",
              "URBANICITY   1.935e+00  9.593e-02  20.168  < 2e-16 ***\n",
              "---\n",
              "Signif. codes:  0 ‘***’ 0.001 ‘**’ 0.01 ‘*’ 0.05 ‘.’ 0.1 ‘ ’ 1\n",
              "\n",
              "(Dispersion parameter for binomial family taken to be 1)\n",
              "\n",
              "    Null deviance: 8891.6  on 6413  degrees of freedom\n",
              "Residual deviance: 6949.2  on 6395  degrees of freedom\n",
              "AIC: 6987.2\n",
              "\n",
              "Number of Fisher Scoring iterations: 4\n"
            ]
          },
          "metadata": {}
        }
      ]
    },
    {
      "cell_type": "code",
      "source": [
        "# Predict on the test set using the logistic regression model\n",
        "pred_test <- predict(logit_over, newdata = validate, type = \"response\")\n",
        "\n",
        "# Create a binary prediction using a 0.5 threshold\n",
        "binary_pred <- ifelse(pred_test > 0.5, 1, 0)\n",
        "\n",
        "# Create a confusion matrix\n",
        "conf_matrix <- table(validate$CLAIM, binary_pred)\n",
        "\n",
        "# Print the confusion matrix\n",
        "conf_matrix\n"
      ],
      "metadata": {
        "colab": {
          "base_uri": "https://localhost:8080/",
          "height": 90
        },
        "id": "K7yNne_05MWd",
        "outputId": "22419e65-b0eb-4e5d-cc26-e5ec4c98edb3"
      },
      "execution_count": null,
      "outputs": [
        {
          "output_type": "display_data",
          "data": {
            "text/plain": [
              "   binary_pred\n",
              "      0   1\n",
              "  0 763 302\n",
              "  1 100 282"
            ]
          },
          "metadata": {}
        }
      ]
    },
    {
      "cell_type": "code",
      "source": [
        "# Calculate the accuracy rate for the model on the test dataset\n",
        "accuracy_test <- sum(diag(conf_matrix))/sum(conf_matrix)\n",
        "round(accuracy_test,2)\n",
        "\n"
      ],
      "metadata": {
        "colab": {
          "base_uri": "https://localhost:8080/",
          "height": 34
        },
        "id": "5QDmHvxBVfPB",
        "outputId": "575b5fd3-55db-4a9d-9d05-cce43cfda523"
      },
      "execution_count": null,
      "outputs": [
        {
          "output_type": "display_data",
          "data": {
            "text/html": [
              "0.72"
            ],
            "text/markdown": "0.72",
            "text/latex": "0.72",
            "text/plain": [
              "[1] 0.72"
            ]
          },
          "metadata": {}
        }
      ]
    },
    {
      "cell_type": "code",
      "source": [
        "# Calculate the sensitivity for the model on the test dataset\n",
        "sensitivity_test <- conf_matrix[2,2]/sum(conf_matrix[2,])\n",
        "round(sensitivity_test,2)"
      ],
      "metadata": {
        "colab": {
          "base_uri": "https://localhost:8080/",
          "height": 34
        },
        "id": "bvi6MeY2Vj5Q",
        "outputId": "a3b25815-fac4-4104-8edd-370a02269678"
      },
      "execution_count": null,
      "outputs": [
        {
          "output_type": "display_data",
          "data": {
            "text/html": [
              "0.74"
            ],
            "text/markdown": "0.74",
            "text/latex": "0.74",
            "text/plain": [
              "[1] 0.74"
            ]
          },
          "metadata": {}
        }
      ]
    },
    {
      "cell_type": "code",
      "source": [
        "oversampled_data <- ROSE(CLAIM ~ ., data = train_no_na, seed = 1)$data\n",
        "logistic_model <- glm(CLAIM ~ ., data = oversampled_data, family = \"binomial\")\n"
      ],
      "metadata": {
        "id": "yJrsr4uTWhPs"
      },
      "execution_count": null,
      "outputs": []
    },
    {
      "cell_type": "code",
      "source": [
        "\n",
        "\n",
        "# Create a data frame with the predicted probabilities of the test set\n",
        "predicted_probabilities <- predict(logistic_model, newdata = test, type = \"response\")\n",
        "oversampled_df <- data.frame(probability = predicted_probabilities, CLAIM = test$CLAIM)"
      ],
      "metadata": {
        "id": "qOtYgPw0WZFq"
      },
      "execution_count": null,
      "outputs": []
    },
    {
      "cell_type": "code",
      "source": [
        "\n",
        "\n",
        "\n",
        "\n",
        "\n",
        "# Create a ROC curve plot using the test dataset\n",
        "roc_test <- roc(test$CLAIM, oversampled_df$probability)\n",
        "plot(roc_test, main = \"ROC Curve for Logistic Regression Model (Test)\", col = \"red\")\n",
        "\n",
        "# Calculate AUC for the ROC curve\n",
        "round(auc(roc_test),2)\n"
      ],
      "metadata": {
        "colab": {
          "base_uri": "https://localhost:8080/",
          "height": 527
        },
        "id": "PLQL6PwdVvdw",
        "outputId": "93c1f2f0-cfc7-48e5-caac-e8fc9d7ef7ec"
      },
      "execution_count": null,
      "outputs": [
        {
          "output_type": "stream",
          "name": "stderr",
          "text": [
            "Setting levels: control = 0, case = 1\n",
            "\n",
            "Setting direction: controls < cases\n",
            "\n"
          ]
        },
        {
          "output_type": "display_data",
          "data": {
            "text/html": [
              "0.81"
            ],
            "text/markdown": "0.81",
            "text/latex": "0.81",
            "text/plain": [
              "[1] 0.81"
            ]
          },
          "metadata": {}
        },
        {
          "output_type": "display_data",
          "data": {
            "text/plain": [
              "Plot with title “ROC Curve for Logistic Regression Model (Test)”"
            ],
            "image/png": "[encoded data removed]"
          },
          "metadata": {
            "image/png": {
              "width": 420,
              "height": 420
            }
          }
        }
      ]
    },
    {
      "cell_type": "code",
      "source": [
        "# Load the data for the new customers\n",
        "new_customers <- read.csv(\"insurance_predictions.csv\")"
      ],
      "metadata": {
        "id": "FRK-37NgW1RS"
      },
      "execution_count": null,
      "outputs": []
    },
    {
      "cell_type": "code",
      "source": [
        "# Predict the probability scores for insurance claims for the new customers using the model\n",
        "predictions <- predict(logistic_model, newdata = new_customers, type = \"response\")\n",
        "predictions\n",
        "\n"
      ],
      "metadata": {
        "colab": {
          "base_uri": "https://localhost:8080/",
          "height": 69
        },
        "id": "5JiCNt3_Wvvb",
        "outputId": "41ecc041-6481-4bad-e864-c6e68c6c9f04"
      },
      "execution_count": null,
      "outputs": [
        {
          "output_type": "display_data",
          "data": {
            "text/html": [
              "<style>\n",
              ".dl-inline {width: auto; margin:0; padding: 0}\n",
              ".dl-inline>dt, .dl-inline>dd {float: none; width: auto; display: inline-block}\n",
              ".dl-inline>dt::after {content: \":\\0020\"; padding-right: .5ex}\n",
              ".dl-inline>dt:not(:first-of-type) {padding-left: .5ex}\n",
              "</style><dl class=dl-inline><dt>1</dt><dd>0.558835493236663</dd><dt>2</dt><dd>0.481985865989465</dd><dt>3</dt><dd>0.24112275954641</dd><dt>4</dt><dd>0.309854431792835</dd><dt>5</dt><dd>0.21048638136094</dd><dt>6</dt><dd>0.607817878673877</dd><dt>7</dt><dd>0.368195479505865</dd><dt>8</dt><dd>0.51564553020113</dd><dt>9</dt><dd>0.412796920386846</dd><dt>10</dt><dd>0.428620489935551</dd></dl>\n"
            ],
            "text/markdown": "1\n:   0.5588354932366632\n:   0.4819858659894653\n:   0.241122759546414\n:   0.3098544317928355\n:   0.210486381360946\n:   0.6078178786738777\n:   0.3681954795058658\n:   0.515645530201139\n:   0.41279692038684610\n:   0.428620489935551\n\n",
            "text/latex": "\\begin{description*}\n\\item[1] 0.558835493236663\n\\item[2] 0.481985865989465\n\\item[3] 0.24112275954641\n\\item[4] 0.309854431792835\n\\item[5] 0.21048638136094\n\\item[6] 0.607817878673877\n\\item[7] 0.368195479505865\n\\item[8] 0.51564553020113\n\\item[9] 0.412796920386846\n\\item[10] 0.428620489935551\n\\end{description*}\n",
            "text/plain": [
              "        1         2         3         4         5         6         7         8 \n",
              "0.5588355 0.4819859 0.2411228 0.3098544 0.2104864 0.6078179 0.3681955 0.5156455 \n",
              "        9        10 \n",
              "0.4127969 0.4286205 "
            ]
          },
          "metadata": {}
        }
      ]
    },
    {
      "cell_type": "markdown",
      "source": [],
      "metadata": {
        "id": "JI6nDSOtWwJ_"
      }
    },
    {
      "cell_type": "markdown",
      "source": [],
      "metadata": {
        "id": "9O2y-C3UWwIH"
      }
    },
    {
      "cell_type": "markdown",
      "source": [],
      "metadata": {
        "id": "olnTbJacWwGJ"
      }
    },
    {
      "cell_type": "markdown",
      "source": [],
      "metadata": {
        "id": "tMkjFl82WwDy"
      }
    },
    {
      "cell_type": "code",
      "source": [
        "# Calculate the accuracy rate for the model on the test dataset\n",
        "accuracy_test <- sum(diag(confusion_matrix_test))/sum(confusion_matrix_test)\n",
        "accuracy_test"
      ],
      "metadata": {
        "id": "cHpKekOhUvWS"
      },
      "execution_count": null,
      "outputs": []
    },
    {
      "cell_type": "code",
      "source": [
        "pred_test <- predict(logit, newdata = test, type = \"response\")\n",
        "results <- data.frame(Predicted = pred_test, Actual = test$CLAIM)\n",
        "write.csv(results, \"insurance_predicted.csv\", row.names = FALSE)\n"
      ],
      "metadata": {
        "id": "GFQnCbqzdiNn"
      },
      "execution_count": null,
      "outputs": []
    },
    {
      "cell_type": "code",
      "source": [
        "library(pROC)\n",
        "auc(roc(validate$CLAIM, pred_test, plot = TRUE))\n",
        "\n"
      ],
      "metadata": {
        "colab": {
          "base_uri": "https://localhost:8080/",
          "height": 226
        },
        "id": "HJv699Fv4zKh",
        "outputId": "d5f4797c-2511-4ed4-ac4a-34bb16341b1d"
      },
      "execution_count": null,
      "outputs": [
        {
          "output_type": "stream",
          "name": "stderr",
          "text": [
            "Setting levels: control = 0, case = 1\n",
            "\n"
          ]
        },
        {
          "output_type": "error",
          "ename": "ERROR",
          "evalue": "ignored",
          "traceback": [
            "Error in roc.default(validate$CLAIM, pred_test, plot = TRUE): Response and predictor must be vectors of the same length.\nTraceback:\n",
            "1. auc(roc(validate$CLAIM, pred_test, plot = TRUE))",
            "2. roc(validate$CLAIM, pred_test, plot = TRUE)",
            "3. roc.default(validate$CLAIM, pred_test, plot = TRUE)",
            "4. stop(\"Response and predictor must be vectors of the same length.\")"
          ]
        }
      ]
    },
    {
      "cell_type": "code",
      "source": [
        "install.packages(\"googledrive\")\n",
        "install.packages(\"caret\")\n",
        "install.packages(\"ROCR\")\n",
        "install.packages(\"TTR\")\n",
        "install.packages(\"tidyverse\")\n",
        "install.packages(\"ggplot2\")\n",
        "install.packages(\"pROC\")\n",
        "install.packages(\"ROSE\")\n",
        "\n",
        "# create ROC curve plot\n",
        "library(pROC)\n",
        "library(caret)\n",
        "library(ROCR)\n",
        "library(\"googledrive\")\n",
        "library(TTR)\n",
        "library(tidyverse)\n",
        "library(ggplot2)\n",
        "library(ROSE)\n",
        "insurancedf <- read.csv(\"insurance.csv\")\n",
        "\n",
        "summary(insurancedf)\n",
        "\n",
        "set.seed(42)\n",
        "#60-20 20% partition#\n",
        "Samples<-sample(seq(1,3),size=nrow (insurancedf),replace=TRUE, prob=c(0.6,0.2,0.2))\n",
        "train<-insurancedf[Samples==1,]\n",
        "validate<-insurancedf[Samples==2,]\n",
        "test<-insurancedf[Samples==3,]\n",
        "\n",
        "logit <- glm(CLAIM ~ ., data = train, family = \"binomial\")\n",
        "logit\n",
        "\n",
        "predicted.values <- predict(logit, newdata = validate, type = \"response\")\n",
        "\n",
        "predicted.classes <- ifelse(predicted.values >= 0.5, 1, 0)\n",
        "\n",
        "confusion_matrix<-table(predicted.classes, validate$CLAIM)\n",
        "confusion_matrix\n",
        "\n",
        "accuracy.rate <- sum(diag(confusion_matrix)) / sum(confusion_matrix)\n",
        "round(accuracy.rate,2)\n",
        "\n",
        "sensitivity_test <- confusion_matrix[2,2]/sum(confusion_matrix[2,])\n",
        "round(sensitivity_test,2)\n",
        "\n",
        "# Create ROC curve and calculate AUC for validation set\n",
        "roc_obj <- roc(validate$CLAIM, predicted.values)\n",
        "ggroc(roc_obj, legacy.axes = TRUE)\n",
        "round(auc(roc_obj),2)\n",
        "\n",
        "# Create oversampled training subset using ROSE\n",
        "oversampled.train <- ROSE(CLAIM ~ ., data = train, seed = 1)$data\n",
        "\n",
        "# Count the number of observations in the \"Yes\" class in the oversampled training subset\n",
        "sum(oversampled.train$CLAIM == \"Yes\")\n",
        "\n",
        "\n",
        "\n"
      ],
      "metadata": {
        "colab": {
          "base_uri": "https://localhost:8080/",
          "height": 153
        },
        "id": "IfYDdz95o6qj",
        "outputId": "5ac2bc24-97b0-4816-b8e7-071c6c81bdeb"
      },
      "execution_count": null,
      "outputs": [
        {
          "output_type": "error",
          "ename": "ERROR",
          "evalue": "ignored",
          "traceback": [
            "Error in predict(model_oversampled, newdata = new_customers, type = \"response\"): object 'model_oversampled' not found\nTraceback:\n",
            "1. predict(model_oversampled, newdata = new_customers, type = \"response\")"
          ]
        }
      ]
    },
    {
      "cell_type": "code",
      "source": [
        "# Load the insurance_predictions.csv file\n",
        "insurance_pred <- read.csv(\"insurance_predictions.csv\")\n"
      ],
      "metadata": {
        "id": "_MP2YibjQUHI"
      },
      "execution_count": null,
      "outputs": []
    },
    {
      "cell_type": "code",
      "source": [
        "insurance_pred"
      ],
      "metadata": {
        "id": "Cw4pO-0dePTF"
      },
      "execution_count": null,
      "outputs": []
    },
    {
      "cell_type": "code",
      "source": [
        "pred <- predict(logit, newdata = insurance_pred, type = \"response\")"
      ],
      "metadata": {
        "id": "a78dnc5yeXtO"
      },
      "execution_count": null,
      "outputs": []
    },
    {
      "cell_type": "code",
      "source": [
        "pred"
      ],
      "metadata": {
        "colab": {
          "base_uri": "https://localhost:8080/",
          "height": 52
        },
        "id": "3PWsUdUdef-o",
        "outputId": "1ed6c8f1-691d-4601-f3f6-4557c3af67a1"
      },
      "execution_count": null,
      "outputs": [
        {
          "output_type": "display_data",
          "data": {
            "text/html": [
              "<style>\n",
              ".dl-inline {width: auto; margin:0; padding: 0}\n",
              ".dl-inline>dt, .dl-inline>dd {float: none; width: auto; display: inline-block}\n",
              ".dl-inline>dt::after {content: \":\\0020\"; padding-right: .5ex}\n",
              ".dl-inline>dt:not(:first-of-type) {padding-left: .5ex}\n",
              "</style><dl class=dl-inline><dt>1</dt><dd>0.379246513602821</dd><dt>2</dt><dd>0.245120333850662</dd><dt>3</dt><dd>0.0862114925378121</dd><dt>4</dt><dd>0.109430305652477</dd><dt>5</dt><dd>0.067616549434378</dd><dt>6</dt><dd>0.444362449564864</dd><dt>7</dt><dd>0.209074651989035</dd><dt>8</dt><dd>0.355846726627224</dd><dt>9</dt><dd>0.235437739273598</dd><dt>10</dt><dd>0.219585569923198</dd></dl>\n"
            ],
            "text/markdown": "1\n:   0.3792465136028212\n:   0.2451203338506623\n:   0.08621149253781214\n:   0.1094303056524775\n:   0.0676165494343786\n:   0.4443624495648647\n:   0.2090746519890358\n:   0.3558467266272249\n:   0.23543773927359810\n:   0.219585569923198\n\n",
            "text/latex": "\\begin{description*}\n\\item[1] 0.379246513602821\n\\item[2] 0.245120333850662\n\\item[3] 0.0862114925378121\n\\item[4] 0.109430305652477\n\\item[5] 0.067616549434378\n\\item[6] 0.444362449564864\n\\item[7] 0.209074651989035\n\\item[8] 0.355846726627224\n\\item[9] 0.235437739273598\n\\item[10] 0.219585569923198\n\\end{description*}\n",
            "text/plain": [
              "         1          2          3          4          5          6          7 \n",
              "0.37924651 0.24512033 0.08621149 0.10943031 0.06761655 0.44436245 0.20907465 \n",
              "         8          9         10 \n",
              "0.35584673 0.23543774 0.21958557 "
            ]
          },
          "metadata": {}
        }
      ]
    },
    {
      "cell_type": "code",
      "source": [
        "new_customers <- read.csv(\"insurance_predictions.csv\")\n",
        "new_customers"
      ],
      "metadata": {
        "colab": {
          "base_uri": "https://localhost:8080/",
          "height": 411
        },
        "id": "cHqisVXjI5NR",
        "outputId": "c1dee0aa-e677-41e2-ec02-aa318fbb0a51"
      },
      "execution_count": null,
      "outputs": [
        {
          "output_type": "display_data",
          "data": {
            "text/html": [
              "<table class=\"dataframe\">\n",
              "<caption>A data.frame: 10 × 19</caption>\n",
              "<thead>\n",
              "\t<tr><th scope=col>KIDSDRIV</th><th scope=col>AGE</th><th scope=col>HOMEKIDS</th><th scope=col>INCOME</th><th scope=col>HOMEOWN</th><th scope=col>MSTATUS</th><th scope=col>GENDER</th><th scope=col>EDUCATION</th><th scope=col>TRAVTIME</th><th scope=col>CAR_USE</th><th scope=col>BLUEBOOK</th><th scope=col>TWC</th><th scope=col>RED_CAR</th><th scope=col>CLM_BEF</th><th scope=col>REVOKED</th><th scope=col>MVR_PTS</th><th scope=col>CAR_AGE</th><th scope=col>URBANICITY</th><th scope=col>CLAIM</th></tr>\n",
              "\t<tr><th scope=col>&lt;int&gt;</th><th scope=col>&lt;int&gt;</th><th scope=col>&lt;int&gt;</th><th scope=col>&lt;int&gt;</th><th scope=col>&lt;int&gt;</th><th scope=col>&lt;int&gt;</th><th scope=col>&lt;int&gt;</th><th scope=col>&lt;int&gt;</th><th scope=col>&lt;int&gt;</th><th scope=col>&lt;int&gt;</th><th scope=col>&lt;int&gt;</th><th scope=col>&lt;int&gt;</th><th scope=col>&lt;int&gt;</th><th scope=col>&lt;int&gt;</th><th scope=col>&lt;int&gt;</th><th scope=col>&lt;int&gt;</th><th scope=col>&lt;int&gt;</th><th scope=col>&lt;int&gt;</th><th scope=col>&lt;lgl&gt;</th></tr>\n",
              "</thead>\n",
              "<tbody>\n",
              "\t<tr><td>1</td><td>42</td><td>1</td><td> 32797</td><td>1</td><td>1</td><td>1</td><td>1</td><td>63</td><td>0</td><td>21690</td><td> 1</td><td>0</td><td>0</td><td>0</td><td>1</td><td>14</td><td>1</td><td>NA</td></tr>\n",
              "\t<tr><td>0</td><td>47</td><td>0</td><td> 44705</td><td>1</td><td>1</td><td>1</td><td>1</td><td>50</td><td>0</td><td>12840</td><td> 1</td><td>0</td><td>1</td><td>0</td><td>0</td><td>10</td><td>1</td><td>NA</td></tr>\n",
              "\t<tr><td>0</td><td>52</td><td>0</td><td> 68992</td><td>1</td><td>0</td><td>1</td><td>1</td><td>36</td><td>1</td><td>15120</td><td> 1</td><td>0</td><td>0</td><td>0</td><td>1</td><td>10</td><td>0</td><td>NA</td></tr>\n",
              "\t<tr><td>0</td><td>43</td><td>0</td><td>132561</td><td>1</td><td>0</td><td>0</td><td>1</td><td> 8</td><td>1</td><td>30150</td><td>16</td><td>0</td><td>1</td><td>0</td><td>0</td><td> 1</td><td>1</td><td>NA</td></tr>\n",
              "\t<tr><td>0</td><td>66</td><td>1</td><td> 96830</td><td>1</td><td>1</td><td>0</td><td>1</td><td>23</td><td>0</td><td>11180</td><td> 7</td><td>0</td><td>0</td><td>0</td><td>0</td><td>16</td><td>1</td><td>NA</td></tr>\n",
              "\t<tr><td>0</td><td>52</td><td>0</td><td> 64014</td><td>1</td><td>1</td><td>0</td><td>0</td><td>33</td><td>1</td><td> 7900</td><td> 4</td><td>1</td><td>1</td><td>0</td><td>1</td><td> 5</td><td>1</td><td>NA</td></tr>\n",
              "\t<tr><td>1</td><td>61</td><td>1</td><td> 41857</td><td>1</td><td>1</td><td>1</td><td>1</td><td>35</td><td>0</td><td>20870</td><td> 1</td><td>0</td><td>0</td><td>0</td><td>0</td><td>21</td><td>1</td><td>NA</td></tr>\n",
              "\t<tr><td>0</td><td>41</td><td>1</td><td>126468</td><td>0</td><td>0</td><td>1</td><td>1</td><td>34</td><td>1</td><td>32690</td><td> 3</td><td>0</td><td>0</td><td>0</td><td>1</td><td>18</td><td>1</td><td>NA</td></tr>\n",
              "\t<tr><td>1</td><td>40</td><td>1</td><td> 75516</td><td>1</td><td>1</td><td>1</td><td>0</td><td>53</td><td>1</td><td>13050</td><td> 5</td><td>0</td><td>0</td><td>1</td><td>0</td><td> 6</td><td>0</td><td>NA</td></tr>\n",
              "\t<tr><td>0</td><td>52</td><td>0</td><td> 76954</td><td>1</td><td>0</td><td>0</td><td>1</td><td>44</td><td>0</td><td>19540</td><td> 6</td><td>1</td><td>0</td><td>1</td><td>0</td><td>11</td><td>1</td><td>NA</td></tr>\n",
              "</tbody>\n",
              "</table>\n"
            ],
            "text/markdown": "\nA data.frame: 10 × 19\n\n| KIDSDRIV &lt;int&gt; | AGE &lt;int&gt; | HOMEKIDS &lt;int&gt; | INCOME &lt;int&gt; | HOMEOWN &lt;int&gt; | MSTATUS &lt;int&gt; | GENDER &lt;int&gt; | EDUCATION &lt;int&gt; | TRAVTIME &lt;int&gt; | CAR_USE &lt;int&gt; | BLUEBOOK &lt;int&gt; | TWC &lt;int&gt; | RED_CAR &lt;int&gt; | CLM_BEF &lt;int&gt; | REVOKED &lt;int&gt; | MVR_PTS &lt;int&gt; | CAR_AGE &lt;int&gt; | URBANICITY &lt;int&gt; | CLAIM &lt;lgl&gt; |\n|---|---|---|---|---|---|---|---|---|---|---|---|---|---|---|---|---|---|---|\n| 1 | 42 | 1 |  32797 | 1 | 1 | 1 | 1 | 63 | 0 | 21690 |  1 | 0 | 0 | 0 | 1 | 14 | 1 | NA |\n| 0 | 47 | 0 |  44705 | 1 | 1 | 1 | 1 | 50 | 0 | 12840 |  1 | 0 | 1 | 0 | 0 | 10 | 1 | NA |\n| 0 | 52 | 0 |  68992 | 1 | 0 | 1 | 1 | 36 | 1 | 15120 |  1 | 0 | 0 | 0 | 1 | 10 | 0 | NA |\n| 0 | 43 | 0 | 132561 | 1 | 0 | 0 | 1 |  8 | 1 | 30150 | 16 | 0 | 1 | 0 | 0 |  1 | 1 | NA |\n| 0 | 66 | 1 |  96830 | 1 | 1 | 0 | 1 | 23 | 0 | 11180 |  7 | 0 | 0 | 0 | 0 | 16 | 1 | NA |\n| 0 | 52 | 0 |  64014 | 1 | 1 | 0 | 0 | 33 | 1 |  7900 |  4 | 1 | 1 | 0 | 1 |  5 | 1 | NA |\n| 1 | 61 | 1 |  41857 | 1 | 1 | 1 | 1 | 35 | 0 | 20870 |  1 | 0 | 0 | 0 | 0 | 21 | 1 | NA |\n| 0 | 41 | 1 | 126468 | 0 | 0 | 1 | 1 | 34 | 1 | 32690 |  3 | 0 | 0 | 0 | 1 | 18 | 1 | NA |\n| 1 | 40 | 1 |  75516 | 1 | 1 | 1 | 0 | 53 | 1 | 13050 |  5 | 0 | 0 | 1 | 0 |  6 | 0 | NA |\n| 0 | 52 | 0 |  76954 | 1 | 0 | 0 | 1 | 44 | 0 | 19540 |  6 | 1 | 0 | 1 | 0 | 11 | 1 | NA |\n\n",
            "text/latex": "A data.frame: 10 × 19\n\\begin{tabular}{lllllllllllllllllll}\n KIDSDRIV & AGE & HOMEKIDS & INCOME & HOMEOWN & MSTATUS & GENDER & EDUCATION & TRAVTIME & CAR\\_USE & BLUEBOOK & TWC & RED\\_CAR & CLM\\_BEF & REVOKED & MVR\\_PTS & CAR\\_AGE & URBANICITY & CLAIM\\\\\n <int> & <int> & <int> & <int> & <int> & <int> & <int> & <int> & <int> & <int> & <int> & <int> & <int> & <int> & <int> & <int> & <int> & <int> & <lgl>\\\\\n\\hline\n\t 1 & 42 & 1 &  32797 & 1 & 1 & 1 & 1 & 63 & 0 & 21690 &  1 & 0 & 0 & 0 & 1 & 14 & 1 & NA\\\\\n\t 0 & 47 & 0 &  44705 & 1 & 1 & 1 & 1 & 50 & 0 & 12840 &  1 & 0 & 1 & 0 & 0 & 10 & 1 & NA\\\\\n\t 0 & 52 & 0 &  68992 & 1 & 0 & 1 & 1 & 36 & 1 & 15120 &  1 & 0 & 0 & 0 & 1 & 10 & 0 & NA\\\\\n\t 0 & 43 & 0 & 132561 & 1 & 0 & 0 & 1 &  8 & 1 & 30150 & 16 & 0 & 1 & 0 & 0 &  1 & 1 & NA\\\\\n\t 0 & 66 & 1 &  96830 & 1 & 1 & 0 & 1 & 23 & 0 & 11180 &  7 & 0 & 0 & 0 & 0 & 16 & 1 & NA\\\\\n\t 0 & 52 & 0 &  64014 & 1 & 1 & 0 & 0 & 33 & 1 &  7900 &  4 & 1 & 1 & 0 & 1 &  5 & 1 & NA\\\\\n\t 1 & 61 & 1 &  41857 & 1 & 1 & 1 & 1 & 35 & 0 & 20870 &  1 & 0 & 0 & 0 & 0 & 21 & 1 & NA\\\\\n\t 0 & 41 & 1 & 126468 & 0 & 0 & 1 & 1 & 34 & 1 & 32690 &  3 & 0 & 0 & 0 & 1 & 18 & 1 & NA\\\\\n\t 1 & 40 & 1 &  75516 & 1 & 1 & 1 & 0 & 53 & 1 & 13050 &  5 & 0 & 0 & 1 & 0 &  6 & 0 & NA\\\\\n\t 0 & 52 & 0 &  76954 & 1 & 0 & 0 & 1 & 44 & 0 & 19540 &  6 & 1 & 0 & 1 & 0 & 11 & 1 & NA\\\\\n\\end{tabular}\n",
            "text/plain": [
              "   KIDSDRIV AGE HOMEKIDS INCOME HOMEOWN MSTATUS GENDER EDUCATION TRAVTIME\n",
              "1  1        42  1         32797 1       1       1      1         63      \n",
              "2  0        47  0         44705 1       1       1      1         50      \n",
              "3  0        52  0         68992 1       0       1      1         36      \n",
              "4  0        43  0        132561 1       0       0      1          8      \n",
              "5  0        66  1         96830 1       1       0      1         23      \n",
              "6  0        52  0         64014 1       1       0      0         33      \n",
              "7  1        61  1         41857 1       1       1      1         35      \n",
              "8  0        41  1        126468 0       0       1      1         34      \n",
              "9  1        40  1         75516 1       1       1      0         53      \n",
              "10 0        52  0         76954 1       0       0      1         44      \n",
              "   CAR_USE BLUEBOOK TWC RED_CAR CLM_BEF REVOKED MVR_PTS CAR_AGE URBANICITY\n",
              "1  0       21690     1  0       0       0       1       14      1         \n",
              "2  0       12840     1  0       1       0       0       10      1         \n",
              "3  1       15120     1  0       0       0       1       10      0         \n",
              "4  1       30150    16  0       1       0       0        1      1         \n",
              "5  0       11180     7  0       0       0       0       16      1         \n",
              "6  1        7900     4  1       1       0       1        5      1         \n",
              "7  0       20870     1  0       0       0       0       21      1         \n",
              "8  1       32690     3  0       0       0       1       18      1         \n",
              "9  1       13050     5  0       0       1       0        6      0         \n",
              "10 0       19540     6  1       0       1       0       11      1         \n",
              "   CLAIM\n",
              "1  NA   \n",
              "2  NA   \n",
              "3  NA   \n",
              "4  NA   \n",
              "5  NA   \n",
              "6  NA   \n",
              "7  NA   \n",
              "8  NA   \n",
              "9  NA   \n",
              "10 NA   "
            ]
          },
          "metadata": {}
        }
      ]
    },
    {
      "cell_type": "code",
      "source": [
        "# Load the insurance_predictions.csv file\n",
        "insurance_pred <- read.csv(\"insurance_predictions.csv\")\n",
        "\n",
        "# Select the row corresponding to customer #1\n",
        "customer_1 <- insurance_pred[1, ]\n",
        "\n",
        "# Make a prediction for customer #1\n",
        "pred_customer_1 <- predict(logit, newdata = customer_1, type = \"response\")\n"
      ],
      "metadata": {
        "id": "A6gQpzuzgJc8"
      },
      "execution_count": null,
      "outputs": []
    },
    {
      "cell_type": "code",
      "source": [
        "pred_customer_1"
      ],
      "metadata": {
        "colab": {
          "base_uri": "https://localhost:8080/",
          "height": 34
        },
        "id": "rczc7Qq4gKqs",
        "outputId": "88ce6c17-0f07-4cc6-cc68-8eaace9837d6"
      },
      "execution_count": null,
      "outputs": [
        {
          "output_type": "display_data",
          "data": {
            "text/html": [
              "<strong>1:</strong> 0.376678860002499"
            ],
            "text/markdown": "**1:** 0.376678860002499",
            "text/latex": "\\textbf{1:} 0.376678860002499",
            "text/plain": [
              "        1 \n",
              "0.3766789 "
            ]
          },
          "metadata": {}
        }
      ]
    },
    {
      "cell_type": "code",
      "source": [
        "# Convert categorical variables to factors with levels and labels\n",
        "new_customers$CLAIM <- factor(new_customers$CLAIM, levels = c(0, 1), labels = c(\"No\", \"Yes\"))\n",
        "new_customers$KIDSDRIV <- factor(new_customers$KIDSDRIV, levels = c(0, 1), labels = c(\"No\", \"Yes\"))\n",
        "new_customers$AGE <- factor(new_customers$AGE)\n",
        "new_customers$HOMEKIDS <- factor(new_customers$HOMEKIDS, levels = c(0, 1), labels = c(\"No\", \"Yes\"))\n",
        "new_customers$INCOME <- factor(new_customers$INCOME)\n",
        "new_customers$HOMEOWN <- factor(new_customers$HOMEOWN, levels = c(0, 1), labels = c(\"No\", \"Yes\"))\n",
        "new_customers$MSTATUS <- factor(new_customers$MSTATUS, levels = c(0, 1), labels = c(\"No\", \"Yes\"))\n",
        "new_customers$GENDER <- factor(new_customers$GENDER, levels = c(0, 1), labels = c(\"Male\", \"Female\"))\n",
        "new_customers$EDUCATION <- factor(new_customers$EDUCATION, levels = c(0, 1), labels = c(\"High School only\", \"College or beyond\"))\n",
        "new_customers$TRAVTIME <- factor(new_customers$TRAVTIME)\n",
        "new_customers$CAR_USE <- factor(new_customers$CAR_USE, levels = c(0, 1), labels = c(\"Private\", \"Commercial\"))\n",
        "new_customers$BLUEBOOK <- factor(new_customers$BLUEBOOK)\n",
        "new_customers$TWC <- factor(new_customers$TWC)\n",
        "new_customers$RED_CAR <- factor(new_customers$RED_CAR, levels = c(0, 1), labels = c(\"No\", \"Yes\"))\n",
        "new_customers$CLM_BEF <- factor(new_customers$CLM_BEF, levels = c(0, 1), labels = c(\"No\", \"Yes\"))\n",
        "new_customers$REVOKED <- factor(new_customers$REVOKED, levels = c(0, 1), labels = c(\"No\", \"Yes\"))\n",
        "new_customers$MVR_PTS <- factor(new_customers$MVR_PTS, levels = c(0, 1), labels = c(\"No\", \"Yes\"))\n",
        "new_customers$CAR_AGE <- factor(new_customers$CAR_AGE)\n",
        "new_customers$URBANICITY <- factor(new_customers$URBANICITY, levels = c(0, 1), labels = c(\"Rural\", \"Urban\"))\n",
        "new_customers"
      ],
      "metadata": {
        "colab": {
          "base_uri": "https://localhost:8080/",
          "height": 411
        },
        "id": "NlC0XI9IJI9m",
        "outputId": "002fce51-3e95-4bbc-d85a-462e58a8dbc3"
      },
      "execution_count": null,
      "outputs": [
        {
          "output_type": "display_data",
          "data": {
            "text/html": [
              "<table class=\"dataframe\">\n",
              "<caption>A data.frame: 10 × 19</caption>\n",
              "<thead>\n",
              "\t<tr><th scope=col>KIDSDRIV</th><th scope=col>AGE</th><th scope=col>HOMEKIDS</th><th scope=col>INCOME</th><th scope=col>HOMEOWN</th><th scope=col>MSTATUS</th><th scope=col>GENDER</th><th scope=col>EDUCATION</th><th scope=col>TRAVTIME</th><th scope=col>CAR_USE</th><th scope=col>BLUEBOOK</th><th scope=col>TWC</th><th scope=col>RED_CAR</th><th scope=col>CLM_BEF</th><th scope=col>REVOKED</th><th scope=col>MVR_PTS</th><th scope=col>CAR_AGE</th><th scope=col>URBANICITY</th><th scope=col>CLAIM</th></tr>\n",
              "\t<tr><th scope=col>&lt;fct&gt;</th><th scope=col>&lt;fct&gt;</th><th scope=col>&lt;fct&gt;</th><th scope=col>&lt;fct&gt;</th><th scope=col>&lt;fct&gt;</th><th scope=col>&lt;fct&gt;</th><th scope=col>&lt;fct&gt;</th><th scope=col>&lt;fct&gt;</th><th scope=col>&lt;fct&gt;</th><th scope=col>&lt;fct&gt;</th><th scope=col>&lt;fct&gt;</th><th scope=col>&lt;fct&gt;</th><th scope=col>&lt;fct&gt;</th><th scope=col>&lt;fct&gt;</th><th scope=col>&lt;fct&gt;</th><th scope=col>&lt;fct&gt;</th><th scope=col>&lt;fct&gt;</th><th scope=col>&lt;fct&gt;</th><th scope=col>&lt;fct&gt;</th></tr>\n",
              "</thead>\n",
              "<tbody>\n",
              "\t<tr><td>NA</td><td>42</td><td>NA</td><td>32797 </td><td>NA</td><td>NA</td><td>NA</td><td>NA</td><td>63</td><td>NA</td><td>21690</td><td>1 </td><td>NA</td><td>NA</td><td>NA</td><td>NA</td><td>14</td><td>NA</td><td>NA</td></tr>\n",
              "\t<tr><td>NA</td><td>47</td><td>NA</td><td>44705 </td><td>NA</td><td>NA</td><td>NA</td><td>NA</td><td>50</td><td>NA</td><td>12840</td><td>1 </td><td>NA</td><td>NA</td><td>NA</td><td>NA</td><td>10</td><td>NA</td><td>NA</td></tr>\n",
              "\t<tr><td>NA</td><td>52</td><td>NA</td><td>68992 </td><td>NA</td><td>NA</td><td>NA</td><td>NA</td><td>36</td><td>NA</td><td>15120</td><td>1 </td><td>NA</td><td>NA</td><td>NA</td><td>NA</td><td>10</td><td>NA</td><td>NA</td></tr>\n",
              "\t<tr><td>NA</td><td>43</td><td>NA</td><td>132561</td><td>NA</td><td>NA</td><td>NA</td><td>NA</td><td>8 </td><td>NA</td><td>30150</td><td>16</td><td>NA</td><td>NA</td><td>NA</td><td>NA</td><td>1 </td><td>NA</td><td>NA</td></tr>\n",
              "\t<tr><td>NA</td><td>66</td><td>NA</td><td>96830 </td><td>NA</td><td>NA</td><td>NA</td><td>NA</td><td>23</td><td>NA</td><td>11180</td><td>7 </td><td>NA</td><td>NA</td><td>NA</td><td>NA</td><td>16</td><td>NA</td><td>NA</td></tr>\n",
              "\t<tr><td>NA</td><td>52</td><td>NA</td><td>64014 </td><td>NA</td><td>NA</td><td>NA</td><td>NA</td><td>33</td><td>NA</td><td>7900 </td><td>4 </td><td>NA</td><td>NA</td><td>NA</td><td>NA</td><td>5 </td><td>NA</td><td>NA</td></tr>\n",
              "\t<tr><td>NA</td><td>61</td><td>NA</td><td>41857 </td><td>NA</td><td>NA</td><td>NA</td><td>NA</td><td>35</td><td>NA</td><td>20870</td><td>1 </td><td>NA</td><td>NA</td><td>NA</td><td>NA</td><td>21</td><td>NA</td><td>NA</td></tr>\n",
              "\t<tr><td>NA</td><td>41</td><td>NA</td><td>126468</td><td>NA</td><td>NA</td><td>NA</td><td>NA</td><td>34</td><td>NA</td><td>32690</td><td>3 </td><td>NA</td><td>NA</td><td>NA</td><td>NA</td><td>18</td><td>NA</td><td>NA</td></tr>\n",
              "\t<tr><td>NA</td><td>40</td><td>NA</td><td>75516 </td><td>NA</td><td>NA</td><td>NA</td><td>NA</td><td>53</td><td>NA</td><td>13050</td><td>5 </td><td>NA</td><td>NA</td><td>NA</td><td>NA</td><td>6 </td><td>NA</td><td>NA</td></tr>\n",
              "\t<tr><td>NA</td><td>52</td><td>NA</td><td>76954 </td><td>NA</td><td>NA</td><td>NA</td><td>NA</td><td>44</td><td>NA</td><td>19540</td><td>6 </td><td>NA</td><td>NA</td><td>NA</td><td>NA</td><td>11</td><td>NA</td><td>NA</td></tr>\n",
              "</tbody>\n",
              "</table>\n"
            ],
            "text/markdown": "\nA data.frame: 10 × 19\n\n| KIDSDRIV &lt;fct&gt; | AGE &lt;fct&gt; | HOMEKIDS &lt;fct&gt; | INCOME &lt;fct&gt; | HOMEOWN &lt;fct&gt; | MSTATUS &lt;fct&gt; | GENDER &lt;fct&gt; | EDUCATION &lt;fct&gt; | TRAVTIME &lt;fct&gt; | CAR_USE &lt;fct&gt; | BLUEBOOK &lt;fct&gt; | TWC &lt;fct&gt; | RED_CAR &lt;fct&gt; | CLM_BEF &lt;fct&gt; | REVOKED &lt;fct&gt; | MVR_PTS &lt;fct&gt; | CAR_AGE &lt;fct&gt; | URBANICITY &lt;fct&gt; | CLAIM &lt;fct&gt; |\n|---|---|---|---|---|---|---|---|---|---|---|---|---|---|---|---|---|---|---|\n| NA | 42 | NA | 32797  | NA | NA | NA | NA | 63 | NA | 21690 | 1  | NA | NA | NA | NA | 14 | NA | NA |\n| NA | 47 | NA | 44705  | NA | NA | NA | NA | 50 | NA | 12840 | 1  | NA | NA | NA | NA | 10 | NA | NA |\n| NA | 52 | NA | 68992  | NA | NA | NA | NA | 36 | NA | 15120 | 1  | NA | NA | NA | NA | 10 | NA | NA |\n| NA | 43 | NA | 132561 | NA | NA | NA | NA | 8  | NA | 30150 | 16 | NA | NA | NA | NA | 1  | NA | NA |\n| NA | 66 | NA | 96830  | NA | NA | NA | NA | 23 | NA | 11180 | 7  | NA | NA | NA | NA | 16 | NA | NA |\n| NA | 52 | NA | 64014  | NA | NA | NA | NA | 33 | NA | 7900  | 4  | NA | NA | NA | NA | 5  | NA | NA |\n| NA | 61 | NA | 41857  | NA | NA | NA | NA | 35 | NA | 20870 | 1  | NA | NA | NA | NA | 21 | NA | NA |\n| NA | 41 | NA | 126468 | NA | NA | NA | NA | 34 | NA | 32690 | 3  | NA | NA | NA | NA | 18 | NA | NA |\n| NA | 40 | NA | 75516  | NA | NA | NA | NA | 53 | NA | 13050 | 5  | NA | NA | NA | NA | 6  | NA | NA |\n| NA | 52 | NA | 76954  | NA | NA | NA | NA | 44 | NA | 19540 | 6  | NA | NA | NA | NA | 11 | NA | NA |\n\n",
            "text/latex": "A data.frame: 10 × 19\n\\begin{tabular}{lllllllllllllllllll}\n KIDSDRIV & AGE & HOMEKIDS & INCOME & HOMEOWN & MSTATUS & GENDER & EDUCATION & TRAVTIME & CAR\\_USE & BLUEBOOK & TWC & RED\\_CAR & CLM\\_BEF & REVOKED & MVR\\_PTS & CAR\\_AGE & URBANICITY & CLAIM\\\\\n <fct> & <fct> & <fct> & <fct> & <fct> & <fct> & <fct> & <fct> & <fct> & <fct> & <fct> & <fct> & <fct> & <fct> & <fct> & <fct> & <fct> & <fct> & <fct>\\\\\n\\hline\n\t NA & 42 & NA & 32797  & NA & NA & NA & NA & 63 & NA & 21690 & 1  & NA & NA & NA & NA & 14 & NA & NA\\\\\n\t NA & 47 & NA & 44705  & NA & NA & NA & NA & 50 & NA & 12840 & 1  & NA & NA & NA & NA & 10 & NA & NA\\\\\n\t NA & 52 & NA & 68992  & NA & NA & NA & NA & 36 & NA & 15120 & 1  & NA & NA & NA & NA & 10 & NA & NA\\\\\n\t NA & 43 & NA & 132561 & NA & NA & NA & NA & 8  & NA & 30150 & 16 & NA & NA & NA & NA & 1  & NA & NA\\\\\n\t NA & 66 & NA & 96830  & NA & NA & NA & NA & 23 & NA & 11180 & 7  & NA & NA & NA & NA & 16 & NA & NA\\\\\n\t NA & 52 & NA & 64014  & NA & NA & NA & NA & 33 & NA & 7900  & 4  & NA & NA & NA & NA & 5  & NA & NA\\\\\n\t NA & 61 & NA & 41857  & NA & NA & NA & NA & 35 & NA & 20870 & 1  & NA & NA & NA & NA & 21 & NA & NA\\\\\n\t NA & 41 & NA & 126468 & NA & NA & NA & NA & 34 & NA & 32690 & 3  & NA & NA & NA & NA & 18 & NA & NA\\\\\n\t NA & 40 & NA & 75516  & NA & NA & NA & NA & 53 & NA & 13050 & 5  & NA & NA & NA & NA & 6  & NA & NA\\\\\n\t NA & 52 & NA & 76954  & NA & NA & NA & NA & 44 & NA & 19540 & 6  & NA & NA & NA & NA & 11 & NA & NA\\\\\n\\end{tabular}\n",
            "text/plain": [
              "   KIDSDRIV AGE HOMEKIDS INCOME HOMEOWN MSTATUS GENDER EDUCATION TRAVTIME\n",
              "1  NA       42  NA       32797  NA      NA      NA     NA        63      \n",
              "2  NA       47  NA       44705  NA      NA      NA     NA        50      \n",
              "3  NA       52  NA       68992  NA      NA      NA     NA        36      \n",
              "4  NA       43  NA       132561 NA      NA      NA     NA        8       \n",
              "5  NA       66  NA       96830  NA      NA      NA     NA        23      \n",
              "6  NA       52  NA       64014  NA      NA      NA     NA        33      \n",
              "7  NA       61  NA       41857  NA      NA      NA     NA        35      \n",
              "8  NA       41  NA       126468 NA      NA      NA     NA        34      \n",
              "9  NA       40  NA       75516  NA      NA      NA     NA        53      \n",
              "10 NA       52  NA       76954  NA      NA      NA     NA        44      \n",
              "   CAR_USE BLUEBOOK TWC RED_CAR CLM_BEF REVOKED MVR_PTS CAR_AGE URBANICITY\n",
              "1  NA      21690    1   NA      NA      NA      NA      14      NA        \n",
              "2  NA      12840    1   NA      NA      NA      NA      10      NA        \n",
              "3  NA      15120    1   NA      NA      NA      NA      10      NA        \n",
              "4  NA      30150    16  NA      NA      NA      NA      1       NA        \n",
              "5  NA      11180    7   NA      NA      NA      NA      16      NA        \n",
              "6  NA      7900     4   NA      NA      NA      NA      5       NA        \n",
              "7  NA      20870    1   NA      NA      NA      NA      21      NA        \n",
              "8  NA      32690    3   NA      NA      NA      NA      18      NA        \n",
              "9  NA      13050    5   NA      NA      NA      NA      6       NA        \n",
              "10 NA      19540    6   NA      NA      NA      NA      11      NA        \n",
              "   CLAIM\n",
              "1  NA   \n",
              "2  NA   \n",
              "3  NA   \n",
              "4  NA   \n",
              "5  NA   \n",
              "6  NA   \n",
              "7  NA   \n",
              "8  NA   \n",
              "9  NA   \n",
              "10 NA   "
            ]
          },
          "metadata": {}
        }
      ]
    },
    {
      "cell_type": "code",
      "source": [
        "#read new dataset into R\n",
        "\n",
        "\n",
        "\n",
        "\n",
        "# make predictions for new data (for which loan default is unknown)\n",
        "lrprobsnew <- predict(lrOver, newdata = new_customers , type = \"response\")\n",
        "\n",
        "#Attach probability scores to new_customers dataframe\n",
        "new_customers <- cbind(new_customers, Probabilities=lrprobsnew)\n",
        "View(new_customers)\n"
      ],
      "metadata": {
        "colab": {
          "base_uri": "https://localhost:8080/",
          "height": 131
        },
        "id": "ZKREZ1lwI1KG",
        "outputId": "52b37c75-12f9-47b3-aa9d-03d8095f9457"
      },
      "execution_count": null,
      "outputs": [
        {
          "output_type": "error",
          "ename": "ERROR",
          "evalue": "ignored",
          "traceback": [
            "Error in predict(lrOver, newdata = new_customers, type = \"response\"): object 'lrOver' not found\nTraceback:\n",
            "1. predict(lrOver, newdata = new_customers, type = \"response\")"
          ]
        }
      ]
    },
    {
      "cell_type": "markdown",
      "source": [],
      "metadata": {
        "id": "ohJMMQldy7zH"
      }
    },
    {
      "cell_type": "code",
      "source": [
        "\n",
        "\n",
        "#Step 1: Generate summary statistics for the variables in the insurance.csv dataset.\n",
        "# Load the dataset\n",
        "insurance <- read.csv(\"insurance.csv\")\n",
        "\n",
        "# View the dataset\n",
        "head(insurance)\n",
        "\n",
        "# Check the structure of the dataset\n",
        "str(insurance)\n",
        "\n",
        "# Generate summary statistics for the variables in the dataset\n",
        "summary(insurance)\n",
        "#Step 2: Partition the dataset into a training, validation, and test set, using a 60%-20%-20% split.\n",
        "# Set seed for reproducibility\n",
        "set.seed(42)\n",
        "\n",
        "# Partition the data into training, validation, and test sets\n",
        "library(caTools)\n",
        "split <- sample.split(insurance$CLAIM, SplitRatio = 0.6)\n",
        "train <- subset(insurance, split == TRUE)\n",
        "other <- subset(insurance, split == FALSE)\n",
        "split2 <- sample.split(other$CLAIM, SplitRatio = 0.5)\n",
        "validate <- subset(other, split2 == TRUE)\n",
        "test <- subset(other, split2 == FALSE)\n",
        "\n",
        "Step 3: Conduct a logistic regression analysis using the training data frame with CLAIM as the outcome variable and all the other variables in the dataset as predictor variables.\n",
        "# Fit a logistic regression model to the training data\n",
        "logit <- glm(CLAIM ~ ., data = train, family = \"binomial\")\n",
        "\n",
        "# View the model summary\n",
        "summary(logit)\n",
        "\n",
        "Step 4: Using the model you fitted in Step (3) and the validation data frame you created in Step (2), create a confusion matrix to assess the accuracy of the logistic regression model.\n",
        "# Predict on validation data\n",
        "pred_val <- predict(logit, newdata = validate, type = \"response\")\n",
        "\n",
        "# Create confusion matrix\n",
        "table(validate$CLAIM, pred_val > 0.5)\n",
        "\n",
        "Step 5: Again using the model you fitted in Step (3) and the validation data frame, create an ROC curve plot and calculate the AUC.\n",
        "# Load the pROC package\n",
        "library(pROC)\n",
        "\n",
        "# Create ROC curve and calculate AUC\n",
        "roc_val <- roc(validate$CLAIM, pred_val)\n",
        "plot(roc_val, main = \"ROC Curve - Validation Set\")\n",
        "auc(roc_val)\n",
        "\n",
        "Step 6: Using the training set you generated in Step (2), create a new training subset using the oversampling method.\n",
        "# Load the ROSE package\n",
        "library(ROSE)\n",
        "\n",
        "# Oversample the minority class in the training data\n",
        "train_over <- ovun.sample(CLAIM ~ ., data = train, method = \"over\", N = nrow(train) / 2, seed = 42)$data\n",
        "\n",
        "Step 7: Conduct a logistic regression analysis using the new oversampled training subset with CLAIM as the outcome variable and all the other variables in the dataset as predictor variables.\n",
        "# Fit a logistic regression model to the oversampled training data\n",
        "logit_over <- glm(CLAIM ~ ., data = train_over, family = \"binomial\")\n",
        "\n",
        "# View the model summary\n",
        "summary(logit_over)\n"
      ],
      "metadata": {
        "id": "uxQQBbyay8FH"
      },
      "execution_count": null,
      "outputs": []
    },
    {
      "cell_type": "markdown",
      "source": [],
      "metadata": {
        "id": "b7LTMJxw1ZmK"
      }
    },
    {
      "cell_type": "markdown",
      "source": [],
      "metadata": {
        "id": "RYMXgC2n1Zj-"
      }
    },
    {
      "cell_type": "markdown",
      "source": [],
      "metadata": {
        "id": "bAI0RF671ZhS"
      }
    },
    {
      "cell_type": "markdown",
      "source": [],
      "metadata": {
        "id": "g_jcYpN81ZbQ"
      }
    },
    {
      "cell_type": "code",
      "source": [
        "insurancedf"
      ],
      "metadata": {
        "colab": {
          "base_uri": "https://localhost:8080/",
          "height": 1000
        },
        "id": "ecZouU3TK-SA",
        "outputId": "fce43751-889d-4e97-f11c-7972e7aff975"
      },
      "execution_count": null,
      "outputs": [
        {
          "output_type": "display_data",
          "data": {
            "text/html": [
              "<table class=\"dataframe\">\n",
              "<caption>A data.frame: 7232 × 19</caption>\n",
              "<thead>\n",
              "\t<tr><th scope=col>CLAIM</th><th scope=col>KIDSDRIV</th><th scope=col>AGE</th><th scope=col>HOMEKIDS</th><th scope=col>INCOME</th><th scope=col>HOMEOWN</th><th scope=col>MSTATUS</th><th scope=col>GENDER</th><th scope=col>EDUCATION</th><th scope=col>TRAVTIME</th><th scope=col>CAR_USE</th><th scope=col>BLUEBOOK</th><th scope=col>TWC</th><th scope=col>RED_CAR</th><th scope=col>CLM_BEF</th><th scope=col>REVOKED</th><th scope=col>MVR_PTS</th><th scope=col>CAR_AGE</th><th scope=col>URBANICITY</th></tr>\n",
              "\t<tr><th scope=col>&lt;int&gt;</th><th scope=col>&lt;int&gt;</th><th scope=col>&lt;int&gt;</th><th scope=col>&lt;int&gt;</th><th scope=col>&lt;int&gt;</th><th scope=col>&lt;int&gt;</th><th scope=col>&lt;int&gt;</th><th scope=col>&lt;int&gt;</th><th scope=col>&lt;int&gt;</th><th scope=col>&lt;int&gt;</th><th scope=col>&lt;int&gt;</th><th scope=col>&lt;int&gt;</th><th scope=col>&lt;int&gt;</th><th scope=col>&lt;int&gt;</th><th scope=col>&lt;int&gt;</th><th scope=col>&lt;int&gt;</th><th scope=col>&lt;int&gt;</th><th scope=col>&lt;int&gt;</th><th scope=col>&lt;int&gt;</th></tr>\n",
              "</thead>\n",
              "<tbody>\n",
              "\t<tr><td>0</td><td>0</td><td>60</td><td>0</td><td> 67349</td><td>0</td><td>0</td><td>0</td><td>1</td><td>14</td><td>0</td><td>14230</td><td>11</td><td>1</td><td>1</td><td>0</td><td>1</td><td>18</td><td>1</td></tr>\n",
              "\t<tr><td>0</td><td>0</td><td>43</td><td>0</td><td> 91449</td><td>1</td><td>0</td><td>0</td><td>0</td><td>22</td><td>1</td><td>14940</td><td> 1</td><td>1</td><td>0</td><td>0</td><td>0</td><td> 1</td><td>1</td></tr>\n",
              "\t<tr><td>0</td><td>0</td><td>35</td><td>1</td><td> 16039</td><td>1</td><td>1</td><td>1</td><td>0</td><td> 5</td><td>0</td><td> 4010</td><td> 4</td><td>0</td><td>1</td><td>0</td><td>1</td><td>10</td><td>1</td></tr>\n",
              "\t<tr><td>0</td><td>0</td><td>50</td><td>0</td><td>114986</td><td>1</td><td>1</td><td>1</td><td>1</td><td>36</td><td>0</td><td>18000</td><td> 1</td><td>0</td><td>1</td><td>1</td><td>1</td><td>17</td><td>1</td></tr>\n",
              "\t<tr><td>1</td><td>0</td><td>34</td><td>1</td><td>125301</td><td>0</td><td>0</td><td>1</td><td>1</td><td>46</td><td>1</td><td>17430</td><td> 1</td><td>0</td><td>0</td><td>0</td><td>0</td><td> 7</td><td>1</td></tr>\n",
              "\t<tr><td>0</td><td>0</td><td>54</td><td>0</td><td> 18755</td><td>0</td><td>1</td><td>1</td><td>0</td><td>33</td><td>0</td><td> 8780</td><td> 1</td><td>0</td><td>0</td><td>0</td><td>0</td><td> 1</td><td>1</td></tr>\n",
              "\t<tr><td>1</td><td>1</td><td>37</td><td>1</td><td>107961</td><td>1</td><td>1</td><td>0</td><td>1</td><td>44</td><td>1</td><td>16970</td><td> 1</td><td>1</td><td>1</td><td>1</td><td>1</td><td> 7</td><td>1</td></tr>\n",
              "\t<tr><td>1</td><td>0</td><td>34</td><td>0</td><td> 62978</td><td>0</td><td>0</td><td>1</td><td>1</td><td>34</td><td>0</td><td>11200</td><td> 1</td><td>0</td><td>0</td><td>0</td><td>0</td><td> 1</td><td>1</td></tr>\n",
              "\t<tr><td>0</td><td>0</td><td>50</td><td>0</td><td>106952</td><td>0</td><td>0</td><td>0</td><td>1</td><td>48</td><td>1</td><td>18510</td><td> 7</td><td>0</td><td>0</td><td>0</td><td>1</td><td>17</td><td>0</td></tr>\n",
              "\t<tr><td>1</td><td>0</td><td>53</td><td>0</td><td> 77100</td><td>0</td><td>0</td><td>1</td><td>1</td><td>15</td><td>0</td><td>18300</td><td> 1</td><td>0</td><td>0</td><td>0</td><td>0</td><td>11</td><td>1</td></tr>\n",
              "\t<tr><td>0</td><td>0</td><td>43</td><td>0</td><td> 52642</td><td>1</td><td>1</td><td>1</td><td>1</td><td>36</td><td>0</td><td>22420</td><td> 7</td><td>0</td><td>0</td><td>0</td><td>0</td><td> 1</td><td>0</td></tr>\n",
              "\t<tr><td>0</td><td>0</td><td>55</td><td>0</td><td> 59162</td><td>1</td><td>1</td><td>0</td><td>1</td><td>25</td><td>1</td><td>17600</td><td> 7</td><td>1</td><td>1</td><td>1</td><td>1</td><td> 9</td><td>1</td></tr>\n",
              "\t<tr><td>1</td><td>0</td><td>53</td><td>0</td><td>130795</td><td>0</td><td>0</td><td>0</td><td>1</td><td>64</td><td>1</td><td>28340</td><td> 6</td><td>1</td><td>0</td><td>0</td><td>1</td><td>10</td><td>1</td></tr>\n",
              "\t<tr><td>1</td><td>0</td><td>45</td><td>0</td><td>     0</td><td>1</td><td>1</td><td>1</td><td>0</td><td>48</td><td>0</td><td> 6000</td><td> 1</td><td>0</td><td>0</td><td>0</td><td>1</td><td> 5</td><td>1</td></tr>\n",
              "\t<tr><td>0</td><td>0</td><td>39</td><td>1</td><td> 51884</td><td>1</td><td>0</td><td>1</td><td>1</td><td>43</td><td>0</td><td>10590</td><td> 6</td><td>0</td><td>0</td><td>0</td><td>0</td><td>13</td><td>0</td></tr>\n",
              "\t<tr><td>0</td><td>0</td><td>42</td><td>0</td><td> 59945</td><td>1</td><td>1</td><td>0</td><td>1</td><td>42</td><td>0</td><td>14190</td><td> 6</td><td>0</td><td>0</td><td>0</td><td>0</td><td>16</td><td>1</td></tr>\n",
              "\t<tr><td>0</td><td>0</td><td>34</td><td>1</td><td> 34019</td><td>1</td><td>1</td><td>1</td><td>1</td><td>27</td><td>0</td><td> 8300</td><td> 7</td><td>0</td><td>0</td><td>0</td><td>0</td><td>20</td><td>1</td></tr>\n",
              "\t<tr><td>0</td><td>0</td><td>31</td><td>1</td><td> 18903</td><td>1</td><td>1</td><td>1</td><td>0</td><td>48</td><td>0</td><td>17330</td><td> 4</td><td>0</td><td>0</td><td>0</td><td>0</td><td> 7</td><td>1</td></tr>\n",
              "\t<tr><td>1</td><td>0</td><td>28</td><td>1</td><td> 44077</td><td>1</td><td>1</td><td>1</td><td>0</td><td>29</td><td>1</td><td> 8710</td><td> 6</td><td>0</td><td>1</td><td>0</td><td>0</td><td> 1</td><td>1</td></tr>\n",
              "\t<tr><td>1</td><td>0</td><td>43</td><td>0</td><td> 37214</td><td>0</td><td>1</td><td>0</td><td>0</td><td>52</td><td>1</td><td>26560</td><td> 1</td><td>1</td><td>0</td><td>0</td><td>1</td><td> 1</td><td>1</td></tr>\n",
              "\t<tr><td>0</td><td>0</td><td>48</td><td>0</td><td> 96274</td><td>1</td><td>1</td><td>1</td><td>1</td><td>36</td><td>0</td><td>11130</td><td> 6</td><td>0</td><td>1</td><td>0</td><td>1</td><td>14</td><td>1</td></tr>\n",
              "\t<tr><td>0</td><td>0</td><td>47</td><td>0</td><td> 46281</td><td>0</td><td>0</td><td>1</td><td>0</td><td>29</td><td>0</td><td>19700</td><td>10</td><td>0</td><td>0</td><td>0</td><td>1</td><td> 5</td><td>1</td></tr>\n",
              "\t<tr><td>0</td><td>1</td><td>44</td><td>1</td><td>     0</td><td>1</td><td>1</td><td>1</td><td>0</td><td> 8</td><td>0</td><td> 5900</td><td> 6</td><td>0</td><td>1</td><td>0</td><td>0</td><td>11</td><td>1</td></tr>\n",
              "\t<tr><td>0</td><td>0</td><td>33</td><td>1</td><td> 79606</td><td>1</td><td>1</td><td>1</td><td>1</td><td>27</td><td>0</td><td>16830</td><td> 9</td><td>0</td><td>0</td><td>0</td><td>1</td><td>15</td><td>0</td></tr>\n",
              "\t<tr><td>1</td><td>0</td><td>32</td><td>1</td><td> 31275</td><td>1</td><td>1</td><td>1</td><td>0</td><td>26</td><td>0</td><td>10030</td><td> 1</td><td>0</td><td>0</td><td>0</td><td>0</td><td> 1</td><td>1</td></tr>\n",
              "\t<tr><td>0</td><td>1</td><td>44</td><td>1</td><td> 45488</td><td>1</td><td>1</td><td>0</td><td>1</td><td>16</td><td>0</td><td>22090</td><td>17</td><td>0</td><td>0</td><td>0</td><td>0</td><td>12</td><td>1</td></tr>\n",
              "\t<tr><td>0</td><td>0</td><td>35</td><td>0</td><td> 72193</td><td>0</td><td>0</td><td>1</td><td>1</td><td>26</td><td>0</td><td>12220</td><td> 6</td><td>0</td><td>0</td><td>0</td><td>1</td><td>12</td><td>1</td></tr>\n",
              "\t<tr><td>0</td><td>0</td><td>49</td><td>0</td><td> 49244</td><td>1</td><td>1</td><td>0</td><td>1</td><td>30</td><td>0</td><td>15880</td><td> 1</td><td>0</td><td>0</td><td>0</td><td>1</td><td> 1</td><td>1</td></tr>\n",
              "\t<tr><td>0</td><td>0</td><td>52</td><td>0</td><td> 51278</td><td>1</td><td>1</td><td>1</td><td>1</td><td>37</td><td>0</td><td> 1500</td><td> 4</td><td>0</td><td>0</td><td>0</td><td>1</td><td>10</td><td>1</td></tr>\n",
              "\t<tr><td>0</td><td>0</td><td>41</td><td>0</td><td> 92842</td><td>1</td><td>0</td><td>0</td><td>1</td><td>12</td><td>1</td><td>25810</td><td> 6</td><td>0</td><td>1</td><td>0</td><td>1</td><td>15</td><td>1</td></tr>\n",
              "\t<tr><td>⋮</td><td>⋮</td><td>⋮</td><td>⋮</td><td>⋮</td><td>⋮</td><td>⋮</td><td>⋮</td><td>⋮</td><td>⋮</td><td>⋮</td><td>⋮</td><td>⋮</td><td>⋮</td><td>⋮</td><td>⋮</td><td>⋮</td><td>⋮</td><td>⋮</td></tr>\n",
              "\t<tr><td>1</td><td>1</td><td>46</td><td>0</td><td> 35362</td><td>0</td><td>0</td><td>0</td><td>0</td><td>42</td><td>1</td><td>17970</td><td>11</td><td>0</td><td>1</td><td>1</td><td>1</td><td> 7</td><td>1</td></tr>\n",
              "\t<tr><td>0</td><td>0</td><td>56</td><td>0</td><td> 52130</td><td>1</td><td>1</td><td>1</td><td>0</td><td>23</td><td>1</td><td>12310</td><td> 3</td><td>0</td><td>1</td><td>0</td><td>1</td><td> 4</td><td>1</td></tr>\n",
              "\t<tr><td>1</td><td>0</td><td>47</td><td>0</td><td>112264</td><td>0</td><td>0</td><td>0</td><td>1</td><td>44</td><td>1</td><td>24020</td><td> 1</td><td>1</td><td>1</td><td>1</td><td>1</td><td>20</td><td>1</td></tr>\n",
              "\t<tr><td>1</td><td>0</td><td>47</td><td>0</td><td>282198</td><td>1</td><td>0</td><td>0</td><td>1</td><td>32</td><td>1</td><td>34420</td><td>11</td><td>1</td><td>0</td><td>1</td><td>1</td><td>16</td><td>1</td></tr>\n",
              "\t<tr><td>1</td><td>0</td><td>43</td><td>0</td><td>     0</td><td>1</td><td>1</td><td>1</td><td>1</td><td>29</td><td>0</td><td>24030</td><td> 9</td><td>0</td><td>1</td><td>0</td><td>0</td><td>14</td><td>1</td></tr>\n",
              "\t<tr><td>0</td><td>1</td><td>45</td><td>1</td><td>  1956</td><td>0</td><td>0</td><td>1</td><td>0</td><td>47</td><td>0</td><td> 8350</td><td> 1</td><td>0</td><td>0</td><td>0</td><td>0</td><td> 1</td><td>0</td></tr>\n",
              "\t<tr><td>1</td><td>0</td><td>46</td><td>0</td><td> 68360</td><td>1</td><td>0</td><td>0</td><td>1</td><td>49</td><td>1</td><td>12940</td><td> 1</td><td>0</td><td>1</td><td>0</td><td>1</td><td>11</td><td>1</td></tr>\n",
              "\t<tr><td>0</td><td>1</td><td>46</td><td>0</td><td> 84667</td><td>1</td><td>1</td><td>1</td><td>1</td><td>56</td><td>1</td><td>35050</td><td> 1</td><td>0</td><td>0</td><td>0</td><td>0</td><td> 7</td><td>1</td></tr>\n",
              "\t<tr><td>0</td><td>0</td><td>48</td><td>0</td><td> 66613</td><td>1</td><td>1</td><td>1</td><td>1</td><td> 5</td><td>1</td><td>16340</td><td> 6</td><td>0</td><td>0</td><td>0</td><td>0</td><td> 5</td><td>0</td></tr>\n",
              "\t<tr><td>0</td><td>0</td><td>56</td><td>0</td><td> 12917</td><td>0</td><td>0</td><td>1</td><td>1</td><td>45</td><td>1</td><td> 2790</td><td> 4</td><td>0</td><td>0</td><td>0</td><td>0</td><td>12</td><td>1</td></tr>\n",
              "\t<tr><td>0</td><td>0</td><td>35</td><td>0</td><td> 64890</td><td>0</td><td>0</td><td>1</td><td>1</td><td>36</td><td>0</td><td> 7990</td><td> 8</td><td>0</td><td>0</td><td>0</td><td>1</td><td>12</td><td>1</td></tr>\n",
              "\t<tr><td>0</td><td>0</td><td>49</td><td>0</td><td> 60049</td><td>1</td><td>0</td><td>1</td><td>0</td><td>21</td><td>0</td><td> 6200</td><td> 1</td><td>0</td><td>0</td><td>0</td><td>0</td><td> 1</td><td>0</td></tr>\n",
              "\t<tr><td>0</td><td>0</td><td>42</td><td>0</td><td> 80078</td><td>1</td><td>1</td><td>1</td><td>1</td><td>24</td><td>0</td><td>20640</td><td> 1</td><td>0</td><td>0</td><td>0</td><td>1</td><td>16</td><td>1</td></tr>\n",
              "\t<tr><td>0</td><td>0</td><td>36</td><td>1</td><td>131335</td><td>1</td><td>0</td><td>1</td><td>1</td><td>10</td><td>0</td><td>28490</td><td> 1</td><td>0</td><td>0</td><td>0</td><td>0</td><td> 4</td><td>0</td></tr>\n",
              "\t<tr><td>0</td><td>0</td><td>38</td><td>1</td><td> 83458</td><td>1</td><td>0</td><td>1</td><td>1</td><td>23</td><td>0</td><td>28260</td><td> 6</td><td>0</td><td>1</td><td>0</td><td>1</td><td> 9</td><td>1</td></tr>\n",
              "\t<tr><td>1</td><td>0</td><td>41</td><td>0</td><td> 92185</td><td>1</td><td>1</td><td>0</td><td>0</td><td>24</td><td>0</td><td> 1500</td><td>11</td><td>1</td><td>0</td><td>0</td><td>0</td><td>10</td><td>1</td></tr>\n",
              "\t<tr><td>0</td><td>0</td><td>60</td><td>0</td><td> 19796</td><td>1</td><td>0</td><td>1</td><td>1</td><td>33</td><td>0</td><td>21690</td><td> 1</td><td>0</td><td>1</td><td>0</td><td>1</td><td> 1</td><td>1</td></tr>\n",
              "\t<tr><td>1</td><td>0</td><td>45</td><td>0</td><td> 52966</td><td>0</td><td>0</td><td>0</td><td>0</td><td>16</td><td>1</td><td>11300</td><td> 6</td><td>1</td><td>1</td><td>1</td><td>1</td><td> 1</td><td>1</td></tr>\n",
              "\t<tr><td>0</td><td>0</td><td>54</td><td>0</td><td> 69111</td><td>1</td><td>1</td><td>0</td><td>0</td><td>38</td><td>1</td><td>16510</td><td> 1</td><td>1</td><td>1</td><td>0</td><td>1</td><td> 1</td><td>1</td></tr>\n",
              "\t<tr><td>0</td><td>0</td><td>54</td><td>0</td><td> 62060</td><td>1</td><td>1</td><td>0</td><td>0</td><td>51</td><td>0</td><td> 1500</td><td> 6</td><td>0</td><td>0</td><td>0</td><td>1</td><td> 1</td><td>1</td></tr>\n",
              "\t<tr><td>0</td><td>0</td><td>54</td><td>0</td><td> 81818</td><td>1</td><td>1</td><td>0</td><td>1</td><td>18</td><td>1</td><td>19660</td><td> 1</td><td>0</td><td>1</td><td>1</td><td>1</td><td> 4</td><td>1</td></tr>\n",
              "\t<tr><td>0</td><td>1</td><td>46</td><td>0</td><td> 45018</td><td>0</td><td>0</td><td>0</td><td>0</td><td>26</td><td>0</td><td>15060</td><td> 4</td><td>0</td><td>1</td><td>0</td><td>0</td><td> 1</td><td>0</td></tr>\n",
              "\t<tr><td>0</td><td>0</td><td>48</td><td>0</td><td>111305</td><td>0</td><td>0</td><td>1</td><td>1</td><td>59</td><td>0</td><td>17430</td><td>13</td><td>0</td><td>0</td><td>0</td><td>1</td><td>18</td><td>1</td></tr>\n",
              "\t<tr><td>0</td><td>1</td><td>38</td><td>1</td><td> 12717</td><td>0</td><td>1</td><td>1</td><td>1</td><td>15</td><td>1</td><td>24740</td><td> 1</td><td>0</td><td>1</td><td>0</td><td>1</td><td>15</td><td>1</td></tr>\n",
              "\t<tr><td>0</td><td>0</td><td>41</td><td>0</td><td>  6256</td><td>0</td><td>0</td><td>0</td><td>0</td><td>41</td><td>0</td><td> 5600</td><td> 1</td><td>0</td><td>0</td><td>0</td><td>0</td><td> 7</td><td>0</td></tr>\n",
              "\t<tr><td>0</td><td>0</td><td>35</td><td>0</td><td> 43112</td><td>0</td><td>0</td><td>0</td><td>0</td><td>51</td><td>1</td><td>27330</td><td>10</td><td>1</td><td>0</td><td>0</td><td>0</td><td> 8</td><td>0</td></tr>\n",
              "\t<tr><td>0</td><td>1</td><td>45</td><td>1</td><td>164669</td><td>1</td><td>1</td><td>0</td><td>1</td><td>21</td><td>0</td><td>13270</td><td>15</td><td>0</td><td>0</td><td>0</td><td>1</td><td>17</td><td>1</td></tr>\n",
              "\t<tr><td>0</td><td>0</td><td>46</td><td>0</td><td>107204</td><td>1</td><td>1</td><td>0</td><td>1</td><td>36</td><td>1</td><td>24490</td><td> 6</td><td>0</td><td>0</td><td>0</td><td>0</td><td> 1</td><td>1</td></tr>\n",
              "\t<tr><td>0</td><td>0</td><td>50</td><td>0</td><td> 43445</td><td>1</td><td>1</td><td>1</td><td>1</td><td>36</td><td>0</td><td>22550</td><td> 6</td><td>0</td><td>0</td><td>0</td><td>0</td><td>11</td><td>1</td></tr>\n",
              "\t<tr><td>0</td><td>0</td><td>52</td><td>0</td><td> 53235</td><td>1</td><td>1</td><td>1</td><td>0</td><td>64</td><td>0</td><td>19400</td><td> 6</td><td>0</td><td>0</td><td>0</td><td>0</td><td> 9</td><td>0</td></tr>\n",
              "</tbody>\n",
              "</table>\n"
            ],
            "text/markdown": "\nA data.frame: 7232 × 19\n\n| CLAIM &lt;int&gt; | KIDSDRIV &lt;int&gt; | AGE &lt;int&gt; | HOMEKIDS &lt;int&gt; | INCOME &lt;int&gt; | HOMEOWN &lt;int&gt; | MSTATUS &lt;int&gt; | GENDER &lt;int&gt; | EDUCATION &lt;int&gt; | TRAVTIME &lt;int&gt; | CAR_USE &lt;int&gt; | BLUEBOOK &lt;int&gt; | TWC &lt;int&gt; | RED_CAR &lt;int&gt; | CLM_BEF &lt;int&gt; | REVOKED &lt;int&gt; | MVR_PTS &lt;int&gt; | CAR_AGE &lt;int&gt; | URBANICITY &lt;int&gt; |\n|---|---|---|---|---|---|---|---|---|---|---|---|---|---|---|---|---|---|---|\n| 0 | 0 | 60 | 0 |  67349 | 0 | 0 | 0 | 1 | 14 | 0 | 14230 | 11 | 1 | 1 | 0 | 1 | 18 | 1 |\n| 0 | 0 | 43 | 0 |  91449 | 1 | 0 | 0 | 0 | 22 | 1 | 14940 |  1 | 1 | 0 | 0 | 0 |  1 | 1 |\n| 0 | 0 | 35 | 1 |  16039 | 1 | 1 | 1 | 0 |  5 | 0 |  4010 |  4 | 0 | 1 | 0 | 1 | 10 | 1 |\n| 0 | 0 | 50 | 0 | 114986 | 1 | 1 | 1 | 1 | 36 | 0 | 18000 |  1 | 0 | 1 | 1 | 1 | 17 | 1 |\n| 1 | 0 | 34 | 1 | 125301 | 0 | 0 | 1 | 1 | 46 | 1 | 17430 |  1 | 0 | 0 | 0 | 0 |  7 | 1 |\n| 0 | 0 | 54 | 0 |  18755 | 0 | 1 | 1 | 0 | 33 | 0 |  8780 |  1 | 0 | 0 | 0 | 0 |  1 | 1 |\n| 1 | 1 | 37 | 1 | 107961 | 1 | 1 | 0 | 1 | 44 | 1 | 16970 |  1 | 1 | 1 | 1 | 1 |  7 | 1 |\n| 1 | 0 | 34 | 0 |  62978 | 0 | 0 | 1 | 1 | 34 | 0 | 11200 |  1 | 0 | 0 | 0 | 0 |  1 | 1 |\n| 0 | 0 | 50 | 0 | 106952 | 0 | 0 | 0 | 1 | 48 | 1 | 18510 |  7 | 0 | 0 | 0 | 1 | 17 | 0 |\n| 1 | 0 | 53 | 0 |  77100 | 0 | 0 | 1 | 1 | 15 | 0 | 18300 |  1 | 0 | 0 | 0 | 0 | 11 | 1 |\n| 0 | 0 | 43 | 0 |  52642 | 1 | 1 | 1 | 1 | 36 | 0 | 22420 |  7 | 0 | 0 | 0 | 0 |  1 | 0 |\n| 0 | 0 | 55 | 0 |  59162 | 1 | 1 | 0 | 1 | 25 | 1 | 17600 |  7 | 1 | 1 | 1 | 1 |  9 | 1 |\n| 1 | 0 | 53 | 0 | 130795 | 0 | 0 | 0 | 1 | 64 | 1 | 28340 |  6 | 1 | 0 | 0 | 1 | 10 | 1 |\n| 1 | 0 | 45 | 0 |      0 | 1 | 1 | 1 | 0 | 48 | 0 |  6000 |  1 | 0 | 0 | 0 | 1 |  5 | 1 |\n| 0 | 0 | 39 | 1 |  51884 | 1 | 0 | 1 | 1 | 43 | 0 | 10590 |  6 | 0 | 0 | 0 | 0 | 13 | 0 |\n| 0 | 0 | 42 | 0 |  59945 | 1 | 1 | 0 | 1 | 42 | 0 | 14190 |  6 | 0 | 0 | 0 | 0 | 16 | 1 |\n| 0 | 0 | 34 | 1 |  34019 | 1 | 1 | 1 | 1 | 27 | 0 |  8300 |  7 | 0 | 0 | 0 | 0 | 20 | 1 |\n| 0 | 0 | 31 | 1 |  18903 | 1 | 1 | 1 | 0 | 48 | 0 | 17330 |  4 | 0 | 0 | 0 | 0 |  7 | 1 |\n| 1 | 0 | 28 | 1 |  44077 | 1 | 1 | 1 | 0 | 29 | 1 |  8710 |  6 | 0 | 1 | 0 | 0 |  1 | 1 |\n| 1 | 0 | 43 | 0 |  37214 | 0 | 1 | 0 | 0 | 52 | 1 | 26560 |  1 | 1 | 0 | 0 | 1 |  1 | 1 |\n| 0 | 0 | 48 | 0 |  96274 | 1 | 1 | 1 | 1 | 36 | 0 | 11130 |  6 | 0 | 1 | 0 | 1 | 14 | 1 |\n| 0 | 0 | 47 | 0 |  46281 | 0 | 0 | 1 | 0 | 29 | 0 | 19700 | 10 | 0 | 0 | 0 | 1 |  5 | 1 |\n| 0 | 1 | 44 | 1 |      0 | 1 | 1 | 1 | 0 |  8 | 0 |  5900 |  6 | 0 | 1 | 0 | 0 | 11 | 1 |\n| 0 | 0 | 33 | 1 |  79606 | 1 | 1 | 1 | 1 | 27 | 0 | 16830 |  9 | 0 | 0 | 0 | 1 | 15 | 0 |\n| 1 | 0 | 32 | 1 |  31275 | 1 | 1 | 1 | 0 | 26 | 0 | 10030 |  1 | 0 | 0 | 0 | 0 |  1 | 1 |\n| 0 | 1 | 44 | 1 |  45488 | 1 | 1 | 0 | 1 | 16 | 0 | 22090 | 17 | 0 | 0 | 0 | 0 | 12 | 1 |\n| 0 | 0 | 35 | 0 |  72193 | 0 | 0 | 1 | 1 | 26 | 0 | 12220 |  6 | 0 | 0 | 0 | 1 | 12 | 1 |\n| 0 | 0 | 49 | 0 |  49244 | 1 | 1 | 0 | 1 | 30 | 0 | 15880 |  1 | 0 | 0 | 0 | 1 |  1 | 1 |\n| 0 | 0 | 52 | 0 |  51278 | 1 | 1 | 1 | 1 | 37 | 0 |  1500 |  4 | 0 | 0 | 0 | 1 | 10 | 1 |\n| 0 | 0 | 41 | 0 |  92842 | 1 | 0 | 0 | 1 | 12 | 1 | 25810 |  6 | 0 | 1 | 0 | 1 | 15 | 1 |\n| ⋮ | ⋮ | ⋮ | ⋮ | ⋮ | ⋮ | ⋮ | ⋮ | ⋮ | ⋮ | ⋮ | ⋮ | ⋮ | ⋮ | ⋮ | ⋮ | ⋮ | ⋮ | ⋮ |\n| 1 | 1 | 46 | 0 |  35362 | 0 | 0 | 0 | 0 | 42 | 1 | 17970 | 11 | 0 | 1 | 1 | 1 |  7 | 1 |\n| 0 | 0 | 56 | 0 |  52130 | 1 | 1 | 1 | 0 | 23 | 1 | 12310 |  3 | 0 | 1 | 0 | 1 |  4 | 1 |\n| 1 | 0 | 47 | 0 | 112264 | 0 | 0 | 0 | 1 | 44 | 1 | 24020 |  1 | 1 | 1 | 1 | 1 | 20 | 1 |\n| 1 | 0 | 47 | 0 | 282198 | 1 | 0 | 0 | 1 | 32 | 1 | 34420 | 11 | 1 | 0 | 1 | 1 | 16 | 1 |\n| 1 | 0 | 43 | 0 |      0 | 1 | 1 | 1 | 1 | 29 | 0 | 24030 |  9 | 0 | 1 | 0 | 0 | 14 | 1 |\n| 0 | 1 | 45 | 1 |   1956 | 0 | 0 | 1 | 0 | 47 | 0 |  8350 |  1 | 0 | 0 | 0 | 0 |  1 | 0 |\n| 1 | 0 | 46 | 0 |  68360 | 1 | 0 | 0 | 1 | 49 | 1 | 12940 |  1 | 0 | 1 | 0 | 1 | 11 | 1 |\n| 0 | 1 | 46 | 0 |  84667 | 1 | 1 | 1 | 1 | 56 | 1 | 35050 |  1 | 0 | 0 | 0 | 0 |  7 | 1 |\n| 0 | 0 | 48 | 0 |  66613 | 1 | 1 | 1 | 1 |  5 | 1 | 16340 |  6 | 0 | 0 | 0 | 0 |  5 | 0 |\n| 0 | 0 | 56 | 0 |  12917 | 0 | 0 | 1 | 1 | 45 | 1 |  2790 |  4 | 0 | 0 | 0 | 0 | 12 | 1 |\n| 0 | 0 | 35 | 0 |  64890 | 0 | 0 | 1 | 1 | 36 | 0 |  7990 |  8 | 0 | 0 | 0 | 1 | 12 | 1 |\n| 0 | 0 | 49 | 0 |  60049 | 1 | 0 | 1 | 0 | 21 | 0 |  6200 |  1 | 0 | 0 | 0 | 0 |  1 | 0 |\n| 0 | 0 | 42 | 0 |  80078 | 1 | 1 | 1 | 1 | 24 | 0 | 20640 |  1 | 0 | 0 | 0 | 1 | 16 | 1 |\n| 0 | 0 | 36 | 1 | 131335 | 1 | 0 | 1 | 1 | 10 | 0 | 28490 |  1 | 0 | 0 | 0 | 0 |  4 | 0 |\n| 0 | 0 | 38 | 1 |  83458 | 1 | 0 | 1 | 1 | 23 | 0 | 28260 |  6 | 0 | 1 | 0 | 1 |  9 | 1 |\n| 1 | 0 | 41 | 0 |  92185 | 1 | 1 | 0 | 0 | 24 | 0 |  1500 | 11 | 1 | 0 | 0 | 0 | 10 | 1 |\n| 0 | 0 | 60 | 0 |  19796 | 1 | 0 | 1 | 1 | 33 | 0 | 21690 |  1 | 0 | 1 | 0 | 1 |  1 | 1 |\n| 1 | 0 | 45 | 0 |  52966 | 0 | 0 | 0 | 0 | 16 | 1 | 11300 |  6 | 1 | 1 | 1 | 1 |  1 | 1 |\n| 0 | 0 | 54 | 0 |  69111 | 1 | 1 | 0 | 0 | 38 | 1 | 16510 |  1 | 1 | 1 | 0 | 1 |  1 | 1 |\n| 0 | 0 | 54 | 0 |  62060 | 1 | 1 | 0 | 0 | 51 | 0 |  1500 |  6 | 0 | 0 | 0 | 1 |  1 | 1 |\n| 0 | 0 | 54 | 0 |  81818 | 1 | 1 | 0 | 1 | 18 | 1 | 19660 |  1 | 0 | 1 | 1 | 1 |  4 | 1 |\n| 0 | 1 | 46 | 0 |  45018 | 0 | 0 | 0 | 0 | 26 | 0 | 15060 |  4 | 0 | 1 | 0 | 0 |  1 | 0 |\n| 0 | 0 | 48 | 0 | 111305 | 0 | 0 | 1 | 1 | 59 | 0 | 17430 | 13 | 0 | 0 | 0 | 1 | 18 | 1 |\n| 0 | 1 | 38 | 1 |  12717 | 0 | 1 | 1 | 1 | 15 | 1 | 24740 |  1 | 0 | 1 | 0 | 1 | 15 | 1 |\n| 0 | 0 | 41 | 0 |   6256 | 0 | 0 | 0 | 0 | 41 | 0 |  5600 |  1 | 0 | 0 | 0 | 0 |  7 | 0 |\n| 0 | 0 | 35 | 0 |  43112 | 0 | 0 | 0 | 0 | 51 | 1 | 27330 | 10 | 1 | 0 | 0 | 0 |  8 | 0 |\n| 0 | 1 | 45 | 1 | 164669 | 1 | 1 | 0 | 1 | 21 | 0 | 13270 | 15 | 0 | 0 | 0 | 1 | 17 | 1 |\n| 0 | 0 | 46 | 0 | 107204 | 1 | 1 | 0 | 1 | 36 | 1 | 24490 |  6 | 0 | 0 | 0 | 0 |  1 | 1 |\n| 0 | 0 | 50 | 0 |  43445 | 1 | 1 | 1 | 1 | 36 | 0 | 22550 |  6 | 0 | 0 | 0 | 0 | 11 | 1 |\n| 0 | 0 | 52 | 0 |  53235 | 1 | 1 | 1 | 0 | 64 | 0 | 19400 |  6 | 0 | 0 | 0 | 0 |  9 | 0 |\n\n",
            "text/latex": "A data.frame: 7232 × 19\n\\begin{tabular}{lllllllllllllllllll}\n CLAIM & KIDSDRIV & AGE & HOMEKIDS & INCOME & HOMEOWN & MSTATUS & GENDER & EDUCATION & TRAVTIME & CAR\\_USE & BLUEBOOK & TWC & RED\\_CAR & CLM\\_BEF & REVOKED & MVR\\_PTS & CAR\\_AGE & URBANICITY\\\\\n <int> & <int> & <int> & <int> & <int> & <int> & <int> & <int> & <int> & <int> & <int> & <int> & <int> & <int> & <int> & <int> & <int> & <int> & <int>\\\\\n\\hline\n\t 0 & 0 & 60 & 0 &  67349 & 0 & 0 & 0 & 1 & 14 & 0 & 14230 & 11 & 1 & 1 & 0 & 1 & 18 & 1\\\\\n\t 0 & 0 & 43 & 0 &  91449 & 1 & 0 & 0 & 0 & 22 & 1 & 14940 &  1 & 1 & 0 & 0 & 0 &  1 & 1\\\\\n\t 0 & 0 & 35 & 1 &  16039 & 1 & 1 & 1 & 0 &  5 & 0 &  4010 &  4 & 0 & 1 & 0 & 1 & 10 & 1\\\\\n\t 0 & 0 & 50 & 0 & 114986 & 1 & 1 & 1 & 1 & 36 & 0 & 18000 &  1 & 0 & 1 & 1 & 1 & 17 & 1\\\\\n\t 1 & 0 & 34 & 1 & 125301 & 0 & 0 & 1 & 1 & 46 & 1 & 17430 &  1 & 0 & 0 & 0 & 0 &  7 & 1\\\\\n\t 0 & 0 & 54 & 0 &  18755 & 0 & 1 & 1 & 0 & 33 & 0 &  8780 &  1 & 0 & 0 & 0 & 0 &  1 & 1\\\\\n\t 1 & 1 & 37 & 1 & 107961 & 1 & 1 & 0 & 1 & 44 & 1 & 16970 &  1 & 1 & 1 & 1 & 1 &  7 & 1\\\\\n\t 1 & 0 & 34 & 0 &  62978 & 0 & 0 & 1 & 1 & 34 & 0 & 11200 &  1 & 0 & 0 & 0 & 0 &  1 & 1\\\\\n\t 0 & 0 & 50 & 0 & 106952 & 0 & 0 & 0 & 1 & 48 & 1 & 18510 &  7 & 0 & 0 & 0 & 1 & 17 & 0\\\\\n\t 1 & 0 & 53 & 0 &  77100 & 0 & 0 & 1 & 1 & 15 & 0 & 18300 &  1 & 0 & 0 & 0 & 0 & 11 & 1\\\\\n\t 0 & 0 & 43 & 0 &  52642 & 1 & 1 & 1 & 1 & 36 & 0 & 22420 &  7 & 0 & 0 & 0 & 0 &  1 & 0\\\\\n\t 0 & 0 & 55 & 0 &  59162 & 1 & 1 & 0 & 1 & 25 & 1 & 17600 &  7 & 1 & 1 & 1 & 1 &  9 & 1\\\\\n\t 1 & 0 & 53 & 0 & 130795 & 0 & 0 & 0 & 1 & 64 & 1 & 28340 &  6 & 1 & 0 & 0 & 1 & 10 & 1\\\\\n\t 1 & 0 & 45 & 0 &      0 & 1 & 1 & 1 & 0 & 48 & 0 &  6000 &  1 & 0 & 0 & 0 & 1 &  5 & 1\\\\\n\t 0 & 0 & 39 & 1 &  51884 & 1 & 0 & 1 & 1 & 43 & 0 & 10590 &  6 & 0 & 0 & 0 & 0 & 13 & 0\\\\\n\t 0 & 0 & 42 & 0 &  59945 & 1 & 1 & 0 & 1 & 42 & 0 & 14190 &  6 & 0 & 0 & 0 & 0 & 16 & 1\\\\\n\t 0 & 0 & 34 & 1 &  34019 & 1 & 1 & 1 & 1 & 27 & 0 &  8300 &  7 & 0 & 0 & 0 & 0 & 20 & 1\\\\\n\t 0 & 0 & 31 & 1 &  18903 & 1 & 1 & 1 & 0 & 48 & 0 & 17330 &  4 & 0 & 0 & 0 & 0 &  7 & 1\\\\\n\t 1 & 0 & 28 & 1 &  44077 & 1 & 1 & 1 & 0 & 29 & 1 &  8710 &  6 & 0 & 1 & 0 & 0 &  1 & 1\\\\\n\t 1 & 0 & 43 & 0 &  37214 & 0 & 1 & 0 & 0 & 52 & 1 & 26560 &  1 & 1 & 0 & 0 & 1 &  1 & 1\\\\\n\t 0 & 0 & 48 & 0 &  96274 & 1 & 1 & 1 & 1 & 36 & 0 & 11130 &  6 & 0 & 1 & 0 & 1 & 14 & 1\\\\\n\t 0 & 0 & 47 & 0 &  46281 & 0 & 0 & 1 & 0 & 29 & 0 & 19700 & 10 & 0 & 0 & 0 & 1 &  5 & 1\\\\\n\t 0 & 1 & 44 & 1 &      0 & 1 & 1 & 1 & 0 &  8 & 0 &  5900 &  6 & 0 & 1 & 0 & 0 & 11 & 1\\\\\n\t 0 & 0 & 33 & 1 &  79606 & 1 & 1 & 1 & 1 & 27 & 0 & 16830 &  9 & 0 & 0 & 0 & 1 & 15 & 0\\\\\n\t 1 & 0 & 32 & 1 &  31275 & 1 & 1 & 1 & 0 & 26 & 0 & 10030 &  1 & 0 & 0 & 0 & 0 &  1 & 1\\\\\n\t 0 & 1 & 44 & 1 &  45488 & 1 & 1 & 0 & 1 & 16 & 0 & 22090 & 17 & 0 & 0 & 0 & 0 & 12 & 1\\\\\n\t 0 & 0 & 35 & 0 &  72193 & 0 & 0 & 1 & 1 & 26 & 0 & 12220 &  6 & 0 & 0 & 0 & 1 & 12 & 1\\\\\n\t 0 & 0 & 49 & 0 &  49244 & 1 & 1 & 0 & 1 & 30 & 0 & 15880 &  1 & 0 & 0 & 0 & 1 &  1 & 1\\\\\n\t 0 & 0 & 52 & 0 &  51278 & 1 & 1 & 1 & 1 & 37 & 0 &  1500 &  4 & 0 & 0 & 0 & 1 & 10 & 1\\\\\n\t 0 & 0 & 41 & 0 &  92842 & 1 & 0 & 0 & 1 & 12 & 1 & 25810 &  6 & 0 & 1 & 0 & 1 & 15 & 1\\\\\n\t ⋮ & ⋮ & ⋮ & ⋮ & ⋮ & ⋮ & ⋮ & ⋮ & ⋮ & ⋮ & ⋮ & ⋮ & ⋮ & ⋮ & ⋮ & ⋮ & ⋮ & ⋮ & ⋮\\\\\n\t 1 & 1 & 46 & 0 &  35362 & 0 & 0 & 0 & 0 & 42 & 1 & 17970 & 11 & 0 & 1 & 1 & 1 &  7 & 1\\\\\n\t 0 & 0 & 56 & 0 &  52130 & 1 & 1 & 1 & 0 & 23 & 1 & 12310 &  3 & 0 & 1 & 0 & 1 &  4 & 1\\\\\n\t 1 & 0 & 47 & 0 & 112264 & 0 & 0 & 0 & 1 & 44 & 1 & 24020 &  1 & 1 & 1 & 1 & 1 & 20 & 1\\\\\n\t 1 & 0 & 47 & 0 & 282198 & 1 & 0 & 0 & 1 & 32 & 1 & 34420 & 11 & 1 & 0 & 1 & 1 & 16 & 1\\\\\n\t 1 & 0 & 43 & 0 &      0 & 1 & 1 & 1 & 1 & 29 & 0 & 24030 &  9 & 0 & 1 & 0 & 0 & 14 & 1\\\\\n\t 0 & 1 & 45 & 1 &   1956 & 0 & 0 & 1 & 0 & 47 & 0 &  8350 &  1 & 0 & 0 & 0 & 0 &  1 & 0\\\\\n\t 1 & 0 & 46 & 0 &  68360 & 1 & 0 & 0 & 1 & 49 & 1 & 12940 &  1 & 0 & 1 & 0 & 1 & 11 & 1\\\\\n\t 0 & 1 & 46 & 0 &  84667 & 1 & 1 & 1 & 1 & 56 & 1 & 35050 &  1 & 0 & 0 & 0 & 0 &  7 & 1\\\\\n\t 0 & 0 & 48 & 0 &  66613 & 1 & 1 & 1 & 1 &  5 & 1 & 16340 &  6 & 0 & 0 & 0 & 0 &  5 & 0\\\\\n\t 0 & 0 & 56 & 0 &  12917 & 0 & 0 & 1 & 1 & 45 & 1 &  2790 &  4 & 0 & 0 & 0 & 0 & 12 & 1\\\\\n\t 0 & 0 & 35 & 0 &  64890 & 0 & 0 & 1 & 1 & 36 & 0 &  7990 &  8 & 0 & 0 & 0 & 1 & 12 & 1\\\\\n\t 0 & 0 & 49 & 0 &  60049 & 1 & 0 & 1 & 0 & 21 & 0 &  6200 &  1 & 0 & 0 & 0 & 0 &  1 & 0\\\\\n\t 0 & 0 & 42 & 0 &  80078 & 1 & 1 & 1 & 1 & 24 & 0 & 20640 &  1 & 0 & 0 & 0 & 1 & 16 & 1\\\\\n\t 0 & 0 & 36 & 1 & 131335 & 1 & 0 & 1 & 1 & 10 & 0 & 28490 &  1 & 0 & 0 & 0 & 0 &  4 & 0\\\\\n\t 0 & 0 & 38 & 1 &  83458 & 1 & 0 & 1 & 1 & 23 & 0 & 28260 &  6 & 0 & 1 & 0 & 1 &  9 & 1\\\\\n\t 1 & 0 & 41 & 0 &  92185 & 1 & 1 & 0 & 0 & 24 & 0 &  1500 & 11 & 1 & 0 & 0 & 0 & 10 & 1\\\\\n\t 0 & 0 & 60 & 0 &  19796 & 1 & 0 & 1 & 1 & 33 & 0 & 21690 &  1 & 0 & 1 & 0 & 1 &  1 & 1\\\\\n\t 1 & 0 & 45 & 0 &  52966 & 0 & 0 & 0 & 0 & 16 & 1 & 11300 &  6 & 1 & 1 & 1 & 1 &  1 & 1\\\\\n\t 0 & 0 & 54 & 0 &  69111 & 1 & 1 & 0 & 0 & 38 & 1 & 16510 &  1 & 1 & 1 & 0 & 1 &  1 & 1\\\\\n\t 0 & 0 & 54 & 0 &  62060 & 1 & 1 & 0 & 0 & 51 & 0 &  1500 &  6 & 0 & 0 & 0 & 1 &  1 & 1\\\\\n\t 0 & 0 & 54 & 0 &  81818 & 1 & 1 & 0 & 1 & 18 & 1 & 19660 &  1 & 0 & 1 & 1 & 1 &  4 & 1\\\\\n\t 0 & 1 & 46 & 0 &  45018 & 0 & 0 & 0 & 0 & 26 & 0 & 15060 &  4 & 0 & 1 & 0 & 0 &  1 & 0\\\\\n\t 0 & 0 & 48 & 0 & 111305 & 0 & 0 & 1 & 1 & 59 & 0 & 17430 & 13 & 0 & 0 & 0 & 1 & 18 & 1\\\\\n\t 0 & 1 & 38 & 1 &  12717 & 0 & 1 & 1 & 1 & 15 & 1 & 24740 &  1 & 0 & 1 & 0 & 1 & 15 & 1\\\\\n\t 0 & 0 & 41 & 0 &   6256 & 0 & 0 & 0 & 0 & 41 & 0 &  5600 &  1 & 0 & 0 & 0 & 0 &  7 & 0\\\\\n\t 0 & 0 & 35 & 0 &  43112 & 0 & 0 & 0 & 0 & 51 & 1 & 27330 & 10 & 1 & 0 & 0 & 0 &  8 & 0\\\\\n\t 0 & 1 & 45 & 1 & 164669 & 1 & 1 & 0 & 1 & 21 & 0 & 13270 & 15 & 0 & 0 & 0 & 1 & 17 & 1\\\\\n\t 0 & 0 & 46 & 0 & 107204 & 1 & 1 & 0 & 1 & 36 & 1 & 24490 &  6 & 0 & 0 & 0 & 0 &  1 & 1\\\\\n\t 0 & 0 & 50 & 0 &  43445 & 1 & 1 & 1 & 1 & 36 & 0 & 22550 &  6 & 0 & 0 & 0 & 0 & 11 & 1\\\\\n\t 0 & 0 & 52 & 0 &  53235 & 1 & 1 & 1 & 0 & 64 & 0 & 19400 &  6 & 0 & 0 & 0 & 0 &  9 & 0\\\\\n\\end{tabular}\n",
            "text/plain": [
              "     CLAIM KIDSDRIV AGE HOMEKIDS INCOME HOMEOWN MSTATUS GENDER EDUCATION\n",
              "1    0     0        60  0         67349 0       0       0      1        \n",
              "2    0     0        43  0         91449 1       0       0      0        \n",
              "3    0     0        35  1         16039 1       1       1      0        \n",
              "4    0     0        50  0        114986 1       1       1      1        \n",
              "5    1     0        34  1        125301 0       0       1      1        \n",
              "6    0     0        54  0         18755 0       1       1      0        \n",
              "7    1     1        37  1        107961 1       1       0      1        \n",
              "8    1     0        34  0         62978 0       0       1      1        \n",
              "9    0     0        50  0        106952 0       0       0      1        \n",
              "10   1     0        53  0         77100 0       0       1      1        \n",
              "11   0     0        43  0         52642 1       1       1      1        \n",
              "12   0     0        55  0         59162 1       1       0      1        \n",
              "13   1     0        53  0        130795 0       0       0      1        \n",
              "14   1     0        45  0             0 1       1       1      0        \n",
              "15   0     0        39  1         51884 1       0       1      1        \n",
              "16   0     0        42  0         59945 1       1       0      1        \n",
              "17   0     0        34  1         34019 1       1       1      1        \n",
              "18   0     0        31  1         18903 1       1       1      0        \n",
              "19   1     0        28  1         44077 1       1       1      0        \n",
              "20   1     0        43  0         37214 0       1       0      0        \n",
              "21   0     0        48  0         96274 1       1       1      1        \n",
              "22   0     0        47  0         46281 0       0       1      0        \n",
              "23   0     1        44  1             0 1       1       1      0        \n",
              "24   0     0        33  1         79606 1       1       1      1        \n",
              "25   1     0        32  1         31275 1       1       1      0        \n",
              "26   0     1        44  1         45488 1       1       0      1        \n",
              "27   0     0        35  0         72193 0       0       1      1        \n",
              "28   0     0        49  0         49244 1       1       0      1        \n",
              "29   0     0        52  0         51278 1       1       1      1        \n",
              "30   0     0        41  0         92842 1       0       0      1        \n",
              "⋮    ⋮     ⋮        ⋮   ⋮        ⋮      ⋮       ⋮       ⋮      ⋮        \n",
              "7203 1     1        46  0         35362 0       0       0      0        \n",
              "7204 0     0        56  0         52130 1       1       1      0        \n",
              "7205 1     0        47  0        112264 0       0       0      1        \n",
              "7206 1     0        47  0        282198 1       0       0      1        \n",
              "7207 1     0        43  0             0 1       1       1      1        \n",
              "7208 0     1        45  1          1956 0       0       1      0        \n",
              "7209 1     0        46  0         68360 1       0       0      1        \n",
              "7210 0     1        46  0         84667 1       1       1      1        \n",
              "7211 0     0        48  0         66613 1       1       1      1        \n",
              "7212 0     0        56  0         12917 0       0       1      1        \n",
              "7213 0     0        35  0         64890 0       0       1      1        \n",
              "7214 0     0        49  0         60049 1       0       1      0        \n",
              "7215 0     0        42  0         80078 1       1       1      1        \n",
              "7216 0     0        36  1        131335 1       0       1      1        \n",
              "7217 0     0        38  1         83458 1       0       1      1        \n",
              "7218 1     0        41  0         92185 1       1       0      0        \n",
              "7219 0     0        60  0         19796 1       0       1      1        \n",
              "7220 1     0        45  0         52966 0       0       0      0        \n",
              "7221 0     0        54  0         69111 1       1       0      0        \n",
              "7222 0     0        54  0         62060 1       1       0      0        \n",
              "7223 0     0        54  0         81818 1       1       0      1        \n",
              "7224 0     1        46  0         45018 0       0       0      0        \n",
              "7225 0     0        48  0        111305 0       0       1      1        \n",
              "7226 0     1        38  1         12717 0       1       1      1        \n",
              "7227 0     0        41  0          6256 0       0       0      0        \n",
              "7228 0     0        35  0         43112 0       0       0      0        \n",
              "7229 0     1        45  1        164669 1       1       0      1        \n",
              "7230 0     0        46  0        107204 1       1       0      1        \n",
              "7231 0     0        50  0         43445 1       1       1      1        \n",
              "7232 0     0        52  0         53235 1       1       1      0        \n",
              "     TRAVTIME CAR_USE BLUEBOOK TWC RED_CAR CLM_BEF REVOKED MVR_PTS CAR_AGE\n",
              "1    14       0       14230    11  1       1       0       1       18     \n",
              "2    22       1       14940     1  1       0       0       0        1     \n",
              "3     5       0        4010     4  0       1       0       1       10     \n",
              "4    36       0       18000     1  0       1       1       1       17     \n",
              "5    46       1       17430     1  0       0       0       0        7     \n",
              "6    33       0        8780     1  0       0       0       0        1     \n",
              "7    44       1       16970     1  1       1       1       1        7     \n",
              "8    34       0       11200     1  0       0       0       0        1     \n",
              "9    48       1       18510     7  0       0       0       1       17     \n",
              "10   15       0       18300     1  0       0       0       0       11     \n",
              "11   36       0       22420     7  0       0       0       0        1     \n",
              "12   25       1       17600     7  1       1       1       1        9     \n",
              "13   64       1       28340     6  1       0       0       1       10     \n",
              "14   48       0        6000     1  0       0       0       1        5     \n",
              "15   43       0       10590     6  0       0       0       0       13     \n",
              "16   42       0       14190     6  0       0       0       0       16     \n",
              "17   27       0        8300     7  0       0       0       0       20     \n",
              "18   48       0       17330     4  0       0       0       0        7     \n",
              "19   29       1        8710     6  0       1       0       0        1     \n",
              "20   52       1       26560     1  1       0       0       1        1     \n",
              "21   36       0       11130     6  0       1       0       1       14     \n",
              "22   29       0       19700    10  0       0       0       1        5     \n",
              "23    8       0        5900     6  0       1       0       0       11     \n",
              "24   27       0       16830     9  0       0       0       1       15     \n",
              "25   26       0       10030     1  0       0       0       0        1     \n",
              "26   16       0       22090    17  0       0       0       0       12     \n",
              "27   26       0       12220     6  0       0       0       1       12     \n",
              "28   30       0       15880     1  0       0       0       1        1     \n",
              "29   37       0        1500     4  0       0       0       1       10     \n",
              "30   12       1       25810     6  0       1       0       1       15     \n",
              "⋮    ⋮        ⋮       ⋮        ⋮   ⋮       ⋮       ⋮       ⋮       ⋮      \n",
              "7203 42       1       17970    11  0       1       1       1        7     \n",
              "7204 23       1       12310     3  0       1       0       1        4     \n",
              "7205 44       1       24020     1  1       1       1       1       20     \n",
              "7206 32       1       34420    11  1       0       1       1       16     \n",
              "7207 29       0       24030     9  0       1       0       0       14     \n",
              "7208 47       0        8350     1  0       0       0       0        1     \n",
              "7209 49       1       12940     1  0       1       0       1       11     \n",
              "7210 56       1       35050     1  0       0       0       0        7     \n",
              "7211  5       1       16340     6  0       0       0       0        5     \n",
              "7212 45       1        2790     4  0       0       0       0       12     \n",
              "7213 36       0        7990     8  0       0       0       1       12     \n",
              "7214 21       0        6200     1  0       0       0       0        1     \n",
              "7215 24       0       20640     1  0       0       0       1       16     \n",
              "7216 10       0       28490     1  0       0       0       0        4     \n",
              "7217 23       0       28260     6  0       1       0       1        9     \n",
              "7218 24       0        1500    11  1       0       0       0       10     \n",
              "7219 33       0       21690     1  0       1       0       1        1     \n",
              "7220 16       1       11300     6  1       1       1       1        1     \n",
              "7221 38       1       16510     1  1       1       0       1        1     \n",
              "7222 51       0        1500     6  0       0       0       1        1     \n",
              "7223 18       1       19660     1  0       1       1       1        4     \n",
              "7224 26       0       15060     4  0       1       0       0        1     \n",
              "7225 59       0       17430    13  0       0       0       1       18     \n",
              "7226 15       1       24740     1  0       1       0       1       15     \n",
              "7227 41       0        5600     1  0       0       0       0        7     \n",
              "7228 51       1       27330    10  1       0       0       0        8     \n",
              "7229 21       0       13270    15  0       0       0       1       17     \n",
              "7230 36       1       24490     6  0       0       0       0        1     \n",
              "7231 36       0       22550     6  0       0       0       0       11     \n",
              "7232 64       0       19400     6  0       0       0       0        9     \n",
              "     URBANICITY\n",
              "1    1         \n",
              "2    1         \n",
              "3    1         \n",
              "4    1         \n",
              "5    1         \n",
              "6    1         \n",
              "7    1         \n",
              "8    1         \n",
              "9    0         \n",
              "10   1         \n",
              "11   0         \n",
              "12   1         \n",
              "13   1         \n",
              "14   1         \n",
              "15   0         \n",
              "16   1         \n",
              "17   1         \n",
              "18   1         \n",
              "19   1         \n",
              "20   1         \n",
              "21   1         \n",
              "22   1         \n",
              "23   1         \n",
              "24   0         \n",
              "25   1         \n",
              "26   1         \n",
              "27   1         \n",
              "28   1         \n",
              "29   1         \n",
              "30   1         \n",
              "⋮    ⋮         \n",
              "7203 1         \n",
              "7204 1         \n",
              "7205 1         \n",
              "7206 1         \n",
              "7207 1         \n",
              "7208 0         \n",
              "7209 1         \n",
              "7210 1         \n",
              "7211 0         \n",
              "7212 1         \n",
              "7213 1         \n",
              "7214 0         \n",
              "7215 1         \n",
              "7216 0         \n",
              "7217 1         \n",
              "7218 1         \n",
              "7219 1         \n",
              "7220 1         \n",
              "7221 1         \n",
              "7222 1         \n",
              "7223 1         \n",
              "7224 0         \n",
              "7225 1         \n",
              "7226 1         \n",
              "7227 0         \n",
              "7228 0         \n",
              "7229 1         \n",
              "7230 1         \n",
              "7231 1         \n",
              "7232 0         "
            ]
          },
          "metadata": {}
        }
      ]
    },
    {
      "cell_type": "code",
      "source": [
        "# Convert categorical variables to factors with levels and labels\n",
        "insurancedf$CLAIM <- factor(insurancedf$CLAIM, levels = c(0, 1), labels = c(\"No\", \"Yes\"))\n",
        "insurancedf$KIDSDRIV <- factor(insurancedf$KIDSDRIV, levels = c(0, 1), labels = c(\"No\", \"Yes\"))\n",
        "insurancedf$AGE <- factor(insurancedf$AGE)\n",
        "insurancedf$HOMEKIDS <- factor(insurancedf$HOMEKIDS, levels = c(0, 1), labels = c(\"No\", \"Yes\"))\n",
        "insurancedf$INCOME <- factor(insurancedf$INCOME)\n",
        "insurancedf$HOMEOWN <- factor(insurancedf$HOMEOWN, levels = c(0, 1), labels = c(\"No\", \"Yes\"))\n",
        "insurancedf$MSTATUS <- factor(insurancedf$MSTATUS, levels = c(0, 1), labels = c(\"No\", \"Yes\"))\n",
        "insurancedf$GENDER <- factor(insurancedf$GENDER, levels = c(0, 1), labels = c(\"Male\", \"Female\"))\n",
        "insurancedf$EDUCATION <- factor(insurancedf$EDUCATION, levels = c(0, 1), labels = c(\"High School only\", \"College or beyond\"))\n",
        "insurancedf$TRAVTIME <- factor(insurancedf$TRAVTIME)\n",
        "insurancedf$CAR_USE <- factor(insurancedf$CAR_USE, levels = c(0, 1), labels = c(\"Private\", \"Commercial\"))\n",
        "insurancedf$BLUEBOOK <- factor(insurancedf$BLUEBOOK)\n",
        "insurancedf$TWC <- factor(insurancedf$TWC)\n",
        "insurancedf$RED_CAR <- factor(insurancedf$RED_CAR, levels = c(0, 1), labels = c(\"No\", \"Yes\"))\n",
        "insurancedf$CLM_BEF <- factor(insurancedf$CLM_BEF, levels = c(0, 1), labels = c(\"No\", \"Yes\"))\n",
        "insurancedf$REVOKED <- factor(insurancedf$REVOKED, levels = c(0, 1), labels = c(\"No\", \"Yes\"))\n",
        "insurancedf$MVR_PTS <- factor(insurancedf$MVR_PTS, levels = c(0, 1), labels = c(\"No\", \"Yes\"))\n",
        "insurancedf$CAR_AGE <- factor(insurancedf$CAR_AGE)\n",
        "insurancedf$URBANICITY <- factor(insurancedf$URBANICITY, levels = c(0, 1), labels = c(\"Rural\", \"Urban\"))\n"
      ],
      "metadata": {
        "id": "88sonI4X2tD-"
      },
      "execution_count": null,
      "outputs": []
    },
    {
      "cell_type": "code",
      "source": [
        "\n",
        "#read dataset into R\n",
        "View(insurancedf)"
      ],
      "metadata": {
        "colab": {
          "base_uri": "https://localhost:8080/",
          "height": 1000
        },
        "id": "iNrGyaZg1mp8",
        "outputId": "c533e738-4a89-4fbf-ad38-0ff1ec259d3f"
      },
      "execution_count": null,
      "outputs": [
        {
          "output_type": "display_data",
          "data": {
            "text/plain": [
              "     CLAIM KIDSDRIV AGE HOMEKIDS INCOME HOMEOWN MSTATUS GENDER\n",
              "1    No    No       60  No       67349  No      No      Male  \n",
              "2    No    No       43  No       91449  Yes     No      Male  \n",
              "3    No    No       35  Yes      16039  Yes     Yes     Female\n",
              "4    No    No       50  No       114986 Yes     Yes     Female\n",
              "5    Yes   No       34  Yes      125301 No      No      Female\n",
              "6    No    No       54  No       18755  No      Yes     Female\n",
              "7    Yes   Yes      37  Yes      107961 Yes     Yes     Male  \n",
              "8    Yes   No       34  No       62978  No      No      Female\n",
              "9    No    No       50  No       106952 No      No      Male  \n",
              "10   Yes   No       53  No       77100  No      No      Female\n",
              "11   No    No       43  No       52642  Yes     Yes     Female\n",
              "12   No    No       55  No       59162  Yes     Yes     Male  \n",
              "13   Yes   No       53  No       130795 No      No      Male  \n",
              "14   Yes   No       45  No       0      Yes     Yes     Female\n",
              "15   No    No       39  Yes      51884  Yes     No      Female\n",
              "16   No    No       42  No       59945  Yes     Yes     Male  \n",
              "17   No    No       34  Yes      34019  Yes     Yes     Female\n",
              "18   No    No       31  Yes      18903  Yes     Yes     Female\n",
              "19   Yes   No       28  Yes      44077  Yes     Yes     Female\n",
              "20   Yes   No       43  No       37214  No      Yes     Male  \n",
              "21   No    No       48  No       96274  Yes     Yes     Female\n",
              "22   No    No       47  No       46281  No      No      Female\n",
              "23   No    Yes      44  Yes      0      Yes     Yes     Female\n",
              "24   No    No       33  Yes      79606  Yes     Yes     Female\n",
              "25   Yes   No       32  Yes      31275  Yes     Yes     Female\n",
              "26   No    Yes      44  Yes      45488  Yes     Yes     Male  \n",
              "27   No    No       35  No       72193  No      No      Female\n",
              "28   No    No       49  No       49244  Yes     Yes     Male  \n",
              "29   No    No       52  No       51278  Yes     Yes     Female\n",
              "30   No    No       41  No       92842  Yes     No      Male  \n",
              "⋮    ⋮     ⋮        ⋮   ⋮        ⋮      ⋮       ⋮       ⋮     \n",
              "7203 Yes   Yes      46  No       35362  No      No      Male  \n",
              "7204 No    No       56  No       52130  Yes     Yes     Female\n",
              "7205 Yes   No       47  No       112264 No      No      Male  \n",
              "7206 Yes   No       47  No       282198 Yes     No      Male  \n",
              "7207 Yes   No       43  No       0      Yes     Yes     Female\n",
              "7208 No    Yes      45  Yes      1956   No      No      Female\n",
              "7209 Yes   No       46  No       68360  Yes     No      Male  \n",
              "7210 No    Yes      46  No       84667  Yes     Yes     Female\n",
              "7211 No    No       48  No       66613  Yes     Yes     Female\n",
              "7212 No    No       56  No       12917  No      No      Female\n",
              "7213 No    No       35  No       64890  No      No      Female\n",
              "7214 No    No       49  No       60049  Yes     No      Female\n",
              "7215 No    No       42  No       80078  Yes     Yes     Female\n",
              "7216 No    No       36  Yes      131335 Yes     No      Female\n",
              "7217 No    No       38  Yes      83458  Yes     No      Female\n",
              "7218 Yes   No       41  No       92185  Yes     Yes     Male  \n",
              "7219 No    No       60  No       19796  Yes     No      Female\n",
              "7220 Yes   No       45  No       52966  No      No      Male  \n",
              "7221 No    No       54  No       69111  Yes     Yes     Male  \n",
              "7222 No    No       54  No       62060  Yes     Yes     Male  \n",
              "7223 No    No       54  No       81818  Yes     Yes     Male  \n",
              "7224 No    Yes      46  No       45018  No      No      Male  \n",
              "7225 No    No       48  No       111305 No      No      Female\n",
              "7226 No    Yes      38  Yes      12717  No      Yes     Female\n",
              "7227 No    No       41  No       6256   No      No      Male  \n",
              "7228 No    No       35  No       43112  No      No      Male  \n",
              "7229 No    Yes      45  Yes      164669 Yes     Yes     Male  \n",
              "7230 No    No       46  No       107204 Yes     Yes     Male  \n",
              "7231 No    No       50  No       43445  Yes     Yes     Female\n",
              "7232 No    No       52  No       53235  Yes     Yes     Female\n",
              "     EDUCATION         TRAVTIME CAR_USE    BLUEBOOK TWC RED_CAR CLM_BEF REVOKED\n",
              "1    College or beyond 14       Private    14230    11  Yes     Yes     No     \n",
              "2    High School only  22       Commercial 14940    1   Yes     No      No     \n",
              "3    High School only  5        Private    4010     4   No      Yes     No     \n",
              "4    College or beyond 36       Private    18000    1   No      Yes     Yes    \n",
              "5    College or beyond 46       Commercial 17430    1   No      No      No     \n",
              "6    High School only  33       Private    8780     1   No      No      No     \n",
              "7    College or beyond 44       Commercial 16970    1   Yes     Yes     Yes    \n",
              "8    College or beyond 34       Private    11200    1   No      No      No     \n",
              "9    College or beyond 48       Commercial 18510    7   No      No      No     \n",
              "10   College or beyond 15       Private    18300    1   No      No      No     \n",
              "11   College or beyond 36       Private    22420    7   No      No      No     \n",
              "12   College or beyond 25       Commercial 17600    7   Yes     Yes     Yes    \n",
              "13   College or beyond 64       Commercial 28340    6   Yes     No      No     \n",
              "14   High School only  48       Private    6000     1   No      No      No     \n",
              "15   College or beyond 43       Private    10590    6   No      No      No     \n",
              "16   College or beyond 42       Private    14190    6   No      No      No     \n",
              "17   College or beyond 27       Private    8300     7   No      No      No     \n",
              "18   High School only  48       Private    17330    4   No      No      No     \n",
              "19   High School only  29       Commercial 8710     6   No      Yes     No     \n",
              "20   High School only  52       Commercial 26560    1   Yes     No      No     \n",
              "21   College or beyond 36       Private    11130    6   No      Yes     No     \n",
              "22   High School only  29       Private    19700    10  No      No      No     \n",
              "23   High School only  8        Private    5900     6   No      Yes     No     \n",
              "24   College or beyond 27       Private    16830    9   No      No      No     \n",
              "25   High School only  26       Private    10030    1   No      No      No     \n",
              "26   College or beyond 16       Private    22090    17  No      No      No     \n",
              "27   College or beyond 26       Private    12220    6   No      No      No     \n",
              "28   College or beyond 30       Private    15880    1   No      No      No     \n",
              "29   College or beyond 37       Private    1500     4   No      No      No     \n",
              "30   College or beyond 12       Commercial 25810    6   No      Yes     No     \n",
              "⋮    ⋮                 ⋮        ⋮          ⋮        ⋮   ⋮       ⋮       ⋮      \n",
              "7203 High School only  42       Commercial 17970    11  No      Yes     Yes    \n",
              "7204 High School only  23       Commercial 12310    3   No      Yes     No     \n",
              "7205 College or beyond 44       Commercial 24020    1   Yes     Yes     Yes    \n",
              "7206 College or beyond 32       Commercial 34420    11  Yes     No      Yes    \n",
              "7207 College or beyond 29       Private    24030    9   No      Yes     No     \n",
              "7208 High School only  47       Private    8350     1   No      No      No     \n",
              "7209 College or beyond 49       Commercial 12940    1   No      Yes     No     \n",
              "7210 College or beyond 56       Commercial 35050    1   No      No      No     \n",
              "7211 College or beyond 5        Commercial 16340    6   No      No      No     \n",
              "7212 College or beyond 45       Commercial 2790     4   No      No      No     \n",
              "7213 College or beyond 36       Private    7990     8   No      No      No     \n",
              "7214 High School only  21       Private    6200     1   No      No      No     \n",
              "7215 College or beyond 24       Private    20640    1   No      No      No     \n",
              "7216 College or beyond 10       Private    28490    1   No      No      No     \n",
              "7217 College or beyond 23       Private    28260    6   No      Yes     No     \n",
              "7218 High School only  24       Private    1500     11  Yes     No      No     \n",
              "7219 College or beyond 33       Private    21690    1   No      Yes     No     \n",
              "7220 High School only  16       Commercial 11300    6   Yes     Yes     Yes    \n",
              "7221 High School only  38       Commercial 16510    1   Yes     Yes     No     \n",
              "7222 High School only  51       Private    1500     6   No      No      No     \n",
              "7223 College or beyond 18       Commercial 19660    1   No      Yes     Yes    \n",
              "7224 High School only  26       Private    15060    4   No      Yes     No     \n",
              "7225 College or beyond 59       Private    17430    13  No      No      No     \n",
              "7226 College or beyond 15       Commercial 24740    1   No      Yes     No     \n",
              "7227 High School only  41       Private    5600     1   No      No      No     \n",
              "7228 High School only  51       Commercial 27330    10  Yes     No      No     \n",
              "7229 College or beyond 21       Private    13270    15  No      No      No     \n",
              "7230 College or beyond 36       Commercial 24490    6   No      No      No     \n",
              "7231 College or beyond 36       Private    22550    6   No      No      No     \n",
              "7232 High School only  64       Private    19400    6   No      No      No     \n",
              "     MVR_PTS CAR_AGE URBANICITY\n",
              "1    Yes     18      Urban     \n",
              "2    No      1       Urban     \n",
              "3    Yes     10      Urban     \n",
              "4    Yes     17      Urban     \n",
              "5    No      7       Urban     \n",
              "6    No      1       Urban     \n",
              "7    Yes     7       Urban     \n",
              "8    No      1       Urban     \n",
              "9    Yes     17      Rural     \n",
              "10   No      11      Urban     \n",
              "11   No      1       Rural     \n",
              "12   Yes     9       Urban     \n",
              "13   Yes     10      Urban     \n",
              "14   Yes     5       Urban     \n",
              "15   No      13      Rural     \n",
              "16   No      16      Urban     \n",
              "17   No      20      Urban     \n",
              "18   No      7       Urban     \n",
              "19   No      1       Urban     \n",
              "20   Yes     1       Urban     \n",
              "21   Yes     14      Urban     \n",
              "22   Yes     5       Urban     \n",
              "23   No      11      Urban     \n",
              "24   Yes     15      Rural     \n",
              "25   No      1       Urban     \n",
              "26   No      12      Urban     \n",
              "27   Yes     12      Urban     \n",
              "28   Yes     1       Urban     \n",
              "29   Yes     10      Urban     \n",
              "30   Yes     15      Urban     \n",
              "⋮    ⋮       ⋮       ⋮         \n",
              "7203 Yes     7       Urban     \n",
              "7204 Yes     4       Urban     \n",
              "7205 Yes     20      Urban     \n",
              "7206 Yes     16      Urban     \n",
              "7207 No      14      Urban     \n",
              "7208 No      1       Rural     \n",
              "7209 Yes     11      Urban     \n",
              "7210 No      7       Urban     \n",
              "7211 No      5       Rural     \n",
              "7212 No      12      Urban     \n",
              "7213 Yes     12      Urban     \n",
              "7214 No      1       Rural     \n",
              "7215 Yes     16      Urban     \n",
              "7216 No      4       Rural     \n",
              "7217 Yes     9       Urban     \n",
              "7218 No      10      Urban     \n",
              "7219 Yes     1       Urban     \n",
              "7220 Yes     1       Urban     \n",
              "7221 Yes     1       Urban     \n",
              "7222 Yes     1       Urban     \n",
              "7223 Yes     4       Urban     \n",
              "7224 No      1       Rural     \n",
              "7225 Yes     18      Urban     \n",
              "7226 Yes     15      Urban     \n",
              "7227 No      7       Rural     \n",
              "7228 No      8       Rural     \n",
              "7229 Yes     17      Urban     \n",
              "7230 No      1       Urban     \n",
              "7231 No      11      Urban     \n",
              "7232 No      9       Rural     "
            ],
            "text/html": [
              "<table class=\"dataframe\">\n",
              "<caption>A data.frame: 7232 × 19</caption>\n",
              "<thead>\n",
              "\t<tr><th scope=col>CLAIM</th><th scope=col>KIDSDRIV</th><th scope=col>AGE</th><th scope=col>HOMEKIDS</th><th scope=col>INCOME</th><th scope=col>HOMEOWN</th><th scope=col>MSTATUS</th><th scope=col>GENDER</th><th scope=col>EDUCATION</th><th scope=col>TRAVTIME</th><th scope=col>CAR_USE</th><th scope=col>BLUEBOOK</th><th scope=col>TWC</th><th scope=col>RED_CAR</th><th scope=col>CLM_BEF</th><th scope=col>REVOKED</th><th scope=col>MVR_PTS</th><th scope=col>CAR_AGE</th><th scope=col>URBANICITY</th></tr>\n",
              "\t<tr><th scope=col>&lt;fct&gt;</th><th scope=col>&lt;fct&gt;</th><th scope=col>&lt;fct&gt;</th><th scope=col>&lt;fct&gt;</th><th scope=col>&lt;fct&gt;</th><th scope=col>&lt;fct&gt;</th><th scope=col>&lt;fct&gt;</th><th scope=col>&lt;fct&gt;</th><th scope=col>&lt;fct&gt;</th><th scope=col>&lt;fct&gt;</th><th scope=col>&lt;fct&gt;</th><th scope=col>&lt;fct&gt;</th><th scope=col>&lt;fct&gt;</th><th scope=col>&lt;fct&gt;</th><th scope=col>&lt;fct&gt;</th><th scope=col>&lt;fct&gt;</th><th scope=col>&lt;fct&gt;</th><th scope=col>&lt;fct&gt;</th><th scope=col>&lt;fct&gt;</th></tr>\n",
              "</thead>\n",
              "<tbody>\n",
              "\t<tr><td>No </td><td>No </td><td>60</td><td>No </td><td>67349 </td><td>No </td><td>No </td><td>Male  </td><td>College or beyond</td><td>14</td><td>Private   </td><td>14230</td><td>11</td><td>Yes</td><td>Yes</td><td>No </td><td>Yes</td><td>18</td><td>Urban</td></tr>\n",
              "\t<tr><td>No </td><td>No </td><td>43</td><td>No </td><td>91449 </td><td>Yes</td><td>No </td><td>Male  </td><td>High School only </td><td>22</td><td>Commercial</td><td>14940</td><td>1 </td><td>Yes</td><td>No </td><td>No </td><td>No </td><td>1 </td><td>Urban</td></tr>\n",
              "\t<tr><td>No </td><td>No </td><td>35</td><td>Yes</td><td>16039 </td><td>Yes</td><td>Yes</td><td>Female</td><td>High School only </td><td>5 </td><td>Private   </td><td>4010 </td><td>4 </td><td>No </td><td>Yes</td><td>No </td><td>Yes</td><td>10</td><td>Urban</td></tr>\n",
              "\t<tr><td>No </td><td>No </td><td>50</td><td>No </td><td>114986</td><td>Yes</td><td>Yes</td><td>Female</td><td>College or beyond</td><td>36</td><td>Private   </td><td>18000</td><td>1 </td><td>No </td><td>Yes</td><td>Yes</td><td>Yes</td><td>17</td><td>Urban</td></tr>\n",
              "\t<tr><td>Yes</td><td>No </td><td>34</td><td>Yes</td><td>125301</td><td>No </td><td>No </td><td>Female</td><td>College or beyond</td><td>46</td><td>Commercial</td><td>17430</td><td>1 </td><td>No </td><td>No </td><td>No </td><td>No </td><td>7 </td><td>Urban</td></tr>\n",
              "\t<tr><td>No </td><td>No </td><td>54</td><td>No </td><td>18755 </td><td>No </td><td>Yes</td><td>Female</td><td>High School only </td><td>33</td><td>Private   </td><td>8780 </td><td>1 </td><td>No </td><td>No </td><td>No </td><td>No </td><td>1 </td><td>Urban</td></tr>\n",
              "\t<tr><td>Yes</td><td>Yes</td><td>37</td><td>Yes</td><td>107961</td><td>Yes</td><td>Yes</td><td>Male  </td><td>College or beyond</td><td>44</td><td>Commercial</td><td>16970</td><td>1 </td><td>Yes</td><td>Yes</td><td>Yes</td><td>Yes</td><td>7 </td><td>Urban</td></tr>\n",
              "\t<tr><td>Yes</td><td>No </td><td>34</td><td>No </td><td>62978 </td><td>No </td><td>No </td><td>Female</td><td>College or beyond</td><td>34</td><td>Private   </td><td>11200</td><td>1 </td><td>No </td><td>No </td><td>No </td><td>No </td><td>1 </td><td>Urban</td></tr>\n",
              "\t<tr><td>No </td><td>No </td><td>50</td><td>No </td><td>106952</td><td>No </td><td>No </td><td>Male  </td><td>College or beyond</td><td>48</td><td>Commercial</td><td>18510</td><td>7 </td><td>No </td><td>No </td><td>No </td><td>Yes</td><td>17</td><td>Rural</td></tr>\n",
              "\t<tr><td>Yes</td><td>No </td><td>53</td><td>No </td><td>77100 </td><td>No </td><td>No </td><td>Female</td><td>College or beyond</td><td>15</td><td>Private   </td><td>18300</td><td>1 </td><td>No </td><td>No </td><td>No </td><td>No </td><td>11</td><td>Urban</td></tr>\n",
              "\t<tr><td>No </td><td>No </td><td>43</td><td>No </td><td>52642 </td><td>Yes</td><td>Yes</td><td>Female</td><td>College or beyond</td><td>36</td><td>Private   </td><td>22420</td><td>7 </td><td>No </td><td>No </td><td>No </td><td>No </td><td>1 </td><td>Rural</td></tr>\n",
              "\t<tr><td>No </td><td>No </td><td>55</td><td>No </td><td>59162 </td><td>Yes</td><td>Yes</td><td>Male  </td><td>College or beyond</td><td>25</td><td>Commercial</td><td>17600</td><td>7 </td><td>Yes</td><td>Yes</td><td>Yes</td><td>Yes</td><td>9 </td><td>Urban</td></tr>\n",
              "\t<tr><td>Yes</td><td>No </td><td>53</td><td>No </td><td>130795</td><td>No </td><td>No </td><td>Male  </td><td>College or beyond</td><td>64</td><td>Commercial</td><td>28340</td><td>6 </td><td>Yes</td><td>No </td><td>No </td><td>Yes</td><td>10</td><td>Urban</td></tr>\n",
              "\t<tr><td>Yes</td><td>No </td><td>45</td><td>No </td><td>0     </td><td>Yes</td><td>Yes</td><td>Female</td><td>High School only </td><td>48</td><td>Private   </td><td>6000 </td><td>1 </td><td>No </td><td>No </td><td>No </td><td>Yes</td><td>5 </td><td>Urban</td></tr>\n",
              "\t<tr><td>No </td><td>No </td><td>39</td><td>Yes</td><td>51884 </td><td>Yes</td><td>No </td><td>Female</td><td>College or beyond</td><td>43</td><td>Private   </td><td>10590</td><td>6 </td><td>No </td><td>No </td><td>No </td><td>No </td><td>13</td><td>Rural</td></tr>\n",
              "\t<tr><td>No </td><td>No </td><td>42</td><td>No </td><td>59945 </td><td>Yes</td><td>Yes</td><td>Male  </td><td>College or beyond</td><td>42</td><td>Private   </td><td>14190</td><td>6 </td><td>No </td><td>No </td><td>No </td><td>No </td><td>16</td><td>Urban</td></tr>\n",
              "\t<tr><td>No </td><td>No </td><td>34</td><td>Yes</td><td>34019 </td><td>Yes</td><td>Yes</td><td>Female</td><td>College or beyond</td><td>27</td><td>Private   </td><td>8300 </td><td>7 </td><td>No </td><td>No </td><td>No </td><td>No </td><td>20</td><td>Urban</td></tr>\n",
              "\t<tr><td>No </td><td>No </td><td>31</td><td>Yes</td><td>18903 </td><td>Yes</td><td>Yes</td><td>Female</td><td>High School only </td><td>48</td><td>Private   </td><td>17330</td><td>4 </td><td>No </td><td>No </td><td>No </td><td>No </td><td>7 </td><td>Urban</td></tr>\n",
              "\t<tr><td>Yes</td><td>No </td><td>28</td><td>Yes</td><td>44077 </td><td>Yes</td><td>Yes</td><td>Female</td><td>High School only </td><td>29</td><td>Commercial</td><td>8710 </td><td>6 </td><td>No </td><td>Yes</td><td>No </td><td>No </td><td>1 </td><td>Urban</td></tr>\n",
              "\t<tr><td>Yes</td><td>No </td><td>43</td><td>No </td><td>37214 </td><td>No </td><td>Yes</td><td>Male  </td><td>High School only </td><td>52</td><td>Commercial</td><td>26560</td><td>1 </td><td>Yes</td><td>No </td><td>No </td><td>Yes</td><td>1 </td><td>Urban</td></tr>\n",
              "\t<tr><td>No </td><td>No </td><td>48</td><td>No </td><td>96274 </td><td>Yes</td><td>Yes</td><td>Female</td><td>College or beyond</td><td>36</td><td>Private   </td><td>11130</td><td>6 </td><td>No </td><td>Yes</td><td>No </td><td>Yes</td><td>14</td><td>Urban</td></tr>\n",
              "\t<tr><td>No </td><td>No </td><td>47</td><td>No </td><td>46281 </td><td>No </td><td>No </td><td>Female</td><td>High School only </td><td>29</td><td>Private   </td><td>19700</td><td>10</td><td>No </td><td>No </td><td>No </td><td>Yes</td><td>5 </td><td>Urban</td></tr>\n",
              "\t<tr><td>No </td><td>Yes</td><td>44</td><td>Yes</td><td>0     </td><td>Yes</td><td>Yes</td><td>Female</td><td>High School only </td><td>8 </td><td>Private   </td><td>5900 </td><td>6 </td><td>No </td><td>Yes</td><td>No </td><td>No </td><td>11</td><td>Urban</td></tr>\n",
              "\t<tr><td>No </td><td>No </td><td>33</td><td>Yes</td><td>79606 </td><td>Yes</td><td>Yes</td><td>Female</td><td>College or beyond</td><td>27</td><td>Private   </td><td>16830</td><td>9 </td><td>No </td><td>No </td><td>No </td><td>Yes</td><td>15</td><td>Rural</td></tr>\n",
              "\t<tr><td>Yes</td><td>No </td><td>32</td><td>Yes</td><td>31275 </td><td>Yes</td><td>Yes</td><td>Female</td><td>High School only </td><td>26</td><td>Private   </td><td>10030</td><td>1 </td><td>No </td><td>No </td><td>No </td><td>No </td><td>1 </td><td>Urban</td></tr>\n",
              "\t<tr><td>No </td><td>Yes</td><td>44</td><td>Yes</td><td>45488 </td><td>Yes</td><td>Yes</td><td>Male  </td><td>College or beyond</td><td>16</td><td>Private   </td><td>22090</td><td>17</td><td>No </td><td>No </td><td>No </td><td>No </td><td>12</td><td>Urban</td></tr>\n",
              "\t<tr><td>No </td><td>No </td><td>35</td><td>No </td><td>72193 </td><td>No </td><td>No </td><td>Female</td><td>College or beyond</td><td>26</td><td>Private   </td><td>12220</td><td>6 </td><td>No </td><td>No </td><td>No </td><td>Yes</td><td>12</td><td>Urban</td></tr>\n",
              "\t<tr><td>No </td><td>No </td><td>49</td><td>No </td><td>49244 </td><td>Yes</td><td>Yes</td><td>Male  </td><td>College or beyond</td><td>30</td><td>Private   </td><td>15880</td><td>1 </td><td>No </td><td>No </td><td>No </td><td>Yes</td><td>1 </td><td>Urban</td></tr>\n",
              "\t<tr><td>No </td><td>No </td><td>52</td><td>No </td><td>51278 </td><td>Yes</td><td>Yes</td><td>Female</td><td>College or beyond</td><td>37</td><td>Private   </td><td>1500 </td><td>4 </td><td>No </td><td>No </td><td>No </td><td>Yes</td><td>10</td><td>Urban</td></tr>\n",
              "\t<tr><td>No </td><td>No </td><td>41</td><td>No </td><td>92842 </td><td>Yes</td><td>No </td><td>Male  </td><td>College or beyond</td><td>12</td><td>Commercial</td><td>25810</td><td>6 </td><td>No </td><td>Yes</td><td>No </td><td>Yes</td><td>15</td><td>Urban</td></tr>\n",
              "\t<tr><td>⋮</td><td>⋮</td><td>⋮</td><td>⋮</td><td>⋮</td><td>⋮</td><td>⋮</td><td>⋮</td><td>⋮</td><td>⋮</td><td>⋮</td><td>⋮</td><td>⋮</td><td>⋮</td><td>⋮</td><td>⋮</td><td>⋮</td><td>⋮</td><td>⋮</td></tr>\n",
              "\t<tr><td>Yes</td><td>Yes</td><td>46</td><td>No </td><td>35362 </td><td>No </td><td>No </td><td>Male  </td><td>High School only </td><td>42</td><td>Commercial</td><td>17970</td><td>11</td><td>No </td><td>Yes</td><td>Yes</td><td>Yes</td><td>7 </td><td>Urban</td></tr>\n",
              "\t<tr><td>No </td><td>No </td><td>56</td><td>No </td><td>52130 </td><td>Yes</td><td>Yes</td><td>Female</td><td>High School only </td><td>23</td><td>Commercial</td><td>12310</td><td>3 </td><td>No </td><td>Yes</td><td>No </td><td>Yes</td><td>4 </td><td>Urban</td></tr>\n",
              "\t<tr><td>Yes</td><td>No </td><td>47</td><td>No </td><td>112264</td><td>No </td><td>No </td><td>Male  </td><td>College or beyond</td><td>44</td><td>Commercial</td><td>24020</td><td>1 </td><td>Yes</td><td>Yes</td><td>Yes</td><td>Yes</td><td>20</td><td>Urban</td></tr>\n",
              "\t<tr><td>Yes</td><td>No </td><td>47</td><td>No </td><td>282198</td><td>Yes</td><td>No </td><td>Male  </td><td>College or beyond</td><td>32</td><td>Commercial</td><td>34420</td><td>11</td><td>Yes</td><td>No </td><td>Yes</td><td>Yes</td><td>16</td><td>Urban</td></tr>\n",
              "\t<tr><td>Yes</td><td>No </td><td>43</td><td>No </td><td>0     </td><td>Yes</td><td>Yes</td><td>Female</td><td>College or beyond</td><td>29</td><td>Private   </td><td>24030</td><td>9 </td><td>No </td><td>Yes</td><td>No </td><td>No </td><td>14</td><td>Urban</td></tr>\n",
              "\t<tr><td>No </td><td>Yes</td><td>45</td><td>Yes</td><td>1956  </td><td>No </td><td>No </td><td>Female</td><td>High School only </td><td>47</td><td>Private   </td><td>8350 </td><td>1 </td><td>No </td><td>No </td><td>No </td><td>No </td><td>1 </td><td>Rural</td></tr>\n",
              "\t<tr><td>Yes</td><td>No </td><td>46</td><td>No </td><td>68360 </td><td>Yes</td><td>No </td><td>Male  </td><td>College or beyond</td><td>49</td><td>Commercial</td><td>12940</td><td>1 </td><td>No </td><td>Yes</td><td>No </td><td>Yes</td><td>11</td><td>Urban</td></tr>\n",
              "\t<tr><td>No </td><td>Yes</td><td>46</td><td>No </td><td>84667 </td><td>Yes</td><td>Yes</td><td>Female</td><td>College or beyond</td><td>56</td><td>Commercial</td><td>35050</td><td>1 </td><td>No </td><td>No </td><td>No </td><td>No </td><td>7 </td><td>Urban</td></tr>\n",
              "\t<tr><td>No </td><td>No </td><td>48</td><td>No </td><td>66613 </td><td>Yes</td><td>Yes</td><td>Female</td><td>College or beyond</td><td>5 </td><td>Commercial</td><td>16340</td><td>6 </td><td>No </td><td>No </td><td>No </td><td>No </td><td>5 </td><td>Rural</td></tr>\n",
              "\t<tr><td>No </td><td>No </td><td>56</td><td>No </td><td>12917 </td><td>No </td><td>No </td><td>Female</td><td>College or beyond</td><td>45</td><td>Commercial</td><td>2790 </td><td>4 </td><td>No </td><td>No </td><td>No </td><td>No </td><td>12</td><td>Urban</td></tr>\n",
              "\t<tr><td>No </td><td>No </td><td>35</td><td>No </td><td>64890 </td><td>No </td><td>No </td><td>Female</td><td>College or beyond</td><td>36</td><td>Private   </td><td>7990 </td><td>8 </td><td>No </td><td>No </td><td>No </td><td>Yes</td><td>12</td><td>Urban</td></tr>\n",
              "\t<tr><td>No </td><td>No </td><td>49</td><td>No </td><td>60049 </td><td>Yes</td><td>No </td><td>Female</td><td>High School only </td><td>21</td><td>Private   </td><td>6200 </td><td>1 </td><td>No </td><td>No </td><td>No </td><td>No </td><td>1 </td><td>Rural</td></tr>\n",
              "\t<tr><td>No </td><td>No </td><td>42</td><td>No </td><td>80078 </td><td>Yes</td><td>Yes</td><td>Female</td><td>College or beyond</td><td>24</td><td>Private   </td><td>20640</td><td>1 </td><td>No </td><td>No </td><td>No </td><td>Yes</td><td>16</td><td>Urban</td></tr>\n",
              "\t<tr><td>No </td><td>No </td><td>36</td><td>Yes</td><td>131335</td><td>Yes</td><td>No </td><td>Female</td><td>College or beyond</td><td>10</td><td>Private   </td><td>28490</td><td>1 </td><td>No </td><td>No </td><td>No </td><td>No </td><td>4 </td><td>Rural</td></tr>\n",
              "\t<tr><td>No </td><td>No </td><td>38</td><td>Yes</td><td>83458 </td><td>Yes</td><td>No </td><td>Female</td><td>College or beyond</td><td>23</td><td>Private   </td><td>28260</td><td>6 </td><td>No </td><td>Yes</td><td>No </td><td>Yes</td><td>9 </td><td>Urban</td></tr>\n",
              "\t<tr><td>Yes</td><td>No </td><td>41</td><td>No </td><td>92185 </td><td>Yes</td><td>Yes</td><td>Male  </td><td>High School only </td><td>24</td><td>Private   </td><td>1500 </td><td>11</td><td>Yes</td><td>No </td><td>No </td><td>No </td><td>10</td><td>Urban</td></tr>\n",
              "\t<tr><td>No </td><td>No </td><td>60</td><td>No </td><td>19796 </td><td>Yes</td><td>No </td><td>Female</td><td>College or beyond</td><td>33</td><td>Private   </td><td>21690</td><td>1 </td><td>No </td><td>Yes</td><td>No </td><td>Yes</td><td>1 </td><td>Urban</td></tr>\n",
              "\t<tr><td>Yes</td><td>No </td><td>45</td><td>No </td><td>52966 </td><td>No </td><td>No </td><td>Male  </td><td>High School only </td><td>16</td><td>Commercial</td><td>11300</td><td>6 </td><td>Yes</td><td>Yes</td><td>Yes</td><td>Yes</td><td>1 </td><td>Urban</td></tr>\n",
              "\t<tr><td>No </td><td>No </td><td>54</td><td>No </td><td>69111 </td><td>Yes</td><td>Yes</td><td>Male  </td><td>High School only </td><td>38</td><td>Commercial</td><td>16510</td><td>1 </td><td>Yes</td><td>Yes</td><td>No </td><td>Yes</td><td>1 </td><td>Urban</td></tr>\n",
              "\t<tr><td>No </td><td>No </td><td>54</td><td>No </td><td>62060 </td><td>Yes</td><td>Yes</td><td>Male  </td><td>High School only </td><td>51</td><td>Private   </td><td>1500 </td><td>6 </td><td>No </td><td>No </td><td>No </td><td>Yes</td><td>1 </td><td>Urban</td></tr>\n",
              "\t<tr><td>No </td><td>No </td><td>54</td><td>No </td><td>81818 </td><td>Yes</td><td>Yes</td><td>Male  </td><td>College or beyond</td><td>18</td><td>Commercial</td><td>19660</td><td>1 </td><td>No </td><td>Yes</td><td>Yes</td><td>Yes</td><td>4 </td><td>Urban</td></tr>\n",
              "\t<tr><td>No </td><td>Yes</td><td>46</td><td>No </td><td>45018 </td><td>No </td><td>No </td><td>Male  </td><td>High School only </td><td>26</td><td>Private   </td><td>15060</td><td>4 </td><td>No </td><td>Yes</td><td>No </td><td>No </td><td>1 </td><td>Rural</td></tr>\n",
              "\t<tr><td>No </td><td>No </td><td>48</td><td>No </td><td>111305</td><td>No </td><td>No </td><td>Female</td><td>College or beyond</td><td>59</td><td>Private   </td><td>17430</td><td>13</td><td>No </td><td>No </td><td>No </td><td>Yes</td><td>18</td><td>Urban</td></tr>\n",
              "\t<tr><td>No </td><td>Yes</td><td>38</td><td>Yes</td><td>12717 </td><td>No </td><td>Yes</td><td>Female</td><td>College or beyond</td><td>15</td><td>Commercial</td><td>24740</td><td>1 </td><td>No </td><td>Yes</td><td>No </td><td>Yes</td><td>15</td><td>Urban</td></tr>\n",
              "\t<tr><td>No </td><td>No </td><td>41</td><td>No </td><td>6256  </td><td>No </td><td>No </td><td>Male  </td><td>High School only </td><td>41</td><td>Private   </td><td>5600 </td><td>1 </td><td>No </td><td>No </td><td>No </td><td>No </td><td>7 </td><td>Rural</td></tr>\n",
              "\t<tr><td>No </td><td>No </td><td>35</td><td>No </td><td>43112 </td><td>No </td><td>No </td><td>Male  </td><td>High School only </td><td>51</td><td>Commercial</td><td>27330</td><td>10</td><td>Yes</td><td>No </td><td>No </td><td>No </td><td>8 </td><td>Rural</td></tr>\n",
              "\t<tr><td>No </td><td>Yes</td><td>45</td><td>Yes</td><td>164669</td><td>Yes</td><td>Yes</td><td>Male  </td><td>College or beyond</td><td>21</td><td>Private   </td><td>13270</td><td>15</td><td>No </td><td>No </td><td>No </td><td>Yes</td><td>17</td><td>Urban</td></tr>\n",
              "\t<tr><td>No </td><td>No </td><td>46</td><td>No </td><td>107204</td><td>Yes</td><td>Yes</td><td>Male  </td><td>College or beyond</td><td>36</td><td>Commercial</td><td>24490</td><td>6 </td><td>No </td><td>No </td><td>No </td><td>No </td><td>1 </td><td>Urban</td></tr>\n",
              "\t<tr><td>No </td><td>No </td><td>50</td><td>No </td><td>43445 </td><td>Yes</td><td>Yes</td><td>Female</td><td>College or beyond</td><td>36</td><td>Private   </td><td>22550</td><td>6 </td><td>No </td><td>No </td><td>No </td><td>No </td><td>11</td><td>Urban</td></tr>\n",
              "\t<tr><td>No </td><td>No </td><td>52</td><td>No </td><td>53235 </td><td>Yes</td><td>Yes</td><td>Female</td><td>High School only </td><td>64</td><td>Private   </td><td>19400</td><td>6 </td><td>No </td><td>No </td><td>No </td><td>No </td><td>9 </td><td>Rural</td></tr>\n",
              "</tbody>\n",
              "</table>\n"
            ],
            "text/markdown": "\nA data.frame: 7232 × 19\n\n| CLAIM &lt;fct&gt; | KIDSDRIV &lt;fct&gt; | AGE &lt;fct&gt; | HOMEKIDS &lt;fct&gt; | INCOME &lt;fct&gt; | HOMEOWN &lt;fct&gt; | MSTATUS &lt;fct&gt; | GENDER &lt;fct&gt; | EDUCATION &lt;fct&gt; | TRAVTIME &lt;fct&gt; | CAR_USE &lt;fct&gt; | BLUEBOOK &lt;fct&gt; | TWC &lt;fct&gt; | RED_CAR &lt;fct&gt; | CLM_BEF &lt;fct&gt; | REVOKED &lt;fct&gt; | MVR_PTS &lt;fct&gt; | CAR_AGE &lt;fct&gt; | URBANICITY &lt;fct&gt; |\n|---|---|---|---|---|---|---|---|---|---|---|---|---|---|---|---|---|---|---|\n| No  | No  | 60 | No  | 67349  | No  | No  | Male   | College or beyond | 14 | Private    | 14230 | 11 | Yes | Yes | No  | Yes | 18 | Urban |\n| No  | No  | 43 | No  | 91449  | Yes | No  | Male   | High School only  | 22 | Commercial | 14940 | 1  | Yes | No  | No  | No  | 1  | Urban |\n| No  | No  | 35 | Yes | 16039  | Yes | Yes | Female | High School only  | 5  | Private    | 4010  | 4  | No  | Yes | No  | Yes | 10 | Urban |\n| No  | No  | 50 | No  | 114986 | Yes | Yes | Female | College or beyond | 36 | Private    | 18000 | 1  | No  | Yes | Yes | Yes | 17 | Urban |\n| Yes | No  | 34 | Yes | 125301 | No  | No  | Female | College or beyond | 46 | Commercial | 17430 | 1  | No  | No  | No  | No  | 7  | Urban |\n| No  | No  | 54 | No  | 18755  | No  | Yes | Female | High School only  | 33 | Private    | 8780  | 1  | No  | No  | No  | No  | 1  | Urban |\n| Yes | Yes | 37 | Yes | 107961 | Yes | Yes | Male   | College or beyond | 44 | Commercial | 16970 | 1  | Yes | Yes | Yes | Yes | 7  | Urban |\n| Yes | No  | 34 | No  | 62978  | No  | No  | Female | College or beyond | 34 | Private    | 11200 | 1  | No  | No  | No  | No  | 1  | Urban |\n| No  | No  | 50 | No  | 106952 | No  | No  | Male   | College or beyond | 48 | Commercial | 18510 | 7  | No  | No  | No  | Yes | 17 | Rural |\n| Yes | No  | 53 | No  | 77100  | No  | No  | Female | College or beyond | 15 | Private    | 18300 | 1  | No  | No  | No  | No  | 11 | Urban |\n| No  | No  | 43 | No  | 52642  | Yes | Yes | Female | College or beyond | 36 | Private    | 22420 | 7  | No  | No  | No  | No  | 1  | Rural |\n| No  | No  | 55 | No  | 59162  | Yes | Yes | Male   | College or beyond | 25 | Commercial | 17600 | 7  | Yes | Yes | Yes | Yes | 9  | Urban |\n| Yes | No  | 53 | No  | 130795 | No  | No  | Male   | College or beyond | 64 | Commercial | 28340 | 6  | Yes | No  | No  | Yes | 10 | Urban |\n| Yes | No  | 45 | No  | 0      | Yes | Yes | Female | High School only  | 48 | Private    | 6000  | 1  | No  | No  | No  | Yes | 5  | Urban |\n| No  | No  | 39 | Yes | 51884  | Yes | No  | Female | College or beyond | 43 | Private    | 10590 | 6  | No  | No  | No  | No  | 13 | Rural |\n| No  | No  | 42 | No  | 59945  | Yes | Yes | Male   | College or beyond | 42 | Private    | 14190 | 6  | No  | No  | No  | No  | 16 | Urban |\n| No  | No  | 34 | Yes | 34019  | Yes | Yes | Female | College or beyond | 27 | Private    | 8300  | 7  | No  | No  | No  | No  | 20 | Urban |\n| No  | No  | 31 | Yes | 18903  | Yes | Yes | Female | High School only  | 48 | Private    | 17330 | 4  | No  | No  | No  | No  | 7  | Urban |\n| Yes | No  | 28 | Yes | 44077  | Yes | Yes | Female | High School only  | 29 | Commercial | 8710  | 6  | No  | Yes | No  | No  | 1  | Urban |\n| Yes | No  | 43 | No  | 37214  | No  | Yes | Male   | High School only  | 52 | Commercial | 26560 | 1  | Yes | No  | No  | Yes | 1  | Urban |\n| No  | No  | 48 | No  | 96274  | Yes | Yes | Female | College or beyond | 36 | Private    | 11130 | 6  | No  | Yes | No  | Yes | 14 | Urban |\n| No  | No  | 47 | No  | 46281  | No  | No  | Female | High School only  | 29 | Private    | 19700 | 10 | No  | No  | No  | Yes | 5  | Urban |\n| No  | Yes | 44 | Yes | 0      | Yes | Yes | Female | High School only  | 8  | Private    | 5900  | 6  | No  | Yes | No  | No  | 11 | Urban |\n| No  | No  | 33 | Yes | 79606  | Yes | Yes | Female | College or beyond | 27 | Private    | 16830 | 9  | No  | No  | No  | Yes | 15 | Rural |\n| Yes | No  | 32 | Yes | 31275  | Yes | Yes | Female | High School only  | 26 | Private    | 10030 | 1  | No  | No  | No  | No  | 1  | Urban |\n| No  | Yes | 44 | Yes | 45488  | Yes | Yes | Male   | College or beyond | 16 | Private    | 22090 | 17 | No  | No  | No  | No  | 12 | Urban |\n| No  | No  | 35 | No  | 72193  | No  | No  | Female | College or beyond | 26 | Private    | 12220 | 6  | No  | No  | No  | Yes | 12 | Urban |\n| No  | No  | 49 | No  | 49244  | Yes | Yes | Male   | College or beyond | 30 | Private    | 15880 | 1  | No  | No  | No  | Yes | 1  | Urban |\n| No  | No  | 52 | No  | 51278  | Yes | Yes | Female | College or beyond | 37 | Private    | 1500  | 4  | No  | No  | No  | Yes | 10 | Urban |\n| No  | No  | 41 | No  | 92842  | Yes | No  | Male   | College or beyond | 12 | Commercial | 25810 | 6  | No  | Yes | No  | Yes | 15 | Urban |\n| ⋮ | ⋮ | ⋮ | ⋮ | ⋮ | ⋮ | ⋮ | ⋮ | ⋮ | ⋮ | ⋮ | ⋮ | ⋮ | ⋮ | ⋮ | ⋮ | ⋮ | ⋮ | ⋮ |\n| Yes | Yes | 46 | No  | 35362  | No  | No  | Male   | High School only  | 42 | Commercial | 17970 | 11 | No  | Yes | Yes | Yes | 7  | Urban |\n| No  | No  | 56 | No  | 52130  | Yes | Yes | Female | High School only  | 23 | Commercial | 12310 | 3  | No  | Yes | No  | Yes | 4  | Urban |\n| Yes | No  | 47 | No  | 112264 | No  | No  | Male   | College or beyond | 44 | Commercial | 24020 | 1  | Yes | Yes | Yes | Yes | 20 | Urban |\n| Yes | No  | 47 | No  | 282198 | Yes | No  | Male   | College or beyond | 32 | Commercial | 34420 | 11 | Yes | No  | Yes | Yes | 16 | Urban |\n| Yes | No  | 43 | No  | 0      | Yes | Yes | Female | College or beyond | 29 | Private    | 24030 | 9  | No  | Yes | No  | No  | 14 | Urban |\n| No  | Yes | 45 | Yes | 1956   | No  | No  | Female | High School only  | 47 | Private    | 8350  | 1  | No  | No  | No  | No  | 1  | Rural |\n| Yes | No  | 46 | No  | 68360  | Yes | No  | Male   | College or beyond | 49 | Commercial | 12940 | 1  | No  | Yes | No  | Yes | 11 | Urban |\n| No  | Yes | 46 | No  | 84667  | Yes | Yes | Female | College or beyond | 56 | Commercial | 35050 | 1  | No  | No  | No  | No  | 7  | Urban |\n| No  | No  | 48 | No  | 66613  | Yes | Yes | Female | College or beyond | 5  | Commercial | 16340 | 6  | No  | No  | No  | No  | 5  | Rural |\n| No  | No  | 56 | No  | 12917  | No  | No  | Female | College or beyond | 45 | Commercial | 2790  | 4  | No  | No  | No  | No  | 12 | Urban |\n| No  | No  | 35 | No  | 64890  | No  | No  | Female | College or beyond | 36 | Private    | 7990  | 8  | No  | No  | No  | Yes | 12 | Urban |\n| No  | No  | 49 | No  | 60049  | Yes | No  | Female | High School only  | 21 | Private    | 6200  | 1  | No  | No  | No  | No  | 1  | Rural |\n| No  | No  | 42 | No  | 80078  | Yes | Yes | Female | College or beyond | 24 | Private    | 20640 | 1  | No  | No  | No  | Yes | 16 | Urban |\n| No  | No  | 36 | Yes | 131335 | Yes | No  | Female | College or beyond | 10 | Private    | 28490 | 1  | No  | No  | No  | No  | 4  | Rural |\n| No  | No  | 38 | Yes | 83458  | Yes | No  | Female | College or beyond | 23 | Private    | 28260 | 6  | No  | Yes | No  | Yes | 9  | Urban |\n| Yes | No  | 41 | No  | 92185  | Yes | Yes | Male   | High School only  | 24 | Private    | 1500  | 11 | Yes | No  | No  | No  | 10 | Urban |\n| No  | No  | 60 | No  | 19796  | Yes | No  | Female | College or beyond | 33 | Private    | 21690 | 1  | No  | Yes | No  | Yes | 1  | Urban |\n| Yes | No  | 45 | No  | 52966  | No  | No  | Male   | High School only  | 16 | Commercial | 11300 | 6  | Yes | Yes | Yes | Yes | 1  | Urban |\n| No  | No  | 54 | No  | 69111  | Yes | Yes | Male   | High School only  | 38 | Commercial | 16510 | 1  | Yes | Yes | No  | Yes | 1  | Urban |\n| No  | No  | 54 | No  | 62060  | Yes | Yes | Male   | High School only  | 51 | Private    | 1500  | 6  | No  | No  | No  | Yes | 1  | Urban |\n| No  | No  | 54 | No  | 81818  | Yes | Yes | Male   | College or beyond | 18 | Commercial | 19660 | 1  | No  | Yes | Yes | Yes | 4  | Urban |\n| No  | Yes | 46 | No  | 45018  | No  | No  | Male   | High School only  | 26 | Private    | 15060 | 4  | No  | Yes | No  | No  | 1  | Rural |\n| No  | No  | 48 | No  | 111305 | No  | No  | Female | College or beyond | 59 | Private    | 17430 | 13 | No  | No  | No  | Yes | 18 | Urban |\n| No  | Yes | 38 | Yes | 12717  | No  | Yes | Female | College or beyond | 15 | Commercial | 24740 | 1  | No  | Yes | No  | Yes | 15 | Urban |\n| No  | No  | 41 | No  | 6256   | No  | No  | Male   | High School only  | 41 | Private    | 5600  | 1  | No  | No  | No  | No  | 7  | Rural |\n| No  | No  | 35 | No  | 43112  | No  | No  | Male   | High School only  | 51 | Commercial | 27330 | 10 | Yes | No  | No  | No  | 8  | Rural |\n| No  | Yes | 45 | Yes | 164669 | Yes | Yes | Male   | College or beyond | 21 | Private    | 13270 | 15 | No  | No  | No  | Yes | 17 | Urban |\n| No  | No  | 46 | No  | 107204 | Yes | Yes | Male   | College or beyond | 36 | Commercial | 24490 | 6  | No  | No  | No  | No  | 1  | Urban |\n| No  | No  | 50 | No  | 43445  | Yes | Yes | Female | College or beyond | 36 | Private    | 22550 | 6  | No  | No  | No  | No  | 11 | Urban |\n| No  | No  | 52 | No  | 53235  | Yes | Yes | Female | High School only  | 64 | Private    | 19400 | 6  | No  | No  | No  | No  | 9  | Rural |\n\n",
            "text/latex": "A data.frame: 7232 × 19\n\\begin{tabular}{lllllllllllllllllll}\n CLAIM & KIDSDRIV & AGE & HOMEKIDS & INCOME & HOMEOWN & MSTATUS & GENDER & EDUCATION & TRAVTIME & CAR\\_USE & BLUEBOOK & TWC & RED\\_CAR & CLM\\_BEF & REVOKED & MVR\\_PTS & CAR\\_AGE & URBANICITY\\\\\n <fct> & <fct> & <fct> & <fct> & <fct> & <fct> & <fct> & <fct> & <fct> & <fct> & <fct> & <fct> & <fct> & <fct> & <fct> & <fct> & <fct> & <fct> & <fct>\\\\\n\\hline\n\t No  & No  & 60 & No  & 67349  & No  & No  & Male   & College or beyond & 14 & Private    & 14230 & 11 & Yes & Yes & No  & Yes & 18 & Urban\\\\\n\t No  & No  & 43 & No  & 91449  & Yes & No  & Male   & High School only  & 22 & Commercial & 14940 & 1  & Yes & No  & No  & No  & 1  & Urban\\\\\n\t No  & No  & 35 & Yes & 16039  & Yes & Yes & Female & High School only  & 5  & Private    & 4010  & 4  & No  & Yes & No  & Yes & 10 & Urban\\\\\n\t No  & No  & 50 & No  & 114986 & Yes & Yes & Female & College or beyond & 36 & Private    & 18000 & 1  & No  & Yes & Yes & Yes & 17 & Urban\\\\\n\t Yes & No  & 34 & Yes & 125301 & No  & No  & Female & College or beyond & 46 & Commercial & 17430 & 1  & No  & No  & No  & No  & 7  & Urban\\\\\n\t No  & No  & 54 & No  & 18755  & No  & Yes & Female & High School only  & 33 & Private    & 8780  & 1  & No  & No  & No  & No  & 1  & Urban\\\\\n\t Yes & Yes & 37 & Yes & 107961 & Yes & Yes & Male   & College or beyond & 44 & Commercial & 16970 & 1  & Yes & Yes & Yes & Yes & 7  & Urban\\\\\n\t Yes & No  & 34 & No  & 62978  & No  & No  & Female & College or beyond & 34 & Private    & 11200 & 1  & No  & No  & No  & No  & 1  & Urban\\\\\n\t No  & No  & 50 & No  & 106952 & No  & No  & Male   & College or beyond & 48 & Commercial & 18510 & 7  & No  & No  & No  & Yes & 17 & Rural\\\\\n\t Yes & No  & 53 & No  & 77100  & No  & No  & Female & College or beyond & 15 & Private    & 18300 & 1  & No  & No  & No  & No  & 11 & Urban\\\\\n\t No  & No  & 43 & No  & 52642  & Yes & Yes & Female & College or beyond & 36 & Private    & 22420 & 7  & No  & No  & No  & No  & 1  & Rural\\\\\n\t No  & No  & 55 & No  & 59162  & Yes & Yes & Male   & College or beyond & 25 & Commercial & 17600 & 7  & Yes & Yes & Yes & Yes & 9  & Urban\\\\\n\t Yes & No  & 53 & No  & 130795 & No  & No  & Male   & College or beyond & 64 & Commercial & 28340 & 6  & Yes & No  & No  & Yes & 10 & Urban\\\\\n\t Yes & No  & 45 & No  & 0      & Yes & Yes & Female & High School only  & 48 & Private    & 6000  & 1  & No  & No  & No  & Yes & 5  & Urban\\\\\n\t No  & No  & 39 & Yes & 51884  & Yes & No  & Female & College or beyond & 43 & Private    & 10590 & 6  & No  & No  & No  & No  & 13 & Rural\\\\\n\t No  & No  & 42 & No  & 59945  & Yes & Yes & Male   & College or beyond & 42 & Private    & 14190 & 6  & No  & No  & No  & No  & 16 & Urban\\\\\n\t No  & No  & 34 & Yes & 34019  & Yes & Yes & Female & College or beyond & 27 & Private    & 8300  & 7  & No  & No  & No  & No  & 20 & Urban\\\\\n\t No  & No  & 31 & Yes & 18903  & Yes & Yes & Female & High School only  & 48 & Private    & 17330 & 4  & No  & No  & No  & No  & 7  & Urban\\\\\n\t Yes & No  & 28 & Yes & 44077  & Yes & Yes & Female & High School only  & 29 & Commercial & 8710  & 6  & No  & Yes & No  & No  & 1  & Urban\\\\\n\t Yes & No  & 43 & No  & 37214  & No  & Yes & Male   & High School only  & 52 & Commercial & 26560 & 1  & Yes & No  & No  & Yes & 1  & Urban\\\\\n\t No  & No  & 48 & No  & 96274  & Yes & Yes & Female & College or beyond & 36 & Private    & 11130 & 6  & No  & Yes & No  & Yes & 14 & Urban\\\\\n\t No  & No  & 47 & No  & 46281  & No  & No  & Female & High School only  & 29 & Private    & 19700 & 10 & No  & No  & No  & Yes & 5  & Urban\\\\\n\t No  & Yes & 44 & Yes & 0      & Yes & Yes & Female & High School only  & 8  & Private    & 5900  & 6  & No  & Yes & No  & No  & 11 & Urban\\\\\n\t No  & No  & 33 & Yes & 79606  & Yes & Yes & Female & College or beyond & 27 & Private    & 16830 & 9  & No  & No  & No  & Yes & 15 & Rural\\\\\n\t Yes & No  & 32 & Yes & 31275  & Yes & Yes & Female & High School only  & 26 & Private    & 10030 & 1  & No  & No  & No  & No  & 1  & Urban\\\\\n\t No  & Yes & 44 & Yes & 45488  & Yes & Yes & Male   & College or beyond & 16 & Private    & 22090 & 17 & No  & No  & No  & No  & 12 & Urban\\\\\n\t No  & No  & 35 & No  & 72193  & No  & No  & Female & College or beyond & 26 & Private    & 12220 & 6  & No  & No  & No  & Yes & 12 & Urban\\\\\n\t No  & No  & 49 & No  & 49244  & Yes & Yes & Male   & College or beyond & 30 & Private    & 15880 & 1  & No  & No  & No  & Yes & 1  & Urban\\\\\n\t No  & No  & 52 & No  & 51278  & Yes & Yes & Female & College or beyond & 37 & Private    & 1500  & 4  & No  & No  & No  & Yes & 10 & Urban\\\\\n\t No  & No  & 41 & No  & 92842  & Yes & No  & Male   & College or beyond & 12 & Commercial & 25810 & 6  & No  & Yes & No  & Yes & 15 & Urban\\\\\n\t ⋮ & ⋮ & ⋮ & ⋮ & ⋮ & ⋮ & ⋮ & ⋮ & ⋮ & ⋮ & ⋮ & ⋮ & ⋮ & ⋮ & ⋮ & ⋮ & ⋮ & ⋮ & ⋮\\\\\n\t Yes & Yes & 46 & No  & 35362  & No  & No  & Male   & High School only  & 42 & Commercial & 17970 & 11 & No  & Yes & Yes & Yes & 7  & Urban\\\\\n\t No  & No  & 56 & No  & 52130  & Yes & Yes & Female & High School only  & 23 & Commercial & 12310 & 3  & No  & Yes & No  & Yes & 4  & Urban\\\\\n\t Yes & No  & 47 & No  & 112264 & No  & No  & Male   & College or beyond & 44 & Commercial & 24020 & 1  & Yes & Yes & Yes & Yes & 20 & Urban\\\\\n\t Yes & No  & 47 & No  & 282198 & Yes & No  & Male   & College or beyond & 32 & Commercial & 34420 & 11 & Yes & No  & Yes & Yes & 16 & Urban\\\\\n\t Yes & No  & 43 & No  & 0      & Yes & Yes & Female & College or beyond & 29 & Private    & 24030 & 9  & No  & Yes & No  & No  & 14 & Urban\\\\\n\t No  & Yes & 45 & Yes & 1956   & No  & No  & Female & High School only  & 47 & Private    & 8350  & 1  & No  & No  & No  & No  & 1  & Rural\\\\\n\t Yes & No  & 46 & No  & 68360  & Yes & No  & Male   & College or beyond & 49 & Commercial & 12940 & 1  & No  & Yes & No  & Yes & 11 & Urban\\\\\n\t No  & Yes & 46 & No  & 84667  & Yes & Yes & Female & College or beyond & 56 & Commercial & 35050 & 1  & No  & No  & No  & No  & 7  & Urban\\\\\n\t No  & No  & 48 & No  & 66613  & Yes & Yes & Female & College or beyond & 5  & Commercial & 16340 & 6  & No  & No  & No  & No  & 5  & Rural\\\\\n\t No  & No  & 56 & No  & 12917  & No  & No  & Female & College or beyond & 45 & Commercial & 2790  & 4  & No  & No  & No  & No  & 12 & Urban\\\\\n\t No  & No  & 35 & No  & 64890  & No  & No  & Female & College or beyond & 36 & Private    & 7990  & 8  & No  & No  & No  & Yes & 12 & Urban\\\\\n\t No  & No  & 49 & No  & 60049  & Yes & No  & Female & High School only  & 21 & Private    & 6200  & 1  & No  & No  & No  & No  & 1  & Rural\\\\\n\t No  & No  & 42 & No  & 80078  & Yes & Yes & Female & College or beyond & 24 & Private    & 20640 & 1  & No  & No  & No  & Yes & 16 & Urban\\\\\n\t No  & No  & 36 & Yes & 131335 & Yes & No  & Female & College or beyond & 10 & Private    & 28490 & 1  & No  & No  & No  & No  & 4  & Rural\\\\\n\t No  & No  & 38 & Yes & 83458  & Yes & No  & Female & College or beyond & 23 & Private    & 28260 & 6  & No  & Yes & No  & Yes & 9  & Urban\\\\\n\t Yes & No  & 41 & No  & 92185  & Yes & Yes & Male   & High School only  & 24 & Private    & 1500  & 11 & Yes & No  & No  & No  & 10 & Urban\\\\\n\t No  & No  & 60 & No  & 19796  & Yes & No  & Female & College or beyond & 33 & Private    & 21690 & 1  & No  & Yes & No  & Yes & 1  & Urban\\\\\n\t Yes & No  & 45 & No  & 52966  & No  & No  & Male   & High School only  & 16 & Commercial & 11300 & 6  & Yes & Yes & Yes & Yes & 1  & Urban\\\\\n\t No  & No  & 54 & No  & 69111  & Yes & Yes & Male   & High School only  & 38 & Commercial & 16510 & 1  & Yes & Yes & No  & Yes & 1  & Urban\\\\\n\t No  & No  & 54 & No  & 62060  & Yes & Yes & Male   & High School only  & 51 & Private    & 1500  & 6  & No  & No  & No  & Yes & 1  & Urban\\\\\n\t No  & No  & 54 & No  & 81818  & Yes & Yes & Male   & College or beyond & 18 & Commercial & 19660 & 1  & No  & Yes & Yes & Yes & 4  & Urban\\\\\n\t No  & Yes & 46 & No  & 45018  & No  & No  & Male   & High School only  & 26 & Private    & 15060 & 4  & No  & Yes & No  & No  & 1  & Rural\\\\\n\t No  & No  & 48 & No  & 111305 & No  & No  & Female & College or beyond & 59 & Private    & 17430 & 13 & No  & No  & No  & Yes & 18 & Urban\\\\\n\t No  & Yes & 38 & Yes & 12717  & No  & Yes & Female & College or beyond & 15 & Commercial & 24740 & 1  & No  & Yes & No  & Yes & 15 & Urban\\\\\n\t No  & No  & 41 & No  & 6256   & No  & No  & Male   & High School only  & 41 & Private    & 5600  & 1  & No  & No  & No  & No  & 7  & Rural\\\\\n\t No  & No  & 35 & No  & 43112  & No  & No  & Male   & High School only  & 51 & Commercial & 27330 & 10 & Yes & No  & No  & No  & 8  & Rural\\\\\n\t No  & Yes & 45 & Yes & 164669 & Yes & Yes & Male   & College or beyond & 21 & Private    & 13270 & 15 & No  & No  & No  & Yes & 17 & Urban\\\\\n\t No  & No  & 46 & No  & 107204 & Yes & Yes & Male   & College or beyond & 36 & Commercial & 24490 & 6  & No  & No  & No  & No  & 1  & Urban\\\\\n\t No  & No  & 50 & No  & 43445  & Yes & Yes & Female & College or beyond & 36 & Private    & 22550 & 6  & No  & No  & No  & No  & 11 & Urban\\\\\n\t No  & No  & 52 & No  & 53235  & Yes & Yes & Female & High School only  & 64 & Private    & 19400 & 6  & No  & No  & No  & No  & 9  & Rural\\\\\n\\end{tabular}\n"
          },
          "metadata": {}
        }
      ]
    },
    {
      "cell_type": "code",
      "source": [
        "#check for missing data\n",
        "sum(is.na(insurancedf))"
      ],
      "metadata": {
        "colab": {
          "base_uri": "https://localhost:8080/",
          "height": 34
        },
        "id": "uO1wZ7Kd4ChC",
        "outputId": "13520117-2bed-42a2-a548-62eac70ab745"
      },
      "execution_count": null,
      "outputs": [
        {
          "output_type": "display_data",
          "data": {
            "text/html": [
              "0"
            ],
            "text/markdown": "0",
            "text/latex": "0",
            "text/plain": [
              "[1] 0"
            ]
          },
          "metadata": {}
        }
      ]
    },
    {
      "cell_type": "code",
      "source": [
        "#generate summary statistics for all variables in dataframe\n",
        "summary(insurancedf)"
      ],
      "metadata": {
        "colab": {
          "base_uri": "https://localhost:8080/",
          "height": 572
        },
        "id": "LRqpwh-H4FPx",
        "outputId": "9a180fb3-b49a-42e6-b899-1a44b4dc330c"
      },
      "execution_count": null,
      "outputs": [
        {
          "output_type": "display_data",
          "data": {
            "text/plain": [
              " CLAIM      KIDSDRIV        AGE       HOMEKIDS       INCOME     HOMEOWN   \n",
              " No :5324   No :6372   46     : 347   No :4684   0      : 570   No :2436  \n",
              " Yes:1908   Yes: 860   45     : 338   Yes:2548   26840  :   4   Yes:4796  \n",
              "                       48     : 323              48509  :   4             \n",
              "                       47     : 316              61790  :   4             \n",
              "                       44     : 307              6607   :   3             \n",
              "                       43     : 300              17398  :   3             \n",
              "                       (Other):5301              (Other):6644             \n",
              " MSTATUS       GENDER                 EDUCATION       TRAVTIME   \n",
              " No :2908   Male  :3352   High School only :3140   5      : 283  \n",
              " Yes:4324   Female:3880   College or beyond:4092   30     : 196  \n",
              "                                                   35     : 193  \n",
              "                                                   36     : 191  \n",
              "                                                   25     : 188  \n",
              "                                                   29     : 187  \n",
              "                                                   (Other):5994  \n",
              "       CAR_USE        BLUEBOOK         TWC       RED_CAR    CLM_BEF   \n",
              " Private   :4535   1500   : 132   1      :2238   No :5132   No :4448  \n",
              " Commercial:2697   6000   :  31   6      :1185   Yes:2100   Yes:2784  \n",
              "                   6400   :  31   4      :1090                        \n",
              "                   6200   :  30   10     : 682                        \n",
              "                   5800   :  28   7      : 563                        \n",
              "                   5900   :  27   3      : 383                        \n",
              "                   (Other):6953   (Other):1091                        \n",
              " REVOKED    MVR_PTS       CAR_AGE     URBANICITY  \n",
              " No :6342   No :3248   1      :1832   Rural:1463  \n",
              " Yes: 890   Yes:3984   8      : 504   Urban:5769  \n",
              "                       7      : 492               \n",
              "                       9      : 491               \n",
              "                       10     : 444               \n",
              "                       11     : 432               \n",
              "                       (Other):3037               "
            ]
          },
          "metadata": {}
        }
      ]
    },
    {
      "cell_type": "code",
      "source": [
        "#set seed so the random sample is reproducible\n",
        "set.seed(42)"
      ],
      "metadata": {
        "id": "1VzPIa5c4nDU"
      },
      "execution_count": null,
      "outputs": []
    },
    {
      "cell_type": "code",
      "source": [
        "#Partition the Optiva dataset into a training, validation and test set\n",
        "Samples<-sample(seq(1,3),size=nrow(insurancedf),replace=TRUE,prob=c(0.6,0.2,0.2))\n",
        "Train<-insurancedf[Samples==1,]\n",
        "Validate<-insurancedf[Samples==2,]\n",
        "Test<-insurancedf[Samples==3,]"
      ],
      "metadata": {
        "id": "L0VldDX54oD2"
      },
      "execution_count": null,
      "outputs": []
    },
    {
      "cell_type": "code",
      "source": [
        "#View descriptive statistics for each dataframe\n",
        "summary(Train)\n",
        "summary(Validate)\n"
      ],
      "metadata": {
        "colab": {
          "base_uri": "https://localhost:8080/",
          "height": 1000
        },
        "id": "ncqaglLb4r3N",
        "outputId": "39cc9e79-e6b0-4930-a3ff-6714f2417a40"
      },
      "execution_count": null,
      "outputs": [
        {
          "output_type": "display_data",
          "data": {
            "text/plain": [
              " CLAIM      KIDSDRIV        AGE       HOMEKIDS       INCOME     HOMEOWN   \n",
              " No :3163   No :3808   46     : 205   No :2777   0      : 349   No :1439  \n",
              " Yes:1155   Yes: 510   45     : 202   Yes:1541   6607   :   3   Yes:2879  \n",
              "                       47     : 199              20887  :   3             \n",
              "                       48     : 198              23157  :   3             \n",
              "                       41     : 184              48509  :   3             \n",
              "                       43     : 182              82398  :   3             \n",
              "                       (Other):3148              (Other):3954             \n",
              " MSTATUS       GENDER                 EDUCATION       TRAVTIME   \n",
              " No :1715   Male  :1989   High School only :1877   5      : 176  \n",
              " Yes:2603   Female:2329   College or beyond:2441   30     : 121  \n",
              "                                                   33     : 117  \n",
              "                                                   35     : 116  \n",
              "                                                   29     : 110  \n",
              "                                                   32     : 110  \n",
              "                                                   (Other):3568  \n",
              "       CAR_USE        BLUEBOOK         TWC       RED_CAR    CLM_BEF   \n",
              " Private   :2700   1500   :  79   1      :1333   No :3079   No :2631  \n",
              " Commercial:1618   6200   :  22   6      : 688   Yes:1239   Yes:1687  \n",
              "                   6000   :  18   4      : 651                        \n",
              "                   5400   :  16   10     : 411                        \n",
              "                   6500   :  16   7      : 341                        \n",
              "                   6100   :  15   3      : 242                        \n",
              "                   (Other):4152   (Other): 652                        \n",
              " REVOKED    MVR_PTS       CAR_AGE     URBANICITY  \n",
              " No :3768   No :1924   1      :1103   Rural: 862  \n",
              " Yes: 550   Yes:2394   9      : 302   Urban:3456  \n",
              "                       7      : 280               \n",
              "                       8      : 280               \n",
              "                       10     : 267               \n",
              "                       11     : 265               \n",
              "                       (Other):1821               "
            ]
          },
          "metadata": {}
        },
        {
          "output_type": "display_data",
          "data": {
            "text/plain": [
              " CLAIM      KIDSDRIV        AGE       HOMEKIDS      INCOME     HOMEOWN  \n",
              " No :1109   No :1279   48     :  71   No :957   0      : 101   No :488  \n",
              " Yes: 365   Yes: 195   44     :  70   Yes:517   11047  :   2   Yes:986  \n",
              "                       42     :  68             18631  :   2            \n",
              "                       46     :  66             23655  :   2            \n",
              "                       50     :  64             35296  :   2            \n",
              "                       40     :  63             44977  :   2            \n",
              "                       (Other):1072             (Other):1363            \n",
              " MSTATUS      GENDER                EDUCATION      TRAVTIME          CAR_USE   \n",
              " No :585   Male  :696   High School only :648   5      :  55   Private   :919  \n",
              " Yes:889   Female:778   College or beyond:826   36     :  49   Commercial:555  \n",
              "                                                25     :  47                   \n",
              "                                                35     :  45                   \n",
              "                                                40     :  44                   \n",
              "                                                34     :  42                   \n",
              "                                                (Other):1192                   \n",
              "    BLUEBOOK         TWC      RED_CAR    CLM_BEF   REVOKED    MVR_PTS  \n",
              " 1500   :  27   1      :470   No :1027   No :924   No :1299   No :673  \n",
              " 6400   :  10   6      :267   Yes: 447   Yes:550   Yes: 175   Yes:801  \n",
              " 5900   :   9   4      :190                                            \n",
              " 5700   :   8   10     :141                                            \n",
              " 6000   :   8   7      :108                                            \n",
              " 5600   :   7   3      : 67                                            \n",
              " (Other):1405   (Other):231                                            \n",
              "    CAR_AGE    URBANICITY  \n",
              " 1      :379   Rural: 295  \n",
              " 8      :121   Urban:1179  \n",
              " 7      :110               \n",
              " 9      :103               \n",
              " 10     : 90               \n",
              " 11     : 79               \n",
              " (Other):592               "
            ]
          },
          "metadata": {}
        }
      ]
    },
    {
      "cell_type": "code",
      "source": [
        "summary(Test)"
      ],
      "metadata": {
        "colab": {
          "base_uri": "https://localhost:8080/",
          "height": 572
        },
        "id": "9QXM8eTK46FS",
        "outputId": "fcfc54a8-b1c8-4cb9-90a1-0e7440bb5c1d"
      },
      "execution_count": null,
      "outputs": [
        {
          "output_type": "display_data",
          "data": {
            "text/plain": [
              " CLAIM      KIDSDRIV        AGE       HOMEKIDS      INCOME     HOMEOWN  \n",
              " No :1052   No :1285   46     :  76   No :950   0      : 120   No :509  \n",
              " Yes: 388   Yes: 155   45     :  75   Yes:490   13148  :   2   Yes:931  \n",
              "                       44     :  70             17398  :   2            \n",
              "                       43     :  66             20852  :   2            \n",
              "                       51     :  65             22654  :   2            \n",
              "                       47     :  58             23111  :   2            \n",
              "                       (Other):1030             (Other):1310            \n",
              " MSTATUS      GENDER                EDUCATION      TRAVTIME          CAR_USE   \n",
              " No :608   Male  :667   High School only :615   5      :  52   Private   :916  \n",
              " Yes:832   Female:773   College or beyond:825   29     :  44   Commercial:524  \n",
              "                                                27     :  43                   \n",
              "                                                32     :  42                   \n",
              "                                                37     :  42                   \n",
              "                                                24     :  40                   \n",
              "                                                (Other):1177                   \n",
              "    BLUEBOOK         TWC      RED_CAR    CLM_BEF   REVOKED    MVR_PTS  \n",
              " 1500   :  26   1      :435   No :1026   No :893   No :1275   No :651  \n",
              " 5800   :   9   4      :249   Yes: 414   Yes:547   Yes: 165   Yes:789  \n",
              " 11530  :   7   6      :230                                            \n",
              " 6100   :   6   10     :130                                            \n",
              " 6400   :   6   7      :114                                            \n",
              " 6600   :   6   3      : 74                                            \n",
              " (Other):1380   (Other):208                                            \n",
              "    CAR_AGE    URBANICITY  \n",
              " 1      :350   Rural: 306  \n",
              " 8      :103   Urban:1134  \n",
              " 7      :102               \n",
              " 11     : 88               \n",
              " 10     : 87               \n",
              " 9      : 86               \n",
              " (Other):624               "
            ]
          },
          "metadata": {}
        }
      ]
    },
    {
      "cell_type": "code",
      "source": [
        "length(Validate$CLAIM)\n",
        "length(pred_val > 0.5)\n"
      ],
      "metadata": {
        "colab": {
          "base_uri": "https://localhost:8080/",
          "height": 52
        },
        "id": "vFGrLYXUM0Dm",
        "outputId": "853cb518-d4d3-4c19-85f7-ce9c4ab5e45e"
      },
      "execution_count": null,
      "outputs": [
        {
          "output_type": "display_data",
          "data": {
            "text/html": [
              "1474"
            ],
            "text/markdown": "1474",
            "text/latex": "1474",
            "text/plain": [
              "[1] 1474"
            ]
          },
          "metadata": {}
        },
        {
          "output_type": "display_data",
          "data": {
            "text/html": [
              "1447"
            ],
            "text/markdown": "1447",
            "text/latex": "1447",
            "text/plain": [
              "[1] 1447"
            ]
          },
          "metadata": {}
        }
      ]
    },
    {
      "cell_type": "code",
      "source": [
        "#Create a data frame with only the predictor variables by removing\n",
        "#column 1 (claim)\n",
        "xsdf<-Train[c(-1)]\n",
        "View(xsdf)\n"
      ],
      "metadata": {
        "colab": {
          "base_uri": "https://localhost:8080/",
          "height": 1000
        },
        "id": "mPc0oNBP49jQ",
        "outputId": "14c79715-b4f7-4f82-daaa-3682e4be75a8"
      },
      "execution_count": null,
      "outputs": [
        {
          "output_type": "display_data",
          "data": {
            "text/plain": [
              "     KIDSDRIV AGE HOMEKIDS INCOME HOMEOWN MSTATUS GENDER EDUCATION        \n",
              "3    No       35  Yes      16039  Yes     Yes     Female High School only \n",
              "6    No       54  No       18755  No      Yes     Female High School only \n",
              "8    No       34  No       62978  No      No      Female College or beyond\n",
              "11   No       43  No       52642  Yes     Yes     Female College or beyond\n",
              "14   No       45  No       0      Yes     Yes     Female High School only \n",
              "15   No       39  Yes      51884  Yes     No      Female College or beyond\n",
              "18   No       31  Yes      18903  Yes     Yes     Female High School only \n",
              "19   No       28  Yes      44077  Yes     Yes     Female High School only \n",
              "20   No       43  No       37214  No      Yes     Male   High School only \n",
              "22   No       47  No       46281  No      No      Female High School only \n",
              "25   No       32  Yes      31275  Yes     Yes     Female High School only \n",
              "26   Yes      44  Yes      45488  Yes     Yes     Male   College or beyond\n",
              "27   No       35  No       72193  No      No      Female College or beyond\n",
              "29   No       52  No       51278  Yes     Yes     Female College or beyond\n",
              "33   No       49  No       115044 Yes     No      Female College or beyond\n",
              "35   No       43  Yes      145353 Yes     Yes     Female College or beyond\n",
              "37   No       52  No       0      Yes     No      Female High School only \n",
              "38   No       35  No       14508  No      Yes     Male   College or beyond\n",
              "41   No       40  No       57474  Yes     Yes     Male   College or beyond\n",
              "42   No       31  Yes      26520  Yes     Yes     Male   College or beyond\n",
              "43   No       53  No       107259 Yes     Yes     Male   College or beyond\n",
              "45   No       33  Yes      32364  Yes     Yes     Male   High School only \n",
              "51   No       33  Yes      20822  Yes     Yes     Female High School only \n",
              "52   No       32  Yes      54968  Yes     Yes     Female High School only \n",
              "53   No       34  No       14194  Yes     No      Female High School only \n",
              "55   Yes      43  Yes      137103 No      No      Female College or beyond\n",
              "58   No       63  No       74426  No      No      Female College or beyond\n",
              "59   No       44  No       74722  Yes     Yes     Female College or beyond\n",
              "60   Yes      45  Yes      102393 No      No      Male   College or beyond\n",
              "64   No       44  Yes      139330 Yes     No      Female High School only \n",
              "⋮    ⋮        ⋮   ⋮        ⋮      ⋮       ⋮       ⋮      ⋮                \n",
              "7185 No       35  Yes      50971  Yes     Yes     Female College or beyond\n",
              "7187 No       50  No       37546  Yes     Yes     Female High School only \n",
              "7190 No       39  No       47458  No      No      Female College or beyond\n",
              "7191 No       50  No       16074  No      No      Female High School only \n",
              "7193 No       56  No       571    Yes     Yes     Male   High School only \n",
              "7195 No       49  No       106231 Yes     Yes     Female College or beyond\n",
              "7196 No       34  Yes      121861 Yes     Yes     Female College or beyond\n",
              "7197 Yes      37  Yes      23048  Yes     Yes     Female High School only \n",
              "7198 Yes      56  Yes      176849 Yes     Yes     Female College or beyond\n",
              "7199 No       38  No       118057 Yes     Yes     Female College or beyond\n",
              "7201 No       45  No       63357  No      No      Male   High School only \n",
              "7203 Yes      46  No       35362  No      No      Male   High School only \n",
              "7205 No       47  No       112264 No      No      Male   College or beyond\n",
              "7206 No       47  No       282198 Yes     No      Male   College or beyond\n",
              "7207 No       43  No       0      Yes     Yes     Female College or beyond\n",
              "7209 No       46  No       68360  Yes     No      Male   College or beyond\n",
              "7210 Yes      46  No       84667  Yes     Yes     Female College or beyond\n",
              "7214 No       49  No       60049  Yes     No      Female High School only \n",
              "7216 No       36  Yes      131335 Yes     No      Female College or beyond\n",
              "7217 No       38  Yes      83458  Yes     No      Female College or beyond\n",
              "7218 No       41  No       92185  Yes     Yes     Male   High School only \n",
              "7219 No       60  No       19796  Yes     No      Female College or beyond\n",
              "7220 No       45  No       52966  No      No      Male   High School only \n",
              "7222 No       54  No       62060  Yes     Yes     Male   High School only \n",
              "7224 Yes      46  No       45018  No      No      Male   High School only \n",
              "7225 No       48  No       111305 No      No      Female College or beyond\n",
              "7226 Yes      38  Yes      12717  No      Yes     Female College or beyond\n",
              "7227 No       41  No       6256   No      No      Male   High School only \n",
              "7228 No       35  No       43112  No      No      Male   High School only \n",
              "7231 No       50  No       43445  Yes     Yes     Female College or beyond\n",
              "     TRAVTIME CAR_USE    BLUEBOOK TWC RED_CAR CLM_BEF REVOKED MVR_PTS CAR_AGE\n",
              "3    5        Private    4010     4   No      Yes     No      Yes     10     \n",
              "6    33       Private    8780     1   No      No      No      No      1      \n",
              "8    34       Private    11200    1   No      No      No      No      1      \n",
              "11   36       Private    22420    7   No      No      No      No      1      \n",
              "14   48       Private    6000     1   No      No      No      Yes     5      \n",
              "15   43       Private    10590    6   No      No      No      No      13     \n",
              "18   48       Private    17330    4   No      No      No      No      7      \n",
              "19   29       Commercial 8710     6   No      Yes     No      No      1      \n",
              "20   52       Commercial 26560    1   Yes     No      No      Yes     1      \n",
              "22   29       Private    19700    10  No      No      No      Yes     5      \n",
              "25   26       Private    10030    1   No      No      No      No      1      \n",
              "26   16       Private    22090    17  No      No      No      No      12     \n",
              "27   26       Private    12220    6   No      No      No      Yes     12     \n",
              "29   37       Private    1500     4   No      No      No      Yes     10     \n",
              "33   18       Private    17900    1   No      No      No      No      14     \n",
              "35   38       Commercial 29450    6   No      No      No      No      15     \n",
              "37   48       Commercial 9280     1   No      No      No      Yes     6      \n",
              "38   22       Commercial 6450     1   No      No      No      No      7      \n",
              "41   5        Commercial 29270    4   Yes     No      No      Yes     5      \n",
              "42   62       Commercial 4600     6   Yes     No      No      Yes     5      \n",
              "43   36       Private    29230    10  Yes     No      No      No      15     \n",
              "45   40       Private    12270    18  Yes     No      No      Yes     1      \n",
              "51   46       Private    6880     13  No      Yes     No      No      1      \n",
              "52   20       Private    10040    4   No      No      Yes     No      8      \n",
              "53   13       Private    2920     4   No      Yes     Yes     Yes     10     \n",
              "55   29       Private    19510    1   No      Yes     No      No      15     \n",
              "58   11       Private    27600    1   No      No      No      No      18     \n",
              "59   9        Private    23640    6   No      No      No      No      1      \n",
              "60   25       Private    1500     1   Yes     No      No      Yes     11     \n",
              "64   35       Commercial 22050    10  No      No      No      No      1      \n",
              "⋮    ⋮        ⋮          ⋮        ⋮   ⋮       ⋮       ⋮       ⋮       ⋮      \n",
              "7185 10       Private    7180     7   No      Yes     No      Yes     13     \n",
              "7187 41       Private    6120     7   No      No      No      No      1      \n",
              "7190 42       Private    20270    1   No      Yes     No      Yes     11     \n",
              "7191 53       Private    13420    10  No      Yes     No      Yes     1      \n",
              "7193 41       Private    5670     14  No      No      No      Yes     6      \n",
              "7195 12       Private    28110    6   No      No      No      No      15     \n",
              "7196 32       Private    15090    4   No      No      No      No      1      \n",
              "7197 13       Commercial 20850    4   No      No      No      Yes     9      \n",
              "7198 37       Commercial 26470    4   No      No      No      No      6      \n",
              "7199 31       Private    19390    1   No      No      No      No      9      \n",
              "7201 67       Commercial 17460    1   Yes     No      No      Yes     1      \n",
              "7203 42       Commercial 17970    11  No      Yes     Yes     Yes     7      \n",
              "7205 44       Commercial 24020    1   Yes     Yes     Yes     Yes     20     \n",
              "7206 32       Commercial 34420    11  Yes     No      Yes     Yes     16     \n",
              "7207 29       Private    24030    9   No      Yes     No      No      14     \n",
              "7209 49       Commercial 12940    1   No      Yes     No      Yes     11     \n",
              "7210 56       Commercial 35050    1   No      No      No      No      7      \n",
              "7214 21       Private    6200     1   No      No      No      No      1      \n",
              "7216 10       Private    28490    1   No      No      No      No      4      \n",
              "7217 23       Private    28260    6   No      Yes     No      Yes     9      \n",
              "7218 24       Private    1500     11  Yes     No      No      No      10     \n",
              "7219 33       Private    21690    1   No      Yes     No      Yes     1      \n",
              "7220 16       Commercial 11300    6   Yes     Yes     Yes     Yes     1      \n",
              "7222 51       Private    1500     6   No      No      No      Yes     1      \n",
              "7224 26       Private    15060    4   No      Yes     No      No      1      \n",
              "7225 59       Private    17430    13  No      No      No      Yes     18     \n",
              "7226 15       Commercial 24740    1   No      Yes     No      Yes     15     \n",
              "7227 41       Private    5600     1   No      No      No      No      7      \n",
              "7228 51       Commercial 27330    10  Yes     No      No      No      8      \n",
              "7231 36       Private    22550    6   No      No      No      No      11     \n",
              "     URBANICITY\n",
              "3    Urban     \n",
              "6    Urban     \n",
              "8    Urban     \n",
              "11   Rural     \n",
              "14   Urban     \n",
              "15   Rural     \n",
              "18   Urban     \n",
              "19   Urban     \n",
              "20   Urban     \n",
              "22   Urban     \n",
              "25   Urban     \n",
              "26   Urban     \n",
              "27   Urban     \n",
              "29   Urban     \n",
              "33   Urban     \n",
              "35   Urban     \n",
              "37   Rural     \n",
              "38   Urban     \n",
              "41   Urban     \n",
              "42   Urban     \n",
              "43   Urban     \n",
              "45   Urban     \n",
              "51   Urban     \n",
              "52   Urban     \n",
              "53   Urban     \n",
              "55   Urban     \n",
              "58   Urban     \n",
              "59   Urban     \n",
              "60   Urban     \n",
              "64   Rural     \n",
              "⋮    ⋮         \n",
              "7185 Urban     \n",
              "7187 Urban     \n",
              "7190 Urban     \n",
              "7191 Urban     \n",
              "7193 Rural     \n",
              "7195 Urban     \n",
              "7196 Urban     \n",
              "7197 Urban     \n",
              "7198 Urban     \n",
              "7199 Urban     \n",
              "7201 Urban     \n",
              "7203 Urban     \n",
              "7205 Urban     \n",
              "7206 Urban     \n",
              "7207 Urban     \n",
              "7209 Urban     \n",
              "7210 Urban     \n",
              "7214 Rural     \n",
              "7216 Rural     \n",
              "7217 Urban     \n",
              "7218 Urban     \n",
              "7219 Urban     \n",
              "7220 Urban     \n",
              "7222 Urban     \n",
              "7224 Rural     \n",
              "7225 Urban     \n",
              "7226 Urban     \n",
              "7227 Rural     \n",
              "7228 Rural     \n",
              "7231 Urban     "
            ],
            "text/html": [
              "<table class=\"dataframe\">\n",
              "<caption>A data.frame: 4318 × 18</caption>\n",
              "<thead>\n",
              "\t<tr><th></th><th scope=col>KIDSDRIV</th><th scope=col>AGE</th><th scope=col>HOMEKIDS</th><th scope=col>INCOME</th><th scope=col>HOMEOWN</th><th scope=col>MSTATUS</th><th scope=col>GENDER</th><th scope=col>EDUCATION</th><th scope=col>TRAVTIME</th><th scope=col>CAR_USE</th><th scope=col>BLUEBOOK</th><th scope=col>TWC</th><th scope=col>RED_CAR</th><th scope=col>CLM_BEF</th><th scope=col>REVOKED</th><th scope=col>MVR_PTS</th><th scope=col>CAR_AGE</th><th scope=col>URBANICITY</th></tr>\n",
              "\t<tr><th></th><th scope=col>&lt;fct&gt;</th><th scope=col>&lt;fct&gt;</th><th scope=col>&lt;fct&gt;</th><th scope=col>&lt;fct&gt;</th><th scope=col>&lt;fct&gt;</th><th scope=col>&lt;fct&gt;</th><th scope=col>&lt;fct&gt;</th><th scope=col>&lt;fct&gt;</th><th scope=col>&lt;fct&gt;</th><th scope=col>&lt;fct&gt;</th><th scope=col>&lt;fct&gt;</th><th scope=col>&lt;fct&gt;</th><th scope=col>&lt;fct&gt;</th><th scope=col>&lt;fct&gt;</th><th scope=col>&lt;fct&gt;</th><th scope=col>&lt;fct&gt;</th><th scope=col>&lt;fct&gt;</th><th scope=col>&lt;fct&gt;</th></tr>\n",
              "</thead>\n",
              "<tbody>\n",
              "\t<tr><th scope=row>3</th><td>No </td><td>35</td><td>Yes</td><td>16039 </td><td>Yes</td><td>Yes</td><td>Female</td><td>High School only </td><td>5 </td><td>Private   </td><td>4010 </td><td>4 </td><td>No </td><td>Yes</td><td>No </td><td>Yes</td><td>10</td><td>Urban</td></tr>\n",
              "\t<tr><th scope=row>6</th><td>No </td><td>54</td><td>No </td><td>18755 </td><td>No </td><td>Yes</td><td>Female</td><td>High School only </td><td>33</td><td>Private   </td><td>8780 </td><td>1 </td><td>No </td><td>No </td><td>No </td><td>No </td><td>1 </td><td>Urban</td></tr>\n",
              "\t<tr><th scope=row>8</th><td>No </td><td>34</td><td>No </td><td>62978 </td><td>No </td><td>No </td><td>Female</td><td>College or beyond</td><td>34</td><td>Private   </td><td>11200</td><td>1 </td><td>No </td><td>No </td><td>No </td><td>No </td><td>1 </td><td>Urban</td></tr>\n",
              "\t<tr><th scope=row>11</th><td>No </td><td>43</td><td>No </td><td>52642 </td><td>Yes</td><td>Yes</td><td>Female</td><td>College or beyond</td><td>36</td><td>Private   </td><td>22420</td><td>7 </td><td>No </td><td>No </td><td>No </td><td>No </td><td>1 </td><td>Rural</td></tr>\n",
              "\t<tr><th scope=row>14</th><td>No </td><td>45</td><td>No </td><td>0     </td><td>Yes</td><td>Yes</td><td>Female</td><td>High School only </td><td>48</td><td>Private   </td><td>6000 </td><td>1 </td><td>No </td><td>No </td><td>No </td><td>Yes</td><td>5 </td><td>Urban</td></tr>\n",
              "\t<tr><th scope=row>15</th><td>No </td><td>39</td><td>Yes</td><td>51884 </td><td>Yes</td><td>No </td><td>Female</td><td>College or beyond</td><td>43</td><td>Private   </td><td>10590</td><td>6 </td><td>No </td><td>No </td><td>No </td><td>No </td><td>13</td><td>Rural</td></tr>\n",
              "\t<tr><th scope=row>18</th><td>No </td><td>31</td><td>Yes</td><td>18903 </td><td>Yes</td><td>Yes</td><td>Female</td><td>High School only </td><td>48</td><td>Private   </td><td>17330</td><td>4 </td><td>No </td><td>No </td><td>No </td><td>No </td><td>7 </td><td>Urban</td></tr>\n",
              "\t<tr><th scope=row>19</th><td>No </td><td>28</td><td>Yes</td><td>44077 </td><td>Yes</td><td>Yes</td><td>Female</td><td>High School only </td><td>29</td><td>Commercial</td><td>8710 </td><td>6 </td><td>No </td><td>Yes</td><td>No </td><td>No </td><td>1 </td><td>Urban</td></tr>\n",
              "\t<tr><th scope=row>20</th><td>No </td><td>43</td><td>No </td><td>37214 </td><td>No </td><td>Yes</td><td>Male  </td><td>High School only </td><td>52</td><td>Commercial</td><td>26560</td><td>1 </td><td>Yes</td><td>No </td><td>No </td><td>Yes</td><td>1 </td><td>Urban</td></tr>\n",
              "\t<tr><th scope=row>22</th><td>No </td><td>47</td><td>No </td><td>46281 </td><td>No </td><td>No </td><td>Female</td><td>High School only </td><td>29</td><td>Private   </td><td>19700</td><td>10</td><td>No </td><td>No </td><td>No </td><td>Yes</td><td>5 </td><td>Urban</td></tr>\n",
              "\t<tr><th scope=row>25</th><td>No </td><td>32</td><td>Yes</td><td>31275 </td><td>Yes</td><td>Yes</td><td>Female</td><td>High School only </td><td>26</td><td>Private   </td><td>10030</td><td>1 </td><td>No </td><td>No </td><td>No </td><td>No </td><td>1 </td><td>Urban</td></tr>\n",
              "\t<tr><th scope=row>26</th><td>Yes</td><td>44</td><td>Yes</td><td>45488 </td><td>Yes</td><td>Yes</td><td>Male  </td><td>College or beyond</td><td>16</td><td>Private   </td><td>22090</td><td>17</td><td>No </td><td>No </td><td>No </td><td>No </td><td>12</td><td>Urban</td></tr>\n",
              "\t<tr><th scope=row>27</th><td>No </td><td>35</td><td>No </td><td>72193 </td><td>No </td><td>No </td><td>Female</td><td>College or beyond</td><td>26</td><td>Private   </td><td>12220</td><td>6 </td><td>No </td><td>No </td><td>No </td><td>Yes</td><td>12</td><td>Urban</td></tr>\n",
              "\t<tr><th scope=row>29</th><td>No </td><td>52</td><td>No </td><td>51278 </td><td>Yes</td><td>Yes</td><td>Female</td><td>College or beyond</td><td>37</td><td>Private   </td><td>1500 </td><td>4 </td><td>No </td><td>No </td><td>No </td><td>Yes</td><td>10</td><td>Urban</td></tr>\n",
              "\t<tr><th scope=row>33</th><td>No </td><td>49</td><td>No </td><td>115044</td><td>Yes</td><td>No </td><td>Female</td><td>College or beyond</td><td>18</td><td>Private   </td><td>17900</td><td>1 </td><td>No </td><td>No </td><td>No </td><td>No </td><td>14</td><td>Urban</td></tr>\n",
              "\t<tr><th scope=row>35</th><td>No </td><td>43</td><td>Yes</td><td>145353</td><td>Yes</td><td>Yes</td><td>Female</td><td>College or beyond</td><td>38</td><td>Commercial</td><td>29450</td><td>6 </td><td>No </td><td>No </td><td>No </td><td>No </td><td>15</td><td>Urban</td></tr>\n",
              "\t<tr><th scope=row>37</th><td>No </td><td>52</td><td>No </td><td>0     </td><td>Yes</td><td>No </td><td>Female</td><td>High School only </td><td>48</td><td>Commercial</td><td>9280 </td><td>1 </td><td>No </td><td>No </td><td>No </td><td>Yes</td><td>6 </td><td>Rural</td></tr>\n",
              "\t<tr><th scope=row>38</th><td>No </td><td>35</td><td>No </td><td>14508 </td><td>No </td><td>Yes</td><td>Male  </td><td>College or beyond</td><td>22</td><td>Commercial</td><td>6450 </td><td>1 </td><td>No </td><td>No </td><td>No </td><td>No </td><td>7 </td><td>Urban</td></tr>\n",
              "\t<tr><th scope=row>41</th><td>No </td><td>40</td><td>No </td><td>57474 </td><td>Yes</td><td>Yes</td><td>Male  </td><td>College or beyond</td><td>5 </td><td>Commercial</td><td>29270</td><td>4 </td><td>Yes</td><td>No </td><td>No </td><td>Yes</td><td>5 </td><td>Urban</td></tr>\n",
              "\t<tr><th scope=row>42</th><td>No </td><td>31</td><td>Yes</td><td>26520 </td><td>Yes</td><td>Yes</td><td>Male  </td><td>College or beyond</td><td>62</td><td>Commercial</td><td>4600 </td><td>6 </td><td>Yes</td><td>No </td><td>No </td><td>Yes</td><td>5 </td><td>Urban</td></tr>\n",
              "\t<tr><th scope=row>43</th><td>No </td><td>53</td><td>No </td><td>107259</td><td>Yes</td><td>Yes</td><td>Male  </td><td>College or beyond</td><td>36</td><td>Private   </td><td>29230</td><td>10</td><td>Yes</td><td>No </td><td>No </td><td>No </td><td>15</td><td>Urban</td></tr>\n",
              "\t<tr><th scope=row>45</th><td>No </td><td>33</td><td>Yes</td><td>32364 </td><td>Yes</td><td>Yes</td><td>Male  </td><td>High School only </td><td>40</td><td>Private   </td><td>12270</td><td>18</td><td>Yes</td><td>No </td><td>No </td><td>Yes</td><td>1 </td><td>Urban</td></tr>\n",
              "\t<tr><th scope=row>51</th><td>No </td><td>33</td><td>Yes</td><td>20822 </td><td>Yes</td><td>Yes</td><td>Female</td><td>High School only </td><td>46</td><td>Private   </td><td>6880 </td><td>13</td><td>No </td><td>Yes</td><td>No </td><td>No </td><td>1 </td><td>Urban</td></tr>\n",
              "\t<tr><th scope=row>52</th><td>No </td><td>32</td><td>Yes</td><td>54968 </td><td>Yes</td><td>Yes</td><td>Female</td><td>High School only </td><td>20</td><td>Private   </td><td>10040</td><td>4 </td><td>No </td><td>No </td><td>Yes</td><td>No </td><td>8 </td><td>Urban</td></tr>\n",
              "\t<tr><th scope=row>53</th><td>No </td><td>34</td><td>No </td><td>14194 </td><td>Yes</td><td>No </td><td>Female</td><td>High School only </td><td>13</td><td>Private   </td><td>2920 </td><td>4 </td><td>No </td><td>Yes</td><td>Yes</td><td>Yes</td><td>10</td><td>Urban</td></tr>\n",
              "\t<tr><th scope=row>55</th><td>Yes</td><td>43</td><td>Yes</td><td>137103</td><td>No </td><td>No </td><td>Female</td><td>College or beyond</td><td>29</td><td>Private   </td><td>19510</td><td>1 </td><td>No </td><td>Yes</td><td>No </td><td>No </td><td>15</td><td>Urban</td></tr>\n",
              "\t<tr><th scope=row>58</th><td>No </td><td>63</td><td>No </td><td>74426 </td><td>No </td><td>No </td><td>Female</td><td>College or beyond</td><td>11</td><td>Private   </td><td>27600</td><td>1 </td><td>No </td><td>No </td><td>No </td><td>No </td><td>18</td><td>Urban</td></tr>\n",
              "\t<tr><th scope=row>59</th><td>No </td><td>44</td><td>No </td><td>74722 </td><td>Yes</td><td>Yes</td><td>Female</td><td>College or beyond</td><td>9 </td><td>Private   </td><td>23640</td><td>6 </td><td>No </td><td>No </td><td>No </td><td>No </td><td>1 </td><td>Urban</td></tr>\n",
              "\t<tr><th scope=row>60</th><td>Yes</td><td>45</td><td>Yes</td><td>102393</td><td>No </td><td>No </td><td>Male  </td><td>College or beyond</td><td>25</td><td>Private   </td><td>1500 </td><td>1 </td><td>Yes</td><td>No </td><td>No </td><td>Yes</td><td>11</td><td>Urban</td></tr>\n",
              "\t<tr><th scope=row>64</th><td>No </td><td>44</td><td>Yes</td><td>139330</td><td>Yes</td><td>No </td><td>Female</td><td>High School only </td><td>35</td><td>Commercial</td><td>22050</td><td>10</td><td>No </td><td>No </td><td>No </td><td>No </td><td>1 </td><td>Rural</td></tr>\n",
              "\t<tr><th scope=row>⋮</th><td>⋮</td><td>⋮</td><td>⋮</td><td>⋮</td><td>⋮</td><td>⋮</td><td>⋮</td><td>⋮</td><td>⋮</td><td>⋮</td><td>⋮</td><td>⋮</td><td>⋮</td><td>⋮</td><td>⋮</td><td>⋮</td><td>⋮</td><td>⋮</td></tr>\n",
              "\t<tr><th scope=row>7185</th><td>No </td><td>35</td><td>Yes</td><td>50971 </td><td>Yes</td><td>Yes</td><td>Female</td><td>College or beyond</td><td>10</td><td>Private   </td><td>7180 </td><td>7 </td><td>No </td><td>Yes</td><td>No </td><td>Yes</td><td>13</td><td>Urban</td></tr>\n",
              "\t<tr><th scope=row>7187</th><td>No </td><td>50</td><td>No </td><td>37546 </td><td>Yes</td><td>Yes</td><td>Female</td><td>High School only </td><td>41</td><td>Private   </td><td>6120 </td><td>7 </td><td>No </td><td>No </td><td>No </td><td>No </td><td>1 </td><td>Urban</td></tr>\n",
              "\t<tr><th scope=row>7190</th><td>No </td><td>39</td><td>No </td><td>47458 </td><td>No </td><td>No </td><td>Female</td><td>College or beyond</td><td>42</td><td>Private   </td><td>20270</td><td>1 </td><td>No </td><td>Yes</td><td>No </td><td>Yes</td><td>11</td><td>Urban</td></tr>\n",
              "\t<tr><th scope=row>7191</th><td>No </td><td>50</td><td>No </td><td>16074 </td><td>No </td><td>No </td><td>Female</td><td>High School only </td><td>53</td><td>Private   </td><td>13420</td><td>10</td><td>No </td><td>Yes</td><td>No </td><td>Yes</td><td>1 </td><td>Urban</td></tr>\n",
              "\t<tr><th scope=row>7193</th><td>No </td><td>56</td><td>No </td><td>571   </td><td>Yes</td><td>Yes</td><td>Male  </td><td>High School only </td><td>41</td><td>Private   </td><td>5670 </td><td>14</td><td>No </td><td>No </td><td>No </td><td>Yes</td><td>6 </td><td>Rural</td></tr>\n",
              "\t<tr><th scope=row>7195</th><td>No </td><td>49</td><td>No </td><td>106231</td><td>Yes</td><td>Yes</td><td>Female</td><td>College or beyond</td><td>12</td><td>Private   </td><td>28110</td><td>6 </td><td>No </td><td>No </td><td>No </td><td>No </td><td>15</td><td>Urban</td></tr>\n",
              "\t<tr><th scope=row>7196</th><td>No </td><td>34</td><td>Yes</td><td>121861</td><td>Yes</td><td>Yes</td><td>Female</td><td>College or beyond</td><td>32</td><td>Private   </td><td>15090</td><td>4 </td><td>No </td><td>No </td><td>No </td><td>No </td><td>1 </td><td>Urban</td></tr>\n",
              "\t<tr><th scope=row>7197</th><td>Yes</td><td>37</td><td>Yes</td><td>23048 </td><td>Yes</td><td>Yes</td><td>Female</td><td>High School only </td><td>13</td><td>Commercial</td><td>20850</td><td>4 </td><td>No </td><td>No </td><td>No </td><td>Yes</td><td>9 </td><td>Urban</td></tr>\n",
              "\t<tr><th scope=row>7198</th><td>Yes</td><td>56</td><td>Yes</td><td>176849</td><td>Yes</td><td>Yes</td><td>Female</td><td>College or beyond</td><td>37</td><td>Commercial</td><td>26470</td><td>4 </td><td>No </td><td>No </td><td>No </td><td>No </td><td>6 </td><td>Urban</td></tr>\n",
              "\t<tr><th scope=row>7199</th><td>No </td><td>38</td><td>No </td><td>118057</td><td>Yes</td><td>Yes</td><td>Female</td><td>College or beyond</td><td>31</td><td>Private   </td><td>19390</td><td>1 </td><td>No </td><td>No </td><td>No </td><td>No </td><td>9 </td><td>Urban</td></tr>\n",
              "\t<tr><th scope=row>7201</th><td>No </td><td>45</td><td>No </td><td>63357 </td><td>No </td><td>No </td><td>Male  </td><td>High School only </td><td>67</td><td>Commercial</td><td>17460</td><td>1 </td><td>Yes</td><td>No </td><td>No </td><td>Yes</td><td>1 </td><td>Urban</td></tr>\n",
              "\t<tr><th scope=row>7203</th><td>Yes</td><td>46</td><td>No </td><td>35362 </td><td>No </td><td>No </td><td>Male  </td><td>High School only </td><td>42</td><td>Commercial</td><td>17970</td><td>11</td><td>No </td><td>Yes</td><td>Yes</td><td>Yes</td><td>7 </td><td>Urban</td></tr>\n",
              "\t<tr><th scope=row>7205</th><td>No </td><td>47</td><td>No </td><td>112264</td><td>No </td><td>No </td><td>Male  </td><td>College or beyond</td><td>44</td><td>Commercial</td><td>24020</td><td>1 </td><td>Yes</td><td>Yes</td><td>Yes</td><td>Yes</td><td>20</td><td>Urban</td></tr>\n",
              "\t<tr><th scope=row>7206</th><td>No </td><td>47</td><td>No </td><td>282198</td><td>Yes</td><td>No </td><td>Male  </td><td>College or beyond</td><td>32</td><td>Commercial</td><td>34420</td><td>11</td><td>Yes</td><td>No </td><td>Yes</td><td>Yes</td><td>16</td><td>Urban</td></tr>\n",
              "\t<tr><th scope=row>7207</th><td>No </td><td>43</td><td>No </td><td>0     </td><td>Yes</td><td>Yes</td><td>Female</td><td>College or beyond</td><td>29</td><td>Private   </td><td>24030</td><td>9 </td><td>No </td><td>Yes</td><td>No </td><td>No </td><td>14</td><td>Urban</td></tr>\n",
              "\t<tr><th scope=row>7209</th><td>No </td><td>46</td><td>No </td><td>68360 </td><td>Yes</td><td>No </td><td>Male  </td><td>College or beyond</td><td>49</td><td>Commercial</td><td>12940</td><td>1 </td><td>No </td><td>Yes</td><td>No </td><td>Yes</td><td>11</td><td>Urban</td></tr>\n",
              "\t<tr><th scope=row>7210</th><td>Yes</td><td>46</td><td>No </td><td>84667 </td><td>Yes</td><td>Yes</td><td>Female</td><td>College or beyond</td><td>56</td><td>Commercial</td><td>35050</td><td>1 </td><td>No </td><td>No </td><td>No </td><td>No </td><td>7 </td><td>Urban</td></tr>\n",
              "\t<tr><th scope=row>7214</th><td>No </td><td>49</td><td>No </td><td>60049 </td><td>Yes</td><td>No </td><td>Female</td><td>High School only </td><td>21</td><td>Private   </td><td>6200 </td><td>1 </td><td>No </td><td>No </td><td>No </td><td>No </td><td>1 </td><td>Rural</td></tr>\n",
              "\t<tr><th scope=row>7216</th><td>No </td><td>36</td><td>Yes</td><td>131335</td><td>Yes</td><td>No </td><td>Female</td><td>College or beyond</td><td>10</td><td>Private   </td><td>28490</td><td>1 </td><td>No </td><td>No </td><td>No </td><td>No </td><td>4 </td><td>Rural</td></tr>\n",
              "\t<tr><th scope=row>7217</th><td>No </td><td>38</td><td>Yes</td><td>83458 </td><td>Yes</td><td>No </td><td>Female</td><td>College or beyond</td><td>23</td><td>Private   </td><td>28260</td><td>6 </td><td>No </td><td>Yes</td><td>No </td><td>Yes</td><td>9 </td><td>Urban</td></tr>\n",
              "\t<tr><th scope=row>7218</th><td>No </td><td>41</td><td>No </td><td>92185 </td><td>Yes</td><td>Yes</td><td>Male  </td><td>High School only </td><td>24</td><td>Private   </td><td>1500 </td><td>11</td><td>Yes</td><td>No </td><td>No </td><td>No </td><td>10</td><td>Urban</td></tr>\n",
              "\t<tr><th scope=row>7219</th><td>No </td><td>60</td><td>No </td><td>19796 </td><td>Yes</td><td>No </td><td>Female</td><td>College or beyond</td><td>33</td><td>Private   </td><td>21690</td><td>1 </td><td>No </td><td>Yes</td><td>No </td><td>Yes</td><td>1 </td><td>Urban</td></tr>\n",
              "\t<tr><th scope=row>7220</th><td>No </td><td>45</td><td>No </td><td>52966 </td><td>No </td><td>No </td><td>Male  </td><td>High School only </td><td>16</td><td>Commercial</td><td>11300</td><td>6 </td><td>Yes</td><td>Yes</td><td>Yes</td><td>Yes</td><td>1 </td><td>Urban</td></tr>\n",
              "\t<tr><th scope=row>7222</th><td>No </td><td>54</td><td>No </td><td>62060 </td><td>Yes</td><td>Yes</td><td>Male  </td><td>High School only </td><td>51</td><td>Private   </td><td>1500 </td><td>6 </td><td>No </td><td>No </td><td>No </td><td>Yes</td><td>1 </td><td>Urban</td></tr>\n",
              "\t<tr><th scope=row>7224</th><td>Yes</td><td>46</td><td>No </td><td>45018 </td><td>No </td><td>No </td><td>Male  </td><td>High School only </td><td>26</td><td>Private   </td><td>15060</td><td>4 </td><td>No </td><td>Yes</td><td>No </td><td>No </td><td>1 </td><td>Rural</td></tr>\n",
              "\t<tr><th scope=row>7225</th><td>No </td><td>48</td><td>No </td><td>111305</td><td>No </td><td>No </td><td>Female</td><td>College or beyond</td><td>59</td><td>Private   </td><td>17430</td><td>13</td><td>No </td><td>No </td><td>No </td><td>Yes</td><td>18</td><td>Urban</td></tr>\n",
              "\t<tr><th scope=row>7226</th><td>Yes</td><td>38</td><td>Yes</td><td>12717 </td><td>No </td><td>Yes</td><td>Female</td><td>College or beyond</td><td>15</td><td>Commercial</td><td>24740</td><td>1 </td><td>No </td><td>Yes</td><td>No </td><td>Yes</td><td>15</td><td>Urban</td></tr>\n",
              "\t<tr><th scope=row>7227</th><td>No </td><td>41</td><td>No </td><td>6256  </td><td>No </td><td>No </td><td>Male  </td><td>High School only </td><td>41</td><td>Private   </td><td>5600 </td><td>1 </td><td>No </td><td>No </td><td>No </td><td>No </td><td>7 </td><td>Rural</td></tr>\n",
              "\t<tr><th scope=row>7228</th><td>No </td><td>35</td><td>No </td><td>43112 </td><td>No </td><td>No </td><td>Male  </td><td>High School only </td><td>51</td><td>Commercial</td><td>27330</td><td>10</td><td>Yes</td><td>No </td><td>No </td><td>No </td><td>8 </td><td>Rural</td></tr>\n",
              "\t<tr><th scope=row>7231</th><td>No </td><td>50</td><td>No </td><td>43445 </td><td>Yes</td><td>Yes</td><td>Female</td><td>College or beyond</td><td>36</td><td>Private   </td><td>22550</td><td>6 </td><td>No </td><td>No </td><td>No </td><td>No </td><td>11</td><td>Urban</td></tr>\n",
              "</tbody>\n",
              "</table>\n"
            ],
            "text/markdown": "\nA data.frame: 4318 × 18\n\n| <!--/--> | KIDSDRIV &lt;fct&gt; | AGE &lt;fct&gt; | HOMEKIDS &lt;fct&gt; | INCOME &lt;fct&gt; | HOMEOWN &lt;fct&gt; | MSTATUS &lt;fct&gt; | GENDER &lt;fct&gt; | EDUCATION &lt;fct&gt; | TRAVTIME &lt;fct&gt; | CAR_USE &lt;fct&gt; | BLUEBOOK &lt;fct&gt; | TWC &lt;fct&gt; | RED_CAR &lt;fct&gt; | CLM_BEF &lt;fct&gt; | REVOKED &lt;fct&gt; | MVR_PTS &lt;fct&gt; | CAR_AGE &lt;fct&gt; | URBANICITY &lt;fct&gt; |\n|---|---|---|---|---|---|---|---|---|---|---|---|---|---|---|---|---|---|---|\n| 3 | No  | 35 | Yes | 16039  | Yes | Yes | Female | High School only  | 5  | Private    | 4010  | 4  | No  | Yes | No  | Yes | 10 | Urban |\n| 6 | No  | 54 | No  | 18755  | No  | Yes | Female | High School only  | 33 | Private    | 8780  | 1  | No  | No  | No  | No  | 1  | Urban |\n| 8 | No  | 34 | No  | 62978  | No  | No  | Female | College or beyond | 34 | Private    | 11200 | 1  | No  | No  | No  | No  | 1  | Urban |\n| 11 | No  | 43 | No  | 52642  | Yes | Yes | Female | College or beyond | 36 | Private    | 22420 | 7  | No  | No  | No  | No  | 1  | Rural |\n| 14 | No  | 45 | No  | 0      | Yes | Yes | Female | High School only  | 48 | Private    | 6000  | 1  | No  | No  | No  | Yes | 5  | Urban |\n| 15 | No  | 39 | Yes | 51884  | Yes | No  | Female | College or beyond | 43 | Private    | 10590 | 6  | No  | No  | No  | No  | 13 | Rural |\n| 18 | No  | 31 | Yes | 18903  | Yes | Yes | Female | High School only  | 48 | Private    | 17330 | 4  | No  | No  | No  | No  | 7  | Urban |\n| 19 | No  | 28 | Yes | 44077  | Yes | Yes | Female | High School only  | 29 | Commercial | 8710  | 6  | No  | Yes | No  | No  | 1  | Urban |\n| 20 | No  | 43 | No  | 37214  | No  | Yes | Male   | High School only  | 52 | Commercial | 26560 | 1  | Yes | No  | No  | Yes | 1  | Urban |\n| 22 | No  | 47 | No  | 46281  | No  | No  | Female | High School only  | 29 | Private    | 19700 | 10 | No  | No  | No  | Yes | 5  | Urban |\n| 25 | No  | 32 | Yes | 31275  | Yes | Yes | Female | High School only  | 26 | Private    | 10030 | 1  | No  | No  | No  | No  | 1  | Urban |\n| 26 | Yes | 44 | Yes | 45488  | Yes | Yes | Male   | College or beyond | 16 | Private    | 22090 | 17 | No  | No  | No  | No  | 12 | Urban |\n| 27 | No  | 35 | No  | 72193  | No  | No  | Female | College or beyond | 26 | Private    | 12220 | 6  | No  | No  | No  | Yes | 12 | Urban |\n| 29 | No  | 52 | No  | 51278  | Yes | Yes | Female | College or beyond | 37 | Private    | 1500  | 4  | No  | No  | No  | Yes | 10 | Urban |\n| 33 | No  | 49 | No  | 115044 | Yes | No  | Female | College or beyond | 18 | Private    | 17900 | 1  | No  | No  | No  | No  | 14 | Urban |\n| 35 | No  | 43 | Yes | 145353 | Yes | Yes | Female | College or beyond | 38 | Commercial | 29450 | 6  | No  | No  | No  | No  | 15 | Urban |\n| 37 | No  | 52 | No  | 0      | Yes | No  | Female | High School only  | 48 | Commercial | 9280  | 1  | No  | No  | No  | Yes | 6  | Rural |\n| 38 | No  | 35 | No  | 14508  | No  | Yes | Male   | College or beyond | 22 | Commercial | 6450  | 1  | No  | No  | No  | No  | 7  | Urban |\n| 41 | No  | 40 | No  | 57474  | Yes | Yes | Male   | College or beyond | 5  | Commercial | 29270 | 4  | Yes | No  | No  | Yes | 5  | Urban |\n| 42 | No  | 31 | Yes | 26520  | Yes | Yes | Male   | College or beyond | 62 | Commercial | 4600  | 6  | Yes | No  | No  | Yes | 5  | Urban |\n| 43 | No  | 53 | No  | 107259 | Yes | Yes | Male   | College or beyond | 36 | Private    | 29230 | 10 | Yes | No  | No  | No  | 15 | Urban |\n| 45 | No  | 33 | Yes | 32364  | Yes | Yes | Male   | High School only  | 40 | Private    | 12270 | 18 | Yes | No  | No  | Yes | 1  | Urban |\n| 51 | No  | 33 | Yes | 20822  | Yes | Yes | Female | High School only  | 46 | Private    | 6880  | 13 | No  | Yes | No  | No  | 1  | Urban |\n| 52 | No  | 32 | Yes | 54968  | Yes | Yes | Female | High School only  | 20 | Private    | 10040 | 4  | No  | No  | Yes | No  | 8  | Urban |\n| 53 | No  | 34 | No  | 14194  | Yes | No  | Female | High School only  | 13 | Private    | 2920  | 4  | No  | Yes | Yes | Yes | 10 | Urban |\n| 55 | Yes | 43 | Yes | 137103 | No  | No  | Female | College or beyond | 29 | Private    | 19510 | 1  | No  | Yes | No  | No  | 15 | Urban |\n| 58 | No  | 63 | No  | 74426  | No  | No  | Female | College or beyond | 11 | Private    | 27600 | 1  | No  | No  | No  | No  | 18 | Urban |\n| 59 | No  | 44 | No  | 74722  | Yes | Yes | Female | College or beyond | 9  | Private    | 23640 | 6  | No  | No  | No  | No  | 1  | Urban |\n| 60 | Yes | 45 | Yes | 102393 | No  | No  | Male   | College or beyond | 25 | Private    | 1500  | 1  | Yes | No  | No  | Yes | 11 | Urban |\n| 64 | No  | 44 | Yes | 139330 | Yes | No  | Female | High School only  | 35 | Commercial | 22050 | 10 | No  | No  | No  | No  | 1  | Rural |\n| ⋮ | ⋮ | ⋮ | ⋮ | ⋮ | ⋮ | ⋮ | ⋮ | ⋮ | ⋮ | ⋮ | ⋮ | ⋮ | ⋮ | ⋮ | ⋮ | ⋮ | ⋮ | ⋮ |\n| 7185 | No  | 35 | Yes | 50971  | Yes | Yes | Female | College or beyond | 10 | Private    | 7180  | 7  | No  | Yes | No  | Yes | 13 | Urban |\n| 7187 | No  | 50 | No  | 37546  | Yes | Yes | Female | High School only  | 41 | Private    | 6120  | 7  | No  | No  | No  | No  | 1  | Urban |\n| 7190 | No  | 39 | No  | 47458  | No  | No  | Female | College or beyond | 42 | Private    | 20270 | 1  | No  | Yes | No  | Yes | 11 | Urban |\n| 7191 | No  | 50 | No  | 16074  | No  | No  | Female | High School only  | 53 | Private    | 13420 | 10 | No  | Yes | No  | Yes | 1  | Urban |\n| 7193 | No  | 56 | No  | 571    | Yes | Yes | Male   | High School only  | 41 | Private    | 5670  | 14 | No  | No  | No  | Yes | 6  | Rural |\n| 7195 | No  | 49 | No  | 106231 | Yes | Yes | Female | College or beyond | 12 | Private    | 28110 | 6  | No  | No  | No  | No  | 15 | Urban |\n| 7196 | No  | 34 | Yes | 121861 | Yes | Yes | Female | College or beyond | 32 | Private    | 15090 | 4  | No  | No  | No  | No  | 1  | Urban |\n| 7197 | Yes | 37 | Yes | 23048  | Yes | Yes | Female | High School only  | 13 | Commercial | 20850 | 4  | No  | No  | No  | Yes | 9  | Urban |\n| 7198 | Yes | 56 | Yes | 176849 | Yes | Yes | Female | College or beyond | 37 | Commercial | 26470 | 4  | No  | No  | No  | No  | 6  | Urban |\n| 7199 | No  | 38 | No  | 118057 | Yes | Yes | Female | College or beyond | 31 | Private    | 19390 | 1  | No  | No  | No  | No  | 9  | Urban |\n| 7201 | No  | 45 | No  | 63357  | No  | No  | Male   | High School only  | 67 | Commercial | 17460 | 1  | Yes | No  | No  | Yes | 1  | Urban |\n| 7203 | Yes | 46 | No  | 35362  | No  | No  | Male   | High School only  | 42 | Commercial | 17970 | 11 | No  | Yes | Yes | Yes | 7  | Urban |\n| 7205 | No  | 47 | No  | 112264 | No  | No  | Male   | College or beyond | 44 | Commercial | 24020 | 1  | Yes | Yes | Yes | Yes | 20 | Urban |\n| 7206 | No  | 47 | No  | 282198 | Yes | No  | Male   | College or beyond | 32 | Commercial | 34420 | 11 | Yes | No  | Yes | Yes | 16 | Urban |\n| 7207 | No  | 43 | No  | 0      | Yes | Yes | Female | College or beyond | 29 | Private    | 24030 | 9  | No  | Yes | No  | No  | 14 | Urban |\n| 7209 | No  | 46 | No  | 68360  | Yes | No  | Male   | College or beyond | 49 | Commercial | 12940 | 1  | No  | Yes | No  | Yes | 11 | Urban |\n| 7210 | Yes | 46 | No  | 84667  | Yes | Yes | Female | College or beyond | 56 | Commercial | 35050 | 1  | No  | No  | No  | No  | 7  | Urban |\n| 7214 | No  | 49 | No  | 60049  | Yes | No  | Female | High School only  | 21 | Private    | 6200  | 1  | No  | No  | No  | No  | 1  | Rural |\n| 7216 | No  | 36 | Yes | 131335 | Yes | No  | Female | College or beyond | 10 | Private    | 28490 | 1  | No  | No  | No  | No  | 4  | Rural |\n| 7217 | No  | 38 | Yes | 83458  | Yes | No  | Female | College or beyond | 23 | Private    | 28260 | 6  | No  | Yes | No  | Yes | 9  | Urban |\n| 7218 | No  | 41 | No  | 92185  | Yes | Yes | Male   | High School only  | 24 | Private    | 1500  | 11 | Yes | No  | No  | No  | 10 | Urban |\n| 7219 | No  | 60 | No  | 19796  | Yes | No  | Female | College or beyond | 33 | Private    | 21690 | 1  | No  | Yes | No  | Yes | 1  | Urban |\n| 7220 | No  | 45 | No  | 52966  | No  | No  | Male   | High School only  | 16 | Commercial | 11300 | 6  | Yes | Yes | Yes | Yes | 1  | Urban |\n| 7222 | No  | 54 | No  | 62060  | Yes | Yes | Male   | High School only  | 51 | Private    | 1500  | 6  | No  | No  | No  | Yes | 1  | Urban |\n| 7224 | Yes | 46 | No  | 45018  | No  | No  | Male   | High School only  | 26 | Private    | 15060 | 4  | No  | Yes | No  | No  | 1  | Rural |\n| 7225 | No  | 48 | No  | 111305 | No  | No  | Female | College or beyond | 59 | Private    | 17430 | 13 | No  | No  | No  | Yes | 18 | Urban |\n| 7226 | Yes | 38 | Yes | 12717  | No  | Yes | Female | College or beyond | 15 | Commercial | 24740 | 1  | No  | Yes | No  | Yes | 15 | Urban |\n| 7227 | No  | 41 | No  | 6256   | No  | No  | Male   | High School only  | 41 | Private    | 5600  | 1  | No  | No  | No  | No  | 7  | Rural |\n| 7228 | No  | 35 | No  | 43112  | No  | No  | Male   | High School only  | 51 | Commercial | 27330 | 10 | Yes | No  | No  | No  | 8  | Rural |\n| 7231 | No  | 50 | No  | 43445  | Yes | Yes | Female | College or beyond | 36 | Private    | 22550 | 6  | No  | No  | No  | No  | 11 | Urban |\n\n",
            "text/latex": "A data.frame: 4318 × 18\n\\begin{tabular}{r|llllllllllllllllll}\n  & KIDSDRIV & AGE & HOMEKIDS & INCOME & HOMEOWN & MSTATUS & GENDER & EDUCATION & TRAVTIME & CAR\\_USE & BLUEBOOK & TWC & RED\\_CAR & CLM\\_BEF & REVOKED & MVR\\_PTS & CAR\\_AGE & URBANICITY\\\\\n  & <fct> & <fct> & <fct> & <fct> & <fct> & <fct> & <fct> & <fct> & <fct> & <fct> & <fct> & <fct> & <fct> & <fct> & <fct> & <fct> & <fct> & <fct>\\\\\n\\hline\n\t3 & No  & 35 & Yes & 16039  & Yes & Yes & Female & High School only  & 5  & Private    & 4010  & 4  & No  & Yes & No  & Yes & 10 & Urban\\\\\n\t6 & No  & 54 & No  & 18755  & No  & Yes & Female & High School only  & 33 & Private    & 8780  & 1  & No  & No  & No  & No  & 1  & Urban\\\\\n\t8 & No  & 34 & No  & 62978  & No  & No  & Female & College or beyond & 34 & Private    & 11200 & 1  & No  & No  & No  & No  & 1  & Urban\\\\\n\t11 & No  & 43 & No  & 52642  & Yes & Yes & Female & College or beyond & 36 & Private    & 22420 & 7  & No  & No  & No  & No  & 1  & Rural\\\\\n\t14 & No  & 45 & No  & 0      & Yes & Yes & Female & High School only  & 48 & Private    & 6000  & 1  & No  & No  & No  & Yes & 5  & Urban\\\\\n\t15 & No  & 39 & Yes & 51884  & Yes & No  & Female & College or beyond & 43 & Private    & 10590 & 6  & No  & No  & No  & No  & 13 & Rural\\\\\n\t18 & No  & 31 & Yes & 18903  & Yes & Yes & Female & High School only  & 48 & Private    & 17330 & 4  & No  & No  & No  & No  & 7  & Urban\\\\\n\t19 & No  & 28 & Yes & 44077  & Yes & Yes & Female & High School only  & 29 & Commercial & 8710  & 6  & No  & Yes & No  & No  & 1  & Urban\\\\\n\t20 & No  & 43 & No  & 37214  & No  & Yes & Male   & High School only  & 52 & Commercial & 26560 & 1  & Yes & No  & No  & Yes & 1  & Urban\\\\\n\t22 & No  & 47 & No  & 46281  & No  & No  & Female & High School only  & 29 & Private    & 19700 & 10 & No  & No  & No  & Yes & 5  & Urban\\\\\n\t25 & No  & 32 & Yes & 31275  & Yes & Yes & Female & High School only  & 26 & Private    & 10030 & 1  & No  & No  & No  & No  & 1  & Urban\\\\\n\t26 & Yes & 44 & Yes & 45488  & Yes & Yes & Male   & College or beyond & 16 & Private    & 22090 & 17 & No  & No  & No  & No  & 12 & Urban\\\\\n\t27 & No  & 35 & No  & 72193  & No  & No  & Female & College or beyond & 26 & Private    & 12220 & 6  & No  & No  & No  & Yes & 12 & Urban\\\\\n\t29 & No  & 52 & No  & 51278  & Yes & Yes & Female & College or beyond & 37 & Private    & 1500  & 4  & No  & No  & No  & Yes & 10 & Urban\\\\\n\t33 & No  & 49 & No  & 115044 & Yes & No  & Female & College or beyond & 18 & Private    & 17900 & 1  & No  & No  & No  & No  & 14 & Urban\\\\\n\t35 & No  & 43 & Yes & 145353 & Yes & Yes & Female & College or beyond & 38 & Commercial & 29450 & 6  & No  & No  & No  & No  & 15 & Urban\\\\\n\t37 & No  & 52 & No  & 0      & Yes & No  & Female & High School only  & 48 & Commercial & 9280  & 1  & No  & No  & No  & Yes & 6  & Rural\\\\\n\t38 & No  & 35 & No  & 14508  & No  & Yes & Male   & College or beyond & 22 & Commercial & 6450  & 1  & No  & No  & No  & No  & 7  & Urban\\\\\n\t41 & No  & 40 & No  & 57474  & Yes & Yes & Male   & College or beyond & 5  & Commercial & 29270 & 4  & Yes & No  & No  & Yes & 5  & Urban\\\\\n\t42 & No  & 31 & Yes & 26520  & Yes & Yes & Male   & College or beyond & 62 & Commercial & 4600  & 6  & Yes & No  & No  & Yes & 5  & Urban\\\\\n\t43 & No  & 53 & No  & 107259 & Yes & Yes & Male   & College or beyond & 36 & Private    & 29230 & 10 & Yes & No  & No  & No  & 15 & Urban\\\\\n\t45 & No  & 33 & Yes & 32364  & Yes & Yes & Male   & High School only  & 40 & Private    & 12270 & 18 & Yes & No  & No  & Yes & 1  & Urban\\\\\n\t51 & No  & 33 & Yes & 20822  & Yes & Yes & Female & High School only  & 46 & Private    & 6880  & 13 & No  & Yes & No  & No  & 1  & Urban\\\\\n\t52 & No  & 32 & Yes & 54968  & Yes & Yes & Female & High School only  & 20 & Private    & 10040 & 4  & No  & No  & Yes & No  & 8  & Urban\\\\\n\t53 & No  & 34 & No  & 14194  & Yes & No  & Female & High School only  & 13 & Private    & 2920  & 4  & No  & Yes & Yes & Yes & 10 & Urban\\\\\n\t55 & Yes & 43 & Yes & 137103 & No  & No  & Female & College or beyond & 29 & Private    & 19510 & 1  & No  & Yes & No  & No  & 15 & Urban\\\\\n\t58 & No  & 63 & No  & 74426  & No  & No  & Female & College or beyond & 11 & Private    & 27600 & 1  & No  & No  & No  & No  & 18 & Urban\\\\\n\t59 & No  & 44 & No  & 74722  & Yes & Yes & Female & College or beyond & 9  & Private    & 23640 & 6  & No  & No  & No  & No  & 1  & Urban\\\\\n\t60 & Yes & 45 & Yes & 102393 & No  & No  & Male   & College or beyond & 25 & Private    & 1500  & 1  & Yes & No  & No  & Yes & 11 & Urban\\\\\n\t64 & No  & 44 & Yes & 139330 & Yes & No  & Female & High School only  & 35 & Commercial & 22050 & 10 & No  & No  & No  & No  & 1  & Rural\\\\\n\t⋮ & ⋮ & ⋮ & ⋮ & ⋮ & ⋮ & ⋮ & ⋮ & ⋮ & ⋮ & ⋮ & ⋮ & ⋮ & ⋮ & ⋮ & ⋮ & ⋮ & ⋮ & ⋮\\\\\n\t7185 & No  & 35 & Yes & 50971  & Yes & Yes & Female & College or beyond & 10 & Private    & 7180  & 7  & No  & Yes & No  & Yes & 13 & Urban\\\\\n\t7187 & No  & 50 & No  & 37546  & Yes & Yes & Female & High School only  & 41 & Private    & 6120  & 7  & No  & No  & No  & No  & 1  & Urban\\\\\n\t7190 & No  & 39 & No  & 47458  & No  & No  & Female & College or beyond & 42 & Private    & 20270 & 1  & No  & Yes & No  & Yes & 11 & Urban\\\\\n\t7191 & No  & 50 & No  & 16074  & No  & No  & Female & High School only  & 53 & Private    & 13420 & 10 & No  & Yes & No  & Yes & 1  & Urban\\\\\n\t7193 & No  & 56 & No  & 571    & Yes & Yes & Male   & High School only  & 41 & Private    & 5670  & 14 & No  & No  & No  & Yes & 6  & Rural\\\\\n\t7195 & No  & 49 & No  & 106231 & Yes & Yes & Female & College or beyond & 12 & Private    & 28110 & 6  & No  & No  & No  & No  & 15 & Urban\\\\\n\t7196 & No  & 34 & Yes & 121861 & Yes & Yes & Female & College or beyond & 32 & Private    & 15090 & 4  & No  & No  & No  & No  & 1  & Urban\\\\\n\t7197 & Yes & 37 & Yes & 23048  & Yes & Yes & Female & High School only  & 13 & Commercial & 20850 & 4  & No  & No  & No  & Yes & 9  & Urban\\\\\n\t7198 & Yes & 56 & Yes & 176849 & Yes & Yes & Female & College or beyond & 37 & Commercial & 26470 & 4  & No  & No  & No  & No  & 6  & Urban\\\\\n\t7199 & No  & 38 & No  & 118057 & Yes & Yes & Female & College or beyond & 31 & Private    & 19390 & 1  & No  & No  & No  & No  & 9  & Urban\\\\\n\t7201 & No  & 45 & No  & 63357  & No  & No  & Male   & High School only  & 67 & Commercial & 17460 & 1  & Yes & No  & No  & Yes & 1  & Urban\\\\\n\t7203 & Yes & 46 & No  & 35362  & No  & No  & Male   & High School only  & 42 & Commercial & 17970 & 11 & No  & Yes & Yes & Yes & 7  & Urban\\\\\n\t7205 & No  & 47 & No  & 112264 & No  & No  & Male   & College or beyond & 44 & Commercial & 24020 & 1  & Yes & Yes & Yes & Yes & 20 & Urban\\\\\n\t7206 & No  & 47 & No  & 282198 & Yes & No  & Male   & College or beyond & 32 & Commercial & 34420 & 11 & Yes & No  & Yes & Yes & 16 & Urban\\\\\n\t7207 & No  & 43 & No  & 0      & Yes & Yes & Female & College or beyond & 29 & Private    & 24030 & 9  & No  & Yes & No  & No  & 14 & Urban\\\\\n\t7209 & No  & 46 & No  & 68360  & Yes & No  & Male   & College or beyond & 49 & Commercial & 12940 & 1  & No  & Yes & No  & Yes & 11 & Urban\\\\\n\t7210 & Yes & 46 & No  & 84667  & Yes & Yes & Female & College or beyond & 56 & Commercial & 35050 & 1  & No  & No  & No  & No  & 7  & Urban\\\\\n\t7214 & No  & 49 & No  & 60049  & Yes & No  & Female & High School only  & 21 & Private    & 6200  & 1  & No  & No  & No  & No  & 1  & Rural\\\\\n\t7216 & No  & 36 & Yes & 131335 & Yes & No  & Female & College or beyond & 10 & Private    & 28490 & 1  & No  & No  & No  & No  & 4  & Rural\\\\\n\t7217 & No  & 38 & Yes & 83458  & Yes & No  & Female & College or beyond & 23 & Private    & 28260 & 6  & No  & Yes & No  & Yes & 9  & Urban\\\\\n\t7218 & No  & 41 & No  & 92185  & Yes & Yes & Male   & High School only  & 24 & Private    & 1500  & 11 & Yes & No  & No  & No  & 10 & Urban\\\\\n\t7219 & No  & 60 & No  & 19796  & Yes & No  & Female & College or beyond & 33 & Private    & 21690 & 1  & No  & Yes & No  & Yes & 1  & Urban\\\\\n\t7220 & No  & 45 & No  & 52966  & No  & No  & Male   & High School only  & 16 & Commercial & 11300 & 6  & Yes & Yes & Yes & Yes & 1  & Urban\\\\\n\t7222 & No  & 54 & No  & 62060  & Yes & Yes & Male   & High School only  & 51 & Private    & 1500  & 6  & No  & No  & No  & Yes & 1  & Urban\\\\\n\t7224 & Yes & 46 & No  & 45018  & No  & No  & Male   & High School only  & 26 & Private    & 15060 & 4  & No  & Yes & No  & No  & 1  & Rural\\\\\n\t7225 & No  & 48 & No  & 111305 & No  & No  & Female & College or beyond & 59 & Private    & 17430 & 13 & No  & No  & No  & Yes & 18 & Urban\\\\\n\t7226 & Yes & 38 & Yes & 12717  & No  & Yes & Female & College or beyond & 15 & Commercial & 24740 & 1  & No  & Yes & No  & Yes & 15 & Urban\\\\\n\t7227 & No  & 41 & No  & 6256   & No  & No  & Male   & High School only  & 41 & Private    & 5600  & 1  & No  & No  & No  & No  & 7  & Rural\\\\\n\t7228 & No  & 35 & No  & 43112  & No  & No  & Male   & High School only  & 51 & Commercial & 27330 & 10 & Yes & No  & No  & No  & 8  & Rural\\\\\n\t7231 & No  & 50 & No  & 43445  & Yes & Yes & Female & College or beyond & 36 & Private    & 22550 & 6  & No  & No  & No  & No  & 11 & Urban\\\\\n\\end{tabular}\n"
          },
          "metadata": {}
        }
      ]
    },
    {
      "cell_type": "code",
      "source": [
        "#Create an undersampled training subset\n",
        "set.seed(42)\n",
        "undersample<-downSample(x=xsdf, y=Train$CLAIM, yname = \"CLAIM\")\n",
        "table(undersample$CLAIM)"
      ],
      "metadata": {
        "colab": {
          "base_uri": "https://localhost:8080/",
          "height": 69
        },
        "id": "F2_6B9GG5AAU",
        "outputId": "a119f830-2c00-4aec-cf72-3d8d81de7755"
      },
      "execution_count": null,
      "outputs": [
        {
          "output_type": "display_data",
          "data": {
            "text/plain": [
              "\n",
              "  No  Yes \n",
              "1155 1155 "
            ]
          },
          "metadata": {}
        }
      ]
    },
    {
      "cell_type": "code",
      "source": [
        "#Create an oversampled training subset\n",
        "set.seed(42)\n",
        "oversample<-upSample(x=xsdf, y=Train$CLAIM , yname = \"CLAIM\")\n",
        "\n",
        "table(oversample$CLAIM )"
      ],
      "metadata": {
        "colab": {
          "base_uri": "https://localhost:8080/",
          "height": 69
        },
        "id": "-VxwmGeo5QP3",
        "outputId": "61709238-e228-40df-b836-1aeebe3bb90a"
      },
      "execution_count": null,
      "outputs": [
        {
          "output_type": "display_data",
          "data": {
            "text/plain": [
              "\n",
              "  No  Yes \n",
              "3163 3163 "
            ]
          },
          "metadata": {}
        }
      ]
    },
    {
      "cell_type": "code",
      "source": [
        "dim(Train)\n"
      ],
      "metadata": {
        "colab": {
          "base_uri": "https://localhost:8080/",
          "height": 34
        },
        "id": "74TcmY719IB4",
        "outputId": "ec942e81-b63c-4975-d897-497bc6ead847"
      },
      "execution_count": null,
      "outputs": [
        {
          "output_type": "display_data",
          "data": {
            "text/html": [
              "<style>\n",
              ".list-inline {list-style: none; margin:0; padding: 0}\n",
              ".list-inline>li {display: inline-block}\n",
              ".list-inline>li:not(:last-child)::after {content: \"\\00b7\"; padding: 0 .5ex}\n",
              "</style>\n",
              "<ol class=list-inline><li>4318</li><li>19</li></ol>\n"
            ],
            "text/markdown": "1. 4318\n2. 19\n\n\n",
            "text/latex": "\\begin{enumerate*}\n\\item 4318\n\\item 19\n\\end{enumerate*}\n",
            "text/plain": [
              "[1] 4318   19"
            ]
          },
          "metadata": {}
        }
      ]
    },
    {
      "cell_type": "code",
      "source": [
        "# Fit a logistic regression model to the training data\n",
        "logit <- glm(CLAIM ~ ., data = train, family = \"binomial\")\n",
        "\n",
        "# View the model summary\n",
        "summary(logit)\n"
      ],
      "metadata": {
        "colab": {
          "base_uri": "https://localhost:8080/",
          "height": 201
        },
        "id": "_KizDVcC5gnh",
        "outputId": "04900fbc-38f8-46e2-b004-02363cc04183"
      },
      "execution_count": null,
      "outputs": [
        {
          "output_type": "error",
          "ename": "ERROR",
          "evalue": "ignored",
          "traceback": [
            "Error in `contrasts<-`(`*tmp*`, value = contr.funs[1 + isOF[nn]]): contrasts can be applied only to factors with 2 or more levels\nTraceback:\n",
            "1. glm(CLAIM ~ ., data = train, family = \"binomial\")",
            "2. model.matrix(mt, mf, contrasts)",
            "3. model.matrix.default(mt, mf, contrasts)",
            "4. `contrasts<-`(`*tmp*`, value = contr.funs[1 + isOF[nn]])",
            "5. stop(\"contrasts can be applied only to factors with 2 or more levels\")"
          ]
        }
      ]
    },
    {
      "cell_type": "code",
      "source": [
        "# Convert CLAIM to binary factor\n",
        "oversample$CLAIM <- as.factor(oversample$CLAIM)"
      ],
      "metadata": {
        "id": "QIECfpqpDUqG"
      },
      "execution_count": null,
      "outputs": []
    },
    {
      "cell_type": "code",
      "source": [
        "\n",
        "# Remove variables AGE, TWC, and TRAVTIME\n",
        "input_vars <- setdiff(names(oversample), c(\"AGE\", \"TWC\", \"TRAVTIME\", \"CLAIM\"))"
      ],
      "metadata": {
        "id": "_hYTb1n3DVlR"
      },
      "execution_count": null,
      "outputs": []
    },
    {
      "cell_type": "code",
      "source": [
        "# Fit logistic regression model with remaining variables\n",
        "lrOver <- glm(CLAIM ~ ., data = oversample[, c(input_vars, \"CLAIM\")], family = binomial(link = \"logit\"))"
      ],
      "metadata": {
        "colab": {
          "base_uri": "https://localhost:8080/",
          "height": 208
        },
        "id": "vnyiL9cADWvb",
        "outputId": "9a02c0cb-5e81-4749-fcc5-3a29f365bae4"
      },
      "execution_count": null,
      "outputs": [
        {
          "output_type": "error",
          "ename": "ERROR",
          "evalue": "ignored",
          "traceback": [
            "Error in `contrasts<-`(`*tmp*`, value = contr.funs[1 + isOF[nn]]): contrasts can be applied only to factors with 2 or more levels\nTraceback:\n",
            "1. glm(CLAIM ~ ., data = oversample[, c(input_vars, \"CLAIM\")], family = binomial(link = \"logit\"))",
            "2. model.matrix(mt, mf, contrasts)",
            "3. model.matrix.default(mt, mf, contrasts)",
            "4. `contrasts<-`(`*tmp*`, value = contr.funs[1 + isOF[nn]])",
            "5. stop(\"contrasts can be applied only to factors with 2 or more levels\")"
          ]
        }
      ]
    },
    {
      "cell_type": "code",
      "source": [
        "sapply(oversample, function(x) if (is.factor(x)) length(levels(x)) else 0)\n"
      ],
      "metadata": {
        "colab": {
          "base_uri": "https://localhost:8080/",
          "height": 52
        },
        "id": "OhFY2o6pDebA",
        "outputId": "03b5d3b8-9627-4710-d2cf-817f6518141a"
      },
      "execution_count": null,
      "outputs": [
        {
          "output_type": "display_data",
          "data": {
            "text/html": [
              "<style>\n",
              ".dl-inline {width: auto; margin:0; padding: 0}\n",
              ".dl-inline>dt, .dl-inline>dd {float: none; width: auto; display: inline-block}\n",
              ".dl-inline>dt::after {content: \":\\0020\"; padding-right: .5ex}\n",
              ".dl-inline>dt:not(:first-of-type) {padding-left: .5ex}\n",
              "</style><dl class=dl-inline><dt>KIDSDRIV</dt><dd>2</dd><dt>AGE</dt><dd>0</dd><dt>HOMEKIDS</dt><dd>2</dd><dt>INCOME</dt><dd>1</dd><dt>HOMEOWN</dt><dd>2</dd><dt>MSTATUS</dt><dd>2</dd><dt>GENDER</dt><dd>2</dd><dt>EDUCATION</dt><dd>2</dd><dt>TRAVTIME</dt><dd>0</dd><dt>CAR_USE</dt><dd>2</dd><dt>BLUEBOOK</dt><dd>0</dd><dt>TWC</dt><dd>1</dd><dt>RED_CAR</dt><dd>2</dd><dt>CLM_BEF</dt><dd>2</dd><dt>REVOKED</dt><dd>2</dd><dt>MVR_PTS</dt><dd>2</dd><dt>CAR_AGE</dt><dd>30</dd><dt>URBANICITY</dt><dd>2</dd><dt>CLAIM</dt><dd>2</dd></dl>\n"
            ],
            "text/markdown": "KIDSDRIV\n:   2AGE\n:   0HOMEKIDS\n:   2INCOME\n:   1HOMEOWN\n:   2MSTATUS\n:   2GENDER\n:   2EDUCATION\n:   2TRAVTIME\n:   0CAR_USE\n:   2BLUEBOOK\n:   0TWC\n:   1RED_CAR\n:   2CLM_BEF\n:   2REVOKED\n:   2MVR_PTS\n:   2CAR_AGE\n:   30URBANICITY\n:   2CLAIM\n:   2\n\n",
            "text/latex": "\\begin{description*}\n\\item[KIDSDRIV] 2\n\\item[AGE] 0\n\\item[HOMEKIDS] 2\n\\item[INCOME] 1\n\\item[HOMEOWN] 2\n\\item[MSTATUS] 2\n\\item[GENDER] 2\n\\item[EDUCATION] 2\n\\item[TRAVTIME] 0\n\\item[CAR\\textbackslash{}\\_USE] 2\n\\item[BLUEBOOK] 0\n\\item[TWC] 1\n\\item[RED\\textbackslash{}\\_CAR] 2\n\\item[CLM\\textbackslash{}\\_BEF] 2\n\\item[REVOKED] 2\n\\item[MVR\\textbackslash{}\\_PTS] 2\n\\item[CAR\\textbackslash{}\\_AGE] 30\n\\item[URBANICITY] 2\n\\item[CLAIM] 2\n\\end{description*}\n",
            "text/plain": [
              "  KIDSDRIV        AGE   HOMEKIDS     INCOME    HOMEOWN    MSTATUS     GENDER \n",
              "         2          0          2          1          2          2          2 \n",
              " EDUCATION   TRAVTIME    CAR_USE   BLUEBOOK        TWC    RED_CAR    CLM_BEF \n",
              "         2          0          2          0          1          2          2 \n",
              "   REVOKED    MVR_PTS    CAR_AGE URBANICITY      CLAIM \n",
              "         2          2         30          2          2 "
            ]
          },
          "metadata": {}
        }
      ]
    },
    {
      "cell_type": "code",
      "source": [
        "# specify the contrasts for the factor variables in the oversample dataframe\n",
        "contrasts_df <- lapply(oversample[, sapply(oversample, is.factor)], contrasts)\n",
        "\n",
        "# fit logistic regression model with explicit contrasts\n",
        "lrOver <- glm(CLAIM ~ ., data = oversample, family = binomial(link = \"logit\"), contrasts = contrasts_df)\n",
        "\n",
        "# check model summary\n",
        "summary(lrOver)\n"
      ],
      "metadata": {
        "colab": {
          "base_uri": "https://localhost:8080/",
          "height": 208
        },
        "id": "fG9Nhxx7DlPA",
        "outputId": "782c9de2-65c4-4cfe-8360-92db1a7b4d47"
      },
      "execution_count": null,
      "outputs": [
        {
          "output_type": "error",
          "ename": "ERROR",
          "evalue": "ignored",
          "traceback": [
            "Error in rep.int(c(1, numeric(n)), n - 1L): invalid 'times' value\nTraceback:\n",
            "1. lapply(oversample[, sapply(oversample, is.factor)], contrasts)",
            "2. FUN(X[[i]], ...)",
            "3. ctrfn(levels(x), contrasts = contrasts)",
            "4. .Diag(levels, sparse = sparse)",
            "5. array(c(rep.int(c(1, numeric(n)), n - 1L), 1), d, dn)"
          ]
        }
      ]
    },
    {
      "cell_type": "code",
      "source": [
        "lapply(oversample[, sapply(oversample, function(x) is.factor(x) && length(levels(x)) > 1)], contrasts)\n"
      ],
      "metadata": {
        "colab": {
          "base_uri": "https://localhost:8080/",
          "height": 1000
        },
        "id": "n8rwWKApDqOG",
        "outputId": "f7b7e5b1-4d2f-4ec6-afb6-042b7fa84a21"
      },
      "execution_count": null,
      "outputs": [
        {
          "output_type": "display_data",
          "data": {
            "text/html": [
              "<dl>\n",
              "\t<dt>$KIDSDRIV</dt>\n",
              "\t\t<dd><table class=\"dataframe\">\n",
              "<caption>A matrix: 2 × 1 of type dbl</caption>\n",
              "<thead>\n",
              "\t<tr><th></th><th scope=col>Yes</th></tr>\n",
              "</thead>\n",
              "<tbody>\n",
              "\t<tr><th scope=row>No</th><td>0</td></tr>\n",
              "\t<tr><th scope=row>Yes</th><td>1</td></tr>\n",
              "</tbody>\n",
              "</table>\n",
              "</dd>\n",
              "\t<dt>$HOMEKIDS</dt>\n",
              "\t\t<dd><table class=\"dataframe\">\n",
              "<caption>A matrix: 2 × 1 of type dbl</caption>\n",
              "<thead>\n",
              "\t<tr><th></th><th scope=col>Yes</th></tr>\n",
              "</thead>\n",
              "<tbody>\n",
              "\t<tr><th scope=row>No</th><td>0</td></tr>\n",
              "\t<tr><th scope=row>Yes</th><td>1</td></tr>\n",
              "</tbody>\n",
              "</table>\n",
              "</dd>\n",
              "\t<dt>$HOMEOWN</dt>\n",
              "\t\t<dd><table class=\"dataframe\">\n",
              "<caption>A matrix: 2 × 1 of type dbl</caption>\n",
              "<thead>\n",
              "\t<tr><th></th><th scope=col>Yes</th></tr>\n",
              "</thead>\n",
              "<tbody>\n",
              "\t<tr><th scope=row>No</th><td>0</td></tr>\n",
              "\t<tr><th scope=row>Yes</th><td>1</td></tr>\n",
              "</tbody>\n",
              "</table>\n",
              "</dd>\n",
              "\t<dt>$MSTATUS</dt>\n",
              "\t\t<dd><table class=\"dataframe\">\n",
              "<caption>A matrix: 2 × 1 of type dbl</caption>\n",
              "<thead>\n",
              "\t<tr><th></th><th scope=col>Yes</th></tr>\n",
              "</thead>\n",
              "<tbody>\n",
              "\t<tr><th scope=row>No</th><td>0</td></tr>\n",
              "\t<tr><th scope=row>Yes</th><td>1</td></tr>\n",
              "</tbody>\n",
              "</table>\n",
              "</dd>\n",
              "\t<dt>$GENDER</dt>\n",
              "\t\t<dd><table class=\"dataframe\">\n",
              "<caption>A matrix: 2 × 1 of type dbl</caption>\n",
              "<thead>\n",
              "\t<tr><th></th><th scope=col>Female</th></tr>\n",
              "</thead>\n",
              "<tbody>\n",
              "\t<tr><th scope=row>Male</th><td>0</td></tr>\n",
              "\t<tr><th scope=row>Female</th><td>1</td></tr>\n",
              "</tbody>\n",
              "</table>\n",
              "</dd>\n",
              "\t<dt>$EDUCATION</dt>\n",
              "\t\t<dd><table class=\"dataframe\">\n",
              "<caption>A matrix: 2 × 1 of type dbl</caption>\n",
              "<thead>\n",
              "\t<tr><th></th><th scope=col>College or beyond</th></tr>\n",
              "</thead>\n",
              "<tbody>\n",
              "\t<tr><th scope=row>High School only</th><td>0</td></tr>\n",
              "\t<tr><th scope=row>College or beyond</th><td>1</td></tr>\n",
              "</tbody>\n",
              "</table>\n",
              "</dd>\n",
              "\t<dt>$CAR_USE</dt>\n",
              "\t\t<dd><table class=\"dataframe\">\n",
              "<caption>A matrix: 2 × 1 of type dbl</caption>\n",
              "<thead>\n",
              "\t<tr><th></th><th scope=col>Commercial</th></tr>\n",
              "</thead>\n",
              "<tbody>\n",
              "\t<tr><th scope=row>Private</th><td>0</td></tr>\n",
              "\t<tr><th scope=row>Commercial</th><td>1</td></tr>\n",
              "</tbody>\n",
              "</table>\n",
              "</dd>\n",
              "\t<dt>$RED_CAR</dt>\n",
              "\t\t<dd><table class=\"dataframe\">\n",
              "<caption>A matrix: 2 × 1 of type dbl</caption>\n",
              "<thead>\n",
              "\t<tr><th></th><th scope=col>Yes</th></tr>\n",
              "</thead>\n",
              "<tbody>\n",
              "\t<tr><th scope=row>No</th><td>0</td></tr>\n",
              "\t<tr><th scope=row>Yes</th><td>1</td></tr>\n",
              "</tbody>\n",
              "</table>\n",
              "</dd>\n",
              "\t<dt>$CLM_BEF</dt>\n",
              "\t\t<dd><table class=\"dataframe\">\n",
              "<caption>A matrix: 2 × 1 of type dbl</caption>\n",
              "<thead>\n",
              "\t<tr><th></th><th scope=col>Yes</th></tr>\n",
              "</thead>\n",
              "<tbody>\n",
              "\t<tr><th scope=row>No</th><td>0</td></tr>\n",
              "\t<tr><th scope=row>Yes</th><td>1</td></tr>\n",
              "</tbody>\n",
              "</table>\n",
              "</dd>\n",
              "\t<dt>$REVOKED</dt>\n",
              "\t\t<dd><table class=\"dataframe\">\n",
              "<caption>A matrix: 2 × 1 of type dbl</caption>\n",
              "<thead>\n",
              "\t<tr><th></th><th scope=col>Yes</th></tr>\n",
              "</thead>\n",
              "<tbody>\n",
              "\t<tr><th scope=row>No</th><td>0</td></tr>\n",
              "\t<tr><th scope=row>Yes</th><td>1</td></tr>\n",
              "</tbody>\n",
              "</table>\n",
              "</dd>\n",
              "\t<dt>$MVR_PTS</dt>\n",
              "\t\t<dd><table class=\"dataframe\">\n",
              "<caption>A matrix: 2 × 1 of type dbl</caption>\n",
              "<thead>\n",
              "\t<tr><th></th><th scope=col>Yes</th></tr>\n",
              "</thead>\n",
              "<tbody>\n",
              "\t<tr><th scope=row>No</th><td>0</td></tr>\n",
              "\t<tr><th scope=row>Yes</th><td>1</td></tr>\n",
              "</tbody>\n",
              "</table>\n",
              "</dd>\n",
              "\t<dt>$CAR_AGE</dt>\n",
              "\t\t<dd><table class=\"dataframe\">\n",
              "<caption>A matrix: 30 × 29 of type dbl</caption>\n",
              "<thead>\n",
              "\t<tr><th></th><th scope=col>0</th><th scope=col>1</th><th scope=col>2</th><th scope=col>3</th><th scope=col>4</th><th scope=col>5</th><th scope=col>6</th><th scope=col>7</th><th scope=col>8</th><th scope=col>9</th><th scope=col>⋯</th><th scope=col>19</th><th scope=col>20</th><th scope=col>21</th><th scope=col>22</th><th scope=col>23</th><th scope=col>24</th><th scope=col>25</th><th scope=col>26</th><th scope=col>27</th><th scope=col>28</th></tr>\n",
              "</thead>\n",
              "<tbody>\n",
              "\t<tr><th scope=row>-3</th><td>0</td><td>0</td><td>0</td><td>0</td><td>0</td><td>0</td><td>0</td><td>0</td><td>0</td><td>0</td><td>⋯</td><td>0</td><td>0</td><td>0</td><td>0</td><td>0</td><td>0</td><td>0</td><td>0</td><td>0</td><td>0</td></tr>\n",
              "\t<tr><th scope=row>0</th><td>1</td><td>0</td><td>0</td><td>0</td><td>0</td><td>0</td><td>0</td><td>0</td><td>0</td><td>0</td><td>⋯</td><td>0</td><td>0</td><td>0</td><td>0</td><td>0</td><td>0</td><td>0</td><td>0</td><td>0</td><td>0</td></tr>\n",
              "\t<tr><th scope=row>1</th><td>0</td><td>1</td><td>0</td><td>0</td><td>0</td><td>0</td><td>0</td><td>0</td><td>0</td><td>0</td><td>⋯</td><td>0</td><td>0</td><td>0</td><td>0</td><td>0</td><td>0</td><td>0</td><td>0</td><td>0</td><td>0</td></tr>\n",
              "\t<tr><th scope=row>2</th><td>0</td><td>0</td><td>1</td><td>0</td><td>0</td><td>0</td><td>0</td><td>0</td><td>0</td><td>0</td><td>⋯</td><td>0</td><td>0</td><td>0</td><td>0</td><td>0</td><td>0</td><td>0</td><td>0</td><td>0</td><td>0</td></tr>\n",
              "\t<tr><th scope=row>3</th><td>0</td><td>0</td><td>0</td><td>1</td><td>0</td><td>0</td><td>0</td><td>0</td><td>0</td><td>0</td><td>⋯</td><td>0</td><td>0</td><td>0</td><td>0</td><td>0</td><td>0</td><td>0</td><td>0</td><td>0</td><td>0</td></tr>\n",
              "\t<tr><th scope=row>4</th><td>0</td><td>0</td><td>0</td><td>0</td><td>1</td><td>0</td><td>0</td><td>0</td><td>0</td><td>0</td><td>⋯</td><td>0</td><td>0</td><td>0</td><td>0</td><td>0</td><td>0</td><td>0</td><td>0</td><td>0</td><td>0</td></tr>\n",
              "\t<tr><th scope=row>5</th><td>0</td><td>0</td><td>0</td><td>0</td><td>0</td><td>1</td><td>0</td><td>0</td><td>0</td><td>0</td><td>⋯</td><td>0</td><td>0</td><td>0</td><td>0</td><td>0</td><td>0</td><td>0</td><td>0</td><td>0</td><td>0</td></tr>\n",
              "\t<tr><th scope=row>6</th><td>0</td><td>0</td><td>0</td><td>0</td><td>0</td><td>0</td><td>1</td><td>0</td><td>0</td><td>0</td><td>⋯</td><td>0</td><td>0</td><td>0</td><td>0</td><td>0</td><td>0</td><td>0</td><td>0</td><td>0</td><td>0</td></tr>\n",
              "\t<tr><th scope=row>7</th><td>0</td><td>0</td><td>0</td><td>0</td><td>0</td><td>0</td><td>0</td><td>1</td><td>0</td><td>0</td><td>⋯</td><td>0</td><td>0</td><td>0</td><td>0</td><td>0</td><td>0</td><td>0</td><td>0</td><td>0</td><td>0</td></tr>\n",
              "\t<tr><th scope=row>8</th><td>0</td><td>0</td><td>0</td><td>0</td><td>0</td><td>0</td><td>0</td><td>0</td><td>1</td><td>0</td><td>⋯</td><td>0</td><td>0</td><td>0</td><td>0</td><td>0</td><td>0</td><td>0</td><td>0</td><td>0</td><td>0</td></tr>\n",
              "\t<tr><th scope=row>9</th><td>0</td><td>0</td><td>0</td><td>0</td><td>0</td><td>0</td><td>0</td><td>0</td><td>0</td><td>1</td><td>⋯</td><td>0</td><td>0</td><td>0</td><td>0</td><td>0</td><td>0</td><td>0</td><td>0</td><td>0</td><td>0</td></tr>\n",
              "\t<tr><th scope=row>10</th><td>0</td><td>0</td><td>0</td><td>0</td><td>0</td><td>0</td><td>0</td><td>0</td><td>0</td><td>0</td><td>⋯</td><td>0</td><td>0</td><td>0</td><td>0</td><td>0</td><td>0</td><td>0</td><td>0</td><td>0</td><td>0</td></tr>\n",
              "\t<tr><th scope=row>11</th><td>0</td><td>0</td><td>0</td><td>0</td><td>0</td><td>0</td><td>0</td><td>0</td><td>0</td><td>0</td><td>⋯</td><td>0</td><td>0</td><td>0</td><td>0</td><td>0</td><td>0</td><td>0</td><td>0</td><td>0</td><td>0</td></tr>\n",
              "\t<tr><th scope=row>12</th><td>0</td><td>0</td><td>0</td><td>0</td><td>0</td><td>0</td><td>0</td><td>0</td><td>0</td><td>0</td><td>⋯</td><td>0</td><td>0</td><td>0</td><td>0</td><td>0</td><td>0</td><td>0</td><td>0</td><td>0</td><td>0</td></tr>\n",
              "\t<tr><th scope=row>13</th><td>0</td><td>0</td><td>0</td><td>0</td><td>0</td><td>0</td><td>0</td><td>0</td><td>0</td><td>0</td><td>⋯</td><td>0</td><td>0</td><td>0</td><td>0</td><td>0</td><td>0</td><td>0</td><td>0</td><td>0</td><td>0</td></tr>\n",
              "\t<tr><th scope=row>14</th><td>0</td><td>0</td><td>0</td><td>0</td><td>0</td><td>0</td><td>0</td><td>0</td><td>0</td><td>0</td><td>⋯</td><td>0</td><td>0</td><td>0</td><td>0</td><td>0</td><td>0</td><td>0</td><td>0</td><td>0</td><td>0</td></tr>\n",
              "\t<tr><th scope=row>15</th><td>0</td><td>0</td><td>0</td><td>0</td><td>0</td><td>0</td><td>0</td><td>0</td><td>0</td><td>0</td><td>⋯</td><td>0</td><td>0</td><td>0</td><td>0</td><td>0</td><td>0</td><td>0</td><td>0</td><td>0</td><td>0</td></tr>\n",
              "\t<tr><th scope=row>16</th><td>0</td><td>0</td><td>0</td><td>0</td><td>0</td><td>0</td><td>0</td><td>0</td><td>0</td><td>0</td><td>⋯</td><td>0</td><td>0</td><td>0</td><td>0</td><td>0</td><td>0</td><td>0</td><td>0</td><td>0</td><td>0</td></tr>\n",
              "\t<tr><th scope=row>17</th><td>0</td><td>0</td><td>0</td><td>0</td><td>0</td><td>0</td><td>0</td><td>0</td><td>0</td><td>0</td><td>⋯</td><td>0</td><td>0</td><td>0</td><td>0</td><td>0</td><td>0</td><td>0</td><td>0</td><td>0</td><td>0</td></tr>\n",
              "\t<tr><th scope=row>18</th><td>0</td><td>0</td><td>0</td><td>0</td><td>0</td><td>0</td><td>0</td><td>0</td><td>0</td><td>0</td><td>⋯</td><td>0</td><td>0</td><td>0</td><td>0</td><td>0</td><td>0</td><td>0</td><td>0</td><td>0</td><td>0</td></tr>\n",
              "\t<tr><th scope=row>19</th><td>0</td><td>0</td><td>0</td><td>0</td><td>0</td><td>0</td><td>0</td><td>0</td><td>0</td><td>0</td><td>⋯</td><td>1</td><td>0</td><td>0</td><td>0</td><td>0</td><td>0</td><td>0</td><td>0</td><td>0</td><td>0</td></tr>\n",
              "\t<tr><th scope=row>20</th><td>0</td><td>0</td><td>0</td><td>0</td><td>0</td><td>0</td><td>0</td><td>0</td><td>0</td><td>0</td><td>⋯</td><td>0</td><td>1</td><td>0</td><td>0</td><td>0</td><td>0</td><td>0</td><td>0</td><td>0</td><td>0</td></tr>\n",
              "\t<tr><th scope=row>21</th><td>0</td><td>0</td><td>0</td><td>0</td><td>0</td><td>0</td><td>0</td><td>0</td><td>0</td><td>0</td><td>⋯</td><td>0</td><td>0</td><td>1</td><td>0</td><td>0</td><td>0</td><td>0</td><td>0</td><td>0</td><td>0</td></tr>\n",
              "\t<tr><th scope=row>22</th><td>0</td><td>0</td><td>0</td><td>0</td><td>0</td><td>0</td><td>0</td><td>0</td><td>0</td><td>0</td><td>⋯</td><td>0</td><td>0</td><td>0</td><td>1</td><td>0</td><td>0</td><td>0</td><td>0</td><td>0</td><td>0</td></tr>\n",
              "\t<tr><th scope=row>23</th><td>0</td><td>0</td><td>0</td><td>0</td><td>0</td><td>0</td><td>0</td><td>0</td><td>0</td><td>0</td><td>⋯</td><td>0</td><td>0</td><td>0</td><td>0</td><td>1</td><td>0</td><td>0</td><td>0</td><td>0</td><td>0</td></tr>\n",
              "\t<tr><th scope=row>24</th><td>0</td><td>0</td><td>0</td><td>0</td><td>0</td><td>0</td><td>0</td><td>0</td><td>0</td><td>0</td><td>⋯</td><td>0</td><td>0</td><td>0</td><td>0</td><td>0</td><td>1</td><td>0</td><td>0</td><td>0</td><td>0</td></tr>\n",
              "\t<tr><th scope=row>25</th><td>0</td><td>0</td><td>0</td><td>0</td><td>0</td><td>0</td><td>0</td><td>0</td><td>0</td><td>0</td><td>⋯</td><td>0</td><td>0</td><td>0</td><td>0</td><td>0</td><td>0</td><td>1</td><td>0</td><td>0</td><td>0</td></tr>\n",
              "\t<tr><th scope=row>26</th><td>0</td><td>0</td><td>0</td><td>0</td><td>0</td><td>0</td><td>0</td><td>0</td><td>0</td><td>0</td><td>⋯</td><td>0</td><td>0</td><td>0</td><td>0</td><td>0</td><td>0</td><td>0</td><td>1</td><td>0</td><td>0</td></tr>\n",
              "\t<tr><th scope=row>27</th><td>0</td><td>0</td><td>0</td><td>0</td><td>0</td><td>0</td><td>0</td><td>0</td><td>0</td><td>0</td><td>⋯</td><td>0</td><td>0</td><td>0</td><td>0</td><td>0</td><td>0</td><td>0</td><td>0</td><td>1</td><td>0</td></tr>\n",
              "\t<tr><th scope=row>28</th><td>0</td><td>0</td><td>0</td><td>0</td><td>0</td><td>0</td><td>0</td><td>0</td><td>0</td><td>0</td><td>⋯</td><td>0</td><td>0</td><td>0</td><td>0</td><td>0</td><td>0</td><td>0</td><td>0</td><td>0</td><td>1</td></tr>\n",
              "</tbody>\n",
              "</table>\n",
              "</dd>\n",
              "\t<dt>$URBANICITY</dt>\n",
              "\t\t<dd><table class=\"dataframe\">\n",
              "<caption>A matrix: 2 × 1 of type dbl</caption>\n",
              "<thead>\n",
              "\t<tr><th></th><th scope=col>Urban</th></tr>\n",
              "</thead>\n",
              "<tbody>\n",
              "\t<tr><th scope=row>Rural</th><td>0</td></tr>\n",
              "\t<tr><th scope=row>Urban</th><td>1</td></tr>\n",
              "</tbody>\n",
              "</table>\n",
              "</dd>\n",
              "\t<dt>$CLAIM</dt>\n",
              "\t\t<dd><table class=\"dataframe\">\n",
              "<caption>A matrix: 2 × 1 of type dbl</caption>\n",
              "<thead>\n",
              "\t<tr><th></th><th scope=col>Yes</th></tr>\n",
              "</thead>\n",
              "<tbody>\n",
              "\t<tr><th scope=row>No</th><td>0</td></tr>\n",
              "\t<tr><th scope=row>Yes</th><td>1</td></tr>\n",
              "</tbody>\n",
              "</table>\n",
              "</dd>\n",
              "</dl>\n"
            ],
            "text/markdown": "$KIDSDRIV\n:   \nA matrix: 2 × 1 of type dbl\n\n| <!--/--> | Yes |\n|---|---|\n| No | 0 |\n| Yes | 1 |\n\n\n$HOMEKIDS\n:   \nA matrix: 2 × 1 of type dbl\n\n| <!--/--> | Yes |\n|---|---|\n| No | 0 |\n| Yes | 1 |\n\n\n$HOMEOWN\n:   \nA matrix: 2 × 1 of type dbl\n\n| <!--/--> | Yes |\n|---|---|\n| No | 0 |\n| Yes | 1 |\n\n\n$MSTATUS\n:   \nA matrix: 2 × 1 of type dbl\n\n| <!--/--> | Yes |\n|---|---|\n| No | 0 |\n| Yes | 1 |\n\n\n$GENDER\n:   \nA matrix: 2 × 1 of type dbl\n\n| <!--/--> | Female |\n|---|---|\n| Male | 0 |\n| Female | 1 |\n\n\n$EDUCATION\n:   \nA matrix: 2 × 1 of type dbl\n\n| <!--/--> | College or beyond |\n|---|---|\n| High School only | 0 |\n| College or beyond | 1 |\n\n\n$CAR_USE\n:   \nA matrix: 2 × 1 of type dbl\n\n| <!--/--> | Commercial |\n|---|---|\n| Private | 0 |\n| Commercial | 1 |\n\n\n$RED_CAR\n:   \nA matrix: 2 × 1 of type dbl\n\n| <!--/--> | Yes |\n|---|---|\n| No | 0 |\n| Yes | 1 |\n\n\n$CLM_BEF\n:   \nA matrix: 2 × 1 of type dbl\n\n| <!--/--> | Yes |\n|---|---|\n| No | 0 |\n| Yes | 1 |\n\n\n$REVOKED\n:   \nA matrix: 2 × 1 of type dbl\n\n| <!--/--> | Yes |\n|---|---|\n| No | 0 |\n| Yes | 1 |\n\n\n$MVR_PTS\n:   \nA matrix: 2 × 1 of type dbl\n\n| <!--/--> | Yes |\n|---|---|\n| No | 0 |\n| Yes | 1 |\n\n\n$CAR_AGE\n:   \nA matrix: 30 × 29 of type dbl\n\n| <!--/--> | 0 | 1 | 2 | 3 | 4 | 5 | 6 | 7 | 8 | 9 | ⋯ | 19 | 20 | 21 | 22 | 23 | 24 | 25 | 26 | 27 | 28 |\n|---|---|---|---|---|---|---|---|---|---|---|---|---|---|---|---|---|---|---|---|---|---|\n| -3 | 0 | 0 | 0 | 0 | 0 | 0 | 0 | 0 | 0 | 0 | ⋯ | 0 | 0 | 0 | 0 | 0 | 0 | 0 | 0 | 0 | 0 |\n| 0 | 1 | 0 | 0 | 0 | 0 | 0 | 0 | 0 | 0 | 0 | ⋯ | 0 | 0 | 0 | 0 | 0 | 0 | 0 | 0 | 0 | 0 |\n| 1 | 0 | 1 | 0 | 0 | 0 | 0 | 0 | 0 | 0 | 0 | ⋯ | 0 | 0 | 0 | 0 | 0 | 0 | 0 | 0 | 0 | 0 |\n| 2 | 0 | 0 | 1 | 0 | 0 | 0 | 0 | 0 | 0 | 0 | ⋯ | 0 | 0 | 0 | 0 | 0 | 0 | 0 | 0 | 0 | 0 |\n| 3 | 0 | 0 | 0 | 1 | 0 | 0 | 0 | 0 | 0 | 0 | ⋯ | 0 | 0 | 0 | 0 | 0 | 0 | 0 | 0 | 0 | 0 |\n| 4 | 0 | 0 | 0 | 0 | 1 | 0 | 0 | 0 | 0 | 0 | ⋯ | 0 | 0 | 0 | 0 | 0 | 0 | 0 | 0 | 0 | 0 |\n| 5 | 0 | 0 | 0 | 0 | 0 | 1 | 0 | 0 | 0 | 0 | ⋯ | 0 | 0 | 0 | 0 | 0 | 0 | 0 | 0 | 0 | 0 |\n| 6 | 0 | 0 | 0 | 0 | 0 | 0 | 1 | 0 | 0 | 0 | ⋯ | 0 | 0 | 0 | 0 | 0 | 0 | 0 | 0 | 0 | 0 |\n| 7 | 0 | 0 | 0 | 0 | 0 | 0 | 0 | 1 | 0 | 0 | ⋯ | 0 | 0 | 0 | 0 | 0 | 0 | 0 | 0 | 0 | 0 |\n| 8 | 0 | 0 | 0 | 0 | 0 | 0 | 0 | 0 | 1 | 0 | ⋯ | 0 | 0 | 0 | 0 | 0 | 0 | 0 | 0 | 0 | 0 |\n| 9 | 0 | 0 | 0 | 0 | 0 | 0 | 0 | 0 | 0 | 1 | ⋯ | 0 | 0 | 0 | 0 | 0 | 0 | 0 | 0 | 0 | 0 |\n| 10 | 0 | 0 | 0 | 0 | 0 | 0 | 0 | 0 | 0 | 0 | ⋯ | 0 | 0 | 0 | 0 | 0 | 0 | 0 | 0 | 0 | 0 |\n| 11 | 0 | 0 | 0 | 0 | 0 | 0 | 0 | 0 | 0 | 0 | ⋯ | 0 | 0 | 0 | 0 | 0 | 0 | 0 | 0 | 0 | 0 |\n| 12 | 0 | 0 | 0 | 0 | 0 | 0 | 0 | 0 | 0 | 0 | ⋯ | 0 | 0 | 0 | 0 | 0 | 0 | 0 | 0 | 0 | 0 |\n| 13 | 0 | 0 | 0 | 0 | 0 | 0 | 0 | 0 | 0 | 0 | ⋯ | 0 | 0 | 0 | 0 | 0 | 0 | 0 | 0 | 0 | 0 |\n| 14 | 0 | 0 | 0 | 0 | 0 | 0 | 0 | 0 | 0 | 0 | ⋯ | 0 | 0 | 0 | 0 | 0 | 0 | 0 | 0 | 0 | 0 |\n| 15 | 0 | 0 | 0 | 0 | 0 | 0 | 0 | 0 | 0 | 0 | ⋯ | 0 | 0 | 0 | 0 | 0 | 0 | 0 | 0 | 0 | 0 |\n| 16 | 0 | 0 | 0 | 0 | 0 | 0 | 0 | 0 | 0 | 0 | ⋯ | 0 | 0 | 0 | 0 | 0 | 0 | 0 | 0 | 0 | 0 |\n| 17 | 0 | 0 | 0 | 0 | 0 | 0 | 0 | 0 | 0 | 0 | ⋯ | 0 | 0 | 0 | 0 | 0 | 0 | 0 | 0 | 0 | 0 |\n| 18 | 0 | 0 | 0 | 0 | 0 | 0 | 0 | 0 | 0 | 0 | ⋯ | 0 | 0 | 0 | 0 | 0 | 0 | 0 | 0 | 0 | 0 |\n| 19 | 0 | 0 | 0 | 0 | 0 | 0 | 0 | 0 | 0 | 0 | ⋯ | 1 | 0 | 0 | 0 | 0 | 0 | 0 | 0 | 0 | 0 |\n| 20 | 0 | 0 | 0 | 0 | 0 | 0 | 0 | 0 | 0 | 0 | ⋯ | 0 | 1 | 0 | 0 | 0 | 0 | 0 | 0 | 0 | 0 |\n| 21 | 0 | 0 | 0 | 0 | 0 | 0 | 0 | 0 | 0 | 0 | ⋯ | 0 | 0 | 1 | 0 | 0 | 0 | 0 | 0 | 0 | 0 |\n| 22 | 0 | 0 | 0 | 0 | 0 | 0 | 0 | 0 | 0 | 0 | ⋯ | 0 | 0 | 0 | 1 | 0 | 0 | 0 | 0 | 0 | 0 |\n| 23 | 0 | 0 | 0 | 0 | 0 | 0 | 0 | 0 | 0 | 0 | ⋯ | 0 | 0 | 0 | 0 | 1 | 0 | 0 | 0 | 0 | 0 |\n| 24 | 0 | 0 | 0 | 0 | 0 | 0 | 0 | 0 | 0 | 0 | ⋯ | 0 | 0 | 0 | 0 | 0 | 1 | 0 | 0 | 0 | 0 |\n| 25 | 0 | 0 | 0 | 0 | 0 | 0 | 0 | 0 | 0 | 0 | ⋯ | 0 | 0 | 0 | 0 | 0 | 0 | 1 | 0 | 0 | 0 |\n| 26 | 0 | 0 | 0 | 0 | 0 | 0 | 0 | 0 | 0 | 0 | ⋯ | 0 | 0 | 0 | 0 | 0 | 0 | 0 | 1 | 0 | 0 |\n| 27 | 0 | 0 | 0 | 0 | 0 | 0 | 0 | 0 | 0 | 0 | ⋯ | 0 | 0 | 0 | 0 | 0 | 0 | 0 | 0 | 1 | 0 |\n| 28 | 0 | 0 | 0 | 0 | 0 | 0 | 0 | 0 | 0 | 0 | ⋯ | 0 | 0 | 0 | 0 | 0 | 0 | 0 | 0 | 0 | 1 |\n\n\n$URBANICITY\n:   \nA matrix: 2 × 1 of type dbl\n\n| <!--/--> | Urban |\n|---|---|\n| Rural | 0 |\n| Urban | 1 |\n\n\n$CLAIM\n:   \nA matrix: 2 × 1 of type dbl\n\n| <!--/--> | Yes |\n|---|---|\n| No | 0 |\n| Yes | 1 |\n\n\n\n\n",
            "text/latex": "\\begin{description}\n\\item[\\$KIDSDRIV] A matrix: 2 × 1 of type dbl\n\\begin{tabular}{r|l}\n  & Yes\\\\\n\\hline\n\tNo & 0\\\\\n\tYes & 1\\\\\n\\end{tabular}\n\n\\item[\\$HOMEKIDS] A matrix: 2 × 1 of type dbl\n\\begin{tabular}{r|l}\n  & Yes\\\\\n\\hline\n\tNo & 0\\\\\n\tYes & 1\\\\\n\\end{tabular}\n\n\\item[\\$HOMEOWN] A matrix: 2 × 1 of type dbl\n\\begin{tabular}{r|l}\n  & Yes\\\\\n\\hline\n\tNo & 0\\\\\n\tYes & 1\\\\\n\\end{tabular}\n\n\\item[\\$MSTATUS] A matrix: 2 × 1 of type dbl\n\\begin{tabular}{r|l}\n  & Yes\\\\\n\\hline\n\tNo & 0\\\\\n\tYes & 1\\\\\n\\end{tabular}\n\n\\item[\\$GENDER] A matrix: 2 × 1 of type dbl\n\\begin{tabular}{r|l}\n  & Female\\\\\n\\hline\n\tMale & 0\\\\\n\tFemale & 1\\\\\n\\end{tabular}\n\n\\item[\\$EDUCATION] A matrix: 2 × 1 of type dbl\n\\begin{tabular}{r|l}\n  & College or beyond\\\\\n\\hline\n\tHigh School only & 0\\\\\n\tCollege or beyond & 1\\\\\n\\end{tabular}\n\n\\item[\\$CAR\\_USE] A matrix: 2 × 1 of type dbl\n\\begin{tabular}{r|l}\n  & Commercial\\\\\n\\hline\n\tPrivate & 0\\\\\n\tCommercial & 1\\\\\n\\end{tabular}\n\n\\item[\\$RED\\_CAR] A matrix: 2 × 1 of type dbl\n\\begin{tabular}{r|l}\n  & Yes\\\\\n\\hline\n\tNo & 0\\\\\n\tYes & 1\\\\\n\\end{tabular}\n\n\\item[\\$CLM\\_BEF] A matrix: 2 × 1 of type dbl\n\\begin{tabular}{r|l}\n  & Yes\\\\\n\\hline\n\tNo & 0\\\\\n\tYes & 1\\\\\n\\end{tabular}\n\n\\item[\\$REVOKED] A matrix: 2 × 1 of type dbl\n\\begin{tabular}{r|l}\n  & Yes\\\\\n\\hline\n\tNo & 0\\\\\n\tYes & 1\\\\\n\\end{tabular}\n\n\\item[\\$MVR\\_PTS] A matrix: 2 × 1 of type dbl\n\\begin{tabular}{r|l}\n  & Yes\\\\\n\\hline\n\tNo & 0\\\\\n\tYes & 1\\\\\n\\end{tabular}\n\n\\item[\\$CAR\\_AGE] A matrix: 30 × 29 of type dbl\n\\begin{tabular}{r|lllllllllllllllllllll}\n  & 0 & 1 & 2 & 3 & 4 & 5 & 6 & 7 & 8 & 9 & ⋯ & 19 & 20 & 21 & 22 & 23 & 24 & 25 & 26 & 27 & 28\\\\\n\\hline\n\t-3 & 0 & 0 & 0 & 0 & 0 & 0 & 0 & 0 & 0 & 0 & ⋯ & 0 & 0 & 0 & 0 & 0 & 0 & 0 & 0 & 0 & 0\\\\\n\t0 & 1 & 0 & 0 & 0 & 0 & 0 & 0 & 0 & 0 & 0 & ⋯ & 0 & 0 & 0 & 0 & 0 & 0 & 0 & 0 & 0 & 0\\\\\n\t1 & 0 & 1 & 0 & 0 & 0 & 0 & 0 & 0 & 0 & 0 & ⋯ & 0 & 0 & 0 & 0 & 0 & 0 & 0 & 0 & 0 & 0\\\\\n\t2 & 0 & 0 & 1 & 0 & 0 & 0 & 0 & 0 & 0 & 0 & ⋯ & 0 & 0 & 0 & 0 & 0 & 0 & 0 & 0 & 0 & 0\\\\\n\t3 & 0 & 0 & 0 & 1 & 0 & 0 & 0 & 0 & 0 & 0 & ⋯ & 0 & 0 & 0 & 0 & 0 & 0 & 0 & 0 & 0 & 0\\\\\n\t4 & 0 & 0 & 0 & 0 & 1 & 0 & 0 & 0 & 0 & 0 & ⋯ & 0 & 0 & 0 & 0 & 0 & 0 & 0 & 0 & 0 & 0\\\\\n\t5 & 0 & 0 & 0 & 0 & 0 & 1 & 0 & 0 & 0 & 0 & ⋯ & 0 & 0 & 0 & 0 & 0 & 0 & 0 & 0 & 0 & 0\\\\\n\t6 & 0 & 0 & 0 & 0 & 0 & 0 & 1 & 0 & 0 & 0 & ⋯ & 0 & 0 & 0 & 0 & 0 & 0 & 0 & 0 & 0 & 0\\\\\n\t7 & 0 & 0 & 0 & 0 & 0 & 0 & 0 & 1 & 0 & 0 & ⋯ & 0 & 0 & 0 & 0 & 0 & 0 & 0 & 0 & 0 & 0\\\\\n\t8 & 0 & 0 & 0 & 0 & 0 & 0 & 0 & 0 & 1 & 0 & ⋯ & 0 & 0 & 0 & 0 & 0 & 0 & 0 & 0 & 0 & 0\\\\\n\t9 & 0 & 0 & 0 & 0 & 0 & 0 & 0 & 0 & 0 & 1 & ⋯ & 0 & 0 & 0 & 0 & 0 & 0 & 0 & 0 & 0 & 0\\\\\n\t10 & 0 & 0 & 0 & 0 & 0 & 0 & 0 & 0 & 0 & 0 & ⋯ & 0 & 0 & 0 & 0 & 0 & 0 & 0 & 0 & 0 & 0\\\\\n\t11 & 0 & 0 & 0 & 0 & 0 & 0 & 0 & 0 & 0 & 0 & ⋯ & 0 & 0 & 0 & 0 & 0 & 0 & 0 & 0 & 0 & 0\\\\\n\t12 & 0 & 0 & 0 & 0 & 0 & 0 & 0 & 0 & 0 & 0 & ⋯ & 0 & 0 & 0 & 0 & 0 & 0 & 0 & 0 & 0 & 0\\\\\n\t13 & 0 & 0 & 0 & 0 & 0 & 0 & 0 & 0 & 0 & 0 & ⋯ & 0 & 0 & 0 & 0 & 0 & 0 & 0 & 0 & 0 & 0\\\\\n\t14 & 0 & 0 & 0 & 0 & 0 & 0 & 0 & 0 & 0 & 0 & ⋯ & 0 & 0 & 0 & 0 & 0 & 0 & 0 & 0 & 0 & 0\\\\\n\t15 & 0 & 0 & 0 & 0 & 0 & 0 & 0 & 0 & 0 & 0 & ⋯ & 0 & 0 & 0 & 0 & 0 & 0 & 0 & 0 & 0 & 0\\\\\n\t16 & 0 & 0 & 0 & 0 & 0 & 0 & 0 & 0 & 0 & 0 & ⋯ & 0 & 0 & 0 & 0 & 0 & 0 & 0 & 0 & 0 & 0\\\\\n\t17 & 0 & 0 & 0 & 0 & 0 & 0 & 0 & 0 & 0 & 0 & ⋯ & 0 & 0 & 0 & 0 & 0 & 0 & 0 & 0 & 0 & 0\\\\\n\t18 & 0 & 0 & 0 & 0 & 0 & 0 & 0 & 0 & 0 & 0 & ⋯ & 0 & 0 & 0 & 0 & 0 & 0 & 0 & 0 & 0 & 0\\\\\n\t19 & 0 & 0 & 0 & 0 & 0 & 0 & 0 & 0 & 0 & 0 & ⋯ & 1 & 0 & 0 & 0 & 0 & 0 & 0 & 0 & 0 & 0\\\\\n\t20 & 0 & 0 & 0 & 0 & 0 & 0 & 0 & 0 & 0 & 0 & ⋯ & 0 & 1 & 0 & 0 & 0 & 0 & 0 & 0 & 0 & 0\\\\\n\t21 & 0 & 0 & 0 & 0 & 0 & 0 & 0 & 0 & 0 & 0 & ⋯ & 0 & 0 & 1 & 0 & 0 & 0 & 0 & 0 & 0 & 0\\\\\n\t22 & 0 & 0 & 0 & 0 & 0 & 0 & 0 & 0 & 0 & 0 & ⋯ & 0 & 0 & 0 & 1 & 0 & 0 & 0 & 0 & 0 & 0\\\\\n\t23 & 0 & 0 & 0 & 0 & 0 & 0 & 0 & 0 & 0 & 0 & ⋯ & 0 & 0 & 0 & 0 & 1 & 0 & 0 & 0 & 0 & 0\\\\\n\t24 & 0 & 0 & 0 & 0 & 0 & 0 & 0 & 0 & 0 & 0 & ⋯ & 0 & 0 & 0 & 0 & 0 & 1 & 0 & 0 & 0 & 0\\\\\n\t25 & 0 & 0 & 0 & 0 & 0 & 0 & 0 & 0 & 0 & 0 & ⋯ & 0 & 0 & 0 & 0 & 0 & 0 & 1 & 0 & 0 & 0\\\\\n\t26 & 0 & 0 & 0 & 0 & 0 & 0 & 0 & 0 & 0 & 0 & ⋯ & 0 & 0 & 0 & 0 & 0 & 0 & 0 & 1 & 0 & 0\\\\\n\t27 & 0 & 0 & 0 & 0 & 0 & 0 & 0 & 0 & 0 & 0 & ⋯ & 0 & 0 & 0 & 0 & 0 & 0 & 0 & 0 & 1 & 0\\\\\n\t28 & 0 & 0 & 0 & 0 & 0 & 0 & 0 & 0 & 0 & 0 & ⋯ & 0 & 0 & 0 & 0 & 0 & 0 & 0 & 0 & 0 & 1\\\\\n\\end{tabular}\n\n\\item[\\$URBANICITY] A matrix: 2 × 1 of type dbl\n\\begin{tabular}{r|l}\n  & Urban\\\\\n\\hline\n\tRural & 0\\\\\n\tUrban & 1\\\\\n\\end{tabular}\n\n\\item[\\$CLAIM] A matrix: 2 × 1 of type dbl\n\\begin{tabular}{r|l}\n  & Yes\\\\\n\\hline\n\tNo & 0\\\\\n\tYes & 1\\\\\n\\end{tabular}\n\n\\end{description}\n",
            "text/plain": [
              "$KIDSDRIV\n",
              "    Yes\n",
              "No    0\n",
              "Yes   1\n",
              "\n",
              "$HOMEKIDS\n",
              "    Yes\n",
              "No    0\n",
              "Yes   1\n",
              "\n",
              "$HOMEOWN\n",
              "    Yes\n",
              "No    0\n",
              "Yes   1\n",
              "\n",
              "$MSTATUS\n",
              "    Yes\n",
              "No    0\n",
              "Yes   1\n",
              "\n",
              "$GENDER\n",
              "       Female\n",
              "Male        0\n",
              "Female      1\n",
              "\n",
              "$EDUCATION\n",
              "                  College or beyond\n",
              "High School only                  0\n",
              "College or beyond                 1\n",
              "\n",
              "$CAR_USE\n",
              "           Commercial\n",
              "Private             0\n",
              "Commercial          1\n",
              "\n",
              "$RED_CAR\n",
              "    Yes\n",
              "No    0\n",
              "Yes   1\n",
              "\n",
              "$CLM_BEF\n",
              "    Yes\n",
              "No    0\n",
              "Yes   1\n",
              "\n",
              "$REVOKED\n",
              "    Yes\n",
              "No    0\n",
              "Yes   1\n",
              "\n",
              "$MVR_PTS\n",
              "    Yes\n",
              "No    0\n",
              "Yes   1\n",
              "\n",
              "$CAR_AGE\n",
              "   0 1 2 3 4 5 6 7 8 9 10 11 12 13 14 15 16 17 18 19 20 21 22 23 24 25 26 27 28\n",
              "-3 0 0 0 0 0 0 0 0 0 0  0  0  0  0  0  0  0  0  0  0  0  0  0  0  0  0  0  0  0\n",
              "0  1 0 0 0 0 0 0 0 0 0  0  0  0  0  0  0  0  0  0  0  0  0  0  0  0  0  0  0  0\n",
              "1  0 1 0 0 0 0 0 0 0 0  0  0  0  0  0  0  0  0  0  0  0  0  0  0  0  0  0  0  0\n",
              "2  0 0 1 0 0 0 0 0 0 0  0  0  0  0  0  0  0  0  0  0  0  0  0  0  0  0  0  0  0\n",
              "3  0 0 0 1 0 0 0 0 0 0  0  0  0  0  0  0  0  0  0  0  0  0  0  0  0  0  0  0  0\n",
              "4  0 0 0 0 1 0 0 0 0 0  0  0  0  0  0  0  0  0  0  0  0  0  0  0  0  0  0  0  0\n",
              "5  0 0 0 0 0 1 0 0 0 0  0  0  0  0  0  0  0  0  0  0  0  0  0  0  0  0  0  0  0\n",
              "6  0 0 0 0 0 0 1 0 0 0  0  0  0  0  0  0  0  0  0  0  0  0  0  0  0  0  0  0  0\n",
              "7  0 0 0 0 0 0 0 1 0 0  0  0  0  0  0  0  0  0  0  0  0  0  0  0  0  0  0  0  0\n",
              "8  0 0 0 0 0 0 0 0 1 0  0  0  0  0  0  0  0  0  0  0  0  0  0  0  0  0  0  0  0\n",
              "9  0 0 0 0 0 0 0 0 0 1  0  0  0  0  0  0  0  0  0  0  0  0  0  0  0  0  0  0  0\n",
              "10 0 0 0 0 0 0 0 0 0 0  1  0  0  0  0  0  0  0  0  0  0  0  0  0  0  0  0  0  0\n",
              "11 0 0 0 0 0 0 0 0 0 0  0  1  0  0  0  0  0  0  0  0  0  0  0  0  0  0  0  0  0\n",
              "12 0 0 0 0 0 0 0 0 0 0  0  0  1  0  0  0  0  0  0  0  0  0  0  0  0  0  0  0  0\n",
              "13 0 0 0 0 0 0 0 0 0 0  0  0  0  1  0  0  0  0  0  0  0  0  0  0  0  0  0  0  0\n",
              "14 0 0 0 0 0 0 0 0 0 0  0  0  0  0  1  0  0  0  0  0  0  0  0  0  0  0  0  0  0\n",
              "15 0 0 0 0 0 0 0 0 0 0  0  0  0  0  0  1  0  0  0  0  0  0  0  0  0  0  0  0  0\n",
              "16 0 0 0 0 0 0 0 0 0 0  0  0  0  0  0  0  1  0  0  0  0  0  0  0  0  0  0  0  0\n",
              "17 0 0 0 0 0 0 0 0 0 0  0  0  0  0  0  0  0  1  0  0  0  0  0  0  0  0  0  0  0\n",
              "18 0 0 0 0 0 0 0 0 0 0  0  0  0  0  0  0  0  0  1  0  0  0  0  0  0  0  0  0  0\n",
              "19 0 0 0 0 0 0 0 0 0 0  0  0  0  0  0  0  0  0  0  1  0  0  0  0  0  0  0  0  0\n",
              "20 0 0 0 0 0 0 0 0 0 0  0  0  0  0  0  0  0  0  0  0  1  0  0  0  0  0  0  0  0\n",
              "21 0 0 0 0 0 0 0 0 0 0  0  0  0  0  0  0  0  0  0  0  0  1  0  0  0  0  0  0  0\n",
              "22 0 0 0 0 0 0 0 0 0 0  0  0  0  0  0  0  0  0  0  0  0  0  1  0  0  0  0  0  0\n",
              "23 0 0 0 0 0 0 0 0 0 0  0  0  0  0  0  0  0  0  0  0  0  0  0  1  0  0  0  0  0\n",
              "24 0 0 0 0 0 0 0 0 0 0  0  0  0  0  0  0  0  0  0  0  0  0  0  0  1  0  0  0  0\n",
              "25 0 0 0 0 0 0 0 0 0 0  0  0  0  0  0  0  0  0  0  0  0  0  0  0  0  1  0  0  0\n",
              "26 0 0 0 0 0 0 0 0 0 0  0  0  0  0  0  0  0  0  0  0  0  0  0  0  0  0  1  0  0\n",
              "27 0 0 0 0 0 0 0 0 0 0  0  0  0  0  0  0  0  0  0  0  0  0  0  0  0  0  0  1  0\n",
              "28 0 0 0 0 0 0 0 0 0 0  0  0  0  0  0  0  0  0  0  0  0  0  0  0  0  0  0  0  1\n",
              "\n",
              "$URBANICITY\n",
              "      Urban\n",
              "Rural     0\n",
              "Urban     1\n",
              "\n",
              "$CLAIM\n",
              "    Yes\n",
              "No    0\n",
              "Yes   1\n"
            ]
          },
          "metadata": {}
        }
      ]
    },
    {
      "cell_type": "code",
      "source": [
        "# specify the contrasts for the factor variables in the oversample dataframe\n",
        "contrasts_df <- lapply(oversample[, sapply(oversample, is.factor)], contrasts)\n",
        "\n",
        "# fit logistic regression model with explicit contrasts\n",
        "lrOver <- glm(CLAIM ~ ., data = oversample, family = binomial(link = \"logit\"), contrasts = contrasts_df)\n",
        "\n",
        "# check model summary\n",
        "summary(lrOver)\n"
      ],
      "metadata": {
        "colab": {
          "base_uri": "https://localhost:8080/",
          "height": 208
        },
        "id": "gTtzyTIIDvYH",
        "outputId": "ebbb9d45-2c69-48f2-b882-5805d5a20b96"
      },
      "execution_count": null,
      "outputs": [
        {
          "output_type": "error",
          "ename": "ERROR",
          "evalue": "ignored",
          "traceback": [
            "Error in rep.int(c(1, numeric(n)), n - 1L): invalid 'times' value\nTraceback:\n",
            "1. lapply(oversample[, sapply(oversample, is.factor)], contrasts)",
            "2. FUN(X[[i]], ...)",
            "3. ctrfn(levels(x), contrasts = contrasts)",
            "4. .Diag(levels, sparse = sparse)",
            "5. array(c(rep.int(c(1, numeric(n)), n - 1L), 1), d, dn)"
          ]
        }
      ]
    },
    {
      "cell_type": "code",
      "source": [
        "\n",
        "# Check model summary\n",
        "summary(lrOver)\n"
      ],
      "metadata": {
        "colab": {
          "base_uri": "https://localhost:8080/",
          "height": 208
        },
        "id": "g7bI3ElWDTKg",
        "outputId": "8c83c0ec-31f0-471b-d285-bbd187e1ee3a"
      },
      "execution_count": null,
      "outputs": [
        {
          "output_type": "error",
          "ename": "ERROR",
          "evalue": "ignored",
          "traceback": [
            "Error in `contrasts<-`(`*tmp*`, value = contr.funs[1 + isOF[nn]]): contrasts can be applied only to factors with 2 or more levels\nTraceback:\n",
            "1. glm(CLAIM ~ ., data = oversample[, c(input_vars, \"CLAIM\")], family = binomial(link = \"logit\"))",
            "2. model.matrix(mt, mf, contrasts)",
            "3. model.matrix.default(mt, mf, contrasts)",
            "4. `contrasts<-`(`*tmp*`, value = contr.funs[1 + isOF[nn]])",
            "5. stop(\"contrasts can be applied only to factors with 2 or more levels\")"
          ]
        }
      ]
    },
    {
      "cell_type": "code",
      "source": [
        "# fit logistic regression model on the LoanDefault outcome variable\n",
        "# using specified input variables with the oversample dataframe\n",
        "lrOver <- glm(CLAIM ~ .-AGE -TWC - TRAVTIME, data = oversample, family = binomial(link = \"logit\"))\n"
      ],
      "metadata": {
        "colab": {
          "base_uri": "https://localhost:8080/",
          "height": 208
        },
        "id": "0fqOCiDG6Uvi",
        "outputId": "5d510462-7884-431f-a457-5cbd414d5e40"
      },
      "execution_count": null,
      "outputs": [
        {
          "output_type": "error",
          "ename": "ERROR",
          "evalue": "ignored",
          "traceback": [
            "Error in `contrasts<-`(`*tmp*`, value = contr.funs[1 + isOF[nn]]): contrasts can be applied only to factors with 2 or more levels\nTraceback:\n",
            "1. glm(CLAIM ~ . - AGE - TWC - TRAVTIME, data = oversample, family = binomial(link = \"logit\"))",
            "2. model.matrix(mt, mf, contrasts)",
            "3. model.matrix.default(mt, mf, contrasts)",
            "4. `contrasts<-`(`*tmp*`, value = contr.funs[1 + isOF[nn]])",
            "5. stop(\"contrasts can be applied only to factors with 2 or more levels\")"
          ]
        }
      ]
    },
    {
      "cell_type": "code",
      "source": [
        "sapply(oversample, function(x) if(is.factor(x)) nlevels(x) else NA)\n"
      ],
      "metadata": {
        "colab": {
          "base_uri": "https://localhost:8080/",
          "height": 52
        },
        "id": "AWFs8T3uCLca",
        "outputId": "cd97d0b1-8236-4ac6-e5ca-58589a45a45b"
      },
      "execution_count": null,
      "outputs": [
        {
          "output_type": "display_data",
          "data": {
            "text/html": [
              "<style>\n",
              ".dl-inline {width: auto; margin:0; padding: 0}\n",
              ".dl-inline>dt, .dl-inline>dd {float: none; width: auto; display: inline-block}\n",
              ".dl-inline>dt::after {content: \":\\0020\"; padding-right: .5ex}\n",
              ".dl-inline>dt:not(:first-of-type) {padding-left: .5ex}\n",
              "</style><dl class=dl-inline><dt>KIDSDRIV</dt><dd>2</dd><dt>AGE</dt><dd>0</dd><dt>HOMEKIDS</dt><dd>2</dd><dt>INCOME</dt><dd>1</dd><dt>HOMEOWN</dt><dd>2</dd><dt>MSTATUS</dt><dd>2</dd><dt>GENDER</dt><dd>2</dd><dt>EDUCATION</dt><dd>2</dd><dt>TRAVTIME</dt><dd>0</dd><dt>CAR_USE</dt><dd>2</dd><dt>BLUEBOOK</dt><dd>0</dd><dt>TWC</dt><dd>1</dd><dt>RED_CAR</dt><dd>2</dd><dt>CLM_BEF</dt><dd>2</dd><dt>REVOKED</dt><dd>2</dd><dt>MVR_PTS</dt><dd>2</dd><dt>CAR_AGE</dt><dd>30</dd><dt>URBANICITY</dt><dd>2</dd><dt>CLAIM</dt><dd>2</dd></dl>\n"
            ],
            "text/markdown": "KIDSDRIV\n:   2AGE\n:   0HOMEKIDS\n:   2INCOME\n:   1HOMEOWN\n:   2MSTATUS\n:   2GENDER\n:   2EDUCATION\n:   2TRAVTIME\n:   0CAR_USE\n:   2BLUEBOOK\n:   0TWC\n:   1RED_CAR\n:   2CLM_BEF\n:   2REVOKED\n:   2MVR_PTS\n:   2CAR_AGE\n:   30URBANICITY\n:   2CLAIM\n:   2\n\n",
            "text/latex": "\\begin{description*}\n\\item[KIDSDRIV] 2\n\\item[AGE] 0\n\\item[HOMEKIDS] 2\n\\item[INCOME] 1\n\\item[HOMEOWN] 2\n\\item[MSTATUS] 2\n\\item[GENDER] 2\n\\item[EDUCATION] 2\n\\item[TRAVTIME] 0\n\\item[CAR\\textbackslash{}\\_USE] 2\n\\item[BLUEBOOK] 0\n\\item[TWC] 1\n\\item[RED\\textbackslash{}\\_CAR] 2\n\\item[CLM\\textbackslash{}\\_BEF] 2\n\\item[REVOKED] 2\n\\item[MVR\\textbackslash{}\\_PTS] 2\n\\item[CAR\\textbackslash{}\\_AGE] 30\n\\item[URBANICITY] 2\n\\item[CLAIM] 2\n\\end{description*}\n",
            "text/plain": [
              "  KIDSDRIV        AGE   HOMEKIDS     INCOME    HOMEOWN    MSTATUS     GENDER \n",
              "         2          0          2          1          2          2          2 \n",
              " EDUCATION   TRAVTIME    CAR_USE   BLUEBOOK        TWC    RED_CAR    CLM_BEF \n",
              "         2          0          2          0          1          2          2 \n",
              "   REVOKED    MVR_PTS    CAR_AGE URBANICITY      CLAIM \n",
              "         2          2         30          2          2 "
            ]
          },
          "metadata": {}
        }
      ]
    },
    {
      "cell_type": "code",
      "source": [],
      "metadata": {
        "id": "pWrHmp3dC-Wi"
      },
      "execution_count": null,
      "outputs": []
    },
    {
      "cell_type": "code",
      "source": [
        "summary(undersample)\n"
      ],
      "metadata": {
        "colab": {
          "base_uri": "https://localhost:8080/",
          "height": 602
        },
        "id": "0mN4GcTw-kpX",
        "outputId": "294b85f2-f07e-4026-a8a2-c96b53062744"
      },
      "execution_count": null,
      "outputs": [
        {
          "output_type": "display_data",
          "data": {
            "text/plain": [
              " KIDSDRIV     AGE       HOMEKIDS    INCOME     HOMEOWN    MSTATUS   \n",
              " No :1995   NA's:2310   No :1404   No  : 219   No : 831   No : 982  \n",
              " Yes: 315               Yes: 906   NA's:2091   Yes:1479   Yes:1328  \n",
              "                                                                    \n",
              "                                                                    \n",
              "                                                                    \n",
              "                                                                    \n",
              "                                                                    \n",
              "    GENDER                 EDUCATION    TRAVTIME          CAR_USE    \n",
              " Male  :   0   High School only :1087   NA's:2310   Private   :1353  \n",
              " Female:   0   College or beyond:1223               Commercial: 957  \n",
              " NA's  :2310                                                         \n",
              "                                                                     \n",
              "                                                                     \n",
              "                                                                     \n",
              "                                                                     \n",
              " BLUEBOOK      TWC       RED_CAR    CLM_BEF    REVOKED    MVR_PTS   \n",
              " NA's:2310   Yes : 760   No :1645   No :1257   No :1950   No : 954  \n",
              "             NA's:1550   Yes: 665   Yes:1053   Yes: 360   Yes:1356  \n",
              "                                                                    \n",
              "                                                                    \n",
              "                                                                    \n",
              "                                                                    \n",
              "                                                                    \n",
              "    CAR_AGE    URBANICITY   CLAIM     \n",
              " 1      :640   Rural: 354   No :1155  \n",
              " 7      :167   Urban:1956   Yes:1155  \n",
              " 8      :155                          \n",
              " 9      :155                          \n",
              " 10     :150                          \n",
              " 11     :141                          \n",
              " (Other):902                          "
            ]
          },
          "metadata": {}
        }
      ]
    },
    {
      "cell_type": "code",
      "source": [
        "# fit logistic regression model on the LoanDefault outcome variable\n",
        "# using specified input variables with the oversample dataframe\n",
        "lrOver <- glm(LoanDefault ~ . - CustomerID, data = oversample,\n",
        "              family = binomial(link = \"logit\"))"
      ],
      "metadata": {
        "id": "dcWxoeIO-5_8"
      },
      "execution_count": null,
      "outputs": []
    },
    {
      "cell_type": "code",
      "source": [
        "summary(lrUnder)"
      ],
      "metadata": {
        "colab": {
          "base_uri": "https://localhost:8080/",
          "height": 135
        },
        "id": "TlPxOw5xEC8V",
        "outputId": "91c18fe1-7e6a-4b41-99b9-27f6d49abc58"
      },
      "execution_count": null,
      "outputs": [
        {
          "output_type": "error",
          "ename": "ERROR",
          "evalue": "ignored",
          "traceback": [
            "Error in summary(lrUnder): object 'lrUnder' not found\nTraceback:\n",
            "1. summary(lrUnder)"
          ]
        }
      ]
    },
    {
      "cell_type": "code",
      "source": [
        "\n",
        "\n",
        "\n",
        "\n",
        "\n",
        "# fit logistic regression model on the LoanDefault outcome variable\n",
        "# using specified input variables with the undersample dataframe\n",
        "\n",
        "#Logistic regression is part of the general linear model family, so the R\n",
        "#function is glm.\n",
        "\n",
        "\n",
        "# model summary\n",
        "\n",
        "\n",
        "# fit logistic regression model on the LoanDefault outcome variable\n",
        "# using specified input variables with the oversample dataframe\n",
        "lrOver <- glm(LoanDefault ~ . - CustomerID, data = oversample,\n",
        "              family = binomial(link = \"logit\"))\n",
        "\n",
        "# model summary\n",
        "summary(lrOver)\n",
        "\n",
        "# fit logistic regression model on the LoanDefault outcome variable\n",
        "# using specified input variables with the rose dataframe\n",
        "\n",
        "lrrose <- glm(LoanDefault ~ . - CustomerID, data = rose,\n",
        "              family = binomial(link = \"logit\"))\n",
        "\n",
        "# model summary\n",
        "summary(lrrose)\n",
        "\n",
        "\n",
        "#exponentiate the regression coefficients from the logistic regression model\n",
        "#using the oversample dataframe\n",
        "exp(coef(lrOver))\n",
        "\n",
        "\n",
        "#Steps to create a confusion matrix\n",
        "\n",
        "#First using logistic regression model built on oversampled training subset\n",
        "\n",
        "# obtain probability of defaulting for each observation in validation set\n",
        "lrprobsO <- predict(lrOver, newdata = Validate, type = \"response\")\n",
        "\n",
        "#Attach probability scores to Validate dataframe\n",
        "Validate <- cbind(Validate, Probabilities=lrprobsO)\n",
        "\n",
        "# obtain predicted class for each observation in validation set using threshold of 0.5\n",
        "lrclassO <- as.factor(ifelse(lrprobsO > 0.5, \"Yes\",\"No\"))\n",
        "\n",
        "#Attach predicted class to Validate dataframe\n",
        "Validate <- cbind(Validate, PredClass=lrclassO)\n",
        "\n",
        "#Create a confusion matrix using \"Yes\" as the positive class\n",
        "confusionMatrix(lrclassO, Validate$LoanDefault, positive = \"Yes\" )\n",
        "\n",
        "\n",
        "#Steps to create a confusion matrix\n",
        "\n",
        "#Using logistic regression model built on undersampled training subset\n",
        "\n",
        "# obtain probability of positive class for each observation in validation set\n",
        "lrprobsU <- predict(lrUnder, newdata = Validate, type = \"response\")\n",
        "\n",
        "# obtain predicted class for each observation in validation set using threshold of 0.5\n",
        "lrclassU <- as.factor(ifelse(lrprobsU > 0.5, \"Yes\",\"No\"))\n",
        "\n",
        "# output performance metrics using \"Yes\" as the positive class\n",
        "confusionMatrix(lrclassU, Validate$LoanDefault, positive = \"Yes\" )\n",
        "\n",
        "\n",
        "#Steps to create a confusion matrix\n",
        "\n",
        "#First using logistic regression model built on ROSE training subset\n",
        "\n",
        "\n",
        "# obtain probability of positive class for each observation in validation set\n",
        "lrprobsR <- predict(lrrose, newdata = Validate, type = \"response\")\n",
        "\n",
        "# obtain predicted class for each observation in validation set using threshold of 0.5\n",
        "lrclassR <- as.factor(ifelse(lrprobsR > 0.5, \"Yes\",\"No\"))\n",
        "\n",
        "# output performance metrics using \"Yes\" as the positive class\n",
        "confusionMatrix(lrclassR, Validate$LoanDefault, positive = \"Yes\" )\n",
        "\n",
        "\n",
        "#change the probability cutoff to 0.6, still using the model built on ROSE subset\n",
        "\n",
        "# obtain probability of positive class for each observation in validation set\n",
        "lrprobsR2 <- predict(lrrose, newdata = Validate, type = \"response\")\n",
        "\n",
        "# obtain predicted class for each observation in validation set using threshold of 0.5\n",
        "lrclassR2 <- as.factor(ifelse(lrprobsR2 > 0.6, \"Yes\",\"No\"))\n",
        "\n",
        "# output performance metrics using \"Yes\" as the positive class\n",
        "confusionMatrix(lrclassR2, Validate$LoanDefault, positive = \"Yes\" )\n",
        "\n",
        "\n",
        "\n",
        "#Plot ROC Curve for model from oversampled training set\n",
        "\n",
        "#create a prediction object to use for the ROC Curve\n",
        "predROC <- prediction(lrprobsO, Validate$LoanDefault)\n",
        "\n",
        "#create a performance object to use for the ROC Curve\n",
        "perfROC <- performance(predROC,\"tpr\", \"fpr\")\n",
        "\n",
        "#plot the ROC Curve\n",
        "plot(perfROC)\n",
        "abline(a=0, b= 1)\n",
        "\n",
        "# compute AUC\n",
        "performance(predROC, measure=\"auc\")@y.values[[1]]\n",
        "\n",
        "\n",
        "#Plot ROC Curve for model from undersampled training set\n",
        "\n",
        "#create a prediction object to use for the ROC Curve\n",
        "predROCU <- prediction(lrprobsU, Validate$LoanDefault)\n",
        "\n",
        "#create a performance object to use for the ROC Curve\n",
        "perfROCU <- performance(predROCU,\"tpr\", \"fpr\")\n",
        "\n",
        "#plot the ROC Curve\n",
        "plot(perfROCU)\n",
        "abline(a=0, b= 1)\n",
        "\n",
        "# compute AUC\n",
        "performance(predROCU, measure=\"auc\")@y.values[[1]]\n",
        "\n",
        "\n",
        "#Plot ROC Curve for model from ROSE training set\n",
        "\n",
        "#create a prediction object to use for the ROC Curve\n",
        "predROCR <- prediction(lrprobsR, Validate$LoanDefault)\n",
        "\n",
        "#create a performance object to use for the ROC Curve\n",
        "perfROCR <- performance(predROCR,\"tpr\", \"fpr\")\n",
        "\n",
        "#plot the ROC Curve\n",
        "plot(perfROCR)\n",
        "abline(a=0, b= 1)\n",
        "\n",
        "# compute AUC\n",
        "performance(predROCR, measure=\"auc\")@y.values[[1]]\n",
        "\n",
        "\n",
        "# Evaluate accuracy of the model built using the oversampled training set\n",
        "# applied to the test set\n",
        "\n",
        "\n",
        "# obtain probability of defaulting for each observation in test set\n",
        "lrprobstest <- predict(lrOver, newdata = Test, type = \"response\")\n",
        "\n",
        "# obtain predicted class for each observation in test set using threshold of 0.5\n",
        "lrclasstest <- as.factor(ifelse(lrprobstest > 0.5, \"Yes\",\"No\"))\n",
        "\n",
        "#Create a confusion matrix using \"Yes\" as the positive class\n",
        "confusionMatrix(lrclasstest, Test$LoanDefault, positive = \"Yes\" )\n",
        "\n",
        "\n",
        "#Plot ROC Curve for model from oversampled training set using Test set\n",
        "\n",
        "#create a prediction object to use for the ROC Curve\n",
        "predROCtest <- prediction(lrprobstest, Test$LoanDefault)\n",
        "\n",
        "#create a performance object to use for the ROC Curve\n",
        "perfROCtest <- performance(predROCtest,\"tpr\", \"fpr\")\n",
        "\n",
        "#plot the ROC Curve\n",
        "plot(perfROCtest)\n",
        "abline(a=0, b= 1)\n",
        "\n",
        "# compute AUC\n",
        "performance(predROCtest, measure=\"auc\")@y.values[[1]]\n",
        "\n",
        "\n",
        "#predict probability of default for new customers\n",
        "\n",
        "#read new dataset into R\n",
        "new_customers <- read.csv(\"OptivaNewData.csv\")\n",
        "View(new_customers)\n",
        "\n",
        "#Convert categorical variables to factors with levels and labels\n",
        "new_customers$Entrepreneur<-factor(new_customers$Entrepreneur,levels = c(0,1),labels = c(\"No\",\"Yes\"))\n",
        "new_customers$Unemployed<-factor(new_customers$Unemployed,levels = c(0,1),labels = c(\"No\",\"Yes\"))\n",
        "new_customers$Married<-factor(new_customers$Married,levels = c(0,1),labels = c(\"No\",\"Yes\"))\n",
        "new_customers$Divorced<-factor(new_customers$Divorced,levels = c(0,1),labels = c(\"No\",\"Yes\"))\n",
        "new_customers$HighSchool<-factor(new_customers$HighSchool,levels = c(0,1),labels = c(\"No\",\"Yes\"))\n",
        "new_customers$College<-factor(new_customers$College,levels = c(0,1),labels = c(\"No\",\"Yes\"))\n",
        "\n",
        "# make predictions for new data (for which loan default is unknown)\n",
        "lrprobsnew <- predict(lrOver, newdata = new_customers , type = \"response\")\n",
        "\n",
        "#Attach probability scores to new_customers dataframe\n",
        "new_customers <- cbind(new_customers, Probabilities=lrprobsnew)\n",
        "View(new_customers)\n",
        "\n",
        "\n",
        "\n",
        "\n"
      ],
      "metadata": {
        "id": "rPHVjUEK1cBj"
      },
      "execution_count": null,
      "outputs": []
    },
    {
      "cell_type": "code",
      "source": [
        "\n",
        "\n",
        "# View the dataset\n",
        "head(insurancedf)\n",
        "\n",
        "# Check the structure of the dataset\n",
        "str(insurancedf)\n",
        "\n",
        "# Generate summary statistics for the variables in the dataset\n",
        "summary(insurancedf)\n",
        "#Step 2: Partition the dataset into a training, validation, and test set, using a 60%-20%-20% split.\n",
        "# Set seed for reproducibility\n",
        "set.seed(42)\n",
        "\n",
        "# Partition the data into training, validation, and test sets\n",
        "library(caTools)\n",
        "split <- sample.split(insurancedf$CLAIM, SplitRatio = 0.6)\n",
        "train <- subset(insurancedf, split == TRUE)\n",
        "other <- subset(insurancedf, split == FALSE)\n",
        "split2 <- sample.split(other$CLAIM, SplitRatio = 0.5)\n",
        "validate <- subset(other, split2 == TRUE)\n",
        "test <- subset(other, split2 == FALSE)\n",
        "# Remove rows with missing values from the training dataset\n",
        "train_no_na <- na.omit(train)\n"
      ],
      "metadata": {
        "colab": {
          "base_uri": "https://localhost:8080/",
          "height": 1000
        },
        "id": "_AqBAJEaEPSg",
        "outputId": "2b5701eb-880e-43e8-c077-e2f119b0333e"
      },
      "execution_count": null,
      "outputs": [
        {
          "output_type": "display_data",
          "data": {
            "text/html": [
              "<table class=\"dataframe\">\n",
              "<caption>A data.frame: 6 × 19</caption>\n",
              "<thead>\n",
              "\t<tr><th></th><th scope=col>CLAIM</th><th scope=col>KIDSDRIV</th><th scope=col>AGE</th><th scope=col>HOMEKIDS</th><th scope=col>INCOME</th><th scope=col>HOMEOWN</th><th scope=col>MSTATUS</th><th scope=col>GENDER</th><th scope=col>EDUCATION</th><th scope=col>TRAVTIME</th><th scope=col>CAR_USE</th><th scope=col>BLUEBOOK</th><th scope=col>TWC</th><th scope=col>RED_CAR</th><th scope=col>CLM_BEF</th><th scope=col>REVOKED</th><th scope=col>MVR_PTS</th><th scope=col>CAR_AGE</th><th scope=col>URBANICITY</th></tr>\n",
              "\t<tr><th></th><th scope=col>&lt;fct&gt;</th><th scope=col>&lt;fct&gt;</th><th scope=col>&lt;fct&gt;</th><th scope=col>&lt;fct&gt;</th><th scope=col>&lt;fct&gt;</th><th scope=col>&lt;fct&gt;</th><th scope=col>&lt;fct&gt;</th><th scope=col>&lt;fct&gt;</th><th scope=col>&lt;fct&gt;</th><th scope=col>&lt;fct&gt;</th><th scope=col>&lt;fct&gt;</th><th scope=col>&lt;fct&gt;</th><th scope=col>&lt;fct&gt;</th><th scope=col>&lt;fct&gt;</th><th scope=col>&lt;fct&gt;</th><th scope=col>&lt;fct&gt;</th><th scope=col>&lt;fct&gt;</th><th scope=col>&lt;fct&gt;</th><th scope=col>&lt;fct&gt;</th></tr>\n",
              "</thead>\n",
              "<tbody>\n",
              "\t<tr><th scope=row>1</th><td>No </td><td>No</td><td>NA</td><td>No </td><td>NA</td><td>No </td><td>No </td><td>Male  </td><td>College or beyond</td><td>NA</td><td>Private   </td><td>NA</td><td>NA </td><td>Yes</td><td>Yes</td><td>No </td><td>Yes</td><td>18</td><td>Urban</td></tr>\n",
              "\t<tr><th scope=row>2</th><td>No </td><td>No</td><td>NA</td><td>No </td><td>NA</td><td>Yes</td><td>No </td><td>Male  </td><td>High School only </td><td>NA</td><td>Commercial</td><td>NA</td><td>Yes</td><td>Yes</td><td>No </td><td>No </td><td>No </td><td>1 </td><td>Urban</td></tr>\n",
              "\t<tr><th scope=row>3</th><td>No </td><td>No</td><td>NA</td><td>Yes</td><td>NA</td><td>Yes</td><td>Yes</td><td>Female</td><td>High School only </td><td>NA</td><td>Private   </td><td>NA</td><td>NA </td><td>No </td><td>Yes</td><td>No </td><td>Yes</td><td>10</td><td>Urban</td></tr>\n",
              "\t<tr><th scope=row>4</th><td>No </td><td>No</td><td>NA</td><td>No </td><td>NA</td><td>Yes</td><td>Yes</td><td>Female</td><td>College or beyond</td><td>NA</td><td>Private   </td><td>NA</td><td>Yes</td><td>No </td><td>Yes</td><td>Yes</td><td>Yes</td><td>17</td><td>Urban</td></tr>\n",
              "\t<tr><th scope=row>5</th><td>Yes</td><td>No</td><td>NA</td><td>Yes</td><td>NA</td><td>No </td><td>No </td><td>Female</td><td>College or beyond</td><td>NA</td><td>Commercial</td><td>NA</td><td>Yes</td><td>No </td><td>No </td><td>No </td><td>No </td><td>7 </td><td>Urban</td></tr>\n",
              "\t<tr><th scope=row>6</th><td>No </td><td>No</td><td>NA</td><td>No </td><td>NA</td><td>No </td><td>Yes</td><td>Female</td><td>High School only </td><td>NA</td><td>Private   </td><td>NA</td><td>Yes</td><td>No </td><td>No </td><td>No </td><td>No </td><td>1 </td><td>Urban</td></tr>\n",
              "</tbody>\n",
              "</table>\n"
            ],
            "text/markdown": "\nA data.frame: 6 × 19\n\n| <!--/--> | CLAIM &lt;fct&gt; | KIDSDRIV &lt;fct&gt; | AGE &lt;fct&gt; | HOMEKIDS &lt;fct&gt; | INCOME &lt;fct&gt; | HOMEOWN &lt;fct&gt; | MSTATUS &lt;fct&gt; | GENDER &lt;fct&gt; | EDUCATION &lt;fct&gt; | TRAVTIME &lt;fct&gt; | CAR_USE &lt;fct&gt; | BLUEBOOK &lt;fct&gt; | TWC &lt;fct&gt; | RED_CAR &lt;fct&gt; | CLM_BEF &lt;fct&gt; | REVOKED &lt;fct&gt; | MVR_PTS &lt;fct&gt; | CAR_AGE &lt;fct&gt; | URBANICITY &lt;fct&gt; |\n|---|---|---|---|---|---|---|---|---|---|---|---|---|---|---|---|---|---|---|---|\n| 1 | No  | No | NA | No  | NA | No  | No  | Male   | College or beyond | NA | Private    | NA | NA  | Yes | Yes | No  | Yes | 18 | Urban |\n| 2 | No  | No | NA | No  | NA | Yes | No  | Male   | High School only  | NA | Commercial | NA | Yes | Yes | No  | No  | No  | 1  | Urban |\n| 3 | No  | No | NA | Yes | NA | Yes | Yes | Female | High School only  | NA | Private    | NA | NA  | No  | Yes | No  | Yes | 10 | Urban |\n| 4 | No  | No | NA | No  | NA | Yes | Yes | Female | College or beyond | NA | Private    | NA | Yes | No  | Yes | Yes | Yes | 17 | Urban |\n| 5 | Yes | No | NA | Yes | NA | No  | No  | Female | College or beyond | NA | Commercial | NA | Yes | No  | No  | No  | No  | 7  | Urban |\n| 6 | No  | No | NA | No  | NA | No  | Yes | Female | High School only  | NA | Private    | NA | Yes | No  | No  | No  | No  | 1  | Urban |\n\n",
            "text/latex": "A data.frame: 6 × 19\n\\begin{tabular}{r|lllllllllllllllllll}\n  & CLAIM & KIDSDRIV & AGE & HOMEKIDS & INCOME & HOMEOWN & MSTATUS & GENDER & EDUCATION & TRAVTIME & CAR\\_USE & BLUEBOOK & TWC & RED\\_CAR & CLM\\_BEF & REVOKED & MVR\\_PTS & CAR\\_AGE & URBANICITY\\\\\n  & <fct> & <fct> & <fct> & <fct> & <fct> & <fct> & <fct> & <fct> & <fct> & <fct> & <fct> & <fct> & <fct> & <fct> & <fct> & <fct> & <fct> & <fct> & <fct>\\\\\n\\hline\n\t1 & No  & No & NA & No  & NA & No  & No  & Male   & College or beyond & NA & Private    & NA & NA  & Yes & Yes & No  & Yes & 18 & Urban\\\\\n\t2 & No  & No & NA & No  & NA & Yes & No  & Male   & High School only  & NA & Commercial & NA & Yes & Yes & No  & No  & No  & 1  & Urban\\\\\n\t3 & No  & No & NA & Yes & NA & Yes & Yes & Female & High School only  & NA & Private    & NA & NA  & No  & Yes & No  & Yes & 10 & Urban\\\\\n\t4 & No  & No & NA & No  & NA & Yes & Yes & Female & College or beyond & NA & Private    & NA & Yes & No  & Yes & Yes & Yes & 17 & Urban\\\\\n\t5 & Yes & No & NA & Yes & NA & No  & No  & Female & College or beyond & NA & Commercial & NA & Yes & No  & No  & No  & No  & 7  & Urban\\\\\n\t6 & No  & No & NA & No  & NA & No  & Yes & Female & High School only  & NA & Private    & NA & Yes & No  & No  & No  & No  & 1  & Urban\\\\\n\\end{tabular}\n",
            "text/plain": [
              "  CLAIM KIDSDRIV AGE HOMEKIDS INCOME HOMEOWN MSTATUS GENDER EDUCATION        \n",
              "1 No    No       NA  No       NA     No      No      Male   College or beyond\n",
              "2 No    No       NA  No       NA     Yes     No      Male   High School only \n",
              "3 No    No       NA  Yes      NA     Yes     Yes     Female High School only \n",
              "4 No    No       NA  No       NA     Yes     Yes     Female College or beyond\n",
              "5 Yes   No       NA  Yes      NA     No      No      Female College or beyond\n",
              "6 No    No       NA  No       NA     No      Yes     Female High School only \n",
              "  TRAVTIME CAR_USE    BLUEBOOK TWC RED_CAR CLM_BEF REVOKED MVR_PTS CAR_AGE\n",
              "1 NA       Private    NA       NA  Yes     Yes     No      Yes     18     \n",
              "2 NA       Commercial NA       Yes Yes     No      No      No      1      \n",
              "3 NA       Private    NA       NA  No      Yes     No      Yes     10     \n",
              "4 NA       Private    NA       Yes No      Yes     Yes     Yes     17     \n",
              "5 NA       Commercial NA       Yes No      No      No      No      7      \n",
              "6 NA       Private    NA       Yes No      No      No      No      1      \n",
              "  URBANICITY\n",
              "1 Urban     \n",
              "2 Urban     \n",
              "3 Urban     \n",
              "4 Urban     \n",
              "5 Urban     \n",
              "6 Urban     "
            ]
          },
          "metadata": {}
        },
        {
          "output_type": "stream",
          "name": "stdout",
          "text": [
            "'data.frame':\t7232 obs. of  19 variables:\n",
            " $ CLAIM     : Factor w/ 2 levels \"No\",\"Yes\": 1 1 1 1 2 1 2 2 1 2 ...\n",
            " $ KIDSDRIV  : Factor w/ 2 levels \"No\",\"Yes\": 1 1 1 1 1 1 2 1 1 1 ...\n",
            " $ AGE       : Factor w/ 0 levels: NA NA NA NA NA NA NA NA NA NA ...\n",
            " $ HOMEKIDS  : Factor w/ 2 levels \"No\",\"Yes\": 1 1 2 1 2 1 2 1 1 1 ...\n",
            " $ INCOME    : Factor w/ 1 level \"No\": NA NA NA NA NA NA NA NA NA NA ...\n",
            " $ HOMEOWN   : Factor w/ 2 levels \"No\",\"Yes\": 1 2 2 2 1 1 2 1 1 1 ...\n",
            " $ MSTATUS   : Factor w/ 2 levels \"No\",\"Yes\": 1 1 2 2 1 2 2 1 1 1 ...\n",
            " $ GENDER    : Factor w/ 2 levels \"Male\",\"Female\": 1 1 2 2 2 2 1 2 1 2 ...\n",
            " $ EDUCATION : Factor w/ 2 levels \"High School only\",..: 2 1 1 2 2 1 2 2 2 2 ...\n",
            " $ TRAVTIME  : Factor w/ 0 levels: NA NA NA NA NA NA NA NA NA NA ...\n",
            " $ CAR_USE   : Factor w/ 2 levels \"Private\",\"Commercial\": 1 2 1 1 2 1 2 1 2 1 ...\n",
            " $ BLUEBOOK  : Factor w/ 0 levels: NA NA NA NA NA NA NA NA NA NA ...\n",
            " $ TWC       : Factor w/ 1 level \"Yes\": NA 1 NA 1 1 1 1 1 NA 1 ...\n",
            " $ RED_CAR   : Factor w/ 2 levels \"No\",\"Yes\": 2 2 1 1 1 1 2 1 1 1 ...\n",
            " $ CLM_BEF   : Factor w/ 2 levels \"No\",\"Yes\": 2 1 2 2 1 1 2 1 1 1 ...\n",
            " $ REVOKED   : Factor w/ 2 levels \"No\",\"Yes\": 1 1 1 2 1 1 2 1 1 1 ...\n",
            " $ MVR_PTS   : Factor w/ 2 levels \"No\",\"Yes\": 2 1 2 2 1 1 2 1 2 1 ...\n",
            " $ CAR_AGE   : Factor w/ 30 levels \"-3\",\"0\",\"1\",\"2\",..: 20 3 12 19 9 3 9 3 19 13 ...\n",
            " $ URBANICITY: Factor w/ 2 levels \"Rural\",\"Urban\": 2 2 2 2 2 2 2 2 1 2 ...\n"
          ]
        },
        {
          "output_type": "display_data",
          "data": {
            "text/plain": [
              " CLAIM      KIDSDRIV     AGE       HOMEKIDS    INCOME     HOMEOWN    MSTATUS   \n",
              " No :5324   No :6372   NA's:7232   No :4684   No  : 570   No :2436   No :2908  \n",
              " Yes:1908   Yes: 860               Yes:2548   NA's:6662   Yes:4796   Yes:4324  \n",
              "                                                                               \n",
              "                                                                               \n",
              "                                                                               \n",
              "                                                                               \n",
              "                                                                               \n",
              "    GENDER                 EDUCATION    TRAVTIME          CAR_USE    \n",
              " Male  :3352   High School only :3140   NA's:7232   Private   :4535  \n",
              " Female:3880   College or beyond:4092               Commercial:2697  \n",
              "                                                                     \n",
              "                                                                     \n",
              "                                                                     \n",
              "                                                                     \n",
              "                                                                     \n",
              " BLUEBOOK      TWC       RED_CAR    CLM_BEF    REVOKED    MVR_PTS   \n",
              " NA's:7232   Yes :2238   No :5132   No :4448   No :6342   No :3248  \n",
              "             NA's:4994   Yes:2100   Yes:2784   Yes: 890   Yes:3984  \n",
              "                                                                    \n",
              "                                                                    \n",
              "                                                                    \n",
              "                                                                    \n",
              "                                                                    \n",
              "    CAR_AGE     URBANICITY  \n",
              " 1      :1832   Rural:1463  \n",
              " 8      : 504   Urban:5769  \n",
              " 7      : 492               \n",
              " 9      : 491               \n",
              " 10     : 444               \n",
              " 11     : 432               \n",
              " (Other):3037               "
            ]
          },
          "metadata": {}
        }
      ]
    },
    {
      "cell_type": "code",
      "source": [
        "# Oversample the minority class in the training data\n",
        "train_over <- ovun.sample(CLAIM ~ .-AGE, data = train_no_na, method = \"over\", N = nrow(train_no_na) / 2, seed = 42)$data"
      ],
      "metadata": {
        "colab": {
          "base_uri": "https://localhost:8080/",
          "height": 1000
        },
        "id": "gaf9c11iFLlw",
        "outputId": "a1f95cdb-bca6-4687-f24b-b7f4dffba47e"
      },
      "execution_count": null,
      "outputs": [
        {
          "output_type": "stream",
          "name": "stderr",
          "text": [
            "Warning message in (function (formula, data, method, subset, na.action, N, p = 0.5, :\n",
            "“Transformations of variables are not allowed.\n",
            " New data have been generated by using non-transformed variables.\n",
            " ”\n"
          ]
        },
        {
          "output_type": "error",
          "ename": "ERROR",
          "evalue": "ignored",
          "traceback": [
            "Error in (function (formula, data, method, subset, na.action, N, p = 0.5, : Too few observations.\n\nTraceback:\n",
            "1. ovun.sample(CLAIM ~ . - AGE, data = train_no_na, method = \"over\", \n .     N = nrow(train_no_na)/2, seed = 42)",
            "2. eval(Call1)",
            "3. eval(Call1)",
            "4. (function (formula, data, method, subset, na.action, N, p = 0.5, \n .     seed, hmult.majo = 1, hmult.mino = 1) \n . {\n .     if (missing(formula)) \n .         stop(\"formula is required\\n\")\n .     if (missing(method)) \n .         method <- \"both\"\n .     if ((method == \"under\" | method == \"over\") & !missing(N) & \n .         !missing(p)) \n .         stop(\"Too many arguments. Need to specify either N or p.\\n\")\n .     formula.orig <- formula\n .     formula <- adj.formula(formula, data)\n .     if (missing(subset)) \n .         subset = options(\"subset\")$subset\n .     if (missing(na.action)) \n .         na.action = options(\"na.action\")$na.action\n .     flg.data <- 0\n .     if (!missing(data)) {\n .         lst.model.frame <- list(formula = formula, data = data, \n .             subset = subset, na.action = na.action)\n .         if (is.environment(data)) \n .             flg.data <- 2\n .         else flg.data <- 1\n .     }\n .     else lst.model.frame <- list(formula = formula, data = NULL, \n .         subset = subset, na.action = na.action)\n .     if (formula.orig[[3]] != \".\" & eval(formula) != formula.orig) \n .         warning(\"Transformations of variables are not allowed.\\n New data have been generated by using non-transformed variables.\\n \")\n .     mf <- do.call(model.frame, lst.model.frame)\n .     cn <- rownames(attributes(attributes(mf)$terms)$factors)\n .     data.st <- data.frame(mf)\n .     y <- data.st[, 1]\n .     X <- data.frame(data.st[, -1])\n .     n <- length(y)\n .     d <- NCOL(X)\n .     classy <- class(y)\n .     y <- factor(y)\n .     T <- table(y)\n .     classx <- sapply(as.data.frame(X), class)\n .     if (n < 2) \n .         stop(\"Too few observations.\\n\")\n .     if (length(T) > 2) \n .         stop(\"The response variable must have 2 levels.\\n\")\n .     else if (length(T) == 1) \n .         stop(\"The response variable has only one class.\\n\")\n .     if (p < 0 | p > 1) \n .         stop(\"p must be in the interval 0-1.\\n\")\n .     majoY <- levels(y)[which.max(T)]\n .     minoY <- levels(y)[which.min(T)]\n .     ind.mino <- which(y == minoY)\n .     ind.majo <- which(y == majoY)\n .     if (!missing(seed)) \n .         set.seed(seed)\n .     data.obj <- switch(method, both = ou.sampl(n, N, p, ind.majo, \n .         majoY, ind.mino, minoY, classy, X), over = over.sampl(n, \n .         N, p, ind.majo, ind.mino, majoY, minoY, y, classy, X), \n .         under = under.sampl(n, N, p, ind.majo, majoY, ind.mino, \n .             minoY, y, classy, X), rose = rose.sampl(n, N, p, \n .             ind.majo, majoY, ind.mino, minoY, y, classy, X, classx, \n .             d, T, hmult.majo, hmult.mino))\n .     data.out <- data.obj$data.out\n .     ynew <- data.obj$ynew\n .     Xnew <- data.obj$Xnew\n .     if (!missing(data) & flg.data != 0) {\n .         if (flg.data == 1) \n .             colnames(data.out) <- colnames(data)[colnames(data) %in% \n .                 cn]\n .         else colnames(data.out) <- attr(formula, \"variables\")[attr(formula, \n .             \"variables\") %in% cn]\n .         indY <- colnames(data.out) == cn[1]\n .         data.out[, indY] <- ynew\n .         swap.col <- order(pmatch(cn[-1], colnames(data.out)[!indY]))\n .         data.out[, !indY] <- Xnew[, (1:d)[swap.col]]\n .     }\n .     else {\n .         if (length(cn) - 1 < d) \n .             colnames(data.out) <- c(cn[1], colnames(X))\n .         else colnames(data.out) <- cn\n .     }\n .     list(data = data.out, call = match.call())\n . })(formula = CLAIM ~ . - AGE, data = train_no_na, method = \"over\", \n .     N = nrow(train_no_na)/2, seed = 42)",
            "5. stop(\"Too few observations.\\n\")"
          ]
        }
      ]
    },
    {
      "cell_type": "code",
      "source": [
        "#Step 3: Conduct a logistic regression analysis using the training data frame with CLAIM as the outcome variable and all the other variables in the dataset as predictor variables.\n",
        "# Fit a logistic regression model to the training data\n",
        "logit <- glm(CLAIM ~ ., data = train, family = \"binomial\")"
      ],
      "metadata": {
        "colab": {
          "base_uri": "https://localhost:8080/",
          "height": 208
        },
        "id": "g3CO16HtFNIN",
        "outputId": "d7e68c28-e922-49a3-f728-58ffd076ccc9"
      },
      "execution_count": null,
      "outputs": [
        {
          "output_type": "error",
          "ename": "ERROR",
          "evalue": "ignored",
          "traceback": [
            "Error in `contrasts<-`(`*tmp*`, value = contr.funs[1 + isOF[nn]]): contrasts can be applied only to factors with 2 or more levels\nTraceback:\n",
            "1. glm(CLAIM ~ ., data = train, family = \"binomial\")",
            "2. model.matrix(mt, mf, contrasts)",
            "3. model.matrix.default(mt, mf, contrasts)",
            "4. `contrasts<-`(`*tmp*`, value = contr.funs[1 + isOF[nn]])",
            "5. stop(\"contrasts can be applied only to factors with 2 or more levels\")"
          ]
        }
      ]
    },
    {
      "cell_type": "code",
      "source": [
        "\n",
        "\n",
        "\n",
        "\n",
        "\n",
        "# View the model summary\n",
        "summary(logit)\n",
        "\n",
        "#Step 4: Using the model you fitted in Step (3) and the validation data frame you created in Step (2), create a confusion matrix to assess the accuracy of the logistic regression model.\n",
        "# Predict on validation data\n",
        "pred_val <- predict(logit, newdata = validate, type = \"response\")\n",
        "\n",
        "# Create confusion matrix\n",
        "table(validate$CLAIM, pred_val > 0.5)\n",
        "\n",
        "#Step 5: Again using the model you fitted in Step (3) and the validation data frame, create an ROC curve plot and calculate the AUC.\n",
        "# Load the pROC package\n",
        "library(pROC)\n",
        "\n",
        "# Create ROC curve and calculate AUC\n",
        "roc_val <- roc(validate$CLAIM, pred_val)\n",
        "plot(roc_val, main = \"ROC Curve - Validation Set\")\n",
        "auc(roc_val)\n",
        "\n",
        "#Step 6: Using the training set you generated in Step (2), create a new training subset using the oversampling method.\n",
        "# Load the ROSE package\n",
        "library(ROSE)\n",
        "\n",
        "# Oversample the minority class in the training data\n",
        "train_over <- ovun.sample(CLAIM ~ .-AGE, data = train, method = \"over\", N = nrow(train) / 2, seed = 42)$data\n",
        "\n",
        "#Step 7: Conduct a logistic regression analysis using the new oversampled training subset with CLAIM as the outcome variable and all the other variables in the dataset as predictor variables.\n",
        "# Fit a logistic regression model to the oversampled training data\n",
        "logit_over <- glm(CLAIM ~ ., data = train_over, family = \"binomial\")\n",
        "\n",
        "# View the model summary\n",
        "summary(logit_over)\n"
      ],
      "metadata": {
        "id": "mMe8xXPFEw4_"
      },
      "execution_count": null,
      "outputs": []
    },
    {
      "cell_type": "markdown",
      "source": [],
      "metadata": {
        "id": "gMjln6qVjkC0"
      }
    },
    {
      "cell_type": "markdown",
      "source": [],
      "metadata": {
        "id": "d3ALaszUjkAl"
      }
    },
    {
      "cell_type": "code",
      "source": [],
      "metadata": {
        "id": "va9evHOGjxl_"
      },
      "execution_count": null,
      "outputs": []
    },
    {
      "cell_type": "code",
      "source": [
        "insurance <- read.csv(\"insurance.csv\")\n",
        "# Calculate summary statistics for all variables\n",
        "summary(insurance)\n"
      ],
      "metadata": {
        "colab": {
          "base_uri": "https://localhost:8080/",
          "height": 656
        },
        "id": "35TuZsdDjlmA",
        "outputId": "70720584-b167-4608-b28a-5a63f9487243"
      },
      "execution_count": null,
      "outputs": [
        {
          "output_type": "display_data",
          "data": {
            "text/plain": [
              "     CLAIM           KIDSDRIV           AGE           HOMEKIDS     \n",
              " Min.   :0.0000   Min.   :0.0000   Min.   :16.00   Min.   :0.0000  \n",
              " 1st Qu.:0.0000   1st Qu.:0.0000   1st Qu.:39.00   1st Qu.:0.0000  \n",
              " Median :0.0000   Median :0.0000   Median :45.00   Median :0.0000  \n",
              " Mean   :0.2638   Mean   :0.1189   Mean   :44.78   Mean   :0.3523  \n",
              " 3rd Qu.:1.0000   3rd Qu.:0.0000   3rd Qu.:51.00   3rd Qu.:1.0000  \n",
              " Max.   :1.0000   Max.   :1.0000   Max.   :81.00   Max.   :1.0000  \n",
              "     INCOME          HOMEOWN          MSTATUS           GENDER      \n",
              " Min.   :     0   Min.   :0.0000   Min.   :0.0000   Min.   :0.0000  \n",
              " 1st Qu.: 28117   1st Qu.:0.0000   1st Qu.:0.0000   1st Qu.:0.0000  \n",
              " Median : 54009   Median :1.0000   Median :1.0000   Median :1.0000  \n",
              " Mean   : 61912   Mean   :0.6632   Mean   :0.5979   Mean   :0.5365  \n",
              " 3rd Qu.: 86166   3rd Qu.:1.0000   3rd Qu.:1.0000   3rd Qu.:1.0000  \n",
              " Max.   :367030   Max.   :1.0000   Max.   :1.0000   Max.   :1.0000  \n",
              "   EDUCATION         TRAVTIME         CAR_USE          BLUEBOOK    \n",
              " Min.   :0.0000   Min.   :  5.00   Min.   :0.0000   Min.   : 1500  \n",
              " 1st Qu.:0.0000   1st Qu.: 23.00   1st Qu.:0.0000   1st Qu.: 9360  \n",
              " Median :1.0000   Median : 33.00   Median :0.0000   Median :14460  \n",
              " Mean   :0.5658   Mean   : 33.57   Mean   :0.3729   Mean   :15766  \n",
              " 3rd Qu.:1.0000   3rd Qu.: 44.00   3rd Qu.:1.0000   3rd Qu.:20870  \n",
              " Max.   :1.0000   Max.   :142.00   Max.   :1.0000   Max.   :69740  \n",
              "      TWC            RED_CAR          CLM_BEF         REVOKED      \n",
              " Min.   : 1.000   Min.   :0.0000   Min.   :0.000   Min.   :0.0000  \n",
              " 1st Qu.: 1.000   1st Qu.:0.0000   1st Qu.:0.000   1st Qu.:0.0000  \n",
              " Median : 4.000   Median :0.0000   Median :0.000   Median :0.0000  \n",
              " Mean   : 5.359   Mean   :0.2904   Mean   :0.385   Mean   :0.1231  \n",
              " 3rd Qu.: 7.000   3rd Qu.:1.0000   3rd Qu.:1.000   3rd Qu.:0.0000  \n",
              " Max.   :25.000   Max.   :1.0000   Max.   :1.000   Max.   :1.0000  \n",
              "    MVR_PTS          CAR_AGE        URBANICITY    \n",
              " Min.   :0.0000   Min.   :-3.00   Min.   :0.0000  \n",
              " 1st Qu.:0.0000   1st Qu.: 1.00   1st Qu.:1.0000  \n",
              " Median :1.0000   Median : 8.00   Median :1.0000  \n",
              " Mean   :0.5509   Mean   : 8.34   Mean   :0.7977  \n",
              " 3rd Qu.:1.0000   3rd Qu.:12.00   3rd Qu.:1.0000  \n",
              " Max.   :1.0000   Max.   :28.00   Max.   :1.0000  "
            ]
          },
          "metadata": {}
        }
      ]
    },
    {
      "cell_type": "code",
      "source": [
        "\n",
        "# Set seed value to 42\n",
        "set.seed(42)\n",
        "\n",
        "# Determine the number of observations in the dataset\n",
        "n_obs <- nrow(insurance)\n",
        "\n",
        "# Determine the number of observations in the training, validation, and test sets\n",
        "n_train <- round(0.6 * n_obs)\n",
        "n_val <- round(0.2 * n_obs)\n",
        "n_test <- n_obs - n_train - n_val\n",
        "\n",
        "# Create a vector of randomly permuted observation indices\n",
        "permuted_indices <- sample(n_obs)\n",
        "\n",
        "# Use the randomly permuted indices to assign observations to each set\n",
        "train_set <- insurance[permuted_indices[1:n_train], ]\n",
        "val_set <- insurance[permuted_indices[(n_train + 1):(n_train + n_val)], ]\n",
        "test_set <- insurance[permuted_indices[(n_train + n_val + 1):(n_train + n_val + n_test)], ]"
      ],
      "metadata": {
        "id": "KE34E7Ozj1om"
      },
      "execution_count": null,
      "outputs": []
    },
    {
      "cell_type": "code",
      "source": [
        "logit <- glm(CLAIM ~ ., data = train, family = \"binomial\")\n"
      ],
      "metadata": {
        "colab": {
          "base_uri": "https://localhost:8080/",
          "height": 226
        },
        "id": "dSDNMYsjj4s1",
        "outputId": "5b332991-c990-4bda-f10f-c5b213fa6cdb"
      },
      "execution_count": null,
      "outputs": [
        {
          "output_type": "error",
          "ename": "ERROR",
          "evalue": "ignored",
          "traceback": [
            "Error in is.data.frame(data): object 'train' not found\nTraceback:\n",
            "1. glm(CLAIM ~ ., data = train, family = \"binomial\")",
            "2. eval(mf, parent.frame())",
            "3. eval(mf, parent.frame())",
            "4. stats::model.frame(formula = CLAIM ~ ., data = train, drop.unused.levels = TRUE)",
            "5. model.frame.default(formula = CLAIM ~ ., data = train, drop.unused.levels = TRUE)",
            "6. is.data.frame(data)"
          ]
        }
      ]
    },
    {
      "cell_type": "markdown",
      "source": [],
      "metadata": {
        "id": "uNa5O7xAOp-2"
      }
    },
    {
      "cell_type": "markdown",
      "source": [],
      "metadata": {
        "id": "kCgrYMAuOp8h"
      }
    },
    {
      "cell_type": "markdown",
      "source": [],
      "metadata": {
        "id": "DIGBwQfBOp6Y"
      }
    },
    {
      "cell_type": "code",
      "source": [
        "# View the dataset\n",
        "\n",
        "insurancedf <- read.csv(\"insurance.csv\")\n",
        "\n",
        "# Generate summary statistics for the variables in the dataset\n",
        "\n",
        "summary(insurancedf)\n",
        "\n",
        "#Step 2: Partition the dataset into a training, validation, and test set, using a 60%-20%-20% split.\n"
      ],
      "metadata": {
        "colab": {
          "base_uri": "https://localhost:8080/",
          "height": 656
        },
        "id": "yrExbF_kOqcL",
        "outputId": "002260d7-b09f-4006-d92e-29058b6533db"
      },
      "execution_count": null,
      "outputs": [
        {
          "output_type": "display_data",
          "data": {
            "text/plain": [
              "     CLAIM           KIDSDRIV           AGE           HOMEKIDS     \n",
              " Min.   :0.0000   Min.   :0.0000   Min.   :16.00   Min.   :0.0000  \n",
              " 1st Qu.:0.0000   1st Qu.:0.0000   1st Qu.:39.00   1st Qu.:0.0000  \n",
              " Median :0.0000   Median :0.0000   Median :45.00   Median :0.0000  \n",
              " Mean   :0.2638   Mean   :0.1189   Mean   :44.78   Mean   :0.3523  \n",
              " 3rd Qu.:1.0000   3rd Qu.:0.0000   3rd Qu.:51.00   3rd Qu.:1.0000  \n",
              " Max.   :1.0000   Max.   :1.0000   Max.   :81.00   Max.   :1.0000  \n",
              "     INCOME          HOMEOWN          MSTATUS           GENDER      \n",
              " Min.   :     0   Min.   :0.0000   Min.   :0.0000   Min.   :0.0000  \n",
              " 1st Qu.: 28117   1st Qu.:0.0000   1st Qu.:0.0000   1st Qu.:0.0000  \n",
              " Median : 54009   Median :1.0000   Median :1.0000   Median :1.0000  \n",
              " Mean   : 61912   Mean   :0.6632   Mean   :0.5979   Mean   :0.5365  \n",
              " 3rd Qu.: 86166   3rd Qu.:1.0000   3rd Qu.:1.0000   3rd Qu.:1.0000  \n",
              " Max.   :367030   Max.   :1.0000   Max.   :1.0000   Max.   :1.0000  \n",
              "   EDUCATION         TRAVTIME         CAR_USE          BLUEBOOK    \n",
              " Min.   :0.0000   Min.   :  5.00   Min.   :0.0000   Min.   : 1500  \n",
              " 1st Qu.:0.0000   1st Qu.: 23.00   1st Qu.:0.0000   1st Qu.: 9360  \n",
              " Median :1.0000   Median : 33.00   Median :0.0000   Median :14460  \n",
              " Mean   :0.5658   Mean   : 33.57   Mean   :0.3729   Mean   :15766  \n",
              " 3rd Qu.:1.0000   3rd Qu.: 44.00   3rd Qu.:1.0000   3rd Qu.:20870  \n",
              " Max.   :1.0000   Max.   :142.00   Max.   :1.0000   Max.   :69740  \n",
              "      TWC            RED_CAR          CLM_BEF         REVOKED      \n",
              " Min.   : 1.000   Min.   :0.0000   Min.   :0.000   Min.   :0.0000  \n",
              " 1st Qu.: 1.000   1st Qu.:0.0000   1st Qu.:0.000   1st Qu.:0.0000  \n",
              " Median : 4.000   Median :0.0000   Median :0.000   Median :0.0000  \n",
              " Mean   : 5.359   Mean   :0.2904   Mean   :0.385   Mean   :0.1231  \n",
              " 3rd Qu.: 7.000   3rd Qu.:1.0000   3rd Qu.:1.000   3rd Qu.:0.0000  \n",
              " Max.   :25.000   Max.   :1.0000   Max.   :1.000   Max.   :1.0000  \n",
              "    MVR_PTS          CAR_AGE        URBANICITY    \n",
              " Min.   :0.0000   Min.   :-3.00   Min.   :0.0000  \n",
              " 1st Qu.:0.0000   1st Qu.: 1.00   1st Qu.:1.0000  \n",
              " Median :1.0000   Median : 8.00   Median :1.0000  \n",
              " Mean   :0.5509   Mean   : 8.34   Mean   :0.7977  \n",
              " 3rd Qu.:1.0000   3rd Qu.:12.00   3rd Qu.:1.0000  \n",
              " Max.   :1.0000   Max.   :28.00   Max.   :1.0000  "
            ]
          },
          "metadata": {}
        }
      ]
    },
    {
      "cell_type": "code",
      "source": [
        "\n",
        "# Set seed for reproducibility\n",
        "\n",
        "set.seed(42)\n",
        "\n",
        "\n",
        "# Partition the data into training, validation, and test sets\n",
        "\n",
        "library(caTools)\n",
        "\n",
        "split <- sample.split(insurancedf$CLAIM, SplitRatio = 0.6)\n",
        "\n",
        "train <- subset(insurancedf, split == TRUE)\n",
        "\n",
        "other <- subset(insurancedf, split == FALSE)\n",
        "\n",
        "split2 <- sample.split(other$CLAIM, SplitRatio = 0.5)\n",
        "\n",
        "validate <- subset(other, split2 == TRUE)\n",
        "\n",
        "test <- subset(other, split2 == FALSE)\n",
        "\n",
        "# Remove rows with missing values from the training dataset\n",
        "\n",
        "train_no_na <- na.omit(train)"
      ],
      "metadata": {
        "id": "E_7md_4DQRia"
      },
      "execution_count": null,
      "outputs": []
    },
    {
      "cell_type": "code",
      "source": [
        "# Fit logistic regression model to training data\n",
        "model <- glm(CLAIM ~ ., data = train_no_na, family = binomial)\n"
      ],
      "metadata": {
        "id": "UqWVcuNDOtgt"
      },
      "execution_count": null,
      "outputs": []
    },
    {
      "cell_type": "code",
      "source": [
        "\n",
        "# View model summary\n",
        "summary(model)"
      ],
      "metadata": {
        "colab": {
          "base_uri": "https://localhost:8080/",
          "height": 729
        },
        "id": "ST7OHctoQUfs",
        "outputId": "f35035d1-4737-49e5-82b5-666bdcda5fce"
      },
      "execution_count": null,
      "outputs": [
        {
          "output_type": "display_data",
          "data": {
            "text/plain": [
              "\n",
              "Call:\n",
              "glm(formula = CLAIM ~ ., family = binomial, data = train_no_na)\n",
              "\n",
              "Deviance Residuals: \n",
              "    Min       1Q   Median       3Q      Max  \n",
              "-2.0904  -0.7361  -0.4338   0.7057   3.0169  \n",
              "\n",
              "Coefficients:\n",
              "              Estimate Std. Error z value Pr(>|z|)    \n",
              "(Intercept) -2.607e+00  3.272e-01  -7.968 1.61e-15 ***\n",
              "KIDSDRIV     4.980e-01  1.324e-01   3.761 0.000169 ***\n",
              "AGE         -3.056e-03  5.370e-03  -0.569 0.569328    \n",
              "HOMEKIDS     3.856e-01  1.073e-01   3.594 0.000325 ***\n",
              "INCOME      -5.565e-06  1.151e-06  -4.835 1.33e-06 ***\n",
              "HOMEOWN     -1.658e-01  9.583e-02  -1.730 0.083677 .  \n",
              "MSTATUS     -7.433e-01  9.500e-02  -7.824 5.11e-15 ***\n",
              "GENDER       1.259e-01  1.086e-01   1.159 0.246319    \n",
              "EDUCATION   -5.053e-01  1.094e-01  -4.617 3.89e-06 ***\n",
              "TRAVTIME     1.637e-02  2.533e-03   6.460 1.05e-10 ***\n",
              "CAR_USE      8.307e-01  8.648e-02   9.606  < 2e-16 ***\n",
              "BLUEBOOK    -2.112e-05  5.360e-06  -3.940 8.14e-05 ***\n",
              "TWC         -5.920e-02  9.822e-03  -6.027 1.67e-09 ***\n",
              "RED_CAR     -1.234e-01  1.153e-01  -1.071 0.284303    \n",
              "CLM_BEF      6.502e-01  8.230e-02   7.900 2.78e-15 ***\n",
              "REVOKED      7.431e-01  1.064e-01   6.987 2.81e-12 ***\n",
              "MVR_PTS      2.902e-01  8.406e-02   3.452 0.000556 ***\n",
              "CAR_AGE      2.596e-04  9.213e-03   0.028 0.977522    \n",
              "URBANICITY   2.022e+00  1.453e-01  13.921  < 2e-16 ***\n",
              "---\n",
              "Signif. codes:  0 ‘***’ 0.001 ‘**’ 0.01 ‘*’ 0.05 ‘.’ 0.1 ‘ ’ 1\n",
              "\n",
              "(Dispersion parameter for binomial family taken to be 1)\n",
              "\n",
              "    Null deviance: 5007.9  on 4338  degrees of freedom\n",
              "Residual deviance: 4024.3  on 4320  degrees of freedom\n",
              "AIC: 4062.3\n",
              "\n",
              "Number of Fisher Scoring iterations: 5\n"
            ]
          },
          "metadata": {}
        }
      ]
    },
    {
      "cell_type": "code",
      "source": [
        "# Predict outcomes for validation set using the logistic regression model\n",
        "validation_preds <- predict(model, newdata = validate, type = \"response\")\n",
        "validation_preds_class <- ifelse(validation_preds > 0.5, \"Yes\", \"No\")\n",
        "\n",
        "# Create confusion matrix for validation set\n",
        "table(validation_preds_class, validate$CLAIM)"
      ],
      "metadata": {
        "colab": {
          "base_uri": "https://localhost:8080/",
          "height": 90
        },
        "id": "90L_0UubPfY5",
        "outputId": "080c85c1-7c41-4f65-e4b0-f3dceda0e4e9"
      },
      "execution_count": null,
      "outputs": [
        {
          "output_type": "display_data",
          "data": {
            "text/plain": [
              "                      \n",
              "validation_preds_class   0   1\n",
              "                   No  966 240\n",
              "                   Yes  99 142"
            ]
          },
          "metadata": {}
        }
      ]
    },
    {
      "cell_type": "code",
      "source": [
        "# Load necessary packages\n",
        "library(pROC)\n",
        "library(ggplot2)\n",
        "\n",
        "# Create ROC curve and calculate AUC for validation set\n",
        "roc_obj <- roc(validate$CLAIM, validation_preds)\n",
        "ggroc(roc_obj, legacy.axes = TRUE)\n",
        "auc(roc_obj)"
      ],
      "metadata": {
        "colab": {
          "base_uri": "https://localhost:8080/",
          "height": 527
        },
        "id": "LrUh18SlQH07",
        "outputId": "e6c0279b-0de1-40e7-c01c-5622097832be"
      },
      "execution_count": null,
      "outputs": [
        {
          "output_type": "stream",
          "name": "stderr",
          "text": [
            "Setting levels: control = 0, case = 1\n",
            "\n",
            "Setting direction: controls < cases\n",
            "\n"
          ]
        },
        {
          "output_type": "display_data",
          "data": {
            "text/html": [
              "0.797539512818622"
            ],
            "text/markdown": "0.797539512818622",
            "text/latex": "0.797539512818622",
            "text/plain": [
              "Area under the curve: 0.7975"
            ]
          },
          "metadata": {}
        },
        {
          "output_type": "display_data",
          "data": {
            "text/plain": [
              "plot without title"
            ],
            "image/png": "[encoded data removed]"
          },
          "metadata": {
            "image/png": {
              "width": 420,
              "height": 420
            }
          }
        }
      ]
    },
    {
      "cell_type": "code",
      "source": [
        "install.packages(\"smotefamily\")"
      ],
      "metadata": {
        "colab": {
          "base_uri": "https://localhost:8080/"
        },
        "id": "vcOKLHQtSLSC",
        "outputId": "06d1634a-7d91-4c5e-ea87-29a9aa0f860d"
      },
      "execution_count": null,
      "outputs": [
        {
          "output_type": "stream",
          "name": "stderr",
          "text": [
            "Installing package into ‘/usr/local/lib/R/site-library’\n",
            "(as ‘lib’ is unspecified)\n",
            "\n",
            "also installing the dependencies ‘FNN’, ‘dbscan’, ‘igraph’\n",
            "\n",
            "\n"
          ]
        }
      ]
    },
    {
      "cell_type": "code",
      "source": [
        "library(smotefamily)"
      ],
      "metadata": {
        "id": "uQVKa4yFUNua"
      },
      "execution_count": null,
      "outputs": []
    },
    {
      "cell_type": "code",
      "source": [
        "\n",
        "\n",
        "# Oversample training set\n",
        "train_oversampled <- SMOTE(CLAIM ~ ., train_no_na, k = 5, perc.over = 200, perc.under = 100)\n"
      ],
      "metadata": {
        "colab": {
          "base_uri": "https://localhost:8080/",
          "height": 117
        },
        "id": "JhyWj5lISE7t",
        "outputId": "7ed1bfdf-3631-4d8b-cd1c-ce0080e63d89"
      },
      "execution_count": null,
      "outputs": [
        {
          "output_type": "error",
          "ename": "ERROR",
          "evalue": "ignored",
          "traceback": [
            "Error in SMOTE(CLAIM ~ ., train_no_na, k = 5, perc.over = 200, perc.under = 100): unused arguments (k = 5, perc.over = 200, perc.under = 100)\nTraceback:\n"
          ]
        }
      ]
    },
    {
      "cell_type": "code",
      "source": [
        "# Load necessary package\n",
        "library(DMwR)\n",
        "\n",
        "# Oversample training set\n",
        "train_oversampled <- SMOTE(CLAIM ~ ., train_no_na, k = 5, perc.over = 200, perc.under = 100)"
      ],
      "metadata": {
        "colab": {
          "base_uri": "https://localhost:8080/",
          "height": 135
        },
        "id": "S0QMutDkR7fY",
        "outputId": "0ba7db9c-a624-475f-f63c-6082363038cc"
      },
      "execution_count": null,
      "outputs": [
        {
          "output_type": "error",
          "ename": "ERROR",
          "evalue": "ignored",
          "traceback": [
            "Error in library(DMwR): there is no package called ‘DMwR’\nTraceback:\n",
            "1. library(DMwR)"
          ]
        }
      ]
    },
    {
      "cell_type": "code",
      "source": [
        "# Fit logistic regression model to oversampled training data\n",
        "model_oversampled <- glm(CLAIM ~ ., data = train_oversampled, family = binomial)\n",
        "\n",
        "# View model summary\n",
        "summary(model_oversampled)"
      ],
      "metadata": {
        "colab": {
          "base_uri": "https://localhost:8080/",
          "height": 263
        },
        "id": "Rqd_zMudR57Q",
        "outputId": "190cf452-1069-4a56-ae4d-68088989c1be"
      },
      "execution_count": null,
      "outputs": [
        {
          "output_type": "error",
          "ename": "ERROR",
          "evalue": "ignored",
          "traceback": [
            "Error in is.data.frame(data): object 'train_oversampled' not found\nTraceback:\n",
            "1. glm(CLAIM ~ ., data = train_oversampled, family = binomial)",
            "2. eval(mf, parent.frame())",
            "3. eval(mf, parent.frame())",
            "4. stats::model.frame(formula = CLAIM ~ ., data = train_oversampled, \n .     drop.unused.levels = TRUE)",
            "5. model.frame.default(formula = CLAIM ~ ., data = train_oversampled, \n .     drop.unused.levels = TRUE)",
            "6. is.data.frame(data)"
          ]
        }
      ]
    },
    {
      "cell_type": "code",
      "source": [
        "# Predict outcomes for validation set using the logistic regression model\n",
        "validation_preds_oversampled <- predict(model_oversampled, newdata = validate, type = \"response\")\n",
        "validation_preds_oversampled_class <- ifelse(validation_preds_oversampled > 0.5, \"Yes\", \"No\")\n",
        "\n",
        "# Create confusion matrix for validation set\n",
        "table(validation_preds_oversampled_class, validate$CLAIM)\n"
      ],
      "metadata": {
        "colab": {
          "base_uri": "https://localhost:8080/",
          "height": 153
        },
        "id": "N5v5QSVsR3ch",
        "outputId": "4acc66b2-4895-457b-d65d-eafa2a703bf9"
      },
      "execution_count": null,
      "outputs": [
        {
          "output_type": "error",
          "ename": "ERROR",
          "evalue": "ignored",
          "traceback": [
            "Error in predict(model_oversampled, newdata = validate, type = \"response\"): object 'model_oversampled' not found\nTraceback:\n",
            "1. predict(model_oversampled, newdata = validate, type = \"response\")"
          ]
        }
      ]
    },
    {
      "cell_type": "code",
      "source": [
        "\n",
        "# Create a ROC curve plot using the validation dataset\n",
        "roc_val <- roc(validate$CLAIM, predict(model_oversampled, newdata = validate, type = \"response\"))\n",
        "plot(roc_val, main = \"ROC Curve for Logistic Regression Model (Validation)\", col = \"blue\")\n",
        "# Calculate AUC for the ROC curve\n",
        "auc(roc_val)"
      ],
      "metadata": {
        "colab": {
          "base_uri": "https://localhost:8080/",
          "height": 226
        },
        "id": "ZChro8ODQHzD",
        "outputId": "96c6ef8d-7be3-402f-c7f8-ba0b26efcb6d"
      },
      "execution_count": null,
      "outputs": [
        {
          "output_type": "error",
          "ename": "ERROR",
          "evalue": "ignored",
          "traceback": [
            "Error in predict(model_oversampled, newdata = validate, type = \"response\"): object 'model_oversampled' not found\nTraceback:\n",
            "1. roc(validate$CLAIM, predict(model_oversampled, newdata = validate, \n .     type = \"response\"))",
            "2. roc.default(validate$CLAIM, predict(model_oversampled, newdata = validate, \n .     type = \"response\"))",
            "3. predict(model_oversampled, newdata = validate, type = \"response\")"
          ]
        }
      ]
    }
  ],
  "metadata": {
    "colab": {
      "provenance": [],
      "authorship_tag": "ABX9TyNqcU3qVcUBGgvSL963BXYF",
      "include_colab_link": true
    },
    "kernelspec": {
      "display_name": "R",
      "name": "ir"
    },
    "language_info": {
      "name": "R"
    }
  },
  "nbformat": 4,
  "nbformat_minor": 0
}