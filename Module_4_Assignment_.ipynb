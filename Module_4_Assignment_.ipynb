{
  "cells": [
    {
      "cell_type": "markdown",
      "metadata": {
        "id": "view-in-github",
        "colab_type": "text"
      },
      "source": [
        "<a href=\"https://colab.research.google.com/github/slmayfield/Artificial_Neural_Network_project/blob/main/Module_4_Assignment_.ipynb\" target=\"_parent\"><img src=\"https://colab.research.google.com/assets/colab-badge.svg\" alt=\"Open In Colab\"/></a>"
      ]
    },
    {
      "cell_type": "code",
      "execution_count": null,
      "metadata": {
        "colab": {
          "base_uri": "https://localhost:8080/"
        },
        "id": "dO77haFTdYZ4",
        "outputId": "2fd4efad-5b4e-46e3-ebeb-691f98eb7334"
      },
      "outputs": [
        {
          "output_type": "stream",
          "name": "stderr",
          "text": [
            "Installing package into ‘/usr/local/lib/R/site-library’\n",
            "(as ‘lib’ is unspecified)\n",
            "\n",
            "Installing package into ‘/usr/local/lib/R/site-library’\n",
            "(as ‘lib’ is unspecified)\n",
            "\n",
            "Installing package into ‘/usr/local/lib/R/site-library’\n",
            "(as ‘lib’ is unspecified)\n",
            "\n",
            "also installing the dependencies ‘textshaping’, ‘ragg’\n",
            "\n",
            "\n",
            "Warning message in install.packages(\"tidyverse\"):\n",
            "“installation of package ‘textshaping’ had non-zero exit status”\n",
            "Warning message in install.packages(\"tidyverse\"):\n",
            "“installation of package ‘ragg’ had non-zero exit status”\n",
            "Warning message in install.packages(\"tidyverse\"):\n",
            "“installation of package ‘tidyverse’ had non-zero exit status”\n"
          ]
        }
      ],
      "source": [
        "install.packages(\"googledrive\")\n",
        "install.packages(\"TTR\")\n",
        "install.packages(\"tidyverse\")\n",
        "\n",
        "library(\"googledrive\")\n",
        "library(TTR)\n",
        "library(tidyverse)"
      ]
    },
    {
      "cell_type": "code",
      "execution_count": null,
      "metadata": {
        "id": "1l_bI6uzeHd7",
        "colab": {
          "base_uri": "https://localhost:8080/",
          "height": 586
        },
        "outputId": "15df1105-69ba-40a7-9159-b73da48232d3"
      },
      "outputs": [
        {
          "output_type": "display_data",
          "data": {
            "text/html": [
              "<table class=\"dataframe\">\n",
              "<caption>A data.frame: 15 × 2</caption>\n",
              "<thead>\n",
              "\t<tr><th scope=col>Year</th><th scope=col>Airfare</th></tr>\n",
              "\t<tr><th scope=col>&lt;int&gt;</th><th scope=col>&lt;dbl&gt;</th></tr>\n",
              "</thead>\n",
              "<tbody>\n",
              "\t<tr><td>2004</td><td>402.26</td></tr>\n",
              "\t<tr><td>2005</td><td>391.50</td></tr>\n",
              "\t<tr><td>2006</td><td>405.48</td></tr>\n",
              "\t<tr><td>2007</td><td>390.30</td></tr>\n",
              "\t<tr><td>2008</td><td>400.27</td></tr>\n",
              "\t<tr><td>2009</td><td>359.91</td></tr>\n",
              "\t<tr><td>2010</td><td>383.48</td></tr>\n",
              "\t<tr><td>2011</td><td>402.45</td></tr>\n",
              "\t<tr><td>2012</td><td>406.13</td></tr>\n",
              "\t<tr><td>2013</td><td>407.99</td></tr>\n",
              "\t<tr><td>2014</td><td>411.67</td></tr>\n",
              "\t<tr><td>2015</td><td>395.70</td></tr>\n",
              "\t<tr><td>2016</td><td>361.94</td></tr>\n",
              "\t<tr><td>2017</td><td>352.85</td></tr>\n",
              "\t<tr><td>2018</td><td>346.49</td></tr>\n",
              "</tbody>\n",
              "</table>\n"
            ],
            "text/markdown": "\nA data.frame: 15 × 2\n\n| Year &lt;int&gt; | Airfare &lt;dbl&gt; |\n|---|---|\n| 2004 | 402.26 |\n| 2005 | 391.50 |\n| 2006 | 405.48 |\n| 2007 | 390.30 |\n| 2008 | 400.27 |\n| 2009 | 359.91 |\n| 2010 | 383.48 |\n| 2011 | 402.45 |\n| 2012 | 406.13 |\n| 2013 | 407.99 |\n| 2014 | 411.67 |\n| 2015 | 395.70 |\n| 2016 | 361.94 |\n| 2017 | 352.85 |\n| 2018 | 346.49 |\n\n",
            "text/latex": "A data.frame: 15 × 2\n\\begin{tabular}{ll}\n Year & Airfare\\\\\n <int> & <dbl>\\\\\n\\hline\n\t 2004 & 402.26\\\\\n\t 2005 & 391.50\\\\\n\t 2006 & 405.48\\\\\n\t 2007 & 390.30\\\\\n\t 2008 & 400.27\\\\\n\t 2009 & 359.91\\\\\n\t 2010 & 383.48\\\\\n\t 2011 & 402.45\\\\\n\t 2012 & 406.13\\\\\n\t 2013 & 407.99\\\\\n\t 2014 & 411.67\\\\\n\t 2015 & 395.70\\\\\n\t 2016 & 361.94\\\\\n\t 2017 & 352.85\\\\\n\t 2018 & 346.49\\\\\n\\end{tabular}\n",
            "text/plain": [
              "   Year Airfare\n",
              "1  2004 402.26 \n",
              "2  2005 391.50 \n",
              "3  2006 405.48 \n",
              "4  2007 390.30 \n",
              "5  2008 400.27 \n",
              "6  2009 359.91 \n",
              "7  2010 383.48 \n",
              "8  2011 402.45 \n",
              "9  2012 406.13 \n",
              "10 2013 407.99 \n",
              "11 2014 411.67 \n",
              "12 2015 395.70 \n",
              "13 2016 361.94 \n",
              "14 2017 352.85 \n",
              "15 2018 346.49 "
            ]
          },
          "metadata": {}
        }
      ],
      "source": [
        "airfaredf <- read.csv(\"airfare.csv\")\n",
        "airfaredf"
      ]
    },
    {
      "cell_type": "code",
      "execution_count": null,
      "metadata": {
        "colab": {
          "base_uri": "https://localhost:8080/"
        },
        "id": "k6Ufte4CyHbN",
        "outputId": "dcd2601b-bb1d-4f33-dab4-b874e524e040"
      },
      "outputs": [
        {
          "output_type": "stream",
          "name": "stderr",
          "text": [
            "Installing package into ‘/usr/local/lib/R/site-library’\n",
            "(as ‘lib’ is unspecified)\n",
            "\n"
          ]
        }
      ],
      "source": [
        "install.packages(\"ggplot2\")\n",
        "library(ggplot2)"
      ]
    },
    {
      "cell_type": "code",
      "source": [
        "ggplot(data=airfaredf,mapping=aes(x=Year, y=Airfare))+\n",
        "  geom_line()+\n",
        "  geom_point()+\n",
        "  scale_x_continuous(breaks=seq(2004, 2018, by=1), name = \"Year\") + # add x-axis label and break points\n",
        "  scale_y_continuous(breaks=seq(0, 800, by=100), name = \"Airfare\") + # add y-axis label and break points\n",
        "  labs(title=\"Yearly Airfare Prices\")\n"
      ],
      "metadata": {
        "colab": {
          "base_uri": "https://localhost:8080/",
          "height": 437
        },
        "id": "_6PRiM1a_ztT",
        "outputId": "cde1381c-a87b-4f8f-d27f-76556e7f083a"
      },
      "execution_count": null,
      "outputs": [
        {
          "output_type": "display_data",
          "data": {
            "text/plain": [
              "plot without title"
            ],
            "image/png": "[encoded data removed]"
          },
          "metadata": {
            "image/png": {
              "width": 420,
              "height": 420
            }
          }
        }
      ]
    },
    {
      "cell_type": "code",
      "source": [
        "sales_actuals<-airfaredf$Airfare\n",
        "sales_actuals"
      ],
      "metadata": {
        "colab": {
          "base_uri": "https://localhost:8080/",
          "height": 34
        },
        "id": "xmQLh2s9_iNE",
        "outputId": "44d7bfad-2bba-4082-d1ca-150e16e35fae"
      },
      "execution_count": null,
      "outputs": [
        {
          "output_type": "display_data",
          "data": {
            "text/html": [
              "<style>\n",
              ".list-inline {list-style: none; margin:0; padding: 0}\n",
              ".list-inline>li {display: inline-block}\n",
              ".list-inline>li:not(:last-child)::after {content: \"\\00b7\"; padding: 0 .5ex}\n",
              "</style>\n",
              "<ol class=list-inline><li>402.26</li><li>391.5</li><li>405.48</li><li>390.3</li><li>400.27</li><li>359.91</li><li>383.48</li><li>402.45</li><li>406.13</li><li>407.99</li><li>411.67</li><li>395.7</li><li>361.94</li><li>352.85</li><li>346.49</li></ol>\n"
            ],
            "text/markdown": "1. 402.26\n2. 391.5\n3. 405.48\n4. 390.3\n5. 400.27\n6. 359.91\n7. 383.48\n8. 402.45\n9. 406.13\n10. 407.99\n11. 411.67\n12. 395.7\n13. 361.94\n14. 352.85\n15. 346.49\n\n\n",
            "text/latex": "\\begin{enumerate*}\n\\item 402.26\n\\item 391.5\n\\item 405.48\n\\item 390.3\n\\item 400.27\n\\item 359.91\n\\item 383.48\n\\item 402.45\n\\item 406.13\n\\item 407.99\n\\item 411.67\n\\item 395.7\n\\item 361.94\n\\item 352.85\n\\item 346.49\n\\end{enumerate*}\n",
            "text/plain": [
              " [1] 402.26 391.50 405.48 390.30 400.27 359.91 383.48 402.45 406.13 407.99\n",
              "[11] 411.67 395.70 361.94 352.85 346.49"
            ]
          },
          "metadata": {}
        }
      ]
    },
    {
      "cell_type": "code",
      "source": [
        "naive16<-c(NA,sales_actuals)\n",
        "naive16"
      ],
      "metadata": {
        "colab": {
          "base_uri": "https://localhost:8080/",
          "height": 34
        },
        "id": "bpT6EUJw_iJw",
        "outputId": "ef0109d2-3bab-4b2e-c797-83e727e84754"
      },
      "execution_count": null,
      "outputs": [
        {
          "output_type": "display_data",
          "data": {
            "text/html": [
              "<style>\n",
              ".list-inline {list-style: none; margin:0; padding: 0}\n",
              ".list-inline>li {display: inline-block}\n",
              ".list-inline>li:not(:last-child)::after {content: \"\\00b7\"; padding: 0 .5ex}\n",
              "</style>\n",
              "<ol class=list-inline><li>&lt;NA&gt;</li><li>402.26</li><li>391.5</li><li>405.48</li><li>390.3</li><li>400.27</li><li>359.91</li><li>383.48</li><li>402.45</li><li>406.13</li><li>407.99</li><li>411.67</li><li>395.7</li><li>361.94</li><li>352.85</li><li>346.49</li></ol>\n"
            ],
            "text/markdown": "1. &lt;NA&gt;\n2. 402.26\n3. 391.5\n4. 405.48\n5. 390.3\n6. 400.27\n7. 359.91\n8. 383.48\n9. 402.45\n10. 406.13\n11. 407.99\n12. 411.67\n13. 395.7\n14. 361.94\n15. 352.85\n16. 346.49\n\n\n",
            "text/latex": "\\begin{enumerate*}\n\\item <NA>\n\\item 402.26\n\\item 391.5\n\\item 405.48\n\\item 390.3\n\\item 400.27\n\\item 359.91\n\\item 383.48\n\\item 402.45\n\\item 406.13\n\\item 407.99\n\\item 411.67\n\\item 395.7\n\\item 361.94\n\\item 352.85\n\\item 346.49\n\\end{enumerate*}\n",
            "text/plain": [
              " [1]     NA 402.26 391.50 405.48 390.30 400.27 359.91 383.48 402.45 406.13\n",
              "[11] 407.99 411.67 395.70 361.94 352.85 346.49"
            ]
          },
          "metadata": {}
        }
      ]
    },
    {
      "cell_type": "code",
      "source": [
        "mae<-function(actual,pred){\n",
        "  mae<-mean(abs(actual-pred),na.rm=TRUE)\n",
        "  return(mae)\n",
        "  }"
      ],
      "metadata": {
        "id": "KmHvAc48AW5E"
      },
      "execution_count": null,
      "outputs": []
    },
    {
      "cell_type": "code",
      "source": [
        "mse<-function(actual,pred){\n",
        "  mse<-mean((actual-pred)^2,na.rm=TRUE)\n",
        "  return(mse)\n",
        "  }"
      ],
      "metadata": {
        "id": "VlUY10oKAW0r"
      },
      "execution_count": null,
      "outputs": []
    },
    {
      "cell_type": "code",
      "source": [
        "rmse<-function(actual,pred){\n",
        "  rmse<-sqrt(mean((actual-pred)^2,na.rm = TRUE))\n",
        "  return(rmse)\n",
        "}"
      ],
      "metadata": {
        "id": "-a4sXbYR5o6L"
      },
      "execution_count": null,
      "outputs": []
    },
    {
      "cell_type": "code",
      "source": [
        "mape<-function(actual,pred){\n",
        "  mape<-mean(abs((actual-pred)/actual),na.rm=TRUE)*100\n",
        "  return(mape)\n",
        "}"
      ],
      "metadata": {
        "id": "aXY_HGFD5UA8"
      },
      "execution_count": null,
      "outputs": []
    },
    {
      "cell_type": "code",
      "source": [
        "naive_pred<-naive16[-length(naive16)]"
      ],
      "metadata": {
        "id": "Qz4_vrQp6exV"
      },
      "execution_count": null,
      "outputs": []
    },
    {
      "cell_type": "code",
      "source": [
        "mae(sales_actuals,naive_pred)\n",
        "mse(sales_actuals,naive_pred)\n",
        "rmse(sales_actuals,naive_pred)\n",
        "mape(sales_actuals,naive_pred)"
      ],
      "metadata": {
        "colab": {
          "base_uri": "https://localhost:8080/",
          "height": 86
        },
        "id": "Z8DxOOMGBubS",
        "outputId": "e7ae6845-eda8-4d0f-bb26-9a43d338b4de"
      },
      "execution_count": null,
      "outputs": [
        {
          "output_type": "display_data",
          "data": {
            "text/html": [
              "14.7992857142857"
            ],
            "text/markdown": "14.7992857142857",
            "text/latex": "14.7992857142857",
            "text/plain": [
              "[1] 14.79929"
            ]
          },
          "metadata": {}
        },
        {
          "output_type": "display_data",
          "data": {
            "text/html": [
              "338.127664285714"
            ],
            "text/markdown": "338.127664285714",
            "text/latex": "338.127664285714",
            "text/plain": [
              "[1] 338.1277"
            ]
          },
          "metadata": {}
        },
        {
          "output_type": "display_data",
          "data": {
            "text/html": [
              "18.3882479939149"
            ],
            "text/markdown": "18.3882479939149",
            "text/latex": "18.3882479939149",
            "text/plain": [
              "[1] 18.38825"
            ]
          },
          "metadata": {}
        },
        {
          "output_type": "display_data",
          "data": {
            "text/html": [
              "3.90580239809356"
            ],
            "text/markdown": "3.90580239809356",
            "text/latex": "3.90580239809356",
            "text/plain": [
              "[1] 3.905802"
            ]
          },
          "metadata": {}
        }
      ]
    },
    {
      "cell_type": "code",
      "source": [
        "sma16<-SMA(sales_actuals,n=3)\n",
        "sma16"
      ],
      "metadata": {
        "colab": {
          "base_uri": "https://localhost:8080/",
          "height": 34
        },
        "id": "K7CMk-sxCMQm",
        "outputId": "7bb1820a-4490-4eb3-f922-a6fc00a50ce3"
      },
      "execution_count": null,
      "outputs": [
        {
          "output_type": "display_data",
          "data": {
            "text/html": [
              "<style>\n",
              ".list-inline {list-style: none; margin:0; padding: 0}\n",
              ".list-inline>li {display: inline-block}\n",
              ".list-inline>li:not(:last-child)::after {content: \"\\00b7\"; padding: 0 .5ex}\n",
              "</style>\n",
              "<ol class=list-inline><li>&lt;NA&gt;</li><li>&lt;NA&gt;</li><li>399.746666666667</li><li>395.76</li><li>398.683333333333</li><li>383.493333333333</li><li>381.22</li><li>381.946666666667</li><li>397.353333333333</li><li>405.523333333333</li><li>408.596666666667</li><li>405.12</li><li>389.77</li><li>370.163333333333</li><li>353.76</li></ol>\n"
            ],
            "text/markdown": "1. &lt;NA&gt;\n2. &lt;NA&gt;\n3. 399.746666666667\n4. 395.76\n5. 398.683333333333\n6. 383.493333333333\n7. 381.22\n8. 381.946666666667\n9. 397.353333333333\n10. 405.523333333333\n11. 408.596666666667\n12. 405.12\n13. 389.77\n14. 370.163333333333\n15. 353.76\n\n\n",
            "text/latex": "\\begin{enumerate*}\n\\item <NA>\n\\item <NA>\n\\item 399.746666666667\n\\item 395.76\n\\item 398.683333333333\n\\item 383.493333333333\n\\item 381.22\n\\item 381.946666666667\n\\item 397.353333333333\n\\item 405.523333333333\n\\item 408.596666666667\n\\item 405.12\n\\item 389.77\n\\item 370.163333333333\n\\item 353.76\n\\end{enumerate*}\n",
            "text/plain": [
              " [1]       NA       NA 399.7467 395.7600 398.6833 383.4933 381.2200 381.9467\n",
              " [9] 397.3533 405.5233 408.5967 405.1200 389.7700 370.1633 353.7600"
            ]
          },
          "metadata": {}
        }
      ]
    },
    {
      "cell_type": "code",
      "source": [
        "sales_ma_pred<-c(NA,sma16[-length(sma3)])\n",
        "sales_ma_pred\n"
      ],
      "metadata": {
        "colab": {
          "base_uri": "https://localhost:8080/",
          "height": 34
        },
        "id": "XnSKGF0hCMN7",
        "outputId": "a2ab6d2d-7dca-4210-bae0-1b1a7f4ab76b"
      },
      "execution_count": null,
      "outputs": [
        {
          "output_type": "display_data",
          "data": {
            "text/html": [
              "<style>\n",
              ".list-inline {list-style: none; margin:0; padding: 0}\n",
              ".list-inline>li {display: inline-block}\n",
              ".list-inline>li:not(:last-child)::after {content: \"\\00b7\"; padding: 0 .5ex}\n",
              "</style>\n",
              "<ol class=list-inline><li>&lt;NA&gt;</li><li>&lt;NA&gt;</li><li>&lt;NA&gt;</li><li>399.746666666667</li><li>395.76</li><li>398.683333333333</li><li>383.493333333333</li><li>381.22</li><li>381.946666666667</li><li>397.353333333333</li><li>405.523333333333</li><li>408.596666666667</li><li>405.12</li><li>389.77</li><li>370.163333333333</li></ol>\n"
            ],
            "text/markdown": "1. &lt;NA&gt;\n2. &lt;NA&gt;\n3. &lt;NA&gt;\n4. 399.746666666667\n5. 395.76\n6. 398.683333333333\n7. 383.493333333333\n8. 381.22\n9. 381.946666666667\n10. 397.353333333333\n11. 405.523333333333\n12. 408.596666666667\n13. 405.12\n14. 389.77\n15. 370.163333333333\n\n\n",
            "text/latex": "\\begin{enumerate*}\n\\item <NA>\n\\item <NA>\n\\item <NA>\n\\item 399.746666666667\n\\item 395.76\n\\item 398.683333333333\n\\item 383.493333333333\n\\item 381.22\n\\item 381.946666666667\n\\item 397.353333333333\n\\item 405.523333333333\n\\item 408.596666666667\n\\item 405.12\n\\item 389.77\n\\item 370.163333333333\n\\end{enumerate*}\n",
            "text/plain": [
              " [1]       NA       NA       NA 399.7467 395.7600 398.6833 383.4933 381.2200\n",
              " [9] 381.9467 397.3533 405.5233 408.5967 405.1200 389.7700 370.1633"
            ]
          },
          "metadata": {}
        }
      ]
    },
    {
      "cell_type": "code",
      "source": [
        "mae(sales_actuals,sales_ma_pred)\n",
        "mse(sales_actuals,sales_ma_pred)\n",
        "rmse(sales_actuals,sales_ma_pred)\n",
        "mape(sales_actuals,sales_ma_pred)"
      ],
      "metadata": {
        "colab": {
          "base_uri": "https://localhost:8080/",
          "height": 86
        },
        "id": "6idm8y6sCMLf",
        "outputId": "f12788bd-c939-4a89-dcb0-8897d04decc6"
      },
      "execution_count": null,
      "outputs": [
        {
          "output_type": "display_data",
          "data": {
            "text/html": [
              "19.3008333333333"
            ],
            "text/markdown": "19.3008333333333",
            "text/latex": "19.3008333333333",
            "text/plain": [
              "[1] 19.30083"
            ]
          },
          "metadata": {}
        },
        {
          "output_type": "display_data",
          "data": {
            "text/html": [
              "562.813949074074"
            ],
            "text/markdown": "562.813949074074",
            "text/latex": "562.813949074074",
            "text/plain": [
              "[1] 562.8139"
            ]
          },
          "metadata": {}
        },
        {
          "output_type": "display_data",
          "data": {
            "text/html": [
              "23.7237001556265"
            ],
            "text/markdown": "23.7237001556265",
            "text/latex": "23.7237001556265",
            "text/plain": [
              "[1] 23.7237"
            ]
          },
          "metadata": {}
        },
        {
          "output_type": "display_data",
          "data": {
            "text/html": [
              "5.17822163676045"
            ],
            "text/markdown": "5.17822163676045",
            "text/latex": "5.17822163676045",
            "text/plain": [
              "[1] 5.178222"
            ]
          },
          "metadata": {}
        }
      ]
    },
    {
      "cell_type": "code",
      "source": [
        "#Exponential smoothing of n=1 is the first order. smoothing constand is the ratio, ratio=0.2#\n",
        "exp13<-EMA(sales_actuals,n=1,ratio=0.2)\n",
        "exp13"
      ],
      "metadata": {
        "colab": {
          "base_uri": "https://localhost:8080/",
          "height": 69
        },
        "id": "jUDZaWnZCMJe",
        "outputId": "dba55f2a-d84c-4568-89d9-d763faae5378"
      },
      "execution_count": null,
      "outputs": [
        {
          "output_type": "stream",
          "name": "stderr",
          "text": [
            "Warning message in EMA(sales_actuals, n = 1, ratio = 0.2):\n",
            "“both 'n' and 'ratio' are specified; using 'n'”\n"
          ]
        },
        {
          "output_type": "display_data",
          "data": {
            "text/html": [
              "<style>\n",
              ".list-inline {list-style: none; margin:0; padding: 0}\n",
              ".list-inline>li {display: inline-block}\n",
              ".list-inline>li:not(:last-child)::after {content: \"\\00b7\"; padding: 0 .5ex}\n",
              "</style>\n",
              "<ol class=list-inline><li>402.26</li><li>400.108</li><li>401.1824</li><li>399.00592</li><li>399.258736</li><li>391.3889888</li><li>389.80719104</li><li>392.335752832</li><li>395.0946022656</li><li>397.67368181248</li><li>400.472945449984</li><li>399.518356359987</li><li>392.00268508799</li><li>384.172148070392</li><li>376.635718456314</li></ol>\n"
            ],
            "text/markdown": "1. 402.26\n2. 400.108\n3. 401.1824\n4. 399.00592\n5. 399.258736\n6. 391.3889888\n7. 389.80719104\n8. 392.335752832\n9. 395.0946022656\n10. 397.67368181248\n11. 400.472945449984\n12. 399.518356359987\n13. 392.00268508799\n14. 384.172148070392\n15. 376.635718456314\n\n\n",
            "text/latex": "\\begin{enumerate*}\n\\item 402.26\n\\item 400.108\n\\item 401.1824\n\\item 399.00592\n\\item 399.258736\n\\item 391.3889888\n\\item 389.80719104\n\\item 392.335752832\n\\item 395.0946022656\n\\item 397.67368181248\n\\item 400.472945449984\n\\item 399.518356359987\n\\item 392.00268508799\n\\item 384.172148070392\n\\item 376.635718456314\n\\end{enumerate*}\n",
            "text/plain": [
              " [1] 402.2600 400.1080 401.1824 399.0059 399.2587 391.3890 389.8072 392.3358\n",
              " [9] 395.0946 397.6737 400.4729 399.5184 392.0027 384.1721 376.6357"
            ]
          },
          "metadata": {}
        }
      ]
    },
    {
      "cell_type": "code",
      "source": [
        "exp_pred<-c(NA,exp13[-length(exp13)])\n",
        "exp_pred"
      ],
      "metadata": {
        "id": "c4n0sl6IDToW",
        "colab": {
          "base_uri": "https://localhost:8080/",
          "height": 34
        },
        "outputId": "3ec7c851-94af-4c4f-ae12-6bdb6967d8a6"
      },
      "execution_count": null,
      "outputs": [
        {
          "output_type": "display_data",
          "data": {
            "text/html": [
              "<style>\n",
              ".list-inline {list-style: none; margin:0; padding: 0}\n",
              ".list-inline>li {display: inline-block}\n",
              ".list-inline>li:not(:last-child)::after {content: \"\\00b7\"; padding: 0 .5ex}\n",
              "</style>\n",
              "<ol class=list-inline><li>&lt;NA&gt;</li><li>402.26</li><li>400.108</li><li>401.1824</li><li>399.00592</li><li>399.258736</li><li>391.3889888</li><li>389.80719104</li><li>392.335752832</li><li>395.0946022656</li><li>397.67368181248</li><li>400.472945449984</li><li>399.518356359987</li><li>392.00268508799</li><li>384.172148070392</li></ol>\n"
            ],
            "text/markdown": "1. &lt;NA&gt;\n2. 402.26\n3. 400.108\n4. 401.1824\n5. 399.00592\n6. 399.258736\n7. 391.3889888\n8. 389.80719104\n9. 392.335752832\n10. 395.0946022656\n11. 397.67368181248\n12. 400.472945449984\n13. 399.518356359987\n14. 392.00268508799\n15. 384.172148070392\n\n\n",
            "text/latex": "\\begin{enumerate*}\n\\item <NA>\n\\item 402.26\n\\item 400.108\n\\item 401.1824\n\\item 399.00592\n\\item 399.258736\n\\item 391.3889888\n\\item 389.80719104\n\\item 392.335752832\n\\item 395.0946022656\n\\item 397.67368181248\n\\item 400.472945449984\n\\item 399.518356359987\n\\item 392.00268508799\n\\item 384.172148070392\n\\end{enumerate*}\n",
            "text/plain": [
              " [1]       NA 402.2600 400.1080 401.1824 399.0059 399.2587 391.3890 389.8072\n",
              " [9] 392.3358 395.0946 397.6737 400.4729 399.5184 392.0027 384.1721"
            ]
          },
          "metadata": {}
        }
      ]
    },
    {
      "cell_type": "code",
      "source": [
        "mae(sales_actuals,exp_pred)\n",
        "mse(sales_actuals,exp_pred)\n",
        "rmse(sales_actuals,exp_pred)\n",
        "mape(sales_actuals,exp_pred)"
      ],
      "metadata": {
        "colab": {
          "base_uri": "https://localhost:8080/",
          "height": 86
        },
        "id": "gqJfBTwICMG4",
        "outputId": "823949ea-a214-4fe8-969b-7a5174340b3b"
      },
      "execution_count": null,
      "outputs": [
        {
          "output_type": "display_data",
          "data": {
            "text/html": [
              "17.7179365584481"
            ],
            "text/markdown": "17.7179365584481",
            "text/latex": "17.7179365584481",
            "text/plain": [
              "[1] 17.71794"
            ]
          },
          "metadata": {}
        },
        {
          "output_type": "display_data",
          "data": {
            "text/html": [
              "498.259759092371"
            ],
            "text/markdown": "498.259759092371",
            "text/latex": "498.259759092371",
            "text/plain": [
              "[1] 498.2598"
            ]
          },
          "metadata": {}
        },
        {
          "output_type": "display_data",
          "data": {
            "text/html": [
              "22.321732887309"
            ],
            "text/markdown": "22.321732887309",
            "text/latex": "22.321732887309",
            "text/plain": [
              "[1] 22.32173"
            ]
          },
          "metadata": {}
        },
        {
          "output_type": "display_data",
          "data": {
            "text/html": [
              "4.77367253797039"
            ],
            "text/markdown": "4.77367253797039",
            "text/latex": "4.77367253797039",
            "text/plain": [
              "[1] 4.773673"
            ]
          },
          "metadata": {}
        }
      ]
    },
    {
      "cell_type": "code",
      "source": [
        "exp13_4<-EMA(sales_actuals,n=1,ratio=0.8)\n",
        "round(exp13_4,2)\n"
      ],
      "metadata": {
        "colab": {
          "base_uri": "https://localhost:8080/",
          "height": 69
        },
        "id": "vy0c1IdkCMEY",
        "outputId": "1385700e-b60c-41d9-e7ce-72c8ac4ec98e"
      },
      "execution_count": null,
      "outputs": [
        {
          "output_type": "stream",
          "name": "stderr",
          "text": [
            "Warning message in EMA(sales_actuals, n = 1, ratio = 0.8):\n",
            "“both 'n' and 'ratio' are specified; using 'n'”\n"
          ]
        },
        {
          "output_type": "display_data",
          "data": {
            "text/html": [
              "<style>\n",
              ".list-inline {list-style: none; margin:0; padding: 0}\n",
              ".list-inline>li {display: inline-block}\n",
              ".list-inline>li:not(:last-child)::after {content: \"\\00b7\"; padding: 0 .5ex}\n",
              "</style>\n",
              "<ol class=list-inline><li>402.26</li><li>393.65</li><li>403.11</li><li>392.86</li><li>398.79</li><li>367.69</li><li>380.32</li><li>398.02</li><li>404.51</li><li>407.29</li><li>410.79</li><li>398.72</li><li>369.3</li><li>356.14</li><li>348.42</li></ol>\n"
            ],
            "text/markdown": "1. 402.26\n2. 393.65\n3. 403.11\n4. 392.86\n5. 398.79\n6. 367.69\n7. 380.32\n8. 398.02\n9. 404.51\n10. 407.29\n11. 410.79\n12. 398.72\n13. 369.3\n14. 356.14\n15. 348.42\n\n\n",
            "text/latex": "\\begin{enumerate*}\n\\item 402.26\n\\item 393.65\n\\item 403.11\n\\item 392.86\n\\item 398.79\n\\item 367.69\n\\item 380.32\n\\item 398.02\n\\item 404.51\n\\item 407.29\n\\item 410.79\n\\item 398.72\n\\item 369.3\n\\item 356.14\n\\item 348.42\n\\end{enumerate*}\n",
            "text/plain": [
              " [1] 402.26 393.65 403.11 392.86 398.79 367.69 380.32 398.02 404.51 407.29\n",
              "[11] 410.79 398.72 369.30 356.14 348.42"
            ]
          },
          "metadata": {}
        }
      ]
    },
    {
      "cell_type": "code",
      "source": [
        "exp_pred_4<-c(NA,exp13_4[-length(exp13)])\n",
        "exp_pred_4"
      ],
      "metadata": {
        "id": "3QEoGualCMBw",
        "colab": {
          "base_uri": "https://localhost:8080/",
          "height": 34
        },
        "outputId": "d97dfdca-303a-4d04-b778-f73f44be359c"
      },
      "execution_count": null,
      "outputs": [
        {
          "output_type": "display_data",
          "data": {
            "text/html": [
              "<style>\n",
              ".list-inline {list-style: none; margin:0; padding: 0}\n",
              ".list-inline>li {display: inline-block}\n",
              ".list-inline>li:not(:last-child)::after {content: \"\\00b7\"; padding: 0 .5ex}\n",
              "</style>\n",
              "<ol class=list-inline><li>&lt;NA&gt;</li><li>402.26</li><li>393.652</li><li>403.1144</li><li>392.86288</li><li>398.788576</li><li>367.6857152</li><li>380.32114304</li><li>398.024228608</li><li>404.5088457216</li><li>407.29376914432</li><li>410.794753828864</li><li>398.718950765773</li><li>369.295790153155</li><li>356.139158030631</li></ol>\n"
            ],
            "text/markdown": "1. &lt;NA&gt;\n2. 402.26\n3. 393.652\n4. 403.1144\n5. 392.86288\n6. 398.788576\n7. 367.6857152\n8. 380.32114304\n9. 398.024228608\n10. 404.5088457216\n11. 407.29376914432\n12. 410.794753828864\n13. 398.718950765773\n14. 369.295790153155\n15. 356.139158030631\n\n\n",
            "text/latex": "\\begin{enumerate*}\n\\item <NA>\n\\item 402.26\n\\item 393.652\n\\item 403.1144\n\\item 392.86288\n\\item 398.788576\n\\item 367.6857152\n\\item 380.32114304\n\\item 398.024228608\n\\item 404.5088457216\n\\item 407.29376914432\n\\item 410.794753828864\n\\item 398.718950765773\n\\item 369.295790153155\n\\item 356.139158030631\n\\end{enumerate*}\n",
            "text/plain": [
              " [1]       NA 402.2600 393.6520 403.1144 392.8629 398.7886 367.6857 380.3211\n",
              " [9] 398.0242 404.5088 407.2938 410.7948 398.7190 369.2958 356.1392"
            ]
          },
          "metadata": {}
        }
      ]
    },
    {
      "cell_type": "code",
      "source": [
        "mae(sales_actuals,exp_pred_4)\n",
        "mse(sales_actuals,exp_pred_4)\n",
        "rmse(sales_actuals,exp_pred_4)\n",
        "mape(sales_actuals,exp_pred_4)"
      ],
      "metadata": {
        "colab": {
          "base_uri": "https://localhost:8080/",
          "height": 86
        },
        "id": "7TEKoUjrCL6q",
        "outputId": "cec8e861-c342-46dc-a652-3c85c7894aca"
      },
      "execution_count": null,
      "outputs": [
        {
          "output_type": "display_data",
          "data": {
            "text/html": [
              "15.2530747903216"
            ],
            "text/markdown": "15.2530747903216",
            "text/latex": "15.2530747903216",
            "text/plain": [
              "[1] 15.25307"
            ]
          },
          "metadata": {}
        },
        {
          "output_type": "display_data",
          "data": {
            "text/html": [
              "340.466379361446"
            ],
            "text/markdown": "340.466379361446",
            "text/latex": "340.466379361446",
            "text/plain": [
              "[1] 340.4664"
            ]
          },
          "metadata": {}
        },
        {
          "output_type": "display_data",
          "data": {
            "text/html": [
              "18.4517310667982"
            ],
            "text/markdown": "18.4517310667982",
            "text/latex": "18.4517310667982",
            "text/plain": [
              "[1] 18.45173"
            ]
          },
          "metadata": {}
        },
        {
          "output_type": "display_data",
          "data": {
            "text/html": [
              "4.03948811229858"
            ],
            "text/markdown": "4.03948811229858",
            "text/latex": "4.03948811229858",
            "text/plain": [
              "[1] 4.039488"
            ]
          },
          "metadata": {}
        }
      ]
    },
    {
      "cell_type": "markdown",
      "source": [
        "Part 2"
      ],
      "metadata": {
        "id": "dHEpouYpEhqw"
      }
    },
    {
      "cell_type": "code",
      "source": [],
      "metadata": {
        "id": "c53ze0i0c3lN"
      },
      "execution_count": null,
      "outputs": []
    },
    {
      "cell_type": "code",
      "source": [
        "# Step 2: Linear regression to model ONLY the trend\n",
        "# Create a time index variable\n",
        "musicdf$Time_Index <- 1:nrow(musicdf)\n",
        "\n",
        "# Fit a linear regression model to the data\n",
        "trend_model <- lm(Revenue ~ Time_Index, data = musicdf)\n"
      ],
      "metadata": {
        "id": "iDdtQnU3c3pO"
      },
      "execution_count": null,
      "outputs": []
    },
    {
      "cell_type": "code",
      "source": [
        "# Step 3: Calculate accuracy measures for predicted values based on the regression in (2)\n",
        "# Use the fitted model to predict the values of revenue for each quarter\n",
        "predicted_values <- predict(trend_model)\n",
        "\n",
        "# Calculate the RMSE between the predicted and actual values\n",
        "RMSE <- sqrt(mean((predicted_values - musicdf$Revenue)^2))\n",
        "round(RMSE,2)"
      ],
      "metadata": {
        "colab": {
          "base_uri": "https://localhost:8080/",
          "height": 34
        },
        "outputId": "6be2a473-fed1-43e7-94a8-b5fcdf3a3dc0",
        "id": "F4I9wU5Lc3pO"
      },
      "execution_count": null,
      "outputs": [
        {
          "output_type": "display_data",
          "data": {
            "text/html": [
              "72.07"
            ],
            "text/markdown": "72.07",
            "text/latex": "72.07",
            "text/plain": [
              "[1] 72.07"
            ]
          },
          "metadata": {}
        }
      ]
    },
    {
      "cell_type": "markdown",
      "source": [],
      "metadata": {
        "id": "GgM2bttac4e4"
      }
    },
    {
      "cell_type": "code",
      "source": [
        "musicdf<- read.csv(\"warner_music.csv\")\n",
        "musicdf"
      ],
      "metadata": {
        "id": "_0jQaVYgCL4H",
        "colab": {
          "base_uri": "https://localhost:8080/",
          "height": 882
        },
        "outputId": "37346e8b-7cb6-463e-84c4-52bd066c35ff"
      },
      "execution_count": null,
      "outputs": [
        {
          "output_type": "display_data",
          "data": {
            "text/html": [
              "<table class=\"dataframe\">\n",
              "<caption>A data.frame: 25 × 2</caption>\n",
              "<thead>\n",
              "\t<tr><th scope=col>Quarter</th><th scope=col>Revenue</th></tr>\n",
              "\t<tr><th scope=col>&lt;chr&gt;</th><th scope=col>&lt;int&gt;</th></tr>\n",
              "</thead>\n",
              "<tbody>\n",
              "\t<tr><td>2015Q4</td><td> 750</td></tr>\n",
              "\t<tr><td>2016Q1</td><td> 849</td></tr>\n",
              "\t<tr><td>2016Q2</td><td> 745</td></tr>\n",
              "\t<tr><td>2016Q3</td><td> 811</td></tr>\n",
              "\t<tr><td>2016Q4</td><td> 841</td></tr>\n",
              "\t<tr><td>2017Q1</td><td> 917</td></tr>\n",
              "\t<tr><td>2017Q2</td><td> 825</td></tr>\n",
              "\t<tr><td>2017Q3</td><td> 917</td></tr>\n",
              "\t<tr><td>2017Q4</td><td> 917</td></tr>\n",
              "\t<tr><td>2018Q1</td><td>1045</td></tr>\n",
              "\t<tr><td>2018Q2</td><td> 963</td></tr>\n",
              "\t<tr><td>2018Q3</td><td> 958</td></tr>\n",
              "\t<tr><td>2018Q4</td><td>1039</td></tr>\n",
              "\t<tr><td>2019Q1</td><td>1203</td></tr>\n",
              "\t<tr><td>2019Q2</td><td>1090</td></tr>\n",
              "\t<tr><td>2019Q3</td><td>1058</td></tr>\n",
              "\t<tr><td>2019Q4</td><td>1124</td></tr>\n",
              "\t<tr><td>2020Q1</td><td>1256</td></tr>\n",
              "\t<tr><td>2020Q2</td><td>1071</td></tr>\n",
              "\t<tr><td>2020Q3</td><td>1010</td></tr>\n",
              "\t<tr><td>2020Q4</td><td>1126</td></tr>\n",
              "\t<tr><td>2021Q1</td><td>1335</td></tr>\n",
              "\t<tr><td>2021Q2</td><td>1250</td></tr>\n",
              "\t<tr><td>2021Q3</td><td>1340</td></tr>\n",
              "\t<tr><td>2021Q4</td><td>1376</td></tr>\n",
              "</tbody>\n",
              "</table>\n"
            ],
            "text/markdown": "\nA data.frame: 25 × 2\n\n| Quarter &lt;chr&gt; | Revenue &lt;int&gt; |\n|---|---|\n| 2015Q4 |  750 |\n| 2016Q1 |  849 |\n| 2016Q2 |  745 |\n| 2016Q3 |  811 |\n| 2016Q4 |  841 |\n| 2017Q1 |  917 |\n| 2017Q2 |  825 |\n| 2017Q3 |  917 |\n| 2017Q4 |  917 |\n| 2018Q1 | 1045 |\n| 2018Q2 |  963 |\n| 2018Q3 |  958 |\n| 2018Q4 | 1039 |\n| 2019Q1 | 1203 |\n| 2019Q2 | 1090 |\n| 2019Q3 | 1058 |\n| 2019Q4 | 1124 |\n| 2020Q1 | 1256 |\n| 2020Q2 | 1071 |\n| 2020Q3 | 1010 |\n| 2020Q4 | 1126 |\n| 2021Q1 | 1335 |\n| 2021Q2 | 1250 |\n| 2021Q3 | 1340 |\n| 2021Q4 | 1376 |\n\n",
            "text/latex": "A data.frame: 25 × 2\n\\begin{tabular}{ll}\n Quarter & Revenue\\\\\n <chr> & <int>\\\\\n\\hline\n\t 2015Q4 &  750\\\\\n\t 2016Q1 &  849\\\\\n\t 2016Q2 &  745\\\\\n\t 2016Q3 &  811\\\\\n\t 2016Q4 &  841\\\\\n\t 2017Q1 &  917\\\\\n\t 2017Q2 &  825\\\\\n\t 2017Q3 &  917\\\\\n\t 2017Q4 &  917\\\\\n\t 2018Q1 & 1045\\\\\n\t 2018Q2 &  963\\\\\n\t 2018Q3 &  958\\\\\n\t 2018Q4 & 1039\\\\\n\t 2019Q1 & 1203\\\\\n\t 2019Q2 & 1090\\\\\n\t 2019Q3 & 1058\\\\\n\t 2019Q4 & 1124\\\\\n\t 2020Q1 & 1256\\\\\n\t 2020Q2 & 1071\\\\\n\t 2020Q3 & 1010\\\\\n\t 2020Q4 & 1126\\\\\n\t 2021Q1 & 1335\\\\\n\t 2021Q2 & 1250\\\\\n\t 2021Q3 & 1340\\\\\n\t 2021Q4 & 1376\\\\\n\\end{tabular}\n",
            "text/plain": [
              "   Quarter Revenue\n",
              "1  2015Q4   750   \n",
              "2  2016Q1   849   \n",
              "3  2016Q2   745   \n",
              "4  2016Q3   811   \n",
              "5  2016Q4   841   \n",
              "6  2017Q1   917   \n",
              "7  2017Q2   825   \n",
              "8  2017Q3   917   \n",
              "9  2017Q4   917   \n",
              "10 2018Q1  1045   \n",
              "11 2018Q2   963   \n",
              "12 2018Q3   958   \n",
              "13 2018Q4  1039   \n",
              "14 2019Q1  1203   \n",
              "15 2019Q2  1090   \n",
              "16 2019Q3  1058   \n",
              "17 2019Q4  1124   \n",
              "18 2020Q1  1256   \n",
              "19 2020Q2  1071   \n",
              "20 2020Q3  1010   \n",
              "21 2020Q4  1126   \n",
              "22 2021Q1  1335   \n",
              "23 2021Q2  1250   \n",
              "24 2021Q3  1340   \n",
              "25 2021Q4  1376   "
            ]
          },
          "metadata": {}
        }
      ]
    },
    {
      "cell_type": "code",
      "source": [
        "\n"
      ],
      "metadata": {
        "id": "aBQWpP4hc-Vr"
      },
      "execution_count": null,
      "outputs": []
    },
    {
      "cell_type": "code",
      "source": [
        "ggplot(data=musicdf,mapping=aes(x=Quarter,y=Revenue))+\n",
        "  geom_line(group=1)+\n",
        "  geom_point()+\n",
        "  labs(title=\"Quarterly Revenue, 2015 to 2021\", x=\"Quarter\",y=\"Revenue\")"
      ],
      "metadata": {
        "id": "BsWhOv4LCL1r",
        "colab": {
          "base_uri": "https://localhost:8080/",
          "height": 437
        },
        "outputId": "50bb89d7-9871-4a22-a37c-08012bed145a"
      },
      "execution_count": null,
      "outputs": [
        {
          "output_type": "display_data",
          "data": {
            "text/plain": [
              "plot without title"
            ],
            "image/png": "[encoded data removed]"
          },
          "metadata": {
            "image/png": {
              "width": 420,
              "height": 420
            }
          }
        }
      ]
    },
    {
      "cell_type": "code",
      "source": [
        "musicdf$Time_Index <- 1:nrow(musicdf)\n",
        "\n",
        "# Fit a linear regression model to the data\n",
        "trend_model <- lm(Revenue ~ Time_Index, data = musicdf)"
      ],
      "metadata": {
        "id": "ubUBdtLpdAQZ"
      },
      "execution_count": null,
      "outputs": []
    },
    {
      "cell_type": "code",
      "source": [
        "# Fit a linear regression model to the data\n",
        "model <- lm(Revenue ~ Quarter, data = musicdf)\n",
        "model"
      ],
      "metadata": {
        "id": "1TJlR8A2CLsW",
        "colab": {
          "base_uri": "https://localhost:8080/",
          "height": 285
        },
        "outputId": "6f97350f-0cfd-43e7-9eab-4e92b80fe930"
      },
      "execution_count": null,
      "outputs": [
        {
          "output_type": "display_data",
          "data": {
            "text/plain": [
              "\n",
              "Call:\n",
              "lm(formula = Revenue ~ Quarter, data = musicdf)\n",
              "\n",
              "Coefficients:\n",
              "  (Intercept)  Quarter2016Q1  Quarter2016Q2  Quarter2016Q3  Quarter2016Q4  \n",
              "          750             99             -5             61             91  \n",
              "Quarter2017Q1  Quarter2017Q2  Quarter2017Q3  Quarter2017Q4  Quarter2018Q1  \n",
              "          167             75            167            167            295  \n",
              "Quarter2018Q2  Quarter2018Q3  Quarter2018Q4  Quarter2019Q1  Quarter2019Q2  \n",
              "          213            208            289            453            340  \n",
              "Quarter2019Q3  Quarter2019Q4  Quarter2020Q1  Quarter2020Q2  Quarter2020Q3  \n",
              "          308            374            506            321            260  \n",
              "Quarter2020Q4  Quarter2021Q1  Quarter2021Q2  Quarter2021Q3  Quarter2021Q4  \n",
              "          376            585            500            590            626  \n"
            ]
          },
          "metadata": {}
        }
      ]
    },
    {
      "cell_type": "code",
      "source": [
        "# Extract the slope coefficient for the trend variable\n",
        "slope <- coef(model)[2]"
      ],
      "metadata": {
        "id": "3Z2Z5_xSIj2A"
      },
      "execution_count": null,
      "outputs": []
    },
    {
      "cell_type": "code",
      "source": [
        "slope"
      ],
      "metadata": {
        "id": "RDU0TYBLIk8E",
        "colab": {
          "base_uri": "https://localhost:8080/",
          "height": 34
        },
        "outputId": "1c7edf9d-8822-4510-bd4e-109e15e36c8d"
      },
      "execution_count": null,
      "outputs": [
        {
          "output_type": "display_data",
          "data": {
            "text/html": [
              "<strong>Quarter2016Q1:</strong> 98.9999999999998"
            ],
            "text/markdown": "**Quarter2016Q1:** 98.9999999999998",
            "text/latex": "\\textbf{Quarter2016Q1:} 98.9999999999998",
            "text/plain": [
              "Quarter2016Q1 \n",
              "           99 "
            ]
          },
          "metadata": {}
        }
      ]
    },
    {
      "cell_type": "code",
      "source": [
        "# Round the slope coefficient to two decimal places\n",
        "slope <- round(slope, 2)\n",
        "\n",
        "# Print the slope coefficient\n",
        "cat(\"The slope coefficient for the trend variable is\", slope)"
      ],
      "metadata": {
        "id": "aqeekYRlCLp_",
        "colab": {
          "base_uri": "https://localhost:8080/"
        },
        "outputId": "e6980783-e236-4c0f-b589-4a8d9952cde1"
      },
      "execution_count": null,
      "outputs": [
        {
          "output_type": "stream",
          "name": "stdout",
          "text": [
            "The slope coefficient for the trend variable is 99"
          ]
        }
      ]
    },
    {
      "cell_type": "code",
      "source": [
        "musicdf$Time<-1:nrow(musicdf)"
      ],
      "metadata": {
        "id": "vwSvLvMBCLny"
      },
      "execution_count": null,
      "outputs": []
    },
    {
      "cell_type": "code",
      "source": [
        "sbreg<-lm(Revenue~Time,data=musicdf)\n",
        "summary(sbreg)"
      ],
      "metadata": {
        "id": "zK9mHIRICLli",
        "colab": {
          "base_uri": "https://localhost:8080/",
          "height": 329
        },
        "outputId": "d3cabc69-cbf4-4860-c79d-6a3a04a802e0"
      },
      "execution_count": null,
      "outputs": [
        {
          "output_type": "display_data",
          "data": {
            "text/plain": [
              "\n",
              "Call:\n",
              "lm(formula = Revenue ~ Time, data = musicdf)\n",
              "\n",
              "Residuals:\n",
              "    Min      1Q  Median      3Q     Max \n",
              "-184.97  -44.21   -4.36   52.27  147.17 \n",
              "\n",
              "Coefficients:\n",
              "            Estimate Std. Error t value Pr(>|t|)    \n",
              "(Intercept)  731.170     30.981   23.60  < 2e-16 ***\n",
              "Time          23.190      2.084   11.13 9.82e-11 ***\n",
              "---\n",
              "Signif. codes:  0 ‘***’ 0.001 ‘**’ 0.01 ‘*’ 0.05 ‘.’ 0.1 ‘ ’ 1\n",
              "\n",
              "Residual standard error: 75.14 on 23 degrees of freedom\n",
              "Multiple R-squared:  0.8433,\tAdjusted R-squared:  0.8365 \n",
              "F-statistic: 123.8 on 1 and 23 DF,  p-value: 9.816e-11\n"
            ]
          },
          "metadata": {}
        }
      ]
    },
    {
      "cell_type": "code",
      "source": [
        "#Predict music revenue for 2022#\n",
        "731.170+23.190*26\n"
      ],
      "metadata": {
        "id": "gxVOa4ZDCLjM",
        "colab": {
          "base_uri": "https://localhost:8080/",
          "height": 34
        },
        "outputId": "05735ece-8f31-4c26-a54d-4df0b25b338f"
      },
      "execution_count": null,
      "outputs": [
        {
          "output_type": "display_data",
          "data": {
            "text/html": [
              "1334.11"
            ],
            "text/markdown": "1334.11",
            "text/latex": "1334.11",
            "text/plain": [
              "[1] 1334.11"
            ]
          },
          "metadata": {}
        }
      ]
    },
    {
      "cell_type": "code",
      "source": [
        "#Create an object with the time periods to use for the prediciton\n",
        "new<-data.frame(Time=c(26,27,28,29))\n",
        "predict(sbreg,newdata=new)"
      ],
      "metadata": {
        "id": "09Qw5J9GCLgk",
        "colab": {
          "base_uri": "https://localhost:8080/",
          "height": 34
        },
        "outputId": "d6a50110-bc9e-432d-8cbc-1d3feb8244af"
      },
      "execution_count": null,
      "outputs": [
        {
          "output_type": "display_data",
          "data": {
            "text/html": [
              "<style>\n",
              ".dl-inline {width: auto; margin:0; padding: 0}\n",
              ".dl-inline>dt, .dl-inline>dd {float: none; width: auto; display: inline-block}\n",
              ".dl-inline>dt::after {content: \":\\0020\"; padding-right: .5ex}\n",
              ".dl-inline>dt:not(:first-of-type) {padding-left: .5ex}\n",
              "</style><dl class=dl-inline><dt>1</dt><dd>1334.11</dd><dt>2</dt><dd>1357.3</dd><dt>3</dt><dd>1380.49</dd><dt>4</dt><dd>1403.68</dd></dl>\n"
            ],
            "text/markdown": "1\n:   1334.112\n:   1357.33\n:   1380.494\n:   1403.68\n\n",
            "text/latex": "\\begin{description*}\n\\item[1] 1334.11\n\\item[2] 1357.3\n\\item[3] 1380.49\n\\item[4] 1403.68\n\\end{description*}\n",
            "text/plain": [
              "      1       2       3       4 \n",
              "1334.11 1357.30 1380.49 1403.68 "
            ]
          },
          "metadata": {}
        }
      ]
    },
    {
      "cell_type": "code",
      "source": [
        "mae<-function(actual,pred){\n",
        "  mae<-mean(abs(actual-pred),na.rm=TRUE)\n",
        "  return(mae)\n",
        "  }"
      ],
      "metadata": {
        "id": "_wB3hcXrLHiT"
      },
      "execution_count": null,
      "outputs": []
    },
    {
      "cell_type": "code",
      "source": [
        "mse<-function(actual,pred){\n",
        "  mse<-mean((actual-pred)^2,na.rm=TRUE)\n",
        "  return(mse)\n",
        "  }"
      ],
      "metadata": {
        "id": "TWwWWk37LHiT"
      },
      "execution_count": null,
      "outputs": []
    },
    {
      "cell_type": "code",
      "source": [
        "rmse<-function(actual,pred){\n",
        "  rmse<-sqrt(mean((actual-pred)^2,na.rm = TRUE))\n",
        "  return(rmse)\n",
        "}"
      ],
      "metadata": {
        "id": "7ZYNKkj3LHiT"
      },
      "execution_count": null,
      "outputs": []
    },
    {
      "cell_type": "code",
      "source": [
        "mape<-function(actual,pred){\n",
        "  mape<-mean(abs((actual-pred)/actual),na.rm=TRUE)*100\n",
        "  return(mape)\n",
        "}"
      ],
      "metadata": {
        "id": "I8nKwKyoLHiT"
      },
      "execution_count": null,
      "outputs": []
    },
    {
      "cell_type": "code",
      "source": [
        "sb_pred=predict(sbreg)"
      ],
      "metadata": {
        "id": "3obb1RCjCLXs"
      },
      "execution_count": null,
      "outputs": []
    },
    {
      "cell_type": "code",
      "source": [
        "mae(musicdf$Revenue,sb_pred)\n",
        "mse(musicdf$Revenue,sb_pred)\n",
        "rmse(musicdf$Revenue,sb_pred)\n",
        "mape(musicdf$Revenue,sb_pred)"
      ],
      "metadata": {
        "id": "l1IFQRPzCLaZ",
        "colab": {
          "base_uri": "https://localhost:8080/",
          "height": 86
        },
        "outputId": "c337f4f6-f372-4c1f-ca7d-0cab02d2bd1a"
      },
      "execution_count": null,
      "outputs": [
        {
          "output_type": "display_data",
          "data": {
            "text/html": [
              "54.664"
            ],
            "text/markdown": "54.664",
            "text/latex": "54.664",
            "text/plain": [
              "[1] 54.664"
            ]
          },
          "metadata": {}
        },
        {
          "output_type": "display_data",
          "data": {
            "text/html": [
              "5194.3532"
            ],
            "text/markdown": "5194.3532",
            "text/latex": "5194.3532",
            "text/plain": [
              "[1] 5194.353"
            ]
          },
          "metadata": {}
        },
        {
          "output_type": "display_data",
          "data": {
            "text/html": [
              "72.071861360728"
            ],
            "text/markdown": "72.071861360728",
            "text/latex": "72.071861360728",
            "text/plain": [
              "[1] 72.07186"
            ]
          },
          "metadata": {}
        },
        {
          "output_type": "display_data",
          "data": {
            "text/html": [
              "5.19102966067303"
            ],
            "text/markdown": "5.19102966067303",
            "text/latex": "5.19102966067303",
            "text/plain": [
              "[1] 5.19103"
            ]
          },
          "metadata": {}
        }
      ]
    },
    {
      "cell_type": "code",
      "source": [
        "sb_res=resid(sbreg)"
      ],
      "metadata": {
        "id": "a4sb0YycLAGK"
      },
      "execution_count": null,
      "outputs": []
    },
    {
      "cell_type": "code",
      "source": [
        "pred_res_df<-data.frame(sb_pred,sb_res)"
      ],
      "metadata": {
        "id": "2wQK1dQDLAD5"
      },
      "execution_count": null,
      "outputs": []
    },
    {
      "cell_type": "code",
      "source": [
        "ggplot(data=pred_res_df, mapping=aes(x=sb_pred ,y=sb_res))+\n",
        "  geom_point()+\n",
        "  labs(title=\"plot of residuals vs predicted valeus\",x=\"Predicted Values\",y=\"Residuals\")"
      ],
      "metadata": {
        "id": "bMGoSaTDLABi",
        "colab": {
          "base_uri": "https://localhost:8080/",
          "height": 437
        },
        "outputId": "03891fa4-b14b-427b-9b67-3cf4065913ef"
      },
      "execution_count": null,
      "outputs": [
        {
          "output_type": "display_data",
          "data": {
            "text/plain": [
              "plot without title"
            ],
            "image/png": "[encoded data removed]"
          },
          "metadata": {
            "image/png": {
              "width": 420,
              "height": 420
            }
          }
        }
      ]
    },
    {
      "cell_type": "code",
      "source": [
        "musicdf$Q1<-ifelse(grepl(\"Q1\",musicdf$Quarter),1,0)\n",
        "musicdf$Q2<-ifelse(grepl(\"Q2\",musicdf$Quarter),1,0)\n",
        "musicdf$Q3<-ifelse(grepl(\"Q3\",musicdf$Quarter),1,0)\n",
        "musicdf$Q4<-ifelse(grepl(\"Q4\",musicdf$Quarter),1,0)"
      ],
      "metadata": {
        "id": "HFvO5iqEK_81"
      },
      "execution_count": null,
      "outputs": []
    },
    {
      "cell_type": "code",
      "source": [
        "musicdf"
      ],
      "metadata": {
        "id": "2He6iJqMPs5o",
        "colab": {
          "base_uri": "https://localhost:8080/",
          "height": 882
        },
        "outputId": "26641be4-184c-41af-a714-fcee6fedbfbe"
      },
      "execution_count": null,
      "outputs": [
        {
          "output_type": "display_data",
          "data": {
            "text/html": [
              "<table class=\"dataframe\">\n",
              "<caption>A data.frame: 25 × 8</caption>\n",
              "<thead>\n",
              "\t<tr><th scope=col>Quarter</th><th scope=col>Revenue</th><th scope=col>Time_Index</th><th scope=col>Time</th><th scope=col>Q1</th><th scope=col>Q2</th><th scope=col>Q3</th><th scope=col>Q4</th></tr>\n",
              "\t<tr><th scope=col>&lt;chr&gt;</th><th scope=col>&lt;int&gt;</th><th scope=col>&lt;int&gt;</th><th scope=col>&lt;int&gt;</th><th scope=col>&lt;dbl&gt;</th><th scope=col>&lt;dbl&gt;</th><th scope=col>&lt;dbl&gt;</th><th scope=col>&lt;dbl&gt;</th></tr>\n",
              "</thead>\n",
              "<tbody>\n",
              "\t<tr><td>2015Q4</td><td> 750</td><td> 1</td><td> 1</td><td>0</td><td>0</td><td>0</td><td>1</td></tr>\n",
              "\t<tr><td>2016Q1</td><td> 849</td><td> 2</td><td> 2</td><td>1</td><td>0</td><td>0</td><td>0</td></tr>\n",
              "\t<tr><td>2016Q2</td><td> 745</td><td> 3</td><td> 3</td><td>0</td><td>1</td><td>0</td><td>0</td></tr>\n",
              "\t<tr><td>2016Q3</td><td> 811</td><td> 4</td><td> 4</td><td>0</td><td>0</td><td>1</td><td>0</td></tr>\n",
              "\t<tr><td>2016Q4</td><td> 841</td><td> 5</td><td> 5</td><td>0</td><td>0</td><td>0</td><td>1</td></tr>\n",
              "\t<tr><td>2017Q1</td><td> 917</td><td> 6</td><td> 6</td><td>1</td><td>0</td><td>0</td><td>0</td></tr>\n",
              "\t<tr><td>2017Q2</td><td> 825</td><td> 7</td><td> 7</td><td>0</td><td>1</td><td>0</td><td>0</td></tr>\n",
              "\t<tr><td>2017Q3</td><td> 917</td><td> 8</td><td> 8</td><td>0</td><td>0</td><td>1</td><td>0</td></tr>\n",
              "\t<tr><td>2017Q4</td><td> 917</td><td> 9</td><td> 9</td><td>0</td><td>0</td><td>0</td><td>1</td></tr>\n",
              "\t<tr><td>2018Q1</td><td>1045</td><td>10</td><td>10</td><td>1</td><td>0</td><td>0</td><td>0</td></tr>\n",
              "\t<tr><td>2018Q2</td><td> 963</td><td>11</td><td>11</td><td>0</td><td>1</td><td>0</td><td>0</td></tr>\n",
              "\t<tr><td>2018Q3</td><td> 958</td><td>12</td><td>12</td><td>0</td><td>0</td><td>1</td><td>0</td></tr>\n",
              "\t<tr><td>2018Q4</td><td>1039</td><td>13</td><td>13</td><td>0</td><td>0</td><td>0</td><td>1</td></tr>\n",
              "\t<tr><td>2019Q1</td><td>1203</td><td>14</td><td>14</td><td>1</td><td>0</td><td>0</td><td>0</td></tr>\n",
              "\t<tr><td>2019Q2</td><td>1090</td><td>15</td><td>15</td><td>0</td><td>1</td><td>0</td><td>0</td></tr>\n",
              "\t<tr><td>2019Q3</td><td>1058</td><td>16</td><td>16</td><td>0</td><td>0</td><td>1</td><td>0</td></tr>\n",
              "\t<tr><td>2019Q4</td><td>1124</td><td>17</td><td>17</td><td>0</td><td>0</td><td>0</td><td>1</td></tr>\n",
              "\t<tr><td>2020Q1</td><td>1256</td><td>18</td><td>18</td><td>1</td><td>0</td><td>0</td><td>0</td></tr>\n",
              "\t<tr><td>2020Q2</td><td>1071</td><td>19</td><td>19</td><td>0</td><td>1</td><td>0</td><td>0</td></tr>\n",
              "\t<tr><td>2020Q3</td><td>1010</td><td>20</td><td>20</td><td>0</td><td>0</td><td>1</td><td>0</td></tr>\n",
              "\t<tr><td>2020Q4</td><td>1126</td><td>21</td><td>21</td><td>0</td><td>0</td><td>0</td><td>1</td></tr>\n",
              "\t<tr><td>2021Q1</td><td>1335</td><td>22</td><td>22</td><td>1</td><td>0</td><td>0</td><td>0</td></tr>\n",
              "\t<tr><td>2021Q2</td><td>1250</td><td>23</td><td>23</td><td>0</td><td>1</td><td>0</td><td>0</td></tr>\n",
              "\t<tr><td>2021Q3</td><td>1340</td><td>24</td><td>24</td><td>0</td><td>0</td><td>1</td><td>0</td></tr>\n",
              "\t<tr><td>2021Q4</td><td>1376</td><td>25</td><td>25</td><td>0</td><td>0</td><td>0</td><td>1</td></tr>\n",
              "</tbody>\n",
              "</table>\n"
            ],
            "text/markdown": "\nA data.frame: 25 × 8\n\n| Quarter &lt;chr&gt; | Revenue &lt;int&gt; | Time_Index &lt;int&gt; | Time &lt;int&gt; | Q1 &lt;dbl&gt; | Q2 &lt;dbl&gt; | Q3 &lt;dbl&gt; | Q4 &lt;dbl&gt; |\n|---|---|---|---|---|---|---|---|\n| 2015Q4 |  750 |  1 |  1 | 0 | 0 | 0 | 1 |\n| 2016Q1 |  849 |  2 |  2 | 1 | 0 | 0 | 0 |\n| 2016Q2 |  745 |  3 |  3 | 0 | 1 | 0 | 0 |\n| 2016Q3 |  811 |  4 |  4 | 0 | 0 | 1 | 0 |\n| 2016Q4 |  841 |  5 |  5 | 0 | 0 | 0 | 1 |\n| 2017Q1 |  917 |  6 |  6 | 1 | 0 | 0 | 0 |\n| 2017Q2 |  825 |  7 |  7 | 0 | 1 | 0 | 0 |\n| 2017Q3 |  917 |  8 |  8 | 0 | 0 | 1 | 0 |\n| 2017Q4 |  917 |  9 |  9 | 0 | 0 | 0 | 1 |\n| 2018Q1 | 1045 | 10 | 10 | 1 | 0 | 0 | 0 |\n| 2018Q2 |  963 | 11 | 11 | 0 | 1 | 0 | 0 |\n| 2018Q3 |  958 | 12 | 12 | 0 | 0 | 1 | 0 |\n| 2018Q4 | 1039 | 13 | 13 | 0 | 0 | 0 | 1 |\n| 2019Q1 | 1203 | 14 | 14 | 1 | 0 | 0 | 0 |\n| 2019Q2 | 1090 | 15 | 15 | 0 | 1 | 0 | 0 |\n| 2019Q3 | 1058 | 16 | 16 | 0 | 0 | 1 | 0 |\n| 2019Q4 | 1124 | 17 | 17 | 0 | 0 | 0 | 1 |\n| 2020Q1 | 1256 | 18 | 18 | 1 | 0 | 0 | 0 |\n| 2020Q2 | 1071 | 19 | 19 | 0 | 1 | 0 | 0 |\n| 2020Q3 | 1010 | 20 | 20 | 0 | 0 | 1 | 0 |\n| 2020Q4 | 1126 | 21 | 21 | 0 | 0 | 0 | 1 |\n| 2021Q1 | 1335 | 22 | 22 | 1 | 0 | 0 | 0 |\n| 2021Q2 | 1250 | 23 | 23 | 0 | 1 | 0 | 0 |\n| 2021Q3 | 1340 | 24 | 24 | 0 | 0 | 1 | 0 |\n| 2021Q4 | 1376 | 25 | 25 | 0 | 0 | 0 | 1 |\n\n",
            "text/latex": "A data.frame: 25 × 8\n\\begin{tabular}{llllllll}\n Quarter & Revenue & Time\\_Index & Time & Q1 & Q2 & Q3 & Q4\\\\\n <chr> & <int> & <int> & <int> & <dbl> & <dbl> & <dbl> & <dbl>\\\\\n\\hline\n\t 2015Q4 &  750 &  1 &  1 & 0 & 0 & 0 & 1\\\\\n\t 2016Q1 &  849 &  2 &  2 & 1 & 0 & 0 & 0\\\\\n\t 2016Q2 &  745 &  3 &  3 & 0 & 1 & 0 & 0\\\\\n\t 2016Q3 &  811 &  4 &  4 & 0 & 0 & 1 & 0\\\\\n\t 2016Q4 &  841 &  5 &  5 & 0 & 0 & 0 & 1\\\\\n\t 2017Q1 &  917 &  6 &  6 & 1 & 0 & 0 & 0\\\\\n\t 2017Q2 &  825 &  7 &  7 & 0 & 1 & 0 & 0\\\\\n\t 2017Q3 &  917 &  8 &  8 & 0 & 0 & 1 & 0\\\\\n\t 2017Q4 &  917 &  9 &  9 & 0 & 0 & 0 & 1\\\\\n\t 2018Q1 & 1045 & 10 & 10 & 1 & 0 & 0 & 0\\\\\n\t 2018Q2 &  963 & 11 & 11 & 0 & 1 & 0 & 0\\\\\n\t 2018Q3 &  958 & 12 & 12 & 0 & 0 & 1 & 0\\\\\n\t 2018Q4 & 1039 & 13 & 13 & 0 & 0 & 0 & 1\\\\\n\t 2019Q1 & 1203 & 14 & 14 & 1 & 0 & 0 & 0\\\\\n\t 2019Q2 & 1090 & 15 & 15 & 0 & 1 & 0 & 0\\\\\n\t 2019Q3 & 1058 & 16 & 16 & 0 & 0 & 1 & 0\\\\\n\t 2019Q4 & 1124 & 17 & 17 & 0 & 0 & 0 & 1\\\\\n\t 2020Q1 & 1256 & 18 & 18 & 1 & 0 & 0 & 0\\\\\n\t 2020Q2 & 1071 & 19 & 19 & 0 & 1 & 0 & 0\\\\\n\t 2020Q3 & 1010 & 20 & 20 & 0 & 0 & 1 & 0\\\\\n\t 2020Q4 & 1126 & 21 & 21 & 0 & 0 & 0 & 1\\\\\n\t 2021Q1 & 1335 & 22 & 22 & 1 & 0 & 0 & 0\\\\\n\t 2021Q2 & 1250 & 23 & 23 & 0 & 1 & 0 & 0\\\\\n\t 2021Q3 & 1340 & 24 & 24 & 0 & 0 & 1 & 0\\\\\n\t 2021Q4 & 1376 & 25 & 25 & 0 & 0 & 0 & 1\\\\\n\\end{tabular}\n",
            "text/plain": [
              "   Quarter Revenue Time_Index Time Q1 Q2 Q3 Q4\n",
              "1  2015Q4   750     1          1   0  0  0  1 \n",
              "2  2016Q1   849     2          2   1  0  0  0 \n",
              "3  2016Q2   745     3          3   0  1  0  0 \n",
              "4  2016Q3   811     4          4   0  0  1  0 \n",
              "5  2016Q4   841     5          5   0  0  0  1 \n",
              "6  2017Q1   917     6          6   1  0  0  0 \n",
              "7  2017Q2   825     7          7   0  1  0  0 \n",
              "8  2017Q3   917     8          8   0  0  1  0 \n",
              "9  2017Q4   917     9          9   0  0  0  1 \n",
              "10 2018Q1  1045    10         10   1  0  0  0 \n",
              "11 2018Q2   963    11         11   0  1  0  0 \n",
              "12 2018Q3   958    12         12   0  0  1  0 \n",
              "13 2018Q4  1039    13         13   0  0  0  1 \n",
              "14 2019Q1  1203    14         14   1  0  0  0 \n",
              "15 2019Q2  1090    15         15   0  1  0  0 \n",
              "16 2019Q3  1058    16         16   0  0  1  0 \n",
              "17 2019Q4  1124    17         17   0  0  0  1 \n",
              "18 2020Q1  1256    18         18   1  0  0  0 \n",
              "19 2020Q2  1071    19         19   0  1  0  0 \n",
              "20 2020Q3  1010    20         20   0  0  1  0 \n",
              "21 2020Q4  1126    21         21   0  0  0  1 \n",
              "22 2021Q1  1335    22         22   1  0  0  0 \n",
              "23 2021Q2  1250    23         23   0  1  0  0 \n",
              "24 2021Q3  1340    24         24   0  0  1  0 \n",
              "25 2021Q4  1376    25         25   0  0  0  1 "
            ]
          },
          "metadata": {}
        }
      ]
    },
    {
      "cell_type": "code",
      "source": [
        "musicreg<-lm(Revenue ~ Time,data=musicdf)\n",
        "summary(musicreg)"
      ],
      "metadata": {
        "id": "G_15GbKfK_6p",
        "colab": {
          "base_uri": "https://localhost:8080/",
          "height": 329
        },
        "outputId": "db0af7cd-8f5b-443c-de97-5f2f4b227c55"
      },
      "execution_count": null,
      "outputs": [
        {
          "output_type": "display_data",
          "data": {
            "text/plain": [
              "\n",
              "Call:\n",
              "lm(formula = Revenue ~ Time, data = musicdf)\n",
              "\n",
              "Residuals:\n",
              "    Min      1Q  Median      3Q     Max \n",
              "-184.97  -44.21   -4.36   52.27  147.17 \n",
              "\n",
              "Coefficients:\n",
              "            Estimate Std. Error t value Pr(>|t|)    \n",
              "(Intercept)  731.170     30.981   23.60  < 2e-16 ***\n",
              "Time          23.190      2.084   11.13 9.82e-11 ***\n",
              "---\n",
              "Signif. codes:  0 ‘***’ 0.001 ‘**’ 0.01 ‘*’ 0.05 ‘.’ 0.1 ‘ ’ 1\n",
              "\n",
              "Residual standard error: 75.14 on 23 degrees of freedom\n",
              "Multiple R-squared:  0.8433,\tAdjusted R-squared:  0.8365 \n",
              "F-statistic: 123.8 on 1 and 23 DF,  p-value: 9.816e-11\n"
            ]
          },
          "metadata": {}
        }
      ]
    },
    {
      "cell_type": "code",
      "source": [
        "music_pred=predict(musicreg)"
      ],
      "metadata": {
        "id": "gVwaNIIlK_4Z"
      },
      "execution_count": null,
      "outputs": []
    },
    {
      "cell_type": "code",
      "source": [
        "mae(musicdf$Revenue,music_pred)\n",
        "mse(musicdf$Revenue,music_pred)\n",
        "rmse(musicdf$Revenue,music_pred)\n",
        "mape(musicdf$Revenue,music_pred)"
      ],
      "metadata": {
        "id": "j4iNyuJkK_15"
      },
      "execution_count": null,
      "outputs": []
    },
    {
      "cell_type": "code",
      "source": [
        "musicdf2<-lm(Revenue~Time+Q2+Q3+Q4,data=musicdf)\n",
        "summary(musicdf2)"
      ],
      "metadata": {
        "id": "WCmFYT9rK_zs",
        "colab": {
          "base_uri": "https://localhost:8080/",
          "height": 382
        },
        "outputId": "68a741cb-962d-4136-ba44-0d0e1c674b07"
      },
      "execution_count": null,
      "outputs": [
        {
          "output_type": "display_data",
          "data": {
            "text/plain": [
              "\n",
              "Call:\n",
              "lm(formula = Revenue ~ Time + Q2 + Q3 + Q4, data = musicdf)\n",
              "\n",
              "Residuals:\n",
              "     Min       1Q   Median       3Q      Max \n",
              "-148.483  -12.503    4.075   21.305   86.305 \n",
              "\n",
              "Coefficients:\n",
              "            Estimate Std. Error t value Pr(>|t|)    \n",
              "(Intercept)  815.200     28.559  28.544  < 2e-16 ***\n",
              "Time          23.803      1.508  15.784 9.37e-13 ***\n",
              "Q2          -133.969     31.283  -4.283 0.000363 ***\n",
              "Q3          -132.772     31.392  -4.230 0.000411 ***\n",
              "Q4           -99.922     30.148  -3.314 0.003460 ** \n",
              "---\n",
              "Signif. codes:  0 ‘***’ 0.001 ‘**’ 0.01 ‘*’ 0.05 ‘.’ 0.1 ‘ ’ 1\n",
              "\n",
              "Residual standard error: 54.12 on 20 degrees of freedom\n",
              "Multiple R-squared:  0.9293,\tAdjusted R-squared:  0.9152 \n",
              "F-statistic: 65.75 on 4 and 20 DF,  p-value: 3.197e-11\n"
            ]
          },
          "metadata": {}
        }
      ]
    },
    {
      "cell_type": "code",
      "source": [
        "music_pred_2=predict(musicdf2)"
      ],
      "metadata": {
        "id": "njIqAEPUK_xd"
      },
      "execution_count": null,
      "outputs": []
    },
    {
      "cell_type": "code",
      "source": [
        "mae(musicdf$Revenue,music_pred_2)\n",
        "mse(musicdf$Revenue,music_pred_2)\n",
        "rmse(musicdf$Revenue,music_pred_2)\n",
        "mape(musicdf$Revenue,music_pred_2)"
      ],
      "metadata": {
        "id": "PIbhDCX3K_u_",
        "colab": {
          "base_uri": "https://localhost:8080/",
          "height": 148
        },
        "outputId": "14acb4d4-5e5b-4746-f8c1-9e8335485dd8"
      },
      "execution_count": null,
      "outputs": [
        {
          "output_type": "error",
          "ename": "ERROR",
          "evalue": "ignored",
          "traceback": [
            "Error in mean(abs(actual - pred), na.rm = TRUE): object 'music_pred_2' not found\nTraceback:\n",
            "1. mae(musicdf$Revenue, music_pred_2)",
            "2. mean(abs(actual - pred), na.rm = TRUE)   # at line 2 of file <text>"
          ]
        }
      ]
    },
    {
      "cell_type": "code",
      "source": [
        "new<-data.frame(Time=c(49,50,51,52),Q2=c(0,1,0,0),Q3=c(0,0,1,0),Q4=c(0,0,0,1))\n",
        "predict(musicdf2,newdata=new)"
      ],
      "metadata": {
        "id": "FiJV5RQCK_si",
        "colab": {
          "base_uri": "https://localhost:8080/",
          "height": 34
        },
        "outputId": "db227c3a-4a19-417e-e567-17f627b18daa"
      },
      "execution_count": null,
      "outputs": [
        {
          "output_type": "display_data",
          "data": {
            "text/html": [
              "<style>\n",
              ".dl-inline {width: auto; margin:0; padding: 0}\n",
              ".dl-inline>dt, .dl-inline>dd {float: none; width: auto; display: inline-block}\n",
              ".dl-inline>dt::after {content: \":\\0020\"; padding-right: .5ex}\n",
              ".dl-inline>dt:not(:first-of-type) {padding-left: .5ex}\n",
              "</style><dl class=dl-inline><dt>1</dt><dd>1981.5367494824</dd><dt>2</dt><dd>1871.37008281573</dd><dt>3</dt><dd>1896.37008281573</dd><dt>4</dt><dd>1953.02329192547</dd></dl>\n"
            ],
            "text/markdown": "1\n:   1981.53674948242\n:   1871.370082815733\n:   1896.370082815734\n:   1953.02329192547\n\n",
            "text/latex": "\\begin{description*}\n\\item[1] 1981.5367494824\n\\item[2] 1871.37008281573\n\\item[3] 1896.37008281573\n\\item[4] 1953.02329192547\n\\end{description*}\n",
            "text/plain": [
              "       1        2        3        4 \n",
              "1981.537 1871.370 1896.370 1953.023 "
            ]
          },
          "metadata": {}
        }
      ]
    },
    {
      "cell_type": "code",
      "source": [],
      "metadata": {
        "id": "U9smYURyK_qN"
      },
      "execution_count": null,
      "outputs": []
    },
    {
      "cell_type": "code",
      "source": [],
      "metadata": {
        "id": "H-tnZcPkK_oB"
      },
      "execution_count": null,
      "outputs": []
    },
    {
      "cell_type": "code",
      "source": [],
      "metadata": {
        "id": "UqDDvSaAK_jZ"
      },
      "execution_count": null,
      "outputs": []
    },
    {
      "cell_type": "code",
      "source": [],
      "metadata": {
        "id": "TzFQ6F95K_hS"
      },
      "execution_count": null,
      "outputs": []
    },
    {
      "cell_type": "code",
      "source": [],
      "metadata": {
        "id": "A57EguaxK_fA"
      },
      "execution_count": null,
      "outputs": []
    },
    {
      "cell_type": "code",
      "source": [
        "#Simple moving average of n=3#\n",
        "sma3<-SMA(sales_actuals,n=3)\n",
        "sma3"
      ],
      "metadata": {
        "id": "JXpgD6Zv6RD3"
      },
      "execution_count": null,
      "outputs": []
    },
    {
      "cell_type": "code",
      "source": [
        "sales_ma_pred<-c(NA,sma3[-length(sma3)])\n",
        "sales_ma_pred"
      ],
      "metadata": {
        "id": "COeUhLZ56RBl"
      },
      "execution_count": null,
      "outputs": []
    },
    {
      "cell_type": "code",
      "source": [
        "sales_ma_pred<-c(NA,sma3[-length(sma3)])\n",
        "sales_ma_pred\n",
        "mae(sales_actuals,sales_ma_pred)\n",
        "mse(sales_actuals,sales_ma_pred)\n",
        "rmse(sales_actuals,sales_ma_pred)\n",
        "mape(sales_actuals,sales_ma_pred)"
      ],
      "metadata": {
        "id": "82eP5Y9K8JdY"
      },
      "execution_count": null,
      "outputs": []
    },
    {
      "cell_type": "code",
      "source": [
        "sales_actuals <- airfaredf$Airfare\n",
        "\n",
        "mae <- function(actual, pred) {\n",
        "  mae <- mean(abs(actual - pred), na.rm = TRUE)\n",
        "  return(mae)\n",
        "}\n",
        "\n",
        "rmse <- function(actual, pred) {\n",
        "  mse <- mean((actual - pred)^2, na.rm = TRUE)\n",
        "  rmse <- sqrt(mse)\n",
        "  return(rmse)\n",
        "}\n",
        "\n",
        "mse <- function(actual, pred) {\n",
        "  mse <- mean((actual - pred)^2, na.rm = TRUE)\n",
        "  return(mse)\n",
        "}\n",
        "\n",
        "mape <- function(actual, pred) {\n",
        "  mape <- mean(abs((actual - pred) / actual), na.rm = TRUE) * 100\n",
        "  return(mape)\n",
        "}\n",
        "\n",
        "naive13 <- c(NA, sales_actuals)\n",
        "naive_pred <- naive13[-length(naive13)]\n",
        "\n",
        "mae(sales_actuals, naive_pred)\n",
        "mse(sales_actuals, naive_pred)\n",
        "rmse(sales_actuals, naive_pred)\n",
        "mape(sales_actuals, naive_pred)\n",
        "\n",
        "#Simple moving average of n=3#\n",
        "sma3 <- SMA(sales_actuals, n = 3)\n",
        "sales_ma_pred <- c(NA, sma3[-length(sma3)])\n",
        "\n",
        "mae(sales_actuals, sales_ma_pred)\n",
        "mse(sales_actuals, sales_ma_pred)\n",
        "rmse(sales_actuals, sales_ma_pred)\n",
        "mape(sales_actuals, sales_ma_pred)\n"
      ],
      "metadata": {
        "id": "d7VKR0yk6Q_W"
      },
      "execution_count": null,
      "outputs": []
    },
    {
      "cell_type": "code",
      "source": [
        "# Get the last three observations of the simple moving average\n",
        "sma_last_three <- tail(sales_ma_pred, n = 3)\n",
        "\n",
        "# Calculate the forecast for 2019 by taking the average of the last three observations\n",
        "forecast_2019 <- mean(sma_last_three)\n",
        "\n",
        "# Round the forecast to two decimal places\n",
        "forecast_2019 <- (forecast_2019)\n",
        "\n",
        "# Print the forecast\n",
        "cat(\"The 2019 average airfare forecast using the simple moving average technique is:\", forecast_2019)\n"
      ],
      "metadata": {
        "id": "gDVwQNpq72O_"
      },
      "execution_count": null,
      "outputs": []
    },
    {
      "cell_type": "code",
      "source": [
        "sma3 <- SMA(sales_actuals, n = 3)\n",
        "sales_ma_pred <- c(NA, sma3[-length(sma3)])\n",
        "mae(sales_actuals, sales_ma_pred)\n"
      ],
      "metadata": {
        "id": "Uef1CC8g72NQ"
      },
      "execution_count": null,
      "outputs": []
    },
    {
      "cell_type": "code",
      "source": [
        "install.packages(\"forecast\")\n",
        "library(forecast)"
      ],
      "metadata": {
        "id": "Un9h6Lo472I3"
      },
      "execution_count": null,
      "outputs": []
    },
    {
      "cell_type": "code",
      "source": [
        "# Fit the simple exponential smoothing model\n",
        "fit_ses <- ses(sales_actuals, alpha = 0.2)\n",
        "\n",
        "# Forecast the average airfare for 2019\n",
        "forecast_ses <- forecast(fit_ses, h = 1)$mean[\"2019\"]\n",
        "\n",
        "# Round the forecast to two decimal places\n",
        "forecast_ses <- round(forecast_ses, 2)\n",
        "\n",
        "# Print the forecast\n",
        "forecast_ses"
      ],
      "metadata": {
        "id": "1n7XCmvt72G0"
      },
      "execution_count": null,
      "outputs": []
    },
    {
      "cell_type": "code",
      "source": [
        "# Simple moving average of n=3\n",
        "sma3 <- SMA(sales_actuals, n = 3)\n",
        "\n",
        "# Predicted values up to 2018\n",
        "sma_pred <- c(NA, sma3[-length(sma3)])\n",
        "\n",
        "# Actual values up to 2018\n",
        "sma_actual <- sales_actuals[1:length(sales_actuals)-1]\n",
        "\n",
        "# Calculate MAE\n",
        "sma_mae <- mean(abs(sma_actual - sma_pred), na.rm = TRUE)\n",
        "sma_mae\n",
        "\n",
        "# Calculate MSE\n",
        "sma_mse <- mean((sma_actual - sma_pred)^2, na.rm = TRUE)\n",
        "sma_mse\n",
        "\n",
        "# Calculate RMSE\n",
        "sma_rmse <- sqrt(sma_mse)\n",
        "sma_rmse\n",
        "\n",
        "# Calculate MAPE\n",
        "sma_mape <- mean(abs((sma_actual - sma_pred) / sma_actual), na.rm = TRUE) * 100\n",
        "sma_mape\n"
      ],
      "metadata": {
        "id": "0pWZgNCa72Ei"
      },
      "execution_count": null,
      "outputs": []
    },
    {
      "cell_type": "code",
      "source": [
        "# Calculate MAE\n",
        "mae(sales_actuals, sales_ma_pred)\n",
        "# Calculate MSE\n",
        "mse(sales_actuals, sales_ma_pred)\n",
        "# Calculate RMSE\n",
        "rmse(sales_actuals, sales_ma_pred)\n",
        "# Calculate MAPE\n",
        "mape(sales_actuals, sales_ma_pred)\n"
      ],
      "metadata": {
        "id": "sFERo5H_3Du9"
      },
      "execution_count": null,
      "outputs": []
    },
    {
      "cell_type": "code",
      "source": [
        "\n",
        "# create a time series object with the airfare data\n",
        "ts_airfare <- ts(airfaredf$Airfare, start = c(1995, 1), frequency = 1)\n",
        "\n",
        "# fit the simple exponential smoothing model\n",
        "fit_ses <- ses(ts_airfare, alpha = 0.2)\n",
        "\n",
        "# forecast the average airfare for 2019\n",
        "forecast_ses <- forecast(fit_ses, h = 1)\n",
        "\n",
        "# print the forecasted value for 2019\n",
        "round(forecast_ses$mean, 2)\n"
      ],
      "metadata": {
        "id": "fMiFzV4y3Dst"
      },
      "execution_count": null,
      "outputs": []
    },
    {
      "cell_type": "code",
      "source": [
        "\n",
        "# Convert the airfaredf to a time series object\n",
        "airfare_ts <- ts(airfaredf$Airfare, start = c(1995, 1), frequency = 1)\n",
        "\n",
        "# Fit a simple exponential smoothing model with a smoothing constant of 0.2\n",
        "ses_model <- ses(airfare_ts, alpha = 0.2)\n",
        "\n",
        "# Forecast the average airfare in 2019\n",
        "round(forecast(ses_model, h = 1)$mean[1],2)"
      ],
      "metadata": {
        "id": "hVbtYYzs3DqY",
        "colab": {
          "base_uri": "https://localhost:8080/",
          "height": 34
        },
        "outputId": "d8393613-9bad-41ad-a955-0f20317e1e83"
      },
      "execution_count": null,
      "outputs": [
        {
          "output_type": "display_data",
          "data": {
            "text/html": [
              "376.33"
            ],
            "text/markdown": "376.33",
            "text/latex": "376.33",
            "text/plain": [
              "[1] 376.33"
            ]
          },
          "metadata": {}
        }
      ]
    },
    {
      "cell_type": "code",
      "source": [
        "# Subset the airfare data to exclude any missing values\n",
        "airfare_valid <- airfaredf$AverageAirfare[!is.na(airfaredf$AverageAirfare)]\n",
        "\n",
        "# Print the airfare_valid object\n",
        "print(airfare_valid)\n",
        "\n",
        "# Check the class and structure of the airfare_valid object\n",
        "class(airfare_valid)\n",
        "str(airfare_valid)\n"
      ],
      "metadata": {
        "id": "QpFb3Jpy8Eyk"
      },
      "execution_count": null,
      "outputs": []
    },
    {
      "cell_type": "code",
      "source": [
        "# Subset the airfare data to exclude any missing values\n",
        "airfare_valid <- airfaredf$AverageAirfare[!is.na(airfaredf$AverageAirfare)]\n",
        "\n",
        "# Fit the Simple Exponential Smoothing model with a smoothing constant of 0.8\n",
        "fit <- HoltWinters(airfare_valid, beta = FALSE, gamma = FALSE, alpha = 0.8)\n",
        "\n",
        "# Forecast the 2019 average airfare using the Simple Exponential Smoothing model\n",
        "forecast <- predict(fit, n.ahead = 1)\n",
        "\n",
        "# Print the forecast for 2019\n",
        "round(forecast, 2)\n"
      ],
      "metadata": {
        "id": "u2LljmkX3KI6"
      },
      "execution_count": null,
      "outputs": []
    },
    {
      "cell_type": "code",
      "source": [],
      "metadata": {
        "id": "x8PueB_e3KGX"
      },
      "execution_count": null,
      "outputs": []
    },
    {
      "cell_type": "markdown",
      "source": [
        "Part 3"
      ],
      "metadata": {
        "id": "qj9Tc6LlUQ9P"
      }
    },
    {
      "cell_type": "code",
      "source": [
        "amazondf<- read.csv(\"amazon_web_services.csv\")\n",
        "amazondf"
      ],
      "metadata": {
        "id": "KvqSZbMK3KEF",
        "colab": {
          "base_uri": "https://localhost:8080/",
          "height": 1000
        },
        "outputId": "bd1e240f-1d86-40d8-a91f-e92114c18090"
      },
      "execution_count": null,
      "outputs": [
        {
          "output_type": "display_data",
          "data": {
            "text/html": [
              "<table class=\"dataframe\">\n",
              "<caption>A data.frame: 32 × 2</caption>\n",
              "<thead>\n",
              "\t<tr><th scope=col>Quarter</th><th scope=col>Revenue</th></tr>\n",
              "\t<tr><th scope=col>&lt;chr&gt;</th><th scope=col>&lt;int&gt;</th></tr>\n",
              "</thead>\n",
              "<tbody>\n",
              "\t<tr><td>2014Q1</td><td> 1050</td></tr>\n",
              "\t<tr><td>2014Q2</td><td> 1005</td></tr>\n",
              "\t<tr><td>2014Q3</td><td> 1169</td></tr>\n",
              "\t<tr><td>2014Q4</td><td> 1420</td></tr>\n",
              "\t<tr><td>2015Q1</td><td> 1566</td></tr>\n",
              "\t<tr><td>2015Q2</td><td> 1824</td></tr>\n",
              "\t<tr><td>2015Q3</td><td> 2085</td></tr>\n",
              "\t<tr><td>2015Q4</td><td> 2405</td></tr>\n",
              "\t<tr><td>2016Q1</td><td> 2566</td></tr>\n",
              "\t<tr><td>2016Q2</td><td> 2886</td></tr>\n",
              "\t<tr><td>2016Q3</td><td> 3231</td></tr>\n",
              "\t<tr><td>2016Q4</td><td> 3536</td></tr>\n",
              "\t<tr><td>2017Q1</td><td> 3661</td></tr>\n",
              "\t<tr><td>2017Q2</td><td> 4100</td></tr>\n",
              "\t<tr><td>2017Q3</td><td> 4584</td></tr>\n",
              "\t<tr><td>2017Q4</td><td> 5113</td></tr>\n",
              "\t<tr><td>2018Q1</td><td> 5442</td></tr>\n",
              "\t<tr><td>2018Q2</td><td> 6105</td></tr>\n",
              "\t<tr><td>2018Q3</td><td> 6679</td></tr>\n",
              "\t<tr><td>2018Q4</td><td> 7430</td></tr>\n",
              "\t<tr><td>2019Q1</td><td> 7696</td></tr>\n",
              "\t<tr><td>2019Q2</td><td> 8381</td></tr>\n",
              "\t<tr><td>2019Q3</td><td> 8995</td></tr>\n",
              "\t<tr><td>2019Q4</td><td> 9954</td></tr>\n",
              "\t<tr><td>2020Q1</td><td>10219</td></tr>\n",
              "\t<tr><td>2020Q2</td><td>10808</td></tr>\n",
              "\t<tr><td>2020Q3</td><td>11601</td></tr>\n",
              "\t<tr><td>2020Q4</td><td>12742</td></tr>\n",
              "\t<tr><td>2021Q1</td><td>13503</td></tr>\n",
              "\t<tr><td>2021Q2</td><td>14809</td></tr>\n",
              "\t<tr><td>2021Q3</td><td>16110</td></tr>\n",
              "\t<tr><td>2021Q4</td><td>17780</td></tr>\n",
              "</tbody>\n",
              "</table>\n"
            ],
            "text/markdown": "\nA data.frame: 32 × 2\n\n| Quarter &lt;chr&gt; | Revenue &lt;int&gt; |\n|---|---|\n| 2014Q1 |  1050 |\n| 2014Q2 |  1005 |\n| 2014Q3 |  1169 |\n| 2014Q4 |  1420 |\n| 2015Q1 |  1566 |\n| 2015Q2 |  1824 |\n| 2015Q3 |  2085 |\n| 2015Q4 |  2405 |\n| 2016Q1 |  2566 |\n| 2016Q2 |  2886 |\n| 2016Q3 |  3231 |\n| 2016Q4 |  3536 |\n| 2017Q1 |  3661 |\n| 2017Q2 |  4100 |\n| 2017Q3 |  4584 |\n| 2017Q4 |  5113 |\n| 2018Q1 |  5442 |\n| 2018Q2 |  6105 |\n| 2018Q3 |  6679 |\n| 2018Q4 |  7430 |\n| 2019Q1 |  7696 |\n| 2019Q2 |  8381 |\n| 2019Q3 |  8995 |\n| 2019Q4 |  9954 |\n| 2020Q1 | 10219 |\n| 2020Q2 | 10808 |\n| 2020Q3 | 11601 |\n| 2020Q4 | 12742 |\n| 2021Q1 | 13503 |\n| 2021Q2 | 14809 |\n| 2021Q3 | 16110 |\n| 2021Q4 | 17780 |\n\n",
            "text/latex": "A data.frame: 32 × 2\n\\begin{tabular}{ll}\n Quarter & Revenue\\\\\n <chr> & <int>\\\\\n\\hline\n\t 2014Q1 &  1050\\\\\n\t 2014Q2 &  1005\\\\\n\t 2014Q3 &  1169\\\\\n\t 2014Q4 &  1420\\\\\n\t 2015Q1 &  1566\\\\\n\t 2015Q2 &  1824\\\\\n\t 2015Q3 &  2085\\\\\n\t 2015Q4 &  2405\\\\\n\t 2016Q1 &  2566\\\\\n\t 2016Q2 &  2886\\\\\n\t 2016Q3 &  3231\\\\\n\t 2016Q4 &  3536\\\\\n\t 2017Q1 &  3661\\\\\n\t 2017Q2 &  4100\\\\\n\t 2017Q3 &  4584\\\\\n\t 2017Q4 &  5113\\\\\n\t 2018Q1 &  5442\\\\\n\t 2018Q2 &  6105\\\\\n\t 2018Q3 &  6679\\\\\n\t 2018Q4 &  7430\\\\\n\t 2019Q1 &  7696\\\\\n\t 2019Q2 &  8381\\\\\n\t 2019Q3 &  8995\\\\\n\t 2019Q4 &  9954\\\\\n\t 2020Q1 & 10219\\\\\n\t 2020Q2 & 10808\\\\\n\t 2020Q3 & 11601\\\\\n\t 2020Q4 & 12742\\\\\n\t 2021Q1 & 13503\\\\\n\t 2021Q2 & 14809\\\\\n\t 2021Q3 & 16110\\\\\n\t 2021Q4 & 17780\\\\\n\\end{tabular}\n",
            "text/plain": [
              "   Quarter Revenue\n",
              "1  2014Q1   1050  \n",
              "2  2014Q2   1005  \n",
              "3  2014Q3   1169  \n",
              "4  2014Q4   1420  \n",
              "5  2015Q1   1566  \n",
              "6  2015Q2   1824  \n",
              "7  2015Q3   2085  \n",
              "8  2015Q4   2405  \n",
              "9  2016Q1   2566  \n",
              "10 2016Q2   2886  \n",
              "11 2016Q3   3231  \n",
              "12 2016Q4   3536  \n",
              "13 2017Q1   3661  \n",
              "14 2017Q2   4100  \n",
              "15 2017Q3   4584  \n",
              "16 2017Q4   5113  \n",
              "17 2018Q1   5442  \n",
              "18 2018Q2   6105  \n",
              "19 2018Q3   6679  \n",
              "20 2018Q4   7430  \n",
              "21 2019Q1   7696  \n",
              "22 2019Q2   8381  \n",
              "23 2019Q3   8995  \n",
              "24 2019Q4   9954  \n",
              "25 2020Q1  10219  \n",
              "26 2020Q2  10808  \n",
              "27 2020Q3  11601  \n",
              "28 2020Q4  12742  \n",
              "29 2021Q1  13503  \n",
              "30 2021Q2  14809  \n",
              "31 2021Q3  16110  \n",
              "32 2021Q4  17780  "
            ]
          },
          "metadata": {}
        }
      ]
    },
    {
      "cell_type": "code",
      "source": [
        "ggplot(data=amazondf,mapping=aes(x=Quarter,y=Revenue))+\n",
        "  geom_line(group=1)+\n",
        "  geom_point()+\n",
        "  labs(title=\"Quarterly Revenue, 2014 to 2021\", x=\"Quarter\",y=\"Revenue\")"
      ],
      "metadata": {
        "id": "oLPpWgZV3J9V",
        "colab": {
          "base_uri": "https://localhost:8080/",
          "height": 437
        },
        "outputId": "ff262402-8a88-4328-f0de-507e8b190695"
      },
      "execution_count": null,
      "outputs": [
        {
          "output_type": "display_data",
          "data": {
            "text/plain": [
              "plot without title"
            ],
            "image/png": "[encoded data removed]"
          },
          "metadata": {
            "image/png": {
              "width": 420,
              "height": 420
            }
          }
        }
      ]
    },
    {
      "cell_type": "code",
      "source": [
        "amazondf$Time<-1:nrow(amazondf)"
      ],
      "metadata": {
        "id": "WbZPvL9R3J64"
      },
      "execution_count": null,
      "outputs": []
    },
    {
      "cell_type": "code",
      "source": [
        "amazondf"
      ],
      "metadata": {
        "id": "ooJaKSrGaSHM",
        "colab": {
          "base_uri": "https://localhost:8080/",
          "height": 1000
        },
        "outputId": "f45a3760-8261-420e-dd43-43bf052db394"
      },
      "execution_count": null,
      "outputs": [
        {
          "output_type": "display_data",
          "data": {
            "text/html": [
              "<table class=\"dataframe\">\n",
              "<caption>A data.frame: 32 × 3</caption>\n",
              "<thead>\n",
              "\t<tr><th scope=col>Quarter</th><th scope=col>Revenue</th><th scope=col>Time</th></tr>\n",
              "\t<tr><th scope=col>&lt;chr&gt;</th><th scope=col>&lt;int&gt;</th><th scope=col>&lt;int&gt;</th></tr>\n",
              "</thead>\n",
              "<tbody>\n",
              "\t<tr><td>2014Q1</td><td> 1050</td><td> 1</td></tr>\n",
              "\t<tr><td>2014Q2</td><td> 1005</td><td> 2</td></tr>\n",
              "\t<tr><td>2014Q3</td><td> 1169</td><td> 3</td></tr>\n",
              "\t<tr><td>2014Q4</td><td> 1420</td><td> 4</td></tr>\n",
              "\t<tr><td>2015Q1</td><td> 1566</td><td> 5</td></tr>\n",
              "\t<tr><td>2015Q2</td><td> 1824</td><td> 6</td></tr>\n",
              "\t<tr><td>2015Q3</td><td> 2085</td><td> 7</td></tr>\n",
              "\t<tr><td>2015Q4</td><td> 2405</td><td> 8</td></tr>\n",
              "\t<tr><td>2016Q1</td><td> 2566</td><td> 9</td></tr>\n",
              "\t<tr><td>2016Q2</td><td> 2886</td><td>10</td></tr>\n",
              "\t<tr><td>2016Q3</td><td> 3231</td><td>11</td></tr>\n",
              "\t<tr><td>2016Q4</td><td> 3536</td><td>12</td></tr>\n",
              "\t<tr><td>2017Q1</td><td> 3661</td><td>13</td></tr>\n",
              "\t<tr><td>2017Q2</td><td> 4100</td><td>14</td></tr>\n",
              "\t<tr><td>2017Q3</td><td> 4584</td><td>15</td></tr>\n",
              "\t<tr><td>2017Q4</td><td> 5113</td><td>16</td></tr>\n",
              "\t<tr><td>2018Q1</td><td> 5442</td><td>17</td></tr>\n",
              "\t<tr><td>2018Q2</td><td> 6105</td><td>18</td></tr>\n",
              "\t<tr><td>2018Q3</td><td> 6679</td><td>19</td></tr>\n",
              "\t<tr><td>2018Q4</td><td> 7430</td><td>20</td></tr>\n",
              "\t<tr><td>2019Q1</td><td> 7696</td><td>21</td></tr>\n",
              "\t<tr><td>2019Q2</td><td> 8381</td><td>22</td></tr>\n",
              "\t<tr><td>2019Q3</td><td> 8995</td><td>23</td></tr>\n",
              "\t<tr><td>2019Q4</td><td> 9954</td><td>24</td></tr>\n",
              "\t<tr><td>2020Q1</td><td>10219</td><td>25</td></tr>\n",
              "\t<tr><td>2020Q2</td><td>10808</td><td>26</td></tr>\n",
              "\t<tr><td>2020Q3</td><td>11601</td><td>27</td></tr>\n",
              "\t<tr><td>2020Q4</td><td>12742</td><td>28</td></tr>\n",
              "\t<tr><td>2021Q1</td><td>13503</td><td>29</td></tr>\n",
              "\t<tr><td>2021Q2</td><td>14809</td><td>30</td></tr>\n",
              "\t<tr><td>2021Q3</td><td>16110</td><td>31</td></tr>\n",
              "\t<tr><td>2021Q4</td><td>17780</td><td>32</td></tr>\n",
              "</tbody>\n",
              "</table>\n"
            ],
            "text/markdown": "\nA data.frame: 32 × 3\n\n| Quarter &lt;chr&gt; | Revenue &lt;int&gt; | Time &lt;int&gt; |\n|---|---|---|\n| 2014Q1 |  1050 |  1 |\n| 2014Q2 |  1005 |  2 |\n| 2014Q3 |  1169 |  3 |\n| 2014Q4 |  1420 |  4 |\n| 2015Q1 |  1566 |  5 |\n| 2015Q2 |  1824 |  6 |\n| 2015Q3 |  2085 |  7 |\n| 2015Q4 |  2405 |  8 |\n| 2016Q1 |  2566 |  9 |\n| 2016Q2 |  2886 | 10 |\n| 2016Q3 |  3231 | 11 |\n| 2016Q4 |  3536 | 12 |\n| 2017Q1 |  3661 | 13 |\n| 2017Q2 |  4100 | 14 |\n| 2017Q3 |  4584 | 15 |\n| 2017Q4 |  5113 | 16 |\n| 2018Q1 |  5442 | 17 |\n| 2018Q2 |  6105 | 18 |\n| 2018Q3 |  6679 | 19 |\n| 2018Q4 |  7430 | 20 |\n| 2019Q1 |  7696 | 21 |\n| 2019Q2 |  8381 | 22 |\n| 2019Q3 |  8995 | 23 |\n| 2019Q4 |  9954 | 24 |\n| 2020Q1 | 10219 | 25 |\n| 2020Q2 | 10808 | 26 |\n| 2020Q3 | 11601 | 27 |\n| 2020Q4 | 12742 | 28 |\n| 2021Q1 | 13503 | 29 |\n| 2021Q2 | 14809 | 30 |\n| 2021Q3 | 16110 | 31 |\n| 2021Q4 | 17780 | 32 |\n\n",
            "text/latex": "A data.frame: 32 × 3\n\\begin{tabular}{lll}\n Quarter & Revenue & Time\\\\\n <chr> & <int> & <int>\\\\\n\\hline\n\t 2014Q1 &  1050 &  1\\\\\n\t 2014Q2 &  1005 &  2\\\\\n\t 2014Q3 &  1169 &  3\\\\\n\t 2014Q4 &  1420 &  4\\\\\n\t 2015Q1 &  1566 &  5\\\\\n\t 2015Q2 &  1824 &  6\\\\\n\t 2015Q3 &  2085 &  7\\\\\n\t 2015Q4 &  2405 &  8\\\\\n\t 2016Q1 &  2566 &  9\\\\\n\t 2016Q2 &  2886 & 10\\\\\n\t 2016Q3 &  3231 & 11\\\\\n\t 2016Q4 &  3536 & 12\\\\\n\t 2017Q1 &  3661 & 13\\\\\n\t 2017Q2 &  4100 & 14\\\\\n\t 2017Q3 &  4584 & 15\\\\\n\t 2017Q4 &  5113 & 16\\\\\n\t 2018Q1 &  5442 & 17\\\\\n\t 2018Q2 &  6105 & 18\\\\\n\t 2018Q3 &  6679 & 19\\\\\n\t 2018Q4 &  7430 & 20\\\\\n\t 2019Q1 &  7696 & 21\\\\\n\t 2019Q2 &  8381 & 22\\\\\n\t 2019Q3 &  8995 & 23\\\\\n\t 2019Q4 &  9954 & 24\\\\\n\t 2020Q1 & 10219 & 25\\\\\n\t 2020Q2 & 10808 & 26\\\\\n\t 2020Q3 & 11601 & 27\\\\\n\t 2020Q4 & 12742 & 28\\\\\n\t 2021Q1 & 13503 & 29\\\\\n\t 2021Q2 & 14809 & 30\\\\\n\t 2021Q3 & 16110 & 31\\\\\n\t 2021Q4 & 17780 & 32\\\\\n\\end{tabular}\n",
            "text/plain": [
              "   Quarter Revenue Time\n",
              "1  2014Q1   1050    1  \n",
              "2  2014Q2   1005    2  \n",
              "3  2014Q3   1169    3  \n",
              "4  2014Q4   1420    4  \n",
              "5  2015Q1   1566    5  \n",
              "6  2015Q2   1824    6  \n",
              "7  2015Q3   2085    7  \n",
              "8  2015Q4   2405    8  \n",
              "9  2016Q1   2566    9  \n",
              "10 2016Q2   2886   10  \n",
              "11 2016Q3   3231   11  \n",
              "12 2016Q4   3536   12  \n",
              "13 2017Q1   3661   13  \n",
              "14 2017Q2   4100   14  \n",
              "15 2017Q3   4584   15  \n",
              "16 2017Q4   5113   16  \n",
              "17 2018Q1   5442   17  \n",
              "18 2018Q2   6105   18  \n",
              "19 2018Q3   6679   19  \n",
              "20 2018Q4   7430   20  \n",
              "21 2019Q1   7696   21  \n",
              "22 2019Q2   8381   22  \n",
              "23 2019Q3   8995   23  \n",
              "24 2019Q4   9954   24  \n",
              "25 2020Q1  10219   25  \n",
              "26 2020Q2  10808   26  \n",
              "27 2020Q3  11601   27  \n",
              "28 2020Q4  12742   28  \n",
              "29 2021Q1  13503   29  \n",
              "30 2021Q2  14809   30  \n",
              "31 2021Q3  16110   31  \n",
              "32 2021Q4  17780   32  "
            ]
          },
          "metadata": {}
        }
      ]
    },
    {
      "cell_type": "code",
      "source": [
        "amazonreg<-lm(Revenue~Time,data=amazondf)\n",
        "summary(amazonreg)"
      ],
      "metadata": {
        "id": "GlJeqZtL5apM",
        "colab": {
          "base_uri": "https://localhost:8080/",
          "height": 339
        },
        "outputId": "a54de7e2-b7f9-49a0-d0b5-d073dc16eac1"
      },
      "execution_count": null,
      "outputs": [
        {
          "output_type": "display_data",
          "data": {
            "text/plain": [
              "\n",
              "Call:\n",
              "lm(formula = Revenue ~ Time, data = amazondf)\n",
              "\n",
              "Residuals:\n",
              "    Min      1Q  Median      3Q     Max \n",
              "-1383.7  -980.9  -405.7   705.8  3486.0 \n",
              "\n",
              "Coefficients:\n",
              "            Estimate Std. Error t value Pr(>|t|)    \n",
              "(Intercept)  -1638.4      457.5  -3.581  0.00119 ** \n",
              "Time           497.9       24.2  20.575  < 2e-16 ***\n",
              "---\n",
              "Signif. codes:  0 ‘***’ 0.001 ‘**’ 0.01 ‘*’ 0.05 ‘.’ 0.1 ‘ ’ 1\n",
              "\n",
              "Residual standard error: 1264 on 30 degrees of freedom\n",
              "Multiple R-squared:  0.9338,\tAdjusted R-squared:  0.9316 \n",
              "F-statistic: 423.3 on 1 and 30 DF,  p-value: < 2.2e-16\n"
            ]
          },
          "metadata": {}
        }
      ]
    },
    {
      "cell_type": "code",
      "source": [
        "amazon_pred=predict(amazonreg)"
      ],
      "metadata": {
        "id": "grCwWXiRVupJ"
      },
      "execution_count": null,
      "outputs": []
    },
    {
      "cell_type": "code",
      "source": [
        "mae(amazondf$Revenue,amazon_pred)\n",
        "mse(amazondf$Revenue,amazon_pred)\n",
        "rmse(amazondf$Revenue,amazon_pred)\n",
        "round(mape(amazondf$Revenue,amazon_pred),2)"
      ],
      "metadata": {
        "id": "zqZ3NoENVupJ",
        "colab": {
          "base_uri": "https://localhost:8080/",
          "height": 86
        },
        "outputId": "dc94a24e-82a1-42c2-e424-0c7d27ffd96e"
      },
      "execution_count": null,
      "outputs": [
        {
          "output_type": "display_data",
          "data": {
            "text/html": [
              "1010.02577437683"
            ],
            "text/markdown": "1010.02577437683",
            "text/latex": "1010.02577437683",
            "text/plain": [
              "[1] 1010.026"
            ]
          },
          "metadata": {}
        },
        {
          "output_type": "display_data",
          "data": {
            "text/html": [
              "1497638.03524216"
            ],
            "text/markdown": "1497638.03524216",
            "text/latex": "1497638.03524216",
            "text/plain": [
              "[1] 1497638"
            ]
          },
          "metadata": {}
        },
        {
          "output_type": "display_data",
          "data": {
            "text/html": [
              "1223.78022342337"
            ],
            "text/markdown": "1223.78022342337",
            "text/latex": "1223.78022342337",
            "text/plain": [
              "[1] 1223.78"
            ]
          },
          "metadata": {}
        },
        {
          "output_type": "display_data",
          "data": {
            "text/html": [
              "31.39"
            ],
            "text/markdown": "31.39",
            "text/latex": "31.39",
            "text/plain": [
              "[1] 31.39"
            ]
          },
          "metadata": {}
        }
      ]
    },
    {
      "cell_type": "code",
      "source": [
        "amazondf$Time2<-amazondf$Time^2"
      ],
      "metadata": {
        "id": "ibELbUmr5am1"
      },
      "execution_count": null,
      "outputs": []
    },
    {
      "cell_type": "code",
      "source": [
        "amazondf"
      ],
      "metadata": {
        "id": "vYCm_yApYP8b"
      },
      "execution_count": null,
      "outputs": []
    },
    {
      "cell_type": "code",
      "source": [
        "2022 Q1  33   1089\n",
        "2022 Q2  34   1156\n",
        "2022 Q3  35   1225\n",
        "2022 Q4  36   1296"
      ],
      "metadata": {
        "id": "QOQFBfrwZewd"
      },
      "execution_count": null,
      "outputs": []
    },
    {
      "cell_type": "code",
      "source": [
        "amazonregquad<-lm(Revenue~ Time+Time2,data=amazondf)"
      ],
      "metadata": {
        "id": "q41T7Pdr5ahq"
      },
      "execution_count": null,
      "outputs": []
    },
    {
      "cell_type": "code",
      "source": [
        "summary(amazonregquad)"
      ],
      "metadata": {
        "id": "wL9DN-nR6AGG"
      },
      "execution_count": null,
      "outputs": []
    },
    {
      "cell_type": "code",
      "source": [
        "pred_2=predict(amazonregquad)"
      ],
      "metadata": {
        "id": "Zc9l8ACS59DD"
      },
      "execution_count": null,
      "outputs": []
    },
    {
      "cell_type": "code",
      "source": [
        "mae(amazondf$Revenue,pred_2)\n",
        "mse(amazondf$Revenue,pred_2)\n",
        "rmse(amazondf$Revenue,pred_2)\n",
        "mape(amazondf$Revenue,pred_2)"
      ],
      "metadata": {
        "id": "j4r0v0fv59BA"
      },
      "execution_count": null,
      "outputs": []
    },
    {
      "cell_type": "markdown",
      "source": [
        "Based on the results from the second regression analysis, what is the forecasted revenue for Amazon Web Services in millions of U.S. dollars for Quarter 3 of 2022? (Round to two decimal places)"
      ],
      "metadata": {
        "id": "qcPxA_ioZKWq"
      }
    },
    {
      "cell_type": "code",
      "source": [
        "new<-data.frame(Time=c(35),Time2=c(1225))\n",
        "predict(amazonregquad,newdata=new)"
      ],
      "metadata": {
        "id": "S61e69Ep58-u"
      },
      "execution_count": null,
      "outputs": []
    },
    {
      "cell_type": "code",
      "source": [],
      "metadata": {
        "id": "3BsOlyTy586b"
      },
      "execution_count": null,
      "outputs": []
    },
    {
      "cell_type": "code",
      "source": [],
      "metadata": {
        "id": "9yYcfnUH584B"
      },
      "execution_count": null,
      "outputs": []
    },
    {
      "cell_type": "code",
      "source": [],
      "metadata": {
        "id": "FNVQXUNO581h"
      },
      "execution_count": null,
      "outputs": []
    },
    {
      "cell_type": "markdown",
      "source": [],
      "metadata": {
        "id": "WnkCABcRr3oQ"
      }
    },
    {
      "cell_type": "code",
      "source": [
        "# Load required packages\n",
        "library(TTR)\n",
        "library(dplyr)\n",
        "\n",
        "# Load the data\n",
        "musicdf <- read.csv(\"warner_music.csv\")"
      ],
      "metadata": {
        "id": "LTpHtwSOr6lc"
      },
      "execution_count": null,
      "outputs": []
    },
    {
      "cell_type": "code",
      "source": [
        "# Step 2: Linear regression to model ONLY the trend\n",
        "# Create a time index variable\n",
        "musicdf$Time_Index <- 1:nrow(musicdf)\n",
        "\n",
        "# Fit a linear regression model to the data\n",
        "trend_model <- lm(Revenue ~ Time_Index, data = musicdf)"
      ],
      "metadata": {
        "id": "07Q0DXIir79t"
      },
      "execution_count": null,
      "outputs": []
    },
    {
      "cell_type": "code",
      "source": [
        "# Step 3: Calculate accuracy measures for predicted values based on the regression in (2)\n",
        "# Use the fitted model to predict the values of revenue for each quarter\n",
        "predicted_values <- predict(trend_model)\n",
        "\n",
        "# Calculate the RMSE between the predicted and actual values\n",
        "RMSE <- sqrt(mean((predicted_values - musicdf$Revenue)^2))"
      ],
      "metadata": {
        "id": "J7huv-Kvr8_P"
      },
      "execution_count": null,
      "outputs": []
    },
    {
      "cell_type": "code",
      "source": [
        "# Step 4: Linear regression to model both the trend and the seasonality\n",
        "# Add a column for quarter\n",
        "musicdf$Quarter_Number <- as.numeric(gsub(\"Q\", \"\", musicdf$Quarter))\n",
        "\n",
        "# Choose Q4 as the reference quarter, as it tends to show the highest revenues each year\n",
        "musicdf$Reference_Quarter <- ifelse(musicdf$Quarter_Number == 4, 1, 0)\n",
        "\n",
        "# Fit a linear regression model to the data\n",
        "seasonal_model <- lm(Revenue ~ Time_Index + Reference_Quarter, data = musicdf)"
      ],
      "metadata": {
        "id": "eRbCteivr88q"
      },
      "execution_count": null,
      "outputs": []
    },
    {
      "cell_type": "code",
      "source": [
        "# Step 5: Calculate accuracy measures for predicted values based on the regression in (4)\n",
        "# Use the fitted model to predict the values of revenue for each quarter\n",
        "predicted_values_seasonal <- predict(seasonal_model)\n",
        "\n",
        "# Calculate the RMSE between the predicted and actual values\n",
        "RMSE_seasonal <- sqrt(mean((predicted_values_seasonal - musicdf$Revenue)^2))\n",
        "RMSE_seasonal"
      ],
      "metadata": {
        "colab": {
          "base_uri": "https://localhost:8080/",
          "height": 34
        },
        "id": "b59FS12NsAER",
        "outputId": "6b220e91-9d88-4571-9e38-8ae404404b55"
      },
      "execution_count": null,
      "outputs": [
        {
          "output_type": "display_data",
          "data": {
            "text/html": [
              "72.071861360728"
            ],
            "text/markdown": "72.071861360728",
            "text/latex": "72.071861360728",
            "text/plain": [
              "[1] 72.07186"
            ]
          },
          "metadata": {}
        }
      ]
    },
    {
      "cell_type": "code",
      "source": [
        "# Forecast Q1, Q2, Q3, and Q4 revenues for 2022 using the seasonal model\n",
        "# Create a data frame with the time index and reference quarter for each quarter of 2022\n",
        "quarters_2022 <- data.frame(Time_Index = 29:32, Reference_Quarter = c(0, 0, 0, 1))"
      ],
      "metadata": {
        "id": "rshI2i4bsCKF"
      },
      "execution_count": null,
      "outputs": []
    },
    {
      "cell_type": "code",
      "source": [
        "predicted_values_2022 <- predict(seasonal_model, newdata = quarters_2022)\n",
        "\n",
        "# View the predicted revenues for each quarter of 2022\n",
        "predicted_values_2022"
      ],
      "metadata": {
        "colab": {
          "base_uri": "https://localhost:8080/",
          "height": 69
        },
        "id": "jmt4JjBusEQF",
        "outputId": "61277e50-33f9-4db2-fb46-01cd2ee2a670"
      },
      "execution_count": null,
      "outputs": [
        {
          "output_type": "stream",
          "name": "stderr",
          "text": [
            "Warning message in predict.lm(seasonal_model, newdata = quarters_2022):\n",
            "“prediction from a rank-deficient fit may be misleading”\n"
          ]
        },
        {
          "output_type": "display_data",
          "data": {
            "text/html": [
              "<style>\n",
              ".dl-inline {width: auto; margin:0; padding: 0}\n",
              ".dl-inline>dt, .dl-inline>dd {float: none; width: auto; display: inline-block}\n",
              ".dl-inline>dt::after {content: \":\\0020\"; padding-right: .5ex}\n",
              ".dl-inline>dt:not(:first-of-type) {padding-left: .5ex}\n",
              "</style><dl class=dl-inline><dt>1</dt><dd>1403.68</dd><dt>2</dt><dd>1426.87</dd><dt>3</dt><dd>1450.06</dd><dt>4</dt><dd>1473.25</dd></dl>\n"
            ],
            "text/markdown": "1\n:   1403.682\n:   1426.873\n:   1450.064\n:   1473.25\n\n",
            "text/latex": "\\begin{description*}\n\\item[1] 1403.68\n\\item[2] 1426.87\n\\item[3] 1450.06\n\\item[4] 1473.25\n\\end{description*}\n",
            "text/plain": [
              "      1       2       3       4 \n",
              "1403.68 1426.87 1450.06 1473.25 "
            ]
          },
          "metadata": {}
        }
      ]
    },
    {
      "cell_type": "markdown",
      "source": [],
      "metadata": {
        "id": "fDoTZ15ispvR"
      }
    },
    {
      "cell_type": "code",
      "source": [
        "# Load the dataset\n",
        "amazondf <- read.csv(\"amazon_web_services.csv\")\n",
        "\n",
        "# Add a time variable to the dataset\n",
        "amazondf$Time <- 1:nrow(amazondf)\n",
        "\n",
        "# Perform quadratic regression analysis\n",
        "amazondf$Time2 <- amazondf$Time^2\n",
        "amazonregquad <- lm(Revenue ~ Time + Time2, data = amazondf)\n",
        "\n",
        "# Calculate MAPE\n",
        "pred_2 <- predict(amazonregquad)\n",
        "mape(amazondf$Revenue, pred_2)\n",
        "\n",
        "\n"
      ],
      "metadata": {
        "colab": {
          "base_uri": "https://localhost:8080/",
          "height": 34
        },
        "id": "sIr5w9pTswWj",
        "outputId": "15be954d-fad9-4215-c17b-6c14e9d29dce"
      },
      "execution_count": null,
      "outputs": [
        {
          "output_type": "display_data",
          "data": {
            "text/html": [
              "5.20543348473466"
            ],
            "text/markdown": "5.20543348473466",
            "text/latex": "5.20543348473466",
            "text/plain": [
              "[1] 5.205433"
            ]
          },
          "metadata": {}
        }
      ]
    },
    {
      "cell_type": "code",
      "source": [
        "# Forecast Q3 revenue for 2022\n",
        "new <- data.frame(Time = 35, Time2 = 1225)\n",
        "forecast_Q3 <- predict(amazonregquad, newdata = new)\n",
        "round(forecast_Q3,2)"
      ],
      "metadata": {
        "colab": {
          "base_uri": "https://localhost:8080/",
          "height": 34
        },
        "id": "N6hlGXXhtr1O",
        "outputId": "c9546356-555b-4af8-8807-6188b9638660"
      },
      "execution_count": null,
      "outputs": [
        {
          "output_type": "display_data",
          "data": {
            "text/html": [
              "<strong>1:</strong> 19788.18"
            ],
            "text/markdown": "**1:** 19788.18",
            "text/latex": "\\textbf{1:} 19788.18",
            "text/plain": [
              "       1 \n",
              "19788.18 "
            ]
          },
          "metadata": {}
        }
      ]
    },
    {
      "cell_type": "code",
      "source": [
        "# Load the dataset\n",
        "amazondf <- read.csv(\"amazon_web_services.csv\")\n",
        "\n",
        "# Add a time variable to the dataset\n",
        "amazondf$Time <- 1:nrow(amazondf)\n",
        "\n",
        "# Perform quadratic regression analysis\n",
        "amazondf$Time2 <- amazondf$Time^2\n",
        "amazonregquad <- lm(Revenue ~ Time + Time2, data = amazondf)\n",
        "\n",
        "# Calculate MAPE\n",
        "pred_2 <- predict(amazonregquad)\n",
        "mape(amazondf$Revenue, pred_2)\n",
        "\n",
        "# Forecast Q3 revenue for 2022\n",
        "new <- data.frame(Time = 35, Time2 = 1225)\n",
        "forecast_Q3 <- predict(amazonregquad, newdata = new)"
      ],
      "metadata": {
        "colab": {
          "base_uri": "https://localhost:8080/",
          "height": 34
        },
        "id": "JxtCzbkBs23a",
        "outputId": "56f9c574-0ce0-4aad-805f-8de7d292733e"
      },
      "execution_count": null,
      "outputs": [
        {
          "output_type": "display_data",
          "data": {
            "text/html": [
              "5.20543348473466"
            ],
            "text/markdown": "5.20543348473466",
            "text/latex": "5.20543348473466",
            "text/plain": [
              "[1] 5.205433"
            ]
          },
          "metadata": {}
        }
      ]
    },
    {
      "cell_type": "code",
      "source": [
        "forecast_Q3"
      ],
      "metadata": {
        "colab": {
          "base_uri": "https://localhost:8080/",
          "height": 34
        },
        "id": "Y6svwF-VuEPP",
        "outputId": "08cb3b25-c9df-4410-ae0d-84f396da0a25"
      },
      "execution_count": null,
      "outputs": [
        {
          "output_type": "display_data",
          "data": {
            "text/html": [
              "<strong>1:</strong> 19788.1772414611"
            ],
            "text/markdown": "**1:** 19788.1772414611",
            "text/latex": "\\textbf{1:} 19788.1772414611",
            "text/plain": [
              "       1 \n",
              "19788.18 "
            ]
          },
          "metadata": {}
        }
      ]
    },
    {
      "cell_type": "code",
      "source": [
        "mape"
      ],
      "metadata": {
        "colab": {
          "base_uri": "https://localhost:8080/",
          "height": 121
        },
        "id": "YnQvNbQ7uF51",
        "outputId": "706f8af0-de3e-44a7-a0de-e7e7ac7e04ca"
      },
      "execution_count": null,
      "outputs": [
        {
          "output_type": "display_data",
          "data": {
            "text/html": [
              "<pre class=language-r><code>function (actual, pred) \n",
              "{\n",
              "<span style=white-space:pre-wrap>    mape &lt;- mean(abs((actual - pred)/actual), na.rm = TRUE) * </span>\n",
              "<span style=white-space:pre-wrap>        100</span>\n",
              "<span style=white-space:pre-wrap>    return(mape)</span>\n",
              "}</code></pre>"
            ],
            "text/markdown": "```r\nfunction (actual, pred) \n{\n    mape <- mean(abs((actual - pred)/actual), na.rm = TRUE) * \n        100\n    return(mape)\n}\n```",
            "text/latex": "\\begin{minted}{r}\nfunction (actual, pred) \n\\{\n    mape <- mean(abs((actual - pred)/actual), na.rm = TRUE) * \n        100\n    return(mape)\n\\}\n\\end{minted}",
            "text/plain": [
              "function(actual,pred){\n",
              "  mape<-mean(abs((actual-pred)/actual),na.rm=TRUE)*100\n",
              "  return(mape)\n",
              "}\n",
              "<bytecode: 0x557afebb3a28>"
            ]
          },
          "metadata": {}
        }
      ]
    },
    {
      "cell_type": "markdown",
      "source": [],
      "metadata": {
        "id": "Hu7NGLSPuWVQ"
      }
    },
    {
      "cell_type": "markdown",
      "source": [],
      "metadata": {
        "id": "JAUlXZK0uWTJ"
      }
    },
    {
      "cell_type": "code",
      "source": [
        "# Load packages\n",
        "library(\"googledrive\")\n",
        "install.packages(\"TTR\")\n",
        "library(TTR)\n",
        "library(tidyverse)\n",
        "\n",
        "# Read data\n",
        "airfaredf <- read.csv(\"airfare.csv\")"
      ],
      "metadata": {
        "colab": {
          "base_uri": "https://localhost:8080/"
        },
        "id": "3-hs2cHAuXkp",
        "outputId": "47135a5e-e7f7-4849-a8fe-b181ac6ac46d"
      },
      "execution_count": null,
      "outputs": [
        {
          "output_type": "stream",
          "name": "stderr",
          "text": [
            "Installing package into ‘/usr/local/lib/R/site-library’\n",
            "(as ‘lib’ is unspecified)\n",
            "\n"
          ]
        }
      ]
    },
    {
      "cell_type": "code",
      "source": [
        "# Create time series plot\n",
        "ggplot(data=airfaredf,mapping=aes(x=Year, y=Airfare))+\n",
        "  geom_line()+\n",
        "  geom_point()+\n",
        "  scale_x_continuous(breaks=seq(2004, 2018, by=1), name = \"Year\") + # add x-axis label and break points\n",
        "  scale_y_continuous(breaks=seq(0, 800, by=100), name = \"Airfare\") + # add y-axis label and break points\n",
        "  labs(title=\"Yearly Airfare Prices\")"
      ],
      "metadata": {
        "colab": {
          "base_uri": "https://localhost:8080/",
          "height": 148
        },
        "id": "m8To12IQuYhv",
        "outputId": "7b3fda15-741e-4ae1-f615-9c2ce95339ac"
      },
      "execution_count": null,
      "outputs": [
        {
          "output_type": "error",
          "ename": "ERROR",
          "evalue": "ignored",
          "traceback": [
            "Error in parse(text = x, srcfile = src): <text>:8:0: unexpected end of input\n6:   scale_y_continuous(breaks=seq(0, 800, by=100), name = \"Airfare\") + # add y-axis label and break points\n7:   labs(title=\"Yearly Airfare Prices\")+\n  ^\nTraceback:\n"
          ]
        }
      ]
    },
    {
      "cell_type": "code",
      "source": [
        "sales_actuals<-airfaredf$Airfare\n",
        "sales_actuals"
      ],
      "metadata": {
        "colab": {
          "base_uri": "https://localhost:8080/",
          "height": 34
        },
        "id": "DfNRipH-vHgp",
        "outputId": "fb9b1c72-0282-436f-cc4b-a5b4c0a050eb"
      },
      "execution_count": null,
      "outputs": [
        {
          "output_type": "display_data",
          "data": {
            "text/html": [
              "<style>\n",
              ".list-inline {list-style: none; margin:0; padding: 0}\n",
              ".list-inline>li {display: inline-block}\n",
              ".list-inline>li:not(:last-child)::after {content: \"\\00b7\"; padding: 0 .5ex}\n",
              "</style>\n",
              "<ol class=list-inline><li>402.26</li><li>391.5</li><li>405.48</li><li>390.3</li><li>400.27</li><li>359.91</li><li>383.48</li><li>402.45</li><li>406.13</li><li>407.99</li><li>411.67</li><li>395.7</li><li>361.94</li><li>352.85</li><li>346.49</li></ol>\n"
            ],
            "text/markdown": "1. 402.26\n2. 391.5\n3. 405.48\n4. 390.3\n5. 400.27\n6. 359.91\n7. 383.48\n8. 402.45\n9. 406.13\n10. 407.99\n11. 411.67\n12. 395.7\n13. 361.94\n14. 352.85\n15. 346.49\n\n\n",
            "text/latex": "\\begin{enumerate*}\n\\item 402.26\n\\item 391.5\n\\item 405.48\n\\item 390.3\n\\item 400.27\n\\item 359.91\n\\item 383.48\n\\item 402.45\n\\item 406.13\n\\item 407.99\n\\item 411.67\n\\item 395.7\n\\item 361.94\n\\item 352.85\n\\item 346.49\n\\end{enumerate*}\n",
            "text/plain": [
              " [1] 402.26 391.50 405.48 390.30 400.27 359.91 383.48 402.45 406.13 407.99\n",
              "[11] 411.67 395.70 361.94 352.85 346.49"
            ]
          },
          "metadata": {}
        }
      ]
    },
    {
      "cell_type": "code",
      "source": [
        "\n",
        "\n",
        "# Predict using SMA\n",
        "sma_pred <- predict(sales_actuals, n.ahead = 1)\n",
        "\n",
        "# Print predicted value for 2019\n",
        "sma_pred"
      ],
      "metadata": {
        "colab": {
          "base_uri": "https://localhost:8080/",
          "height": 130
        },
        "id": "g_7KWNWVuYfz",
        "outputId": "71638d75-e091-477c-afe2-a82a0a90d20b"
      },
      "execution_count": null,
      "outputs": [
        {
          "output_type": "error",
          "ename": "ERROR",
          "evalue": "ignored",
          "traceback": [
            "Error in UseMethod(\"predict\"): no applicable method for 'predict' applied to an object of class \"c('double', 'numeric')\"\nTraceback:\n",
            "1. predict(sales_actuals, n.ahead = 1)"
          ]
        }
      ]
    },
    {
      "cell_type": "code",
      "source": [
        "airfaredf"
      ],
      "metadata": {
        "colab": {
          "base_uri": "https://localhost:8080/",
          "height": 586
        },
        "id": "eiokgbKIvqr2",
        "outputId": "ba9adb05-a1ea-42fd-c74f-3e896ce08829"
      },
      "execution_count": null,
      "outputs": [
        {
          "output_type": "display_data",
          "data": {
            "text/html": [
              "<table class=\"dataframe\">\n",
              "<caption>A data.frame: 15 × 2</caption>\n",
              "<thead>\n",
              "\t<tr><th scope=col>Year</th><th scope=col>Airfare</th></tr>\n",
              "\t<tr><th scope=col>&lt;int&gt;</th><th scope=col>&lt;dbl&gt;</th></tr>\n",
              "</thead>\n",
              "<tbody>\n",
              "\t<tr><td>2004</td><td>402.26</td></tr>\n",
              "\t<tr><td>2005</td><td>391.50</td></tr>\n",
              "\t<tr><td>2006</td><td>405.48</td></tr>\n",
              "\t<tr><td>2007</td><td>390.30</td></tr>\n",
              "\t<tr><td>2008</td><td>400.27</td></tr>\n",
              "\t<tr><td>2009</td><td>359.91</td></tr>\n",
              "\t<tr><td>2010</td><td>383.48</td></tr>\n",
              "\t<tr><td>2011</td><td>402.45</td></tr>\n",
              "\t<tr><td>2012</td><td>406.13</td></tr>\n",
              "\t<tr><td>2013</td><td>407.99</td></tr>\n",
              "\t<tr><td>2014</td><td>411.67</td></tr>\n",
              "\t<tr><td>2015</td><td>395.70</td></tr>\n",
              "\t<tr><td>2016</td><td>361.94</td></tr>\n",
              "\t<tr><td>2017</td><td>352.85</td></tr>\n",
              "\t<tr><td>2018</td><td>346.49</td></tr>\n",
              "</tbody>\n",
              "</table>\n"
            ],
            "text/markdown": "\nA data.frame: 15 × 2\n\n| Year &lt;int&gt; | Airfare &lt;dbl&gt; |\n|---|---|\n| 2004 | 402.26 |\n| 2005 | 391.50 |\n| 2006 | 405.48 |\n| 2007 | 390.30 |\n| 2008 | 400.27 |\n| 2009 | 359.91 |\n| 2010 | 383.48 |\n| 2011 | 402.45 |\n| 2012 | 406.13 |\n| 2013 | 407.99 |\n| 2014 | 411.67 |\n| 2015 | 395.70 |\n| 2016 | 361.94 |\n| 2017 | 352.85 |\n| 2018 | 346.49 |\n\n",
            "text/latex": "A data.frame: 15 × 2\n\\begin{tabular}{ll}\n Year & Airfare\\\\\n <int> & <dbl>\\\\\n\\hline\n\t 2004 & 402.26\\\\\n\t 2005 & 391.50\\\\\n\t 2006 & 405.48\\\\\n\t 2007 & 390.30\\\\\n\t 2008 & 400.27\\\\\n\t 2009 & 359.91\\\\\n\t 2010 & 383.48\\\\\n\t 2011 & 402.45\\\\\n\t 2012 & 406.13\\\\\n\t 2013 & 407.99\\\\\n\t 2014 & 411.67\\\\\n\t 2015 & 395.70\\\\\n\t 2016 & 361.94\\\\\n\t 2017 & 352.85\\\\\n\t 2018 & 346.49\\\\\n\\end{tabular}\n",
            "text/plain": [
              "   Year Airfare\n",
              "1  2004 402.26 \n",
              "2  2005 391.50 \n",
              "3  2006 405.48 \n",
              "4  2007 390.30 \n",
              "5  2008 400.27 \n",
              "6  2009 359.91 \n",
              "7  2010 383.48 \n",
              "8  2011 402.45 \n",
              "9  2012 406.13 \n",
              "10 2013 407.99 \n",
              "11 2014 411.67 \n",
              "12 2015 395.70 \n",
              "13 2016 361.94 \n",
              "14 2017 352.85 \n",
              "15 2018 346.49 "
            ]
          },
          "metadata": {}
        }
      ]
    },
    {
      "cell_type": "code",
      "source": [
        "# Convert airfaredf to a time series object\n",
        "airfare_ts <- ts(airfaredf$Airfare)"
      ],
      "metadata": {
        "id": "b0SrkVypwfIP"
      },
      "execution_count": null,
      "outputs": []
    },
    {
      "cell_type": "code",
      "source": [
        "# Calculate the Simple Moving Average (SMA) with n=3\n",
        "sma3 <- SMA(airfare_ts, n = 3)"
      ],
      "metadata": {
        "id": "2PWLx7X3wVFK"
      },
      "execution_count": null,
      "outputs": []
    },
    {
      "cell_type": "code",
      "source": [
        "# Forecast the 2019 average airfare using the SMA model\n",
        "sma_pred <- forecast(sma3, h = 1)$mean[1]\n",
        "\n",
        "# Print predicted value for 2019\n",
        "sma_pred"
      ],
      "metadata": {
        "colab": {
          "base_uri": "https://localhost:8080/",
          "height": 70
        },
        "id": "Rxg3HrGOZSyq",
        "outputId": "8b11052a-cad4-4077-d21d-aa39d53849b6"
      },
      "execution_count": null,
      "outputs": [
        {
          "output_type": "stream",
          "name": "stderr",
          "text": [
            "Warning message in ets(object, lambda = lambda, biasadj = biasadj, allow.multiplicative.trend = allow.multiplicative.trend, :\n",
            "“Missing values encountered. Using longest contiguous portion of time series”\n"
          ]
        },
        {
          "output_type": "display_data",
          "data": {
            "text/html": [
              "353.761642425417"
            ],
            "text/markdown": "353.761642425417",
            "text/latex": "353.761642425417",
            "text/plain": [
              "[1] 353.7616"
            ]
          },
          "metadata": {}
        }
      ]
    },
    {
      "cell_type": "code",
      "source": [
        "# Simple moving average with n = 3\n",
        "sma3_pred <- SMA(airfaredf$Airfare, n = 3)[-c(1:2)]\n",
        "\n",
        "# Add NA values for years with no forecast\n",
        "sma3_pred <- c(rep(NA, 2), sma3_pred)\n",
        "\n",
        "# Forecast for 2019 using SMA with n = 3\n",
        "sma_pred_2019 <- sma3_pred[19]\n",
        "\n",
        "# Print forecasted value for 2019\n",
        "sma_pred_2019"
      ],
      "metadata": {
        "colab": {
          "base_uri": "https://localhost:8080/",
          "height": 34
        },
        "id": "EzaRCv0_ZSwU",
        "outputId": "62d01523-c7f7-4ae9-e54a-fa6329682fef"
      },
      "execution_count": null,
      "outputs": [
        {
          "output_type": "display_data",
          "data": {
            "text/html": [
              "&lt;NA&gt;"
            ],
            "text/markdown": "&lt;NA&gt;",
            "text/latex": "<NA>",
            "text/plain": [
              "[1] NA"
            ]
          },
          "metadata": {}
        }
      ]
    },
    {
      "cell_type": "code",
      "source": [
        "# Accuracy measures for simple moving average method\n",
        "sma_accuracy <- data.frame(\n",
        "  MAE = mae(sales_actuals, sma3_pred[-17]),\n",
        "  MSE = mse(sales_actuals, sma3_pred[-17]),\n",
        "  RMSE = rmse(sales_actuals, sma3_pred[-17]),\n",
        "  MAPE = mape(sales_actuals, sma3_pred[-17]) * 100\n",
        ")\n",
        "\n",
        "# Print accuracy measures for SMA method\n",
        "sma_accuracy"
      ],
      "metadata": {
        "colab": {
          "base_uri": "https://localhost:8080/",
          "height": 129
        },
        "id": "OYqx5PHMZSuU",
        "outputId": "b0c003e2-d577-48be-ca95-d0b57cf16c2a"
      },
      "execution_count": null,
      "outputs": [
        {
          "output_type": "display_data",
          "data": {
            "text/html": [
              "<table class=\"dataframe\">\n",
              "<caption>A data.frame: 1 × 4</caption>\n",
              "<thead>\n",
              "\t<tr><th scope=col>MAE</th><th scope=col>MSE</th><th scope=col>RMSE</th><th scope=col>MAPE</th></tr>\n",
              "\t<tr><th scope=col>&lt;dbl&gt;</th><th scope=col>&lt;dbl&gt;</th><th scope=col>&lt;dbl&gt;</th><th scope=col>&lt;dbl&gt;</th></tr>\n",
              "</thead>\n",
              "<tbody>\n",
              "\t<tr><td>10.4059</td><td>181.1752</td><td>13.46013</td><td>277.174</td></tr>\n",
              "</tbody>\n",
              "</table>\n"
            ],
            "text/markdown": "\nA data.frame: 1 × 4\n\n| MAE &lt;dbl&gt; | MSE &lt;dbl&gt; | RMSE &lt;dbl&gt; | MAPE &lt;dbl&gt; |\n|---|---|---|---|\n| 10.4059 | 181.1752 | 13.46013 | 277.174 |\n\n",
            "text/latex": "A data.frame: 1 × 4\n\\begin{tabular}{llll}\n MAE & MSE & RMSE & MAPE\\\\\n <dbl> & <dbl> & <dbl> & <dbl>\\\\\n\\hline\n\t 10.4059 & 181.1752 & 13.46013 & 277.174\\\\\n\\end{tabular}\n",
            "text/plain": [
              "  MAE     MSE      RMSE     MAPE   \n",
              "1 10.4059 181.1752 13.46013 277.174"
            ]
          },
          "metadata": {}
        }
      ]
    },
    {
      "cell_type": "code",
      "source": [
        "# Simple exponential smoothing with a smoothing constant of 0.2\n",
        "ses_model <- ses(airfare_ts, alpha = 0.2)\n",
        "\n",
        "# Forecast for 2019 using SES with a smoothing constant of 0.2\n",
        "ses_pred_2019 <- forecast(ses_model, h = 1)$mean[1]\n",
        "\n",
        "# Print forecasted value for 2019\n",
        "round(ses_pred_2019, 2)"
      ],
      "metadata": {
        "colab": {
          "base_uri": "https://localhost:8080/",
          "height": 34
        },
        "id": "varOGnadZybb",
        "outputId": "1557f6ac-cb4e-4497-8445-d5dff6fc9635"
      },
      "execution_count": null,
      "outputs": [
        {
          "output_type": "display_data",
          "data": {
            "text/html": [
              "376.33"
            ],
            "text/markdown": "376.33",
            "text/latex": "376.33",
            "text/plain": [
              "[1] 376.33"
            ]
          },
          "metadata": {}
        }
      ]
    },
    {
      "cell_type": "code",
      "source": [],
      "metadata": {
        "id": "b0z9ZrygZyVe"
      },
      "execution_count": null,
      "outputs": []
    },
    {
      "cell_type": "code",
      "source": [
        "forecast_ts <- ts(rep(NA, 1), start = c(2019), frequency = 1)"
      ],
      "metadata": {
        "id": "08gci4FswWYB"
      },
      "execution_count": null,
      "outputs": []
    },
    {
      "cell_type": "code",
      "source": [
        "install.packages(\"forecast\")"
      ],
      "metadata": {
        "colab": {
          "base_uri": "https://localhost:8080/"
        },
        "id": "IGEhMwdQwpiI",
        "outputId": "d94b7d1d-2960-456d-fb4c-e9b55cdd171f"
      },
      "execution_count": null,
      "outputs": [
        {
          "output_type": "stream",
          "name": "stderr",
          "text": [
            "Installing package into ‘/usr/local/lib/R/site-library’\n",
            "(as ‘lib’ is unspecified)\n",
            "\n",
            "also installing the dependencies ‘quadprog’, ‘quantmod’, ‘fracdiff’, ‘lmtest’, ‘Rcpp’, ‘timeDate’, ‘tseries’, ‘urca’, ‘RcppArmadillo’\n",
            "\n",
            "\n"
          ]
        }
      ]
    },
    {
      "cell_type": "code",
      "source": [
        "library(forecast)"
      ],
      "metadata": {
        "colab": {
          "base_uri": "https://localhost:8080/"
        },
        "id": "rtsPSDHYwtQL",
        "outputId": "3949f456-e8c7-4bc9-94b4-b375b667ffd9"
      },
      "execution_count": null,
      "outputs": [
        {
          "output_type": "stream",
          "name": "stderr",
          "text": [
            "Registered S3 method overwritten by 'quantmod':\n",
            "  method            from\n",
            "  as.zoo.data.frame zoo \n",
            "\n"
          ]
        }
      ]
    },
    {
      "cell_type": "code",
      "source": [
        "# Read data\n",
        "airfaredf <- read.csv(\"airfare.csv\")\n",
        "\n",
        "# Convert airfare to a time series object\n",
        "airfare_ts <- ts(airfaredf$Airfare, start = c(2004), frequency = 1)\n",
        "\n",
        "# Create a Simple Moving Average (SMA) model with n=3\n",
        "sma3 <- ma(airfare_ts, order = 3)\n",
        "\n",
        "# Forecast the 2019 average airfare using the SMA model\n",
        "sma_pred <- forecast(sma3, h = 1)$mean[1]\n",
        "\n",
        "# Print predicted value for 2019\n",
        "sma_pred"
      ],
      "metadata": {
        "colab": {
          "base_uri": "https://localhost:8080/",
          "height": 69
        },
        "id": "txnme7LLuYdu",
        "outputId": "1b9187c8-05dc-4b06-d084-ca9000237684"
      },
      "execution_count": null,
      "outputs": [
        {
          "output_type": "stream",
          "name": "stderr",
          "text": [
            "Warning message in ets(object, lambda = lambda, biasadj = biasadj, allow.multiplicative.trend = allow.multiplicative.trend, :\n",
            "“Missing values encountered. Using longest contiguous portion of time series”\n"
          ]
        },
        {
          "output_type": "display_data",
          "data": {
            "text/html": [
              "353.761642425417"
            ],
            "text/markdown": "353.761642425417",
            "text/latex": "353.761642425417",
            "text/plain": [
              "[1] 353.7616"
            ]
          },
          "metadata": {}
        }
      ]
    },
    {
      "cell_type": "code",
      "source": [
        "# Predict using SMA up to 2018\n",
        "sma_pred_2018 <- sma3[-1]\n",
        "\n",
        "# Calculate accuracy measures for SMA\n",
        "sma_accuracy <- data.frame(\n",
        "  MAE = mae(sales_actuals[-1], sma_pred_2018),\n",
        "  MSE = mse(sales_actuals[-1], sma_pred_2018),\n",
        "  RMSE = rmse(sales_actuals[-1], sma_pred_2018),\n",
        "  MAPE = mape(sales_actuals[-1], sma_pred_2018)*100\n",
        ")"
      ],
      "metadata": {
        "id": "2zikht2vxvzQ"
      },
      "execution_count": null,
      "outputs": []
    },
    {
      "cell_type": "code",
      "source": [
        "# Simple moving average with n = 3\n",
        "sma3_pred <- SMA(airfaredf$Airfare, n = 3)[-c(1:2)]\n",
        "\n",
        "# Add NA values for years with no forecast\n",
        "sma3_pred <- c(rep(NA, 2), sma3_pred)\n",
        "\n",
        "# Accuracy measures for simple moving average method\n",
        "mae(sales_actuals, sma3_pred[-17])\n",
        "mse(sales_actuals, sma3_pred[-17])\n",
        "rmse(sales_actuals, sma3_pred[-17])\n",
        "mape(sales_actuals, sma3_pred[-17])"
      ],
      "metadata": {
        "colab": {
          "base_uri": "https://localhost:8080/",
          "height": 86
        },
        "id": "7AQNiwCex2my",
        "outputId": "6e7621d6-3f6d-4e20-c04a-4e62f31ac38e"
      },
      "execution_count": null,
      "outputs": [
        {
          "output_type": "display_data",
          "data": {
            "text/html": [
              "10.4058974358974"
            ],
            "text/markdown": "10.4058974358974",
            "text/latex": "10.4058974358974",
            "text/plain": [
              "[1] 10.4059"
            ]
          },
          "metadata": {}
        },
        {
          "output_type": "display_data",
          "data": {
            "text/html": [
              "181.175194017094"
            ],
            "text/markdown": "181.175194017094",
            "text/latex": "181.175194017094",
            "text/plain": [
              "[1] 181.1752"
            ]
          },
          "metadata": {}
        },
        {
          "output_type": "display_data",
          "data": {
            "text/html": [
              "13.4601335066594"
            ],
            "text/markdown": "13.4601335066594",
            "text/latex": "13.4601335066594",
            "text/plain": [
              "[1] 13.46013"
            ]
          },
          "metadata": {}
        },
        {
          "output_type": "display_data",
          "data": {
            "text/html": [
              "2.77173973751828"
            ],
            "text/markdown": "2.77173973751828",
            "text/latex": "2.77173973751828",
            "text/plain": [
              "[1] 2.77174"
            ]
          },
          "metadata": {}
        }
      ]
    },
    {
      "cell_type": "code",
      "source": [
        "\n",
        "\n",
        "# Simple exponential smoothing with a smoothing constant of 0.2\n",
        "ses_pred <- ets(airfaredf$Airfare, model = \"AAN\", alpha = 0.2)$fitted[-c(1:16)]\n",
        "ses_pred <- c(rep(NA, 16), ses_pred)\n",
        "\n",
        "# Forecast for 2019 using simple exponential smoothing with a smoothing constant of 0.2\n",
        "ses_pred[19]\n"
      ],
      "metadata": {
        "colab": {
          "base_uri": "https://localhost:8080/",
          "height": 34
        },
        "id": "h2xe1gNTyRiD",
        "outputId": "57f66667-88c1-4983-f90a-166ab310768c"
      },
      "execution_count": null,
      "outputs": [
        {
          "output_type": "display_data",
          "data": {
            "text/html": [
              "&lt;NA&gt;"
            ],
            "text/markdown": "&lt;NA&gt;",
            "text/latex": "<NA>",
            "text/plain": [
              "[1] NA"
            ]
          },
          "metadata": {}
        }
      ]
    },
    {
      "cell_type": "code",
      "source": [
        "ses_pred <- c(rep(NA, 2), ses_pred)"
      ],
      "metadata": {
        "id": "vzaBn-XmySzf"
      },
      "execution_count": null,
      "outputs": []
    },
    {
      "cell_type": "code",
      "source": [
        "# Simple exponential smoothing with a smoothing constant of 0.2\n",
        "ses_pred <- HoltWinters(airfaredf$Airfare[1:16], alpha = 0.2)$fitted\n",
        "ses_pred <- c(rep(NA, 16), ses_pred)\n",
        "\n",
        "# Forecast for 2019 using simple exponential smoothing with a smoothing constant of 0.2\n",
        "ses_pred[19]\n",
        "\n"
      ],
      "metadata": {
        "colab": {
          "base_uri": "https://localhost:8080/",
          "height": 165
        },
        "id": "KYuJb0-1x4oR",
        "outputId": "c7a2c61e-89ba-4210-9284-784669ef01a7"
      },
      "execution_count": null,
      "outputs": [
        {
          "output_type": "error",
          "ename": "ERROR",
          "evalue": "ignored",
          "traceback": [
            "Error in decompose(ts(x[1L:wind], start = start(x), frequency = f), seasonal): time series has no or less than 2 periods\nTraceback:\n",
            "1. HoltWinters(airfaredf$Airfare[1:16], alpha = 0.2)",
            "2. decompose(ts(x[1L:wind], start = start(x), frequency = f), seasonal)",
            "3. stop(\"time series has no or less than 2 periods\")"
          ]
        }
      ]
    },
    {
      "cell_type": "code",
      "source": [
        "# Accuracy measures for simple exponential smoothing with a smoothing constant of 0.2\n",
        "accuracy(HoltWinters(airfaredf$Airfare, alpha = 0.2)$fitted[-c(1:16)], sales_actuals[-c(1:16)])"
      ],
      "metadata": {
        "colab": {
          "base_uri": "https://localhost:8080/",
          "height": 200
        },
        "id": "_fUsYWEGyCs5",
        "outputId": "233c58ee-62f3-47f6-c2a7-904ab9f125b4"
      },
      "execution_count": null,
      "outputs": [
        {
          "output_type": "error",
          "ename": "ERROR",
          "evalue": "ignored",
          "traceback": [
            "Error in decompose(ts(x[1L:wind], start = start(x), frequency = f), seasonal): time series has no or less than 2 periods\nTraceback:\n",
            "1. accuracy(HoltWinters(airfaredf$Airfare, alpha = 0.2)$fitted[-c(1:16)], \n .     sales_actuals[-c(1:16)])",
            "2. HoltWinters(airfaredf$Airfare, alpha = 0.2)",
            "3. decompose(ts(x[1L:wind], start = start(x), frequency = f), seasonal)",
            "4. stop(\"time series has no or less than 2 periods\")"
          ]
        }
      ]
    },
    {
      "cell_type": "markdown",
      "source": [],
      "metadata": {
        "id": "ITcDR1YLMz9u"
      }
    },
    {
      "cell_type": "code",
      "source": [
        "df = pd.read_csv(\"airfare.csv\")\n"
      ],
      "metadata": {
        "colab": {
          "base_uri": "https://localhost:8080/",
          "height": 96
        },
        "id": "XwwwMHC6M0cj",
        "outputId": "93e2cd38-a567-4951-d89a-c387d130c112"
      },
      "execution_count": null,
      "outputs": [
        {
          "output_type": "error",
          "ename": "ERROR",
          "evalue": "ignored",
          "traceback": [
            "Error in pd.read_csv(\"airfare.csv\"): could not find function \"pd.read_csv\"\nTraceback:\n"
          ]
        }
      ]
    },
    {
      "cell_type": "code",
      "source": [
        "# Simple exponential smoothing with a smoothing constant of 0.2\n",
        "\n",
        "library(forecast)\n",
        "\n",
        "ses_model <- ses(airfare_ts, alpha = 0.8)\n",
        "\n",
        "# Forecast for 2019 using simple exponential smoothing with a smoothing constant of 0.2\n",
        "\n",
        "ses_pred <- forecast(ses_model, h = 1)$mean[1]\n",
        "\n",
        "# Print predicted value for 2019\n",
        "\n",
        "round(ses_pred,2)\n"
      ],
      "metadata": {
        "id": "7x64l8d8NA9T",
        "outputId": "dbb138ee-49b7-4a3c-92ca-cbef1b0fce18",
        "colab": {
          "base_uri": "https://localhost:8080/",
          "height": 34
        }
      },
      "execution_count": null,
      "outputs": [
        {
          "output_type": "display_data",
          "data": {
            "text/html": [
              "348.42"
            ],
            "text/markdown": "348.42",
            "text/latex": "348.42",
            "text/plain": [
              "[1] 348.42"
            ]
          },
          "metadata": {}
        }
      ]
    },
    {
      "cell_type": "code",
      "source": [
        "library(forecast)\n",
        "\n",
        "ses_model <- ses(airfare_ts, alpha = 0.2)\n",
        "\n",
        "ses_pred <- forecast(ses_model, h = 1)$mean[1]\n",
        "\n",
        "ses_pred\n"
      ],
      "metadata": {
        "id": "MqZ5kxThUQWy",
        "outputId": "9ce70e3e-4615-4004-dd32-71e053e57dba",
        "colab": {
          "base_uri": "https://localhost:8080/",
          "height": 34
        }
      },
      "execution_count": null,
      "outputs": [
        {
          "output_type": "display_data",
          "data": {
            "text/html": [
              "376.334006798013"
            ],
            "text/markdown": "376.334006798013",
            "text/latex": "376.334006798013",
            "text/plain": [
              "[1] 376.334"
            ]
          },
          "metadata": {}
        }
      ]
    },
    {
      "cell_type": "code",
      "source": [
        "df = pd.read_csv(\"airfare.csv\")\n",
        "df[\"Quarter\"] = pd.to_datetime(df[\"Quarter\"])\n",
        "df.set_index(\"Quarter\", inplace=True)\n",
        "rolling_mean = df[\"Average Fare\"].rolling(window=3).mean()\n",
        "last_three = rolling_mean[-3:]\n",
        "forecast = last_three.mean()\n",
        "print(\"2019 forecast for average airfare:\", forecast)\n",
        "\n",
        "# Calculate the forecast errors for the simple moving average method\n",
        "forecast_errors = df[\"Average fare\"] - df[\"Rolling mean\"]\n",
        "\n",
        "# Calculate the absolute forecast errors\n",
        "abs_forecast_errors = abs(forecast_errors)\n",
        "\n",
        "# Calculate the mean absolute error (MAE)\n",
        "mae = abs_forecast_errors.mean()\n",
        "\n",
        "# Calculate the mean squared error (MSE)\n",
        "mse = (forecast_errors ** 2).mean()\n",
        "\n",
        "# Calculate the root mean squared error (RMSE)\n",
        "rmse = mse ** 0.5\n",
        "\n",
        "# Calculate the mean absolute percentage error (MAPE)\n",
        "mape = (abs_forecast_errors / df[\"Average fare\"]).mean() * 100\n",
        "\n",
        "# Print the accuracy measures\n",
        "print(\"Accuracy measures for the simple moving average method:\")\n",
        "print(\"MAE:\", round(mae, 2))\n",
        "print(\"MSE:\", round(mse, 2))\n",
        "print(\"RMSE:\", round(rmse, 2))\n",
        "print(\"MAPE:\", round(mape, 2), \"%\")\n",
        "\n",
        "import statsmodels.api as sm\n",
        "\n",
        "# Create a SimpleExpSmoothing object with a smoothing constant of 0.2\n",
        "ses = sm.tsa.SimpleExpSmoothing(df[\"Average fare\"])\n",
        "\n",
        "# Fit the SimpleExpSmoothing object to the data\n",
        "ses_fit = ses.fit()\n",
        "\n",
        "# Forecast the average airfare for 2019\n",
        "forecast_2019 = ses_fit.forecast(1)\n",
        "\n",
        "# Print the forecast value\n",
        "print(\"The 2019 forecast for average airfare using simple exponential smoothing with a smoothing constant of 0.2 is:\", round(forecast_2019[0], 2))\n"
      ],
      "metadata": {
        "id": "NpZycP9vQISf"
      },
      "execution_count": null,
      "outputs": []
    },
    {
      "cell_type": "markdown",
      "source": [],
      "metadata": {
        "id": "8HWcmAxmb2YN"
      }
    },
    {
      "cell_type": "code",
      "source": [
        "# Forecast the 2019 average airfare using the SMA model\n",
        "sma_pred <- forecast(sma3, h = 1)$mean[1]\n",
        "\n",
        "# Print predicted value for 2019\n",
        "sma_pred"
      ],
      "metadata": {
        "colab": {
          "base_uri": "https://localhost:8080/",
          "height": 70
        },
        "id": "IaxOyaI7b2qc",
        "outputId": "b4121880-8adb-4ca5-c2c6-3d326b32d122"
      },
      "execution_count": null,
      "outputs": [
        {
          "output_type": "stream",
          "name": "stderr",
          "text": [
            "Warning message in ets(object, lambda = lambda, biasadj = biasadj, allow.multiplicative.trend = allow.multiplicative.trend, :\n",
            "“Missing values encountered. Using longest contiguous portion of time series”\n"
          ]
        },
        {
          "output_type": "display_data",
          "data": {
            "text/html": [
              "353.761642425417"
            ],
            "text/markdown": "353.761642425417",
            "text/latex": "353.761642425417",
            "text/plain": [
              "[1] 353.7616"
            ]
          },
          "metadata": {}
        }
      ]
    },
    {
      "cell_type": "code",
      "source": [
        "# Simple moving average with n = 3\n",
        "sma3_pred <- SMA(airfaredf$Airfare, n = 3)[-c(1:2)]\n",
        "\n",
        "# Add NA values for years with no forecast\n",
        "sma3_pred <- c(rep(NA, 2), sma3_pred)\n",
        "\n",
        "# Forecast for 2019 using SMA with n = 3\n",
        "sma_pred_2019 <- sma3_pred[19]\n",
        "\n",
        "# Print forecasted value for 2019\n",
        "sma_pred_2019\n"
      ],
      "metadata": {
        "colab": {
          "base_uri": "https://localhost:8080/",
          "height": 34
        },
        "id": "1eeEpQt2cAoO",
        "outputId": "7529b55a-d0d7-48d9-d636-2d6d922c6df8"
      },
      "execution_count": null,
      "outputs": [
        {
          "output_type": "display_data",
          "data": {
            "text/html": [
              "&lt;NA&gt;"
            ],
            "text/markdown": "&lt;NA&gt;",
            "text/latex": "<NA>",
            "text/plain": [
              "[1] NA"
            ]
          },
          "metadata": {}
        }
      ]
    },
    {
      "cell_type": "code",
      "source": [
        "# Accuracy measures for simple moving average method\n",
        "sma_accuracy <- data.frame(\n",
        "  MAE = mae(sales_actuals, sma3_pred[-17]),\n",
        "  MSE = mse(sales_actuals, sma3_pred[-17]),\n",
        "  RMSE = rmse(sales_actuals, sma3_pred[-17]),\n",
        "  MAPE = mape(sales_actuals, sma3_pred[-17]) * 100\n",
        ")\n",
        "\n",
        "# Print accuracy measures for SMA method\n",
        "sma_accuracy\n"
      ],
      "metadata": {
        "colab": {
          "base_uri": "https://localhost:8080/",
          "height": 129
        },
        "id": "4sVCmz4acDsZ",
        "outputId": "eb336886-c49c-432d-b833-c44747358729"
      },
      "execution_count": null,
      "outputs": [
        {
          "output_type": "display_data",
          "data": {
            "text/html": [
              "<table class=\"dataframe\">\n",
              "<caption>A data.frame: 1 × 4</caption>\n",
              "<thead>\n",
              "\t<tr><th scope=col>MAE</th><th scope=col>MSE</th><th scope=col>RMSE</th><th scope=col>MAPE</th></tr>\n",
              "\t<tr><th scope=col>&lt;dbl&gt;</th><th scope=col>&lt;dbl&gt;</th><th scope=col>&lt;dbl&gt;</th><th scope=col>&lt;dbl&gt;</th></tr>\n",
              "</thead>\n",
              "<tbody>\n",
              "\t<tr><td>10.4059</td><td>181.1752</td><td>13.46013</td><td>277.174</td></tr>\n",
              "</tbody>\n",
              "</table>\n"
            ],
            "text/markdown": "\nA data.frame: 1 × 4\n\n| MAE &lt;dbl&gt; | MSE &lt;dbl&gt; | RMSE &lt;dbl&gt; | MAPE &lt;dbl&gt; |\n|---|---|---|---|\n| 10.4059 | 181.1752 | 13.46013 | 277.174 |\n\n",
            "text/latex": "A data.frame: 1 × 4\n\\begin{tabular}{llll}\n MAE & MSE & RMSE & MAPE\\\\\n <dbl> & <dbl> & <dbl> & <dbl>\\\\\n\\hline\n\t 10.4059 & 181.1752 & 13.46013 & 277.174\\\\\n\\end{tabular}\n",
            "text/plain": [
              "  MAE     MSE      RMSE     MAPE   \n",
              "1 10.4059 181.1752 13.46013 277.174"
            ]
          },
          "metadata": {}
        }
      ]
    },
    {
      "cell_type": "markdown",
      "source": [],
      "metadata": {
        "id": "96427yxMceBv"
      }
    },
    {
      "cell_type": "code",
      "source": [],
      "metadata": {
        "id": "oxJSpJtPceZv"
      },
      "execution_count": null,
      "outputs": []
    },
    {
      "cell_type": "code",
      "source": [
        "\n",
        "\n"
      ],
      "metadata": {
        "id": "XfoCRrk5chNF"
      },
      "execution_count": null,
      "outputs": []
    },
    {
      "cell_type": "code",
      "source": [],
      "metadata": {
        "colab": {
          "base_uri": "https://localhost:8080/",
          "height": 34
        },
        "id": "v2kdunpaclRR",
        "outputId": "6be2a473-fed1-43e7-94a8-b5fcdf3a3dc0"
      },
      "execution_count": null,
      "outputs": [
        {
          "output_type": "display_data",
          "data": {
            "text/html": [
              "72.07"
            ],
            "text/markdown": "72.07",
            "text/latex": "72.07",
            "text/plain": [
              "[1] 72.07"
            ]
          },
          "metadata": {}
        }
      ]
    },
    {
      "cell_type": "code",
      "source": [
        "musicdf <- read.csv(\"warner_music.csv\")\n",
        "# Step 2: Linear regression to model ONLY the trend\n",
        "# Create a time index variable\n",
        "musicdf$Time_Index <- 1:nrow(musicdf)\n",
        "\n",
        "# Fit a linear regression model to the data\n",
        "trend_model <- lm(Revenue ~ Time_Index, data = musicdf)\n",
        "# Step 3: Calculate accuracy measures for predicted values based on the regression in (2)\n",
        "# Use the fitted model to predict the values of revenue for each quarter\n",
        "predicted_values <- predict(trend_model)\n",
        "\n",
        "# Calculate the RMSE between the predicted and actual values\n",
        "RMSE <- sqrt(mean((predicted_values - musicdf$Revenue)^2))\n",
        "round(RMSE,2)\n",
        "# Step 4: Linear regression to model both the trend and the seasonality\n",
        "# Add a column for quarter\n",
        "musicdf$Quarter_Number <- as.numeric(gsub(\"Q\", \"\", musicdf$Quarter))\n",
        "\n",
        "# Choose Q4 as the reference quarter, as it tends to show the highest revenues each year\n",
        "musicdf$Reference_Quarter <- ifelse(musicdf$Quarter_Number == 4, 1, 0)\n",
        "\n",
        "# Fit a linear regression model to the data\n",
        "seasonal_model <- lm(Revenue ~ Time_Index + Reference_Quarter, data = musicdf)\n",
        "# Step 5: Calculate accuracy measures for predicted values based on the regression in (4)\n",
        "# Use the fitted model to predict the values of revenue for each quarter\n",
        "predicted_values_seasonal <- predict(seasonal_model)\n",
        "\n",
        "# Calculate the RMSE between the predicted and actual values\n",
        "RMSE_seasonal <- sqrt(mean((predicted_values_seasonal - musicdf$Revenue)^2))\n",
        "# Forecast Q1, Q2, Q3, and Q4 revenues for 2022 using the seasonal model\n",
        "# Create a data frame with the time index and reference quarter for each quarter of 2022\n",
        "quarters_2022 <- data.frame(Time_Index = 29:32, Reference_Quarter = c(0, 0, 0, 1))\n",
        "predicted_values_2022 <- predict(seasonal_model, newdata = quarters_2022)\n",
        "\n",
        "# View the predicted revenues for each quarter of 2022\n",
        "predicted_values_2022"
      ],
      "metadata": {
        "colab": {
          "base_uri": "https://localhost:8080/",
          "height": 88
        },
        "id": "ggXSN1xFdMck",
        "outputId": "705f9f55-8cca-4dde-f4e5-000d6cf6330b"
      },
      "execution_count": null,
      "outputs": [
        {
          "output_type": "display_data",
          "data": {
            "text/html": [
              "72.07"
            ],
            "text/markdown": "72.07",
            "text/latex": "72.07",
            "text/plain": [
              "[1] 72.07"
            ]
          },
          "metadata": {}
        },
        {
          "output_type": "stream",
          "name": "stderr",
          "text": [
            "Warning message in predict.lm(seasonal_model, newdata = quarters_2022):\n",
            "“prediction from a rank-deficient fit may be misleading”\n"
          ]
        },
        {
          "output_type": "display_data",
          "data": {
            "text/html": [
              "<style>\n",
              ".dl-inline {width: auto; margin:0; padding: 0}\n",
              ".dl-inline>dt, .dl-inline>dd {float: none; width: auto; display: inline-block}\n",
              ".dl-inline>dt::after {content: \":\\0020\"; padding-right: .5ex}\n",
              ".dl-inline>dt:not(:first-of-type) {padding-left: .5ex}\n",
              "</style><dl class=dl-inline><dt>1</dt><dd>1403.68</dd><dt>2</dt><dd>1426.87</dd><dt>3</dt><dd>1450.06</dd><dt>4</dt><dd>1473.25</dd></dl>\n"
            ],
            "text/markdown": "1\n:   1403.682\n:   1426.873\n:   1450.064\n:   1473.25\n\n",
            "text/latex": "\\begin{description*}\n\\item[1] 1403.68\n\\item[2] 1426.87\n\\item[3] 1450.06\n\\item[4] 1473.25\n\\end{description*}\n",
            "text/plain": [
              "      1       2       3       4 \n",
              "1403.68 1426.87 1450.06 1473.25 "
            ]
          },
          "metadata": {}
        }
      ]
    },
    {
      "cell_type": "code",
      "source": [],
      "metadata": {
        "id": "8NM5zSLjdby9"
      },
      "execution_count": null,
      "outputs": []
    },
    {
      "cell_type": "code",
      "source": [],
      "metadata": {
        "id": "5eoiLCMtddbT"
      },
      "execution_count": null,
      "outputs": []
    }
  ],
  "metadata": {
    "colab": {
      "provenance": [],
      "authorship_tag": "ABX9TyNRlvmMqkuep6lYO43nvQ+7",
      "include_colab_link": true
    },
    "kernelspec": {
      "display_name": "R",
      "name": "ir"
    },
    "language_info": {
      "name": "R"
    }
  },
  "nbformat": 4,
  "nbformat_minor": 0
}